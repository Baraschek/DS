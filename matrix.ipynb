{
 "cells": [
  {
   "cell_type": "markdown",
   "metadata": {
    "toc": true
   },
   "source": [
    "<h1>Содержание<span class=\"tocSkip\"></span></h1>\n",
    "<div class=\"toc\"><ul class=\"toc-item\"><li><span><a href=\"#Загрузка-данных\" data-toc-modified-id=\"Загрузка-данных-1\"><span class=\"toc-item-num\">1&nbsp;&nbsp;</span>Загрузка данных</a></span></li><li><span><a href=\"#Умножение-матриц\" data-toc-modified-id=\"Умножение-матриц-2\"><span class=\"toc-item-num\">2&nbsp;&nbsp;</span>Умножение матриц</a></span></li><li><span><a href=\"#Алгоритм-преобразования\" data-toc-modified-id=\"Алгоритм-преобразования-3\"><span class=\"toc-item-num\">3&nbsp;&nbsp;</span>Алгоритм преобразования</a></span></li><li><span><a href=\"#Проверка-алгоритма\" data-toc-modified-id=\"Проверка-алгоритма-4\"><span class=\"toc-item-num\">4&nbsp;&nbsp;</span>Проверка алгоритма</a></span></li><li><span><a href=\"#Чек-лист-проверки\" data-toc-modified-id=\"Чек-лист-проверки-5\"><span class=\"toc-item-num\">5&nbsp;&nbsp;</span>Чек-лист проверки</a></span></li></ul></div>"
   ]
  },
  {
   "cell_type": "markdown",
   "metadata": {},
   "source": [
    "# Защита персональных данных клиентов"
   ]
  },
  {
   "cell_type": "markdown",
   "metadata": {},
   "source": [
    "Вам нужно защитить данные клиентов страховой компании «Хоть потоп». Разработайте такой метод преобразования данных, чтобы по ним было сложно восстановить персональную информацию. Обоснуйте корректность его работы.\n",
    "\n",
    "Нужно защитить данные, чтобы при преобразовании качество моделей машинного обучения не ухудшилось. Подбирать наилучшую модель не требуется.\n",
    "\n",
    "Из чего состоит датасет:\n",
    "\n",
    "- Признаки: пол, возраст, зарплата застрахованного, количество членов семьи.\n",
    "\n",
    "- Целевой признак: количество страховых выплат клиенту за последние 5 лет."
   ]
  },
  {
   "cell_type": "markdown",
   "metadata": {},
   "source": [
    "## Загрузка данных"
   ]
  },
  {
   "cell_type": "code",
   "execution_count": 1,
   "metadata": {},
   "outputs": [],
   "source": [
    "import pandas as pd\n",
    "import numpy as np\n",
    "\n",
    "from sklearn.model_selection import train_test_split\n",
    "from sklearn.linear_model import LinearRegression\n",
    "from sklearn.metrics import r2_score"
   ]
  },
  {
   "cell_type": "code",
   "execution_count": 2,
   "metadata": {},
   "outputs": [
    {
     "data": {
      "text/html": [
       "<div>\n",
       "<style scoped>\n",
       "    .dataframe tbody tr th:only-of-type {\n",
       "        vertical-align: middle;\n",
       "    }\n",
       "\n",
       "    .dataframe tbody tr th {\n",
       "        vertical-align: top;\n",
       "    }\n",
       "\n",
       "    .dataframe thead th {\n",
       "        text-align: right;\n",
       "    }\n",
       "</style>\n",
       "<table border=\"1\" class=\"dataframe\">\n",
       "  <thead>\n",
       "    <tr style=\"text-align: right;\">\n",
       "      <th></th>\n",
       "      <th>Пол</th>\n",
       "      <th>Возраст</th>\n",
       "      <th>Зарплата</th>\n",
       "      <th>Члены семьи</th>\n",
       "      <th>Страховые выплаты</th>\n",
       "    </tr>\n",
       "  </thead>\n",
       "  <tbody>\n",
       "    <tr>\n",
       "      <th>0</th>\n",
       "      <td>1</td>\n",
       "      <td>41.0</td>\n",
       "      <td>49600.0</td>\n",
       "      <td>1</td>\n",
       "      <td>0</td>\n",
       "    </tr>\n",
       "    <tr>\n",
       "      <th>1</th>\n",
       "      <td>0</td>\n",
       "      <td>46.0</td>\n",
       "      <td>38000.0</td>\n",
       "      <td>1</td>\n",
       "      <td>1</td>\n",
       "    </tr>\n",
       "    <tr>\n",
       "      <th>2</th>\n",
       "      <td>0</td>\n",
       "      <td>29.0</td>\n",
       "      <td>21000.0</td>\n",
       "      <td>0</td>\n",
       "      <td>0</td>\n",
       "    </tr>\n",
       "    <tr>\n",
       "      <th>3</th>\n",
       "      <td>0</td>\n",
       "      <td>21.0</td>\n",
       "      <td>41700.0</td>\n",
       "      <td>2</td>\n",
       "      <td>0</td>\n",
       "    </tr>\n",
       "    <tr>\n",
       "      <th>4</th>\n",
       "      <td>1</td>\n",
       "      <td>28.0</td>\n",
       "      <td>26100.0</td>\n",
       "      <td>0</td>\n",
       "      <td>0</td>\n",
       "    </tr>\n",
       "  </tbody>\n",
       "</table>\n",
       "</div>"
      ],
      "text/plain": [
       "   Пол  Возраст  Зарплата  Члены семьи  Страховые выплаты\n",
       "0    1     41.0   49600.0            1                  0\n",
       "1    0     46.0   38000.0            1                  1\n",
       "2    0     29.0   21000.0            0                  0\n",
       "3    0     21.0   41700.0            2                  0\n",
       "4    1     28.0   26100.0            0                  0"
      ]
     },
     "execution_count": 2,
     "metadata": {},
     "output_type": "execute_result"
    }
   ],
   "source": [
    "data = pd.read_csv('/datasets/insurance.csv')\n",
    "data.head()"
   ]
  },
  {
   "cell_type": "code",
   "execution_count": 3,
   "metadata": {
    "scrolled": true
   },
   "outputs": [
    {
     "name": "stdout",
     "output_type": "stream",
     "text": [
      "<class 'pandas.core.frame.DataFrame'>\n",
      "RangeIndex: 5000 entries, 0 to 4999\n",
      "Data columns (total 5 columns):\n",
      " #   Column             Non-Null Count  Dtype  \n",
      "---  ------             --------------  -----  \n",
      " 0   Пол                5000 non-null   int64  \n",
      " 1   Возраст            5000 non-null   float64\n",
      " 2   Зарплата           5000 non-null   float64\n",
      " 3   Члены семьи        5000 non-null   int64  \n",
      " 4   Страховые выплаты  5000 non-null   int64  \n",
      "dtypes: float64(2), int64(3)\n",
      "memory usage: 195.4 KB\n"
     ]
    }
   ],
   "source": [
    "data.info()"
   ]
  },
  {
   "cell_type": "markdown",
   "metadata": {},
   "source": [
    "На первый взгляд тип у столбцов \"Пол\" (это должен быть булевый тип) и \"Возраст\" (в большинстве случаев люди указывают возраст целиком, а не дробно) неверные, нужно их изменить. В остальном же всё нормально, даже пропуски отсутствуют."
   ]
  },
  {
   "cell_type": "code",
   "execution_count": 4,
   "metadata": {},
   "outputs": [],
   "source": [
    "data['Возраст'] = data['Возраст'].astype('int64')\n",
    "data['Пол'] = data['Пол'].astype('bool')"
   ]
  },
  {
   "cell_type": "markdown",
   "metadata": {},
   "source": [
    "## Умножение матриц"
   ]
  },
  {
   "cell_type": "markdown",
   "metadata": {},
   "source": [
    "Обозначения:\n",
    "\n",
    "- $X$ — матрица признаков (нулевой столбец состоит из единиц)\n",
    "\n",
    "- $y$ — вектор целевого признака\n",
    "\n",
    "- $P$ — матрица, на которую умножаются признаки\n",
    "\n",
    "- $w$ — вектор весов линейной регрессии (нулевой элемент равен сдвигу)"
   ]
  },
  {
   "cell_type": "markdown",
   "metadata": {},
   "source": [
    "Предсказания:\n",
    "\n",
    "$$\n",
    "a = Xw\n",
    "$$\n",
    "\n",
    "Задача обучения:\n",
    "\n",
    "$$\n",
    "w = \\arg\\min_w MSE(Xw, y)\n",
    "$$\n",
    "\n",
    "Формула обучения:\n",
    "\n",
    "$$\n",
    "w = (X^T X)^{-1} X^T y\n",
    "$$\n",
    "\n",
    "Посмотрим как будут выглядеть предсказания в исходной задаче:\n",
    "\n",
    "$$\n",
    "a = Xw = X(X^T X)^{-1}X^Ty\n",
    "$$"
   ]
  },
  {
   "cell_type": "markdown",
   "metadata": {},
   "source": [
    "**Ответ:** Качество линейной регрессии не изменится\n",
    "\n",
    "**Обоснование:** \n"
   ]
  },
  {
   "cell_type": "markdown",
   "metadata": {},
   "source": [
    "- Умножим матрицу признаков X на матрицу Р и получим:\n",
    "$$\n",
    "w = (XP)P^{-1}w = (XP)w'\n",
    "$$\n",
    "\n",
    "$$\n",
    "w' = ((XP)^T XP)^{-1} (XP)^T y\n",
    "$$\n",
    "\n",
    "$$\n",
    "w' = (P^T (X^T X) P)^{-1} (XP)^T y\n",
    "$$\n",
    "\n",
    "$$\n",
    "w' = P^{-1}(X^T X)^{-1}(P^T)^{-1}P^TX^Ty\n",
    "$$\n",
    "\n",
    "$$\n",
    "w' = P^{-1}(X^T X)^{-1}X^Ty\n",
    "$$\n",
    "\n",
    "- Теперь подставим w в а:\n",
    "$$\n",
    "a = XPw = XPP^{-1}(X^T X)^{-1}X^Ty = X(X^T X)^{-1}X^Ty\n",
    "$$"
   ]
  },
  {
   "cell_type": "markdown",
   "metadata": {},
   "source": [
    "## Алгоритм преобразования"
   ]
  },
  {
   "cell_type": "markdown",
   "metadata": {},
   "source": [
    "**Алгоритм**\n",
    "1. Возьмем случайно сгенерированную матрицу $P$ размера $n*n$, определим $n$ по числу признаков в $X-1$;\n",
    "2. Проверим существование обратной матрицы $P$;\n",
    "3. Если обратная матрица существует, то умножим исходную матрицу $X$ на матрицу $P$.\n",
    "4. Для проверки определим метрику R2, и сравним результат на оригинальном и преобразованном датасетах."
   ]
  },
  {
   "cell_type": "markdown",
   "metadata": {},
   "source": [
    "**Обоснование**\n",
    "\n",
    "Согласно доказательству выше, при умножении матрицы признаков $X$ на произвольную, обратимую матрицу $P$, качество линейной регрессии останется неизменным."
   ]
  },
  {
   "cell_type": "code",
   "execution_count": 5,
   "metadata": {},
   "outputs": [],
   "source": [
    "def transformation(data, target, seed=88):\n",
    "    \n",
    "    np.random.seed(seed)\n",
    "    n = data.shape[1] - 1\n",
    "    \n",
    "    try:\n",
    "        P = np.random.normal(size=(n, n))\n",
    "        np.linalg.inv(P)\n",
    "    except:\n",
    "        P = np.random.normal(size=(n, n))\n",
    "        np.linalg.inv(P)\n",
    "    \n",
    "    select = data.drop(target, axis=1).columns\n",
    "    \n",
    "    data[select] = data[select] @ P\n",
    "    \n",
    "    return data"
   ]
  },
  {
   "cell_type": "markdown",
   "metadata": {},
   "source": [
    "## Проверка алгоритма"
   ]
  },
  {
   "cell_type": "code",
   "execution_count": 6,
   "metadata": {},
   "outputs": [],
   "source": [
    "def ml_run(data, target, secret=False):\n",
    "    \n",
    "    if secret:\n",
    "        X = transformation(data, target).drop(target, axis=1)\n",
    "    else:\n",
    "        X = data.drop(target, axis=1)\n",
    "        \n",
    "    y = data[target]\n",
    "    \n",
    "    X_train, X_test, y_train, y_test = train_test_split(X, y, test_size=0.25, random_state=42)\n",
    " \n",
    "    model = LinearRegression()\n",
    "    model.fit(X_train, y_train)\n",
    "    prediction = model.predict(X_test)\n",
    "    \n",
    "    return r2_score(y_test, prediction)"
   ]
  },
  {
   "cell_type": "code",
   "execution_count": 7,
   "metadata": {},
   "outputs": [
    {
     "name": "stdout",
     "output_type": "stream",
     "text": [
      "R2 метрика для оригинальной матрицы: 0.42548\n",
      "R2 метрика для преобразованой матрицы: 0.42548\n"
     ]
    }
   ],
   "source": [
    "target = 'Страховые выплаты'\n",
    "\n",
    "print(f'R2 метрика для оригинальной матрицы: {ml_run(data, target, secret=False):.5f}')\n",
    "print(f'R2 метрика для преобразованой матрицы: {ml_run(data, target, secret=True):.5f}')"
   ]
  },
  {
   "cell_type": "markdown",
   "metadata": {},
   "source": [
    "Качество линейной регресии не изменилось, значит мы смогли доказать, что при умножении матрицы признаков $X$ на произвольную, обратимую матрицу $P$, качество линейной регрессии останется неизменным."
   ]
  }
 ],
 "metadata": {
  "ExecuteTimeLog": [
   {
    "duration": 435,
    "start_time": "2023-04-21T12:22:41.890Z"
   },
   {
    "duration": 98,
    "start_time": "2023-04-21T12:22:42.367Z"
   },
   {
    "duration": 90,
    "start_time": "2023-04-21T12:23:48.238Z"
   },
   {
    "duration": 7,
    "start_time": "2023-04-21T12:24:12.310Z"
   },
   {
    "duration": 5,
    "start_time": "2023-04-21T12:24:19.417Z"
   },
   {
    "duration": 6,
    "start_time": "2023-04-21T12:24:42.415Z"
   },
   {
    "duration": 11,
    "start_time": "2023-04-21T12:27:43.171Z"
   },
   {
    "duration": 6,
    "start_time": "2023-04-21T12:27:51.356Z"
   },
   {
    "duration": 37,
    "start_time": "2023-04-21T12:30:16.134Z"
   },
   {
    "duration": 11,
    "start_time": "2023-04-21T12:30:23.376Z"
   },
   {
    "duration": 38,
    "start_time": "2023-04-21T12:30:33.469Z"
   },
   {
    "duration": 4,
    "start_time": "2023-04-21T12:31:33.274Z"
   },
   {
    "duration": 11,
    "start_time": "2023-04-21T12:31:35.798Z"
   },
   {
    "duration": 34,
    "start_time": "2023-04-21T12:31:54.002Z"
   },
   {
    "duration": 4,
    "start_time": "2023-04-21T12:32:08.804Z"
   },
   {
    "duration": 42,
    "start_time": "2023-04-21T12:32:11.174Z"
   },
   {
    "duration": 8,
    "start_time": "2023-04-21T12:32:35.624Z"
   },
   {
    "duration": 3,
    "start_time": "2023-04-21T12:33:47.327Z"
   },
   {
    "duration": 4,
    "start_time": "2023-04-21T12:34:03.004Z"
   },
   {
    "duration": 4,
    "start_time": "2023-04-21T12:34:16.906Z"
   },
   {
    "duration": 8,
    "start_time": "2023-04-21T12:34:45.644Z"
   },
   {
    "duration": 6,
    "start_time": "2023-04-21T12:45:35.106Z"
   },
   {
    "duration": 12,
    "start_time": "2023-04-21T12:45:43.004Z"
   },
   {
    "duration": 7,
    "start_time": "2023-04-21T12:45:50.205Z"
   },
   {
    "duration": 7,
    "start_time": "2023-04-21T12:46:08.696Z"
   },
   {
    "duration": 9,
    "start_time": "2023-04-21T12:46:13.858Z"
   },
   {
    "duration": 4,
    "start_time": "2023-04-21T12:46:22.403Z"
   },
   {
    "duration": 9,
    "start_time": "2023-04-21T12:46:54.723Z"
   },
   {
    "duration": 4,
    "start_time": "2023-04-21T12:46:59.843Z"
   },
   {
    "duration": 358,
    "start_time": "2023-04-21T12:48:02.736Z"
   },
   {
    "duration": 39,
    "start_time": "2023-04-21T12:48:03.096Z"
   },
   {
    "duration": 11,
    "start_time": "2023-04-21T12:48:03.137Z"
   },
   {
    "duration": 4,
    "start_time": "2023-04-21T12:48:03.149Z"
   },
   {
    "duration": 7,
    "start_time": "2023-04-21T12:48:03.155Z"
   },
   {
    "duration": 11,
    "start_time": "2023-04-21T12:48:03.164Z"
   },
   {
    "duration": 4,
    "start_time": "2023-04-21T12:48:27.876Z"
   },
   {
    "duration": 3,
    "start_time": "2023-04-21T12:48:36.626Z"
   },
   {
    "duration": 396,
    "start_time": "2023-04-21T12:49:18.584Z"
   },
   {
    "duration": 39,
    "start_time": "2023-04-21T12:49:18.982Z"
   },
   {
    "duration": 10,
    "start_time": "2023-04-21T12:49:19.022Z"
   },
   {
    "duration": 5,
    "start_time": "2023-04-21T12:49:19.034Z"
   },
   {
    "duration": 5,
    "start_time": "2023-04-21T12:49:19.041Z"
   },
   {
    "duration": 5,
    "start_time": "2023-04-21T12:49:19.047Z"
   },
   {
    "duration": 4,
    "start_time": "2023-04-21T12:49:19.053Z"
   },
   {
    "duration": 69,
    "start_time": "2023-04-21T12:49:38.336Z"
   },
   {
    "duration": 13,
    "start_time": "2023-04-21T12:49:41.554Z"
   },
   {
    "duration": 6,
    "start_time": "2023-04-21T12:49:50.243Z"
   },
   {
    "duration": 3,
    "start_time": "2023-04-21T12:49:50.915Z"
   },
   {
    "duration": 45,
    "start_time": "2023-04-21T15:34:19.214Z"
   },
   {
    "duration": 1073,
    "start_time": "2023-04-21T15:34:22.719Z"
   },
   {
    "duration": 159,
    "start_time": "2023-04-21T15:34:23.794Z"
   },
   {
    "duration": 10,
    "start_time": "2023-04-21T15:34:23.955Z"
   },
   {
    "duration": 5,
    "start_time": "2023-04-21T15:34:24.231Z"
   },
   {
    "duration": 7,
    "start_time": "2023-04-21T15:34:25.422Z"
   },
   {
    "duration": 7,
    "start_time": "2023-04-21T15:34:26.013Z"
   },
   {
    "duration": 3,
    "start_time": "2023-04-21T15:34:26.981Z"
   },
   {
    "duration": 1074,
    "start_time": "2023-04-21T15:38:32.280Z"
   },
   {
    "duration": 43,
    "start_time": "2023-04-21T15:38:33.356Z"
   },
   {
    "duration": 15,
    "start_time": "2023-04-21T15:38:33.403Z"
   },
   {
    "duration": 13,
    "start_time": "2023-04-21T15:38:33.423Z"
   },
   {
    "duration": 22,
    "start_time": "2023-04-21T15:38:33.437Z"
   },
   {
    "duration": 7,
    "start_time": "2023-04-21T15:38:33.461Z"
   },
   {
    "duration": 14,
    "start_time": "2023-04-21T15:38:33.469Z"
   },
   {
    "duration": 258,
    "start_time": "2023-04-21T15:38:33.484Z"
   },
   {
    "duration": 1020,
    "start_time": "2023-04-21T15:39:22.869Z"
   },
   {
    "duration": 47,
    "start_time": "2023-04-21T15:39:23.891Z"
   },
   {
    "duration": 10,
    "start_time": "2023-04-21T15:39:23.939Z"
   },
   {
    "duration": 15,
    "start_time": "2023-04-21T15:39:23.950Z"
   },
   {
    "duration": 17,
    "start_time": "2023-04-21T15:39:23.967Z"
   },
   {
    "duration": 26,
    "start_time": "2023-04-21T15:39:23.985Z"
   },
   {
    "duration": 19,
    "start_time": "2023-04-21T15:39:24.013Z"
   },
   {
    "duration": 30,
    "start_time": "2023-04-21T15:39:24.034Z"
   },
   {
    "duration": 1229,
    "start_time": "2023-04-21T15:41:43.771Z"
   },
   {
    "duration": 56,
    "start_time": "2023-04-21T15:41:45.006Z"
   },
   {
    "duration": 12,
    "start_time": "2023-04-21T15:41:45.064Z"
   },
   {
    "duration": 11,
    "start_time": "2023-04-21T15:41:45.077Z"
   },
   {
    "duration": 18,
    "start_time": "2023-04-21T15:41:45.091Z"
   },
   {
    "duration": 11,
    "start_time": "2023-04-21T15:41:45.112Z"
   },
   {
    "duration": 12,
    "start_time": "2023-04-21T15:41:45.125Z"
   },
   {
    "duration": 75,
    "start_time": "2023-04-21T15:41:45.139Z"
   },
   {
    "duration": 25,
    "start_time": "2023-04-21T15:49:01.966Z"
   },
   {
    "duration": 9,
    "start_time": "2023-04-21T15:49:07.301Z"
   },
   {
    "duration": 5,
    "start_time": "2023-04-21T15:49:08.730Z"
   },
   {
    "duration": 43,
    "start_time": "2023-04-21T15:49:09.281Z"
   },
   {
    "duration": 3,
    "start_time": "2023-04-21T15:49:38.680Z"
   },
   {
    "duration": 4,
    "start_time": "2023-04-21T15:49:40.239Z"
   },
   {
    "duration": 22,
    "start_time": "2023-04-21T15:49:41.829Z"
   },
   {
    "duration": 20,
    "start_time": "2023-04-21T15:51:36.431Z"
   },
   {
    "duration": 29,
    "start_time": "2023-04-21T15:51:54.040Z"
   },
   {
    "duration": 2251,
    "start_time": "2023-04-22T06:00:57.542Z"
   },
   {
    "duration": 38,
    "start_time": "2023-04-22T06:00:59.795Z"
   },
   {
    "duration": 10,
    "start_time": "2023-04-22T06:01:16.109Z"
   },
   {
    "duration": 4,
    "start_time": "2023-04-22T06:01:17.628Z"
   },
   {
    "duration": 4,
    "start_time": "2023-04-22T06:03:08.632Z"
   },
   {
    "duration": 4,
    "start_time": "2023-04-22T06:03:14.444Z"
   },
   {
    "duration": 33,
    "start_time": "2023-04-22T06:03:16.420Z"
   }
  ],
  "kernelspec": {
   "display_name": "Python 3 (ipykernel)",
   "language": "python",
   "name": "python3"
  },
  "language_info": {
   "codemirror_mode": {
    "name": "ipython",
    "version": 3
   },
   "file_extension": ".py",
   "mimetype": "text/x-python",
   "name": "python",
   "nbconvert_exporter": "python",
   "pygments_lexer": "ipython3",
   "version": "3.9.5"
  },
  "toc": {
   "base_numbering": 1,
   "nav_menu": {},
   "number_sections": true,
   "sideBar": true,
   "skip_h1_title": true,
   "title_cell": "Содержание",
   "title_sidebar": "Contents",
   "toc_cell": true,
   "toc_position": {},
   "toc_section_display": true,
   "toc_window_display": true
  }
 },
 "nbformat": 4,
 "nbformat_minor": 2
}
