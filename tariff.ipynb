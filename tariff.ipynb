{
 "cells": [
  {
   "cell_type": "markdown",
   "metadata": {},
   "source": [
    "# Рекомендация тарифов"
   ]
  },
  {
   "cell_type": "markdown",
   "metadata": {},
   "source": [
    "В вашем распоряжении данные о поведении клиентов, которые уже перешли на эти тарифы (из проекта курса «Статистический анализ данных»). Нужно построить модель для задачи классификации, которая выберет подходящий тариф. Предобработка данных не понадобится — вы её уже сделали.\n",
    "\n",
    "Постройте модель с максимально большим значением *accuracy*. Чтобы сдать проект успешно, нужно довести долю правильных ответов по крайней мере до 0.75. Проверьте *accuracy* на тестовой выборке самостоятельно."
   ]
  },
  {
   "cell_type": "markdown",
   "metadata": {},
   "source": [
    "## Откройте и изучите файл"
   ]
  },
  {
   "cell_type": "code",
   "execution_count": 1,
   "metadata": {},
   "outputs": [],
   "source": [
    "import pandas as pd\n",
    "from sklearn.tree import DecisionTreeClassifier\n",
    "from sklearn.ensemble import RandomForestClassifier\n",
    "from sklearn.linear_model import LogisticRegression \n",
    "from sklearn.metrics import accuracy_score\n",
    "from sklearn.model_selection import train_test_split"
   ]
  },
  {
   "cell_type": "code",
   "execution_count": 2,
   "metadata": {},
   "outputs": [
    {
     "data": {
      "text/html": [
       "<div>\n",
       "<style scoped>\n",
       "    .dataframe tbody tr th:only-of-type {\n",
       "        vertical-align: middle;\n",
       "    }\n",
       "\n",
       "    .dataframe tbody tr th {\n",
       "        vertical-align: top;\n",
       "    }\n",
       "\n",
       "    .dataframe thead th {\n",
       "        text-align: right;\n",
       "    }\n",
       "</style>\n",
       "<table border=\"1\" class=\"dataframe\">\n",
       "  <thead>\n",
       "    <tr style=\"text-align: right;\">\n",
       "      <th></th>\n",
       "      <th>calls</th>\n",
       "      <th>minutes</th>\n",
       "      <th>messages</th>\n",
       "      <th>mb_used</th>\n",
       "      <th>is_ultra</th>\n",
       "    </tr>\n",
       "  </thead>\n",
       "  <tbody>\n",
       "    <tr>\n",
       "      <th>0</th>\n",
       "      <td>40.0</td>\n",
       "      <td>311.90</td>\n",
       "      <td>83.0</td>\n",
       "      <td>19915.42</td>\n",
       "      <td>0</td>\n",
       "    </tr>\n",
       "    <tr>\n",
       "      <th>1</th>\n",
       "      <td>85.0</td>\n",
       "      <td>516.75</td>\n",
       "      <td>56.0</td>\n",
       "      <td>22696.96</td>\n",
       "      <td>0</td>\n",
       "    </tr>\n",
       "    <tr>\n",
       "      <th>2</th>\n",
       "      <td>77.0</td>\n",
       "      <td>467.66</td>\n",
       "      <td>86.0</td>\n",
       "      <td>21060.45</td>\n",
       "      <td>0</td>\n",
       "    </tr>\n",
       "    <tr>\n",
       "      <th>3</th>\n",
       "      <td>106.0</td>\n",
       "      <td>745.53</td>\n",
       "      <td>81.0</td>\n",
       "      <td>8437.39</td>\n",
       "      <td>1</td>\n",
       "    </tr>\n",
       "    <tr>\n",
       "      <th>4</th>\n",
       "      <td>66.0</td>\n",
       "      <td>418.74</td>\n",
       "      <td>1.0</td>\n",
       "      <td>14502.75</td>\n",
       "      <td>0</td>\n",
       "    </tr>\n",
       "  </tbody>\n",
       "</table>\n",
       "</div>"
      ],
      "text/plain": [
       "   calls  minutes  messages   mb_used  is_ultra\n",
       "0   40.0   311.90      83.0  19915.42         0\n",
       "1   85.0   516.75      56.0  22696.96         0\n",
       "2   77.0   467.66      86.0  21060.45         0\n",
       "3  106.0   745.53      81.0   8437.39         1\n",
       "4   66.0   418.74       1.0  14502.75         0"
      ]
     },
     "execution_count": 2,
     "metadata": {},
     "output_type": "execute_result"
    }
   ],
   "source": [
    "data = pd.read_csv('/datasets/users_behavior.csv')\n",
    "data.head(5)"
   ]
  },
  {
   "cell_type": "code",
   "execution_count": 3,
   "metadata": {},
   "outputs": [
    {
     "name": "stdout",
     "output_type": "stream",
     "text": [
      "<class 'pandas.core.frame.DataFrame'>\n",
      "RangeIndex: 3214 entries, 0 to 3213\n",
      "Data columns (total 5 columns):\n",
      " #   Column    Non-Null Count  Dtype  \n",
      "---  ------    --------------  -----  \n",
      " 0   calls     3214 non-null   float64\n",
      " 1   minutes   3214 non-null   float64\n",
      " 2   messages  3214 non-null   float64\n",
      " 3   mb_used   3214 non-null   float64\n",
      " 4   is_ultra  3214 non-null   int64  \n",
      "dtypes: float64(4), int64(1)\n",
      "memory usage: 125.7 KB\n"
     ]
    }
   ],
   "source": [
    "data.info()"
   ]
  },
  {
   "cell_type": "markdown",
   "metadata": {},
   "source": [
    "Каждый объект в наборе данных — это информация о поведении одного пользователя за месяц. Известно:\n",
    "\n",
    "    ● сalls — количество звонков,\n",
    "    ● minutes — суммарная длительность звонков в минутах,\n",
    "    ● messages — количество sms-сообщений,\n",
    "    ● mb_used — израсходованный интернет-трафик в Мб,\n",
    "    ● is_ultra — каким тарифом пользовался в течение месяца («Ультра» — 1, «Смарт» — 0)."
   ]
  },
  {
   "cell_type": "markdown",
   "metadata": {},
   "source": [
    "## Разбейте данные на выборки"
   ]
  },
  {
   "cell_type": "code",
   "execution_count": 4,
   "metadata": {},
   "outputs": [],
   "source": [
    "features = data.drop('is_ultra', axis=1)\n",
    "target = data['is_ultra']\n",
    "\n",
    "features_train, features_test, target_train, target_test = train_test_split(features, target, \n",
    "                                                                            test_size=0.25, random_state=123456)\n",
    "features_train, features_valid, target_train, target_valid = train_test_split(features_train, target_train, \n",
    "                                                                              test_size=0.25, random_state=123456)"
   ]
  },
  {
   "cell_type": "markdown",
   "metadata": {},
   "source": [
    "## Исследуйте модели\n",
    "### Модель \"решающее дерево\""
   ]
  },
  {
   "cell_type": "code",
   "execution_count": 5,
   "metadata": {},
   "outputs": [
    {
     "name": "stdout",
     "output_type": "stream",
     "text": [
      "Accuracy наилучшей модели на валидационной выборке: 0.7827529021558872\n"
     ]
    }
   ],
   "source": [
    "tree_model = None\n",
    "best_result = 0\n",
    "for depth in range(1, 9):\n",
    "    model = DecisionTreeClassifier(max_depth=depth, random_state=123456)\n",
    "    model.fit(features_train, target_train) \n",
    "    result = model.score(features_valid, target_valid) \n",
    "    if result > best_result:\n",
    "        tree_model = model\n",
    "        best_tree_result = result\n",
    "\n",
    "print(\"Accuracy наилучшей модели на валидационной выборке:\", best_tree_result)"
   ]
  },
  {
   "cell_type": "markdown",
   "metadata": {},
   "source": [
    "### Модель \"случайный лес\""
   ]
  },
  {
   "cell_type": "code",
   "execution_count": 6,
   "metadata": {},
   "outputs": [
    {
     "name": "stdout",
     "output_type": "stream",
     "text": [
      "Accuracy наилучшей модели на валидационной выборке: 0.8076285240464345\n"
     ]
    }
   ],
   "source": [
    "forest_model = None\n",
    "best_result = 0\n",
    "for est in range(1, 50):\n",
    "    model = RandomForestClassifier(random_state=123456, n_estimators=est)\n",
    "    model.fit(features_train, target_train) \n",
    "    result = model.score(features_valid, target_valid) \n",
    "    if result > best_result:\n",
    "        forest_model = model\n",
    "        best_forest_result = result\n",
    "\n",
    "print(\"Accuracy наилучшей модели на валидационной выборке:\", best_forest_result)"
   ]
  },
  {
   "cell_type": "markdown",
   "metadata": {},
   "source": [
    "### Модель \"логическая регрессия\""
   ]
  },
  {
   "cell_type": "code",
   "execution_count": 7,
   "metadata": {},
   "outputs": [
    {
     "name": "stdout",
     "output_type": "stream",
     "text": [
      "Accuracy наилучшей модели на валидационной выборке: 0.7728026533996684\n"
     ]
    }
   ],
   "source": [
    "logist_model = None\n",
    "best_result = 0\n",
    "for more_c in range(1,50):\n",
    "    model = LogisticRegression(solver='lbfgs', random_state=123456, C=more_c, max_iter=1000)\n",
    "    model.fit(features_train, target_train) \n",
    "    result = model.score(features_valid, target_valid) \n",
    "    if result > best_result:\n",
    "        logist_model = model\n",
    "        best_logist_result = result\n",
    "\n",
    "print(\"Accuracy наилучшей модели на валидационной выборке:\", best_logist_result)"
   ]
  },
  {
   "cell_type": "markdown",
   "metadata": {},
   "source": [
    "### Вывод\n",
    "\n",
    "В каждой модели мы подобрали самый подходящий гиперпараметр\n",
    "\n",
    "На валидационных выборках лучше всех себя показала модель случайного леса с аccuracy = 0.8, посмотрим как она себя покажет на тестовой выборке, модель решающего дерева не далеко ушла от модели случайного леса, а её догоняет модель логической регрессии"
   ]
  },
  {
   "cell_type": "markdown",
   "metadata": {},
   "source": [
    "## Проверьте модели на тестовой выборке\n",
    "\n",
    "### Проверка решающего дерева"
   ]
  },
  {
   "cell_type": "code",
   "execution_count": 8,
   "metadata": {},
   "outputs": [
    {
     "name": "stdout",
     "output_type": "stream",
     "text": [
      "Accuracy\n",
      "Обучающая выборка: 0.8572219147758716\n",
      "Тестовая выборка: 0.7810945273631841\n"
     ]
    }
   ],
   "source": [
    "predictions_train = tree_model.predict(features_train)\n",
    "train = accuracy_score(target_train, predictions_train)\n",
    "predictions_test = tree_model.predict(features_test) \n",
    "test = accuracy_score(target_test, predictions_test)\n",
    "\n",
    "print(\"Accuracy\")\n",
    "print(\"Обучающая выборка:\", train) \n",
    "print(\"Тестовая выборка:\", test)"
   ]
  },
  {
   "cell_type": "markdown",
   "metadata": {},
   "source": [
    "### Проверка случайного леса\n",
    "Похоже случайный лес очень усердно зубрил учебную выборку"
   ]
  },
  {
   "cell_type": "code",
   "execution_count": 9,
   "metadata": {},
   "outputs": [
    {
     "name": "stdout",
     "output_type": "stream",
     "text": [
      "Accuracy\n",
      "Обучающая выборка: 0.9994465965688988\n",
      "Тестовая выборка: 0.8109452736318408\n"
     ]
    }
   ],
   "source": [
    "predictions_train = forest_model.predict(features_train)\n",
    "train = accuracy_score(target_train, predictions_train)\n",
    "predictions_test = forest_model.predict(features_test) \n",
    "test = accuracy_score(target_test, predictions_test)\n",
    "\n",
    "print(\"Accuracy\")\n",
    "print(\"Обучающая выборка:\", train) \n",
    "print(\"Тестовая выборка:\", test)"
   ]
  },
  {
   "cell_type": "markdown",
   "metadata": {},
   "source": [
    "### Проверка логической регрессии"
   ]
  },
  {
   "cell_type": "code",
   "execution_count": 10,
   "metadata": {},
   "outputs": [
    {
     "name": "stdout",
     "output_type": "stream",
     "text": [
      "Accuracy\n",
      "Обучающая выборка: 0.7365799667957942\n",
      "Тестовая выборка: 0.763681592039801\n"
     ]
    }
   ],
   "source": [
    "predictions_train = logist_model.predict(features_train)\n",
    "train = accuracy_score(target_train, predictions_train)\n",
    "predictions_test = logist_model.predict(features_test) \n",
    "test = accuracy_score(target_test, predictions_test)\n",
    "\n",
    "print(\"Accuracy\")\n",
    "print(\"Обучающая выборка:\", train) \n",
    "print(\"Тестовая выборка:\", test)"
   ]
  },
  {
   "cell_type": "markdown",
   "metadata": {},
   "source": [
    "Лучше всех себя показала модель случайного леса (что на тестовых хороша, что на валидационных), а вот модель логической регрессии не справляется"
   ]
  }
 ],
 "metadata": {
  "ExecuteTimeLog": [
   {
    "duration": 377,
    "start_time": "2023-02-15T07:57:53.730Z"
   },
   {
    "duration": 144,
    "start_time": "2023-02-15T07:57:54.122Z"
   },
   {
    "duration": 12,
    "start_time": "2023-02-15T07:58:18.452Z"
   },
   {
    "duration": 53,
    "start_time": "2023-02-20T19:17:14.775Z"
   },
   {
    "duration": 396,
    "start_time": "2023-02-20T19:17:37.237Z"
   },
   {
    "duration": 73,
    "start_time": "2023-02-20T19:17:37.636Z"
   },
   {
    "duration": 19,
    "start_time": "2023-02-20T19:17:37.715Z"
   },
   {
    "duration": 86,
    "start_time": "2023-02-20T19:17:37.736Z"
   },
   {
    "duration": 1095,
    "start_time": "2023-02-20T19:18:37.293Z"
   },
   {
    "duration": 39,
    "start_time": "2023-02-20T19:18:38.390Z"
   },
   {
    "duration": 13,
    "start_time": "2023-02-20T19:18:38.431Z"
   },
   {
    "duration": 157,
    "start_time": "2023-02-20T19:18:38.445Z"
   },
   {
    "duration": 1075,
    "start_time": "2023-02-20T19:18:50.714Z"
   },
   {
    "duration": 38,
    "start_time": "2023-02-20T19:18:51.791Z"
   },
   {
    "duration": 10,
    "start_time": "2023-02-20T19:18:51.831Z"
   },
   {
    "duration": 13,
    "start_time": "2023-02-20T19:18:51.842Z"
   },
   {
    "duration": 12,
    "start_time": "2023-02-20T19:19:00.793Z"
   },
   {
    "duration": 39,
    "start_time": "2023-02-20T19:22:54.651Z"
   },
   {
    "duration": 33,
    "start_time": "2023-02-20T19:29:15.567Z"
   },
   {
    "duration": 43,
    "start_time": "2023-02-20T19:29:22.070Z"
   },
   {
    "duration": 71,
    "start_time": "2023-02-20T19:29:27.157Z"
   },
   {
    "duration": 36,
    "start_time": "2023-02-20T19:29:38.226Z"
   },
   {
    "duration": 56,
    "start_time": "2023-02-20T19:29:48.897Z"
   },
   {
    "duration": 81,
    "start_time": "2023-02-20T19:29:53.159Z"
   },
   {
    "duration": 260,
    "start_time": "2023-02-20T19:29:57.416Z"
   },
   {
    "duration": 1788,
    "start_time": "2023-02-20T19:31:04.149Z"
   },
   {
    "duration": 48,
    "start_time": "2023-02-20T19:31:10.156Z"
   },
   {
    "duration": 36,
    "start_time": "2023-02-20T19:31:53.987Z"
   },
   {
    "duration": 56,
    "start_time": "2023-02-20T19:31:58.174Z"
   },
   {
    "duration": 65,
    "start_time": "2023-02-20T19:32:02.251Z"
   },
   {
    "duration": 115,
    "start_time": "2023-02-20T19:32:07.150Z"
   },
   {
    "duration": 60,
    "start_time": "2023-02-20T19:32:14.114Z"
   },
   {
    "duration": 79,
    "start_time": "2023-02-20T19:48:48.429Z"
   },
   {
    "duration": 292,
    "start_time": "2023-02-20T19:48:58.876Z"
   },
   {
    "duration": 89,
    "start_time": "2023-02-20T19:49:17.799Z"
   },
   {
    "duration": 251,
    "start_time": "2023-02-20T19:49:23.241Z"
   },
   {
    "duration": 24,
    "start_time": "2023-02-20T19:52:44.495Z"
   },
   {
    "duration": 24,
    "start_time": "2023-02-20T20:00:43.668Z"
   },
   {
    "duration": 28,
    "start_time": "2023-02-20T20:02:54.882Z"
   },
   {
    "duration": 36,
    "start_time": "2023-02-20T20:24:41.892Z"
   },
   {
    "duration": 246,
    "start_time": "2023-02-20T20:24:47.095Z"
   },
   {
    "duration": 87,
    "start_time": "2023-02-20T20:25:03.004Z"
   },
   {
    "duration": 313,
    "start_time": "2023-02-20T20:32:13.645Z"
   },
   {
    "duration": 1012,
    "start_time": "2023-02-20T20:32:19.313Z"
   },
   {
    "duration": 4016,
    "start_time": "2023-02-20T20:32:24.930Z"
   },
   {
    "duration": 1044,
    "start_time": "2023-02-20T20:32:35.876Z"
   },
   {
    "duration": 6345,
    "start_time": "2023-02-20T20:32:42.205Z"
   },
   {
    "duration": 1034,
    "start_time": "2023-02-20T20:32:55.723Z"
   },
   {
    "duration": 1027,
    "start_time": "2023-02-20T20:33:21.723Z"
   },
   {
    "duration": 60,
    "start_time": "2023-02-20T20:34:24.873Z"
   },
   {
    "duration": 24677,
    "start_time": "2023-02-20T20:35:05.249Z"
   },
   {
    "duration": 6217,
    "start_time": "2023-02-20T20:35:37.550Z"
   },
   {
    "duration": 1119,
    "start_time": "2023-02-20T20:44:41.299Z"
   },
   {
    "duration": 37,
    "start_time": "2023-02-20T20:44:42.420Z"
   },
   {
    "duration": 10,
    "start_time": "2023-02-20T20:44:42.459Z"
   },
   {
    "duration": 9,
    "start_time": "2023-02-20T20:44:42.471Z"
   },
   {
    "duration": 60,
    "start_time": "2023-02-20T20:44:42.482Z"
   },
   {
    "duration": 5088,
    "start_time": "2023-02-20T20:44:42.544Z"
   },
   {
    "duration": 26028,
    "start_time": "2023-02-20T20:44:47.633Z"
   },
   {
    "duration": 48,
    "start_time": "2023-02-20T20:45:49.446Z"
   },
   {
    "duration": 4910,
    "start_time": "2023-02-20T20:45:51.707Z"
   },
   {
    "duration": 23125,
    "start_time": "2023-02-20T20:46:04.710Z"
   },
   {
    "duration": 27011,
    "start_time": "2023-02-20T20:46:46.341Z"
   },
   {
    "duration": 25834,
    "start_time": "2023-02-20T20:47:26.054Z"
   },
   {
    "duration": 7366,
    "start_time": "2023-02-20T20:49:25.520Z"
   },
   {
    "duration": 1075,
    "start_time": "2023-02-20T21:11:00.316Z"
   },
   {
    "duration": 36,
    "start_time": "2023-02-20T21:11:01.393Z"
   },
   {
    "duration": 10,
    "start_time": "2023-02-20T21:11:01.431Z"
   },
   {
    "duration": 45,
    "start_time": "2023-02-20T21:11:01.443Z"
   },
   {
    "duration": 85,
    "start_time": "2023-02-20T21:11:01.490Z"
   },
   {
    "duration": 4848,
    "start_time": "2023-02-20T21:11:01.576Z"
   },
   {
    "duration": 20354,
    "start_time": "2023-02-20T21:11:06.426Z"
   },
   {
    "duration": 161,
    "start_time": "2023-02-20T21:11:26.782Z"
   },
   {
    "duration": 14,
    "start_time": "2023-02-20T21:11:56.985Z"
   },
   {
    "duration": 10,
    "start_time": "2023-02-20T21:12:32.506Z"
   },
   {
    "duration": 34,
    "start_time": "2023-02-20T21:14:45.965Z"
   },
   {
    "duration": 8,
    "start_time": "2023-02-20T21:15:09.032Z"
   },
   {
    "duration": 38415,
    "start_time": "2023-02-20T21:16:15.656Z"
   },
   {
    "duration": 41441,
    "start_time": "2023-02-20T21:18:33.878Z"
   },
   {
    "duration": 64627,
    "start_time": "2023-02-20T21:19:37.796Z"
   },
   {
    "duration": 18954,
    "start_time": "2023-02-20T21:21:41.579Z"
   },
   {
    "duration": 1113,
    "start_time": "2023-02-20T21:22:14.723Z"
   },
   {
    "duration": 38,
    "start_time": "2023-02-20T21:22:15.839Z"
   },
   {
    "duration": 11,
    "start_time": "2023-02-20T21:22:15.878Z"
   },
   {
    "duration": 12,
    "start_time": "2023-02-20T21:22:15.890Z"
   },
   {
    "duration": 56,
    "start_time": "2023-02-20T21:22:15.903Z"
   },
   {
    "duration": 5024,
    "start_time": "2023-02-20T21:22:15.960Z"
   },
   {
    "duration": 33291,
    "start_time": "2023-02-20T21:22:20.986Z"
   },
   {
    "duration": 11,
    "start_time": "2023-02-20T21:22:54.279Z"
   },
   {
    "duration": 52,
    "start_time": "2023-02-20T21:22:54.292Z"
   },
   {
    "duration": 10,
    "start_time": "2023-02-20T21:22:54.346Z"
   },
   {
    "duration": 5051,
    "start_time": "2023-02-20T21:23:44.434Z"
   },
   {
    "duration": 32631,
    "start_time": "2023-02-20T21:23:52.741Z"
   },
   {
    "duration": 122,
    "start_time": "2023-02-20T21:28:40.627Z"
   },
   {
    "duration": 185,
    "start_time": "2023-02-20T21:29:24.542Z"
   },
   {
    "duration": 93,
    "start_time": "2023-02-20T21:29:28.481Z"
   },
   {
    "duration": 562,
    "start_time": "2023-02-20T21:29:33.174Z"
   },
   {
    "duration": 950,
    "start_time": "2023-02-20T21:29:38.724Z"
   },
   {
    "duration": 396,
    "start_time": "2023-02-20T21:29:46.075Z"
   },
   {
    "duration": 3734,
    "start_time": "2023-02-20T21:29:51.697Z"
   },
   {
    "duration": 36,
    "start_time": "2023-02-20T21:29:59.805Z"
   },
   {
    "duration": 10,
    "start_time": "2023-02-20T21:30:11.268Z"
   },
   {
    "duration": 4,
    "start_time": "2023-02-20T21:30:19.327Z"
   },
   {
    "duration": 46,
    "start_time": "2023-02-20T21:30:26.729Z"
   },
   {
    "duration": 572,
    "start_time": "2023-02-20T21:30:32.286Z"
   },
   {
    "duration": 573,
    "start_time": "2023-02-20T21:30:47.724Z"
   },
   {
    "duration": 1184,
    "start_time": "2023-02-20T21:30:55.901Z"
   },
   {
    "duration": 46,
    "start_time": "2023-02-20T21:30:57.086Z"
   },
   {
    "duration": 11,
    "start_time": "2023-02-20T21:30:57.133Z"
   },
   {
    "duration": 9,
    "start_time": "2023-02-20T21:30:57.146Z"
   },
   {
    "duration": 68,
    "start_time": "2023-02-20T21:30:57.156Z"
   },
   {
    "duration": 5092,
    "start_time": "2023-02-20T21:30:57.226Z"
   },
   {
    "duration": 686,
    "start_time": "2023-02-20T21:31:02.320Z"
   },
   {
    "duration": 18,
    "start_time": "2023-02-20T21:31:03.016Z"
   },
   {
    "duration": 49,
    "start_time": "2023-02-20T21:31:03.036Z"
   },
   {
    "duration": 11,
    "start_time": "2023-02-20T21:31:03.088Z"
   },
   {
    "duration": 1137,
    "start_time": "2023-02-20T21:33:37.926Z"
   },
   {
    "duration": 38,
    "start_time": "2023-02-20T21:33:39.065Z"
   },
   {
    "duration": 17,
    "start_time": "2023-02-20T21:33:39.105Z"
   },
   {
    "duration": 16,
    "start_time": "2023-02-20T21:33:39.127Z"
   },
   {
    "duration": 51,
    "start_time": "2023-02-20T21:33:39.145Z"
   },
   {
    "duration": 5181,
    "start_time": "2023-02-20T21:33:39.198Z"
   },
   {
    "duration": 446,
    "start_time": "2023-02-20T21:33:44.381Z"
   },
   {
    "duration": 10,
    "start_time": "2023-02-20T21:33:44.828Z"
   },
   {
    "duration": 34,
    "start_time": "2023-02-20T21:33:44.839Z"
   },
   {
    "duration": 8,
    "start_time": "2023-02-20T21:33:44.874Z"
   },
   {
    "duration": 120,
    "start_time": "2023-02-20T21:34:39.803Z"
   },
   {
    "duration": 22,
    "start_time": "2023-02-20T21:34:49.207Z"
   },
   {
    "duration": 10,
    "start_time": "2023-02-20T21:34:56.073Z"
   },
   {
    "duration": 3,
    "start_time": "2023-02-20T21:35:08.536Z"
   },
   {
    "duration": 1175,
    "start_time": "2023-02-20T21:35:13.198Z"
   },
   {
    "duration": 53,
    "start_time": "2023-02-20T21:35:14.376Z"
   },
   {
    "duration": 12,
    "start_time": "2023-02-20T21:35:14.432Z"
   },
   {
    "duration": 9,
    "start_time": "2023-02-20T21:35:14.446Z"
   },
   {
    "duration": 67,
    "start_time": "2023-02-20T21:35:14.456Z"
   },
   {
    "duration": 5298,
    "start_time": "2023-02-20T21:35:14.525Z"
   },
   {
    "duration": 463,
    "start_time": "2023-02-20T21:35:19.825Z"
   },
   {
    "duration": 8,
    "start_time": "2023-02-20T21:35:20.290Z"
   },
   {
    "duration": 49,
    "start_time": "2023-02-20T21:35:20.300Z"
   },
   {
    "duration": 8,
    "start_time": "2023-02-20T21:35:20.353Z"
   },
   {
    "duration": 5151,
    "start_time": "2023-02-20T21:35:35.340Z"
   },
   {
    "duration": 1111,
    "start_time": "2023-02-20T21:35:46.177Z"
   },
   {
    "duration": 63,
    "start_time": "2023-02-20T21:35:47.292Z"
   },
   {
    "duration": 12,
    "start_time": "2023-02-20T21:35:47.357Z"
   },
   {
    "duration": 9,
    "start_time": "2023-02-20T21:35:47.370Z"
   },
   {
    "duration": 56,
    "start_time": "2023-02-20T21:35:47.381Z"
   },
   {
    "duration": 4979,
    "start_time": "2023-02-20T21:35:47.439Z"
   },
   {
    "duration": 701,
    "start_time": "2023-02-20T21:35:52.420Z"
   },
   {
    "duration": 8,
    "start_time": "2023-02-20T21:35:53.124Z"
   },
   {
    "duration": 40,
    "start_time": "2023-02-20T21:35:53.134Z"
   },
   {
    "duration": 8,
    "start_time": "2023-02-20T21:35:53.176Z"
   },
   {
    "duration": 655,
    "start_time": "2023-02-20T21:36:04.129Z"
   },
   {
    "duration": 1062,
    "start_time": "2023-02-20T21:36:08.125Z"
   },
   {
    "duration": 893,
    "start_time": "2023-02-20T21:36:12.856Z"
   },
   {
    "duration": 1083,
    "start_time": "2023-02-20T21:36:20.846Z"
   },
   {
    "duration": 36,
    "start_time": "2023-02-20T21:36:21.931Z"
   },
   {
    "duration": 10,
    "start_time": "2023-02-20T21:36:21.969Z"
   },
   {
    "duration": 7,
    "start_time": "2023-02-20T21:36:21.982Z"
   },
   {
    "duration": 64,
    "start_time": "2023-02-20T21:36:21.990Z"
   },
   {
    "duration": 5079,
    "start_time": "2023-02-20T21:36:22.056Z"
   },
   {
    "duration": 933,
    "start_time": "2023-02-20T21:36:27.137Z"
   },
   {
    "duration": 7,
    "start_time": "2023-02-20T21:36:28.072Z"
   },
   {
    "duration": 45,
    "start_time": "2023-02-20T21:36:28.081Z"
   },
   {
    "duration": 10,
    "start_time": "2023-02-20T21:36:28.129Z"
   },
   {
    "duration": 1072,
    "start_time": "2023-02-20T21:40:27.449Z"
   },
   {
    "duration": 38,
    "start_time": "2023-02-20T21:40:28.523Z"
   },
   {
    "duration": 11,
    "start_time": "2023-02-20T21:40:28.562Z"
   },
   {
    "duration": 7,
    "start_time": "2023-02-20T21:40:28.574Z"
   },
   {
    "duration": 54,
    "start_time": "2023-02-20T21:40:28.582Z"
   },
   {
    "duration": 5246,
    "start_time": "2023-02-20T21:40:28.638Z"
   },
   {
    "duration": 710,
    "start_time": "2023-02-20T21:40:33.886Z"
   },
   {
    "duration": 18,
    "start_time": "2023-02-20T21:40:34.598Z"
   },
   {
    "duration": 34,
    "start_time": "2023-02-20T21:40:34.618Z"
   },
   {
    "duration": 8,
    "start_time": "2023-02-20T21:40:34.655Z"
   },
   {
    "duration": 1083,
    "start_time": "2023-02-20T21:40:44.805Z"
   },
   {
    "duration": 43,
    "start_time": "2023-02-20T21:40:45.890Z"
   },
   {
    "duration": 10,
    "start_time": "2023-02-20T21:40:45.935Z"
   },
   {
    "duration": 18,
    "start_time": "2023-02-20T21:40:45.946Z"
   },
   {
    "duration": 54,
    "start_time": "2023-02-20T21:40:45.966Z"
   },
   {
    "duration": 5179,
    "start_time": "2023-02-20T21:40:46.022Z"
   },
   {
    "duration": 521,
    "start_time": "2023-02-20T21:40:51.202Z"
   },
   {
    "duration": 8,
    "start_time": "2023-02-20T21:40:51.725Z"
   },
   {
    "duration": 39,
    "start_time": "2023-02-20T21:40:51.734Z"
   },
   {
    "duration": 8,
    "start_time": "2023-02-20T21:40:51.775Z"
   },
   {
    "duration": 8,
    "start_time": "2023-02-20T21:41:20.064Z"
   },
   {
    "duration": 1106,
    "start_time": "2023-02-20T21:41:29.473Z"
   },
   {
    "duration": 714,
    "start_time": "2023-02-20T21:41:30.581Z"
   },
   {
    "duration": 865,
    "start_time": "2023-02-20T21:41:31.297Z"
   },
   {
    "duration": 854,
    "start_time": "2023-02-20T21:41:32.165Z"
   },
   {
    "duration": 73,
    "start_time": "2023-02-20T21:41:33.025Z"
   },
   {
    "duration": 5255,
    "start_time": "2023-02-20T21:41:33.099Z"
   },
   {
    "duration": 1141,
    "start_time": "2023-02-20T21:41:38.356Z"
   },
   {
    "duration": 24,
    "start_time": "2023-02-20T21:41:39.499Z"
   },
   {
    "duration": 32,
    "start_time": "2023-02-20T21:41:39.525Z"
   },
   {
    "duration": 7,
    "start_time": "2023-02-20T21:41:39.559Z"
   },
   {
    "duration": 1096,
    "start_time": "2023-02-20T21:41:53.106Z"
   },
   {
    "duration": 537,
    "start_time": "2023-02-20T21:41:54.204Z"
   },
   {
    "duration": 501,
    "start_time": "2023-02-20T21:41:54.742Z"
   },
   {
    "duration": 385,
    "start_time": "2023-02-20T21:41:55.244Z"
   },
   {
    "duration": 460,
    "start_time": "2023-02-20T21:41:55.631Z"
   },
   {
    "duration": 5309,
    "start_time": "2023-02-20T21:41:56.092Z"
   },
   {
    "duration": 1149,
    "start_time": "2023-02-20T21:42:01.403Z"
   },
   {
    "duration": 8,
    "start_time": "2023-02-20T21:42:02.554Z"
   },
   {
    "duration": 568,
    "start_time": "2023-02-20T21:42:02.564Z"
   },
   {
    "duration": 196,
    "start_time": "2023-02-20T21:42:03.134Z"
   },
   {
    "duration": 651,
    "start_time": "2023-02-20T21:42:27.003Z"
   },
   {
    "duration": 2279,
    "start_time": "2023-02-20T21:42:32.979Z"
   },
   {
    "duration": 19182,
    "start_time": "2023-02-20T21:43:49.945Z"
   },
   {
    "duration": 21183,
    "start_time": "2023-02-20T21:44:18.575Z"
   },
   {
    "duration": 22130,
    "start_time": "2023-02-20T21:44:48.886Z"
   },
   {
    "duration": 443,
    "start_time": "2023-02-20T21:46:20.907Z"
   },
   {
    "duration": 1346,
    "start_time": "2023-02-20T21:46:28.286Z"
   },
   {
    "duration": 37,
    "start_time": "2023-02-20T21:46:29.634Z"
   },
   {
    "duration": 10,
    "start_time": "2023-02-20T21:46:29.672Z"
   },
   {
    "duration": 10,
    "start_time": "2023-02-20T21:46:29.685Z"
   },
   {
    "duration": 53,
    "start_time": "2023-02-20T21:46:29.696Z"
   },
   {
    "duration": 5196,
    "start_time": "2023-02-20T21:46:29.751Z"
   },
   {
    "duration": 443,
    "start_time": "2023-02-20T21:46:34.949Z"
   },
   {
    "duration": 34,
    "start_time": "2023-02-20T21:46:35.393Z"
   },
   {
    "duration": 43,
    "start_time": "2023-02-20T21:46:35.430Z"
   },
   {
    "duration": 10,
    "start_time": "2023-02-20T21:46:35.476Z"
   },
   {
    "duration": 419,
    "start_time": "2023-02-20T21:47:05.678Z"
   },
   {
    "duration": 1305,
    "start_time": "2023-02-20T21:47:24.343Z"
   },
   {
    "duration": 489,
    "start_time": "2023-02-20T21:47:31.528Z"
   },
   {
    "duration": 11786,
    "start_time": "2023-02-20T21:47:41.474Z"
   },
   {
    "duration": 3189,
    "start_time": "2023-02-20T21:50:58.760Z"
   },
   {
    "duration": 312,
    "start_time": "2023-02-20T21:51:04.394Z"
   },
   {
    "duration": 62,
    "start_time": "2023-02-20T21:51:08.224Z"
   },
   {
    "duration": 627,
    "start_time": "2023-02-20T21:51:11.832Z"
   },
   {
    "duration": 20042,
    "start_time": "2023-02-20T21:52:02.085Z"
   },
   {
    "duration": 2264,
    "start_time": "2023-02-20T21:52:47.680Z"
   },
   {
    "duration": 4545,
    "start_time": "2023-02-20T21:54:08.058Z"
   },
   {
    "duration": 2253,
    "start_time": "2023-02-20T21:55:40.296Z"
   },
   {
    "duration": 130,
    "start_time": "2023-02-20T21:56:10.089Z"
   },
   {
    "duration": 2295,
    "start_time": "2023-02-20T21:56:33.908Z"
   },
   {
    "duration": 14,
    "start_time": "2023-02-20T21:58:19.350Z"
   },
   {
    "duration": 2288,
    "start_time": "2023-02-20T21:58:25.844Z"
   },
   {
    "duration": 2267,
    "start_time": "2023-02-20T21:58:32.860Z"
   },
   {
    "duration": 2255,
    "start_time": "2023-02-20T21:58:38.920Z"
   },
   {
    "duration": 1109,
    "start_time": "2023-02-20T21:58:45.890Z"
   },
   {
    "duration": 1091,
    "start_time": "2023-02-20T21:58:50.604Z"
   },
   {
    "duration": 1159,
    "start_time": "2023-02-20T21:58:54.084Z"
   },
   {
    "duration": 1052,
    "start_time": "2023-02-20T21:58:57.920Z"
   },
   {
    "duration": 1081,
    "start_time": "2023-02-20T21:59:01.097Z"
   },
   {
    "duration": 1069,
    "start_time": "2023-02-20T21:59:08.828Z"
   },
   {
    "duration": 1068,
    "start_time": "2023-02-20T21:59:15.022Z"
   },
   {
    "duration": 1030,
    "start_time": "2023-02-20T21:59:20.105Z"
   },
   {
    "duration": 1138,
    "start_time": "2023-02-20T21:59:26.802Z"
   },
   {
    "duration": 1059,
    "start_time": "2023-02-20T21:59:33.255Z"
   },
   {
    "duration": 5,
    "start_time": "2023-02-20T21:59:39.344Z"
   },
   {
    "duration": 16,
    "start_time": "2023-02-20T21:59:47.546Z"
   },
   {
    "duration": 300,
    "start_time": "2023-02-20T22:00:00.346Z"
   },
   {
    "duration": 619,
    "start_time": "2023-02-20T22:00:05.077Z"
   },
   {
    "duration": 4,
    "start_time": "2023-02-20T22:00:09.198Z"
   },
   {
    "duration": 307,
    "start_time": "2023-02-20T22:00:15.941Z"
   },
   {
    "duration": 305,
    "start_time": "2023-02-20T22:00:20.748Z"
   },
   {
    "duration": 311,
    "start_time": "2023-02-20T22:00:24.743Z"
   },
   {
    "duration": 646,
    "start_time": "2023-02-20T22:00:32.870Z"
   },
   {
    "duration": 1885,
    "start_time": "2023-02-20T22:00:42.137Z"
   },
   {
    "duration": 622,
    "start_time": "2023-02-20T22:01:00.876Z"
   },
   {
    "duration": 617,
    "start_time": "2023-02-20T22:01:05.483Z"
   },
   {
    "duration": 300,
    "start_time": "2023-02-20T22:01:14.032Z"
   },
   {
    "duration": 12,
    "start_time": "2023-02-20T22:02:09.586Z"
   },
   {
    "duration": 1085,
    "start_time": "2023-02-20T22:02:35.442Z"
   },
   {
    "duration": 37,
    "start_time": "2023-02-20T22:02:36.529Z"
   },
   {
    "duration": 11,
    "start_time": "2023-02-20T22:02:36.568Z"
   },
   {
    "duration": 12,
    "start_time": "2023-02-20T22:02:36.582Z"
   },
   {
    "duration": 71,
    "start_time": "2023-02-20T22:02:36.596Z"
   },
   {
    "duration": 5013,
    "start_time": "2023-02-20T22:02:36.669Z"
   },
   {
    "duration": 693,
    "start_time": "2023-02-20T22:02:41.684Z"
   },
   {
    "duration": 9,
    "start_time": "2023-02-20T22:02:42.379Z"
   },
   {
    "duration": 46,
    "start_time": "2023-02-20T22:02:42.390Z"
   },
   {
    "duration": 9,
    "start_time": "2023-02-20T22:02:42.438Z"
   },
   {
    "duration": 1125,
    "start_time": "2023-02-20T22:03:05.896Z"
   },
   {
    "duration": 43,
    "start_time": "2023-02-20T22:03:07.023Z"
   },
   {
    "duration": 11,
    "start_time": "2023-02-20T22:03:07.067Z"
   },
   {
    "duration": 7,
    "start_time": "2023-02-20T22:03:07.079Z"
   },
   {
    "duration": 61,
    "start_time": "2023-02-20T22:03:07.089Z"
   },
   {
    "duration": 4902,
    "start_time": "2023-02-20T22:03:07.152Z"
   },
   {
    "duration": 1198,
    "start_time": "2023-02-20T22:03:12.056Z"
   },
   {
    "duration": 8,
    "start_time": "2023-02-20T22:03:13.256Z"
   },
   {
    "duration": 46,
    "start_time": "2023-02-20T22:03:13.266Z"
   },
   {
    "duration": 8,
    "start_time": "2023-02-20T22:03:13.313Z"
   },
   {
    "duration": 1113,
    "start_time": "2023-02-20T22:04:53.945Z"
   },
   {
    "duration": 39,
    "start_time": "2023-02-20T22:04:55.060Z"
   },
   {
    "duration": 11,
    "start_time": "2023-02-20T22:04:55.100Z"
   },
   {
    "duration": 12,
    "start_time": "2023-02-20T22:04:55.112Z"
   },
   {
    "duration": 63,
    "start_time": "2023-02-20T22:04:55.126Z"
   },
   {
    "duration": 4934,
    "start_time": "2023-02-20T22:04:55.191Z"
   },
   {
    "duration": 1249,
    "start_time": "2023-02-20T22:05:00.126Z"
   },
   {
    "duration": 9,
    "start_time": "2023-02-20T22:05:01.377Z"
   },
   {
    "duration": 57,
    "start_time": "2023-02-20T22:05:01.388Z"
   },
   {
    "duration": 8,
    "start_time": "2023-02-20T22:05:01.447Z"
   },
   {
    "duration": 1914,
    "start_time": "2023-02-21T03:23:53.789Z"
   },
   {
    "duration": 42,
    "start_time": "2023-02-21T03:23:55.705Z"
   },
   {
    "duration": 13,
    "start_time": "2023-02-21T03:23:55.749Z"
   },
   {
    "duration": 10,
    "start_time": "2023-02-21T03:23:55.764Z"
   },
   {
    "duration": 71,
    "start_time": "2023-02-21T03:23:55.777Z"
   },
   {
    "duration": 4991,
    "start_time": "2023-02-21T03:23:55.849Z"
   },
   {
    "duration": 1692,
    "start_time": "2023-02-21T03:24:00.844Z"
   },
   {
    "duration": 12,
    "start_time": "2023-02-21T03:24:02.538Z"
   },
   {
    "duration": 44,
    "start_time": "2023-02-21T03:24:02.552Z"
   },
   {
    "duration": 11,
    "start_time": "2023-02-21T03:24:02.598Z"
   }
  ],
  "kernelspec": {
   "display_name": "Python 3 (ipykernel)",
   "language": "python",
   "name": "python3"
  },
  "language_info": {
   "codemirror_mode": {
    "name": "ipython",
    "version": 3
   },
   "file_extension": ".py",
   "mimetype": "text/x-python",
   "name": "python",
   "nbconvert_exporter": "python",
   "pygments_lexer": "ipython3",
   "version": "3.9.5"
  },
  "toc": {
   "base_numbering": 1,
   "nav_menu": {},
   "number_sections": true,
   "sideBar": true,
   "skip_h1_title": true,
   "title_cell": "Table of Contents",
   "title_sidebar": "Contents",
   "toc_cell": false,
   "toc_position": {},
   "toc_section_display": true,
   "toc_window_display": true
  }
 },
 "nbformat": 4,
 "nbformat_minor": 2
}
