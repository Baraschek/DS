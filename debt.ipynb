{
 "cells": [
  {
   "cell_type": "markdown",
   "id": "85f032b5",
   "metadata": {
    "deletable": false,
    "editable": false,
    "id": "c81daeeb"
   },
   "source": [
    "# Исследование надежности заемщиков\n"
   ]
  },
  {
   "cell_type": "markdown",
   "id": "760fe73a",
   "metadata": {
    "deletable": false,
    "editable": false,
    "id": "827c20bf"
   },
   "source": [
    "Во второй части проекта вы выполните шаги 3 и 4. Их вручную проверит ревьюер.\n",
    "Чтобы вам не пришлось писать код заново для шагов 1 и 2, мы добавили авторские решения в ячейки с кодом. \n",
    "\n"
   ]
  },
  {
   "cell_type": "markdown",
   "id": "ad649329",
   "metadata": {
    "deletable": false,
    "editable": false,
    "id": "744d7639"
   },
   "source": [
    "## Откройте таблицу и изучите общую информацию о данных"
   ]
  },
  {
   "cell_type": "markdown",
   "id": "4746e277",
   "metadata": {
    "deletable": false,
    "editable": false,
    "id": "e7a14c31"
   },
   "source": [
    "**Задание 1. Импортируйте библиотеку pandas. Считайте данные из csv-файла в датафрейм и сохраните в переменную `data`. Путь к файлу:**\n",
    "\n",
    "`/datasets/data.csv`"
   ]
  },
  {
   "cell_type": "code",
   "execution_count": 1,
   "id": "e52c156d",
   "metadata": {
    "deletable": false,
    "id": "7bcf75c9"
   },
   "outputs": [],
   "source": [
    "import pandas as pd\n",
    "\n",
    "try:\n",
    "    data = pd.read_csv('/datasets/data.csv')\n",
    "except:\n",
    "    data = pd.read_csv('https://code.s3.yandex.net/datasets/data.csv')"
   ]
  },
  {
   "cell_type": "markdown",
   "id": "e323dc18",
   "metadata": {
    "deletable": false,
    "editable": false,
    "id": "b8038fe3"
   },
   "source": [
    "**Задание 2. Выведите первые 20 строчек датафрейма `data` на экран.**"
   ]
  },
  {
   "cell_type": "code",
   "execution_count": 2,
   "id": "318a8e6b",
   "metadata": {
    "deletable": false,
    "id": "2a7cab99",
    "outputId": "1a8f3ef2-d323-4ec2-ddf7-89670b5944c4"
   },
   "outputs": [
    {
     "data": {
      "text/html": [
       "<div>\n",
       "<style scoped>\n",
       "    .dataframe tbody tr th:only-of-type {\n",
       "        vertical-align: middle;\n",
       "    }\n",
       "\n",
       "    .dataframe tbody tr th {\n",
       "        vertical-align: top;\n",
       "    }\n",
       "\n",
       "    .dataframe thead th {\n",
       "        text-align: right;\n",
       "    }\n",
       "</style>\n",
       "<table border=\"1\" class=\"dataframe\">\n",
       "  <thead>\n",
       "    <tr style=\"text-align: right;\">\n",
       "      <th></th>\n",
       "      <th>children</th>\n",
       "      <th>days_employed</th>\n",
       "      <th>dob_years</th>\n",
       "      <th>education</th>\n",
       "      <th>education_id</th>\n",
       "      <th>family_status</th>\n",
       "      <th>family_status_id</th>\n",
       "      <th>gender</th>\n",
       "      <th>income_type</th>\n",
       "      <th>debt</th>\n",
       "      <th>total_income</th>\n",
       "      <th>purpose</th>\n",
       "    </tr>\n",
       "  </thead>\n",
       "  <tbody>\n",
       "    <tr>\n",
       "      <th>0</th>\n",
       "      <td>1</td>\n",
       "      <td>-8437.673028</td>\n",
       "      <td>42</td>\n",
       "      <td>высшее</td>\n",
       "      <td>0</td>\n",
       "      <td>женат / замужем</td>\n",
       "      <td>0</td>\n",
       "      <td>F</td>\n",
       "      <td>сотрудник</td>\n",
       "      <td>0</td>\n",
       "      <td>253875.639453</td>\n",
       "      <td>покупка жилья</td>\n",
       "    </tr>\n",
       "    <tr>\n",
       "      <th>1</th>\n",
       "      <td>1</td>\n",
       "      <td>-4024.803754</td>\n",
       "      <td>36</td>\n",
       "      <td>среднее</td>\n",
       "      <td>1</td>\n",
       "      <td>женат / замужем</td>\n",
       "      <td>0</td>\n",
       "      <td>F</td>\n",
       "      <td>сотрудник</td>\n",
       "      <td>0</td>\n",
       "      <td>112080.014102</td>\n",
       "      <td>приобретение автомобиля</td>\n",
       "    </tr>\n",
       "    <tr>\n",
       "      <th>2</th>\n",
       "      <td>0</td>\n",
       "      <td>-5623.422610</td>\n",
       "      <td>33</td>\n",
       "      <td>Среднее</td>\n",
       "      <td>1</td>\n",
       "      <td>женат / замужем</td>\n",
       "      <td>0</td>\n",
       "      <td>M</td>\n",
       "      <td>сотрудник</td>\n",
       "      <td>0</td>\n",
       "      <td>145885.952297</td>\n",
       "      <td>покупка жилья</td>\n",
       "    </tr>\n",
       "    <tr>\n",
       "      <th>3</th>\n",
       "      <td>3</td>\n",
       "      <td>-4124.747207</td>\n",
       "      <td>32</td>\n",
       "      <td>среднее</td>\n",
       "      <td>1</td>\n",
       "      <td>женат / замужем</td>\n",
       "      <td>0</td>\n",
       "      <td>M</td>\n",
       "      <td>сотрудник</td>\n",
       "      <td>0</td>\n",
       "      <td>267628.550329</td>\n",
       "      <td>дополнительное образование</td>\n",
       "    </tr>\n",
       "    <tr>\n",
       "      <th>4</th>\n",
       "      <td>0</td>\n",
       "      <td>340266.072047</td>\n",
       "      <td>53</td>\n",
       "      <td>среднее</td>\n",
       "      <td>1</td>\n",
       "      <td>гражданский брак</td>\n",
       "      <td>1</td>\n",
       "      <td>F</td>\n",
       "      <td>пенсионер</td>\n",
       "      <td>0</td>\n",
       "      <td>158616.077870</td>\n",
       "      <td>сыграть свадьбу</td>\n",
       "    </tr>\n",
       "    <tr>\n",
       "      <th>5</th>\n",
       "      <td>0</td>\n",
       "      <td>-926.185831</td>\n",
       "      <td>27</td>\n",
       "      <td>высшее</td>\n",
       "      <td>0</td>\n",
       "      <td>гражданский брак</td>\n",
       "      <td>1</td>\n",
       "      <td>M</td>\n",
       "      <td>компаньон</td>\n",
       "      <td>0</td>\n",
       "      <td>255763.565419</td>\n",
       "      <td>покупка жилья</td>\n",
       "    </tr>\n",
       "    <tr>\n",
       "      <th>6</th>\n",
       "      <td>0</td>\n",
       "      <td>-2879.202052</td>\n",
       "      <td>43</td>\n",
       "      <td>высшее</td>\n",
       "      <td>0</td>\n",
       "      <td>женат / замужем</td>\n",
       "      <td>0</td>\n",
       "      <td>F</td>\n",
       "      <td>компаньон</td>\n",
       "      <td>0</td>\n",
       "      <td>240525.971920</td>\n",
       "      <td>операции с жильем</td>\n",
       "    </tr>\n",
       "    <tr>\n",
       "      <th>7</th>\n",
       "      <td>0</td>\n",
       "      <td>-152.779569</td>\n",
       "      <td>50</td>\n",
       "      <td>СРЕДНЕЕ</td>\n",
       "      <td>1</td>\n",
       "      <td>женат / замужем</td>\n",
       "      <td>0</td>\n",
       "      <td>M</td>\n",
       "      <td>сотрудник</td>\n",
       "      <td>0</td>\n",
       "      <td>135823.934197</td>\n",
       "      <td>образование</td>\n",
       "    </tr>\n",
       "    <tr>\n",
       "      <th>8</th>\n",
       "      <td>2</td>\n",
       "      <td>-6929.865299</td>\n",
       "      <td>35</td>\n",
       "      <td>ВЫСШЕЕ</td>\n",
       "      <td>0</td>\n",
       "      <td>гражданский брак</td>\n",
       "      <td>1</td>\n",
       "      <td>F</td>\n",
       "      <td>сотрудник</td>\n",
       "      <td>0</td>\n",
       "      <td>95856.832424</td>\n",
       "      <td>на проведение свадьбы</td>\n",
       "    </tr>\n",
       "    <tr>\n",
       "      <th>9</th>\n",
       "      <td>0</td>\n",
       "      <td>-2188.756445</td>\n",
       "      <td>41</td>\n",
       "      <td>среднее</td>\n",
       "      <td>1</td>\n",
       "      <td>женат / замужем</td>\n",
       "      <td>0</td>\n",
       "      <td>M</td>\n",
       "      <td>сотрудник</td>\n",
       "      <td>0</td>\n",
       "      <td>144425.938277</td>\n",
       "      <td>покупка жилья для семьи</td>\n",
       "    </tr>\n",
       "    <tr>\n",
       "      <th>10</th>\n",
       "      <td>2</td>\n",
       "      <td>-4171.483647</td>\n",
       "      <td>36</td>\n",
       "      <td>высшее</td>\n",
       "      <td>0</td>\n",
       "      <td>женат / замужем</td>\n",
       "      <td>0</td>\n",
       "      <td>M</td>\n",
       "      <td>компаньон</td>\n",
       "      <td>0</td>\n",
       "      <td>113943.491460</td>\n",
       "      <td>покупка недвижимости</td>\n",
       "    </tr>\n",
       "    <tr>\n",
       "      <th>11</th>\n",
       "      <td>0</td>\n",
       "      <td>-792.701887</td>\n",
       "      <td>40</td>\n",
       "      <td>среднее</td>\n",
       "      <td>1</td>\n",
       "      <td>женат / замужем</td>\n",
       "      <td>0</td>\n",
       "      <td>F</td>\n",
       "      <td>сотрудник</td>\n",
       "      <td>0</td>\n",
       "      <td>77069.234271</td>\n",
       "      <td>покупка коммерческой недвижимости</td>\n",
       "    </tr>\n",
       "    <tr>\n",
       "      <th>12</th>\n",
       "      <td>0</td>\n",
       "      <td>NaN</td>\n",
       "      <td>65</td>\n",
       "      <td>среднее</td>\n",
       "      <td>1</td>\n",
       "      <td>гражданский брак</td>\n",
       "      <td>1</td>\n",
       "      <td>M</td>\n",
       "      <td>пенсионер</td>\n",
       "      <td>0</td>\n",
       "      <td>NaN</td>\n",
       "      <td>сыграть свадьбу</td>\n",
       "    </tr>\n",
       "    <tr>\n",
       "      <th>13</th>\n",
       "      <td>0</td>\n",
       "      <td>-1846.641941</td>\n",
       "      <td>54</td>\n",
       "      <td>неоконченное высшее</td>\n",
       "      <td>2</td>\n",
       "      <td>женат / замужем</td>\n",
       "      <td>0</td>\n",
       "      <td>F</td>\n",
       "      <td>сотрудник</td>\n",
       "      <td>0</td>\n",
       "      <td>130458.228857</td>\n",
       "      <td>приобретение автомобиля</td>\n",
       "    </tr>\n",
       "    <tr>\n",
       "      <th>14</th>\n",
       "      <td>0</td>\n",
       "      <td>-1844.956182</td>\n",
       "      <td>56</td>\n",
       "      <td>высшее</td>\n",
       "      <td>0</td>\n",
       "      <td>гражданский брак</td>\n",
       "      <td>1</td>\n",
       "      <td>F</td>\n",
       "      <td>компаньон</td>\n",
       "      <td>1</td>\n",
       "      <td>165127.911772</td>\n",
       "      <td>покупка жилой недвижимости</td>\n",
       "    </tr>\n",
       "    <tr>\n",
       "      <th>15</th>\n",
       "      <td>1</td>\n",
       "      <td>-972.364419</td>\n",
       "      <td>26</td>\n",
       "      <td>среднее</td>\n",
       "      <td>1</td>\n",
       "      <td>женат / замужем</td>\n",
       "      <td>0</td>\n",
       "      <td>F</td>\n",
       "      <td>сотрудник</td>\n",
       "      <td>0</td>\n",
       "      <td>116820.904450</td>\n",
       "      <td>строительство собственной недвижимости</td>\n",
       "    </tr>\n",
       "    <tr>\n",
       "      <th>16</th>\n",
       "      <td>0</td>\n",
       "      <td>-1719.934226</td>\n",
       "      <td>35</td>\n",
       "      <td>среднее</td>\n",
       "      <td>1</td>\n",
       "      <td>женат / замужем</td>\n",
       "      <td>0</td>\n",
       "      <td>F</td>\n",
       "      <td>сотрудник</td>\n",
       "      <td>0</td>\n",
       "      <td>289202.704229</td>\n",
       "      <td>недвижимость</td>\n",
       "    </tr>\n",
       "    <tr>\n",
       "      <th>17</th>\n",
       "      <td>0</td>\n",
       "      <td>-2369.999720</td>\n",
       "      <td>33</td>\n",
       "      <td>высшее</td>\n",
       "      <td>0</td>\n",
       "      <td>гражданский брак</td>\n",
       "      <td>1</td>\n",
       "      <td>M</td>\n",
       "      <td>сотрудник</td>\n",
       "      <td>0</td>\n",
       "      <td>90410.586745</td>\n",
       "      <td>строительство недвижимости</td>\n",
       "    </tr>\n",
       "    <tr>\n",
       "      <th>18</th>\n",
       "      <td>0</td>\n",
       "      <td>400281.136913</td>\n",
       "      <td>53</td>\n",
       "      <td>среднее</td>\n",
       "      <td>1</td>\n",
       "      <td>вдовец / вдова</td>\n",
       "      <td>2</td>\n",
       "      <td>F</td>\n",
       "      <td>пенсионер</td>\n",
       "      <td>0</td>\n",
       "      <td>56823.777243</td>\n",
       "      <td>на покупку подержанного автомобиля</td>\n",
       "    </tr>\n",
       "    <tr>\n",
       "      <th>19</th>\n",
       "      <td>0</td>\n",
       "      <td>-10038.818549</td>\n",
       "      <td>48</td>\n",
       "      <td>СРЕДНЕЕ</td>\n",
       "      <td>1</td>\n",
       "      <td>в разводе</td>\n",
       "      <td>3</td>\n",
       "      <td>F</td>\n",
       "      <td>сотрудник</td>\n",
       "      <td>0</td>\n",
       "      <td>242831.107982</td>\n",
       "      <td>на покупку своего автомобиля</td>\n",
       "    </tr>\n",
       "  </tbody>\n",
       "</table>\n",
       "</div>"
      ],
      "text/plain": [
       "    children  days_employed  dob_years            education  education_id  \\\n",
       "0          1   -8437.673028         42               высшее             0   \n",
       "1          1   -4024.803754         36              среднее             1   \n",
       "2          0   -5623.422610         33              Среднее             1   \n",
       "3          3   -4124.747207         32              среднее             1   \n",
       "4          0  340266.072047         53              среднее             1   \n",
       "5          0    -926.185831         27               высшее             0   \n",
       "6          0   -2879.202052         43               высшее             0   \n",
       "7          0    -152.779569         50              СРЕДНЕЕ             1   \n",
       "8          2   -6929.865299         35               ВЫСШЕЕ             0   \n",
       "9          0   -2188.756445         41              среднее             1   \n",
       "10         2   -4171.483647         36               высшее             0   \n",
       "11         0    -792.701887         40              среднее             1   \n",
       "12         0            NaN         65              среднее             1   \n",
       "13         0   -1846.641941         54  неоконченное высшее             2   \n",
       "14         0   -1844.956182         56               высшее             0   \n",
       "15         1    -972.364419         26              среднее             1   \n",
       "16         0   -1719.934226         35              среднее             1   \n",
       "17         0   -2369.999720         33               высшее             0   \n",
       "18         0  400281.136913         53              среднее             1   \n",
       "19         0  -10038.818549         48              СРЕДНЕЕ             1   \n",
       "\n",
       "       family_status  family_status_id gender income_type  debt  \\\n",
       "0    женат / замужем                 0      F   сотрудник     0   \n",
       "1    женат / замужем                 0      F   сотрудник     0   \n",
       "2    женат / замужем                 0      M   сотрудник     0   \n",
       "3    женат / замужем                 0      M   сотрудник     0   \n",
       "4   гражданский брак                 1      F   пенсионер     0   \n",
       "5   гражданский брак                 1      M   компаньон     0   \n",
       "6    женат / замужем                 0      F   компаньон     0   \n",
       "7    женат / замужем                 0      M   сотрудник     0   \n",
       "8   гражданский брак                 1      F   сотрудник     0   \n",
       "9    женат / замужем                 0      M   сотрудник     0   \n",
       "10   женат / замужем                 0      M   компаньон     0   \n",
       "11   женат / замужем                 0      F   сотрудник     0   \n",
       "12  гражданский брак                 1      M   пенсионер     0   \n",
       "13   женат / замужем                 0      F   сотрудник     0   \n",
       "14  гражданский брак                 1      F   компаньон     1   \n",
       "15   женат / замужем                 0      F   сотрудник     0   \n",
       "16   женат / замужем                 0      F   сотрудник     0   \n",
       "17  гражданский брак                 1      M   сотрудник     0   \n",
       "18    вдовец / вдова                 2      F   пенсионер     0   \n",
       "19         в разводе                 3      F   сотрудник     0   \n",
       "\n",
       "     total_income                                 purpose  \n",
       "0   253875.639453                           покупка жилья  \n",
       "1   112080.014102                 приобретение автомобиля  \n",
       "2   145885.952297                           покупка жилья  \n",
       "3   267628.550329              дополнительное образование  \n",
       "4   158616.077870                         сыграть свадьбу  \n",
       "5   255763.565419                           покупка жилья  \n",
       "6   240525.971920                       операции с жильем  \n",
       "7   135823.934197                             образование  \n",
       "8    95856.832424                   на проведение свадьбы  \n",
       "9   144425.938277                 покупка жилья для семьи  \n",
       "10  113943.491460                    покупка недвижимости  \n",
       "11   77069.234271       покупка коммерческой недвижимости  \n",
       "12            NaN                         сыграть свадьбу  \n",
       "13  130458.228857                 приобретение автомобиля  \n",
       "14  165127.911772              покупка жилой недвижимости  \n",
       "15  116820.904450  строительство собственной недвижимости  \n",
       "16  289202.704229                            недвижимость  \n",
       "17   90410.586745              строительство недвижимости  \n",
       "18   56823.777243      на покупку подержанного автомобиля  \n",
       "19  242831.107982            на покупку своего автомобиля  "
      ]
     },
     "execution_count": 2,
     "metadata": {},
     "output_type": "execute_result"
    }
   ],
   "source": [
    "data.head(20)"
   ]
  },
  {
   "cell_type": "markdown",
   "id": "67fc5798",
   "metadata": {
    "deletable": false,
    "editable": false,
    "id": "1c12e233"
   },
   "source": [
    "**Задание 3. Выведите основную информацию о датафрейме с помощью метода `info()`.**"
   ]
  },
  {
   "cell_type": "code",
   "execution_count": 3,
   "id": "aeea7679",
   "metadata": {
    "deletable": false,
    "id": "2b757bca",
    "outputId": "15376089-8dad-46c9-b520-c05248d43158"
   },
   "outputs": [
    {
     "name": "stdout",
     "output_type": "stream",
     "text": [
      "<class 'pandas.core.frame.DataFrame'>\n",
      "RangeIndex: 21525 entries, 0 to 21524\n",
      "Data columns (total 12 columns):\n",
      " #   Column            Non-Null Count  Dtype  \n",
      "---  ------            --------------  -----  \n",
      " 0   children          21525 non-null  int64  \n",
      " 1   days_employed     19351 non-null  float64\n",
      " 2   dob_years         21525 non-null  int64  \n",
      " 3   education         21525 non-null  object \n",
      " 4   education_id      21525 non-null  int64  \n",
      " 5   family_status     21525 non-null  object \n",
      " 6   family_status_id  21525 non-null  int64  \n",
      " 7   gender            21525 non-null  object \n",
      " 8   income_type       21525 non-null  object \n",
      " 9   debt              21525 non-null  int64  \n",
      " 10  total_income      19351 non-null  float64\n",
      " 11  purpose           21525 non-null  object \n",
      "dtypes: float64(2), int64(5), object(5)\n",
      "memory usage: 2.0+ MB\n"
     ]
    }
   ],
   "source": [
    "data.info()"
   ]
  },
  {
   "cell_type": "markdown",
   "id": "acb6ccfa",
   "metadata": {
    "deletable": false,
    "editable": false,
    "id": "333ec665"
   },
   "source": [
    "## Предобработка данных"
   ]
  },
  {
   "cell_type": "markdown",
   "id": "aec896a7",
   "metadata": {
    "deletable": false,
    "editable": false,
    "id": "02d92d53"
   },
   "source": [
    "### Удаление пропусков"
   ]
  },
  {
   "cell_type": "markdown",
   "id": "09537eb8",
   "metadata": {
    "deletable": false,
    "editable": false,
    "id": "cd84967c"
   },
   "source": [
    "**Задание 4. Выведите количество пропущенных значений для каждого столбца. Используйте комбинацию двух методов.**"
   ]
  },
  {
   "cell_type": "code",
   "execution_count": 4,
   "id": "1bc8e6eb",
   "metadata": {
    "deletable": false,
    "id": "7f9b2309",
    "outputId": "81f4d817-781c-465c-ed15-91ce4446810d"
   },
   "outputs": [
    {
     "data": {
      "text/plain": [
       "children               0\n",
       "days_employed       2174\n",
       "dob_years              0\n",
       "education              0\n",
       "education_id           0\n",
       "family_status          0\n",
       "family_status_id       0\n",
       "gender                 0\n",
       "income_type            0\n",
       "debt                   0\n",
       "total_income        2174\n",
       "purpose                0\n",
       "dtype: int64"
      ]
     },
     "execution_count": 4,
     "metadata": {},
     "output_type": "execute_result"
    }
   ],
   "source": [
    "data.isna().sum()"
   ]
  },
  {
   "cell_type": "markdown",
   "id": "81611487",
   "metadata": {
    "deletable": false,
    "editable": false,
    "id": "db86e27b"
   },
   "source": [
    "**Задание 5. В двух столбцах есть пропущенные значения. Один из них — `days_employed`. Пропуски в этом столбце вы обработаете на следующем этапе. Другой столбец с пропущенными значениями — `total_income` — хранит данные о доходах. На сумму дохода сильнее всего влияет тип занятости, поэтому заполнить пропуски в этом столбце нужно медианным значением по каждому типу из столбца `income_type`. Например, у человека с типом занятости `сотрудник` пропуск в столбце `total_income` должен быть заполнен медианным доходом среди всех записей с тем же типом.**"
   ]
  },
  {
   "cell_type": "code",
   "execution_count": 5,
   "id": "8f812fa6",
   "metadata": {
    "deletable": false,
    "id": "42006a93"
   },
   "outputs": [],
   "source": [
    "for t in data['income_type'].unique():\n",
    "    data.loc[(data['income_type'] == t) & (data['total_income'].isna()), 'total_income'] = \\\n",
    "    data.loc[(data['income_type'] == t), 'total_income'].median()"
   ]
  },
  {
   "cell_type": "markdown",
   "id": "ac68a605",
   "metadata": {
    "deletable": false,
    "editable": false,
    "id": "89da5ece"
   },
   "source": [
    "### Обработка аномальных значений"
   ]
  },
  {
   "cell_type": "markdown",
   "id": "05fb6960",
   "metadata": {
    "deletable": false,
    "editable": false,
    "id": "57964554"
   },
   "source": [
    "**Задание 6. В данных могут встречаться артефакты (аномалии) — значения, которые не отражают действительность и появились по какой-то ошибке. таким артефактом будет отрицательное количество дней трудового стажа в столбце `days_employed`. Для реальных данных это нормально. Обработайте значения в этом столбце: замените все отрицательные значения положительными с помощью метода `abs()`.**"
   ]
  },
  {
   "cell_type": "code",
   "execution_count": 6,
   "id": "24b2a604",
   "metadata": {
    "deletable": false,
    "id": "f6f055bf"
   },
   "outputs": [],
   "source": [
    "data['days_employed'] = data['days_employed'].abs()"
   ]
  },
  {
   "cell_type": "markdown",
   "id": "a0ab7a14",
   "metadata": {
    "deletable": false,
    "editable": false,
    "id": "6107dd2f"
   },
   "source": [
    "**Задание 7. Для каждого типа занятости выведите медианное значение трудового стажа `days_employed` в днях.**"
   ]
  },
  {
   "cell_type": "code",
   "execution_count": 7,
   "id": "3d64dc6c",
   "metadata": {
    "deletable": false,
    "id": "85a5faf6",
    "outputId": "801ef80e-522b-4668-f34e-565af7432bcf"
   },
   "outputs": [
    {
     "data": {
      "text/plain": [
       "income_type\n",
       "безработный        366413.652744\n",
       "в декрете            3296.759962\n",
       "госслужащий          2689.368353\n",
       "компаньон            1547.382223\n",
       "пенсионер          365213.306266\n",
       "предприниматель       520.848083\n",
       "сотрудник            1574.202821\n",
       "студент               578.751554\n",
       "Name: days_employed, dtype: float64"
      ]
     },
     "execution_count": 7,
     "metadata": {},
     "output_type": "execute_result"
    }
   ],
   "source": [
    "data.groupby('income_type')['days_employed'].agg('median')"
   ]
  },
  {
   "cell_type": "markdown",
   "id": "8dfc589c",
   "metadata": {
    "deletable": false,
    "editable": false,
    "id": "38d1a030"
   },
   "source": [
    "У двух типов (безработные и пенсионеры) получатся аномально большие значения. Исправить такие значения сложно, поэтому оставьте их как есть. Тем более этот столбец не понадобится вам для исследования."
   ]
  },
  {
   "cell_type": "markdown",
   "id": "87c64843",
   "metadata": {
    "deletable": false,
    "editable": false,
    "id": "d8a9f147"
   },
   "source": [
    "**Задание 8. Выведите перечень уникальных значений столбца `children`.**"
   ]
  },
  {
   "cell_type": "code",
   "execution_count": 8,
   "id": "422dfbcc",
   "metadata": {
    "deletable": false,
    "id": "ef5056eb",
    "outputId": "6975b15c-7f95-4697-d16d-a0c79b657b03"
   },
   "outputs": [
    {
     "data": {
      "text/plain": [
       "array([ 1,  0,  3,  2, -1,  4, 20,  5])"
      ]
     },
     "execution_count": 8,
     "metadata": {},
     "output_type": "execute_result"
    }
   ],
   "source": [
    "data['children'].unique()"
   ]
  },
  {
   "cell_type": "markdown",
   "id": "39999af7",
   "metadata": {
    "deletable": false,
    "editable": false,
    "id": "40b9ebf2"
   },
   "source": [
    "**Задание 9. В столбце `children` есть два аномальных значения. Удалите строки, в которых встречаются такие аномальные значения из датафрейма `data`.**"
   ]
  },
  {
   "cell_type": "code",
   "execution_count": 9,
   "id": "66e33fe3",
   "metadata": {
    "deletable": false,
    "id": "3ff9801d"
   },
   "outputs": [],
   "source": [
    "data = data[(data['children'] != -1) & (data['children'] != 20)]"
   ]
  },
  {
   "cell_type": "markdown",
   "id": "87e8c8ed",
   "metadata": {
    "deletable": false,
    "editable": false,
    "id": "bbc4d0ce"
   },
   "source": [
    "**Задание 10. Ещё раз выведите перечень уникальных значений столбца `children`, чтобы убедиться, что артефакты удалены.**"
   ]
  },
  {
   "cell_type": "code",
   "execution_count": 10,
   "id": "955fb6e2",
   "metadata": {
    "deletable": false,
    "id": "ad4fa8b7",
    "outputId": "b2097101-d49d-44d9-901b-32a65c9463d1"
   },
   "outputs": [
    {
     "data": {
      "text/plain": [
       "array([1, 0, 3, 2, 4, 5])"
      ]
     },
     "execution_count": 10,
     "metadata": {},
     "output_type": "execute_result"
    }
   ],
   "source": [
    "data['children'].unique()"
   ]
  },
  {
   "cell_type": "markdown",
   "id": "e7a59103",
   "metadata": {
    "deletable": false,
    "editable": false,
    "id": "75440b63"
   },
   "source": [
    "### Удаление пропусков (продолжение)"
   ]
  },
  {
   "cell_type": "markdown",
   "id": "f83114ee",
   "metadata": {
    "deletable": false,
    "editable": false,
    "id": "f4ea573f"
   },
   "source": [
    "**Задание 11. Заполните пропуски в столбце `days_employed` медианными значениями по каждого типа занятости `income_type`.**"
   ]
  },
  {
   "cell_type": "code",
   "execution_count": 11,
   "id": "9e863cfa",
   "metadata": {
    "deletable": false,
    "id": "af6b1a7e"
   },
   "outputs": [],
   "source": [
    "for t in data['income_type'].unique():\n",
    "    data.loc[(data['income_type'] == t) & (data['days_employed'].isna()), 'days_employed'] = \\\n",
    "    data.loc[(data['income_type'] == t), 'days_employed'].median()"
   ]
  },
  {
   "cell_type": "markdown",
   "id": "13d40301",
   "metadata": {
    "deletable": false,
    "editable": false,
    "id": "2753f40d"
   },
   "source": [
    "**Задание 12. Убедитесь, что все пропуски заполнены. Проверьте себя и ещё раз выведите количество пропущенных значений для каждого столбца с помощью двух методов.**"
   ]
  },
  {
   "cell_type": "code",
   "execution_count": 12,
   "id": "6c39af7a",
   "metadata": {
    "deletable": false,
    "id": "55f78bc2",
    "outputId": "8da1e4e1-358e-4e87-98c9-f261bce0a7b2"
   },
   "outputs": [
    {
     "data": {
      "text/plain": [
       "children            0\n",
       "days_employed       0\n",
       "dob_years           0\n",
       "education           0\n",
       "education_id        0\n",
       "family_status       0\n",
       "family_status_id    0\n",
       "gender              0\n",
       "income_type         0\n",
       "debt                0\n",
       "total_income        0\n",
       "purpose             0\n",
       "dtype: int64"
      ]
     },
     "execution_count": 12,
     "metadata": {},
     "output_type": "execute_result"
    }
   ],
   "source": [
    "data.isna().sum()"
   ]
  },
  {
   "cell_type": "markdown",
   "id": "0d0e8174",
   "metadata": {
    "deletable": false,
    "editable": false,
    "id": "ddc81e43"
   },
   "source": [
    "### Изменение типов данных"
   ]
  },
  {
   "cell_type": "markdown",
   "id": "f7d800cd",
   "metadata": {
    "deletable": false,
    "editable": false,
    "id": "42d19d24"
   },
   "source": [
    "**Задание 13. Замените вещественный тип данных в столбце `total_income` на целочисленный с помощью метода `astype()`.**"
   ]
  },
  {
   "cell_type": "code",
   "execution_count": 13,
   "id": "a31e7503",
   "metadata": {
    "deletable": false,
    "id": "920b65ad"
   },
   "outputs": [],
   "source": [
    "data['total_income'] = data['total_income'].astype(int)"
   ]
  },
  {
   "cell_type": "markdown",
   "id": "08726486",
   "metadata": {
    "deletable": false,
    "editable": false,
    "id": "80c420ba"
   },
   "source": [
    "### Обработка дубликатов"
   ]
  },
  {
   "cell_type": "markdown",
   "id": "12749d8b",
   "metadata": {
    "deletable": false,
    "editable": false
   },
   "source": [
    "**Задание 14. Обработайте неявные дубликаты в столбце `education`. В этом столбце есть одни и те же значения, но записанные по-разному: с использованием заглавных и строчных букв. Приведите их к нижнему регистру. Проверьте остальные столбцы.**"
   ]
  },
  {
   "cell_type": "code",
   "execution_count": 14,
   "id": "333caf71",
   "metadata": {
    "deletable": false
   },
   "outputs": [],
   "source": [
    "data['education'] = data['education'].str.lower()"
   ]
  },
  {
   "cell_type": "markdown",
   "id": "22e2bba4",
   "metadata": {
    "deletable": false,
    "editable": false,
    "id": "dc587695"
   },
   "source": [
    "**Задание 15. Выведите на экран количество строк-дубликатов в данных. Если такие строки присутствуют, удалите их.**"
   ]
  },
  {
   "cell_type": "code",
   "execution_count": 15,
   "id": "ed34e0e0",
   "metadata": {
    "deletable": false,
    "id": "3ee445e4",
    "outputId": "9684deba-1934-42d1-99e1-cda61740f822"
   },
   "outputs": [
    {
     "data": {
      "text/plain": [
       "71"
      ]
     },
     "execution_count": 15,
     "metadata": {},
     "output_type": "execute_result"
    }
   ],
   "source": [
    "data.duplicated().sum()"
   ]
  },
  {
   "cell_type": "code",
   "execution_count": 16,
   "id": "c4c19595",
   "metadata": {
    "deletable": false,
    "id": "8575fe05"
   },
   "outputs": [],
   "source": [
    "data = data.drop_duplicates()"
   ]
  },
  {
   "cell_type": "markdown",
   "id": "14dcea65",
   "metadata": {
    "deletable": false,
    "editable": false,
    "id": "9904cf55"
   },
   "source": [
    "### Категоризация данных"
   ]
  },
  {
   "cell_type": "markdown",
   "id": "c298813d",
   "metadata": {
    "deletable": false,
    "editable": false,
    "id": "72fcc8a2"
   },
   "source": [
    "**Задание 16. На основании диапазонов, указанных ниже, создайте в датафрейме `data` столбец `total_income_category` с категориями:**\n",
    "\n",
    "- 0–30000 — `'E'`;\n",
    "- 30001–50000 — `'D'`;\n",
    "- 50001–200000 — `'C'`;\n",
    "- 200001–1000000 — `'B'`;\n",
    "- 1000001 и выше — `'A'`.\n",
    "\n",
    "\n",
    "**Например, кредитополучателю с доходом 25000 нужно назначить категорию `'E'`, а клиенту, получающему 235000, — `'B'`. Используйте собственную функцию с именем `categorize_income()` и метод `apply()`.**"
   ]
  },
  {
   "cell_type": "code",
   "execution_count": 17,
   "id": "61559a84",
   "metadata": {
    "deletable": false,
    "id": "e1771346"
   },
   "outputs": [],
   "source": [
    "def categorize_income(income):\n",
    "    try:\n",
    "        if 0 <= income <= 30000:\n",
    "            return 'E'\n",
    "        elif 30001 <= income <= 50000:\n",
    "            return 'D'\n",
    "        elif 50001 <= income <= 200000:\n",
    "            return 'C'\n",
    "        elif 200001 <= income <= 1000000:\n",
    "            return 'B'\n",
    "        elif income >= 1000001:\n",
    "            return 'A'\n",
    "    except:\n",
    "        pass"
   ]
  },
  {
   "cell_type": "code",
   "execution_count": 18,
   "id": "bc6106a5",
   "metadata": {
    "deletable": false,
    "id": "d5f3586d"
   },
   "outputs": [],
   "source": [
    "data['total_income_category'] = data['total_income'].apply(categorize_income)"
   ]
  },
  {
   "cell_type": "markdown",
   "id": "d173e270",
   "metadata": {
    "deletable": false,
    "editable": false,
    "id": "dde49b5c"
   },
   "source": [
    "**Задание 17. Выведите на экран перечень уникальных целей взятия кредита из столбца `purpose`.**"
   ]
  },
  {
   "cell_type": "code",
   "execution_count": 19,
   "id": "b079bbe5",
   "metadata": {
    "deletable": false,
    "id": "f67ce9b3",
    "outputId": "673c12d9-7d7e-4ae0-9812-c622c89dd244"
   },
   "outputs": [
    {
     "data": {
      "text/plain": [
       "array(['покупка жилья', 'приобретение автомобиля',\n",
       "       'дополнительное образование', 'сыграть свадьбу',\n",
       "       'операции с жильем', 'образование', 'на проведение свадьбы',\n",
       "       'покупка жилья для семьи', 'покупка недвижимости',\n",
       "       'покупка коммерческой недвижимости', 'покупка жилой недвижимости',\n",
       "       'строительство собственной недвижимости', 'недвижимость',\n",
       "       'строительство недвижимости', 'на покупку подержанного автомобиля',\n",
       "       'на покупку своего автомобиля',\n",
       "       'операции с коммерческой недвижимостью',\n",
       "       'строительство жилой недвижимости', 'жилье',\n",
       "       'операции со своей недвижимостью', 'автомобили',\n",
       "       'заняться образованием', 'сделка с подержанным автомобилем',\n",
       "       'получение образования', 'автомобиль', 'свадьба',\n",
       "       'получение дополнительного образования', 'покупка своего жилья',\n",
       "       'операции с недвижимостью', 'получение высшего образования',\n",
       "       'свой автомобиль', 'сделка с автомобилем',\n",
       "       'профильное образование', 'высшее образование',\n",
       "       'покупка жилья для сдачи', 'на покупку автомобиля', 'ремонт жилью',\n",
       "       'заняться высшим образованием'], dtype=object)"
      ]
     },
     "execution_count": 19,
     "metadata": {},
     "output_type": "execute_result"
    }
   ],
   "source": [
    "data['purpose'].unique()"
   ]
  },
  {
   "cell_type": "markdown",
   "id": "2be953e6",
   "metadata": {
    "deletable": false,
    "editable": false,
    "id": "85d0aef0"
   },
   "source": [
    "**Задание 18. Создайте функцию, которая на основании данных из столбца `purpose` сформирует новый столбец `purpose_category`, в который войдут следующие категории:**\n",
    "\n",
    "- `'операции с автомобилем'`,\n",
    "- `'операции с недвижимостью'`,\n",
    "- `'проведение свадьбы'`,\n",
    "- `'получение образования'`.\n",
    "\n",
    "**Например, если в столбце `purpose` находится подстрока `'на покупку автомобиля'`, то в столбце `purpose_category` должна появиться строка `'операции с автомобилем'`.**\n",
    "\n",
    "**Используйте собственную функцию с именем `categorize_purpose()` и метод `apply()`. Изучите данные в столбце `purpose` и определите, какие подстроки помогут вам правильно определить категорию.**"
   ]
  },
  {
   "cell_type": "code",
   "execution_count": 20,
   "id": "d92d850a",
   "metadata": {
    "deletable": false,
    "id": "e149fab4"
   },
   "outputs": [],
   "source": [
    "def categorize_purpose(row):\n",
    "    try:\n",
    "        if 'автом' in row:\n",
    "            return 'операции с автомобилем'\n",
    "        elif 'жил' in row or 'недвиж' in row:\n",
    "            return 'операции с недвижимостью'\n",
    "        elif 'свад' in row:\n",
    "            return 'проведение свадьбы'\n",
    "        elif 'образов' in row:\n",
    "            return 'получение образования'\n",
    "    except:\n",
    "        return 'нет категории'"
   ]
  },
  {
   "cell_type": "code",
   "execution_count": 21,
   "id": "67a149ed",
   "metadata": {
    "deletable": false,
    "id": "bf36e69b"
   },
   "outputs": [],
   "source": [
    "data['purpose_category'] = data['purpose'].apply(categorize_purpose)"
   ]
  },
  {
   "cell_type": "markdown",
   "id": "b34dab39",
   "metadata": {
    "deletable": false,
    "editable": false,
    "id": "09b242bf"
   },
   "source": [
    "### Шаг 3. Исследуйте данные и ответьте на вопросы"
   ]
  },
  {
   "cell_type": "markdown",
   "id": "b6f500de",
   "metadata": {
    "deletable": false,
    "editable": false,
    "id": "c5d66278"
   },
   "source": [
    "#### 3.1 Есть ли зависимость между количеством детей и возвратом кредита в срок?"
   ]
  },
  {
   "cell_type": "code",
   "execution_count": 22,
   "id": "1f6230c9",
   "metadata": {
    "deletable": false,
    "id": "2cacfc4a"
   },
   "outputs": [
    {
     "data": {
      "text/html": [
       "<div>\n",
       "<style scoped>\n",
       "    .dataframe tbody tr th:only-of-type {\n",
       "        vertical-align: middle;\n",
       "    }\n",
       "\n",
       "    .dataframe tbody tr th {\n",
       "        vertical-align: top;\n",
       "    }\n",
       "\n",
       "    .dataframe thead th {\n",
       "        text-align: right;\n",
       "    }\n",
       "</style>\n",
       "<table border=\"1\" class=\"dataframe\">\n",
       "  <thead>\n",
       "    <tr style=\"text-align: right;\">\n",
       "      <th></th>\n",
       "      <th>payee</th>\n",
       "      <th>debtors</th>\n",
       "      <th>debtors_share</th>\n",
       "    </tr>\n",
       "    <tr>\n",
       "      <th>children</th>\n",
       "      <th></th>\n",
       "      <th></th>\n",
       "      <th></th>\n",
       "    </tr>\n",
       "  </thead>\n",
       "  <tbody>\n",
       "    <tr>\n",
       "      <th>0</th>\n",
       "      <td>14091.0</td>\n",
       "      <td>1063.0</td>\n",
       "      <td>7.543822</td>\n",
       "    </tr>\n",
       "    <tr>\n",
       "      <th>1</th>\n",
       "      <td>4808.0</td>\n",
       "      <td>444.0</td>\n",
       "      <td>9.234609</td>\n",
       "    </tr>\n",
       "    <tr>\n",
       "      <th>2</th>\n",
       "      <td>2052.0</td>\n",
       "      <td>194.0</td>\n",
       "      <td>9.454191</td>\n",
       "    </tr>\n",
       "    <tr>\n",
       "      <th>3</th>\n",
       "      <td>330.0</td>\n",
       "      <td>27.0</td>\n",
       "      <td>8.181818</td>\n",
       "    </tr>\n",
       "    <tr>\n",
       "      <th>4</th>\n",
       "      <td>41.0</td>\n",
       "      <td>4.0</td>\n",
       "      <td>9.756098</td>\n",
       "    </tr>\n",
       "    <tr>\n",
       "      <th>5</th>\n",
       "      <td>9.0</td>\n",
       "      <td>0.0</td>\n",
       "      <td>0.000000</td>\n",
       "    </tr>\n",
       "  </tbody>\n",
       "</table>\n",
       "</div>"
      ],
      "text/plain": [
       "            payee  debtors  debtors_share\n",
       "children                                 \n",
       "0         14091.0   1063.0       7.543822\n",
       "1          4808.0    444.0       9.234609\n",
       "2          2052.0    194.0       9.454191\n",
       "3           330.0     27.0       8.181818\n",
       "4            41.0      4.0       9.756098\n",
       "5             9.0      0.0       0.000000"
      ]
     },
     "execution_count": 22,
     "metadata": {},
     "output_type": "execute_result"
    }
   ],
   "source": [
    "#data_have_debt = data.loc[data['debt']==1] #создаем таблицу только с задожностями\n",
    "#child_debt = data_have_debt.groupby('children')['debt'].agg('count') #группируем по количеству детей и подсчитаваем их задолжности\n",
    "#child = data.groupby('children')['debt'].agg('count') #группируем по количеству детей и подсчитываем общее количество наличия и отсутсвия задолжностей\n",
    "#display((child_debt/child)*100) #находим вероятность появления задолжености\n",
    "\n",
    "#data_child = data.pivot_table(index=['children'], values='debt', aggfunc=('sum', 'count', 'mean'))\n",
    "#data_child = data_child.rename(columns={'count':'payee', 'sum':'debtors', 'mean':'debtors_share'})\n",
    "#data_child = data_child[['payee', 'debtors', 'debtors_share']]\n",
    "#display(data_child)\n",
    "\n",
    "def new_table(index):\n",
    "    table = data.pivot_table(index=[index], values='debt', aggfunc=('sum', 'count', 'mean'))\n",
    "    table = table.rename(columns={'count':'payee', 'sum':'debtors', 'mean':'debtors_share'})\n",
    "    table = table[['payee', 'debtors', 'debtors_share']]\n",
    "    table['debtors_share'] = table['debtors_share']*100\n",
    "    return table\n",
    "new_table('children')"
   ]
  },
  {
   "cell_type": "markdown",
   "id": "ae00892c",
   "metadata": {
    "deletable": false,
    "id": "3a6b99ec"
   },
   "source": [
    "**Вывод:** Так как тут имеется слишком большая разница в показателях, лучше для более корректно анализа и вывода сравнивать людей без детей и людей с 1 и 2 детьми.\n",
    "\n",
    "Людям, которые не имеют детей, намного проще закрыть кредит без долгов (на почти что 2%). А вот разница у людей с 1 ребенком или 2 несущетсвенна. Ноль тоже количество, поэтому зависимость всё же есть."
   ]
  },
  {
   "cell_type": "markdown",
   "id": "520286ea",
   "metadata": {
    "deletable": false,
    "editable": false,
    "id": "97be82ca"
   },
   "source": [
    "#### 3.2 Есть ли зависимость между семейным положением и возвратом кредита в срок?"
   ]
  },
  {
   "cell_type": "code",
   "execution_count": 23,
   "id": "2f1be831",
   "metadata": {
    "deletable": false,
    "id": "dc3f7ee8"
   },
   "outputs": [
    {
     "data": {
      "text/html": [
       "<div>\n",
       "<style scoped>\n",
       "    .dataframe tbody tr th:only-of-type {\n",
       "        vertical-align: middle;\n",
       "    }\n",
       "\n",
       "    .dataframe tbody tr th {\n",
       "        vertical-align: top;\n",
       "    }\n",
       "\n",
       "    .dataframe thead th {\n",
       "        text-align: right;\n",
       "    }\n",
       "</style>\n",
       "<table border=\"1\" class=\"dataframe\">\n",
       "  <thead>\n",
       "    <tr style=\"text-align: right;\">\n",
       "      <th></th>\n",
       "      <th>payee</th>\n",
       "      <th>debtors</th>\n",
       "      <th>debtors_share</th>\n",
       "    </tr>\n",
       "    <tr>\n",
       "      <th>family_status</th>\n",
       "      <th></th>\n",
       "      <th></th>\n",
       "      <th></th>\n",
       "    </tr>\n",
       "  </thead>\n",
       "  <tbody>\n",
       "    <tr>\n",
       "      <th>Не женат / не замужем</th>\n",
       "      <td>2796.0</td>\n",
       "      <td>273.0</td>\n",
       "      <td>9.763948</td>\n",
       "    </tr>\n",
       "    <tr>\n",
       "      <th>в разводе</th>\n",
       "      <td>1189.0</td>\n",
       "      <td>84.0</td>\n",
       "      <td>7.064760</td>\n",
       "    </tr>\n",
       "    <tr>\n",
       "      <th>вдовец / вдова</th>\n",
       "      <td>951.0</td>\n",
       "      <td>63.0</td>\n",
       "      <td>6.624606</td>\n",
       "    </tr>\n",
       "    <tr>\n",
       "      <th>гражданский брак</th>\n",
       "      <td>4134.0</td>\n",
       "      <td>385.0</td>\n",
       "      <td>9.313014</td>\n",
       "    </tr>\n",
       "    <tr>\n",
       "      <th>женат / замужем</th>\n",
       "      <td>12261.0</td>\n",
       "      <td>927.0</td>\n",
       "      <td>7.560558</td>\n",
       "    </tr>\n",
       "  </tbody>\n",
       "</table>\n",
       "</div>"
      ],
      "text/plain": [
       "                         payee  debtors  debtors_share\n",
       "family_status                                         \n",
       "Не женат / не замужем   2796.0    273.0       9.763948\n",
       "в разводе               1189.0     84.0       7.064760\n",
       "вдовец / вдова           951.0     63.0       6.624606\n",
       "гражданский брак        4134.0    385.0       9.313014\n",
       "женат / замужем        12261.0    927.0       7.560558"
      ]
     },
     "execution_count": 23,
     "metadata": {},
     "output_type": "execute_result"
    }
   ],
   "source": [
    "new_table('family_status')"
   ]
  },
  {
   "cell_type": "markdown",
   "id": "2382802c",
   "metadata": {
    "deletable": false,
    "id": "1cef7837"
   },
   "source": [
    "**Вывод:** Оказывается, в зоне риска находятся люди с семейным статусом не женат/не замужем и гражданский брак. Самое оптипамальное семейное положение — женат/замужем.\n",
    "\n",
    "А вот в разводе и вдовец/вдова имеют сликшом малые показатели для корректно сравнения, но хотелось бы заметить, что им всё равно проще выплатить кредит без задолженостей, возможно, стоило бы не разделять их на разные категории и считать как одно целое (вместе их вероятосноть получается примерно 6,8%). Зависимость тут тоже имеется."
   ]
  },
  {
   "cell_type": "markdown",
   "id": "d430a518",
   "metadata": {
    "deletable": false,
    "editable": false,
    "id": "1e8b2fca"
   },
   "source": [
    "#### 3.3 Есть ли зависимость между уровнем дохода и возвратом кредита в срок?"
   ]
  },
  {
   "cell_type": "code",
   "execution_count": 24,
   "id": "79c1b71f",
   "metadata": {
    "deletable": false,
    "id": "cd7e3720"
   },
   "outputs": [
    {
     "data": {
      "text/html": [
       "<div>\n",
       "<style scoped>\n",
       "    .dataframe tbody tr th:only-of-type {\n",
       "        vertical-align: middle;\n",
       "    }\n",
       "\n",
       "    .dataframe tbody tr th {\n",
       "        vertical-align: top;\n",
       "    }\n",
       "\n",
       "    .dataframe thead th {\n",
       "        text-align: right;\n",
       "    }\n",
       "</style>\n",
       "<table border=\"1\" class=\"dataframe\">\n",
       "  <thead>\n",
       "    <tr style=\"text-align: right;\">\n",
       "      <th></th>\n",
       "      <th>payee</th>\n",
       "      <th>debtors</th>\n",
       "      <th>debtors_share</th>\n",
       "    </tr>\n",
       "    <tr>\n",
       "      <th>total_income_category</th>\n",
       "      <th></th>\n",
       "      <th></th>\n",
       "      <th></th>\n",
       "    </tr>\n",
       "  </thead>\n",
       "  <tbody>\n",
       "    <tr>\n",
       "      <th>A</th>\n",
       "      <td>25.0</td>\n",
       "      <td>2.0</td>\n",
       "      <td>8.000000</td>\n",
       "    </tr>\n",
       "    <tr>\n",
       "      <th>B</th>\n",
       "      <td>5014.0</td>\n",
       "      <td>354.0</td>\n",
       "      <td>7.060231</td>\n",
       "    </tr>\n",
       "    <tr>\n",
       "      <th>C</th>\n",
       "      <td>15921.0</td>\n",
       "      <td>1353.0</td>\n",
       "      <td>8.498210</td>\n",
       "    </tr>\n",
       "    <tr>\n",
       "      <th>D</th>\n",
       "      <td>349.0</td>\n",
       "      <td>21.0</td>\n",
       "      <td>6.017192</td>\n",
       "    </tr>\n",
       "    <tr>\n",
       "      <th>E</th>\n",
       "      <td>22.0</td>\n",
       "      <td>2.0</td>\n",
       "      <td>9.090909</td>\n",
       "    </tr>\n",
       "  </tbody>\n",
       "</table>\n",
       "</div>"
      ],
      "text/plain": [
       "                         payee  debtors  debtors_share\n",
       "total_income_category                                 \n",
       "A                         25.0      2.0       8.000000\n",
       "B                       5014.0    354.0       7.060231\n",
       "C                      15921.0   1353.0       8.498210\n",
       "D                        349.0     21.0       6.017192\n",
       "E                         22.0      2.0       9.090909"
      ]
     },
     "execution_count": 24,
     "metadata": {},
     "output_type": "execute_result"
    }
   ],
   "source": [
    "new_table('total_income_category')"
   ]
  },
  {
   "cell_type": "markdown",
   "id": "ee250a1a",
   "metadata": {
    "deletable": false,
    "id": "e8593def"
   },
   "source": [
    "**Вывод:** Так обладатей категорий A, D и E меньшество, будет нерационально сравнивать их с В и С, поэтому будет идти сравнение между двумя самыми частыми категориями. \n",
    "\n",
    "В целом тут напрашивается логичный вывод, чем больше твой заработок, тем проще выплатить кредит. Разница между категорией В (от 200 тысяч до 1 миллиона) и С (от 50 тысяч до 200 тысяч) наглядно это показывает, люди с категорией В на 1,5 процента меньше подверженны задолжностям."
   ]
  },
  {
   "cell_type": "markdown",
   "id": "c18b0dea",
   "metadata": {
    "deletable": false,
    "editable": false,
    "id": "99ecbd1f"
   },
   "source": [
    "#### 3.4 Как разные цели кредита влияют на его возврат в срок?"
   ]
  },
  {
   "cell_type": "code",
   "execution_count": 25,
   "id": "953f707f",
   "metadata": {
    "deletable": false,
    "id": "2b687290"
   },
   "outputs": [
    {
     "data": {
      "text/html": [
       "<div>\n",
       "<style scoped>\n",
       "    .dataframe tbody tr th:only-of-type {\n",
       "        vertical-align: middle;\n",
       "    }\n",
       "\n",
       "    .dataframe tbody tr th {\n",
       "        vertical-align: top;\n",
       "    }\n",
       "\n",
       "    .dataframe thead th {\n",
       "        text-align: right;\n",
       "    }\n",
       "</style>\n",
       "<table border=\"1\" class=\"dataframe\">\n",
       "  <thead>\n",
       "    <tr style=\"text-align: right;\">\n",
       "      <th></th>\n",
       "      <th>payee</th>\n",
       "      <th>debtors</th>\n",
       "      <th>debtors_share</th>\n",
       "    </tr>\n",
       "    <tr>\n",
       "      <th>purpose_category</th>\n",
       "      <th></th>\n",
       "      <th></th>\n",
       "      <th></th>\n",
       "    </tr>\n",
       "  </thead>\n",
       "  <tbody>\n",
       "    <tr>\n",
       "      <th>операции с автомобилем</th>\n",
       "      <td>4279.0</td>\n",
       "      <td>400.0</td>\n",
       "      <td>9.347978</td>\n",
       "    </tr>\n",
       "    <tr>\n",
       "      <th>операции с недвижимостью</th>\n",
       "      <td>10751.0</td>\n",
       "      <td>780.0</td>\n",
       "      <td>7.255139</td>\n",
       "    </tr>\n",
       "    <tr>\n",
       "      <th>получение образования</th>\n",
       "      <td>3988.0</td>\n",
       "      <td>369.0</td>\n",
       "      <td>9.252758</td>\n",
       "    </tr>\n",
       "    <tr>\n",
       "      <th>проведение свадьбы</th>\n",
       "      <td>2313.0</td>\n",
       "      <td>183.0</td>\n",
       "      <td>7.911803</td>\n",
       "    </tr>\n",
       "  </tbody>\n",
       "</table>\n",
       "</div>"
      ],
      "text/plain": [
       "                            payee  debtors  debtors_share\n",
       "purpose_category                                         \n",
       "операции с автомобилем     4279.0    400.0       9.347978\n",
       "операции с недвижимостью  10751.0    780.0       7.255139\n",
       "получение образования      3988.0    369.0       9.252758\n",
       "проведение свадьбы         2313.0    183.0       7.911803"
      ]
     },
     "execution_count": 25,
     "metadata": {},
     "output_type": "execute_result"
    }
   ],
   "source": [
    "new_table('purpose_category')"
   ]
  },
  {
   "cell_type": "markdown",
   "id": "12e0c812",
   "metadata": {
    "deletable": false,
    "id": "b4bb2ce6"
   },
   "source": [
    "**Вывод:** Самыми надежными операциями являются операции с недвижимостью, а самыми рисковаными — операции с автомобилем и получением образования. А проведение свадьб — золотая серидина. "
   ]
  },
  {
   "cell_type": "markdown",
   "id": "c8343271",
   "metadata": {
    "deletable": false,
    "editable": false,
    "id": "09c3ac4c"
   },
   "source": [
    "#### 3.5 Приведите возможные причины появления пропусков в исходных данных."
   ]
  },
  {
   "cell_type": "markdown",
   "id": "2d7c0292",
   "metadata": {
    "deletable": false,
    "id": "9da2ceda"
   },
   "source": [
    "*Ответ:* Неправильная выгрузка или ввод данных."
   ]
  },
  {
   "cell_type": "markdown",
   "id": "b5d07cdd",
   "metadata": {
    "deletable": false,
    "editable": false,
    "id": "7b0487d6"
   },
   "source": [
    "#### 3.6 Объясните, почему заполнить пропуски медианным значением — лучшее решение для количественных переменных."
   ]
  },
  {
   "cell_type": "markdown",
   "id": "895d5686",
   "metadata": {
    "deletable": false,
    "id": "7ecf2b8e"
   },
   "source": [
    "*Ответ:* Порой данные могут быть слишком разными (чересчур большие иль маленькие), медиана позволяет без потерь заполнить эту разницу, не портя корректность данных и будущих с ними манипуляций."
   ]
  },
  {
   "cell_type": "markdown",
   "id": "8a51fa2e",
   "metadata": {
    "deletable": false,
    "editable": false,
    "id": "6db5255a"
   },
   "source": [
    "### Шаг 4: общий вывод."
   ]
  },
  {
   "cell_type": "markdown",
   "id": "c55e4ac2",
   "metadata": {
    "deletable": false,
    "id": "bad65432"
   },
   "source": [
    "Подводя итоги, можно сказать, что очень многие ситуации влияют на возможность выплаты кредита в срок — от банального заработка до цели кредита.\n",
    "\n",
    "Было проверенно четыре зависимости и все оказались верными:\n",
    "\n",
    "    1. Количество детей и правда влияеет на успешное закрытие кредита без задолженности.\n",
    "    2. И семейное положение тоже влияет, семейной паре проще выплатить кредит, но и вдовцы с вдовами и люди в разводе, также могут претендовать на выплат без задолжностей, возможно, им повезло с имуществом, а замужным и женатым с их партнером)\n",
    "    3. Чем больше денег, тем проще выплатить. До жути банальная истина.\n",
    "    4. С целями дела обстаят интереснее, оказывается, покупка недвижимости самая надеждная цель, возможно, из-за того, что требует большой подготовки, как и свадьба.\n",
    "    \n",
    "Идеальным клиентом можно назвать человека без детей, с заработком от 200 тысяч, женатого/замужнего, а также с целью покупки недвижимости.\n",
    "\n",
    "Рискованные же клиент это человек с 2 детьми, не женатым/не замужем, с заработком от 50 тысяч и с целью покупки автомобиля."
   ]
  }
 ],
 "metadata": {
  "ExecuteTimeLog": [
   {
    "duration": 49,
    "start_time": "2022-10-21T15:15:22.650Z"
   },
   {
    "duration": 458,
    "start_time": "2022-10-21T15:16:17.126Z"
   },
   {
    "duration": 22,
    "start_time": "2022-10-21T15:16:18.160Z"
   },
   {
    "duration": 23,
    "start_time": "2022-10-21T15:16:19.119Z"
   },
   {
    "duration": 13,
    "start_time": "2022-10-21T15:16:21.017Z"
   },
   {
    "duration": 36,
    "start_time": "2022-10-21T15:16:21.806Z"
   },
   {
    "duration": 8,
    "start_time": "2022-10-21T15:16:22.804Z"
   },
   {
    "duration": 8,
    "start_time": "2022-10-21T15:16:23.467Z"
   },
   {
    "duration": 12,
    "start_time": "2022-10-21T15:16:24.413Z"
   },
   {
    "duration": 17,
    "start_time": "2022-10-21T15:16:24.983Z"
   },
   {
    "duration": 5,
    "start_time": "2022-10-21T15:16:25.624Z"
   },
   {
    "duration": 32,
    "start_time": "2022-10-21T15:16:26.518Z"
   },
   {
    "duration": 11,
    "start_time": "2022-10-21T15:16:27.166Z"
   },
   {
    "duration": 4,
    "start_time": "2022-10-21T15:16:28.116Z"
   },
   {
    "duration": 26,
    "start_time": "2022-10-21T15:16:29.087Z"
   },
   {
    "duration": 30,
    "start_time": "2022-10-21T15:16:29.685Z"
   },
   {
    "duration": 24,
    "start_time": "2022-10-21T15:16:30.023Z"
   },
   {
    "duration": 5,
    "start_time": "2022-10-21T15:16:31.140Z"
   },
   {
    "duration": 9,
    "start_time": "2022-10-21T15:16:31.746Z"
   },
   {
    "duration": 5,
    "start_time": "2022-10-21T15:16:33.047Z"
   },
   {
    "duration": 5,
    "start_time": "2022-10-21T15:16:34.181Z"
   },
   {
    "duration": 8,
    "start_time": "2022-10-21T15:16:40.214Z"
   },
   {
    "duration": 25,
    "start_time": "2022-10-21T15:16:41.936Z"
   },
   {
    "duration": 10,
    "start_time": "2022-10-21T15:17:04.528Z"
   },
   {
    "duration": 18,
    "start_time": "2022-10-21T15:17:40.446Z"
   },
   {
    "duration": 26,
    "start_time": "2022-10-21T15:22:32.154Z"
   },
   {
    "duration": 28,
    "start_time": "2022-10-21T15:22:47.720Z"
   },
   {
    "duration": 25,
    "start_time": "2022-10-21T15:23:14.244Z"
   },
   {
    "duration": 47,
    "start_time": "2022-10-21T15:23:26.240Z"
   },
   {
    "duration": 31,
    "start_time": "2022-10-21T15:24:48.514Z"
   },
   {
    "duration": 45,
    "start_time": "2022-10-21T15:25:08.375Z"
   },
   {
    "duration": 18,
    "start_time": "2022-10-21T15:25:28.175Z"
   },
   {
    "duration": 14,
    "start_time": "2022-10-21T15:26:16.168Z"
   },
   {
    "duration": 38,
    "start_time": "2022-10-21T15:26:33.885Z"
   },
   {
    "duration": 9,
    "start_time": "2022-10-21T15:26:56.540Z"
   },
   {
    "duration": 98,
    "start_time": "2022-10-21T15:33:08.532Z"
   },
   {
    "duration": 18,
    "start_time": "2022-10-21T15:33:25.016Z"
   },
   {
    "duration": 6,
    "start_time": "2022-10-21T15:38:28.431Z"
   },
   {
    "duration": 15,
    "start_time": "2022-10-21T15:38:49.288Z"
   },
   {
    "duration": 6,
    "start_time": "2022-10-21T15:38:52.220Z"
   },
   {
    "duration": 5,
    "start_time": "2022-10-21T15:39:09.610Z"
   },
   {
    "duration": 6,
    "start_time": "2022-10-21T15:39:14.732Z"
   },
   {
    "duration": 1362,
    "start_time": "2022-10-21T15:40:57.365Z"
   },
   {
    "duration": 2176,
    "start_time": "2022-10-21T15:41:09.062Z"
   },
   {
    "duration": 6,
    "start_time": "2022-10-21T15:41:22.070Z"
   },
   {
    "duration": 8,
    "start_time": "2022-10-21T15:52:07.429Z"
   },
   {
    "duration": 11,
    "start_time": "2022-10-21T15:52:21.923Z"
   },
   {
    "duration": 15,
    "start_time": "2022-10-21T15:52:26.631Z"
   },
   {
    "duration": 14,
    "start_time": "2022-10-21T15:52:33.742Z"
   },
   {
    "duration": 9,
    "start_time": "2022-10-21T15:52:48.922Z"
   },
   {
    "duration": 11,
    "start_time": "2022-10-21T15:52:55.950Z"
   },
   {
    "duration": 9,
    "start_time": "2022-10-21T15:53:00.500Z"
   },
   {
    "duration": 16,
    "start_time": "2022-10-21T15:53:12.911Z"
   },
   {
    "duration": 8,
    "start_time": "2022-10-21T15:53:28.648Z"
   },
   {
    "duration": 8,
    "start_time": "2022-10-21T16:04:16.622Z"
   },
   {
    "duration": 13,
    "start_time": "2022-10-21T16:04:22.866Z"
   },
   {
    "duration": 11,
    "start_time": "2022-10-21T16:04:47.790Z"
   },
   {
    "duration": 99,
    "start_time": "2022-10-21T16:05:02.812Z"
   },
   {
    "duration": 86,
    "start_time": "2022-10-21T16:05:49.329Z"
   },
   {
    "duration": 120,
    "start_time": "2022-10-21T16:07:10.006Z"
   },
   {
    "duration": 11,
    "start_time": "2022-10-21T16:08:52.727Z"
   },
   {
    "duration": 111,
    "start_time": "2022-10-21T16:09:14.208Z"
   },
   {
    "duration": 94,
    "start_time": "2022-10-21T16:09:47.049Z"
   },
   {
    "duration": 13,
    "start_time": "2022-10-21T16:09:56.817Z"
   },
   {
    "duration": 10,
    "start_time": "2022-10-21T16:10:31.534Z"
   },
   {
    "duration": 6,
    "start_time": "2022-10-21T16:11:58.785Z"
   },
   {
    "duration": 15,
    "start_time": "2022-10-21T16:12:23.805Z"
   },
   {
    "duration": 9,
    "start_time": "2022-10-21T16:12:51.195Z"
   },
   {
    "duration": 12,
    "start_time": "2022-10-21T16:12:59.744Z"
   },
   {
    "duration": 14,
    "start_time": "2022-10-21T16:13:22.119Z"
   },
   {
    "duration": 14,
    "start_time": "2022-10-21T16:13:32.349Z"
   },
   {
    "duration": 13,
    "start_time": "2022-10-21T16:13:54.847Z"
   },
   {
    "duration": 15,
    "start_time": "2022-10-21T16:14:59.913Z"
   },
   {
    "duration": 15,
    "start_time": "2022-10-21T16:15:42.603Z"
   },
   {
    "duration": 13,
    "start_time": "2022-10-21T16:15:52.102Z"
   },
   {
    "duration": 8,
    "start_time": "2022-10-21T16:17:03.322Z"
   },
   {
    "duration": 10,
    "start_time": "2022-10-21T16:21:27.037Z"
   },
   {
    "duration": 1021,
    "start_time": "2022-10-21T16:21:38.151Z"
   },
   {
    "duration": 1015,
    "start_time": "2022-10-21T16:22:50.299Z"
   },
   {
    "duration": 939,
    "start_time": "2022-10-21T16:23:08.761Z"
   },
   {
    "duration": 9,
    "start_time": "2022-10-21T16:23:16.279Z"
   },
   {
    "duration": 140,
    "start_time": "2022-10-21T16:23:29.686Z"
   },
   {
    "duration": 18,
    "start_time": "2022-10-21T16:24:12.666Z"
   },
   {
    "duration": 16,
    "start_time": "2022-10-21T16:24:23.578Z"
   },
   {
    "duration": 831,
    "start_time": "2022-10-21T16:24:33.046Z"
   },
   {
    "duration": 113,
    "start_time": "2022-10-21T16:24:37.933Z"
   },
   {
    "duration": 8,
    "start_time": "2022-10-21T16:25:27.209Z"
   },
   {
    "duration": 21,
    "start_time": "2022-10-21T16:25:35.800Z"
   },
   {
    "duration": 19,
    "start_time": "2022-10-21T16:25:56.654Z"
   },
   {
    "duration": 175,
    "start_time": "2022-10-21T16:26:11.684Z"
   },
   {
    "duration": 7,
    "start_time": "2022-10-21T16:26:38.949Z"
   },
   {
    "duration": 7,
    "start_time": "2022-10-21T16:26:42.149Z"
   },
   {
    "duration": 7,
    "start_time": "2022-10-21T16:26:53.817Z"
   },
   {
    "duration": 9,
    "start_time": "2022-10-21T16:26:58.482Z"
   },
   {
    "duration": 8,
    "start_time": "2022-10-21T16:27:02.340Z"
   },
   {
    "duration": 8,
    "start_time": "2022-10-21T16:27:05.176Z"
   },
   {
    "duration": 13,
    "start_time": "2022-10-21T16:27:16.222Z"
   },
   {
    "duration": 14,
    "start_time": "2022-10-21T16:27:25.440Z"
   },
   {
    "duration": 8,
    "start_time": "2022-10-21T16:27:36.603Z"
   },
   {
    "duration": 9,
    "start_time": "2022-10-21T16:27:55.745Z"
   },
   {
    "duration": 6,
    "start_time": "2022-10-21T16:27:59.269Z"
   },
   {
    "duration": 909,
    "start_time": "2022-10-21T16:28:12.207Z"
   },
   {
    "duration": 840,
    "start_time": "2022-10-21T16:28:20.407Z"
   },
   {
    "duration": 8,
    "start_time": "2022-10-21T16:28:31.216Z"
   },
   {
    "duration": 9,
    "start_time": "2022-10-21T16:31:26.240Z"
   },
   {
    "duration": 8,
    "start_time": "2022-10-21T16:31:35.070Z"
   },
   {
    "duration": 6,
    "start_time": "2022-10-21T16:32:29.589Z"
   },
   {
    "duration": 7,
    "start_time": "2022-10-21T16:32:38.712Z"
   },
   {
    "duration": 13,
    "start_time": "2022-10-21T16:32:54.538Z"
   },
   {
    "duration": 7,
    "start_time": "2022-10-21T16:33:01.055Z"
   },
   {
    "duration": 7,
    "start_time": "2022-10-21T16:33:07.828Z"
   },
   {
    "duration": 88,
    "start_time": "2022-10-21T16:35:53.772Z"
   },
   {
    "duration": 13,
    "start_time": "2022-10-21T16:35:59.120Z"
   },
   {
    "duration": 7,
    "start_time": "2022-10-21T16:37:26.448Z"
   },
   {
    "duration": 5,
    "start_time": "2022-10-21T16:37:30.611Z"
   },
   {
    "duration": 8,
    "start_time": "2022-10-21T16:38:13.445Z"
   },
   {
    "duration": 7,
    "start_time": "2022-10-21T16:38:29.216Z"
   },
   {
    "duration": 6,
    "start_time": "2022-10-21T16:38:33.424Z"
   },
   {
    "duration": 11,
    "start_time": "2022-10-21T16:39:43.161Z"
   },
   {
    "duration": 11,
    "start_time": "2022-10-21T16:39:54.009Z"
   },
   {
    "duration": 7,
    "start_time": "2022-10-21T16:39:58.726Z"
   },
   {
    "duration": 10,
    "start_time": "2022-10-21T16:40:43.162Z"
   },
   {
    "duration": 7,
    "start_time": "2022-10-21T16:42:14.898Z"
   },
   {
    "duration": 6,
    "start_time": "2022-10-21T16:43:06.121Z"
   },
   {
    "duration": 7,
    "start_time": "2022-10-21T16:50:51.906Z"
   },
   {
    "duration": 10,
    "start_time": "2022-10-21T16:51:17.061Z"
   },
   {
    "duration": 8,
    "start_time": "2022-10-21T16:52:28.500Z"
   },
   {
    "duration": 10,
    "start_time": "2022-10-21T16:52:39.656Z"
   },
   {
    "duration": 10,
    "start_time": "2022-10-21T16:53:03.101Z"
   },
   {
    "duration": 9,
    "start_time": "2022-10-21T16:53:16.605Z"
   },
   {
    "duration": 79,
    "start_time": "2022-10-21T16:53:42.443Z"
   },
   {
    "duration": 11,
    "start_time": "2022-10-21T16:53:46.469Z"
   },
   {
    "duration": 8,
    "start_time": "2022-10-21T16:54:07.525Z"
   },
   {
    "duration": 9,
    "start_time": "2022-10-21T16:54:16.226Z"
   },
   {
    "duration": 9,
    "start_time": "2022-10-21T16:56:34.639Z"
   },
   {
    "duration": 12,
    "start_time": "2022-10-21T16:56:53.257Z"
   },
   {
    "duration": 1104,
    "start_time": "2022-10-21T16:57:05.736Z"
   },
   {
    "duration": 12,
    "start_time": "2022-10-21T16:57:09.179Z"
   },
   {
    "duration": 1431,
    "start_time": "2022-10-21T16:57:14.507Z"
   },
   {
    "duration": 10,
    "start_time": "2022-10-21T16:57:25.210Z"
   },
   {
    "duration": 11,
    "start_time": "2022-10-21T16:57:32.351Z"
   },
   {
    "duration": 1092,
    "start_time": "2022-10-21T16:57:37.873Z"
   },
   {
    "duration": 11,
    "start_time": "2022-10-21T16:57:42.575Z"
   },
   {
    "duration": 10,
    "start_time": "2022-10-21T17:04:04.000Z"
   },
   {
    "duration": 69,
    "start_time": "2022-10-21T17:04:11.361Z"
   },
   {
    "duration": 8,
    "start_time": "2022-10-21T17:04:14.047Z"
   },
   {
    "duration": 8,
    "start_time": "2022-10-21T17:06:00.529Z"
   },
   {
    "duration": 8,
    "start_time": "2022-10-21T17:06:31.619Z"
   },
   {
    "duration": 10,
    "start_time": "2022-10-21T17:11:39.870Z"
   },
   {
    "duration": 7,
    "start_time": "2022-10-21T17:28:04.955Z"
   },
   {
    "duration": 9,
    "start_time": "2022-10-21T17:30:08.903Z"
   },
   {
    "duration": 9,
    "start_time": "2022-10-21T17:30:30.999Z"
   },
   {
    "duration": 9,
    "start_time": "2022-10-21T17:30:38.552Z"
   },
   {
    "duration": 11,
    "start_time": "2022-10-21T17:45:56.029Z"
   },
   {
    "duration": 10,
    "start_time": "2022-10-21T17:47:50.761Z"
   },
   {
    "duration": 459,
    "start_time": "2022-10-21T19:57:40.373Z"
   },
   {
    "duration": 23,
    "start_time": "2022-10-21T19:57:40.834Z"
   },
   {
    "duration": 19,
    "start_time": "2022-10-21T19:57:40.859Z"
   },
   {
    "duration": 31,
    "start_time": "2022-10-21T19:57:40.880Z"
   },
   {
    "duration": 52,
    "start_time": "2022-10-21T19:57:40.913Z"
   },
   {
    "duration": 4,
    "start_time": "2022-10-21T19:57:40.967Z"
   },
   {
    "duration": 11,
    "start_time": "2022-10-21T19:57:40.972Z"
   },
   {
    "duration": 27,
    "start_time": "2022-10-21T19:57:40.984Z"
   },
   {
    "duration": 12,
    "start_time": "2022-10-21T19:57:41.013Z"
   },
   {
    "duration": 9,
    "start_time": "2022-10-21T19:57:41.026Z"
   },
   {
    "duration": 33,
    "start_time": "2022-10-21T19:57:41.037Z"
   },
   {
    "duration": 9,
    "start_time": "2022-10-21T19:57:41.072Z"
   },
   {
    "duration": 3,
    "start_time": "2022-10-21T19:57:41.082Z"
   },
   {
    "duration": 11,
    "start_time": "2022-10-21T19:57:41.110Z"
   },
   {
    "duration": 21,
    "start_time": "2022-10-21T19:57:41.122Z"
   },
   {
    "duration": 17,
    "start_time": "2022-10-21T19:57:41.144Z"
   },
   {
    "duration": 3,
    "start_time": "2022-10-21T19:57:41.163Z"
   },
   {
    "duration": 16,
    "start_time": "2022-10-21T19:57:41.167Z"
   },
   {
    "duration": 6,
    "start_time": "2022-10-21T19:57:41.208Z"
   },
   {
    "duration": 4,
    "start_time": "2022-10-21T19:57:41.216Z"
   },
   {
    "duration": 13,
    "start_time": "2022-10-21T19:57:41.221Z"
   },
   {
    "duration": 14,
    "start_time": "2022-10-21T19:57:41.235Z"
   },
   {
    "duration": 10,
    "start_time": "2022-10-21T19:57:41.250Z"
   },
   {
    "duration": 16,
    "start_time": "2022-10-21T19:57:41.262Z"
   },
   {
    "duration": 13,
    "start_time": "2022-10-21T19:57:41.310Z"
   },
   {
    "duration": 54,
    "start_time": "2022-10-23T09:58:20.276Z"
   },
   {
    "duration": 669,
    "start_time": "2022-10-23T09:58:46.145Z"
   },
   {
    "duration": 20,
    "start_time": "2022-10-23T09:58:47.047Z"
   },
   {
    "duration": 15,
    "start_time": "2022-10-23T09:58:47.424Z"
   },
   {
    "duration": 9,
    "start_time": "2022-10-23T09:58:48.090Z"
   },
   {
    "duration": 35,
    "start_time": "2022-10-23T09:58:48.411Z"
   },
   {
    "duration": 3,
    "start_time": "2022-10-23T09:58:48.893Z"
   },
   {
    "duration": 10,
    "start_time": "2022-10-23T09:58:49.411Z"
   },
   {
    "duration": 6,
    "start_time": "2022-10-23T09:58:49.946Z"
   },
   {
    "duration": 7,
    "start_time": "2022-10-23T09:58:50.308Z"
   },
   {
    "duration": 4,
    "start_time": "2022-10-23T09:58:50.651Z"
   },
   {
    "duration": 32,
    "start_time": "2022-10-23T09:58:51.169Z"
   },
   {
    "duration": 11,
    "start_time": "2022-10-23T09:58:51.499Z"
   },
   {
    "duration": 4,
    "start_time": "2022-10-23T09:58:52.059Z"
   },
   {
    "duration": 11,
    "start_time": "2022-10-23T09:58:52.591Z"
   },
   {
    "duration": 19,
    "start_time": "2022-10-23T09:58:52.980Z"
   },
   {
    "duration": 16,
    "start_time": "2022-10-23T09:58:53.164Z"
   },
   {
    "duration": 3,
    "start_time": "2022-10-23T09:58:53.722Z"
   },
   {
    "duration": 9,
    "start_time": "2022-10-23T09:58:53.916Z"
   },
   {
    "duration": 5,
    "start_time": "2022-10-23T09:58:54.705Z"
   },
   {
    "duration": 4,
    "start_time": "2022-10-23T09:58:55.446Z"
   },
   {
    "duration": 8,
    "start_time": "2022-10-23T09:58:55.788Z"
   },
   {
    "duration": 12,
    "start_time": "2022-10-23T09:58:57.783Z"
   },
   {
    "duration": 10,
    "start_time": "2022-10-23T09:59:19.530Z"
   },
   {
    "duration": 68,
    "start_time": "2022-10-23T09:59:36.844Z"
   },
   {
    "duration": 10,
    "start_time": "2022-10-23T09:59:46.563Z"
   },
   {
    "duration": 11,
    "start_time": "2022-10-23T09:59:57.854Z"
   },
   {
    "duration": 124,
    "start_time": "2022-10-23T10:00:14.123Z"
   },
   {
    "duration": 17,
    "start_time": "2022-10-23T10:00:26.716Z"
   },
   {
    "duration": 27,
    "start_time": "2022-10-23T10:01:00.341Z"
   },
   {
    "duration": 24,
    "start_time": "2022-10-23T10:03:11.039Z"
   },
   {
    "duration": 27,
    "start_time": "2022-10-23T10:03:26.164Z"
   },
   {
    "duration": 24,
    "start_time": "2022-10-23T10:03:35.073Z"
   },
   {
    "duration": 24,
    "start_time": "2022-10-23T10:04:14.495Z"
   },
   {
    "duration": 27,
    "start_time": "2022-10-23T10:04:20.325Z"
   },
   {
    "duration": 25,
    "start_time": "2022-10-23T10:05:14.492Z"
   },
   {
    "duration": 20,
    "start_time": "2022-10-23T10:06:10.784Z"
   },
   {
    "duration": 20,
    "start_time": "2022-10-23T10:06:18.876Z"
   },
   {
    "duration": 21,
    "start_time": "2022-10-23T10:06:26.372Z"
   },
   {
    "duration": 17,
    "start_time": "2022-10-23T10:11:14.494Z"
   },
   {
    "duration": 23,
    "start_time": "2022-10-23T10:11:30.078Z"
   },
   {
    "duration": 22,
    "start_time": "2022-10-23T10:11:58.604Z"
   },
   {
    "duration": 24,
    "start_time": "2022-10-23T10:12:12.545Z"
   },
   {
    "duration": 492,
    "start_time": "2022-10-23T10:12:32.806Z"
   },
   {
    "duration": 25,
    "start_time": "2022-10-23T10:12:33.300Z"
   },
   {
    "duration": 17,
    "start_time": "2022-10-23T10:12:33.494Z"
   },
   {
    "duration": 10,
    "start_time": "2022-10-23T10:12:34.104Z"
   },
   {
    "duration": 38,
    "start_time": "2022-10-23T10:12:34.431Z"
   },
   {
    "duration": 4,
    "start_time": "2022-10-23T10:12:35.066Z"
   },
   {
    "duration": 8,
    "start_time": "2022-10-23T10:12:35.408Z"
   },
   {
    "duration": 5,
    "start_time": "2022-10-23T10:12:35.917Z"
   },
   {
    "duration": 6,
    "start_time": "2022-10-23T10:12:36.266Z"
   },
   {
    "duration": 4,
    "start_time": "2022-10-23T10:12:36.627Z"
   },
   {
    "duration": 34,
    "start_time": "2022-10-23T10:12:37.149Z"
   },
   {
    "duration": 9,
    "start_time": "2022-10-23T10:12:37.518Z"
   },
   {
    "duration": 4,
    "start_time": "2022-10-23T10:12:38.061Z"
   },
   {
    "duration": 12,
    "start_time": "2022-10-23T10:12:38.625Z"
   },
   {
    "duration": 19,
    "start_time": "2022-10-23T10:12:38.998Z"
   },
   {
    "duration": 17,
    "start_time": "2022-10-23T10:12:39.195Z"
   },
   {
    "duration": 3,
    "start_time": "2022-10-23T10:12:40.018Z"
   },
   {
    "duration": 10,
    "start_time": "2022-10-23T10:12:40.360Z"
   },
   {
    "duration": 7,
    "start_time": "2022-10-23T10:12:41.064Z"
   },
   {
    "duration": 4,
    "start_time": "2022-10-23T10:12:41.791Z"
   },
   {
    "duration": 8,
    "start_time": "2022-10-23T10:12:42.236Z"
   },
   {
    "duration": 25,
    "start_time": "2022-10-23T10:12:43.890Z"
   },
   {
    "duration": 21,
    "start_time": "2022-10-23T10:12:59.946Z"
   },
   {
    "duration": 22,
    "start_time": "2022-10-23T10:13:26.494Z"
   },
   {
    "duration": 24,
    "start_time": "2022-10-23T10:14:16.290Z"
   },
   {
    "duration": 463,
    "start_time": "2022-10-23T10:16:42.240Z"
   },
   {
    "duration": 22,
    "start_time": "2022-10-23T10:16:42.705Z"
   },
   {
    "duration": 14,
    "start_time": "2022-10-23T10:16:42.977Z"
   },
   {
    "duration": 10,
    "start_time": "2022-10-23T10:16:43.649Z"
   },
   {
    "duration": 34,
    "start_time": "2022-10-23T10:16:44.004Z"
   },
   {
    "duration": 4,
    "start_time": "2022-10-23T10:16:44.532Z"
   },
   {
    "duration": 8,
    "start_time": "2022-10-23T10:16:44.876Z"
   },
   {
    "duration": 5,
    "start_time": "2022-10-23T10:16:45.389Z"
   },
   {
    "duration": 7,
    "start_time": "2022-10-23T10:16:45.730Z"
   },
   {
    "duration": 6,
    "start_time": "2022-10-23T10:16:46.094Z"
   },
   {
    "duration": 34,
    "start_time": "2022-10-23T10:16:46.703Z"
   },
   {
    "duration": 10,
    "start_time": "2022-10-23T10:16:47.157Z"
   },
   {
    "duration": 4,
    "start_time": "2022-10-23T10:16:47.814Z"
   },
   {
    "duration": 12,
    "start_time": "2022-10-23T10:16:48.473Z"
   },
   {
    "duration": 24,
    "start_time": "2022-10-23T10:16:48.856Z"
   },
   {
    "duration": 19,
    "start_time": "2022-10-23T10:16:49.072Z"
   },
   {
    "duration": 4,
    "start_time": "2022-10-23T10:16:49.707Z"
   },
   {
    "duration": 12,
    "start_time": "2022-10-23T10:16:49.921Z"
   },
   {
    "duration": 9,
    "start_time": "2022-10-23T10:16:50.448Z"
   },
   {
    "duration": 4,
    "start_time": "2022-10-23T10:16:50.918Z"
   },
   {
    "duration": 8,
    "start_time": "2022-10-23T10:16:51.181Z"
   },
   {
    "duration": 29,
    "start_time": "2022-10-23T10:16:52.147Z"
   },
   {
    "duration": 22,
    "start_time": "2022-10-23T10:20:36.837Z"
   },
   {
    "duration": 23,
    "start_time": "2022-10-23T10:21:57.221Z"
   },
   {
    "duration": 23,
    "start_time": "2022-10-23T10:22:05.588Z"
   },
   {
    "duration": 22,
    "start_time": "2022-10-23T10:22:08.280Z"
   },
   {
    "duration": 22,
    "start_time": "2022-10-23T10:22:11.695Z"
   },
   {
    "duration": 31,
    "start_time": "2022-10-23T10:47:25.578Z"
   },
   {
    "duration": 103,
    "start_time": "2022-10-23T10:47:59.422Z"
   },
   {
    "duration": 35,
    "start_time": "2022-10-23T10:48:12.136Z"
   },
   {
    "duration": 52,
    "start_time": "2022-10-23T10:50:37.201Z"
   },
   {
    "duration": 47,
    "start_time": "2022-10-23T10:50:48.429Z"
   },
   {
    "duration": 68,
    "start_time": "2022-10-23T10:50:59.833Z"
   },
   {
    "duration": 42,
    "start_time": "2022-10-23T10:51:47.797Z"
   },
   {
    "duration": 42,
    "start_time": "2022-10-23T10:52:14.923Z"
   },
   {
    "duration": 26,
    "start_time": "2022-10-23T10:53:08.186Z"
   },
   {
    "duration": 26,
    "start_time": "2022-10-23T10:55:37.393Z"
   },
   {
    "duration": 25,
    "start_time": "2022-10-23T10:56:23.346Z"
   },
   {
    "duration": 25,
    "start_time": "2022-10-23T10:56:53.853Z"
   },
   {
    "duration": 19,
    "start_time": "2022-10-23T10:57:31.234Z"
   },
   {
    "duration": 22,
    "start_time": "2022-10-23T10:57:40.528Z"
   },
   {
    "duration": 25,
    "start_time": "2022-10-23T10:57:46.386Z"
   },
   {
    "duration": 24,
    "start_time": "2022-10-23T10:57:48.451Z"
   },
   {
    "duration": 22,
    "start_time": "2022-10-23T10:57:57.346Z"
   },
   {
    "duration": 1060,
    "start_time": "2022-10-23T11:42:15.912Z"
   },
   {
    "duration": 1059,
    "start_time": "2022-10-23T11:42:32.089Z"
   },
   {
    "duration": 19,
    "start_time": "2022-10-23T11:42:37.874Z"
   },
   {
    "duration": 26,
    "start_time": "2022-10-23T11:42:40.699Z"
   },
   {
    "duration": 1058,
    "start_time": "2022-10-23T11:43:10.199Z"
   },
   {
    "duration": 28,
    "start_time": "2022-10-23T11:43:17.038Z"
   },
   {
    "duration": 36,
    "start_time": "2022-10-23T11:43:32.824Z"
   },
   {
    "duration": 35,
    "start_time": "2022-10-23T11:43:38.021Z"
   },
   {
    "duration": 30,
    "start_time": "2022-10-23T11:43:44.283Z"
   },
   {
    "duration": 33,
    "start_time": "2022-10-23T11:43:48.637Z"
   },
   {
    "duration": 33,
    "start_time": "2022-10-23T11:44:14.625Z"
   },
   {
    "duration": 1170,
    "start_time": "2022-10-23T11:44:55.733Z"
   },
   {
    "duration": 1263,
    "start_time": "2022-10-23T11:45:21.168Z"
   },
   {
    "duration": 26,
    "start_time": "2022-10-23T11:45:31.117Z"
   },
   {
    "duration": 31,
    "start_time": "2022-10-23T11:46:41.233Z"
   },
   {
    "duration": 23,
    "start_time": "2022-10-23T11:46:47.607Z"
   },
   {
    "duration": 452,
    "start_time": "2022-10-23T12:25:08.673Z"
   },
   {
    "duration": 22,
    "start_time": "2022-10-23T12:25:09.127Z"
   },
   {
    "duration": 17,
    "start_time": "2022-10-23T12:25:09.151Z"
   },
   {
    "duration": 8,
    "start_time": "2022-10-23T12:25:09.170Z"
   },
   {
    "duration": 32,
    "start_time": "2022-10-23T12:25:09.180Z"
   },
   {
    "duration": 3,
    "start_time": "2022-10-23T12:25:09.214Z"
   },
   {
    "duration": 11,
    "start_time": "2022-10-23T12:25:09.218Z"
   },
   {
    "duration": 25,
    "start_time": "2022-10-23T12:25:09.230Z"
   },
   {
    "duration": 16,
    "start_time": "2022-10-23T12:25:09.258Z"
   },
   {
    "duration": 6,
    "start_time": "2022-10-23T12:25:09.277Z"
   },
   {
    "duration": 35,
    "start_time": "2022-10-23T12:25:09.284Z"
   },
   {
    "duration": 9,
    "start_time": "2022-10-23T12:25:09.321Z"
   },
   {
    "duration": 30,
    "start_time": "2022-10-23T12:25:09.331Z"
   },
   {
    "duration": 27,
    "start_time": "2022-10-23T12:25:09.362Z"
   },
   {
    "duration": 37,
    "start_time": "2022-10-23T12:25:09.391Z"
   },
   {
    "duration": 17,
    "start_time": "2022-10-23T12:25:09.429Z"
   },
   {
    "duration": 3,
    "start_time": "2022-10-23T12:25:09.448Z"
   },
   {
    "duration": 28,
    "start_time": "2022-10-23T12:25:09.453Z"
   },
   {
    "duration": 7,
    "start_time": "2022-10-23T12:25:09.483Z"
   },
   {
    "duration": 8,
    "start_time": "2022-10-23T12:25:09.492Z"
   },
   {
    "duration": 15,
    "start_time": "2022-10-23T12:25:09.502Z"
   },
   {
    "duration": 34,
    "start_time": "2022-10-23T12:25:09.518Z"
   },
   {
    "duration": 24,
    "start_time": "2022-10-23T12:25:09.554Z"
   },
   {
    "duration": 31,
    "start_time": "2022-10-23T12:25:09.580Z"
   },
   {
    "duration": 42,
    "start_time": "2022-10-23T12:25:09.613Z"
   }
  ],
  "colab": {
   "name": "dpp_template_part2.ipynb",
   "provenance": []
  },
  "kernelspec": {
   "display_name": "Python 3 (ipykernel)",
   "language": "python",
   "name": "python3"
  },
  "language_info": {
   "codemirror_mode": {
    "name": "ipython",
    "version": 3
   },
   "file_extension": ".py",
   "mimetype": "text/x-python",
   "name": "python",
   "nbconvert_exporter": "python",
   "pygments_lexer": "ipython3",
   "version": "3.9.5"
  },
  "toc": {
   "base_numbering": 1,
   "nav_menu": {},
   "number_sections": true,
   "sideBar": true,
   "skip_h1_title": true,
   "title_cell": "Table of Contents",
   "title_sidebar": "Contents",
   "toc_cell": false,
   "toc_position": {},
   "toc_section_display": true,
   "toc_window_display": false
  }
 },
 "nbformat": 4,
 "nbformat_minor": 5
}
