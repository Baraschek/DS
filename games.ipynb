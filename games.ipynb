{
 "cells": [
  {
   "cell_type": "markdown",
   "metadata": {},
   "source": [
    "# Закономерности, определяющие успешность игры\n",
    "\n",
    "Вы работаете в интернет-магазине «Стримчик», который продаёт по всему миру компьютерные игры. Из открытых источников доступны исторические данные о продажах игр, оценки пользователей и экспертов, жанры и платформы (например, Xboxили PlayStation). Вам нужно выявить определяющие успешность игры закономерности. Это позволит сделать ставку на потенциально популярный продукт и спланировать рекламные кампании.\n",
    "\n",
    "Перед вами данные до 2016 года. Представим, что сейчас декабрь 2016 г., и вы планируете кампанию на 2017-й. Нужно отработать принцип работы с данными. Неважно, прогнозируете ли вы продажи на 2017 год по данным 2016-го или же 2027-й — по данным 2026 года.\n",
    "\n",
    "В наборе данных попадается аббревиатура ESRB (Entertainment Software Rating Board) — это ассоциация, определяющая возрастной рейтинг компьютерных игр. ESRB оценивает игровой контент и присваивает ему подходящую возрастную категорию, например, «Для взрослых», «Для детей младшего возраста» или «Для подростков».\n",
    "\n",
    "## Изучение данных"
   ]
  },
  {
   "cell_type": "code",
   "execution_count": 1,
   "metadata": {},
   "outputs": [],
   "source": [
    "import pandas as pd\n",
    "import seaborn as sns\n",
    "import matplotlib.pyplot as plt\n",
    "from scipy import stats as st"
   ]
  },
  {
   "cell_type": "code",
   "execution_count": 2,
   "metadata": {},
   "outputs": [
    {
     "data": {
      "text/html": [
       "<div>\n",
       "<style scoped>\n",
       "    .dataframe tbody tr th:only-of-type {\n",
       "        vertical-align: middle;\n",
       "    }\n",
       "\n",
       "    .dataframe tbody tr th {\n",
       "        vertical-align: top;\n",
       "    }\n",
       "\n",
       "    .dataframe thead th {\n",
       "        text-align: right;\n",
       "    }\n",
       "</style>\n",
       "<table border=\"1\" class=\"dataframe\">\n",
       "  <thead>\n",
       "    <tr style=\"text-align: right;\">\n",
       "      <th></th>\n",
       "      <th>Name</th>\n",
       "      <th>Platform</th>\n",
       "      <th>Year_of_Release</th>\n",
       "      <th>Genre</th>\n",
       "      <th>NA_sales</th>\n",
       "      <th>EU_sales</th>\n",
       "      <th>JP_sales</th>\n",
       "      <th>Other_sales</th>\n",
       "      <th>Critic_Score</th>\n",
       "      <th>User_Score</th>\n",
       "      <th>Rating</th>\n",
       "    </tr>\n",
       "  </thead>\n",
       "  <tbody>\n",
       "    <tr>\n",
       "      <th>0</th>\n",
       "      <td>Wii Sports</td>\n",
       "      <td>Wii</td>\n",
       "      <td>2006.0</td>\n",
       "      <td>Sports</td>\n",
       "      <td>41.36</td>\n",
       "      <td>28.96</td>\n",
       "      <td>3.77</td>\n",
       "      <td>8.45</td>\n",
       "      <td>76.0</td>\n",
       "      <td>8</td>\n",
       "      <td>E</td>\n",
       "    </tr>\n",
       "    <tr>\n",
       "      <th>1</th>\n",
       "      <td>Super Mario Bros.</td>\n",
       "      <td>NES</td>\n",
       "      <td>1985.0</td>\n",
       "      <td>Platform</td>\n",
       "      <td>29.08</td>\n",
       "      <td>3.58</td>\n",
       "      <td>6.81</td>\n",
       "      <td>0.77</td>\n",
       "      <td>NaN</td>\n",
       "      <td>NaN</td>\n",
       "      <td>NaN</td>\n",
       "    </tr>\n",
       "    <tr>\n",
       "      <th>2</th>\n",
       "      <td>Mario Kart Wii</td>\n",
       "      <td>Wii</td>\n",
       "      <td>2008.0</td>\n",
       "      <td>Racing</td>\n",
       "      <td>15.68</td>\n",
       "      <td>12.76</td>\n",
       "      <td>3.79</td>\n",
       "      <td>3.29</td>\n",
       "      <td>82.0</td>\n",
       "      <td>8.3</td>\n",
       "      <td>E</td>\n",
       "    </tr>\n",
       "    <tr>\n",
       "      <th>3</th>\n",
       "      <td>Wii Sports Resort</td>\n",
       "      <td>Wii</td>\n",
       "      <td>2009.0</td>\n",
       "      <td>Sports</td>\n",
       "      <td>15.61</td>\n",
       "      <td>10.93</td>\n",
       "      <td>3.28</td>\n",
       "      <td>2.95</td>\n",
       "      <td>80.0</td>\n",
       "      <td>8</td>\n",
       "      <td>E</td>\n",
       "    </tr>\n",
       "    <tr>\n",
       "      <th>4</th>\n",
       "      <td>Pokemon Red/Pokemon Blue</td>\n",
       "      <td>GB</td>\n",
       "      <td>1996.0</td>\n",
       "      <td>Role-Playing</td>\n",
       "      <td>11.27</td>\n",
       "      <td>8.89</td>\n",
       "      <td>10.22</td>\n",
       "      <td>1.00</td>\n",
       "      <td>NaN</td>\n",
       "      <td>NaN</td>\n",
       "      <td>NaN</td>\n",
       "    </tr>\n",
       "  </tbody>\n",
       "</table>\n",
       "</div>"
      ],
      "text/plain": [
       "                       Name Platform  Year_of_Release         Genre  NA_sales  \\\n",
       "0                Wii Sports      Wii           2006.0        Sports     41.36   \n",
       "1         Super Mario Bros.      NES           1985.0      Platform     29.08   \n",
       "2            Mario Kart Wii      Wii           2008.0        Racing     15.68   \n",
       "3         Wii Sports Resort      Wii           2009.0        Sports     15.61   \n",
       "4  Pokemon Red/Pokemon Blue       GB           1996.0  Role-Playing     11.27   \n",
       "\n",
       "   EU_sales  JP_sales  Other_sales  Critic_Score User_Score Rating  \n",
       "0     28.96      3.77         8.45          76.0          8      E  \n",
       "1      3.58      6.81         0.77           NaN        NaN    NaN  \n",
       "2     12.76      3.79         3.29          82.0        8.3      E  \n",
       "3     10.93      3.28         2.95          80.0          8      E  \n",
       "4      8.89     10.22         1.00           NaN        NaN    NaN  "
      ]
     },
     "execution_count": 2,
     "metadata": {},
     "output_type": "execute_result"
    }
   ],
   "source": [
    "data = pd.read_csv('/datasets/games.csv')\n",
    "data.head(5)"
   ]
  },
  {
   "cell_type": "markdown",
   "metadata": {},
   "source": [
    "    ● Name — название игры\n",
    "    ● Platform — платформа\n",
    "    ● Year_of_Release — год выпуска\n",
    "    ● Genre — жанр игры\n",
    "    ● NA_sales — продажи в Северной Америке (миллионы проданных копий)\n",
    "    ● EU_sales — продажи в Европе (миллионы проданных копий)\n",
    "    ● JP_sales — продажи в Японии (миллионы проданных копий)\n",
    "    ● Other_sales — продажи в других странах (миллионы проданных копий)\n",
    "    ● Critic_Score — оценка критиков (максимум 100)\n",
    "    ● User_Score — оценка пользователей (максимум 10)\n",
    "    ● Rating — рейтинг от организации ESRB (англ. Entertainment Software Rating Board). Эта ассоциация определяет рейтинг компьютерных игр и присваивает им подходящую возрастную категорию."
   ]
  },
  {
   "cell_type": "code",
   "execution_count": 3,
   "metadata": {},
   "outputs": [
    {
     "name": "stdout",
     "output_type": "stream",
     "text": [
      "<class 'pandas.core.frame.DataFrame'>\n",
      "RangeIndex: 16715 entries, 0 to 16714\n",
      "Data columns (total 11 columns):\n",
      " #   Column           Non-Null Count  Dtype  \n",
      "---  ------           --------------  -----  \n",
      " 0   Name             16713 non-null  object \n",
      " 1   Platform         16715 non-null  object \n",
      " 2   Year_of_Release  16446 non-null  float64\n",
      " 3   Genre            16713 non-null  object \n",
      " 4   NA_sales         16715 non-null  float64\n",
      " 5   EU_sales         16715 non-null  float64\n",
      " 6   JP_sales         16715 non-null  float64\n",
      " 7   Other_sales      16715 non-null  float64\n",
      " 8   Critic_Score     8137 non-null   float64\n",
      " 9   User_Score       10014 non-null  object \n",
      " 10  Rating           9949 non-null   object \n",
      "dtypes: float64(6), object(5)\n",
      "memory usage: 1.4+ MB\n"
     ]
    }
   ],
   "source": [
    "data.info()"
   ]
  },
  {
   "cell_type": "markdown",
   "metadata": {},
   "source": [
    "На первый вгляд заметны ошибки в название столбцов (не приведенны к нижнему регистру), год имеет тип float"
   ]
  },
  {
   "cell_type": "markdown",
   "metadata": {},
   "source": [
    "## Предобработка данных"
   ]
  },
  {
   "cell_type": "code",
   "execution_count": 4,
   "metadata": {},
   "outputs": [],
   "source": [
    "data.columns = data.columns.str.lower()"
   ]
  },
  {
   "cell_type": "code",
   "execution_count": 5,
   "metadata": {},
   "outputs": [
    {
     "data": {
      "text/plain": [
       "name                  2\n",
       "platform              0\n",
       "year_of_release     269\n",
       "genre                 2\n",
       "na_sales              0\n",
       "eu_sales              0\n",
       "jp_sales              0\n",
       "other_sales           0\n",
       "critic_score       8578\n",
       "user_score         6701\n",
       "rating             6766\n",
       "dtype: int64"
      ]
     },
     "execution_count": 5,
     "metadata": {},
     "output_type": "execute_result"
    }
   ],
   "source": [
    "data.isna().sum()"
   ]
  },
  {
   "cell_type": "markdown",
   "metadata": {},
   "source": [
    "### Обработка столбца 'name', 'genre' и  'year_of_release'\n",
    "\n",
    "Начнём с избавления пропусков в столбце 'name' и 'genre', скорее всего потеря данных произошла в этих слобцах по случайности, так как их небольшое количество"
   ]
  },
  {
   "cell_type": "code",
   "execution_count": 6,
   "metadata": {},
   "outputs": [
    {
     "data": {
      "text/html": [
       "<div>\n",
       "<style scoped>\n",
       "    .dataframe tbody tr th:only-of-type {\n",
       "        vertical-align: middle;\n",
       "    }\n",
       "\n",
       "    .dataframe tbody tr th {\n",
       "        vertical-align: top;\n",
       "    }\n",
       "\n",
       "    .dataframe thead th {\n",
       "        text-align: right;\n",
       "    }\n",
       "</style>\n",
       "<table border=\"1\" class=\"dataframe\">\n",
       "  <thead>\n",
       "    <tr style=\"text-align: right;\">\n",
       "      <th></th>\n",
       "      <th>name</th>\n",
       "      <th>platform</th>\n",
       "      <th>year_of_release</th>\n",
       "      <th>genre</th>\n",
       "      <th>na_sales</th>\n",
       "      <th>eu_sales</th>\n",
       "      <th>jp_sales</th>\n",
       "      <th>other_sales</th>\n",
       "      <th>critic_score</th>\n",
       "      <th>user_score</th>\n",
       "      <th>rating</th>\n",
       "    </tr>\n",
       "  </thead>\n",
       "  <tbody>\n",
       "    <tr>\n",
       "      <th>659</th>\n",
       "      <td>NaN</td>\n",
       "      <td>GEN</td>\n",
       "      <td>1993.0</td>\n",
       "      <td>NaN</td>\n",
       "      <td>1.78</td>\n",
       "      <td>0.53</td>\n",
       "      <td>0.00</td>\n",
       "      <td>0.08</td>\n",
       "      <td>NaN</td>\n",
       "      <td>NaN</td>\n",
       "      <td>NaN</td>\n",
       "    </tr>\n",
       "    <tr>\n",
       "      <th>14244</th>\n",
       "      <td>NaN</td>\n",
       "      <td>GEN</td>\n",
       "      <td>1993.0</td>\n",
       "      <td>NaN</td>\n",
       "      <td>0.00</td>\n",
       "      <td>0.00</td>\n",
       "      <td>0.03</td>\n",
       "      <td>0.00</td>\n",
       "      <td>NaN</td>\n",
       "      <td>NaN</td>\n",
       "      <td>NaN</td>\n",
       "    </tr>\n",
       "  </tbody>\n",
       "</table>\n",
       "</div>"
      ],
      "text/plain": [
       "      name platform  year_of_release genre  na_sales  eu_sales  jp_sales  \\\n",
       "659    NaN      GEN           1993.0   NaN      1.78      0.53      0.00   \n",
       "14244  NaN      GEN           1993.0   NaN      0.00      0.00      0.03   \n",
       "\n",
       "       other_sales  critic_score user_score rating  \n",
       "659           0.08           NaN        NaN    NaN  \n",
       "14244         0.00           NaN        NaN    NaN  "
      ]
     },
     "execution_count": 6,
     "metadata": {},
     "output_type": "execute_result"
    }
   ],
   "source": [
    "data[data['name'].isna() == True]"
   ]
  },
  {
   "cell_type": "code",
   "execution_count": 7,
   "metadata": {},
   "outputs": [
    {
     "data": {
      "text/html": [
       "<div>\n",
       "<style scoped>\n",
       "    .dataframe tbody tr th:only-of-type {\n",
       "        vertical-align: middle;\n",
       "    }\n",
       "\n",
       "    .dataframe tbody tr th {\n",
       "        vertical-align: top;\n",
       "    }\n",
       "\n",
       "    .dataframe thead th {\n",
       "        text-align: right;\n",
       "    }\n",
       "</style>\n",
       "<table border=\"1\" class=\"dataframe\">\n",
       "  <thead>\n",
       "    <tr style=\"text-align: right;\">\n",
       "      <th></th>\n",
       "      <th>name</th>\n",
       "      <th>platform</th>\n",
       "      <th>year_of_release</th>\n",
       "      <th>genre</th>\n",
       "      <th>na_sales</th>\n",
       "      <th>eu_sales</th>\n",
       "      <th>jp_sales</th>\n",
       "      <th>other_sales</th>\n",
       "      <th>critic_score</th>\n",
       "      <th>user_score</th>\n",
       "      <th>rating</th>\n",
       "    </tr>\n",
       "  </thead>\n",
       "  <tbody>\n",
       "    <tr>\n",
       "      <th>183</th>\n",
       "      <td>Madden NFL 2004</td>\n",
       "      <td>PS2</td>\n",
       "      <td>NaN</td>\n",
       "      <td>Sports</td>\n",
       "      <td>4.26</td>\n",
       "      <td>0.26</td>\n",
       "      <td>0.01</td>\n",
       "      <td>0.71</td>\n",
       "      <td>94.0</td>\n",
       "      <td>8.5</td>\n",
       "      <td>E</td>\n",
       "    </tr>\n",
       "    <tr>\n",
       "      <th>377</th>\n",
       "      <td>FIFA Soccer 2004</td>\n",
       "      <td>PS2</td>\n",
       "      <td>NaN</td>\n",
       "      <td>Sports</td>\n",
       "      <td>0.59</td>\n",
       "      <td>2.36</td>\n",
       "      <td>0.04</td>\n",
       "      <td>0.51</td>\n",
       "      <td>84.0</td>\n",
       "      <td>6.4</td>\n",
       "      <td>E</td>\n",
       "    </tr>\n",
       "    <tr>\n",
       "      <th>456</th>\n",
       "      <td>LEGO Batman: The Videogame</td>\n",
       "      <td>Wii</td>\n",
       "      <td>NaN</td>\n",
       "      <td>Action</td>\n",
       "      <td>1.80</td>\n",
       "      <td>0.97</td>\n",
       "      <td>0.00</td>\n",
       "      <td>0.29</td>\n",
       "      <td>74.0</td>\n",
       "      <td>7.9</td>\n",
       "      <td>E10+</td>\n",
       "    </tr>\n",
       "    <tr>\n",
       "      <th>475</th>\n",
       "      <td>wwe Smackdown vs. Raw 2006</td>\n",
       "      <td>PS2</td>\n",
       "      <td>NaN</td>\n",
       "      <td>Fighting</td>\n",
       "      <td>1.57</td>\n",
       "      <td>1.02</td>\n",
       "      <td>0.00</td>\n",
       "      <td>0.41</td>\n",
       "      <td>NaN</td>\n",
       "      <td>NaN</td>\n",
       "      <td>NaN</td>\n",
       "    </tr>\n",
       "    <tr>\n",
       "      <th>609</th>\n",
       "      <td>Space Invaders</td>\n",
       "      <td>2600</td>\n",
       "      <td>NaN</td>\n",
       "      <td>Shooter</td>\n",
       "      <td>2.36</td>\n",
       "      <td>0.14</td>\n",
       "      <td>0.00</td>\n",
       "      <td>0.03</td>\n",
       "      <td>NaN</td>\n",
       "      <td>NaN</td>\n",
       "      <td>NaN</td>\n",
       "    </tr>\n",
       "    <tr>\n",
       "      <th>...</th>\n",
       "      <td>...</td>\n",
       "      <td>...</td>\n",
       "      <td>...</td>\n",
       "      <td>...</td>\n",
       "      <td>...</td>\n",
       "      <td>...</td>\n",
       "      <td>...</td>\n",
       "      <td>...</td>\n",
       "      <td>...</td>\n",
       "      <td>...</td>\n",
       "      <td>...</td>\n",
       "    </tr>\n",
       "    <tr>\n",
       "      <th>16373</th>\n",
       "      <td>PDC World Championship Darts 2008</td>\n",
       "      <td>PSP</td>\n",
       "      <td>NaN</td>\n",
       "      <td>Sports</td>\n",
       "      <td>0.01</td>\n",
       "      <td>0.00</td>\n",
       "      <td>0.00</td>\n",
       "      <td>0.00</td>\n",
       "      <td>43.0</td>\n",
       "      <td>tbd</td>\n",
       "      <td>E10+</td>\n",
       "    </tr>\n",
       "    <tr>\n",
       "      <th>16405</th>\n",
       "      <td>Freaky Flyers</td>\n",
       "      <td>GC</td>\n",
       "      <td>NaN</td>\n",
       "      <td>Racing</td>\n",
       "      <td>0.01</td>\n",
       "      <td>0.00</td>\n",
       "      <td>0.00</td>\n",
       "      <td>0.00</td>\n",
       "      <td>69.0</td>\n",
       "      <td>6.5</td>\n",
       "      <td>T</td>\n",
       "    </tr>\n",
       "    <tr>\n",
       "      <th>16448</th>\n",
       "      <td>Inversion</td>\n",
       "      <td>PC</td>\n",
       "      <td>NaN</td>\n",
       "      <td>Shooter</td>\n",
       "      <td>0.01</td>\n",
       "      <td>0.00</td>\n",
       "      <td>0.00</td>\n",
       "      <td>0.00</td>\n",
       "      <td>59.0</td>\n",
       "      <td>6.7</td>\n",
       "      <td>M</td>\n",
       "    </tr>\n",
       "    <tr>\n",
       "      <th>16458</th>\n",
       "      <td>Hakuouki: Shinsengumi Kitan</td>\n",
       "      <td>PS3</td>\n",
       "      <td>NaN</td>\n",
       "      <td>Adventure</td>\n",
       "      <td>0.01</td>\n",
       "      <td>0.00</td>\n",
       "      <td>0.00</td>\n",
       "      <td>0.00</td>\n",
       "      <td>NaN</td>\n",
       "      <td>NaN</td>\n",
       "      <td>NaN</td>\n",
       "    </tr>\n",
       "    <tr>\n",
       "      <th>16522</th>\n",
       "      <td>Virtua Quest</td>\n",
       "      <td>GC</td>\n",
       "      <td>NaN</td>\n",
       "      <td>Role-Playing</td>\n",
       "      <td>0.01</td>\n",
       "      <td>0.00</td>\n",
       "      <td>0.00</td>\n",
       "      <td>0.00</td>\n",
       "      <td>55.0</td>\n",
       "      <td>5.5</td>\n",
       "      <td>T</td>\n",
       "    </tr>\n",
       "  </tbody>\n",
       "</table>\n",
       "<p>269 rows × 11 columns</p>\n",
       "</div>"
      ],
      "text/plain": [
       "                                    name platform  year_of_release  \\\n",
       "183                      Madden NFL 2004      PS2              NaN   \n",
       "377                     FIFA Soccer 2004      PS2              NaN   \n",
       "456           LEGO Batman: The Videogame      Wii              NaN   \n",
       "475           wwe Smackdown vs. Raw 2006      PS2              NaN   \n",
       "609                       Space Invaders     2600              NaN   \n",
       "...                                  ...      ...              ...   \n",
       "16373  PDC World Championship Darts 2008      PSP              NaN   \n",
       "16405                      Freaky Flyers       GC              NaN   \n",
       "16448                          Inversion       PC              NaN   \n",
       "16458        Hakuouki: Shinsengumi Kitan      PS3              NaN   \n",
       "16522                       Virtua Quest       GC              NaN   \n",
       "\n",
       "              genre  na_sales  eu_sales  jp_sales  other_sales  critic_score  \\\n",
       "183          Sports      4.26      0.26      0.01         0.71          94.0   \n",
       "377          Sports      0.59      2.36      0.04         0.51          84.0   \n",
       "456          Action      1.80      0.97      0.00         0.29          74.0   \n",
       "475        Fighting      1.57      1.02      0.00         0.41           NaN   \n",
       "609         Shooter      2.36      0.14      0.00         0.03           NaN   \n",
       "...             ...       ...       ...       ...          ...           ...   \n",
       "16373        Sports      0.01      0.00      0.00         0.00          43.0   \n",
       "16405        Racing      0.01      0.00      0.00         0.00          69.0   \n",
       "16448       Shooter      0.01      0.00      0.00         0.00          59.0   \n",
       "16458     Adventure      0.01      0.00      0.00         0.00           NaN   \n",
       "16522  Role-Playing      0.01      0.00      0.00         0.00          55.0   \n",
       "\n",
       "      user_score rating  \n",
       "183          8.5      E  \n",
       "377          6.4      E  \n",
       "456          7.9   E10+  \n",
       "475          NaN    NaN  \n",
       "609          NaN    NaN  \n",
       "...          ...    ...  \n",
       "16373        tbd   E10+  \n",
       "16405        6.5      T  \n",
       "16448        6.7      M  \n",
       "16458        NaN    NaN  \n",
       "16522        5.5      T  \n",
       "\n",
       "[269 rows x 11 columns]"
      ]
     },
     "execution_count": 7,
     "metadata": {},
     "output_type": "execute_result"
    }
   ],
   "source": [
    "data[data['year_of_release'].isna()]"
   ]
  },
  {
   "cell_type": "markdown",
   "metadata": {},
   "source": [
    "269 строк без года, так как дальше нужно будет делать анализ рынка по годам, то удалим эти строки"
   ]
  },
  {
   "cell_type": "code",
   "execution_count": 8,
   "metadata": {},
   "outputs": [],
   "source": [
    "data.dropna(subset=['name', 'genre', 'year_of_release'], inplace=True)"
   ]
  },
  {
   "cell_type": "markdown",
   "metadata": {},
   "source": [
    "### Обработка столбца 'rating' , 'user_score' и 'critic_score'\n",
    "\n",
    "Пропуски в 'rating' появились из-за того, что, возможно, во времена некоторых игр не было системы рейтингов, она уже устаревшая или используется другая система рейтингов. Также есть вероятность, что пропуски связаны с опред. регионом, но на сто процентов утвержать нельзя\n",
    "\n",
    "Пропуски в 'rating' заполним на RP (рейтинг в ожидании)"
   ]
  },
  {
   "cell_type": "code",
   "execution_count": 9,
   "metadata": {},
   "outputs": [
    {
     "data": {
      "text/html": [
       "<div>\n",
       "<style scoped>\n",
       "    .dataframe tbody tr th:only-of-type {\n",
       "        vertical-align: middle;\n",
       "    }\n",
       "\n",
       "    .dataframe tbody tr th {\n",
       "        vertical-align: top;\n",
       "    }\n",
       "\n",
       "    .dataframe thead th {\n",
       "        text-align: right;\n",
       "    }\n",
       "</style>\n",
       "<table border=\"1\" class=\"dataframe\">\n",
       "  <thead>\n",
       "    <tr style=\"text-align: right;\">\n",
       "      <th></th>\n",
       "      <th>name</th>\n",
       "      <th>platform</th>\n",
       "      <th>year_of_release</th>\n",
       "      <th>genre</th>\n",
       "      <th>na_sales</th>\n",
       "      <th>eu_sales</th>\n",
       "      <th>jp_sales</th>\n",
       "      <th>other_sales</th>\n",
       "      <th>critic_score</th>\n",
       "      <th>user_score</th>\n",
       "      <th>rating</th>\n",
       "    </tr>\n",
       "  </thead>\n",
       "  <tbody>\n",
       "    <tr>\n",
       "      <th>1</th>\n",
       "      <td>Super Mario Bros.</td>\n",
       "      <td>NES</td>\n",
       "      <td>1985.0</td>\n",
       "      <td>Platform</td>\n",
       "      <td>29.08</td>\n",
       "      <td>3.58</td>\n",
       "      <td>6.81</td>\n",
       "      <td>0.77</td>\n",
       "      <td>NaN</td>\n",
       "      <td>NaN</td>\n",
       "      <td>NaN</td>\n",
       "    </tr>\n",
       "    <tr>\n",
       "      <th>4</th>\n",
       "      <td>Pokemon Red/Pokemon Blue</td>\n",
       "      <td>GB</td>\n",
       "      <td>1996.0</td>\n",
       "      <td>Role-Playing</td>\n",
       "      <td>11.27</td>\n",
       "      <td>8.89</td>\n",
       "      <td>10.22</td>\n",
       "      <td>1.00</td>\n",
       "      <td>NaN</td>\n",
       "      <td>NaN</td>\n",
       "      <td>NaN</td>\n",
       "    </tr>\n",
       "    <tr>\n",
       "      <th>5</th>\n",
       "      <td>Tetris</td>\n",
       "      <td>GB</td>\n",
       "      <td>1989.0</td>\n",
       "      <td>Puzzle</td>\n",
       "      <td>23.20</td>\n",
       "      <td>2.26</td>\n",
       "      <td>4.22</td>\n",
       "      <td>0.58</td>\n",
       "      <td>NaN</td>\n",
       "      <td>NaN</td>\n",
       "      <td>NaN</td>\n",
       "    </tr>\n",
       "    <tr>\n",
       "      <th>9</th>\n",
       "      <td>Duck Hunt</td>\n",
       "      <td>NES</td>\n",
       "      <td>1984.0</td>\n",
       "      <td>Shooter</td>\n",
       "      <td>26.93</td>\n",
       "      <td>0.63</td>\n",
       "      <td>0.28</td>\n",
       "      <td>0.47</td>\n",
       "      <td>NaN</td>\n",
       "      <td>NaN</td>\n",
       "      <td>NaN</td>\n",
       "    </tr>\n",
       "    <tr>\n",
       "      <th>10</th>\n",
       "      <td>Nintendogs</td>\n",
       "      <td>DS</td>\n",
       "      <td>2005.0</td>\n",
       "      <td>Simulation</td>\n",
       "      <td>9.05</td>\n",
       "      <td>10.95</td>\n",
       "      <td>1.93</td>\n",
       "      <td>2.74</td>\n",
       "      <td>NaN</td>\n",
       "      <td>NaN</td>\n",
       "      <td>NaN</td>\n",
       "    </tr>\n",
       "    <tr>\n",
       "      <th>...</th>\n",
       "      <td>...</td>\n",
       "      <td>...</td>\n",
       "      <td>...</td>\n",
       "      <td>...</td>\n",
       "      <td>...</td>\n",
       "      <td>...</td>\n",
       "      <td>...</td>\n",
       "      <td>...</td>\n",
       "      <td>...</td>\n",
       "      <td>...</td>\n",
       "      <td>...</td>\n",
       "    </tr>\n",
       "    <tr>\n",
       "      <th>16710</th>\n",
       "      <td>Samurai Warriors: Sanada Maru</td>\n",
       "      <td>PS3</td>\n",
       "      <td>2016.0</td>\n",
       "      <td>Action</td>\n",
       "      <td>0.00</td>\n",
       "      <td>0.00</td>\n",
       "      <td>0.01</td>\n",
       "      <td>0.00</td>\n",
       "      <td>NaN</td>\n",
       "      <td>NaN</td>\n",
       "      <td>NaN</td>\n",
       "    </tr>\n",
       "    <tr>\n",
       "      <th>16711</th>\n",
       "      <td>LMA Manager 2007</td>\n",
       "      <td>X360</td>\n",
       "      <td>2006.0</td>\n",
       "      <td>Sports</td>\n",
       "      <td>0.00</td>\n",
       "      <td>0.01</td>\n",
       "      <td>0.00</td>\n",
       "      <td>0.00</td>\n",
       "      <td>NaN</td>\n",
       "      <td>NaN</td>\n",
       "      <td>NaN</td>\n",
       "    </tr>\n",
       "    <tr>\n",
       "      <th>16712</th>\n",
       "      <td>Haitaka no Psychedelica</td>\n",
       "      <td>PSV</td>\n",
       "      <td>2016.0</td>\n",
       "      <td>Adventure</td>\n",
       "      <td>0.00</td>\n",
       "      <td>0.00</td>\n",
       "      <td>0.01</td>\n",
       "      <td>0.00</td>\n",
       "      <td>NaN</td>\n",
       "      <td>NaN</td>\n",
       "      <td>NaN</td>\n",
       "    </tr>\n",
       "    <tr>\n",
       "      <th>16713</th>\n",
       "      <td>Spirits &amp; Spells</td>\n",
       "      <td>GBA</td>\n",
       "      <td>2003.0</td>\n",
       "      <td>Platform</td>\n",
       "      <td>0.01</td>\n",
       "      <td>0.00</td>\n",
       "      <td>0.00</td>\n",
       "      <td>0.00</td>\n",
       "      <td>NaN</td>\n",
       "      <td>NaN</td>\n",
       "      <td>NaN</td>\n",
       "    </tr>\n",
       "    <tr>\n",
       "      <th>16714</th>\n",
       "      <td>Winning Post 8 2016</td>\n",
       "      <td>PSV</td>\n",
       "      <td>2016.0</td>\n",
       "      <td>Simulation</td>\n",
       "      <td>0.00</td>\n",
       "      <td>0.00</td>\n",
       "      <td>0.01</td>\n",
       "      <td>0.00</td>\n",
       "      <td>NaN</td>\n",
       "      <td>NaN</td>\n",
       "      <td>NaN</td>\n",
       "    </tr>\n",
       "  </tbody>\n",
       "</table>\n",
       "<p>6676 rows × 11 columns</p>\n",
       "</div>"
      ],
      "text/plain": [
       "                                name platform  year_of_release         genre  \\\n",
       "1                  Super Mario Bros.      NES           1985.0      Platform   \n",
       "4           Pokemon Red/Pokemon Blue       GB           1996.0  Role-Playing   \n",
       "5                             Tetris       GB           1989.0        Puzzle   \n",
       "9                          Duck Hunt      NES           1984.0       Shooter   \n",
       "10                        Nintendogs       DS           2005.0    Simulation   \n",
       "...                              ...      ...              ...           ...   \n",
       "16710  Samurai Warriors: Sanada Maru      PS3           2016.0        Action   \n",
       "16711               LMA Manager 2007     X360           2006.0        Sports   \n",
       "16712        Haitaka no Psychedelica      PSV           2016.0     Adventure   \n",
       "16713               Spirits & Spells      GBA           2003.0      Platform   \n",
       "16714            Winning Post 8 2016      PSV           2016.0    Simulation   \n",
       "\n",
       "       na_sales  eu_sales  jp_sales  other_sales  critic_score user_score  \\\n",
       "1         29.08      3.58      6.81         0.77           NaN        NaN   \n",
       "4         11.27      8.89     10.22         1.00           NaN        NaN   \n",
       "5         23.20      2.26      4.22         0.58           NaN        NaN   \n",
       "9         26.93      0.63      0.28         0.47           NaN        NaN   \n",
       "10         9.05     10.95      1.93         2.74           NaN        NaN   \n",
       "...         ...       ...       ...          ...           ...        ...   \n",
       "16710      0.00      0.00      0.01         0.00           NaN        NaN   \n",
       "16711      0.00      0.01      0.00         0.00           NaN        NaN   \n",
       "16712      0.00      0.00      0.01         0.00           NaN        NaN   \n",
       "16713      0.01      0.00      0.00         0.00           NaN        NaN   \n",
       "16714      0.00      0.00      0.01         0.00           NaN        NaN   \n",
       "\n",
       "      rating  \n",
       "1        NaN  \n",
       "4        NaN  \n",
       "5        NaN  \n",
       "9        NaN  \n",
       "10       NaN  \n",
       "...      ...  \n",
       "16710    NaN  \n",
       "16711    NaN  \n",
       "16712    NaN  \n",
       "16713    NaN  \n",
       "16714    NaN  \n",
       "\n",
       "[6676 rows x 11 columns]"
      ]
     },
     "execution_count": 9,
     "metadata": {},
     "output_type": "execute_result"
    }
   ],
   "source": [
    "data[data['rating'].isna()]"
   ]
  },
  {
   "cell_type": "code",
   "execution_count": 10,
   "metadata": {},
   "outputs": [],
   "source": [
    "data['rating'] = data['rating'].fillna('RP')"
   ]
  },
  {
   "cell_type": "code",
   "execution_count": 11,
   "metadata": {},
   "outputs": [
    {
     "data": {
      "text/plain": [
       "RP      6677\n",
       "E       3921\n",
       "T       2905\n",
       "M       1536\n",
       "E10+    1393\n",
       "EC         8\n",
       "K-A        3\n",
       "AO         1\n",
       "Name: rating, dtype: int64"
      ]
     },
     "execution_count": 11,
     "metadata": {},
     "output_type": "execute_result"
    }
   ],
   "source": [
    "data['rating'].value_counts()"
   ]
  },
  {
   "cell_type": "markdown",
   "metadata": {},
   "source": [
    "Рейтинги, которые есть в нашей таблице:\n",
    "\n",
    "    ● рейтинг в ожидании (RP)\n",
    "    ● все (E)\n",
    "    ● все 10+ (E10+)\n",
    "    ● подросток (Т)\n",
    "    ● зрелые 17+ (М)\n",
    "    ● только для взрослых 18+ (АО)\n",
    "\n",
    "Что тогда за рейтинги EC и K-A? ЕС - это раннее детство, не используется с 2018 года, K-A - это для детей, позже в 1998 году был переименован в Е – для всех возрастов, а потом разделили на два E и E10+\n",
    "\n",
    "Так как EC, K-A и AO, либо очень мало, либо они уже не используются, то заменим их схожими рейтингами\n",
    "\n",
    "А пропуски заполним с помощью словаря"
   ]
  },
  {
   "cell_type": "code",
   "execution_count": 12,
   "metadata": {},
   "outputs": [],
   "source": [
    "rename = {\n",
    "    'EC': 'E',\n",
    "    'K-A': 'E10+',  \n",
    "    'AO': 'M'}\n",
    "data['rating'] = data['rating'].replace(rename)"
   ]
  },
  {
   "cell_type": "markdown",
   "metadata": {},
   "source": [
    "В оценке пользователей есть tbd (To Be Determined - \"Будет определено\"), то есть на текущий момент оценка отсутствует заменим его на 0\n",
    "\n",
    "Тут ('user_score' и 'critic_score') могли произойти пропуски из-за того, что просто не записывались оценки пользователей/оценки критиков или не практиковали их в то время"
   ]
  },
  {
   "cell_type": "code",
   "execution_count": 13,
   "metadata": {},
   "outputs": [
    {
     "data": {
      "text/plain": [
       "array(['8', nan, '8.3', '8.5', '6.6', '8.4', '8.6', '7.7', '6.3', '7.4',\n",
       "       '8.2', '9', '7.9', '8.1', '8.7', '7.1', '3.4', '5.3', '4.8', '3.2',\n",
       "       '8.9', '6.4', '7.8', '7.5', '2.6', '7.2', '9.2', '7', '7.3', '4.3',\n",
       "       '7.6', '5.7', '5', '9.1', '6.5', 'tbd', '8.8', '6.9', '9.4', '6.8',\n",
       "       '6.1', '6.7', '5.4', '4', '4.9', '4.5', '9.3', '6.2', '4.2', '6',\n",
       "       '3.7', '4.1', '5.8', '5.6', '5.5', '4.4', '4.6', '5.9', '3.9',\n",
       "       '3.1', '2.9', '5.2', '3.3', '4.7', '5.1', '3.5', '2.5', '1.9', '3',\n",
       "       '2.7', '2.2', '2', '9.5', '2.1', '3.6', '2.8', '1.8', '3.8', '0',\n",
       "       '1.6', '9.6', '2.4', '1.7', '1.1', '0.3', '1.5', '0.7', '1.2',\n",
       "       '2.3', '0.5', '1.3', '0.2', '0.6', '1.4', '0.9', '1', '9.7'],\n",
       "      dtype=object)"
      ]
     },
     "execution_count": 13,
     "metadata": {},
     "output_type": "execute_result"
    }
   ],
   "source": [
    "data.user_score.unique()"
   ]
  },
  {
   "cell_type": "code",
   "execution_count": 14,
   "metadata": {},
   "outputs": [],
   "source": [
    "data.loc[data['user_score'] == 'tbd', 'user_score'] = 0\n",
    "data['user_score'] = data['user_score'].fillna(0)"
   ]
  },
  {
   "cell_type": "code",
   "execution_count": 15,
   "metadata": {},
   "outputs": [],
   "source": [
    "data['critic_score'] = data['critic_score'].fillna(0)"
   ]
  },
  {
   "cell_type": "markdown",
   "metadata": {},
   "source": [
    "### Изменение типов данных в столбцах 'critic_score', 'year_of_release' и 'user_score'\n",
    "\n",
    "Года и оценки критиков не могут быть половинчатами, поэтому изменим тип на int64, а оценка пользователей должна быть не целочисленной, поэтому изменим на float64"
   ]
  },
  {
   "cell_type": "code",
   "execution_count": 16,
   "metadata": {},
   "outputs": [],
   "source": [
    "data['year_of_release'] = data['year_of_release'].astype('int64')\n",
    "data['critic_score'] = data['critic_score'].astype('int64')\n",
    "data['user_score'] = data['user_score'].astype('float64')"
   ]
  },
  {
   "cell_type": "markdown",
   "metadata": {},
   "source": [
    "### Поиск неявных дубликатов в 'name' и 'platform'\n",
    "\n",
    "Один из Madden NFL 13 выглядит \"пустым\", там всего 0.01 продаж в Европе и только в ней, от него стоит избавиться, также поступим и с Need for Speed: Most Wanted на PC, который тоже продавался только в Европе\n",
    "\n",
    "А вот Need for Speed: Most Wanted на X360 трогать не будем, так как данные о продажах там разные и возможно игра и правда выпускалась и в 2005, и в 2012, даже в интернете данные немного разные где-то говорят что на X360 выпустили в 2012-2013, а где-то в 2005"
   ]
  },
  {
   "cell_type": "code",
   "execution_count": 17,
   "metadata": {},
   "outputs": [
    {
     "data": {
      "text/html": [
       "<div>\n",
       "<style scoped>\n",
       "    .dataframe tbody tr th:only-of-type {\n",
       "        vertical-align: middle;\n",
       "    }\n",
       "\n",
       "    .dataframe tbody tr th {\n",
       "        vertical-align: top;\n",
       "    }\n",
       "\n",
       "    .dataframe thead th {\n",
       "        text-align: right;\n",
       "    }\n",
       "</style>\n",
       "<table border=\"1\" class=\"dataframe\">\n",
       "  <thead>\n",
       "    <tr style=\"text-align: right;\">\n",
       "      <th></th>\n",
       "      <th>name</th>\n",
       "      <th>platform</th>\n",
       "      <th>year_of_release</th>\n",
       "      <th>genre</th>\n",
       "      <th>na_sales</th>\n",
       "      <th>eu_sales</th>\n",
       "      <th>jp_sales</th>\n",
       "      <th>other_sales</th>\n",
       "      <th>critic_score</th>\n",
       "      <th>user_score</th>\n",
       "      <th>rating</th>\n",
       "    </tr>\n",
       "  </thead>\n",
       "  <tbody>\n",
       "    <tr>\n",
       "      <th>604</th>\n",
       "      <td>Madden NFL 13</td>\n",
       "      <td>PS3</td>\n",
       "      <td>2012</td>\n",
       "      <td>Sports</td>\n",
       "      <td>2.11</td>\n",
       "      <td>0.22</td>\n",
       "      <td>0.00</td>\n",
       "      <td>0.23</td>\n",
       "      <td>83</td>\n",
       "      <td>5.5</td>\n",
       "      <td>E</td>\n",
       "    </tr>\n",
       "    <tr>\n",
       "      <th>1190</th>\n",
       "      <td>Need for Speed: Most Wanted</td>\n",
       "      <td>X360</td>\n",
       "      <td>2012</td>\n",
       "      <td>Racing</td>\n",
       "      <td>0.62</td>\n",
       "      <td>0.78</td>\n",
       "      <td>0.01</td>\n",
       "      <td>0.15</td>\n",
       "      <td>83</td>\n",
       "      <td>8.5</td>\n",
       "      <td>T</td>\n",
       "    </tr>\n",
       "    <tr>\n",
       "      <th>1591</th>\n",
       "      <td>Need for Speed: Most Wanted</td>\n",
       "      <td>X360</td>\n",
       "      <td>2005</td>\n",
       "      <td>Racing</td>\n",
       "      <td>1.00</td>\n",
       "      <td>0.13</td>\n",
       "      <td>0.02</td>\n",
       "      <td>0.10</td>\n",
       "      <td>83</td>\n",
       "      <td>8.5</td>\n",
       "      <td>T</td>\n",
       "    </tr>\n",
       "    <tr>\n",
       "      <th>5972</th>\n",
       "      <td>Need for Speed: Most Wanted</td>\n",
       "      <td>PC</td>\n",
       "      <td>2005</td>\n",
       "      <td>Racing</td>\n",
       "      <td>0.02</td>\n",
       "      <td>0.23</td>\n",
       "      <td>0.00</td>\n",
       "      <td>0.04</td>\n",
       "      <td>82</td>\n",
       "      <td>8.5</td>\n",
       "      <td>T</td>\n",
       "    </tr>\n",
       "    <tr>\n",
       "      <th>11715</th>\n",
       "      <td>Need for Speed: Most Wanted</td>\n",
       "      <td>PC</td>\n",
       "      <td>2012</td>\n",
       "      <td>Racing</td>\n",
       "      <td>0.00</td>\n",
       "      <td>0.06</td>\n",
       "      <td>0.00</td>\n",
       "      <td>0.02</td>\n",
       "      <td>82</td>\n",
       "      <td>8.5</td>\n",
       "      <td>T</td>\n",
       "    </tr>\n",
       "    <tr>\n",
       "      <th>16230</th>\n",
       "      <td>Madden NFL 13</td>\n",
       "      <td>PS3</td>\n",
       "      <td>2012</td>\n",
       "      <td>Sports</td>\n",
       "      <td>0.00</td>\n",
       "      <td>0.01</td>\n",
       "      <td>0.00</td>\n",
       "      <td>0.00</td>\n",
       "      <td>83</td>\n",
       "      <td>5.5</td>\n",
       "      <td>E</td>\n",
       "    </tr>\n",
       "  </tbody>\n",
       "</table>\n",
       "</div>"
      ],
      "text/plain": [
       "                              name platform  year_of_release   genre  \\\n",
       "604                  Madden NFL 13      PS3             2012  Sports   \n",
       "1190   Need for Speed: Most Wanted     X360             2012  Racing   \n",
       "1591   Need for Speed: Most Wanted     X360             2005  Racing   \n",
       "5972   Need for Speed: Most Wanted       PC             2005  Racing   \n",
       "11715  Need for Speed: Most Wanted       PC             2012  Racing   \n",
       "16230                Madden NFL 13      PS3             2012  Sports   \n",
       "\n",
       "       na_sales  eu_sales  jp_sales  other_sales  critic_score  user_score  \\\n",
       "604        2.11      0.22      0.00         0.23            83         5.5   \n",
       "1190       0.62      0.78      0.01         0.15            83         8.5   \n",
       "1591       1.00      0.13      0.02         0.10            83         8.5   \n",
       "5972       0.02      0.23      0.00         0.04            82         8.5   \n",
       "11715      0.00      0.06      0.00         0.02            82         8.5   \n",
       "16230      0.00      0.01      0.00         0.00            83         5.5   \n",
       "\n",
       "      rating  \n",
       "604        E  \n",
       "1190       T  \n",
       "1591       T  \n",
       "5972       T  \n",
       "11715      T  \n",
       "16230      E  "
      ]
     },
     "execution_count": 17,
     "metadata": {},
     "output_type": "execute_result"
    }
   ],
   "source": [
    "data[data.duplicated(subset=['name','platform'], keep=False)]"
   ]
  },
  {
   "cell_type": "code",
   "execution_count": 18,
   "metadata": {},
   "outputs": [],
   "source": [
    "data.drop([11715, 16230], axis=0, inplace=True)"
   ]
  },
  {
   "cell_type": "markdown",
   "metadata": {},
   "source": [
    "### Суммарные продажи во всех регионах"
   ]
  },
  {
   "cell_type": "code",
   "execution_count": 19,
   "metadata": {},
   "outputs": [
    {
     "data": {
      "text/html": [
       "<div>\n",
       "<style scoped>\n",
       "    .dataframe tbody tr th:only-of-type {\n",
       "        vertical-align: middle;\n",
       "    }\n",
       "\n",
       "    .dataframe tbody tr th {\n",
       "        vertical-align: top;\n",
       "    }\n",
       "\n",
       "    .dataframe thead th {\n",
       "        text-align: right;\n",
       "    }\n",
       "</style>\n",
       "<table border=\"1\" class=\"dataframe\">\n",
       "  <thead>\n",
       "    <tr style=\"text-align: right;\">\n",
       "      <th></th>\n",
       "      <th>name</th>\n",
       "      <th>platform</th>\n",
       "      <th>year_of_release</th>\n",
       "      <th>genre</th>\n",
       "      <th>na_sales</th>\n",
       "      <th>eu_sales</th>\n",
       "      <th>jp_sales</th>\n",
       "      <th>other_sales</th>\n",
       "      <th>critic_score</th>\n",
       "      <th>user_score</th>\n",
       "      <th>rating</th>\n",
       "      <th>total_sales</th>\n",
       "    </tr>\n",
       "  </thead>\n",
       "  <tbody>\n",
       "    <tr>\n",
       "      <th>0</th>\n",
       "      <td>Wii Sports</td>\n",
       "      <td>Wii</td>\n",
       "      <td>2006</td>\n",
       "      <td>Sports</td>\n",
       "      <td>41.36</td>\n",
       "      <td>28.96</td>\n",
       "      <td>3.77</td>\n",
       "      <td>8.45</td>\n",
       "      <td>76</td>\n",
       "      <td>8.0</td>\n",
       "      <td>E</td>\n",
       "      <td>82.54</td>\n",
       "    </tr>\n",
       "    <tr>\n",
       "      <th>1</th>\n",
       "      <td>Super Mario Bros.</td>\n",
       "      <td>NES</td>\n",
       "      <td>1985</td>\n",
       "      <td>Platform</td>\n",
       "      <td>29.08</td>\n",
       "      <td>3.58</td>\n",
       "      <td>6.81</td>\n",
       "      <td>0.77</td>\n",
       "      <td>0</td>\n",
       "      <td>0.0</td>\n",
       "      <td>RP</td>\n",
       "      <td>40.24</td>\n",
       "    </tr>\n",
       "    <tr>\n",
       "      <th>2</th>\n",
       "      <td>Mario Kart Wii</td>\n",
       "      <td>Wii</td>\n",
       "      <td>2008</td>\n",
       "      <td>Racing</td>\n",
       "      <td>15.68</td>\n",
       "      <td>12.76</td>\n",
       "      <td>3.79</td>\n",
       "      <td>3.29</td>\n",
       "      <td>82</td>\n",
       "      <td>8.3</td>\n",
       "      <td>E</td>\n",
       "      <td>35.52</td>\n",
       "    </tr>\n",
       "    <tr>\n",
       "      <th>3</th>\n",
       "      <td>Wii Sports Resort</td>\n",
       "      <td>Wii</td>\n",
       "      <td>2009</td>\n",
       "      <td>Sports</td>\n",
       "      <td>15.61</td>\n",
       "      <td>10.93</td>\n",
       "      <td>3.28</td>\n",
       "      <td>2.95</td>\n",
       "      <td>80</td>\n",
       "      <td>8.0</td>\n",
       "      <td>E</td>\n",
       "      <td>32.77</td>\n",
       "    </tr>\n",
       "    <tr>\n",
       "      <th>4</th>\n",
       "      <td>Pokemon Red/Pokemon Blue</td>\n",
       "      <td>GB</td>\n",
       "      <td>1996</td>\n",
       "      <td>Role-Playing</td>\n",
       "      <td>11.27</td>\n",
       "      <td>8.89</td>\n",
       "      <td>10.22</td>\n",
       "      <td>1.00</td>\n",
       "      <td>0</td>\n",
       "      <td>0.0</td>\n",
       "      <td>RP</td>\n",
       "      <td>31.38</td>\n",
       "    </tr>\n",
       "  </tbody>\n",
       "</table>\n",
       "</div>"
      ],
      "text/plain": [
       "                       name platform  year_of_release         genre  na_sales  \\\n",
       "0                Wii Sports      Wii             2006        Sports     41.36   \n",
       "1         Super Mario Bros.      NES             1985      Platform     29.08   \n",
       "2            Mario Kart Wii      Wii             2008        Racing     15.68   \n",
       "3         Wii Sports Resort      Wii             2009        Sports     15.61   \n",
       "4  Pokemon Red/Pokemon Blue       GB             1996  Role-Playing     11.27   \n",
       "\n",
       "   eu_sales  jp_sales  other_sales  critic_score  user_score rating  \\\n",
       "0     28.96      3.77         8.45            76         8.0      E   \n",
       "1      3.58      6.81         0.77             0         0.0     RP   \n",
       "2     12.76      3.79         3.29            82         8.3      E   \n",
       "3     10.93      3.28         2.95            80         8.0      E   \n",
       "4      8.89     10.22         1.00             0         0.0     RP   \n",
       "\n",
       "   total_sales  \n",
       "0        82.54  \n",
       "1        40.24  \n",
       "2        35.52  \n",
       "3        32.77  \n",
       "4        31.38  "
      ]
     },
     "execution_count": 19,
     "metadata": {},
     "output_type": "execute_result"
    }
   ],
   "source": [
    "data['total_sales'] = data['na_sales'] + data['eu_sales'] + data['jp_sales'] + data['other_sales']\n",
    "data.head(5)"
   ]
  },
  {
   "cell_type": "markdown",
   "metadata": {},
   "source": [
    "## Исследовательский анализ данных\n",
    "\n",
    "### Выпуск игр по годам"
   ]
  },
  {
   "cell_type": "code",
   "execution_count": 20,
   "metadata": {},
   "outputs": [],
   "source": [
    "years_game = data.groupby('year_of_release',as_index=False)['platform'].count()\n",
    "years_game.columns = ['year','count']"
   ]
  },
  {
   "cell_type": "code",
   "execution_count": 21,
   "metadata": {
    "scrolled": true
   },
   "outputs": [
    {
     "data": {
      "image/png": "[encoded data removed]",
      "text/plain": [
       "<Figure size 1440x432 with 1 Axes>"
      ]
     },
     "metadata": {
      "needs_background": "light"
     },
     "output_type": "display_data"
    }
   ],
   "source": [
    "fig, ax = plt.subplots(figsize=(20, 6))\n",
    "\n",
    "ax = sns.barplot(x='year', y='count', data=years_game)\n",
    "\n",
    "plt.title('Выпуск игр по годам',fontsize = 20)\n",
    "plt.xlabel('Год выпуска',fontsize = 15)\n",
    "plt.ylabel('Количество игр',fontsize = 15);"
   ]
  },
  {
   "cell_type": "markdown",
   "metadata": {},
   "source": [
    "Постепенный рост продаж с 1998 года можно объяснить тем, что технический прогресс не стоит на месте и с каждым годом приставки станавились доступнее для людей и более технологичнее (это позволяло делать более интересные игры), что провацировало ажиотаж со стороны покупателя. Но спустя 14 лет ползователь насытился этими новвоведдениями и играми, они ему начали наскучивать, да и поиграть можно на смартфоне (их развитие также одна из причин снижения) и ПК, порой не покупая дорогие диски или подписки)\n",
    "\n",
    "Пик продаж приходится на 2008 и 2009 годы, потом в 2012 происходит резкое падение почти в 2 раза и дальше продажи идут на спад\n",
    "\n",
    "### Продажи по платформам\n",
    "\n",
    "Возьмём платформы с продажами больше 75 квартиля и построим по ним тепловую карту"
   ]
  },
  {
   "cell_type": "code",
   "execution_count": 22,
   "metadata": {},
   "outputs": [
    {
     "data": {
      "text/html": [
       "<div>\n",
       "<style scoped>\n",
       "    .dataframe tbody tr th:only-of-type {\n",
       "        vertical-align: middle;\n",
       "    }\n",
       "\n",
       "    .dataframe tbody tr th {\n",
       "        vertical-align: top;\n",
       "    }\n",
       "\n",
       "    .dataframe thead th {\n",
       "        text-align: right;\n",
       "    }\n",
       "</style>\n",
       "<table border=\"1\" class=\"dataframe\">\n",
       "  <thead>\n",
       "    <tr style=\"text-align: right;\">\n",
       "      <th></th>\n",
       "      <th>total_sales</th>\n",
       "    </tr>\n",
       "    <tr>\n",
       "      <th>platform</th>\n",
       "      <th></th>\n",
       "    </tr>\n",
       "  </thead>\n",
       "  <tbody>\n",
       "    <tr>\n",
       "      <th>PS2</th>\n",
       "      <td>1233.56</td>\n",
       "    </tr>\n",
       "    <tr>\n",
       "      <th>X360</th>\n",
       "      <td>961.24</td>\n",
       "    </tr>\n",
       "    <tr>\n",
       "      <th>PS3</th>\n",
       "      <td>931.33</td>\n",
       "    </tr>\n",
       "    <tr>\n",
       "      <th>Wii</th>\n",
       "      <td>891.18</td>\n",
       "    </tr>\n",
       "    <tr>\n",
       "      <th>DS</th>\n",
       "      <td>802.78</td>\n",
       "    </tr>\n",
       "    <tr>\n",
       "      <th>PS</th>\n",
       "      <td>727.58</td>\n",
       "    </tr>\n",
       "    <tr>\n",
       "      <th>PS4</th>\n",
       "      <td>314.14</td>\n",
       "    </tr>\n",
       "    <tr>\n",
       "      <th>GBA</th>\n",
       "      <td>312.88</td>\n",
       "    </tr>\n",
       "  </tbody>\n",
       "</table>\n",
       "</div>"
      ],
      "text/plain": [
       "          total_sales\n",
       "platform             \n",
       "PS2           1233.56\n",
       "X360           961.24\n",
       "PS3            931.33\n",
       "Wii            891.18\n",
       "DS             802.78\n",
       "PS             727.58\n",
       "PS4            314.14\n",
       "GBA            312.88"
      ]
     },
     "execution_count": 22,
     "metadata": {},
     "output_type": "execute_result"
    }
   ],
   "source": [
    "platform_top = data.pivot_table(index='platform', values='total_sales', aggfunc='sum')\\\n",
    "                .query('total_sales > total_sales.quantile(0.75)').sort_values(by='total_sales',ascending=False)\n",
    "top = list(platform_top.index)\n",
    "platform_top"
   ]
  },
  {
   "cell_type": "code",
   "execution_count": 23,
   "metadata": {},
   "outputs": [
    {
     "data": {
      "image/png": "[encoded data removed]",
      "text/plain": [
       "<Figure size 720x504 with 2 Axes>"
      ]
     },
     "metadata": {
      "needs_background": "light"
     },
     "output_type": "display_data"
    }
   ],
   "source": [
    "platform_sale = data.pivot_table(index='year_of_release',columns='platform',values='total_sales',aggfunc='sum')\n",
    "platform_top_sale = platform_sale.loc[:, top]\n",
    "\n",
    "\n",
    "plt.figure(figsize = (10,7))\n",
    "ax = sns.heatmap(platform_top_sale, cmap='RdYlGn')\n",
    "ax.set(xlabel=\"Платформы\", ylabel=\"Год выпуска\");"
   ]
  },
  {
   "cell_type": "markdown",
   "metadata": {},
   "source": [
    "Наблюдается старт, рост, пик, падение продаж и закрытие платформы. С начала жизни игровой индустрии доминировали продукты SONY. После 2005 года подтянулись Nintendo и Microsoft. Для сохранения интереса пользователей к своим продуктам производители обновляли свои игровые платформы создавая цепочку их развития, как например \"PS-PS2-PS3-PS4\"\n",
    "\n",
    "В период 1995-2000 годы максимум продавалась платформа PS, 2000-2005 - PS2 и 2005-2010 - Wii\n",
    "\n",
    "Примем за актуальный период 2013-2016 годы."
   ]
  },
  {
   "cell_type": "code",
   "execution_count": 24,
   "metadata": {},
   "outputs": [
    {
     "data": {
      "image/png": "[encoded data removed]",
      "text/plain": [
       "<Figure size 1152x432 with 1 Axes>"
      ]
     },
     "metadata": {
      "needs_background": "light"
     },
     "output_type": "display_data"
    }
   ],
   "source": [
    "platform_top_sale.plot.area(figsize=(16,6))\n",
    "plt.xlim(left=1993)\n",
    "\n",
    "plt.title('Кол-во продаж по платформам',fontsize = 20)\n",
    "plt.ylabel('Миллионы копий',fontsize = 15)\n",
    "plt.xlabel('Год выпуска',fontsize = 15)\n",
    "plt.grid()"
   ]
  },
  {
   "cell_type": "markdown",
   "metadata": {},
   "source": [
    "Видим рост всей игровой индустрии до 2007 года, после пика идет явный спад и даже появление новых платформ не сильно влияет на общее снижение продаж\n",
    "\n",
    "Характерный срок появления новых и исчезания старых платформ составляет примерно 10-8 лет, чаще всего 5 лет из них самые активные по продажам"
   ]
  },
  {
   "cell_type": "code",
   "execution_count": 25,
   "metadata": {},
   "outputs": [
    {
     "data": {
      "image/png": "[encoded data removed]",
      "text/plain": [
       "<Figure size 1152x432 with 1 Axes>"
      ]
     },
     "metadata": {
      "needs_background": "light"
     },
     "output_type": "display_data"
    }
   ],
   "source": [
    "actual_data = data.query('year_of_release >= 2013')\n",
    "actual_sale = actual_data.pivot_table(index='year_of_release',columns='platform',values='total_sales',aggfunc='sum')\n",
    "\n",
    "plt.figure(figsize=(16,6))\n",
    "\n",
    "plt.plot(actual_sale.index, actual_sale)\n",
    "\n",
    "plt.title('Продажи игр по платформам')\n",
    "\n",
    "plt.ylabel('Миллионы копий')\n",
    "plt.xlabel('Год выпуска')\n",
    "plt.legend(actual_sale,bbox_to_anchor=(1, 0.6))\n",
    "plt.grid()\n",
    "\n",
    "plt.xticks([2013,2014, 2015, 2016])\n",
    "plt.show()"
   ]
  },
  {
   "cell_type": "code",
   "execution_count": 26,
   "metadata": {},
   "outputs": [
    {
     "data": {
      "text/plain": [
       "<Figure size 1152x432 with 0 Axes>"
      ]
     },
     "metadata": {},
     "output_type": "display_data"
    },
    {
     "data": {
      "image/png": "[encoded data removed]",
      "text/plain": [
       "<Figure size 1152x432 with 1 Axes>"
      ]
     },
     "metadata": {
      "needs_background": "light"
     },
     "output_type": "display_data"
    }
   ],
   "source": [
    "plt.figure(figsize=(16,6))\n",
    "actual_sale.plot.area(figsize=(16,6))\n",
    "plt.xticks([2014, 2015, 2016])\n",
    "plt.title('Продажи игр по платформам в общих продажах')\n",
    "plt.ylabel('Миллионы копий')\n",
    "plt.xlabel('Год выпуска')\n",
    "\n",
    "plt.xticks([2013,2014, 2015, 2016])\n",
    "plt.show()"
   ]
  },
  {
   "cell_type": "markdown",
   "metadata": {},
   "source": [
    "### Построение графика «ящик с усами» по глобальным продажам игр в разбивке по платформам."
   ]
  },
  {
   "cell_type": "code",
   "execution_count": 27,
   "metadata": {},
   "outputs": [
    {
     "data": {
      "image/png": "[encoded data removed]",
      "text/plain": [
       "<Figure size 576x576 with 1 Axes>"
      ]
     },
     "metadata": {
      "needs_background": "light"
     },
     "output_type": "display_data"
    }
   ],
   "source": [
    "sns.catplot(x=\"platform\", \n",
    "            y='total_sales', \n",
    "            kind=\"box\", \n",
    "            data=actual_data, \n",
    "            orient='v',\n",
    "            height=8)\n",
    "plt.title('Объемы продаж по платформам за актуальный период')\n",
    "plt.xlabel('Платформа')\n",
    "plt.ylabel('Миллоны копий')\n",
    "plt.ylim(0, 2);"
   ]
  },
  {
   "cell_type": "code",
   "execution_count": 28,
   "metadata": {},
   "outputs": [
    {
     "data": {
      "image/png": "[encoded data removed]",
      "text/plain": [
       "<Figure size 921.6x576 with 1 Axes>"
      ]
     },
     "metadata": {
      "needs_background": "light"
     },
     "output_type": "display_data"
    }
   ],
   "source": [
    "sns.catplot(x=\"platform\", \n",
    "            y='total_sales', \n",
    "            kind=\"box\", \n",
    "            data=actual_data, \n",
    "            orient='v',\n",
    "            height=8,\n",
    "            aspect=1.6)\n",
    "plt.title('Объемы продаж по платформам за актуальный период')\n",
    "plt.xlabel('Платформа')\n",
    "plt.ylabel('Миллоны копий')\n",
    "plt.ylim(0, 0.8);"
   ]
  },
  {
   "cell_type": "code",
   "execution_count": 29,
   "metadata": {},
   "outputs": [
    {
     "data": {
      "text/plain": [
       "count    16442.000000\n",
       "mean         0.536083\n",
       "std          1.558871\n",
       "min          0.000000\n",
       "25%          0.060000\n",
       "50%          0.170000\n",
       "75%          0.470000\n",
       "max         82.540000\n",
       "Name: total_sales, dtype: float64"
      ]
     },
     "execution_count": 29,
     "metadata": {},
     "output_type": "execute_result"
    }
   ],
   "source": [
    "data['total_sales'].describe()"
   ]
  },
  {
   "cell_type": "markdown",
   "metadata": {},
   "source": [
    "В среднем продажи игр не достигают миллиона копий. При этом есть явные выбросы - бестселлеры с миллионными продажами. Особо отличаются игры на PS4, X360 и Wii"
   ]
  },
  {
   "cell_type": "code",
   "execution_count": 30,
   "metadata": {
    "scrolled": false
   },
   "outputs": [
    {
     "data": {
      "image/png": "[encoded data removed]",
      "text/plain": [
       "<Figure size 720x288 with 2 Axes>"
      ]
     },
     "metadata": {
      "needs_background": "light"
     },
     "output_type": "display_data"
    },
    {
     "name": "stdout",
     "output_type": "stream",
     "text": [
      "Корреляция между оценкой пользователей и продажами 0.02269094327112414\n",
      "Корреляция между оценкой критиков и продажами 0.33380663565061736\n"
     ]
    },
    {
     "data": {
      "image/png": "[encoded data removed]",
      "text/plain": [
       "<Figure size 720x288 with 2 Axes>"
      ]
     },
     "metadata": {
      "needs_background": "light"
     },
     "output_type": "display_data"
    },
    {
     "name": "stdout",
     "output_type": "stream",
     "text": [
      "Корреляция между оценкой пользователей и продажами -0.006238179532306317\n",
      "Корреляция между оценкой критиков и продажами 0.3503445460228664\n"
     ]
    },
    {
     "data": {
      "image/png": "[encoded data removed]",
      "text/plain": [
       "<Figure size 720x288 with 2 Axes>"
      ]
     },
     "metadata": {
      "needs_background": "light"
     },
     "output_type": "display_data"
    },
    {
     "name": "stdout",
     "output_type": "stream",
     "text": [
      "Корреляция между оценкой пользователей и продажами -0.03362497596528878\n",
      "Корреляция между оценкой критиков и продажами 0.40589480145836687\n"
     ]
    },
    {
     "data": {
      "image/png": "[encoded data removed]",
      "text/plain": [
       "<Figure size 720x288 with 2 Axes>"
      ]
     },
     "metadata": {
      "needs_background": "light"
     },
     "output_type": "display_data"
    },
    {
     "name": "stdout",
     "output_type": "stream",
     "text": [
      "Корреляция между оценкой пользователей и продажами 0.2729904366942444\n",
      "Корреляция между оценкой критиков и продажами 0.3392349287853147\n"
     ]
    },
    {
     "data": {
      "image/png": "[encoded data removed]",
      "text/plain": [
       "<Figure size 720x288 with 2 Axes>"
      ]
     },
     "metadata": {
      "needs_background": "light"
     },
     "output_type": "display_data"
    },
    {
     "name": "stdout",
     "output_type": "stream",
     "text": [
      "Корреляция между оценкой пользователей и продажами -0.09400318326920852\n",
      "Корреляция между оценкой критиков и продажами 0.41042203561296375\n"
     ]
    },
    {
     "data": {
      "image/png": "[encoded data removed]",
      "text/plain": [
       "<Figure size 720x288 with 2 Axes>"
      ]
     },
     "metadata": {
      "needs_background": "light"
     },
     "output_type": "display_data"
    },
    {
     "name": "stdout",
     "output_type": "stream",
     "text": [
      "Корреляция между оценкой пользователей и продажами 0.40869174384926477\n",
      "Корреляция между оценкой критиков и продажами 0.37950449899784144\n"
     ]
    },
    {
     "data": {
      "image/png": "[encoded data removed]",
      "text/plain": [
       "<Figure size 720x288 with 2 Axes>"
      ]
     },
     "metadata": {
      "needs_background": "light"
     },
     "output_type": "display_data"
    },
    {
     "name": "stdout",
     "output_type": "stream",
     "text": [
      "Корреляция между оценкой пользователей и продажами -0.10923502736171779\n",
      "Корреляция между оценкой критиков и продажами 0.19412407903472956\n"
     ]
    },
    {
     "data": {
      "image/png": "[encoded data removed]",
      "text/plain": [
       "<Figure size 720x288 with 2 Axes>"
      ]
     },
     "metadata": {
      "needs_background": "light"
     },
     "output_type": "display_data"
    },
    {
     "name": "stdout",
     "output_type": "stream",
     "text": [
      "Корреляция между оценкой пользователей и продажами 0.2654782720509426\n",
      "Корреляция между оценкой критиков и продажами 0.2540997021864078\n"
     ]
    }
   ],
   "source": [
    "a_data = data.query('year_of_release >= 2013 and user_score !=0 and critic_score !=0')\n",
    "\n",
    "def critic_range(name_platform):\n",
    "    platform = a_data[a_data['platform']==name_platform]\n",
    "    fig, axes = plt.subplots(1, 2, figsize=(10, 4))\n",
    "    sns.set_palette('viridis')\n",
    "    sns.scatterplot(x='user_score', y='total_sales', data=platform, ax=axes[0])\n",
    "    sns.scatterplot(x='critic_score', y='total_sales', data=platform, ax=axes[1])\n",
    "    fig.suptitle(name_platform)\n",
    "    axes[0].set(xlabel='Оценка пользователей')\n",
    "    axes[1].set(xlabel='Оценка критиков')\n",
    "    axes[0].set(ylabel='Кол-во продаж')\n",
    "    axes[1].set(ylabel='Кол-во продаж')\n",
    "    plt.show();\n",
    "    \n",
    "    user_corr = platform['user_score'].corr(platform['total_sales'])\n",
    "    critic_corr = platform['critic_score'].corr(platform['total_sales'])\n",
    "    print('Корреляция между оценкой пользователей и продажами', user_corr)\n",
    "    print('Корреляция между оценкой критиков и продажами', critic_corr)\n",
    "    \n",
    "list_platforms = ['PS3', 'X360', 'PS4', '3DS', 'XOne', 'WiiU', 'PC', 'PSV']\n",
    "for platform in list_platforms:\n",
    "    critic_range(platform)  "
   ]
  },
  {
   "cell_type": "markdown",
   "metadata": {},
   "source": [
    "Оценки пользователей не имеют корреляции с продожами, а оценки критиков демонстрируют средне-слабую корреляцию с \"цифрами\" продаж.\n",
    "\n",
    "Лидеры по корреляция между оценкой критиков и продажами: X360, PS4 и XOne\n",
    "\n",
    "Лидеры по корреляция между оценкой пользователей и продажами: 3DS, PSV и WiiU\n",
    "\n",
    "###  Распределение игр по жанрам"
   ]
  },
  {
   "cell_type": "code",
   "execution_count": 31,
   "metadata": {},
   "outputs": [],
   "source": [
    "top_platform = (actual_data\n",
    "    .pivot_table(index='platform', values='total_sales', aggfunc='sum')\n",
    "    .sort_values(by='total_sales', ascending=False)\n",
    "    .reset_index()\n",
    ")\n",
    "data_top = actual_data.query('platform in @top_platform.platform')\n",
    "\n",
    "\n",
    "genre_data = (data_top\n",
    "    .pivot_table(index='genre', values='total_sales', aggfunc='sum')\n",
    "    .sort_values(by='total_sales', ascending=False)\n",
    "    .reset_index()\n",
    ")"
   ]
  },
  {
   "cell_type": "code",
   "execution_count": 32,
   "metadata": {},
   "outputs": [
    {
     "data": {
      "image/png": "[encoded data removed]",
      "text/plain": [
       "<Figure size 1080x360 with 1 Axes>"
      ]
     },
     "metadata": {
      "needs_background": "light"
     },
     "output_type": "display_data"
    }
   ],
   "source": [
    "(data_top\n",
    "    .pivot_table(index='genre', values='total_sales', aggfunc='sum')\n",
    "    .sort_values(by='total_sales', ascending=False)\n",
    "    .plot(kind='bar', color= 'purple', legend=True, figsize=(15, 5))\n",
    ")\n",
    "\n",
    "plt.title('Количество продаж игр по жанрам')\n",
    "plt.xlabel('Платформа')\n",
    "plt.ylabel('Кол-во продаж')\n",
    "\n",
    "plt.show()"
   ]
  },
  {
   "cell_type": "markdown",
   "metadata": {},
   "source": [
    "Больше всего выпускаются и соотвественнно больше продаются игры жанра action. Игры жанра puzzle показывают наихудший результат"
   ]
  },
  {
   "cell_type": "code",
   "execution_count": 33,
   "metadata": {},
   "outputs": [
    {
     "data": {
      "image/png": "[encoded data removed]",
      "text/plain": [
       "<Figure size 1080x648 with 1 Axes>"
      ]
     },
     "metadata": {
      "needs_background": "light"
     },
     "output_type": "display_data"
    }
   ],
   "source": [
    "plt.figure(figsize=(15,9))\n",
    "\n",
    "sns.boxplot(x='genre', y='total_sales', data=data_top)\n",
    "plt.ylim(0, 2)\n",
    "plt.show()"
   ]
  },
  {
   "cell_type": "markdown",
   "metadata": {},
   "source": [
    "Лидирующие жанры по медианным значениям являются: shooter, sports и platform\n",
    "\n",
    "При этом данные жанры демонстрируют топовые игры по продажам, большой массив второго и третьего квартиля - что говорит о успешности. Жанр action с трудом входит в пятерку\n",
    "\n",
    "## Портрет пользователя каждого региона\n",
    "\n",
    "### Самые популярные платформы (топ-5)"
   ]
  },
  {
   "cell_type": "code",
   "execution_count": 34,
   "metadata": {},
   "outputs": [],
   "source": [
    "na_sales = actual_data.groupby('platform',as_index=False)['na_sales'].sum().nlargest(5, 'na_sales')\n",
    "eu_sales = actual_data.groupby('platform',as_index=False)['eu_sales'].sum().nlargest(5, 'eu_sales')\n",
    "jp_sales = actual_data.groupby('platform',as_index=False)['jp_sales'].sum().nlargest(5, 'jp_sales')"
   ]
  },
  {
   "cell_type": "code",
   "execution_count": 35,
   "metadata": {},
   "outputs": [
    {
     "data": {
      "image/png": "[encoded data removed]",
      "text/plain": [
       "<Figure size 432x432 with 1 Axes>"
      ]
     },
     "metadata": {},
     "output_type": "display_data"
    },
    {
     "data": {
      "image/png": "[encoded data removed]",
      "text/plain": [
       "<Figure size 432x432 with 1 Axes>"
      ]
     },
     "metadata": {},
     "output_type": "display_data"
    },
    {
     "data": {
      "image/png": "[encoded data removed]",
      "text/plain": [
       "<Figure size 432x432 with 1 Axes>"
      ]
     },
     "metadata": {},
     "output_type": "display_data"
    }
   ],
   "source": [
    "na_sales.plot(kind='pie',y=\"na_sales\", autopct='%1.0f%%', legend=False, labels=na_sales['platform'],\n",
    "              title = \"Продажи платформ в Северной Америке\", figsize=(6,6),ylabel='');\n",
    "eu_sales.plot(kind='pie',y=\"eu_sales\", autopct='%1.0f%%', legend=False,  labels=na_sales['platform'],\n",
    "              title = \"Продажи платформ в Европе\", figsize=(6,6),ylabel='');\n",
    "jp_sales.plot(kind='pie',y=\"jp_sales\", autopct='%1.0f%%', legend=False,  labels=na_sales['platform'],\n",
    "              title = \"Продажи платформ в Японии\", figsize=(6,6),ylabel='');"
   ]
  },
  {
   "cell_type": "markdown",
   "metadata": {},
   "source": [
    "Самой популярной платормой во всех 3 регионах является PS4, но в Японии на нее приходится 50%, а в Северной Америке 28% и в Европе 42%. Распределение может быть связано со страной происхождения платформы которые представлены всего 2 странами США и Японией\n",
    "\n",
    "Соответственно в Японии большую долю занимают Sony(PS3,PS4), Nintendo(3DS) - 70% рынка и Microsoft(X360,XOne) - 30% рынка. А в Северной Америке Microsoft - 45% рынка и 55% Sony, Nintendo\n",
    "\n",
    "### Самые популярные жанры (топ-5)"
   ]
  },
  {
   "cell_type": "code",
   "execution_count": 36,
   "metadata": {},
   "outputs": [],
   "source": [
    "na_genres = actual_data.groupby('genre',as_index=False)['na_sales'].sum().nlargest(5, 'na_sales')\n",
    "eu_genres = actual_data.groupby('genre',as_index=False)['eu_sales'].sum().nlargest(5, 'eu_sales')\n",
    "jp_genres = actual_data.groupby('genre',as_index=False)['jp_sales'].sum().nlargest(5, 'jp_sales')"
   ]
  },
  {
   "cell_type": "code",
   "execution_count": 37,
   "metadata": {},
   "outputs": [
    {
     "data": {
      "image/png": "[encoded data removed]",
      "text/plain": [
       "<Figure size 432x432 with 1 Axes>"
      ]
     },
     "metadata": {},
     "output_type": "display_data"
    },
    {
     "data": {
      "image/png": "[encoded data removed]",
      "text/plain": [
       "<Figure size 432x432 with 1 Axes>"
      ]
     },
     "metadata": {},
     "output_type": "display_data"
    },
    {
     "data": {
      "image/png": "[encoded data removed]",
      "text/plain": [
       "<Figure size 432x432 with 1 Axes>"
      ]
     },
     "metadata": {},
     "output_type": "display_data"
    }
   ],
   "source": [
    "na_genres.plot(kind='pie',y=\"na_sales\", autopct='%1.0f%%', legend=False, labels=na_genres['genre'],\n",
    "              title = \"Популярные жанры в Северной Америке\", figsize=(6,6),ylabel='');\n",
    "eu_genres.plot(kind='pie',y=\"eu_sales\", autopct='%1.0f%%', legend=False, labels=eu_genres['genre'],\n",
    "              title = \"Популярные жанры в Европе\", figsize=(6,6),ylabel='');\n",
    "jp_genres.plot(kind='pie',y=\"jp_sales\", autopct='%1.0f%%', legend=False, labels=jp_genres['genre'],\n",
    "              title = \"Популярные жанры в Японии\", figsize=(6,6),ylabel='');"
   ]
  },
  {
   "cell_type": "markdown",
   "metadata": {},
   "source": [
    "По жанрам Северная Америка не сильно отличается от Европы. На первом месте Action 34% и 36%. На втором Shooter 29% и 27%\n",
    "\n",
    "В Японии на первом месте Role-Playing 44% и только на втором месте Action 35%, скорее всего такая разница связана с разным менталитетом или предпочтениями\n",
    "\n",
    "### Влияение рейтинга ESRB на продажи в отдельном регионе"
   ]
  },
  {
   "cell_type": "code",
   "execution_count": 38,
   "metadata": {},
   "outputs": [],
   "source": [
    "na_rating = actual_data.groupby('rating',as_index=False)['na_sales'].sum()\n",
    "eu_rating = actual_data.groupby('rating',as_index=False)['eu_sales'].sum()\n",
    "jp_rating = actual_data.groupby('rating',as_index=False)['jp_sales'].sum()"
   ]
  },
  {
   "cell_type": "code",
   "execution_count": 39,
   "metadata": {},
   "outputs": [
    {
     "data": {
      "image/png": "[encoded data removed]",
      "text/plain": [
       "<Figure size 432x432 with 1 Axes>"
      ]
     },
     "metadata": {},
     "output_type": "display_data"
    },
    {
     "data": {
      "image/png": "[encoded data removed]",
      "text/plain": [
       "<Figure size 432x432 with 1 Axes>"
      ]
     },
     "metadata": {},
     "output_type": "display_data"
    },
    {
     "data": {
      "image/png": "[encoded data removed]",
      "text/plain": [
       "<Figure size 432x432 with 1 Axes>"
      ]
     },
     "metadata": {},
     "output_type": "display_data"
    }
   ],
   "source": [
    "na_rating.plot(kind='pie',y=\"na_sales\", autopct='%1.0f%%', legend=False, labels=na_rating['rating'],\n",
    "               title = \"ESRB в Северной Америке\", figsize=(6,6),ylabel='');\n",
    "eu_rating.plot(kind='pie',y=\"eu_sales\", autopct='%1.0f%%', legend=False, labels=eu_rating['rating'],\n",
    "               title = \"ESRB в Европе\", figsize=(6,6),ylabel='');\n",
    "jp_rating.plot(kind='pie',y=\"jp_sales\", autopct='%1.0f%%', legend=False, labels=jp_rating['rating'],\n",
    "               title = \"ESRB в Японии\", figsize=(6,6),ylabel='');"
   ]
  },
  {
   "cell_type": "markdown",
   "metadata": {},
   "source": [
    "Доля рейтингов у Европы и Северной Америки мало различаются. На первом месте рейтинг «M» («Mature») — «Для взрослых», что соответствует популярным жанрам Action и Shooter\n",
    "\n",
    "В Японии около 60% игр вообще не имеют рейтинга, поскольку ESRB не является обязательным и принадлежит Северной Америке, возможно, там своя система рейтингов\n",
    "\n",
    "## Проверка гипотез\n",
    "### Проверка гипотезы: Средние пользовательские рейтинги платформ Xbox One и PC одинаковые\n",
    "\n",
    "Сформулируем гипотезы:\n",
    "\n",
    "    Нулевая гипотеза H₀: средние пользовательские рейтинги платформ Xbox One и PC не различаются\n",
    "    Альтернативная гипотеза H₁: средние пользовательские рейтинги платформ Xbox One и PC различаются\n",
    "\n",
    "Уровень значимости устанавливаем α = 5%, как общепринятое пороговое значение"
   ]
  },
  {
   "cell_type": "code",
   "execution_count": 40,
   "metadata": {},
   "outputs": [],
   "source": [
    "xone = actual_data.query('platform == \"XOne\" and user_score > 0')\n",
    "pc = actual_data.query('platform == \"PC\" and user_score > 0')"
   ]
  },
  {
   "cell_type": "code",
   "execution_count": 41,
   "metadata": {},
   "outputs": [
    {
     "name": "stdout",
     "output_type": "stream",
     "text": [
      "Средний пользовательский рейтинг Xbox One: 6.521428571428572\n",
      "Средний пользовательский рейтинг PC: 6.2696774193548395\n"
     ]
    }
   ],
   "source": [
    "print('Средний пользовательский рейтинг Xbox One:',xone['user_score'].mean())\n",
    "print('Средний пользовательский рейтинг PC:',pc['user_score'].mean())"
   ]
  },
  {
   "cell_type": "code",
   "execution_count": 42,
   "metadata": {},
   "outputs": [
    {
     "name": "stdout",
     "output_type": "stream",
     "text": [
      "p-значение:  0.14759594013430463\n",
      "Не получилось отвергнуть нулевую гипотезу\n"
     ]
    }
   ],
   "source": [
    "alpha = .05\n",
    "\n",
    "results = st.ttest_ind(xone['user_score'], pc['user_score'], equal_var = False)\n",
    "\n",
    "print('p-значение: ', results.pvalue)\n",
    "\n",
    "if results.pvalue < alpha:\n",
    "    print(\"Отвергаем нулевую гипотезу\")\n",
    "else:\n",
    "    print(\"Не получилось отвергнуть нулевую гипотезу\") "
   ]
  },
  {
   "cell_type": "markdown",
   "metadata": {},
   "source": [
    "### Проверка гипотезы: Средние пользовательские рейтинги жанров Action и Sports разные\n",
    "\n",
    "Сформулируем гипотезы:\n",
    "\n",
    "    Нулевая гипотеза H₀: Средние пользовательские рейтинги жанров Action и Sports не различаются\n",
    "    Альтернативная гипотеза H₁: Средние пользовательские рейтинги жанров Action и Sports различаются\n",
    "\n",
    "Уровень значимости устанавливаем α = 5%, как общепринятое пороговое значение."
   ]
  },
  {
   "cell_type": "code",
   "execution_count": 43,
   "metadata": {},
   "outputs": [],
   "source": [
    "action = actual_data.query('genre == \"Action\" and user_score > 0')\n",
    "sports = actual_data.query('genre == \"Sports\" and user_score > 0')"
   ]
  },
  {
   "cell_type": "code",
   "execution_count": 44,
   "metadata": {},
   "outputs": [
    {
     "name": "stdout",
     "output_type": "stream",
     "text": [
      "Средний пользовательский рейтинг Action: 6.837532133676092\n",
      "Средний пользовательский рейтинг Sports: 5.238124999999999\n"
     ]
    }
   ],
   "source": [
    "print('Средний пользовательский рейтинг Action:',action['user_score'].mean())\n",
    "print('Средний пользовательский рейтинг Sports:',sports['user_score'].mean())"
   ]
  },
  {
   "cell_type": "code",
   "execution_count": 45,
   "metadata": {},
   "outputs": [
    {
     "name": "stdout",
     "output_type": "stream",
     "text": [
      "p-значение:  1.4460039700704315e-20\n",
      "Отвергаем нулевую гипотезу\n"
     ]
    }
   ],
   "source": [
    "alpha = .05\n",
    "\n",
    "results = st.ttest_ind(action['user_score'], sports['user_score'], equal_var = False)\n",
    "\n",
    "print('p-значение: ', results.pvalue)\n",
    "\n",
    "if results.pvalue < alpha:\n",
    "    print(\"Отвергаем нулевую гипотезу\")\n",
    "else:\n",
    "    print(\"Не получилось отвергнуть нулевую гипотезу\") "
   ]
  },
  {
   "cell_type": "markdown",
   "metadata": {},
   "source": [
    "Средние пользовательские рейтинги платформ Xbox One и PC одинаковые и Средние пользовательские рейтинги жанров Action и Sports разные\n",
    "\n",
    "# Общий вывод\n",
    "\n",
    "    ● Нам были предоставлени данные по выпуску и продаже игр за период 1980-2016 годы. Пик выпуска новых игр приходится на 2008, 2009 годы. Пик продаж игр так же приходится на 2008 и 2009 годы. Далее мы видим снижение и выпуска и продаж. Что связано с появлением и развитием мобильных игр\n",
    "\n",
    "    ● Самыми продаваемыми игровыми платформами за все время являются PS2, X360 и Wii, которые в свою очередь были заменены своими приемниками\n",
    "\n",
    "    ● На всем изучаемом периоде количество игровых платформ менялось. Средняя продолжительность жизни игровой платформы 8 лет. Последний пик роста количества игровых платформ приходится на 2013 год и составил 11 платформ, затем идет снижение. Актуальными на 2016 год осталось 9 платформ. Из которых на 3 платформы приходится 84,4% продаж PS4(51.1%), XOne(20.7%), 3DS(12.6%). Указанные платформы являютя приемниками PS3, X360 и DS\n",
    "\n",
    "    ● Самыми популярными по продажам являются игры жанров Action(29,3%), Shooter(21,0%) и Sports(13.5%)\n",
    "\n",
    "    ● На продажи игр в небольшой степени влияют оценки критиков и абсолютно не влияют оценки игроков\n",
    "\n",
    "    ● При планировании продаж на 2017 год, необходимо ориентироваться на игровые платформы PS4 и XOne как самые молодые платформы находящиеся в средение своего жизненного цикла\n",
    "\n",
    "    ● Соответственно для Японии более актуально продукция Sony(PS3, PS4) И Nintendo(Wii) для Северной Америки Microsoft(X360,XOne)\n",
    "\n",
    "    ● В северной Америке и Европе следует обращать внимание на игры в жанрах Action или Shooter. В Японии RPG. Влияние на итоговые продажи могут оказать оценки критиков. Оценки игроков таким влиянием не обладают\n",
    "\n",
    "В целом можно сказать, что по аналогии с 2016 годом можно ожидать 2 кратное падение продаж. Поскольку выпуск новых игр снижается как и их продажи, поэтому стоит задуматься о сокращении затрат исходя из планируемого сокращения продаж"
   ]
  }
 ],
 "metadata": {
  "ExecuteTimeLog": [
   {
    "duration": 399,
    "start_time": "2022-12-15T06:58:59.694Z"
   },
   {
    "duration": 131,
    "start_time": "2022-12-15T06:59:01.256Z"
   },
   {
    "duration": 65,
    "start_time": "2022-12-15T07:01:02.945Z"
   },
   {
    "duration": 17,
    "start_time": "2022-12-15T07:01:07.974Z"
   },
   {
    "duration": 4,
    "start_time": "2022-12-15T07:02:58.566Z"
   },
   {
    "duration": 3,
    "start_time": "2022-12-15T07:03:18.944Z"
   },
   {
    "duration": 9,
    "start_time": "2022-12-15T07:03:19.476Z"
   },
   {
    "duration": 14,
    "start_time": "2022-12-15T07:05:26.134Z"
   },
   {
    "duration": 13,
    "start_time": "2022-12-15T07:05:44.357Z"
   },
   {
    "duration": 9,
    "start_time": "2022-12-15T07:05:57.495Z"
   },
   {
    "duration": 14,
    "start_time": "2022-12-15T07:05:59.876Z"
   },
   {
    "duration": 398,
    "start_time": "2022-12-15T07:06:20.985Z"
   },
   {
    "duration": 75,
    "start_time": "2022-12-15T07:06:21.388Z"
   },
   {
    "duration": 14,
    "start_time": "2022-12-15T07:06:21.465Z"
   },
   {
    "duration": 6,
    "start_time": "2022-12-15T07:06:21.482Z"
   },
   {
    "duration": 11,
    "start_time": "2022-12-15T07:06:21.490Z"
   },
   {
    "duration": 17,
    "start_time": "2022-12-15T07:06:21.503Z"
   },
   {
    "duration": 7,
    "start_time": "2022-12-15T07:06:21.522Z"
   },
   {
    "duration": 10,
    "start_time": "2022-12-15T07:10:03.253Z"
   },
   {
    "duration": 10,
    "start_time": "2022-12-15T07:10:39.885Z"
   },
   {
    "duration": 383,
    "start_time": "2022-12-15T07:10:50.836Z"
   },
   {
    "duration": 73,
    "start_time": "2022-12-15T07:10:51.222Z"
   },
   {
    "duration": 14,
    "start_time": "2022-12-15T07:10:51.297Z"
   },
   {
    "duration": 3,
    "start_time": "2022-12-15T07:10:51.313Z"
   },
   {
    "duration": 19,
    "start_time": "2022-12-15T07:10:51.318Z"
   },
   {
    "duration": 21,
    "start_time": "2022-12-15T07:10:51.339Z"
   },
   {
    "duration": 7,
    "start_time": "2022-12-15T07:10:51.377Z"
   },
   {
    "duration": 14,
    "start_time": "2022-12-15T07:10:51.386Z"
   },
   {
    "duration": 18,
    "start_time": "2022-12-15T07:10:51.402Z"
   },
   {
    "duration": 23,
    "start_time": "2022-12-15T07:13:19.506Z"
   },
   {
    "duration": 5,
    "start_time": "2022-12-15T07:13:32.905Z"
   },
   {
    "duration": 403,
    "start_time": "2022-12-15T07:16:22.525Z"
   },
   {
    "duration": 80,
    "start_time": "2022-12-15T07:16:22.930Z"
   },
   {
    "duration": 17,
    "start_time": "2022-12-15T07:16:23.012Z"
   },
   {
    "duration": 29,
    "start_time": "2022-12-15T07:16:23.031Z"
   },
   {
    "duration": 44,
    "start_time": "2022-12-15T07:16:23.062Z"
   },
   {
    "duration": 34,
    "start_time": "2022-12-15T07:16:23.108Z"
   },
   {
    "duration": 18,
    "start_time": "2022-12-15T07:16:23.143Z"
   },
   {
    "duration": 35,
    "start_time": "2022-12-15T07:16:23.164Z"
   },
   {
    "duration": 9,
    "start_time": "2022-12-15T07:16:23.201Z"
   },
   {
    "duration": 32,
    "start_time": "2022-12-15T07:16:23.213Z"
   },
   {
    "duration": 24,
    "start_time": "2022-12-15T07:16:23.247Z"
   },
   {
    "duration": 59,
    "start_time": "2022-12-15T10:43:59.168Z"
   },
   {
    "duration": 9,
    "start_time": "2022-12-15T10:43:59.508Z"
   },
   {
    "duration": 426,
    "start_time": "2022-12-15T10:44:06.934Z"
   },
   {
    "duration": 237,
    "start_time": "2022-12-15T10:44:07.362Z"
   },
   {
    "duration": 17,
    "start_time": "2022-12-15T10:44:07.601Z"
   },
   {
    "duration": 3,
    "start_time": "2022-12-15T10:44:07.621Z"
   },
   {
    "duration": 17,
    "start_time": "2022-12-15T10:44:07.626Z"
   },
   {
    "duration": 41,
    "start_time": "2022-12-15T10:44:07.645Z"
   },
   {
    "duration": 7,
    "start_time": "2022-12-15T10:44:07.688Z"
   },
   {
    "duration": 32,
    "start_time": "2022-12-15T10:44:07.697Z"
   },
   {
    "duration": 14,
    "start_time": "2022-12-15T10:44:07.731Z"
   },
   {
    "duration": 39,
    "start_time": "2022-12-15T10:44:07.748Z"
   },
   {
    "duration": 5,
    "start_time": "2022-12-15T10:44:07.789Z"
   },
   {
    "duration": 7,
    "start_time": "2022-12-15T10:58:34.116Z"
   },
   {
    "duration": 6,
    "start_time": "2022-12-15T11:13:39.604Z"
   },
   {
    "duration": 9,
    "start_time": "2022-12-15T11:18:14.626Z"
   },
   {
    "duration": 427,
    "start_time": "2022-12-15T11:20:48.548Z"
   },
   {
    "duration": 105,
    "start_time": "2022-12-15T11:20:48.978Z"
   },
   {
    "duration": 21,
    "start_time": "2022-12-15T11:20:49.085Z"
   },
   {
    "duration": 5,
    "start_time": "2022-12-15T11:20:49.108Z"
   },
   {
    "duration": 48,
    "start_time": "2022-12-15T11:20:49.116Z"
   },
   {
    "duration": 30,
    "start_time": "2022-12-15T11:20:49.167Z"
   },
   {
    "duration": 14,
    "start_time": "2022-12-15T11:20:49.199Z"
   },
   {
    "duration": 54,
    "start_time": "2022-12-15T11:20:49.216Z"
   },
   {
    "duration": 109,
    "start_time": "2022-12-15T11:20:49.272Z"
   },
   {
    "duration": 0,
    "start_time": "2022-12-15T11:20:49.383Z"
   },
   {
    "duration": 0,
    "start_time": "2022-12-15T11:20:49.384Z"
   },
   {
    "duration": 0,
    "start_time": "2022-12-15T11:20:49.386Z"
   },
   {
    "duration": 0,
    "start_time": "2022-12-15T11:20:49.387Z"
   },
   {
    "duration": 15,
    "start_time": "2022-12-15T11:21:47.638Z"
   },
   {
    "duration": 393,
    "start_time": "2022-12-20T10:32:33.115Z"
   },
   {
    "duration": 110,
    "start_time": "2022-12-20T10:32:33.510Z"
   },
   {
    "duration": 13,
    "start_time": "2022-12-20T10:32:33.622Z"
   },
   {
    "duration": 11,
    "start_time": "2022-12-20T10:32:33.637Z"
   },
   {
    "duration": 20,
    "start_time": "2022-12-20T10:32:33.650Z"
   },
   {
    "duration": 14,
    "start_time": "2022-12-20T10:32:33.671Z"
   },
   {
    "duration": 13,
    "start_time": "2022-12-20T10:32:33.687Z"
   },
   {
    "duration": 23,
    "start_time": "2022-12-20T10:32:33.701Z"
   },
   {
    "duration": 78,
    "start_time": "2022-12-20T10:32:33.726Z"
   },
   {
    "duration": 0,
    "start_time": "2022-12-20T10:32:33.806Z"
   },
   {
    "duration": 0,
    "start_time": "2022-12-20T10:32:33.807Z"
   },
   {
    "duration": 0,
    "start_time": "2022-12-20T10:32:33.808Z"
   },
   {
    "duration": 0,
    "start_time": "2022-12-20T10:32:33.810Z"
   },
   {
    "duration": 396,
    "start_time": "2022-12-20T10:33:01.463Z"
   },
   {
    "duration": 73,
    "start_time": "2022-12-20T10:33:01.861Z"
   },
   {
    "duration": 15,
    "start_time": "2022-12-20T10:33:01.936Z"
   },
   {
    "duration": 11,
    "start_time": "2022-12-20T10:33:01.953Z"
   },
   {
    "duration": 33,
    "start_time": "2022-12-20T10:33:01.966Z"
   },
   {
    "duration": 29,
    "start_time": "2022-12-20T10:33:02.001Z"
   },
   {
    "duration": 16,
    "start_time": "2022-12-20T10:33:02.032Z"
   },
   {
    "duration": 48,
    "start_time": "2022-12-20T10:33:02.050Z"
   },
   {
    "duration": 103,
    "start_time": "2022-12-20T10:33:02.100Z"
   },
   {
    "duration": 0,
    "start_time": "2022-12-20T10:33:02.205Z"
   },
   {
    "duration": 0,
    "start_time": "2022-12-20T10:33:02.206Z"
   },
   {
    "duration": 0,
    "start_time": "2022-12-20T10:33:02.207Z"
   },
   {
    "duration": 0,
    "start_time": "2022-12-20T10:33:02.208Z"
   },
   {
    "duration": 10,
    "start_time": "2022-12-20T10:36:11.475Z"
   },
   {
    "duration": 3,
    "start_time": "2022-12-20T10:36:24.606Z"
   },
   {
    "duration": 20,
    "start_time": "2022-12-20T10:36:34.065Z"
   },
   {
    "duration": 8,
    "start_time": "2022-12-20T10:36:45.266Z"
   },
   {
    "duration": 10,
    "start_time": "2022-12-20T10:36:56.475Z"
   },
   {
    "duration": 415,
    "start_time": "2022-12-20T10:37:00.997Z"
   },
   {
    "duration": 74,
    "start_time": "2022-12-20T10:37:01.414Z"
   },
   {
    "duration": 15,
    "start_time": "2022-12-20T10:37:01.489Z"
   },
   {
    "duration": 29,
    "start_time": "2022-12-20T10:37:01.506Z"
   },
   {
    "duration": 59,
    "start_time": "2022-12-20T10:37:01.538Z"
   },
   {
    "duration": 58,
    "start_time": "2022-12-20T10:37:01.599Z"
   },
   {
    "duration": 14,
    "start_time": "2022-12-20T10:37:01.659Z"
   },
   {
    "duration": 54,
    "start_time": "2022-12-20T10:37:01.674Z"
   },
   {
    "duration": 50,
    "start_time": "2022-12-20T10:37:01.729Z"
   },
   {
    "duration": 40,
    "start_time": "2022-12-20T10:37:01.781Z"
   },
   {
    "duration": 25,
    "start_time": "2022-12-20T10:37:01.823Z"
   },
   {
    "duration": 26,
    "start_time": "2022-12-20T10:37:01.850Z"
   },
   {
    "duration": 65,
    "start_time": "2022-12-20T10:37:01.878Z"
   },
   {
    "duration": 66,
    "start_time": "2022-12-20T10:38:24.185Z"
   },
   {
    "duration": 349,
    "start_time": "2022-12-20T10:38:28.547Z"
   },
   {
    "duration": 69,
    "start_time": "2022-12-20T10:38:28.898Z"
   },
   {
    "duration": 15,
    "start_time": "2022-12-20T10:38:28.969Z"
   },
   {
    "duration": 7,
    "start_time": "2022-12-20T10:38:28.986Z"
   },
   {
    "duration": 18,
    "start_time": "2022-12-20T10:38:28.996Z"
   },
   {
    "duration": 19,
    "start_time": "2022-12-20T10:38:29.016Z"
   },
   {
    "duration": 7,
    "start_time": "2022-12-20T10:38:29.036Z"
   },
   {
    "duration": 23,
    "start_time": "2022-12-20T10:38:29.044Z"
   },
   {
    "duration": 84,
    "start_time": "2022-12-20T10:38:29.069Z"
   },
   {
    "duration": 0,
    "start_time": "2022-12-20T10:38:29.155Z"
   },
   {
    "duration": 0,
    "start_time": "2022-12-20T10:38:29.156Z"
   },
   {
    "duration": 0,
    "start_time": "2022-12-20T10:38:29.158Z"
   },
   {
    "duration": 0,
    "start_time": "2022-12-20T10:38:29.160Z"
   },
   {
    "duration": 355,
    "start_time": "2022-12-20T10:38:37.245Z"
   },
   {
    "duration": 69,
    "start_time": "2022-12-20T10:38:37.602Z"
   },
   {
    "duration": 14,
    "start_time": "2022-12-20T10:38:37.673Z"
   },
   {
    "duration": 5,
    "start_time": "2022-12-20T10:38:37.689Z"
   },
   {
    "duration": 11,
    "start_time": "2022-12-20T10:38:37.696Z"
   },
   {
    "duration": 16,
    "start_time": "2022-12-20T10:38:37.709Z"
   },
   {
    "duration": 5,
    "start_time": "2022-12-20T10:38:37.727Z"
   },
   {
    "duration": 25,
    "start_time": "2022-12-20T10:38:37.734Z"
   },
   {
    "duration": 41,
    "start_time": "2022-12-20T10:38:37.761Z"
   },
   {
    "duration": 21,
    "start_time": "2022-12-20T10:38:37.804Z"
   },
   {
    "duration": 16,
    "start_time": "2022-12-20T10:38:37.826Z"
   },
   {
    "duration": 8,
    "start_time": "2022-12-20T10:38:37.844Z"
   },
   {
    "duration": 14,
    "start_time": "2022-12-20T10:38:37.854Z"
   },
   {
    "duration": 44,
    "start_time": "2022-12-20T10:39:44.926Z"
   },
   {
    "duration": 419,
    "start_time": "2022-12-20T10:40:17.393Z"
   },
   {
    "duration": 75,
    "start_time": "2022-12-20T10:40:17.814Z"
   },
   {
    "duration": 16,
    "start_time": "2022-12-20T10:40:17.891Z"
   },
   {
    "duration": 3,
    "start_time": "2022-12-20T10:40:17.909Z"
   },
   {
    "duration": 22,
    "start_time": "2022-12-20T10:40:17.915Z"
   },
   {
    "duration": 22,
    "start_time": "2022-12-20T10:40:17.940Z"
   },
   {
    "duration": 42,
    "start_time": "2022-12-20T10:40:17.964Z"
   },
   {
    "duration": 17,
    "start_time": "2022-12-20T10:40:18.008Z"
   },
   {
    "duration": 32,
    "start_time": "2022-12-20T10:40:18.028Z"
   },
   {
    "duration": 5,
    "start_time": "2022-12-20T10:40:18.062Z"
   },
   {
    "duration": 28,
    "start_time": "2022-12-20T10:40:18.069Z"
   },
   {
    "duration": 15,
    "start_time": "2022-12-20T10:40:18.099Z"
   },
   {
    "duration": 16,
    "start_time": "2022-12-20T10:40:34.605Z"
   },
   {
    "duration": 8,
    "start_time": "2022-12-20T10:40:41.245Z"
   },
   {
    "duration": 67,
    "start_time": "2022-12-20T10:50:06.676Z"
   },
   {
    "duration": 4,
    "start_time": "2022-12-20T10:50:17.376Z"
   },
   {
    "duration": 16,
    "start_time": "2022-12-20T10:53:47.139Z"
   },
   {
    "duration": 6,
    "start_time": "2022-12-20T10:56:07.279Z"
   },
   {
    "duration": 14,
    "start_time": "2022-12-20T10:56:08.279Z"
   },
   {
    "duration": 5,
    "start_time": "2022-12-20T11:03:45.037Z"
   },
   {
    "duration": 4,
    "start_time": "2022-12-20T11:06:50.818Z"
   },
   {
    "duration": 303,
    "start_time": "2022-12-20T11:09:05.319Z"
   },
   {
    "duration": 7,
    "start_time": "2022-12-20T11:09:16.668Z"
   },
   {
    "duration": 5,
    "start_time": "2022-12-20T11:09:20.006Z"
   },
   {
    "duration": 9,
    "start_time": "2022-12-20T11:11:22.307Z"
   },
   {
    "duration": 402,
    "start_time": "2022-12-20T11:11:46.999Z"
   },
   {
    "duration": 70,
    "start_time": "2022-12-20T11:11:47.404Z"
   },
   {
    "duration": 12,
    "start_time": "2022-12-20T11:11:47.476Z"
   },
   {
    "duration": 10,
    "start_time": "2022-12-20T11:11:47.490Z"
   },
   {
    "duration": 16,
    "start_time": "2022-12-20T11:11:47.502Z"
   },
   {
    "duration": 15,
    "start_time": "2022-12-20T11:11:47.520Z"
   },
   {
    "duration": 22,
    "start_time": "2022-12-20T11:11:47.536Z"
   },
   {
    "duration": 9,
    "start_time": "2022-12-20T11:11:47.559Z"
   },
   {
    "duration": 54,
    "start_time": "2022-12-20T11:11:47.569Z"
   },
   {
    "duration": 4,
    "start_time": "2022-12-20T11:11:47.625Z"
   },
   {
    "duration": 9,
    "start_time": "2022-12-20T11:11:47.631Z"
   },
   {
    "duration": 7,
    "start_time": "2022-12-20T11:11:47.642Z"
   },
   {
    "duration": 5,
    "start_time": "2022-12-20T11:11:47.650Z"
   },
   {
    "duration": 5,
    "start_time": "2022-12-20T11:11:47.658Z"
   },
   {
    "duration": 32,
    "start_time": "2022-12-20T11:11:47.665Z"
   },
   {
    "duration": 7,
    "start_time": "2022-12-20T11:11:47.699Z"
   },
   {
    "duration": 11,
    "start_time": "2022-12-20T11:11:47.708Z"
   },
   {
    "duration": 5,
    "start_time": "2022-12-20T11:12:24.299Z"
   },
   {
    "duration": 9,
    "start_time": "2022-12-20T11:12:24.717Z"
   },
   {
    "duration": 7,
    "start_time": "2022-12-20T11:12:48.547Z"
   },
   {
    "duration": 440,
    "start_time": "2022-12-20T11:13:56.767Z"
   },
   {
    "duration": 73,
    "start_time": "2022-12-20T11:13:57.209Z"
   },
   {
    "duration": 14,
    "start_time": "2022-12-20T11:13:57.283Z"
   },
   {
    "duration": 3,
    "start_time": "2022-12-20T11:13:57.299Z"
   },
   {
    "duration": 11,
    "start_time": "2022-12-20T11:13:57.304Z"
   },
   {
    "duration": 19,
    "start_time": "2022-12-20T11:13:57.317Z"
   },
   {
    "duration": 22,
    "start_time": "2022-12-20T11:13:57.337Z"
   },
   {
    "duration": 8,
    "start_time": "2022-12-20T11:13:57.361Z"
   },
   {
    "duration": 45,
    "start_time": "2022-12-20T11:13:57.371Z"
   },
   {
    "duration": 4,
    "start_time": "2022-12-20T11:13:57.418Z"
   },
   {
    "duration": 12,
    "start_time": "2022-12-20T11:13:57.423Z"
   },
   {
    "duration": 14,
    "start_time": "2022-12-20T11:13:57.436Z"
   },
   {
    "duration": 5,
    "start_time": "2022-12-20T11:13:57.452Z"
   },
   {
    "duration": 6,
    "start_time": "2022-12-20T11:13:57.459Z"
   },
   {
    "duration": 8,
    "start_time": "2022-12-20T11:13:57.466Z"
   },
   {
    "duration": 9,
    "start_time": "2022-12-20T11:13:57.496Z"
   },
   {
    "duration": 8,
    "start_time": "2022-12-20T11:13:57.507Z"
   },
   {
    "duration": 4,
    "start_time": "2022-12-20T11:14:40.299Z"
   },
   {
    "duration": 5,
    "start_time": "2022-12-20T11:14:48.566Z"
   },
   {
    "duration": 17,
    "start_time": "2022-12-20T11:28:04.130Z"
   },
   {
    "duration": 62,
    "start_time": "2022-12-24T09:20:40.281Z"
   },
   {
    "duration": 1356,
    "start_time": "2022-12-24T09:21:38.620Z"
   },
   {
    "duration": 122,
    "start_time": "2022-12-24T09:21:39.985Z"
   },
   {
    "duration": 15,
    "start_time": "2022-12-24T09:21:40.109Z"
   },
   {
    "duration": 20,
    "start_time": "2022-12-24T09:21:40.126Z"
   },
   {
    "duration": 27,
    "start_time": "2022-12-24T09:21:40.148Z"
   },
   {
    "duration": 29,
    "start_time": "2022-12-24T09:21:40.176Z"
   },
   {
    "duration": 30,
    "start_time": "2022-12-24T09:21:40.206Z"
   },
   {
    "duration": 21,
    "start_time": "2022-12-24T09:21:40.238Z"
   },
   {
    "duration": 39,
    "start_time": "2022-12-24T09:21:40.261Z"
   },
   {
    "duration": 12,
    "start_time": "2022-12-24T09:21:40.303Z"
   },
   {
    "duration": 31,
    "start_time": "2022-12-24T09:21:40.316Z"
   },
   {
    "duration": 24,
    "start_time": "2022-12-24T09:21:40.349Z"
   },
   {
    "duration": 26,
    "start_time": "2022-12-24T09:21:40.375Z"
   },
   {
    "duration": 24,
    "start_time": "2022-12-24T09:21:40.403Z"
   },
   {
    "duration": 10,
    "start_time": "2022-12-24T09:21:40.429Z"
   },
   {
    "duration": 18,
    "start_time": "2022-12-24T09:21:40.441Z"
   },
   {
    "duration": 28,
    "start_time": "2022-12-24T09:21:40.461Z"
   },
   {
    "duration": 8,
    "start_time": "2022-12-24T09:21:40.491Z"
   },
   {
    "duration": 112,
    "start_time": "2022-12-24T09:21:40.500Z"
   },
   {
    "duration": 1234,
    "start_time": "2022-12-24T09:21:59.314Z"
   },
   {
    "duration": 68,
    "start_time": "2022-12-24T09:22:00.550Z"
   },
   {
    "duration": 15,
    "start_time": "2022-12-24T09:22:00.620Z"
   },
   {
    "duration": 7,
    "start_time": "2022-12-24T09:22:00.637Z"
   },
   {
    "duration": 20,
    "start_time": "2022-12-24T09:22:00.646Z"
   },
   {
    "duration": 30,
    "start_time": "2022-12-24T09:22:00.668Z"
   },
   {
    "duration": 31,
    "start_time": "2022-12-24T09:22:00.699Z"
   },
   {
    "duration": 24,
    "start_time": "2022-12-24T09:22:00.731Z"
   },
   {
    "duration": 43,
    "start_time": "2022-12-24T09:22:00.756Z"
   },
   {
    "duration": 11,
    "start_time": "2022-12-24T09:22:00.803Z"
   },
   {
    "duration": 56,
    "start_time": "2022-12-24T09:22:00.816Z"
   },
   {
    "duration": 21,
    "start_time": "2022-12-24T09:22:00.874Z"
   },
   {
    "duration": 16,
    "start_time": "2022-12-24T09:22:00.897Z"
   },
   {
    "duration": 12,
    "start_time": "2022-12-24T09:22:00.915Z"
   },
   {
    "duration": 22,
    "start_time": "2022-12-24T09:22:00.929Z"
   },
   {
    "duration": 23,
    "start_time": "2022-12-24T09:22:00.953Z"
   },
   {
    "duration": 45,
    "start_time": "2022-12-24T09:22:00.979Z"
   },
   {
    "duration": 37,
    "start_time": "2022-12-24T09:22:01.026Z"
   },
   {
    "duration": 437,
    "start_time": "2022-12-24T09:22:01.065Z"
   },
   {
    "duration": 416,
    "start_time": "2022-12-24T09:22:29.717Z"
   },
   {
    "duration": 390,
    "start_time": "2022-12-24T09:22:36.572Z"
   },
   {
    "duration": 1196,
    "start_time": "2022-12-24T10:20:25.877Z"
   },
   {
    "duration": 74,
    "start_time": "2022-12-24T10:20:27.077Z"
   },
   {
    "duration": 22,
    "start_time": "2022-12-24T10:20:27.153Z"
   },
   {
    "duration": 8,
    "start_time": "2022-12-24T10:20:27.178Z"
   },
   {
    "duration": 40,
    "start_time": "2022-12-24T10:20:27.188Z"
   },
   {
    "duration": 51,
    "start_time": "2022-12-24T10:20:27.230Z"
   },
   {
    "duration": 22,
    "start_time": "2022-12-24T10:20:27.284Z"
   },
   {
    "duration": 20,
    "start_time": "2022-12-24T10:20:27.309Z"
   },
   {
    "duration": 57,
    "start_time": "2022-12-24T10:20:27.332Z"
   },
   {
    "duration": 32,
    "start_time": "2022-12-24T10:20:27.393Z"
   },
   {
    "duration": 21,
    "start_time": "2022-12-24T10:20:27.427Z"
   },
   {
    "duration": 29,
    "start_time": "2022-12-24T10:20:27.450Z"
   },
   {
    "duration": 15,
    "start_time": "2022-12-24T10:20:27.481Z"
   },
   {
    "duration": 23,
    "start_time": "2022-12-24T10:20:27.498Z"
   },
   {
    "duration": 31,
    "start_time": "2022-12-24T10:20:27.524Z"
   },
   {
    "duration": 21,
    "start_time": "2022-12-24T10:20:27.557Z"
   },
   {
    "duration": 33,
    "start_time": "2022-12-24T10:20:27.580Z"
   },
   {
    "duration": 19,
    "start_time": "2022-12-24T10:20:27.614Z"
   },
   {
    "duration": 448,
    "start_time": "2022-12-24T10:20:27.634Z"
   },
   {
    "duration": 424,
    "start_time": "2022-12-24T10:20:41.072Z"
   },
   {
    "duration": 415,
    "start_time": "2022-12-24T10:20:47.462Z"
   },
   {
    "duration": 422,
    "start_time": "2022-12-24T10:20:55.009Z"
   },
   {
    "duration": 547,
    "start_time": "2022-12-24T10:20:58.366Z"
   },
   {
    "duration": 423,
    "start_time": "2022-12-24T10:21:05.014Z"
   },
   {
    "duration": 421,
    "start_time": "2022-12-24T10:21:10.773Z"
   },
   {
    "duration": 1138,
    "start_time": "2022-12-24T10:24:37.117Z"
   },
   {
    "duration": 84,
    "start_time": "2022-12-24T10:24:38.258Z"
   },
   {
    "duration": 24,
    "start_time": "2022-12-24T10:24:38.344Z"
   },
   {
    "duration": 6,
    "start_time": "2022-12-24T10:24:38.372Z"
   },
   {
    "duration": 18,
    "start_time": "2022-12-24T10:24:38.380Z"
   },
   {
    "duration": 28,
    "start_time": "2022-12-24T10:24:38.400Z"
   },
   {
    "duration": 55,
    "start_time": "2022-12-24T10:24:38.431Z"
   },
   {
    "duration": 12,
    "start_time": "2022-12-24T10:24:38.489Z"
   },
   {
    "duration": 55,
    "start_time": "2022-12-24T10:24:38.503Z"
   },
   {
    "duration": 11,
    "start_time": "2022-12-24T10:24:38.562Z"
   },
   {
    "duration": 12,
    "start_time": "2022-12-24T10:24:38.575Z"
   },
   {
    "duration": 9,
    "start_time": "2022-12-24T10:24:38.589Z"
   },
   {
    "duration": 6,
    "start_time": "2022-12-24T10:24:38.600Z"
   },
   {
    "duration": 7,
    "start_time": "2022-12-24T10:24:38.608Z"
   },
   {
    "duration": 7,
    "start_time": "2022-12-24T10:24:38.616Z"
   },
   {
    "duration": 9,
    "start_time": "2022-12-24T10:24:38.625Z"
   },
   {
    "duration": 44,
    "start_time": "2022-12-24T10:24:38.636Z"
   },
   {
    "duration": 9,
    "start_time": "2022-12-24T10:24:38.682Z"
   },
   {
    "duration": 417,
    "start_time": "2022-12-24T10:24:38.693Z"
   },
   {
    "duration": 112,
    "start_time": "2022-12-24T10:24:39.111Z"
   },
   {
    "duration": 0,
    "start_time": "2022-12-24T10:24:39.224Z"
   },
   {
    "duration": 26,
    "start_time": "2022-12-24T10:24:45.882Z"
   },
   {
    "duration": 419,
    "start_time": "2022-12-24T10:24:47.278Z"
   },
   {
    "duration": 76,
    "start_time": "2022-12-24T10:25:33.179Z"
   },
   {
    "duration": 441,
    "start_time": "2022-12-24T10:26:16.239Z"
   },
   {
    "duration": 443,
    "start_time": "2022-12-24T10:26:21.641Z"
   },
   {
    "duration": 869,
    "start_time": "2022-12-24T10:26:40.157Z"
   },
   {
    "duration": 942,
    "start_time": "2022-12-24T10:27:16.055Z"
   },
   {
    "duration": 886,
    "start_time": "2022-12-24T10:27:20.754Z"
   },
   {
    "duration": 864,
    "start_time": "2022-12-24T10:27:36.757Z"
   },
   {
    "duration": 849,
    "start_time": "2022-12-24T10:28:09.453Z"
   },
   {
    "duration": 1091,
    "start_time": "2022-12-24T10:28:30.686Z"
   },
   {
    "duration": 872,
    "start_time": "2022-12-24T10:33:45.376Z"
   },
   {
    "duration": 1184,
    "start_time": "2022-12-24T10:33:58.457Z"
   },
   {
    "duration": 1083,
    "start_time": "2022-12-24T10:34:07.049Z"
   },
   {
    "duration": 689,
    "start_time": "2022-12-24T10:34:15.944Z"
   },
   {
    "duration": 401,
    "start_time": "2022-12-24T10:34:23.401Z"
   },
   {
    "duration": 416,
    "start_time": "2022-12-24T10:34:30.277Z"
   },
   {
    "duration": 696,
    "start_time": "2022-12-24T10:34:39.960Z"
   },
   {
    "duration": 692,
    "start_time": "2022-12-24T10:35:37.567Z"
   },
   {
    "duration": 838,
    "start_time": "2022-12-24T10:35:58.295Z"
   },
   {
    "duration": 822,
    "start_time": "2022-12-24T10:37:14.209Z"
   },
   {
    "duration": 653,
    "start_time": "2022-12-24T10:37:21.598Z"
   },
   {
    "duration": 693,
    "start_time": "2022-12-24T10:44:36.721Z"
   },
   {
    "duration": 553,
    "start_time": "2022-12-24T10:45:00.783Z"
   },
   {
    "duration": 573,
    "start_time": "2022-12-24T10:45:04.549Z"
   },
   {
    "duration": 952,
    "start_time": "2022-12-24T10:45:15.519Z"
   },
   {
    "duration": 678,
    "start_time": "2022-12-24T10:45:23.105Z"
   },
   {
    "duration": 350,
    "start_time": "2022-12-24T10:46:26.988Z"
   },
   {
    "duration": 12,
    "start_time": "2022-12-24T11:07:04.955Z"
   },
   {
    "duration": 319,
    "start_time": "2022-12-24T11:07:20.294Z"
   },
   {
    "duration": 28,
    "start_time": "2022-12-24T11:09:36.456Z"
   },
   {
    "duration": 203,
    "start_time": "2022-12-24T11:09:43.903Z"
   },
   {
    "duration": 277,
    "start_time": "2022-12-24T11:09:53.523Z"
   },
   {
    "duration": 268,
    "start_time": "2022-12-24T11:10:41.685Z"
   },
   {
    "duration": 257,
    "start_time": "2022-12-24T11:10:51.350Z"
   },
   {
    "duration": 21,
    "start_time": "2022-12-24T11:12:25.180Z"
   },
   {
    "duration": 431,
    "start_time": "2022-12-24T11:12:33.305Z"
   },
   {
    "duration": 296,
    "start_time": "2022-12-24T11:12:37.114Z"
   },
   {
    "duration": 310,
    "start_time": "2022-12-24T11:12:44.723Z"
   },
   {
    "duration": 298,
    "start_time": "2022-12-24T11:12:47.495Z"
   },
   {
    "duration": 286,
    "start_time": "2022-12-24T11:12:55.511Z"
   },
   {
    "duration": 304,
    "start_time": "2022-12-24T11:13:24.762Z"
   },
   {
    "duration": 288,
    "start_time": "2022-12-24T11:13:42.225Z"
   },
   {
    "duration": 320,
    "start_time": "2022-12-24T11:13:50.148Z"
   },
   {
    "duration": 356,
    "start_time": "2022-12-24T11:17:35.279Z"
   },
   {
    "duration": 342,
    "start_time": "2022-12-24T11:17:45.712Z"
   },
   {
    "duration": 563,
    "start_time": "2022-12-24T11:19:44.797Z"
   },
   {
    "duration": 475,
    "start_time": "2022-12-24T11:19:47.669Z"
   },
   {
    "duration": 2919,
    "start_time": "2022-12-24T11:26:00.145Z"
   },
   {
    "duration": 24,
    "start_time": "2022-12-24T11:34:56.730Z"
   },
   {
    "duration": 217,
    "start_time": "2022-12-24T11:35:55.450Z"
   },
   {
    "duration": 215,
    "start_time": "2022-12-24T11:36:10.349Z"
   },
   {
    "duration": 276,
    "start_time": "2022-12-24T11:36:18.325Z"
   },
   {
    "duration": 334,
    "start_time": "2022-12-24T11:37:21.793Z"
   },
   {
    "duration": 64,
    "start_time": "2022-12-24T11:38:45.389Z"
   },
   {
    "duration": 22,
    "start_time": "2022-12-24T11:42:26.647Z"
   },
   {
    "duration": 12,
    "start_time": "2022-12-24T11:42:46.648Z"
   },
   {
    "duration": 16,
    "start_time": "2022-12-24T11:43:00.876Z"
   },
   {
    "duration": 890,
    "start_time": "2022-12-24T11:43:22.199Z"
   },
   {
    "duration": 1141,
    "start_time": "2022-12-24T11:43:34.107Z"
   },
   {
    "duration": 68,
    "start_time": "2022-12-24T11:43:35.250Z"
   },
   {
    "duration": 15,
    "start_time": "2022-12-24T11:43:35.320Z"
   },
   {
    "duration": 3,
    "start_time": "2022-12-24T11:43:35.337Z"
   },
   {
    "duration": 14,
    "start_time": "2022-12-24T11:43:35.342Z"
   },
   {
    "duration": 43,
    "start_time": "2022-12-24T11:43:35.357Z"
   },
   {
    "duration": 23,
    "start_time": "2022-12-24T11:43:35.402Z"
   },
   {
    "duration": 12,
    "start_time": "2022-12-24T11:43:35.427Z"
   },
   {
    "duration": 23,
    "start_time": "2022-12-24T11:43:35.440Z"
   },
   {
    "duration": 15,
    "start_time": "2022-12-24T11:43:35.466Z"
   },
   {
    "duration": 15,
    "start_time": "2022-12-24T11:43:35.487Z"
   },
   {
    "duration": 8,
    "start_time": "2022-12-24T11:43:35.503Z"
   },
   {
    "duration": 4,
    "start_time": "2022-12-24T11:43:35.512Z"
   },
   {
    "duration": 6,
    "start_time": "2022-12-24T11:43:35.518Z"
   },
   {
    "duration": 6,
    "start_time": "2022-12-24T11:43:35.526Z"
   },
   {
    "duration": 13,
    "start_time": "2022-12-24T11:43:35.533Z"
   },
   {
    "duration": 47,
    "start_time": "2022-12-24T11:43:35.547Z"
   },
   {
    "duration": 7,
    "start_time": "2022-12-24T11:43:35.596Z"
   },
   {
    "duration": 455,
    "start_time": "2022-12-24T11:43:35.604Z"
   },
   {
    "duration": 32,
    "start_time": "2022-12-24T11:43:36.061Z"
   },
   {
    "duration": 700,
    "start_time": "2022-12-24T11:43:36.096Z"
   },
   {
    "duration": 302,
    "start_time": "2022-12-24T11:43:36.798Z"
   },
   {
    "duration": 256,
    "start_time": "2022-12-24T11:43:37.102Z"
   },
   {
    "duration": 331,
    "start_time": "2022-12-24T11:43:37.360Z"
   },
   {
    "duration": 455,
    "start_time": "2022-12-24T11:43:37.693Z"
   },
   {
    "duration": 3086,
    "start_time": "2022-12-24T11:43:38.149Z"
   },
   {
    "duration": 23,
    "start_time": "2022-12-24T11:43:41.237Z"
   },
   {
    "duration": 377,
    "start_time": "2022-12-24T11:43:41.264Z"
   },
   {
    "duration": 362,
    "start_time": "2022-12-24T11:43:41.643Z"
   },
   {
    "duration": 16,
    "start_time": "2022-12-24T11:43:42.007Z"
   },
   {
    "duration": 1002,
    "start_time": "2022-12-24T11:43:42.025Z"
   },
   {
    "duration": 14,
    "start_time": "2022-12-24T11:43:52.304Z"
   },
   {
    "duration": 758,
    "start_time": "2022-12-24T11:43:52.771Z"
   },
   {
    "duration": 14,
    "start_time": "2022-12-24T11:44:31.061Z"
   },
   {
    "duration": 12,
    "start_time": "2022-12-24T11:44:31.497Z"
   },
   {
    "duration": 16,
    "start_time": "2022-12-24T11:44:46.395Z"
   },
   {
    "duration": 312,
    "start_time": "2022-12-24T11:44:47.192Z"
   },
   {
    "duration": 382,
    "start_time": "2022-12-24T11:44:58.173Z"
   },
   {
    "duration": 10,
    "start_time": "2022-12-24T11:47:34.230Z"
   },
   {
    "duration": 67,
    "start_time": "2022-12-24T11:47:43.378Z"
   },
   {
    "duration": 15,
    "start_time": "2022-12-24T11:47:51.248Z"
   },
   {
    "duration": 354,
    "start_time": "2022-12-24T11:47:59.966Z"
   },
   {
    "duration": 340,
    "start_time": "2022-12-24T11:48:06.047Z"
   },
   {
    "duration": 12,
    "start_time": "2022-12-24T11:50:59.620Z"
   },
   {
    "duration": 43,
    "start_time": "2022-12-24T11:51:13.400Z"
   },
   {
    "duration": 12,
    "start_time": "2022-12-24T11:51:16.939Z"
   },
   {
    "duration": 479,
    "start_time": "2022-12-24T11:51:23.623Z"
   },
   {
    "duration": 357,
    "start_time": "2022-12-24T11:51:30.795Z"
   },
   {
    "duration": 320,
    "start_time": "2022-12-24T11:51:56.039Z"
   },
   {
    "duration": 9,
    "start_time": "2022-12-24T12:21:37.327Z"
   },
   {
    "duration": 11,
    "start_time": "2022-12-24T12:21:45.470Z"
   },
   {
    "duration": 6,
    "start_time": "2022-12-24T12:22:10.538Z"
   },
   {
    "duration": 11,
    "start_time": "2022-12-24T12:22:31.459Z"
   },
   {
    "duration": 1263,
    "start_time": "2022-12-24T12:22:59.312Z"
   },
   {
    "duration": 98,
    "start_time": "2022-12-24T12:23:00.584Z"
   },
   {
    "duration": 23,
    "start_time": "2022-12-24T12:23:00.684Z"
   },
   {
    "duration": 18,
    "start_time": "2022-12-24T12:23:00.712Z"
   },
   {
    "duration": 18,
    "start_time": "2022-12-24T12:23:00.733Z"
   },
   {
    "duration": 44,
    "start_time": "2022-12-24T12:23:00.753Z"
   },
   {
    "duration": 45,
    "start_time": "2022-12-24T12:23:00.799Z"
   },
   {
    "duration": 24,
    "start_time": "2022-12-24T12:23:00.846Z"
   },
   {
    "duration": 73,
    "start_time": "2022-12-24T12:23:00.872Z"
   },
   {
    "duration": 5,
    "start_time": "2022-12-24T12:23:00.947Z"
   },
   {
    "duration": 19,
    "start_time": "2022-12-24T12:23:00.954Z"
   },
   {
    "duration": 64,
    "start_time": "2022-12-24T12:23:00.974Z"
   },
   {
    "duration": 22,
    "start_time": "2022-12-24T12:23:01.040Z"
   },
   {
    "duration": 15,
    "start_time": "2022-12-24T12:23:01.065Z"
   },
   {
    "duration": 58,
    "start_time": "2022-12-24T12:23:01.082Z"
   },
   {
    "duration": 26,
    "start_time": "2022-12-24T12:23:01.141Z"
   },
   {
    "duration": 63,
    "start_time": "2022-12-24T12:23:01.169Z"
   },
   {
    "duration": 10,
    "start_time": "2022-12-24T12:23:01.234Z"
   },
   {
    "duration": 480,
    "start_time": "2022-12-24T12:23:01.246Z"
   },
   {
    "duration": 19,
    "start_time": "2022-12-24T12:23:01.728Z"
   },
   {
    "duration": 773,
    "start_time": "2022-12-24T12:23:01.749Z"
   },
   {
    "duration": 344,
    "start_time": "2022-12-24T12:23:02.524Z"
   },
   {
    "duration": 298,
    "start_time": "2022-12-24T12:23:02.871Z"
   },
   {
    "duration": 366,
    "start_time": "2022-12-24T12:23:03.170Z"
   },
   {
    "duration": 525,
    "start_time": "2022-12-24T12:23:03.538Z"
   },
   {
    "duration": 3152,
    "start_time": "2022-12-24T12:23:04.064Z"
   },
   {
    "duration": 23,
    "start_time": "2022-12-24T12:23:07.220Z"
   },
   {
    "duration": 378,
    "start_time": "2022-12-24T12:23:07.244Z"
   },
   {
    "duration": 367,
    "start_time": "2022-12-24T12:23:07.624Z"
   },
   {
    "duration": 23,
    "start_time": "2022-12-24T12:23:07.992Z"
   },
   {
    "duration": 408,
    "start_time": "2022-12-24T12:23:08.019Z"
   },
   {
    "duration": 19,
    "start_time": "2022-12-24T12:23:08.429Z"
   },
   {
    "duration": 400,
    "start_time": "2022-12-24T12:23:08.451Z"
   },
   {
    "duration": 10,
    "start_time": "2022-12-24T12:23:08.853Z"
   },
   {
    "duration": 364,
    "start_time": "2022-12-24T12:23:08.865Z"
   },
   {
    "duration": 9,
    "start_time": "2022-12-24T12:23:09.231Z"
   },
   {
    "duration": 11,
    "start_time": "2022-12-24T12:23:09.242Z"
   },
   {
    "duration": 9,
    "start_time": "2022-12-24T12:23:09.255Z"
   },
   {
    "duration": 134,
    "start_time": "2022-12-24T12:24:40.704Z"
   },
   {
    "duration": 10,
    "start_time": "2022-12-24T12:24:50.139Z"
   },
   {
    "duration": 5,
    "start_time": "2022-12-24T12:25:10.936Z"
   },
   {
    "duration": 6,
    "start_time": "2022-12-24T12:25:29.114Z"
   },
   {
    "duration": 1114,
    "start_time": "2022-12-24T12:32:32.471Z"
   },
   {
    "duration": 73,
    "start_time": "2022-12-24T12:32:33.588Z"
   },
   {
    "duration": 15,
    "start_time": "2022-12-24T12:32:33.663Z"
   },
   {
    "duration": 21,
    "start_time": "2022-12-24T12:32:33.680Z"
   },
   {
    "duration": 41,
    "start_time": "2022-12-24T12:32:33.703Z"
   },
   {
    "duration": 22,
    "start_time": "2022-12-24T12:32:33.746Z"
   },
   {
    "duration": 25,
    "start_time": "2022-12-24T12:32:33.769Z"
   },
   {
    "duration": 9,
    "start_time": "2022-12-24T12:32:33.796Z"
   },
   {
    "duration": 72,
    "start_time": "2022-12-24T12:32:33.806Z"
   },
   {
    "duration": 5,
    "start_time": "2022-12-24T12:32:33.880Z"
   },
   {
    "duration": 14,
    "start_time": "2022-12-24T12:32:33.886Z"
   },
   {
    "duration": 25,
    "start_time": "2022-12-24T12:32:33.902Z"
   },
   {
    "duration": 28,
    "start_time": "2022-12-24T12:32:33.929Z"
   },
   {
    "duration": 51,
    "start_time": "2022-12-24T12:32:33.959Z"
   },
   {
    "duration": 27,
    "start_time": "2022-12-24T12:32:34.014Z"
   },
   {
    "duration": 43,
    "start_time": "2022-12-24T12:32:34.042Z"
   },
   {
    "duration": 68,
    "start_time": "2022-12-24T12:32:34.087Z"
   },
   {
    "duration": 66,
    "start_time": "2022-12-24T12:32:34.156Z"
   },
   {
    "duration": 464,
    "start_time": "2022-12-24T12:32:34.223Z"
   },
   {
    "duration": 39,
    "start_time": "2022-12-24T12:32:34.689Z"
   },
   {
    "duration": 724,
    "start_time": "2022-12-24T12:32:34.730Z"
   },
   {
    "duration": 315,
    "start_time": "2022-12-24T12:32:35.456Z"
   },
   {
    "duration": 274,
    "start_time": "2022-12-24T12:32:35.773Z"
   },
   {
    "duration": 329,
    "start_time": "2022-12-24T12:32:36.049Z"
   },
   {
    "duration": 521,
    "start_time": "2022-12-24T12:32:36.381Z"
   },
   {
    "duration": 2894,
    "start_time": "2022-12-24T12:32:36.904Z"
   },
   {
    "duration": 39,
    "start_time": "2022-12-24T12:32:39.800Z"
   },
   {
    "duration": 349,
    "start_time": "2022-12-24T12:32:39.844Z"
   },
   {
    "duration": 350,
    "start_time": "2022-12-24T12:32:40.195Z"
   },
   {
    "duration": 15,
    "start_time": "2022-12-24T12:32:40.547Z"
   },
   {
    "duration": 330,
    "start_time": "2022-12-24T12:32:40.563Z"
   },
   {
    "duration": 28,
    "start_time": "2022-12-24T12:32:40.895Z"
   },
   {
    "duration": 336,
    "start_time": "2022-12-24T12:32:40.931Z"
   },
   {
    "duration": 11,
    "start_time": "2022-12-24T12:32:41.269Z"
   },
   {
    "duration": 351,
    "start_time": "2022-12-24T12:32:41.282Z"
   },
   {
    "duration": 9,
    "start_time": "2022-12-24T12:32:41.635Z"
   },
   {
    "duration": 24,
    "start_time": "2022-12-24T12:32:41.645Z"
   },
   {
    "duration": 17,
    "start_time": "2022-12-24T12:32:41.672Z"
   },
   {
    "duration": 59,
    "start_time": "2022-12-24T12:32:41.691Z"
   },
   {
    "duration": 20,
    "start_time": "2022-12-24T12:32:41.752Z"
   },
   {
    "duration": 29,
    "start_time": "2022-12-24T12:32:41.774Z"
   },
   {
    "duration": 49,
    "start_time": "2022-12-28T17:19:35.399Z"
   },
   {
    "duration": 1329,
    "start_time": "2022-12-28T17:19:40.821Z"
   },
   {
    "duration": 112,
    "start_time": "2022-12-28T17:19:42.152Z"
   },
   {
    "duration": 15,
    "start_time": "2022-12-28T17:19:42.265Z"
   },
   {
    "duration": 3,
    "start_time": "2022-12-28T17:19:42.282Z"
   },
   {
    "duration": 12,
    "start_time": "2022-12-28T17:19:42.287Z"
   },
   {
    "duration": 17,
    "start_time": "2022-12-28T17:19:42.300Z"
   },
   {
    "duration": 22,
    "start_time": "2022-12-28T17:19:42.318Z"
   },
   {
    "duration": 35,
    "start_time": "2022-12-28T17:19:42.342Z"
   },
   {
    "duration": 23,
    "start_time": "2022-12-28T17:19:42.379Z"
   },
   {
    "duration": 25,
    "start_time": "2022-12-28T17:19:42.405Z"
   },
   {
    "duration": 12,
    "start_time": "2022-12-28T17:19:42.431Z"
   },
   {
    "duration": 13,
    "start_time": "2022-12-28T17:19:42.445Z"
   },
   {
    "duration": 10,
    "start_time": "2022-12-28T17:19:42.459Z"
   },
   {
    "duration": 28,
    "start_time": "2022-12-28T17:19:42.471Z"
   },
   {
    "duration": 14,
    "start_time": "2022-12-28T17:19:42.501Z"
   },
   {
    "duration": 20,
    "start_time": "2022-12-28T17:19:42.516Z"
   },
   {
    "duration": 503,
    "start_time": "2022-12-28T17:19:42.537Z"
   },
   {
    "duration": 0,
    "start_time": "2022-12-28T17:19:43.042Z"
   },
   {
    "duration": 0,
    "start_time": "2022-12-28T17:19:43.043Z"
   },
   {
    "duration": 0,
    "start_time": "2022-12-28T17:19:43.044Z"
   },
   {
    "duration": 0,
    "start_time": "2022-12-28T17:19:43.045Z"
   },
   {
    "duration": 0,
    "start_time": "2022-12-28T17:19:43.046Z"
   },
   {
    "duration": 0,
    "start_time": "2022-12-28T17:19:43.047Z"
   },
   {
    "duration": 0,
    "start_time": "2022-12-28T17:19:43.048Z"
   },
   {
    "duration": 0,
    "start_time": "2022-12-28T17:19:43.049Z"
   },
   {
    "duration": 0,
    "start_time": "2022-12-28T17:19:43.050Z"
   },
   {
    "duration": 0,
    "start_time": "2022-12-28T17:19:43.051Z"
   },
   {
    "duration": 0,
    "start_time": "2022-12-28T17:19:43.053Z"
   },
   {
    "duration": 0,
    "start_time": "2022-12-28T17:19:43.054Z"
   },
   {
    "duration": 0,
    "start_time": "2022-12-28T17:19:43.055Z"
   },
   {
    "duration": 0,
    "start_time": "2022-12-28T17:19:43.056Z"
   },
   {
    "duration": 0,
    "start_time": "2022-12-28T17:19:43.057Z"
   },
   {
    "duration": 0,
    "start_time": "2022-12-28T17:19:43.058Z"
   },
   {
    "duration": 0,
    "start_time": "2022-12-28T17:19:43.059Z"
   },
   {
    "duration": 0,
    "start_time": "2022-12-28T17:19:43.059Z"
   },
   {
    "duration": 0,
    "start_time": "2022-12-28T17:19:43.061Z"
   },
   {
    "duration": 0,
    "start_time": "2022-12-28T17:19:43.062Z"
   },
   {
    "duration": 0,
    "start_time": "2022-12-28T17:19:43.063Z"
   },
   {
    "duration": 0,
    "start_time": "2022-12-28T17:19:43.064Z"
   },
   {
    "duration": 0,
    "start_time": "2022-12-28T17:19:43.065Z"
   },
   {
    "duration": 0,
    "start_time": "2022-12-28T17:19:43.066Z"
   },
   {
    "duration": 15,
    "start_time": "2022-12-28T17:20:55.044Z"
   },
   {
    "duration": 758,
    "start_time": "2022-12-28T17:21:02.979Z"
   },
   {
    "duration": 14,
    "start_time": "2022-12-28T17:21:58.611Z"
   },
   {
    "duration": 10,
    "start_time": "2022-12-28T17:30:24.247Z"
   },
   {
    "duration": 11,
    "start_time": "2022-12-28T17:34:43.720Z"
   },
   {
    "duration": 9,
    "start_time": "2022-12-28T17:34:51.629Z"
   },
   {
    "duration": 11,
    "start_time": "2022-12-28T17:36:11.988Z"
   },
   {
    "duration": 9,
    "start_time": "2022-12-28T17:36:19.144Z"
   },
   {
    "duration": 815,
    "start_time": "2022-12-28T17:36:33.641Z"
   },
   {
    "duration": 20,
    "start_time": "2022-12-28T17:36:42.799Z"
   },
   {
    "duration": 4,
    "start_time": "2022-12-28T17:37:36.731Z"
   },
   {
    "duration": 18,
    "start_time": "2022-12-28T17:37:46.030Z"
   },
   {
    "duration": 20,
    "start_time": "2022-12-28T17:38:09.397Z"
   },
   {
    "duration": 19,
    "start_time": "2022-12-28T17:38:16.052Z"
   },
   {
    "duration": 38,
    "start_time": "2022-12-28T17:38:57.828Z"
   },
   {
    "duration": 19,
    "start_time": "2022-12-28T17:39:03.500Z"
   },
   {
    "duration": 20,
    "start_time": "2022-12-28T17:40:28.731Z"
   },
   {
    "duration": 20,
    "start_time": "2022-12-28T17:50:43.086Z"
   },
   {
    "duration": 6,
    "start_time": "2022-12-28T17:50:43.987Z"
   },
   {
    "duration": 18,
    "start_time": "2022-12-28T17:50:45.830Z"
   },
   {
    "duration": 1097,
    "start_time": "2022-12-28T17:58:42.831Z"
   },
   {
    "duration": 72,
    "start_time": "2022-12-28T17:58:43.930Z"
   },
   {
    "duration": 14,
    "start_time": "2022-12-28T17:58:44.004Z"
   },
   {
    "duration": 11,
    "start_time": "2022-12-28T17:58:44.020Z"
   },
   {
    "duration": 15,
    "start_time": "2022-12-28T17:58:44.034Z"
   },
   {
    "duration": 31,
    "start_time": "2022-12-28T17:58:44.050Z"
   },
   {
    "duration": 22,
    "start_time": "2022-12-28T17:58:44.082Z"
   },
   {
    "duration": 10,
    "start_time": "2022-12-28T17:58:44.106Z"
   },
   {
    "duration": 22,
    "start_time": "2022-12-28T17:58:44.118Z"
   },
   {
    "duration": 4,
    "start_time": "2022-12-28T17:58:44.142Z"
   },
   {
    "duration": 30,
    "start_time": "2022-12-28T17:58:44.148Z"
   },
   {
    "duration": 6,
    "start_time": "2022-12-28T17:58:44.180Z"
   },
   {
    "duration": 9,
    "start_time": "2022-12-28T17:58:44.188Z"
   },
   {
    "duration": 4,
    "start_time": "2022-12-28T17:58:44.200Z"
   },
   {
    "duration": 10,
    "start_time": "2022-12-28T17:58:44.205Z"
   },
   {
    "duration": 19,
    "start_time": "2022-12-28T17:58:44.217Z"
   },
   {
    "duration": 5,
    "start_time": "2022-12-28T17:58:44.238Z"
   },
   {
    "duration": 44,
    "start_time": "2022-12-28T17:58:44.244Z"
   },
   {
    "duration": 7,
    "start_time": "2022-12-28T17:58:44.290Z"
   },
   {
    "duration": 410,
    "start_time": "2022-12-28T17:58:44.299Z"
   },
   {
    "duration": 18,
    "start_time": "2022-12-28T17:58:44.710Z"
   },
   {
    "duration": 701,
    "start_time": "2022-12-28T17:58:44.729Z"
   },
   {
    "duration": 284,
    "start_time": "2022-12-28T17:58:45.432Z"
   },
   {
    "duration": 272,
    "start_time": "2022-12-28T17:58:45.718Z"
   },
   {
    "duration": 303,
    "start_time": "2022-12-28T17:58:45.991Z"
   },
   {
    "duration": 424,
    "start_time": "2022-12-28T17:58:46.296Z"
   },
   {
    "duration": 3294,
    "start_time": "2022-12-28T17:58:46.721Z"
   },
   {
    "duration": 73,
    "start_time": "2022-12-28T17:58:50.017Z"
   },
   {
    "duration": 624,
    "start_time": "2022-12-28T17:58:50.092Z"
   },
   {
    "duration": 385,
    "start_time": "2022-12-28T17:58:50.718Z"
   },
   {
    "duration": 15,
    "start_time": "2022-12-28T17:58:51.105Z"
   },
   {
    "duration": 316,
    "start_time": "2022-12-28T17:58:51.122Z"
   },
   {
    "duration": 15,
    "start_time": "2022-12-28T17:58:51.440Z"
   },
   {
    "duration": 332,
    "start_time": "2022-12-28T17:58:51.456Z"
   },
   {
    "duration": 11,
    "start_time": "2022-12-28T17:58:51.790Z"
   },
   {
    "duration": 322,
    "start_time": "2022-12-28T17:58:51.802Z"
   },
   {
    "duration": 8,
    "start_time": "2022-12-28T17:58:52.126Z"
   },
   {
    "duration": 29,
    "start_time": "2022-12-28T17:58:52.136Z"
   },
   {
    "duration": 32,
    "start_time": "2022-12-28T17:58:52.166Z"
   },
   {
    "duration": 32,
    "start_time": "2022-12-28T17:58:52.199Z"
   },
   {
    "duration": 28,
    "start_time": "2022-12-28T17:58:52.234Z"
   },
   {
    "duration": 28,
    "start_time": "2022-12-28T17:58:52.264Z"
   },
   {
    "duration": 243,
    "start_time": "2022-12-28T19:34:49.286Z"
   },
   {
    "duration": 65,
    "start_time": "2022-12-28T19:35:18.280Z"
   },
   {
    "duration": 1164,
    "start_time": "2022-12-28T19:35:22.156Z"
   },
   {
    "duration": 69,
    "start_time": "2022-12-28T19:35:23.322Z"
   },
   {
    "duration": 15,
    "start_time": "2022-12-28T19:35:23.392Z"
   },
   {
    "duration": 3,
    "start_time": "2022-12-28T19:35:23.409Z"
   },
   {
    "duration": 20,
    "start_time": "2022-12-28T19:35:23.413Z"
   },
   {
    "duration": 17,
    "start_time": "2022-12-28T19:35:23.435Z"
   },
   {
    "duration": 46,
    "start_time": "2022-12-28T19:35:23.454Z"
   },
   {
    "duration": 10,
    "start_time": "2022-12-28T19:35:23.503Z"
   },
   {
    "duration": 23,
    "start_time": "2022-12-28T19:35:23.516Z"
   },
   {
    "duration": 5,
    "start_time": "2022-12-28T19:35:23.541Z"
   },
   {
    "duration": 7,
    "start_time": "2022-12-28T19:35:23.578Z"
   },
   {
    "duration": 8,
    "start_time": "2022-12-28T19:35:23.587Z"
   },
   {
    "duration": 8,
    "start_time": "2022-12-28T19:35:23.597Z"
   },
   {
    "duration": 4,
    "start_time": "2022-12-28T19:35:23.606Z"
   },
   {
    "duration": 11,
    "start_time": "2022-12-28T19:35:23.611Z"
   },
   {
    "duration": 20,
    "start_time": "2022-12-28T19:35:23.623Z"
   },
   {
    "duration": 36,
    "start_time": "2022-12-28T19:35:23.644Z"
   },
   {
    "duration": 28,
    "start_time": "2022-12-28T19:35:23.682Z"
   },
   {
    "duration": 8,
    "start_time": "2022-12-28T19:35:23.712Z"
   },
   {
    "duration": 446,
    "start_time": "2022-12-28T19:35:23.722Z"
   },
   {
    "duration": 25,
    "start_time": "2022-12-28T19:35:24.170Z"
   },
   {
    "duration": 1103,
    "start_time": "2022-12-28T19:35:24.197Z"
   },
   {
    "duration": 610,
    "start_time": "2022-12-28T19:35:25.302Z"
   },
   {
    "duration": 449,
    "start_time": "2022-12-28T19:35:25.914Z"
   },
   {
    "duration": 301,
    "start_time": "2022-12-28T19:35:26.365Z"
   },
   {
    "duration": 467,
    "start_time": "2022-12-28T19:35:26.668Z"
   },
   {
    "duration": 2842,
    "start_time": "2022-12-28T19:35:27.137Z"
   },
   {
    "duration": 22,
    "start_time": "2022-12-28T19:35:29.983Z"
   },
   {
    "duration": 349,
    "start_time": "2022-12-28T19:35:30.006Z"
   },
   {
    "duration": 345,
    "start_time": "2022-12-28T19:35:30.357Z"
   },
   {
    "duration": 15,
    "start_time": "2022-12-28T19:35:30.704Z"
   },
   {
    "duration": 364,
    "start_time": "2022-12-28T19:35:30.721Z"
   },
   {
    "duration": 15,
    "start_time": "2022-12-28T19:35:31.087Z"
   },
   {
    "duration": 361,
    "start_time": "2022-12-28T19:35:31.104Z"
   },
   {
    "duration": 18,
    "start_time": "2022-12-28T19:35:31.467Z"
   },
   {
    "duration": 321,
    "start_time": "2022-12-28T19:35:31.487Z"
   },
   {
    "duration": 9,
    "start_time": "2022-12-28T19:35:31.809Z"
   },
   {
    "duration": 8,
    "start_time": "2022-12-28T19:35:31.820Z"
   },
   {
    "duration": 13,
    "start_time": "2022-12-28T19:35:31.829Z"
   },
   {
    "duration": 21,
    "start_time": "2022-12-28T19:35:31.844Z"
   },
   {
    "duration": 15,
    "start_time": "2022-12-28T19:35:31.866Z"
   },
   {
    "duration": 7,
    "start_time": "2022-12-28T19:35:31.883Z"
   },
   {
    "duration": 245,
    "start_time": "2022-12-28T19:35:58.972Z"
   },
   {
    "duration": 257,
    "start_time": "2022-12-28T19:36:01.395Z"
   },
   {
    "duration": 398,
    "start_time": "2022-12-28T19:36:04.794Z"
   },
   {
    "duration": 1117,
    "start_time": "2022-12-28T19:36:22.005Z"
   },
   {
    "duration": 70,
    "start_time": "2022-12-28T19:36:23.124Z"
   },
   {
    "duration": 15,
    "start_time": "2022-12-28T19:36:23.196Z"
   },
   {
    "duration": 3,
    "start_time": "2022-12-28T19:36:23.213Z"
   },
   {
    "duration": 19,
    "start_time": "2022-12-28T19:36:23.217Z"
   },
   {
    "duration": 16,
    "start_time": "2022-12-28T19:36:23.238Z"
   },
   {
    "duration": 35,
    "start_time": "2022-12-28T19:36:23.256Z"
   },
   {
    "duration": 13,
    "start_time": "2022-12-28T19:36:23.293Z"
   },
   {
    "duration": 31,
    "start_time": "2022-12-28T19:36:23.308Z"
   },
   {
    "duration": 5,
    "start_time": "2022-12-28T19:36:23.343Z"
   },
   {
    "duration": 14,
    "start_time": "2022-12-28T19:36:23.349Z"
   },
   {
    "duration": 17,
    "start_time": "2022-12-28T19:36:23.365Z"
   },
   {
    "duration": 10,
    "start_time": "2022-12-28T19:36:23.384Z"
   },
   {
    "duration": 25,
    "start_time": "2022-12-28T19:36:23.395Z"
   },
   {
    "duration": 18,
    "start_time": "2022-12-28T19:36:23.422Z"
   },
   {
    "duration": 20,
    "start_time": "2022-12-28T19:36:23.442Z"
   },
   {
    "duration": 5,
    "start_time": "2022-12-28T19:36:23.464Z"
   },
   {
    "duration": 23,
    "start_time": "2022-12-28T19:36:23.470Z"
   },
   {
    "duration": 7,
    "start_time": "2022-12-28T19:36:23.494Z"
   },
   {
    "duration": 607,
    "start_time": "2022-12-28T19:36:23.503Z"
   },
   {
    "duration": 74,
    "start_time": "2022-12-28T19:36:24.112Z"
   },
   {
    "duration": 1230,
    "start_time": "2022-12-28T19:36:24.187Z"
   },
   {
    "duration": 402,
    "start_time": "2022-12-28T19:36:25.418Z"
   },
   {
    "duration": 303,
    "start_time": "2022-12-28T19:36:25.822Z"
   },
   {
    "duration": 305,
    "start_time": "2022-12-28T19:36:26.127Z"
   },
   {
    "duration": 476,
    "start_time": "2022-12-28T19:36:26.434Z"
   },
   {
    "duration": 2750,
    "start_time": "2022-12-28T19:36:26.913Z"
   },
   {
    "duration": 29,
    "start_time": "2022-12-28T19:36:29.667Z"
   },
   {
    "duration": 328,
    "start_time": "2022-12-28T19:36:29.698Z"
   },
   {
    "duration": 322,
    "start_time": "2022-12-28T19:36:30.028Z"
   },
   {
    "duration": 25,
    "start_time": "2022-12-28T19:36:30.352Z"
   },
   {
    "duration": 341,
    "start_time": "2022-12-28T19:36:30.379Z"
   },
   {
    "duration": 16,
    "start_time": "2022-12-28T19:36:30.722Z"
   },
   {
    "duration": 358,
    "start_time": "2022-12-28T19:36:30.740Z"
   },
   {
    "duration": 12,
    "start_time": "2022-12-28T19:36:31.100Z"
   },
   {
    "duration": 337,
    "start_time": "2022-12-28T19:36:31.114Z"
   },
   {
    "duration": 10,
    "start_time": "2022-12-28T19:36:31.452Z"
   },
   {
    "duration": 16,
    "start_time": "2022-12-28T19:36:31.464Z"
   },
   {
    "duration": 8,
    "start_time": "2022-12-28T19:36:31.481Z"
   },
   {
    "duration": 14,
    "start_time": "2022-12-28T19:36:31.491Z"
   },
   {
    "duration": 14,
    "start_time": "2022-12-28T19:36:31.507Z"
   },
   {
    "duration": 9,
    "start_time": "2022-12-28T19:36:31.523Z"
   },
   {
    "duration": 279,
    "start_time": "2022-12-28T19:36:37.491Z"
   },
   {
    "duration": 1182,
    "start_time": "2022-12-28T19:36:43.957Z"
   },
   {
    "duration": 83,
    "start_time": "2022-12-28T19:36:45.141Z"
   },
   {
    "duration": 20,
    "start_time": "2022-12-28T19:36:45.226Z"
   },
   {
    "duration": 5,
    "start_time": "2022-12-28T19:36:45.248Z"
   },
   {
    "duration": 23,
    "start_time": "2022-12-28T19:36:45.255Z"
   },
   {
    "duration": 18,
    "start_time": "2022-12-28T19:36:45.280Z"
   },
   {
    "duration": 22,
    "start_time": "2022-12-28T19:36:45.300Z"
   },
   {
    "duration": 16,
    "start_time": "2022-12-28T19:36:45.323Z"
   },
   {
    "duration": 55,
    "start_time": "2022-12-28T19:36:45.341Z"
   },
   {
    "duration": 15,
    "start_time": "2022-12-28T19:36:45.398Z"
   },
   {
    "duration": 9,
    "start_time": "2022-12-28T19:36:45.415Z"
   },
   {
    "duration": 52,
    "start_time": "2022-12-28T19:36:45.426Z"
   },
   {
    "duration": 7,
    "start_time": "2022-12-28T19:36:45.480Z"
   },
   {
    "duration": 7,
    "start_time": "2022-12-28T19:36:45.488Z"
   },
   {
    "duration": 9,
    "start_time": "2022-12-28T19:36:45.496Z"
   },
   {
    "duration": 73,
    "start_time": "2022-12-28T19:36:45.506Z"
   },
   {
    "duration": 5,
    "start_time": "2022-12-28T19:36:45.581Z"
   },
   {
    "duration": 16,
    "start_time": "2022-12-28T19:36:45.588Z"
   },
   {
    "duration": 6,
    "start_time": "2022-12-28T19:36:45.606Z"
   },
   {
    "duration": 870,
    "start_time": "2022-12-28T19:36:45.614Z"
   },
   {
    "duration": 18,
    "start_time": "2022-12-28T19:36:46.486Z"
   },
   {
    "duration": 1037,
    "start_time": "2022-12-28T19:36:46.505Z"
   },
   {
    "duration": 305,
    "start_time": "2022-12-28T19:36:47.544Z"
   },
   {
    "duration": 278,
    "start_time": "2022-12-28T19:36:47.850Z"
   },
   {
    "duration": 368,
    "start_time": "2022-12-28T19:36:48.129Z"
   },
   {
    "duration": 432,
    "start_time": "2022-12-28T19:36:48.499Z"
   },
   {
    "duration": 2752,
    "start_time": "2022-12-28T19:36:48.932Z"
   },
   {
    "duration": 22,
    "start_time": "2022-12-28T19:36:51.689Z"
   },
   {
    "duration": 334,
    "start_time": "2022-12-28T19:36:51.713Z"
   },
   {
    "duration": 326,
    "start_time": "2022-12-28T19:36:52.048Z"
   },
   {
    "duration": 14,
    "start_time": "2022-12-28T19:36:52.377Z"
   },
   {
    "duration": 328,
    "start_time": "2022-12-28T19:36:52.393Z"
   },
   {
    "duration": 15,
    "start_time": "2022-12-28T19:36:52.723Z"
   },
   {
    "duration": 369,
    "start_time": "2022-12-28T19:36:52.740Z"
   },
   {
    "duration": 12,
    "start_time": "2022-12-28T19:36:53.111Z"
   },
   {
    "duration": 338,
    "start_time": "2022-12-28T19:36:53.124Z"
   },
   {
    "duration": 16,
    "start_time": "2022-12-28T19:36:53.464Z"
   },
   {
    "duration": 28,
    "start_time": "2022-12-28T19:36:53.481Z"
   },
   {
    "duration": 6,
    "start_time": "2022-12-28T19:36:53.511Z"
   },
   {
    "duration": 16,
    "start_time": "2022-12-28T19:36:53.518Z"
   },
   {
    "duration": 10,
    "start_time": "2022-12-28T19:36:53.535Z"
   },
   {
    "duration": 7,
    "start_time": "2022-12-28T19:36:53.547Z"
   },
   {
    "duration": 262,
    "start_time": "2022-12-28T19:37:30.296Z"
   },
   {
    "duration": 1143,
    "start_time": "2022-12-28T19:37:44.600Z"
   },
   {
    "duration": 68,
    "start_time": "2022-12-28T19:37:45.745Z"
   },
   {
    "duration": 14,
    "start_time": "2022-12-28T19:37:45.814Z"
   },
   {
    "duration": 4,
    "start_time": "2022-12-28T19:37:45.831Z"
   },
   {
    "duration": 22,
    "start_time": "2022-12-28T19:37:45.836Z"
   },
   {
    "duration": 32,
    "start_time": "2022-12-28T19:37:45.860Z"
   },
   {
    "duration": 38,
    "start_time": "2022-12-28T19:37:45.894Z"
   },
   {
    "duration": 26,
    "start_time": "2022-12-28T19:37:45.933Z"
   },
   {
    "duration": 45,
    "start_time": "2022-12-28T19:37:45.961Z"
   },
   {
    "duration": 4,
    "start_time": "2022-12-28T19:37:46.009Z"
   },
   {
    "duration": 27,
    "start_time": "2022-12-28T19:37:46.014Z"
   },
   {
    "duration": 33,
    "start_time": "2022-12-28T19:37:46.043Z"
   },
   {
    "duration": 24,
    "start_time": "2022-12-28T19:37:46.078Z"
   },
   {
    "duration": 14,
    "start_time": "2022-12-28T19:37:46.104Z"
   },
   {
    "duration": 12,
    "start_time": "2022-12-28T19:37:46.119Z"
   },
   {
    "duration": 26,
    "start_time": "2022-12-28T19:37:46.132Z"
   },
   {
    "duration": 5,
    "start_time": "2022-12-28T19:37:46.160Z"
   },
   {
    "duration": 15,
    "start_time": "2022-12-28T19:37:46.166Z"
   },
   {
    "duration": 6,
    "start_time": "2022-12-28T19:37:46.183Z"
   },
   {
    "duration": 428,
    "start_time": "2022-12-28T19:37:46.191Z"
   },
   {
    "duration": 69,
    "start_time": "2022-12-28T19:37:46.621Z"
   },
   {
    "duration": 1231,
    "start_time": "2022-12-28T19:37:46.691Z"
   },
   {
    "duration": 632,
    "start_time": "2022-12-28T19:37:47.924Z"
   },
   {
    "duration": 273,
    "start_time": "2022-12-28T19:37:48.558Z"
   },
   {
    "duration": 314,
    "start_time": "2022-12-28T19:37:48.832Z"
   },
   {
    "duration": 477,
    "start_time": "2022-12-28T19:37:49.148Z"
   },
   {
    "duration": 2658,
    "start_time": "2022-12-28T19:37:49.627Z"
   },
   {
    "duration": 23,
    "start_time": "2022-12-28T19:37:52.289Z"
   },
   {
    "duration": 354,
    "start_time": "2022-12-28T19:37:52.314Z"
   },
   {
    "duration": 327,
    "start_time": "2022-12-28T19:37:52.670Z"
   },
   {
    "duration": 15,
    "start_time": "2022-12-28T19:37:52.999Z"
   },
   {
    "duration": 311,
    "start_time": "2022-12-28T19:37:53.016Z"
   },
   {
    "duration": 16,
    "start_time": "2022-12-28T19:37:53.329Z"
   },
   {
    "duration": 333,
    "start_time": "2022-12-28T19:37:53.346Z"
   },
   {
    "duration": 11,
    "start_time": "2022-12-28T19:37:53.681Z"
   },
   {
    "duration": 311,
    "start_time": "2022-12-28T19:37:53.694Z"
   },
   {
    "duration": 9,
    "start_time": "2022-12-28T19:37:54.008Z"
   },
   {
    "duration": 6,
    "start_time": "2022-12-28T19:37:54.019Z"
   },
   {
    "duration": 9,
    "start_time": "2022-12-28T19:37:54.027Z"
   },
   {
    "duration": 12,
    "start_time": "2022-12-28T19:37:54.037Z"
   },
   {
    "duration": 27,
    "start_time": "2022-12-28T19:37:54.050Z"
   },
   {
    "duration": 5,
    "start_time": "2022-12-28T19:37:54.079Z"
   },
   {
    "duration": 288,
    "start_time": "2022-12-28T19:43:51.091Z"
   },
   {
    "duration": 295,
    "start_time": "2022-12-28T19:43:58.387Z"
   },
   {
    "duration": 22,
    "start_time": "2022-12-28T19:58:04.978Z"
   },
   {
    "duration": 14,
    "start_time": "2022-12-28T19:58:17.242Z"
   },
   {
    "duration": 49,
    "start_time": "2023-01-31T19:32:17.497Z"
   },
   {
    "duration": 1371,
    "start_time": "2023-01-31T19:32:26.608Z"
   },
   {
    "duration": 211,
    "start_time": "2023-01-31T19:32:27.981Z"
   },
   {
    "duration": 17,
    "start_time": "2023-01-31T19:32:28.194Z"
   },
   {
    "duration": 4,
    "start_time": "2023-01-31T19:32:28.213Z"
   },
   {
    "duration": 19,
    "start_time": "2023-01-31T19:32:28.218Z"
   },
   {
    "duration": 36,
    "start_time": "2023-01-31T19:32:28.245Z"
   },
   {
    "duration": 28,
    "start_time": "2023-01-31T19:32:28.283Z"
   },
   {
    "duration": 11,
    "start_time": "2023-01-31T19:32:28.313Z"
   },
   {
    "duration": 40,
    "start_time": "2023-01-31T19:32:28.327Z"
   },
   {
    "duration": 7,
    "start_time": "2023-01-31T19:32:28.370Z"
   },
   {
    "duration": 14,
    "start_time": "2023-01-31T19:32:28.379Z"
   },
   {
    "duration": 15,
    "start_time": "2023-01-31T19:32:28.395Z"
   },
   {
    "duration": 27,
    "start_time": "2023-01-31T19:32:28.412Z"
   },
   {
    "duration": 5,
    "start_time": "2023-01-31T19:32:28.441Z"
   },
   {
    "duration": 15,
    "start_time": "2023-01-31T19:32:28.448Z"
   },
   {
    "duration": 27,
    "start_time": "2023-01-31T19:32:28.465Z"
   },
   {
    "duration": 6,
    "start_time": "2023-01-31T19:32:28.494Z"
   },
   {
    "duration": 49,
    "start_time": "2023-01-31T19:32:28.503Z"
   },
   {
    "duration": 9,
    "start_time": "2023-01-31T19:32:28.554Z"
   },
   {
    "duration": 419,
    "start_time": "2023-01-31T19:32:28.565Z"
   },
   {
    "duration": 18,
    "start_time": "2023-01-31T19:32:28.986Z"
   },
   {
    "duration": 755,
    "start_time": "2023-01-31T19:32:29.006Z"
   },
   {
    "duration": 324,
    "start_time": "2023-01-31T19:32:29.763Z"
   },
   {
    "duration": 250,
    "start_time": "2023-01-31T19:32:30.089Z"
   },
   {
    "duration": 299,
    "start_time": "2023-01-31T19:32:30.341Z"
   },
   {
    "duration": 464,
    "start_time": "2023-01-31T19:32:30.642Z"
   },
   {
    "duration": 500,
    "start_time": "2023-01-31T19:32:31.107Z"
   },
   {
    "duration": 0,
    "start_time": "2023-01-31T19:32:31.609Z"
   },
   {
    "duration": 0,
    "start_time": "2023-01-31T19:32:31.610Z"
   },
   {
    "duration": 0,
    "start_time": "2023-01-31T19:32:31.612Z"
   },
   {
    "duration": 0,
    "start_time": "2023-01-31T19:32:31.613Z"
   },
   {
    "duration": 0,
    "start_time": "2023-01-31T19:32:31.615Z"
   },
   {
    "duration": 0,
    "start_time": "2023-01-31T19:32:31.616Z"
   },
   {
    "duration": 0,
    "start_time": "2023-01-31T19:32:31.617Z"
   },
   {
    "duration": 0,
    "start_time": "2023-01-31T19:32:31.618Z"
   },
   {
    "duration": 0,
    "start_time": "2023-01-31T19:32:31.619Z"
   },
   {
    "duration": 0,
    "start_time": "2023-01-31T19:32:31.620Z"
   },
   {
    "duration": 0,
    "start_time": "2023-01-31T19:32:31.637Z"
   },
   {
    "duration": 0,
    "start_time": "2023-01-31T19:32:31.638Z"
   },
   {
    "duration": 0,
    "start_time": "2023-01-31T19:32:31.639Z"
   },
   {
    "duration": 0,
    "start_time": "2023-01-31T19:32:31.641Z"
   },
   {
    "duration": 0,
    "start_time": "2023-01-31T19:32:31.642Z"
   },
   {
    "duration": 0,
    "start_time": "2023-01-31T19:32:31.643Z"
   },
   {
    "duration": 0,
    "start_time": "2023-01-31T19:32:31.644Z"
   },
   {
    "duration": 448,
    "start_time": "2023-01-31T19:32:49.343Z"
   },
   {
    "duration": 11,
    "start_time": "2023-01-31T19:33:20.113Z"
   },
   {
    "duration": 10,
    "start_time": "2023-01-31T19:39:25.922Z"
   },
   {
    "duration": 13,
    "start_time": "2023-01-31T19:40:54.867Z"
   },
   {
    "duration": 9,
    "start_time": "2023-01-31T19:42:09.988Z"
   },
   {
    "duration": 13,
    "start_time": "2023-01-31T19:42:31.205Z"
   },
   {
    "duration": 10,
    "start_time": "2023-01-31T19:42:44.997Z"
   },
   {
    "duration": 2494,
    "start_time": "2023-01-31T19:50:27.618Z"
   },
   {
    "duration": 1479,
    "start_time": "2023-01-31T19:50:41.736Z"
   },
   {
    "duration": 452,
    "start_time": "2023-01-31T19:50:52.216Z"
   },
   {
    "duration": 455,
    "start_time": "2023-01-31T19:51:04.465Z"
   },
   {
    "duration": 553,
    "start_time": "2023-01-31T19:51:11.656Z"
   },
   {
    "duration": 530,
    "start_time": "2023-01-31T19:51:22.488Z"
   },
   {
    "duration": 453,
    "start_time": "2023-01-31T19:51:30.353Z"
   },
   {
    "duration": 655,
    "start_time": "2023-01-31T20:28:18.426Z"
   },
   {
    "duration": 623,
    "start_time": "2023-01-31T20:28:31.267Z"
   },
   {
    "duration": 676,
    "start_time": "2023-01-31T20:28:43.978Z"
   },
   {
    "duration": 420,
    "start_time": "2023-01-31T20:28:51.764Z"
   },
   {
    "duration": 70,
    "start_time": "2023-01-31T20:28:57.994Z"
   },
   {
    "duration": 427,
    "start_time": "2023-01-31T20:29:00.218Z"
   },
   {
    "duration": 394,
    "start_time": "2023-01-31T20:29:12.462Z"
   },
   {
    "duration": 482,
    "start_time": "2023-01-31T20:29:17.276Z"
   },
   {
    "duration": 415,
    "start_time": "2023-01-31T20:29:45.169Z"
   },
   {
    "duration": 564,
    "start_time": "2023-01-31T20:30:03.391Z"
   },
   {
    "duration": 469,
    "start_time": "2023-01-31T20:30:13.213Z"
   },
   {
    "duration": 448,
    "start_time": "2023-01-31T20:30:23.980Z"
   },
   {
    "duration": 443,
    "start_time": "2023-01-31T20:30:37.777Z"
   },
   {
    "duration": 439,
    "start_time": "2023-01-31T20:31:05.348Z"
   },
   {
    "duration": 572,
    "start_time": "2023-01-31T20:31:14.819Z"
   },
   {
    "duration": 464,
    "start_time": "2023-01-31T20:31:23.599Z"
   },
   {
    "duration": 451,
    "start_time": "2023-01-31T20:31:32.731Z"
   },
   {
    "duration": 10,
    "start_time": "2023-01-31T20:35:15.471Z"
   },
   {
    "duration": 9,
    "start_time": "2023-01-31T20:35:23.066Z"
   },
   {
    "duration": 9,
    "start_time": "2023-01-31T20:35:31.368Z"
   },
   {
    "duration": 16,
    "start_time": "2023-01-31T20:35:41.997Z"
   },
   {
    "duration": 9,
    "start_time": "2023-01-31T20:35:45.291Z"
   },
   {
    "duration": 15,
    "start_time": "2023-01-31T20:36:46.550Z"
   },
   {
    "duration": 10,
    "start_time": "2023-01-31T20:36:53.049Z"
   },
   {
    "duration": 9,
    "start_time": "2023-01-31T20:36:57.363Z"
   },
   {
    "duration": 15,
    "start_time": "2023-01-31T20:37:04.590Z"
   },
   {
    "duration": 8,
    "start_time": "2023-01-31T20:37:11.907Z"
   },
   {
    "duration": 1143,
    "start_time": "2023-01-31T20:38:28.254Z"
   },
   {
    "duration": 67,
    "start_time": "2023-01-31T20:38:29.398Z"
   },
   {
    "duration": 15,
    "start_time": "2023-01-31T20:38:29.467Z"
   },
   {
    "duration": 3,
    "start_time": "2023-01-31T20:38:29.484Z"
   },
   {
    "duration": 12,
    "start_time": "2023-01-31T20:38:29.488Z"
   },
   {
    "duration": 35,
    "start_time": "2023-01-31T20:38:29.502Z"
   },
   {
    "duration": 21,
    "start_time": "2023-01-31T20:38:29.539Z"
   },
   {
    "duration": 10,
    "start_time": "2023-01-31T20:38:29.562Z"
   },
   {
    "duration": 22,
    "start_time": "2023-01-31T20:38:29.574Z"
   },
   {
    "duration": 4,
    "start_time": "2023-01-31T20:38:29.598Z"
   },
   {
    "duration": 43,
    "start_time": "2023-01-31T20:38:29.603Z"
   },
   {
    "duration": 8,
    "start_time": "2023-01-31T20:38:29.648Z"
   },
   {
    "duration": 8,
    "start_time": "2023-01-31T20:38:29.658Z"
   },
   {
    "duration": 6,
    "start_time": "2023-01-31T20:38:29.668Z"
   },
   {
    "duration": 9,
    "start_time": "2023-01-31T20:38:29.675Z"
   },
   {
    "duration": 21,
    "start_time": "2023-01-31T20:38:29.685Z"
   },
   {
    "duration": 32,
    "start_time": "2023-01-31T20:38:29.708Z"
   },
   {
    "duration": 16,
    "start_time": "2023-01-31T20:38:29.742Z"
   },
   {
    "duration": 6,
    "start_time": "2023-01-31T20:38:29.760Z"
   },
   {
    "duration": 409,
    "start_time": "2023-01-31T20:38:29.768Z"
   },
   {
    "duration": 19,
    "start_time": "2023-01-31T20:38:30.178Z"
   },
   {
    "duration": 705,
    "start_time": "2023-01-31T20:38:30.199Z"
   },
   {
    "duration": 289,
    "start_time": "2023-01-31T20:38:30.906Z"
   },
   {
    "duration": 268,
    "start_time": "2023-01-31T20:38:31.197Z"
   },
   {
    "duration": 304,
    "start_time": "2023-01-31T20:38:31.466Z"
   },
   {
    "duration": 446,
    "start_time": "2023-01-31T20:38:31.772Z"
   },
   {
    "duration": 557,
    "start_time": "2023-01-31T20:38:32.220Z"
   },
   {
    "duration": 9,
    "start_time": "2023-01-31T20:38:32.781Z"
   },
   {
    "duration": 2729,
    "start_time": "2023-01-31T20:38:32.791Z"
   },
   {
    "duration": 31,
    "start_time": "2023-01-31T20:38:35.523Z"
   },
   {
    "duration": 254,
    "start_time": "2023-01-31T20:38:35.556Z"
   },
   {
    "duration": 317,
    "start_time": "2023-01-31T20:38:35.811Z"
   },
   {
    "duration": 20,
    "start_time": "2023-01-31T20:38:36.130Z"
   },
   {
    "duration": 325,
    "start_time": "2023-01-31T20:38:36.151Z"
   },
   {
    "duration": 15,
    "start_time": "2023-01-31T20:38:36.478Z"
   },
   {
    "duration": 337,
    "start_time": "2023-01-31T20:38:36.495Z"
   },
   {
    "duration": 10,
    "start_time": "2023-01-31T20:38:36.836Z"
   },
   {
    "duration": 302,
    "start_time": "2023-01-31T20:38:36.848Z"
   },
   {
    "duration": 9,
    "start_time": "2023-01-31T20:38:37.152Z"
   },
   {
    "duration": 12,
    "start_time": "2023-01-31T20:38:37.163Z"
   },
   {
    "duration": 20,
    "start_time": "2023-01-31T20:38:37.177Z"
   },
   {
    "duration": 11,
    "start_time": "2023-01-31T20:38:37.199Z"
   },
   {
    "duration": 29,
    "start_time": "2023-01-31T20:38:37.211Z"
   },
   {
    "duration": 13,
    "start_time": "2023-01-31T20:38:37.242Z"
   },
   {
    "duration": 1664,
    "start_time": "2023-01-31T20:45:03.890Z"
   },
   {
    "duration": 1329,
    "start_time": "2023-01-31T20:46:46.743Z"
   },
   {
    "duration": 2756,
    "start_time": "2023-01-31T20:49:02.759Z"
   },
   {
    "duration": 3142,
    "start_time": "2023-01-31T20:50:09.757Z"
   },
   {
    "duration": 2866,
    "start_time": "2023-01-31T20:50:20.443Z"
   },
   {
    "duration": 6,
    "start_time": "2023-01-31T20:52:22.590Z"
   },
   {
    "duration": 6,
    "start_time": "2023-01-31T20:52:33.437Z"
   },
   {
    "duration": 1217,
    "start_time": "2023-01-31T20:53:16.605Z"
   },
   {
    "duration": 67,
    "start_time": "2023-01-31T20:53:17.825Z"
   },
   {
    "duration": 14,
    "start_time": "2023-01-31T20:53:17.893Z"
   },
   {
    "duration": 5,
    "start_time": "2023-01-31T20:53:17.909Z"
   },
   {
    "duration": 18,
    "start_time": "2023-01-31T20:53:17.917Z"
   },
   {
    "duration": 15,
    "start_time": "2023-01-31T20:53:17.937Z"
   },
   {
    "duration": 21,
    "start_time": "2023-01-31T20:53:17.954Z"
   },
   {
    "duration": 9,
    "start_time": "2023-01-31T20:53:17.977Z"
   },
   {
    "duration": 67,
    "start_time": "2023-01-31T20:53:17.987Z"
   },
   {
    "duration": 6,
    "start_time": "2023-01-31T20:53:18.056Z"
   },
   {
    "duration": 9,
    "start_time": "2023-01-31T20:53:18.063Z"
   },
   {
    "duration": 21,
    "start_time": "2023-01-31T20:53:18.074Z"
   },
   {
    "duration": 12,
    "start_time": "2023-01-31T20:53:18.097Z"
   },
   {
    "duration": 4,
    "start_time": "2023-01-31T20:53:18.112Z"
   },
   {
    "duration": 9,
    "start_time": "2023-01-31T20:53:18.118Z"
   },
   {
    "duration": 117,
    "start_time": "2023-01-31T20:53:18.129Z"
   },
   {
    "duration": 0,
    "start_time": "2023-01-31T20:53:18.248Z"
   },
   {
    "duration": 0,
    "start_time": "2023-01-31T20:53:18.250Z"
   },
   {
    "duration": 0,
    "start_time": "2023-01-31T20:53:18.251Z"
   },
   {
    "duration": 0,
    "start_time": "2023-01-31T20:53:18.253Z"
   },
   {
    "duration": 0,
    "start_time": "2023-01-31T20:53:18.253Z"
   },
   {
    "duration": 0,
    "start_time": "2023-01-31T20:53:18.255Z"
   },
   {
    "duration": 0,
    "start_time": "2023-01-31T20:53:18.256Z"
   },
   {
    "duration": 0,
    "start_time": "2023-01-31T20:53:18.258Z"
   },
   {
    "duration": 0,
    "start_time": "2023-01-31T20:53:18.259Z"
   },
   {
    "duration": 0,
    "start_time": "2023-01-31T20:53:18.260Z"
   },
   {
    "duration": 0,
    "start_time": "2023-01-31T20:53:18.262Z"
   },
   {
    "duration": 0,
    "start_time": "2023-01-31T20:53:18.263Z"
   },
   {
    "duration": 0,
    "start_time": "2023-01-31T20:53:18.264Z"
   },
   {
    "duration": 0,
    "start_time": "2023-01-31T20:53:18.265Z"
   },
   {
    "duration": 0,
    "start_time": "2023-01-31T20:53:18.266Z"
   },
   {
    "duration": 0,
    "start_time": "2023-01-31T20:53:18.268Z"
   },
   {
    "duration": 0,
    "start_time": "2023-01-31T20:53:18.270Z"
   },
   {
    "duration": 0,
    "start_time": "2023-01-31T20:53:18.271Z"
   },
   {
    "duration": 0,
    "start_time": "2023-01-31T20:53:18.272Z"
   },
   {
    "duration": 0,
    "start_time": "2023-01-31T20:53:18.273Z"
   },
   {
    "duration": 0,
    "start_time": "2023-01-31T20:53:18.274Z"
   },
   {
    "duration": 0,
    "start_time": "2023-01-31T20:53:18.275Z"
   },
   {
    "duration": 0,
    "start_time": "2023-01-31T20:53:18.277Z"
   },
   {
    "duration": 0,
    "start_time": "2023-01-31T20:53:18.278Z"
   },
   {
    "duration": 0,
    "start_time": "2023-01-31T20:53:18.279Z"
   },
   {
    "duration": 0,
    "start_time": "2023-01-31T20:53:18.280Z"
   },
   {
    "duration": 0,
    "start_time": "2023-01-31T20:53:18.281Z"
   },
   {
    "duration": 0,
    "start_time": "2023-01-31T20:53:18.336Z"
   },
   {
    "duration": 0,
    "start_time": "2023-01-31T20:53:18.338Z"
   },
   {
    "duration": 1224,
    "start_time": "2023-01-31T20:54:04.026Z"
   },
   {
    "duration": 70,
    "start_time": "2023-01-31T20:54:05.252Z"
   },
   {
    "duration": 18,
    "start_time": "2023-01-31T20:54:05.324Z"
   },
   {
    "duration": 4,
    "start_time": "2023-01-31T20:54:05.344Z"
   },
   {
    "duration": 20,
    "start_time": "2023-01-31T20:54:05.351Z"
   },
   {
    "duration": 18,
    "start_time": "2023-01-31T20:54:05.373Z"
   },
   {
    "duration": 44,
    "start_time": "2023-01-31T20:54:05.393Z"
   },
   {
    "duration": 10,
    "start_time": "2023-01-31T20:54:05.439Z"
   },
   {
    "duration": 24,
    "start_time": "2023-01-31T20:54:05.451Z"
   },
   {
    "duration": 4,
    "start_time": "2023-01-31T20:54:05.478Z"
   },
   {
    "duration": 10,
    "start_time": "2023-01-31T20:54:05.483Z"
   },
   {
    "duration": 9,
    "start_time": "2023-01-31T20:54:05.495Z"
   },
   {
    "duration": 35,
    "start_time": "2023-01-31T20:54:05.506Z"
   },
   {
    "duration": 5,
    "start_time": "2023-01-31T20:54:05.543Z"
   },
   {
    "duration": 9,
    "start_time": "2023-01-31T20:54:05.550Z"
   },
   {
    "duration": 124,
    "start_time": "2023-01-31T20:54:05.560Z"
   },
   {
    "duration": 0,
    "start_time": "2023-01-31T20:54:05.687Z"
   },
   {
    "duration": 0,
    "start_time": "2023-01-31T20:54:05.688Z"
   },
   {
    "duration": 0,
    "start_time": "2023-01-31T20:54:05.689Z"
   },
   {
    "duration": 0,
    "start_time": "2023-01-31T20:54:05.690Z"
   },
   {
    "duration": 0,
    "start_time": "2023-01-31T20:54:05.692Z"
   },
   {
    "duration": 0,
    "start_time": "2023-01-31T20:54:05.693Z"
   },
   {
    "duration": 0,
    "start_time": "2023-01-31T20:54:05.694Z"
   },
   {
    "duration": 0,
    "start_time": "2023-01-31T20:54:05.695Z"
   },
   {
    "duration": 0,
    "start_time": "2023-01-31T20:54:05.696Z"
   },
   {
    "duration": 0,
    "start_time": "2023-01-31T20:54:05.697Z"
   },
   {
    "duration": 0,
    "start_time": "2023-01-31T20:54:05.699Z"
   },
   {
    "duration": 0,
    "start_time": "2023-01-31T20:54:05.700Z"
   },
   {
    "duration": 0,
    "start_time": "2023-01-31T20:54:05.701Z"
   },
   {
    "duration": 0,
    "start_time": "2023-01-31T20:54:05.702Z"
   },
   {
    "duration": 0,
    "start_time": "2023-01-31T20:54:05.703Z"
   },
   {
    "duration": 0,
    "start_time": "2023-01-31T20:54:05.705Z"
   },
   {
    "duration": 0,
    "start_time": "2023-01-31T20:54:05.736Z"
   },
   {
    "duration": 0,
    "start_time": "2023-01-31T20:54:05.738Z"
   },
   {
    "duration": 0,
    "start_time": "2023-01-31T20:54:05.739Z"
   },
   {
    "duration": 0,
    "start_time": "2023-01-31T20:54:05.742Z"
   },
   {
    "duration": 0,
    "start_time": "2023-01-31T20:54:05.743Z"
   },
   {
    "duration": 0,
    "start_time": "2023-01-31T20:54:05.745Z"
   },
   {
    "duration": 0,
    "start_time": "2023-01-31T20:54:05.746Z"
   },
   {
    "duration": 0,
    "start_time": "2023-01-31T20:54:05.747Z"
   },
   {
    "duration": 0,
    "start_time": "2023-01-31T20:54:05.748Z"
   },
   {
    "duration": 0,
    "start_time": "2023-01-31T20:54:05.749Z"
   },
   {
    "duration": 0,
    "start_time": "2023-01-31T20:54:05.750Z"
   },
   {
    "duration": 0,
    "start_time": "2023-01-31T20:54:05.751Z"
   },
   {
    "duration": 0,
    "start_time": "2023-01-31T20:54:05.753Z"
   },
   {
    "duration": 1205,
    "start_time": "2023-01-31T20:54:25.098Z"
   },
   {
    "duration": 65,
    "start_time": "2023-01-31T20:54:26.305Z"
   },
   {
    "duration": 14,
    "start_time": "2023-01-31T20:54:26.371Z"
   },
   {
    "duration": 11,
    "start_time": "2023-01-31T20:54:26.387Z"
   },
   {
    "duration": 12,
    "start_time": "2023-01-31T20:54:26.399Z"
   },
   {
    "duration": 33,
    "start_time": "2023-01-31T20:54:26.412Z"
   },
   {
    "duration": 22,
    "start_time": "2023-01-31T20:54:26.447Z"
   },
   {
    "duration": 16,
    "start_time": "2023-01-31T20:54:26.471Z"
   },
   {
    "duration": 36,
    "start_time": "2023-01-31T20:54:26.490Z"
   },
   {
    "duration": 9,
    "start_time": "2023-01-31T20:54:26.529Z"
   },
   {
    "duration": 20,
    "start_time": "2023-01-31T20:54:26.539Z"
   },
   {
    "duration": 9,
    "start_time": "2023-01-31T20:54:26.562Z"
   },
   {
    "duration": 24,
    "start_time": "2023-01-31T20:54:26.572Z"
   },
   {
    "duration": 19,
    "start_time": "2023-01-31T20:54:26.598Z"
   },
   {
    "duration": 16,
    "start_time": "2023-01-31T20:54:26.619Z"
   },
   {
    "duration": 23,
    "start_time": "2023-01-31T20:54:26.637Z"
   },
   {
    "duration": 28,
    "start_time": "2023-01-31T20:54:26.662Z"
   },
   {
    "duration": 7,
    "start_time": "2023-01-31T20:54:26.692Z"
   },
   {
    "duration": 24,
    "start_time": "2023-01-31T20:54:26.700Z"
   },
   {
    "duration": 7,
    "start_time": "2023-01-31T20:54:26.726Z"
   },
   {
    "duration": 415,
    "start_time": "2023-01-31T20:54:26.736Z"
   },
   {
    "duration": 19,
    "start_time": "2023-01-31T20:54:27.153Z"
   },
   {
    "duration": 877,
    "start_time": "2023-01-31T20:54:27.174Z"
   },
   {
    "duration": 710,
    "start_time": "2023-01-31T20:54:28.053Z"
   },
   {
    "duration": 516,
    "start_time": "2023-01-31T20:54:28.765Z"
   },
   {
    "duration": 545,
    "start_time": "2023-01-31T20:54:29.336Z"
   },
   {
    "duration": 494,
    "start_time": "2023-01-31T20:54:29.883Z"
   },
   {
    "duration": 583,
    "start_time": "2023-01-31T20:54:30.381Z"
   },
   {
    "duration": 10,
    "start_time": "2023-01-31T20:54:30.966Z"
   },
   {
    "duration": 1252,
    "start_time": "2023-01-31T20:54:30.978Z"
   },
   {
    "duration": 0,
    "start_time": "2023-01-31T20:54:32.232Z"
   },
   {
    "duration": 0,
    "start_time": "2023-01-31T20:54:32.234Z"
   },
   {
    "duration": 0,
    "start_time": "2023-01-31T20:54:32.236Z"
   },
   {
    "duration": 0,
    "start_time": "2023-01-31T20:54:32.237Z"
   },
   {
    "duration": 0,
    "start_time": "2023-01-31T20:54:32.239Z"
   },
   {
    "duration": 0,
    "start_time": "2023-01-31T20:54:32.240Z"
   },
   {
    "duration": 0,
    "start_time": "2023-01-31T20:54:32.242Z"
   },
   {
    "duration": 0,
    "start_time": "2023-01-31T20:54:32.243Z"
   },
   {
    "duration": 0,
    "start_time": "2023-01-31T20:54:32.245Z"
   },
   {
    "duration": 0,
    "start_time": "2023-01-31T20:54:32.246Z"
   },
   {
    "duration": 0,
    "start_time": "2023-01-31T20:54:32.248Z"
   },
   {
    "duration": 0,
    "start_time": "2023-01-31T20:54:32.249Z"
   },
   {
    "duration": 0,
    "start_time": "2023-01-31T20:54:32.251Z"
   },
   {
    "duration": 0,
    "start_time": "2023-01-31T20:54:32.252Z"
   },
   {
    "duration": 0,
    "start_time": "2023-01-31T20:54:32.253Z"
   },
   {
    "duration": 1210,
    "start_time": "2023-01-31T20:54:59.203Z"
   },
   {
    "duration": 65,
    "start_time": "2023-01-31T20:55:00.415Z"
   },
   {
    "duration": 15,
    "start_time": "2023-01-31T20:55:00.482Z"
   },
   {
    "duration": 16,
    "start_time": "2023-01-31T20:55:00.499Z"
   },
   {
    "duration": 28,
    "start_time": "2023-01-31T20:55:00.517Z"
   },
   {
    "duration": 54,
    "start_time": "2023-01-31T20:55:00.547Z"
   },
   {
    "duration": 27,
    "start_time": "2023-01-31T20:55:00.604Z"
   },
   {
    "duration": 19,
    "start_time": "2023-01-31T20:55:00.633Z"
   },
   {
    "duration": 38,
    "start_time": "2023-01-31T20:55:00.654Z"
   },
   {
    "duration": 4,
    "start_time": "2023-01-31T20:55:00.695Z"
   },
   {
    "duration": 26,
    "start_time": "2023-01-31T20:55:00.701Z"
   },
   {
    "duration": 34,
    "start_time": "2023-01-31T20:55:00.728Z"
   },
   {
    "duration": 31,
    "start_time": "2023-01-31T20:55:00.764Z"
   },
   {
    "duration": 41,
    "start_time": "2023-01-31T20:55:00.797Z"
   },
   {
    "duration": 39,
    "start_time": "2023-01-31T20:55:00.840Z"
   },
   {
    "duration": 22,
    "start_time": "2023-01-31T20:55:00.881Z"
   },
   {
    "duration": 63,
    "start_time": "2023-01-31T20:55:00.905Z"
   },
   {
    "duration": 24,
    "start_time": "2023-01-31T20:55:00.970Z"
   },
   {
    "duration": 49,
    "start_time": "2023-01-31T20:55:00.996Z"
   },
   {
    "duration": 34,
    "start_time": "2023-01-31T20:55:01.047Z"
   },
   {
    "duration": 437,
    "start_time": "2023-01-31T20:55:01.083Z"
   },
   {
    "duration": 29,
    "start_time": "2023-01-31T20:55:01.521Z"
   },
   {
    "duration": 720,
    "start_time": "2023-01-31T20:55:01.552Z"
   },
   {
    "duration": 293,
    "start_time": "2023-01-31T20:55:02.274Z"
   },
   {
    "duration": 253,
    "start_time": "2023-01-31T20:55:02.569Z"
   },
   {
    "duration": 302,
    "start_time": "2023-01-31T20:55:02.823Z"
   },
   {
    "duration": 468,
    "start_time": "2023-01-31T20:55:03.127Z"
   },
   {
    "duration": 585,
    "start_time": "2023-01-31T20:55:03.600Z"
   },
   {
    "duration": 10,
    "start_time": "2023-01-31T20:55:04.187Z"
   },
   {
    "duration": 2874,
    "start_time": "2023-01-31T20:55:04.199Z"
   },
   {
    "duration": 20,
    "start_time": "2023-01-31T20:55:07.075Z"
   },
   {
    "duration": 224,
    "start_time": "2023-01-31T20:55:07.096Z"
   },
   {
    "duration": 299,
    "start_time": "2023-01-31T20:55:07.323Z"
   },
   {
    "duration": 19,
    "start_time": "2023-01-31T20:55:07.624Z"
   },
   {
    "duration": 321,
    "start_time": "2023-01-31T20:55:07.644Z"
   },
   {
    "duration": 15,
    "start_time": "2023-01-31T20:55:07.968Z"
   },
   {
    "duration": 373,
    "start_time": "2023-01-31T20:55:07.985Z"
   },
   {
    "duration": 14,
    "start_time": "2023-01-31T20:55:08.361Z"
   },
   {
    "duration": 343,
    "start_time": "2023-01-31T20:55:08.377Z"
   },
   {
    "duration": 16,
    "start_time": "2023-01-31T20:55:08.722Z"
   },
   {
    "duration": 17,
    "start_time": "2023-01-31T20:55:08.740Z"
   },
   {
    "duration": 27,
    "start_time": "2023-01-31T20:55:08.759Z"
   },
   {
    "duration": 24,
    "start_time": "2023-01-31T20:55:08.787Z"
   },
   {
    "duration": 23,
    "start_time": "2023-01-31T20:55:08.813Z"
   },
   {
    "duration": 27,
    "start_time": "2023-01-31T20:55:08.838Z"
   },
   {
    "duration": 1316,
    "start_time": "2023-01-31T21:00:06.274Z"
   },
   {
    "duration": 72,
    "start_time": "2023-01-31T21:00:07.592Z"
   },
   {
    "duration": 17,
    "start_time": "2023-01-31T21:00:07.666Z"
   },
   {
    "duration": 10,
    "start_time": "2023-01-31T21:00:07.685Z"
   },
   {
    "duration": 38,
    "start_time": "2023-01-31T21:00:07.697Z"
   },
   {
    "duration": 31,
    "start_time": "2023-01-31T21:00:07.737Z"
   },
   {
    "duration": 35,
    "start_time": "2023-01-31T21:00:07.770Z"
   },
   {
    "duration": 36,
    "start_time": "2023-01-31T21:00:07.807Z"
   },
   {
    "duration": 31,
    "start_time": "2023-01-31T21:00:07.845Z"
   },
   {
    "duration": 15,
    "start_time": "2023-01-31T21:00:07.877Z"
   },
   {
    "duration": 27,
    "start_time": "2023-01-31T21:00:07.894Z"
   },
   {
    "duration": 48,
    "start_time": "2023-01-31T21:00:07.923Z"
   },
   {
    "duration": 45,
    "start_time": "2023-01-31T21:00:07.973Z"
   },
   {
    "duration": 25,
    "start_time": "2023-01-31T21:00:08.022Z"
   },
   {
    "duration": 32,
    "start_time": "2023-01-31T21:00:08.049Z"
   },
   {
    "duration": 38,
    "start_time": "2023-01-31T21:00:08.083Z"
   },
   {
    "duration": 60,
    "start_time": "2023-01-31T21:00:08.123Z"
   },
   {
    "duration": 42,
    "start_time": "2023-01-31T21:00:08.185Z"
   },
   {
    "duration": 44,
    "start_time": "2023-01-31T21:00:08.228Z"
   },
   {
    "duration": 15,
    "start_time": "2023-01-31T21:00:08.274Z"
   },
   {
    "duration": 515,
    "start_time": "2023-01-31T21:00:08.291Z"
   },
   {
    "duration": 28,
    "start_time": "2023-01-31T21:00:08.809Z"
   },
   {
    "duration": 733,
    "start_time": "2023-01-31T21:00:08.839Z"
   },
   {
    "duration": 317,
    "start_time": "2023-01-31T21:00:09.574Z"
   },
   {
    "duration": 277,
    "start_time": "2023-01-31T21:00:09.894Z"
   },
   {
    "duration": 336,
    "start_time": "2023-01-31T21:00:10.173Z"
   },
   {
    "duration": 483,
    "start_time": "2023-01-31T21:00:10.511Z"
   },
   {
    "duration": 600,
    "start_time": "2023-01-31T21:00:10.996Z"
   },
   {
    "duration": 9,
    "start_time": "2023-01-31T21:00:11.597Z"
   },
   {
    "duration": 3555,
    "start_time": "2023-01-31T21:00:11.608Z"
   },
   {
    "duration": 77,
    "start_time": "2023-01-31T21:00:15.165Z"
   },
   {
    "duration": 439,
    "start_time": "2023-01-31T21:00:15.244Z"
   },
   {
    "duration": 364,
    "start_time": "2023-01-31T21:00:15.685Z"
   },
   {
    "duration": 15,
    "start_time": "2023-01-31T21:00:16.051Z"
   },
   {
    "duration": 325,
    "start_time": "2023-01-31T21:00:16.067Z"
   },
   {
    "duration": 15,
    "start_time": "2023-01-31T21:00:16.394Z"
   },
   {
    "duration": 340,
    "start_time": "2023-01-31T21:00:16.411Z"
   },
   {
    "duration": 11,
    "start_time": "2023-01-31T21:00:16.753Z"
   },
   {
    "duration": 320,
    "start_time": "2023-01-31T21:00:16.766Z"
   },
   {
    "duration": 9,
    "start_time": "2023-01-31T21:00:17.087Z"
   },
   {
    "duration": 28,
    "start_time": "2023-01-31T21:00:17.100Z"
   },
   {
    "duration": 27,
    "start_time": "2023-01-31T21:00:17.130Z"
   },
   {
    "duration": 27,
    "start_time": "2023-01-31T21:00:17.159Z"
   },
   {
    "duration": 32,
    "start_time": "2023-01-31T21:00:17.188Z"
   },
   {
    "duration": 18,
    "start_time": "2023-01-31T21:00:17.222Z"
   },
   {
    "duration": 2402,
    "start_time": "2023-01-31T21:00:58.079Z"
   },
   {
    "duration": 17,
    "start_time": "2023-01-31T21:01:29.909Z"
   },
   {
    "duration": 32,
    "start_time": "2023-01-31T21:02:08.447Z"
   },
   {
    "duration": 119,
    "start_time": "2023-01-31T21:02:17.603Z"
   },
   {
    "duration": 18,
    "start_time": "2023-01-31T21:02:24.370Z"
   },
   {
    "duration": 2158,
    "start_time": "2023-01-31T21:02:58.437Z"
   },
   {
    "duration": 8,
    "start_time": "2023-01-31T21:16:16.350Z"
   },
   {
    "duration": 26,
    "start_time": "2023-01-31T21:16:44.086Z"
   },
   {
    "duration": 9,
    "start_time": "2023-01-31T21:16:45.301Z"
   },
   {
    "duration": 21,
    "start_time": "2023-01-31T21:17:08.900Z"
   },
   {
    "duration": 11,
    "start_time": "2023-01-31T21:17:09.342Z"
   },
   {
    "duration": 16,
    "start_time": "2023-01-31T21:17:24.297Z"
   },
   {
    "duration": 8,
    "start_time": "2023-01-31T21:17:34.753Z"
   },
   {
    "duration": 13,
    "start_time": "2023-01-31T21:17:51.637Z"
   },
   {
    "duration": 17,
    "start_time": "2023-01-31T21:18:22.994Z"
   },
   {
    "duration": 9,
    "start_time": "2023-01-31T21:19:44.032Z"
   },
   {
    "duration": 21,
    "start_time": "2023-01-31T21:20:19.918Z"
   },
   {
    "duration": 14,
    "start_time": "2023-01-31T21:20:20.323Z"
   },
   {
    "duration": 220,
    "start_time": "2023-01-31T21:20:21.474Z"
   },
   {
    "duration": 25,
    "start_time": "2023-01-31T21:25:00.235Z"
   },
   {
    "duration": 8,
    "start_time": "2023-01-31T21:25:09.536Z"
   },
   {
    "duration": 21,
    "start_time": "2023-01-31T21:26:10.270Z"
   },
   {
    "duration": 1142,
    "start_time": "2023-01-31T21:26:21.139Z"
   },
   {
    "duration": 66,
    "start_time": "2023-01-31T21:26:22.283Z"
   },
   {
    "duration": 15,
    "start_time": "2023-01-31T21:26:22.351Z"
   },
   {
    "duration": 10,
    "start_time": "2023-01-31T21:26:22.368Z"
   },
   {
    "duration": 11,
    "start_time": "2023-01-31T21:26:22.379Z"
   },
   {
    "duration": 15,
    "start_time": "2023-01-31T21:26:22.392Z"
   },
   {
    "duration": 46,
    "start_time": "2023-01-31T21:26:22.409Z"
   },
   {
    "duration": 22,
    "start_time": "2023-01-31T21:26:22.457Z"
   },
   {
    "duration": 32,
    "start_time": "2023-01-31T21:26:22.480Z"
   },
   {
    "duration": 4,
    "start_time": "2023-01-31T21:26:22.515Z"
   },
   {
    "duration": 27,
    "start_time": "2023-01-31T21:26:22.520Z"
   },
   {
    "duration": 18,
    "start_time": "2023-01-31T21:26:22.549Z"
   },
   {
    "duration": 20,
    "start_time": "2023-01-31T21:26:22.568Z"
   },
   {
    "duration": 14,
    "start_time": "2023-01-31T21:26:22.590Z"
   },
   {
    "duration": 16,
    "start_time": "2023-01-31T21:26:22.606Z"
   },
   {
    "duration": 20,
    "start_time": "2023-01-31T21:26:22.624Z"
   },
   {
    "duration": 22,
    "start_time": "2023-01-31T21:26:22.646Z"
   },
   {
    "duration": 7,
    "start_time": "2023-01-31T21:26:22.670Z"
   },
   {
    "duration": 28,
    "start_time": "2023-01-31T21:26:22.678Z"
   },
   {
    "duration": 9,
    "start_time": "2023-01-31T21:26:22.707Z"
   },
   {
    "duration": 411,
    "start_time": "2023-01-31T21:26:22.717Z"
   },
   {
    "duration": 21,
    "start_time": "2023-01-31T21:26:23.130Z"
   },
   {
    "duration": 662,
    "start_time": "2023-01-31T21:26:23.152Z"
   },
   {
    "duration": 311,
    "start_time": "2023-01-31T21:26:23.816Z"
   },
   {
    "duration": 266,
    "start_time": "2023-01-31T21:26:24.129Z"
   },
   {
    "duration": 314,
    "start_time": "2023-01-31T21:26:24.397Z"
   },
   {
    "duration": 493,
    "start_time": "2023-01-31T21:26:24.713Z"
   },
   {
    "duration": 606,
    "start_time": "2023-01-31T21:26:25.210Z"
   },
   {
    "duration": 19,
    "start_time": "2023-01-31T21:26:25.818Z"
   },
   {
    "duration": 2021,
    "start_time": "2023-01-31T21:26:25.839Z"
   },
   {
    "duration": 26,
    "start_time": "2023-01-31T21:26:27.861Z"
   },
   {
    "duration": 236,
    "start_time": "2023-01-31T21:26:27.889Z"
   },
   {
    "duration": 463,
    "start_time": "2023-01-31T21:26:28.127Z"
   },
   {
    "duration": 15,
    "start_time": "2023-01-31T21:26:28.591Z"
   },
   {
    "duration": 336,
    "start_time": "2023-01-31T21:26:28.607Z"
   },
   {
    "duration": 16,
    "start_time": "2023-01-31T21:26:28.945Z"
   },
   {
    "duration": 325,
    "start_time": "2023-01-31T21:26:28.963Z"
   },
   {
    "duration": 14,
    "start_time": "2023-01-31T21:26:29.291Z"
   },
   {
    "duration": 318,
    "start_time": "2023-01-31T21:26:29.307Z"
   },
   {
    "duration": 8,
    "start_time": "2023-01-31T21:26:29.636Z"
   },
   {
    "duration": 7,
    "start_time": "2023-01-31T21:26:29.646Z"
   },
   {
    "duration": 9,
    "start_time": "2023-01-31T21:26:29.654Z"
   },
   {
    "duration": 8,
    "start_time": "2023-01-31T21:26:29.665Z"
   },
   {
    "duration": 4,
    "start_time": "2023-01-31T21:26:29.675Z"
   },
   {
    "duration": 8,
    "start_time": "2023-01-31T21:26:29.681Z"
   },
   {
    "duration": 446,
    "start_time": "2023-01-31T21:32:00.979Z"
   },
   {
    "duration": 628,
    "start_time": "2023-01-31T21:32:06.588Z"
   },
   {
    "duration": 517,
    "start_time": "2023-01-31T21:32:26.025Z"
   },
   {
    "duration": 512,
    "start_time": "2023-01-31T21:33:38.281Z"
   },
   {
    "duration": 467,
    "start_time": "2023-01-31T21:33:51.499Z"
   },
   {
    "duration": 524,
    "start_time": "2023-01-31T21:33:56.690Z"
   },
   {
    "duration": 1236,
    "start_time": "2023-01-31T21:34:42.023Z"
   },
   {
    "duration": 78,
    "start_time": "2023-01-31T21:34:43.261Z"
   },
   {
    "duration": 22,
    "start_time": "2023-01-31T21:34:43.341Z"
   },
   {
    "duration": 14,
    "start_time": "2023-01-31T21:34:43.366Z"
   },
   {
    "duration": 26,
    "start_time": "2023-01-31T21:34:43.383Z"
   },
   {
    "duration": 27,
    "start_time": "2023-01-31T21:34:43.411Z"
   },
   {
    "duration": 35,
    "start_time": "2023-01-31T21:34:43.440Z"
   },
   {
    "duration": 11,
    "start_time": "2023-01-31T21:34:43.477Z"
   },
   {
    "duration": 25,
    "start_time": "2023-01-31T21:34:43.491Z"
   },
   {
    "duration": 19,
    "start_time": "2023-01-31T21:34:43.520Z"
   },
   {
    "duration": 48,
    "start_time": "2023-01-31T21:34:43.541Z"
   },
   {
    "duration": 13,
    "start_time": "2023-01-31T21:34:43.591Z"
   },
   {
    "duration": 14,
    "start_time": "2023-01-31T21:34:43.606Z"
   },
   {
    "duration": 17,
    "start_time": "2023-01-31T21:34:43.622Z"
   },
   {
    "duration": 8,
    "start_time": "2023-01-31T21:34:43.641Z"
   },
   {
    "duration": 14,
    "start_time": "2023-01-31T21:34:43.651Z"
   },
   {
    "duration": 22,
    "start_time": "2023-01-31T21:34:43.667Z"
   },
   {
    "duration": 6,
    "start_time": "2023-01-31T21:34:43.691Z"
   },
   {
    "duration": 38,
    "start_time": "2023-01-31T21:34:43.699Z"
   },
   {
    "duration": 10,
    "start_time": "2023-01-31T21:34:43.739Z"
   },
   {
    "duration": 459,
    "start_time": "2023-01-31T21:34:43.751Z"
   },
   {
    "duration": 25,
    "start_time": "2023-01-31T21:34:44.212Z"
   },
   {
    "duration": 728,
    "start_time": "2023-01-31T21:34:44.239Z"
   },
   {
    "duration": 318,
    "start_time": "2023-01-31T21:34:44.969Z"
   },
   {
    "duration": 302,
    "start_time": "2023-01-31T21:34:45.289Z"
   },
   {
    "duration": 328,
    "start_time": "2023-01-31T21:34:45.592Z"
   },
   {
    "duration": 502,
    "start_time": "2023-01-31T21:34:45.922Z"
   },
   {
    "duration": 609,
    "start_time": "2023-01-31T21:34:46.429Z"
   },
   {
    "duration": 10,
    "start_time": "2023-01-31T21:34:47.040Z"
   },
   {
    "duration": 2277,
    "start_time": "2023-01-31T21:34:47.052Z"
   },
   {
    "duration": 26,
    "start_time": "2023-01-31T21:34:49.337Z"
   },
   {
    "duration": 257,
    "start_time": "2023-01-31T21:34:49.369Z"
   },
   {
    "duration": 441,
    "start_time": "2023-01-31T21:34:49.628Z"
   },
   {
    "duration": 16,
    "start_time": "2023-01-31T21:34:50.071Z"
   },
   {
    "duration": 339,
    "start_time": "2023-01-31T21:34:50.089Z"
   },
   {
    "duration": 19,
    "start_time": "2023-01-31T21:34:50.437Z"
   },
   {
    "duration": 366,
    "start_time": "2023-01-31T21:34:50.458Z"
   },
   {
    "duration": 22,
    "start_time": "2023-01-31T21:34:50.827Z"
   },
   {
    "duration": 356,
    "start_time": "2023-01-31T21:34:50.851Z"
   },
   {
    "duration": 9,
    "start_time": "2023-01-31T21:34:51.208Z"
   },
   {
    "duration": 23,
    "start_time": "2023-01-31T21:34:51.219Z"
   },
   {
    "duration": 13,
    "start_time": "2023-01-31T21:34:51.244Z"
   },
   {
    "duration": 12,
    "start_time": "2023-01-31T21:34:51.259Z"
   },
   {
    "duration": 14,
    "start_time": "2023-01-31T21:34:51.273Z"
   },
   {
    "duration": 9,
    "start_time": "2023-01-31T21:34:51.289Z"
   }
  ],
  "kernelspec": {
   "display_name": "Python 3 (ipykernel)",
   "language": "python",
   "name": "python3"
  },
  "language_info": {
   "codemirror_mode": {
    "name": "ipython",
    "version": 3
   },
   "file_extension": ".py",
   "mimetype": "text/x-python",
   "name": "python",
   "nbconvert_exporter": "python",
   "pygments_lexer": "ipython3",
   "version": "3.9.5"
  },
  "toc": {
   "base_numbering": 1,
   "nav_menu": {},
   "number_sections": true,
   "sideBar": true,
   "skip_h1_title": true,
   "title_cell": "Table of Contents",
   "title_sidebar": "Contents",
   "toc_cell": false,
   "toc_position": {
    "height": "calc(100% - 180px)",
    "left": "10px",
    "top": "150px",
    "width": "289.438px"
   },
   "toc_section_display": true,
   "toc_window_display": true
  }
 },
 "nbformat": 4,
 "nbformat_minor": 2
}
