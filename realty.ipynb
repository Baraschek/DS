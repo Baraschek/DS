{
 "cells": [
  {
   "cell_type": "markdown",
   "metadata": {},
   "source": [
    "# Исследование объявлений о продаже квартир\n",
    "\n",
    "В вашем распоряжении данные сервиса Яндекс.Недвижимость — архив объявлений о продаже квартир в Санкт-Петербурге и соседних населённых пунктов за несколько лет. Нужно научиться определять рыночную стоимость объектов недвижимости. Ваша задача — установить параметры. Это позволит построить автоматизированную систему: она отследит аномалии и мошенническую деятельность. \n",
    "\n",
    "По каждой квартире на продажу доступны два вида данных. Первые вписаны пользователем, вторые — получены автоматически на основе картографических данных. Например, расстояние до центра, аэропорта, ближайшего парка и водоёма. "
   ]
  },
  {
   "cell_type": "markdown",
   "metadata": {},
   "source": [
    "### Откройте файл с данными и изучите общую информацию. "
   ]
  },
  {
   "cell_type": "code",
   "execution_count": 1,
   "metadata": {},
   "outputs": [],
   "source": [
    "import pandas as pd\n",
    "import matplotlib.pyplot as plt\n",
    "import seaborn as sns"
   ]
  },
  {
   "cell_type": "code",
   "execution_count": 2,
   "metadata": {},
   "outputs": [
    {
     "name": "stdout",
     "output_type": "stream",
     "text": [
      "<class 'pandas.core.frame.DataFrame'>\n",
      "RangeIndex: 23699 entries, 0 to 23698\n",
      "Data columns (total 22 columns):\n",
      " #   Column                Non-Null Count  Dtype  \n",
      "---  ------                --------------  -----  \n",
      " 0   total_images          23699 non-null  int64  \n",
      " 1   last_price            23699 non-null  float64\n",
      " 2   total_area            23699 non-null  float64\n",
      " 3   first_day_exposition  23699 non-null  object \n",
      " 4   rooms                 23699 non-null  int64  \n",
      " 5   ceiling_height        14504 non-null  float64\n",
      " 6   floors_total          23613 non-null  float64\n",
      " 7   living_area           21796 non-null  float64\n",
      " 8   floor                 23699 non-null  int64  \n",
      " 9   is_apartment          2775 non-null   object \n",
      " 10  studio                23699 non-null  bool   \n",
      " 11  open_plan             23699 non-null  bool   \n",
      " 12  kitchen_area          21421 non-null  float64\n",
      " 13  balcony               12180 non-null  float64\n",
      " 14  locality_name         23650 non-null  object \n",
      " 15  airports_nearest      18157 non-null  float64\n",
      " 16  cityCenters_nearest   18180 non-null  float64\n",
      " 17  parks_around3000      18181 non-null  float64\n",
      " 18  parks_nearest         8079 non-null   float64\n",
      " 19  ponds_around3000      18181 non-null  float64\n",
      " 20  ponds_nearest         9110 non-null   float64\n",
      " 21  days_exposition       20518 non-null  float64\n",
      "dtypes: bool(2), float64(14), int64(3), object(3)\n",
      "memory usage: 3.7+ MB\n"
     ]
    }
   ],
   "source": [
    "data = pd.read_csv('/datasets/real_estate_data.csv', sep='\\t')\n",
    "data.info()"
   ]
  },
  {
   "cell_type": "code",
   "execution_count": 3,
   "metadata": {},
   "outputs": [
    {
     "data": {
      "text/html": [
       "<div>\n",
       "<style scoped>\n",
       "    .dataframe tbody tr th:only-of-type {\n",
       "        vertical-align: middle;\n",
       "    }\n",
       "\n",
       "    .dataframe tbody tr th {\n",
       "        vertical-align: top;\n",
       "    }\n",
       "\n",
       "    .dataframe thead th {\n",
       "        text-align: right;\n",
       "    }\n",
       "</style>\n",
       "<table border=\"1\" class=\"dataframe\">\n",
       "  <thead>\n",
       "    <tr style=\"text-align: right;\">\n",
       "      <th></th>\n",
       "      <th>total_images</th>\n",
       "      <th>last_price</th>\n",
       "      <th>total_area</th>\n",
       "      <th>first_day_exposition</th>\n",
       "      <th>rooms</th>\n",
       "      <th>ceiling_height</th>\n",
       "      <th>floors_total</th>\n",
       "      <th>living_area</th>\n",
       "      <th>floor</th>\n",
       "      <th>is_apartment</th>\n",
       "      <th>...</th>\n",
       "      <th>kitchen_area</th>\n",
       "      <th>balcony</th>\n",
       "      <th>locality_name</th>\n",
       "      <th>airports_nearest</th>\n",
       "      <th>cityCenters_nearest</th>\n",
       "      <th>parks_around3000</th>\n",
       "      <th>parks_nearest</th>\n",
       "      <th>ponds_around3000</th>\n",
       "      <th>ponds_nearest</th>\n",
       "      <th>days_exposition</th>\n",
       "    </tr>\n",
       "  </thead>\n",
       "  <tbody>\n",
       "    <tr>\n",
       "      <th>0</th>\n",
       "      <td>20</td>\n",
       "      <td>13000000.0</td>\n",
       "      <td>108.0</td>\n",
       "      <td>2019-03-07T00:00:00</td>\n",
       "      <td>3</td>\n",
       "      <td>2.70</td>\n",
       "      <td>16.0</td>\n",
       "      <td>51.0</td>\n",
       "      <td>8</td>\n",
       "      <td>NaN</td>\n",
       "      <td>...</td>\n",
       "      <td>25.0</td>\n",
       "      <td>NaN</td>\n",
       "      <td>Санкт-Петербург</td>\n",
       "      <td>18863.0</td>\n",
       "      <td>16028.0</td>\n",
       "      <td>1.0</td>\n",
       "      <td>482.0</td>\n",
       "      <td>2.0</td>\n",
       "      <td>755.0</td>\n",
       "      <td>NaN</td>\n",
       "    </tr>\n",
       "    <tr>\n",
       "      <th>1</th>\n",
       "      <td>7</td>\n",
       "      <td>3350000.0</td>\n",
       "      <td>40.4</td>\n",
       "      <td>2018-12-04T00:00:00</td>\n",
       "      <td>1</td>\n",
       "      <td>NaN</td>\n",
       "      <td>11.0</td>\n",
       "      <td>18.6</td>\n",
       "      <td>1</td>\n",
       "      <td>NaN</td>\n",
       "      <td>...</td>\n",
       "      <td>11.0</td>\n",
       "      <td>2.0</td>\n",
       "      <td>посёлок Шушары</td>\n",
       "      <td>12817.0</td>\n",
       "      <td>18603.0</td>\n",
       "      <td>0.0</td>\n",
       "      <td>NaN</td>\n",
       "      <td>0.0</td>\n",
       "      <td>NaN</td>\n",
       "      <td>81.0</td>\n",
       "    </tr>\n",
       "    <tr>\n",
       "      <th>2</th>\n",
       "      <td>10</td>\n",
       "      <td>5196000.0</td>\n",
       "      <td>56.0</td>\n",
       "      <td>2015-08-20T00:00:00</td>\n",
       "      <td>2</td>\n",
       "      <td>NaN</td>\n",
       "      <td>5.0</td>\n",
       "      <td>34.3</td>\n",
       "      <td>4</td>\n",
       "      <td>NaN</td>\n",
       "      <td>...</td>\n",
       "      <td>8.3</td>\n",
       "      <td>0.0</td>\n",
       "      <td>Санкт-Петербург</td>\n",
       "      <td>21741.0</td>\n",
       "      <td>13933.0</td>\n",
       "      <td>1.0</td>\n",
       "      <td>90.0</td>\n",
       "      <td>2.0</td>\n",
       "      <td>574.0</td>\n",
       "      <td>558.0</td>\n",
       "    </tr>\n",
       "    <tr>\n",
       "      <th>3</th>\n",
       "      <td>0</td>\n",
       "      <td>64900000.0</td>\n",
       "      <td>159.0</td>\n",
       "      <td>2015-07-24T00:00:00</td>\n",
       "      <td>3</td>\n",
       "      <td>NaN</td>\n",
       "      <td>14.0</td>\n",
       "      <td>NaN</td>\n",
       "      <td>9</td>\n",
       "      <td>NaN</td>\n",
       "      <td>...</td>\n",
       "      <td>NaN</td>\n",
       "      <td>0.0</td>\n",
       "      <td>Санкт-Петербург</td>\n",
       "      <td>28098.0</td>\n",
       "      <td>6800.0</td>\n",
       "      <td>2.0</td>\n",
       "      <td>84.0</td>\n",
       "      <td>3.0</td>\n",
       "      <td>234.0</td>\n",
       "      <td>424.0</td>\n",
       "    </tr>\n",
       "    <tr>\n",
       "      <th>4</th>\n",
       "      <td>2</td>\n",
       "      <td>10000000.0</td>\n",
       "      <td>100.0</td>\n",
       "      <td>2018-06-19T00:00:00</td>\n",
       "      <td>2</td>\n",
       "      <td>3.03</td>\n",
       "      <td>14.0</td>\n",
       "      <td>32.0</td>\n",
       "      <td>13</td>\n",
       "      <td>NaN</td>\n",
       "      <td>...</td>\n",
       "      <td>41.0</td>\n",
       "      <td>NaN</td>\n",
       "      <td>Санкт-Петербург</td>\n",
       "      <td>31856.0</td>\n",
       "      <td>8098.0</td>\n",
       "      <td>2.0</td>\n",
       "      <td>112.0</td>\n",
       "      <td>1.0</td>\n",
       "      <td>48.0</td>\n",
       "      <td>121.0</td>\n",
       "    </tr>\n",
       "  </tbody>\n",
       "</table>\n",
       "<p>5 rows × 22 columns</p>\n",
       "</div>"
      ],
      "text/plain": [
       "   total_images  last_price  total_area first_day_exposition  rooms  \\\n",
       "0            20  13000000.0       108.0  2019-03-07T00:00:00      3   \n",
       "1             7   3350000.0        40.4  2018-12-04T00:00:00      1   \n",
       "2            10   5196000.0        56.0  2015-08-20T00:00:00      2   \n",
       "3             0  64900000.0       159.0  2015-07-24T00:00:00      3   \n",
       "4             2  10000000.0       100.0  2018-06-19T00:00:00      2   \n",
       "\n",
       "   ceiling_height  floors_total  living_area  floor is_apartment  ...  \\\n",
       "0            2.70          16.0         51.0      8          NaN  ...   \n",
       "1             NaN          11.0         18.6      1          NaN  ...   \n",
       "2             NaN           5.0         34.3      4          NaN  ...   \n",
       "3             NaN          14.0          NaN      9          NaN  ...   \n",
       "4            3.03          14.0         32.0     13          NaN  ...   \n",
       "\n",
       "   kitchen_area  balcony    locality_name  airports_nearest  \\\n",
       "0          25.0      NaN  Санкт-Петербург           18863.0   \n",
       "1          11.0      2.0   посёлок Шушары           12817.0   \n",
       "2           8.3      0.0  Санкт-Петербург           21741.0   \n",
       "3           NaN      0.0  Санкт-Петербург           28098.0   \n",
       "4          41.0      NaN  Санкт-Петербург           31856.0   \n",
       "\n",
       "  cityCenters_nearest  parks_around3000  parks_nearest  ponds_around3000  \\\n",
       "0             16028.0               1.0          482.0               2.0   \n",
       "1             18603.0               0.0            NaN               0.0   \n",
       "2             13933.0               1.0           90.0               2.0   \n",
       "3              6800.0               2.0           84.0               3.0   \n",
       "4              8098.0               2.0          112.0               1.0   \n",
       "\n",
       "   ponds_nearest  days_exposition  \n",
       "0          755.0              NaN  \n",
       "1            NaN             81.0  \n",
       "2          574.0            558.0  \n",
       "3          234.0            424.0  \n",
       "4           48.0            121.0  \n",
       "\n",
       "[5 rows x 22 columns]"
      ]
     },
     "metadata": {},
     "output_type": "display_data"
    }
   ],
   "source": [
    "display(data.head(5))"
   ]
  },
  {
   "cell_type": "code",
   "execution_count": 4,
   "metadata": {},
   "outputs": [
    {
     "data": {
      "image/png": "[encoded data removed]",
      "text/plain": [
       "<Figure size 1080x1440 with 20 Axes>"
      ]
     },
     "metadata": {
      "needs_background": "light"
     },
     "output_type": "display_data"
    }
   ],
   "source": [
    "data.hist(figsize=(15, 20));\n",
    "pd.set_option('display.max_columns', None)"
   ]
  },
  {
   "cell_type": "markdown",
   "metadata": {},
   "source": [
    "по количеству пропусков кажется, что данных было утраченно уж очень много (вон в info с первых строк уже есть пропуски), но не стоит делать поспешных выводов, возможно, большинство из них получится заполнить без серьёзных изменений в дальнейших проверках/исследованиях или их отсутствие не окажется критичным\n",
    "\n",
    "на первый взгляд можно сказать, что аномальные значения имеются в столбцах про потолки и цены квартир\n",
    "\n",
    "также интересно почему у балконов тип данных float, вряд ли существуют квартиры с половиной балкона"
   ]
  },
  {
   "cell_type": "markdown",
   "metadata": {},
   "source": [
    "### Предобработка данных"
   ]
  },
  {
   "cell_type": "code",
   "execution_count": 5,
   "metadata": {},
   "outputs": [
    {
     "data": {
      "text/plain": [
       "total_images                0\n",
       "last_price                  0\n",
       "total_area                  0\n",
       "first_day_exposition        0\n",
       "rooms                       0\n",
       "ceiling_height           9195\n",
       "floors_total               86\n",
       "living_area              1903\n",
       "floor                       0\n",
       "is_apartment            20924\n",
       "studio                      0\n",
       "open_plan                   0\n",
       "kitchen_area             2278\n",
       "balcony                 11519\n",
       "locality_name              49\n",
       "airports_nearest         5542\n",
       "cityCenters_nearest      5519\n",
       "parks_around3000         5518\n",
       "parks_nearest           15620\n",
       "ponds_around3000         5518\n",
       "ponds_nearest           14589\n",
       "days_exposition          3181\n",
       "dtype: int64"
      ]
     },
     "execution_count": 5,
     "metadata": {},
     "output_type": "execute_result"
    }
   ],
   "source": [
    "data.isna().sum()"
   ]
  },
  {
   "cell_type": "markdown",
   "metadata": {},
   "source": []
  },
  {
   "cell_type": "markdown",
   "metadata": {},
   "source": [
    "начнём с простых пропусков, где по логике просто нет этого объекта (балкона, парка, водоёма или не являются апартаментами) и поэтому стоит \"пустота\"\n",
    "\n",
    "логично, что если нет парка иль водоёма, то и расстояние до него посчитать нельзя. расстояние до аэропорта и центра вычислить тоже не получится, так как вручную самому искать где находятся 5 тысяч квартир и заполнять пропуска — пагубное дело\n",
    "\n",
    "расстояние до парка, водоёма, аэропорта и центра просто неизвестно, поэтому пропуски не стоит трогать\n",
    "\n",
    "пропуски в days_exposition, думаю, вообще не стоит трогать, так как уж сликшом много факторов влияют на эти значения от этажа до количества парков\n",
    "\n",
    "название населенного пункта узнать не получится, поэтому просто заполним \"неизвестно\"\n",
    "\n",
    "отсутствие этажа, конечно, проблема, но избавляться от почти 100 квартир из-за этого не стоит, они ещё могут помочь в дальнейших исследованиях"
   ]
  },
  {
   "cell_type": "code",
   "execution_count": 6,
   "metadata": {},
   "outputs": [],
   "source": [
    "#data['balcony'] = data['balcony'].fillna(0)\n",
    "data = data.fillna({'is_apartment':0, 'balcony':0, 'ponds_around3000':0, 'parks_around3000':0})\n",
    "data['locality_name'] = data['locality_name'].fillna('неизвестно')"
   ]
  },
  {
   "cell_type": "markdown",
   "metadata": {},
   "source": [
    "апартаменты по условию имеют булевый тип, а количество балконов, этажей, парков и водоёмов не может быть половинчатым"
   ]
  },
  {
   "cell_type": "code",
   "execution_count": 7,
   "metadata": {},
   "outputs": [],
   "source": [
    "#data['is_apartment'] = data['is_apartment'].astype('bool')\n",
    "data = data.astype({'is_apartment':'bool', 'balcony':'int64', 'ponds_around3000':'int64', 'parks_around3000':'int64'})\n",
    "data['floors_total'] = pd.array(data['floors_total'], dtype=pd.Int64Dtype())"
   ]
  },
  {
   "cell_type": "markdown",
   "metadata": {},
   "source": [
    "чаще всего жилая площадь и кухня зависят от количества комнат, поэтому пропуски в этих столбцах заполняем медианой по соответсвующим критериям\n",
    "\n",
    "*конечно, существуют однушки с кухней в 40 квадратных метров, но это скорее исключение, чем норма)*"
   ]
  },
  {
   "cell_type": "code",
   "execution_count": 8,
   "metadata": {},
   "outputs": [],
   "source": [
    "live = data.groupby('rooms')['living_area'].median()\n",
    "for j in live.index.to_list():\n",
    "    data.loc[data['rooms'] == j,'living_area'] = \\\n",
    "    data.loc[data['rooms'] == j,'living_area'].fillna(live[j])"
   ]
  },
  {
   "cell_type": "code",
   "execution_count": 9,
   "metadata": {},
   "outputs": [],
   "source": [
    "food = data.groupby('rooms')['kitchen_area'].median()\n",
    "for j in food.index.to_list():\n",
    "    data.loc[data['rooms'] == j,'kitchen_area'] = \\\n",
    "    data.loc[data['rooms'] == j,'kitchen_area'].fillna(food[j])"
   ]
  },
  {
   "cell_type": "markdown",
   "metadata": {},
   "source": [
    "прежде чем заполнять высоту потолков, стоит убрать в этом столбце значение потолков равное 10, 10.3 и 14 (это половина длины товарного вагона), а также 1 (это рост ребенка 4-5 лет), и значения больше 19 поделить на 10, чтоб получить метровые значения\n",
    "\n",
    "заполнять будем медианой, так как есть слишком большой разброс по данным (такая же логика была с размеров жилой площади и кухни)"
   ]
  },
  {
   "cell_type": "code",
   "execution_count": 10,
   "metadata": {},
   "outputs": [
    {
     "data": {
      "text/plain": [
       "array([  2.7 ,    nan,   3.03,   2.5 ,   2.67,   2.56,   3.05,   2.75,\n",
       "         2.6 ,   2.9 ,   2.8 ,   2.55,   3.  ,   2.65,   3.2 ,   2.61,\n",
       "         3.25,   3.45,   2.77,   2.85,   2.64,   2.57,   4.15,   3.5 ,\n",
       "         3.3 ,   2.71,   4.  ,   2.47,   2.73,   2.84,   3.1 ,   2.34,\n",
       "         3.4 ,   3.06,   2.72,   2.54,   2.51,   2.78,   2.76,  25.  ,\n",
       "         2.58,   3.7 ,   2.52,   5.2 ,   2.87,   2.66,   2.59,   2.  ,\n",
       "         2.45,   3.6 ,   2.92,   3.11,   3.13,   3.8 ,   3.15,   3.55,\n",
       "         3.16,   3.62,   3.12,   2.53,   2.74,   2.96,   2.46,   5.3 ,\n",
       "         5.  ,   2.79,   2.95,   4.06,   2.94,   3.82,   3.54,   3.53,\n",
       "         2.83,   4.7 ,   2.4 ,   3.38,   3.01,   5.6 ,   3.65,   3.9 ,\n",
       "         3.18,   3.35,   2.3 ,   3.57,   2.48,   2.62,   2.82,   3.98,\n",
       "         2.63,   3.83,   3.52,   3.95,   3.75,   2.88,   3.67,   3.87,\n",
       "         3.66,   3.85,   3.86,   4.19,   3.24,   4.8 ,   4.5 ,   4.2 ,\n",
       "         3.36,  32.  ,   3.08,   3.68,   3.07,   3.37,   3.09,   8.  ,\n",
       "         3.26,   3.34,   2.81,   3.44,   2.97,   3.14,   4.37,   2.68,\n",
       "         3.22,   3.27,  27.  ,   4.1 ,   2.93,   3.46,  24.  ,   3.47,\n",
       "         3.33,   3.63,   3.32,  26.  ,   1.2 ,   8.3 ,   2.98,   2.86,\n",
       "         3.17,   4.4 ,   3.28,   3.04,   4.45,   5.5 ,   3.84,   3.23,\n",
       "         3.02,   3.21,   3.43,   3.78,   4.3 ,   3.39,   2.69,   3.31,\n",
       "         4.65,   3.56,   2.2 ,   3.51,   3.93,   3.42,   2.99,   3.49,\n",
       "        14.  ,   4.14,   2.91,   3.88,   1.75,   4.25,   3.29,  20.  ,\n",
       "         2.25,   3.76,   3.69,   6.  ,  22.6 ,   2.89,   3.58,   5.8 ,\n",
       "        27.5 ,   2.49,   4.9 ,   3.48,  10.3 ,   1.  , 100.  ,   3.59])"
      ]
     },
     "execution_count": 10,
     "metadata": {},
     "output_type": "execute_result"
    }
   ],
   "source": [
    "data['ceiling_height'].unique()"
   ]
  },
  {
   "cell_type": "code",
   "execution_count": 11,
   "metadata": {},
   "outputs": [],
   "source": [
    "data['ceiling_height'] = data['ceiling_height'].where(data['ceiling_height']<19, data['ceiling_height']/10)\n",
    "data.drop([22869, 22309, 15061, 22590], axis=0, inplace=True)"
   ]
  },
  {
   "cell_type": "code",
   "execution_count": 12,
   "metadata": {},
   "outputs": [],
   "source": [
    "data['ceiling_height'] = data['ceiling_height'].fillna(data['ceiling_height'].median())"
   ]
  },
  {
   "cell_type": "markdown",
   "metadata": {},
   "source": [
    "#### Избавление от аномалий в столбцах 'rooms', 'last_price', 'total_area'\n",
    "\n",
    "теперь проверим на аномалии другие столбцы"
   ]
  },
  {
   "cell_type": "code",
   "execution_count": 13,
   "metadata": {},
   "outputs": [
    {
     "data": {
      "text/plain": [
       "array([ 3,  1,  2,  4,  5,  6,  0,  7, 11,  8, 14, 10, 15,  9, 19, 16, 12])"
      ]
     },
     "execution_count": 13,
     "metadata": {},
     "output_type": "execute_result"
    }
   ],
   "source": [
    "data['rooms'].unique()"
   ]
  },
  {
   "cell_type": "markdown",
   "metadata": {},
   "source": [
    "квартира с нулями комнат? звучит странно, но если на них посмотреть то можно предположить, что это квартиры с одной комнатой\n",
    "\n",
    "ещё стоит избавится от черезмерно большого количества комнат"
   ]
  },
  {
   "cell_type": "code",
   "execution_count": 14,
   "metadata": {},
   "outputs": [],
   "source": [
    "data.loc[data['rooms']==0, 'rooms'] = 1\n",
    "data.drop(data[data['rooms']>7].index, inplace=True)"
   ]
  },
  {
   "cell_type": "markdown",
   "metadata": {},
   "source": [
    "квартира за 763 миллиона и 12 тысяч, что ты выберешь?\n",
    "\n",
    "придётся убрать аномально большие и аномально меленькие значение, всё что меньше 2 миллионов и всё что больше 40 миллионов придётся искоренить"
   ]
  },
  {
   "cell_type": "code",
   "execution_count": 15,
   "metadata": {},
   "outputs": [
    {
     "data": {
      "text/plain": [
       "8793         12190.0\n",
       "17456       430000.0\n",
       "14911       430000.0\n",
       "16274       440000.0\n",
       "17676       450000.0\n",
       "            ...     \n",
       "22831    289238400.0\n",
       "15651    300000000.0\n",
       "1436     330000000.0\n",
       "14706    401300000.0\n",
       "12971    763000000.0\n",
       "Name: last_price, Length: 23664, dtype: float64"
      ]
     },
     "execution_count": 15,
     "metadata": {},
     "output_type": "execute_result"
    }
   ],
   "source": [
    "data['last_price'].sort_values()"
   ]
  },
  {
   "cell_type": "code",
   "execution_count": 16,
   "metadata": {},
   "outputs": [],
   "source": [
    "data.drop(data[data['last_price']>40000001].index, inplace=True)\n",
    "data.drop(data[data['last_price']<2000001].index, inplace=True)"
   ]
  },
  {
   "cell_type": "markdown",
   "metadata": {},
   "source": [
    "квартиры больше 300 кв.метров являются аномальными значениями"
   ]
  },
  {
   "cell_type": "code",
   "execution_count": 17,
   "metadata": {},
   "outputs": [
    {
     "data": {
      "text/plain": [
       "19904     12.00\n",
       "19807     13.00\n",
       "8886      15.50\n",
       "9412      16.00\n",
       "22356     17.20\n",
       "          ...  \n",
       "5873     400.00\n",
       "22131    422.20\n",
       "3676     441.98\n",
       "20273    460.80\n",
       "6221     470.30\n",
       "Name: total_area, Length: 22038, dtype: float64"
      ]
     },
     "execution_count": 17,
     "metadata": {},
     "output_type": "execute_result"
    }
   ],
   "source": [
    "data['total_area'].sort_values()"
   ]
  },
  {
   "cell_type": "code",
   "execution_count": 18,
   "metadata": {},
   "outputs": [],
   "source": [
    "data.drop(data[data['total_area']>300].index, inplace=True)"
   ]
  },
  {
   "cell_type": "markdown",
   "metadata": {},
   "source": [
    "#### Выявление неявных дубликатов в слобце 'locality_name'\n",
    "\n",
    "а теперь пора приступить к выявлению неявных дубликатов и избавлению от них\n",
    "\n",
    "посёлок и в Африке посёлок"
   ]
  },
  {
   "cell_type": "code",
   "execution_count": 19,
   "metadata": {},
   "outputs": [
    {
     "data": {
      "text/plain": [
       "array(['Санкт-Петербург', 'посёлок Шушары', 'городской посёлок Янино-1',\n",
       "       'посёлок Парголово', 'посёлок Мурино', 'Ломоносов', 'Сертолово',\n",
       "       'Петергоф', 'Пушкин', 'деревня Кудрово', 'Коммунар', 'Колпино',\n",
       "       'Гатчина', 'поселок Мурино', 'деревня Фёдоровское', 'Выборг',\n",
       "       'Кронштадт', 'Кировск', 'деревня Новое Девяткино',\n",
       "       'посёлок Металлострой', 'посёлок городского типа Сиверский',\n",
       "       'поселок Молодцово', 'поселок городского типа Кузьмоловский',\n",
       "       'садовое товарищество Новая Ропша', 'Павловск',\n",
       "       'деревня Пикколово', 'Всеволожск', 'Волхов', 'Кингисепп',\n",
       "       'Приозерск', 'Сестрорецк', 'деревня Куттузи', 'посёлок Аннино',\n",
       "       'посёлок Плодовое', 'деревня Заклинье', 'поселок Первомайское',\n",
       "       'Красное Село', 'посёлок Понтонный', 'деревня Старая',\n",
       "       'деревня Лесколово', 'посёлок Новый Свет', 'село Путилово',\n",
       "       'Мурино', 'Ивангород', 'Шлиссельбург', 'Никольское', 'Зеленогорск',\n",
       "       'Сосновый Бор', 'поселок Новый Свет', 'деревня Оржицы',\n",
       "       'деревня Кальтино', 'Кудрово', 'поселок Романовка',\n",
       "       'посёлок Бугры', 'поселок Бугры', 'поселок городского типа Рощино',\n",
       "       'посёлок городского типа Лебяжье', 'Отрадное', 'Волосово',\n",
       "       'посёлок Молодёжное', 'Тихвин', 'деревня Нурма', 'Тосно',\n",
       "       'посёлок городского типа Кузьмоловский', 'посёлок Стрельна',\n",
       "       'посёлок Александровская', 'поселок Терволово', 'Подпорожье',\n",
       "       'посёлок городского типа Токсово', 'деревня Кипень',\n",
       "       'деревня Вартемяги', 'посёлок Тельмана', 'неизвестно',\n",
       "       'посёлок Новогорелово', 'деревня Лаголово', 'поселок Цвелодубово',\n",
       "       'деревня Белогорка', 'городской посёлок Новоселье',\n",
       "       'деревня Большие Колпаны', 'деревня Горбунки', 'Кириши',\n",
       "       'деревня Заневка', 'городской посёлок Фёдоровское',\n",
       "       'деревня Мистолово', 'Новая Ладога',\n",
       "       'поселок городского типа имени Свердлова', 'деревня Пеники',\n",
       "       'деревня Бегуницы', 'поселок городского типа Синявино',\n",
       "       'деревня Колтуши', 'посёлок городского типа Рощино',\n",
       "       'деревня Низино', 'деревня Гостилицы', 'деревня Малое Карлино',\n",
       "       'посёлок городского типа имени Морозова', 'посёлок Песочный',\n",
       "       'посёлок Сосново', 'деревня Аро', 'поселок Ильичёво',\n",
       "       'посёлок городского типа Тайцы', 'деревня Малое Верево',\n",
       "       'посёлок городского типа Ульяновка',\n",
       "       'поселок городского типа Дубровка', 'поселок Войсковицы',\n",
       "       'посёлок городского типа имени Свердлова', 'посёлок Ропша',\n",
       "       'поселок городского типа Приладожский', 'деревня Кузьмолово',\n",
       "       'поселок Тельмана', 'посёлок Репино', 'село Павлово',\n",
       "       'городской посёлок Павлово', 'Луга', 'поселок Углово',\n",
       "       'поселок Старая Малукса', 'поселок Аннино', 'посёлок Щеглово',\n",
       "       'поселок Победа', 'посёлок Сапёрный', 'Сясьстрой',\n",
       "       'поселок Запорожское', 'поселок городского типа Рахья',\n",
       "       'деревня Юкки', 'поселок станции Приветнинское',\n",
       "       'поселок городского типа Вырица', 'Светогорск',\n",
       "       'городской посёлок Мга', 'Любань',\n",
       "       'посёлок городского типа Красный Бор',\n",
       "       'городской поселок Большая Ижора', 'деревня Кривко',\n",
       "       'деревня Парицы', 'городской поселок Янино-1', 'деревня Агалатово',\n",
       "       'поселок Стеклянный', 'посёлок Пудость', 'село Русско-Высоцкое',\n",
       "       'поселок городского типа Форносово', 'посёлок Ильичёво',\n",
       "       'посёлок Терволово', 'поселок Семрино',\n",
       "       'поселок городского типа Красный Бор', 'городской посёлок Виллози',\n",
       "       'деревня Лаврики', 'поселок Поляны', 'деревня Мины',\n",
       "       'поселок станции Вещево', 'посёлок Кикерино',\n",
       "       'поселок Возрождение', 'деревня Старое Хинколово',\n",
       "       'посёлок Торфяное', 'посёлок Мичуринское', 'поселок Сельцо',\n",
       "       'поселок Суходолье', 'деревня Хапо-Ое', 'Лодейное Поле',\n",
       "       'деревня Гарболово', 'деревня Малые Колпаны', 'поселок Лисий Нос',\n",
       "       'деревня Яльгелево', 'посёлок Левашово', 'деревня Хязельки',\n",
       "       'поселок Жилгородок', 'посёлок городского типа Павлово',\n",
       "       'деревня Батово', 'городской посёлок Рощино', 'Сланцы',\n",
       "       'посёлок городского типа Вырица', 'посёлок Белоостров',\n",
       "       'поселок Лукаши', 'деревня Щеглово',\n",
       "       'поселок городского типа Советский', 'поселок Мичуринское',\n",
       "       'поселок Кингисеппский', 'поселок городского типа Токсово',\n",
       "       'деревня Новолисино', 'деревня Глинка', 'деревня Старая Пустошь',\n",
       "       'посёлок Усть-Луга', 'поселок городского типа Лебяжье',\n",
       "       'посёлок при железнодорожной станции Приветнинское', 'Пикалёво',\n",
       "       'посёлок Жилгородок', 'деревня Бор', 'деревня Келози',\n",
       "       'посёлок Лисий Нос', 'посёлок Кобралово', 'поселок Кобралово',\n",
       "       'коттеджный поселок Счастье', 'Приморск', 'поселок Лесное',\n",
       "       'поселок Барышево', 'посёлок Ленинское',\n",
       "       'посёлок городского типа Форносово', 'деревня Нижние Осельки',\n",
       "       'поселок Перово', 'поселок Селезнёво', 'село Копорье',\n",
       "       'поселок Петровское', 'деревня Пудомяги', 'посёлок Поляны',\n",
       "       'поселок Котельский', 'поселок Коробицыно', 'деревня Каськово',\n",
       "       'поселок городского типа Большая Ижора', 'поселок Ушаки',\n",
       "       'посёлок Суйда', 'посёлок Стеклянный', 'деревня Терпилицы',\n",
       "       'деревня Ваганово', 'поселок Пушное', 'посёлок Усть-Ижора',\n",
       "       'деревня Лопухинка', 'посёлок Высокоключевой',\n",
       "       'садовое товарищество Приладожский', 'деревня Ненимяки',\n",
       "       'деревня Снегирёвка', 'посёлок станции Громово',\n",
       "       'поселок Гарболово', 'городской посёлок Будогощь',\n",
       "       'городской посёлок Назия', 'посёлок Войскорово',\n",
       "       'городской посёлок Советский', 'деревня Лупполово',\n",
       "       'деревня Сяськелево', 'деревня Большое Рейзино', 'посёлок Перово',\n",
       "       'деревня Нижняя', 'коттеджный посёлок Лесное', 'деревня Лампово',\n",
       "       'поселок Любань', 'посёлок Возрождение', 'посёлок Дзержинского',\n",
       "       'село Рождествено'], dtype=object)"
      ]
     },
     "execution_count": 19,
     "metadata": {},
     "output_type": "execute_result"
    }
   ],
   "source": [
    "data['locality_name'].unique()"
   ]
  },
  {
   "cell_type": "code",
   "execution_count": 20,
   "metadata": {},
   "outputs": [],
   "source": [
    "duple = ['городской посёлок', 'городской поселок', 'поселок городского типа', 'посёлок городского типа', 'поселок', 'коттеджный посёлок']\n",
    "data['locality_name'] = data['locality_name'].replace(duple, 'посёлок', regex=True)"
   ]
  },
  {
   "cell_type": "markdown",
   "metadata": {},
   "source": [
    "### Посчитайте и добавьте в таблицу новые столбцы"
   ]
  },
  {
   "cell_type": "markdown",
   "metadata": {},
   "source": [
    "начнём со создания столбца с ценной одного квадратного метра ('one_metr')"
   ]
  },
  {
   "cell_type": "code",
   "execution_count": 21,
   "metadata": {},
   "outputs": [],
   "source": [
    "data['one_metr'] = round(data['last_price']/data['total_area'])"
   ]
  },
  {
   "cell_type": "markdown",
   "metadata": {},
   "source": [
    "теперь день недели публикации('day')"
   ]
  },
  {
   "cell_type": "code",
   "execution_count": 22,
   "metadata": {},
   "outputs": [],
   "source": [
    "data['day'] = pd.DatetimeIndex(data['first_day_exposition']).weekday"
   ]
  },
  {
   "cell_type": "markdown",
   "metadata": {},
   "source": [
    "а тут месяц публикации ('month')"
   ]
  },
  {
   "cell_type": "code",
   "execution_count": 23,
   "metadata": {},
   "outputs": [],
   "source": [
    "data['month'] = pd.DatetimeIndex(data['first_day_exposition']).month"
   ]
  },
  {
   "cell_type": "markdown",
   "metadata": {},
   "source": [
    "и год ('year'), и этажи ('floor_numder'), и расстояние до центра в киллометрах ('city_center_km')"
   ]
  },
  {
   "cell_type": "code",
   "execution_count": 24,
   "metadata": {},
   "outputs": [],
   "source": [
    "data['year'] = pd.DatetimeIndex(data['first_day_exposition']).year"
   ]
  },
  {
   "cell_type": "code",
   "execution_count": 25,
   "metadata": {},
   "outputs": [],
   "source": [
    "def floor_type(row):\n",
    "    floor = row['floor']\n",
    "    floors_total = row['floors_total']\n",
    "    try:\n",
    "        if floor == 1:\n",
    "            return 'первый'\n",
    "        elif floor == floors_total:\n",
    "            return 'последний'\n",
    "    except:\n",
    "        return 'другой'\n",
    "    \n",
    "data['floor_numder'] = data.apply(floor_type, axis=1)\n",
    "data.loc[(data['floor_numder']!='последний')&(data['floor_numder']!='первый'), 'floor_numder'] = 'другой'"
   ]
  },
  {
   "cell_type": "code",
   "execution_count": 26,
   "metadata": {},
   "outputs": [],
   "source": [
    "data['city_center_km'] = round(data['cityCenters_nearest']/1000)"
   ]
  },
  {
   "cell_type": "markdown",
   "metadata": {},
   "source": [
    "### Проведите исследовательский анализ данных"
   ]
  },
  {
   "cell_type": "markdown",
   "metadata": {},
   "source": [
    "#### Изучите следующие параметры объектов:\n",
    "\n",
    "    ● квартир с общей площадью примерно 45-50 больше всего на рынке"
   ]
  },
  {
   "cell_type": "code",
   "execution_count": 27,
   "metadata": {},
   "outputs": [
    {
     "data": {
      "image/png": "[encoded data removed]",
      "text/plain": [
       "<Figure size 360x360 with 1 Axes>"
      ]
     },
     "metadata": {
      "needs_background": "light"
     },
     "output_type": "display_data"
    }
   ],
   "source": [
    "data['total_area'].plot(kind='hist', grid=True, bins=30, figsize=(5, 5), legend=True, title='Общая площадь');"
   ]
  },
  {
   "cell_type": "markdown",
   "metadata": {},
   "source": [
    "    ● квартиры с жилой площадью 25-30 преобладают на рынке"
   ]
  },
  {
   "cell_type": "code",
   "execution_count": 28,
   "metadata": {},
   "outputs": [
    {
     "data": {
      "image/png": "[encoded data removed]",
      "text/plain": [
       "<Figure size 360x360 with 1 Axes>"
      ]
     },
     "metadata": {
      "needs_background": "light"
     },
     "output_type": "display_data"
    }
   ],
   "source": [
    "data['living_area'].plot(kind='hist', grid=True, bins=30, figsize=(5, 5), legend=True, title='Жилая площадь');"
   ]
  },
  {
   "cell_type": "markdown",
   "metadata": {},
   "source": [
    "    ● а вот кухни площадью 8-10 явно встречаются во многих квартирах"
   ]
  },
  {
   "cell_type": "code",
   "execution_count": 29,
   "metadata": {},
   "outputs": [
    {
     "data": {
      "image/png": "[encoded data removed]",
      "text/plain": [
       "<Figure size 360x360 with 1 Axes>"
      ]
     },
     "metadata": {
      "needs_background": "light"
     },
     "output_type": "display_data"
    }
   ],
   "source": [
    "data['kitchen_area'].plot(kind='hist', grid=True, bins=30, figsize=(5, 5), legend=True, title='Площадь кухни');"
   ]
  },
  {
   "cell_type": "markdown",
   "metadata": {},
   "source": [
    "    ● чаще всего продаются квартиры с ценником от 3.5 до 5 миллионов"
   ]
  },
  {
   "cell_type": "code",
   "execution_count": 30,
   "metadata": {},
   "outputs": [
    {
     "data": {
      "image/png": "[encoded data removed]",
      "text/plain": [
       "<Figure size 360x360 with 1 Axes>"
      ]
     },
     "metadata": {
      "needs_background": "light"
     },
     "output_type": "display_data"
    }
   ],
   "source": [
    "data['last_price'].hist(bins=30, figsize=(5, 5), legend=True, range=(0,40000000));"
   ]
  },
  {
   "cell_type": "markdown",
   "metadata": {},
   "source": [
    "    ● однушки являются самыми часто встречаемыми, но двушки их догоняют, всего какая-то пара сотен квартир осталась)"
   ]
  },
  {
   "cell_type": "code",
   "execution_count": 31,
   "metadata": {},
   "outputs": [
    {
     "data": {
      "image/png": "[encoded data removed]",
      "text/plain": [
       "<Figure size 360x360 with 1 Axes>"
      ]
     },
     "metadata": {
      "needs_background": "light"
     },
     "output_type": "display_data"
    }
   ],
   "source": [
    "data['rooms'].plot(kind='hist', grid=True, bins=30, figsize=(5, 5), legend=True, title='Количество комнат');"
   ]
  },
  {
   "cell_type": "markdown",
   "metadata": {},
   "source": [
    "    ● а вот потолки в где-то 2,5 метров не обгонит никто"
   ]
  },
  {
   "cell_type": "code",
   "execution_count": 32,
   "metadata": {},
   "outputs": [
    {
     "data": {
      "image/png": "[encoded data removed]",
      "text/plain": [
       "<Figure size 360x360 with 1 Axes>"
      ]
     },
     "metadata": {
      "needs_background": "light"
     },
     "output_type": "display_data"
    }
   ],
   "source": [
    "data['ceiling_height'].plot(kind='hist', grid=True, bins=30, figsize=(5, 5), legend=True, title='Высота потолков');"
   ]
  },
  {
   "cell_type": "markdown",
   "metadata": {},
   "source": [
    "    ● первый этаж самый частый, говорят, он ещё бывает и самый дешевый"
   ]
  },
  {
   "cell_type": "code",
   "execution_count": 33,
   "metadata": {},
   "outputs": [
    {
     "data": {
      "image/png": "[encoded data removed]",
      "text/plain": [
       "<Figure size 360x360 with 1 Axes>"
      ]
     },
     "metadata": {
      "needs_background": "light"
     },
     "output_type": "display_data"
    }
   ],
   "source": [
    "data['floor'].plot(kind='hist', grid=True, bins=30, figsize=(5, 5), legend=True, title='Этаж квартиры');"
   ]
  },
  {
   "cell_type": "markdown",
   "metadata": {},
   "source": [
    "    ● в целом ожидаемо, что \"другие\" этажи преобладают"
   ]
  },
  {
   "cell_type": "code",
   "execution_count": 34,
   "metadata": {},
   "outputs": [
    {
     "data": {
      "image/png": "[encoded data removed]",
      "text/plain": [
       "<Figure size 360x360 with 1 Axes>"
      ]
     },
     "metadata": {
      "needs_background": "light"
     },
     "output_type": "display_data"
    }
   ],
   "source": [
    "a = data['floor_numder'].hist(bins=30, figsize=(5, 5), legend=True)\n",
    "a.set_title('Этажи');"
   ]
  },
  {
   "cell_type": "markdown",
   "metadata": {},
   "source": [
    "    ● похоже квартиры в домиках с 5-6 этажами самые частые"
   ]
  },
  {
   "cell_type": "code",
   "execution_count": 35,
   "metadata": {},
   "outputs": [
    {
     "data": {
      "image/png": "[encoded data removed]",
      "text/plain": [
       "<Figure size 360x360 with 1 Axes>"
      ]
     },
     "metadata": {
      "needs_background": "light"
     },
     "output_type": "display_data"
    }
   ],
   "source": [
    "data['floors_total'].plot(kind='hist', grid=True, bins=30, figsize=(5, 5), legend=True, title='Кол-во этажей в доме');"
   ]
  },
  {
   "cell_type": "markdown",
   "metadata": {},
   "source": [
    "    ● чаще всего квартиры находят от центра в 12-13 км, звучит очень даже близко"
   ]
  },
  {
   "cell_type": "code",
   "execution_count": 36,
   "metadata": {},
   "outputs": [
    {
     "data": {
      "image/png": "[encoded data removed]",
      "text/plain": [
       "<Figure size 360x360 with 1 Axes>"
      ]
     },
     "metadata": {
      "needs_background": "light"
     },
     "output_type": "display_data"
    }
   ],
   "source": [
    "data['cityCenters_nearest'].plot(kind='hist', grid=True, bins=30, figsize=(5, 5), legend=True, title='Расстояние до центра');"
   ]
  },
  {
   "cell_type": "markdown",
   "metadata": {},
   "source": [
    "    ● а вот до аэропорта придётся ехать чаще всего от 21 км"
   ]
  },
  {
   "cell_type": "code",
   "execution_count": 37,
   "metadata": {},
   "outputs": [
    {
     "data": {
      "image/png": "[encoded data removed]",
      "text/plain": [
       "<Figure size 360x360 with 1 Axes>"
      ]
     },
     "metadata": {
      "needs_background": "light"
     },
     "output_type": "display_data"
    }
   ],
   "source": [
    "data['airports_nearest'].plot(kind='hist', grid=True, bins=30, figsize=(5, 5), legend=True, title='Расстояние до аэропорта');"
   ]
  },
  {
   "cell_type": "markdown",
   "metadata": {},
   "source": [
    "    ● многим квартирам повезло с близостью к паркам, всего-то нужно пройти 500 метров"
   ]
  },
  {
   "cell_type": "code",
   "execution_count": 38,
   "metadata": {},
   "outputs": [
    {
     "data": {
      "image/png": "[encoded data removed]",
      "text/plain": [
       "<Figure size 360x360 with 1 Axes>"
      ]
     },
     "metadata": {
      "needs_background": "light"
     },
     "output_type": "display_data"
    }
   ],
   "source": [
    "data['parks_nearest'].plot(kind='hist', grid=True, bins=30, figsize=(5, 5), legend=True, title='Расстояние до парка');"
   ]
  },
  {
   "cell_type": "markdown",
   "metadata": {},
   "source": [
    "    ● чаще всего объявление выкладывают в четверг, а вот реже всего в воскресенье\n",
    "\n",
    "    рост объявлений приходится на январь, а самый большой спад в мае"
   ]
  },
  {
   "cell_type": "code",
   "execution_count": 39,
   "metadata": {},
   "outputs": [
    {
     "data": {
      "image/png": "[encoded data removed]",
      "text/plain": [
       "<Figure size 432x288 with 2 Axes>"
      ]
     },
     "metadata": {
      "needs_background": "light"
     },
     "output_type": "display_data"
    }
   ],
   "source": [
    "data.loc[:, 'day':'month'].hist();"
   ]
  },
  {
   "cell_type": "code",
   "execution_count": 40,
   "metadata": {},
   "outputs": [
    {
     "name": "stdout",
     "output_type": "stream",
     "text": [
      "среднее: 180 медиана: 95.0\n",
      "мин.значение: 1  макс.значение: 1580.0\n"
     ]
    },
    {
     "data": {
      "image/png": "[encoded data removed]",
      "text/plain": [
       "<Figure size 432x288 with 1 Axes>"
      ]
     },
     "metadata": {
      "needs_background": "light"
     },
     "output_type": "display_data"
    }
   ],
   "source": [
    "df = data['days_exposition'].hist(legend=True)\n",
    "df.set_title('Количество дней продажи');\n",
    "print(\"среднее:\" ,round(data['days_exposition'].mean()),\"медиана:\", data['days_exposition'].median())\n",
    "print(\"мин.значение:\" ,round(data['days_exposition'].min()),\" макс.значение:\", data['days_exposition'].max())"
   ]
  },
  {
   "cell_type": "markdown",
   "metadata": {},
   "source": [
    "#### Какие факторы больше всего влияют на полную стоимость объекта?\n",
    "##### Зависимость от площадей "
   ]
  },
  {
   "cell_type": "code",
   "execution_count": 41,
   "metadata": {},
   "outputs": [
    {
     "data": {
      "image/png": "[encoded data removed]",
      "text/plain": [
       "<Figure size 432x288 with 1 Axes>"
      ]
     },
     "metadata": {
      "needs_background": "light"
     },
     "output_type": "display_data"
    }
   ],
   "source": [
    "piv_price = data.pivot_table(index='last_price' , values=['living_area', 'total_area', 'kitchen_area'], aggfunc='mean')\n",
    "def sc_table(data, name, color, title, x, y):\n",
    "    plt.scatter(x = data[name], y = data.index, c=color, alpha=0.3)\n",
    "    plt.title(title)\n",
    "    plt.xlabel(x)\n",
    "    plt.ylabel(y)\n",
    "sc_table(piv_price, 'total_area', 'green', 'Зависимость цены от общей площади', 'Общая площадь', 'Цена')"
   ]
  },
  {
   "cell_type": "code",
   "execution_count": 42,
   "metadata": {},
   "outputs": [
    {
     "data": {
      "image/png": "[encoded data removed]",
      "text/plain": [
       "<Figure size 432x288 with 1 Axes>"
      ]
     },
     "metadata": {
      "needs_background": "light"
     },
     "output_type": "display_data"
    }
   ],
   "source": [
    "sc_table(piv_price, 'living_area', '#b11fe0', 'Зависимость цены от жилой площади', 'Жилая площадь', 'Цена')"
   ]
  },
  {
   "cell_type": "code",
   "execution_count": 43,
   "metadata": {},
   "outputs": [
    {
     "data": {
      "image/png": "[encoded data removed]",
      "text/plain": [
       "<Figure size 432x288 with 1 Axes>"
      ]
     },
     "metadata": {
      "needs_background": "light"
     },
     "output_type": "display_data"
    }
   ],
   "source": [
    "sc_table(piv_price, 'kitchen_area', '#e6be19', 'Зависимость цены от площади кухни', 'Площадь кухни', 'Цена')"
   ]
  },
  {
   "cell_type": "code",
   "execution_count": 44,
   "metadata": {},
   "outputs": [
    {
     "name": "stdout",
     "output_type": "stream",
     "text": [
      "Коэффициент Пирсона общей площади: 0.7856695117018931\n",
      "Коэффициент Пирсона жилой площади: 0.6619447520454302\n",
      "Коэффициент Пирсона площади кухни: 0.5664297686339221\n"
     ]
    }
   ],
   "source": [
    "print('Коэффициент Пирсона общей площади:', data['last_price'].corr(data['total_area']))\n",
    "print('Коэффициент Пирсона жилой площади:', data['last_price'].corr(data['living_area']))\n",
    "print('Коэффициент Пирсона площади кухни:', data['last_price'].corr(data['kitchen_area']))"
   ]
  },
  {
   "cell_type": "markdown",
   "metadata": {},
   "source": [
    "есть ли зависимость цены от площадей? да, это видно и по графикам и по коэффиценту Пирсона (больше всего зависимость от общей площади), чем выше любая площадь (жилая, кухни или общая), тем будет выше цена квартиры, конечно, не стоит забывать, что на цену влияет и расположение/парки и т.д., поэтому, к примеру, есть квартира с общей площадью 150 км и ценой 7-8 миллионов.\n",
    "\n",
    "##### Зависимость от дней, месяцев u годов"
   ]
  },
  {
   "cell_type": "code",
   "execution_count": 45,
   "metadata": {},
   "outputs": [
    {
     "data": {
      "image/png": "[encoded data removed]",
      "text/plain": [
       "<Figure size 432x288 with 1 Axes>"
      ]
     },
     "metadata": {
      "needs_background": "light"
     },
     "output_type": "display_data"
    }
   ],
   "source": [
    "day_price = round(data.pivot_table(index=['floor_numder'], values='last_price', aggfunc='median')).astype('int64')\n",
    "\n",
    "day_price.plot.bar(grid=True, color='#c7389b');"
   ]
  },
  {
   "cell_type": "markdown",
   "metadata": {},
   "source": [
    "если прослеживать по медианнам, то самый дешевые квартиры на первом этаже, а самый дорогие на других, зависимость присутствует"
   ]
  },
  {
   "cell_type": "code",
   "execution_count": 46,
   "metadata": {},
   "outputs": [
    {
     "data": {
      "image/png": "[encoded data removed]",
      "text/plain": [
       "<Figure size 432x288 with 1 Axes>"
      ]
     },
     "metadata": {
      "needs_background": "light"
     },
     "output_type": "display_data"
    }
   ],
   "source": [
    "day_price = round(data.pivot_table(index=['day'], values='last_price', aggfunc='median')).astype('int64')\n",
    "day_price.plot.bar(grid=True, color='#2da5d2', legend=False);"
   ]
  },
  {
   "cell_type": "markdown",
   "metadata": {},
   "source": [
    "в воскресенье публикуются меньше всего дорогих квартир, во вторник самые дорогие"
   ]
  },
  {
   "cell_type": "code",
   "execution_count": 47,
   "metadata": {},
   "outputs": [
    {
     "data": {
      "image/png": "[encoded data removed]",
      "text/plain": [
       "<Figure size 432x288 with 1 Axes>"
      ]
     },
     "metadata": {
      "needs_background": "light"
     },
     "output_type": "display_data"
    }
   ],
   "source": [
    "day_price = round(data.pivot_table(index=['month'], values='last_price', aggfunc='median')).astype('int64')\n",
    "day_price.plot.bar(grid=True, color='#d72848', legend=False);"
   ]
  },
  {
   "cell_type": "markdown",
   "metadata": {},
   "source": [
    "дороже всего квартиры, продающиеся с апреля, дешевле всего - с июня"
   ]
  },
  {
   "cell_type": "code",
   "execution_count": 48,
   "metadata": {},
   "outputs": [
    {
     "data": {
      "image/png": "[encoded data removed]",
      "text/plain": [
       "<Figure size 432x288 with 1 Axes>"
      ]
     },
     "metadata": {
      "needs_background": "light"
     },
     "output_type": "display_data"
    }
   ],
   "source": [
    "day_price = round(data.pivot_table(index=['year'], values='last_price', aggfunc='median')).astype('int64')\n",
    "day_price.plot.bar(grid=True, color='#fff200');"
   ]
  },
  {
   "cell_type": "markdown",
   "metadata": {},
   "source": [
    "наблюдается спад стоимости квартир с 2014 вплоть до 2017 и далее идёт рост"
   ]
  },
  {
   "cell_type": "markdown",
   "metadata": {},
   "source": [
    "##### Зависимость от количества комнат\n",
    "\n",
    "зависимость от числа комнат явно есть. начиная с пяти комнат уже видно как начинают преобладать дорогие квартиры, а в квартирах с одной и двумя комнатами преобладает цена от 2 млн до 15 млн"
   ]
  },
  {
   "cell_type": "code",
   "execution_count": 49,
   "metadata": {},
   "outputs": [
    {
     "data": {
      "image/png": "[encoded data removed]",
      "text/plain": [
       "<Figure size 432x288 with 1 Axes>"
      ]
     },
     "metadata": {
      "needs_background": "light"
     },
     "output_type": "display_data"
    }
   ],
   "source": [
    "data.plot(x = 'rooms', y = 'last_price', kind='scatter', grid=True, alpha=0.3, color='#ef5d10')\n",
    "plt.title('Зависимость цены от числа комнат')\n",
    "plt.xlabel('Число комнат')\n",
    "plt.ylabel('Цена');"
   ]
  },
  {
   "cell_type": "markdown",
   "metadata": {},
   "source": [
    "#### 10 населённых пунктов с наибольшим числом объявлений\n",
    "\n",
    "самый дорогой квадратный метр в Санкт-Петербурге почти 115 тысяч, да и по обвъявлениям этот город лидирующий целых 15 тысяч\n",
    "\n",
    "а вот самый дешевый квадртаный метр в село Шум всего 34 тысячи и одно объявление(\n",
    "\n",
    "но если судить по топ 10, то самый дешевый квадратный метр в Выборге 58 тысяч, что в два раза меньше Санкт-Петербурга, а объявлений всего 237, всего-то в 66 раз меньше"
   ]
  },
  {
   "cell_type": "code",
   "execution_count": 50,
   "metadata": {},
   "outputs": [
    {
     "data": {
      "image/png": "[encoded data removed]",
      "text/plain": [
       "<Figure size 432x288 with 1 Axes>"
      ]
     },
     "metadata": {
      "needs_background": "light"
     },
     "output_type": "display_data"
    }
   ],
   "source": [
    "name_table = data.groupby('locality_name')['one_metr'].agg(['count', 'mean'])# count-кол-во объявлений, mean-цена одного кв.м\n",
    "name_table.sort_values(by='count', ascending=False).head(10).plot(kind='bar', title='Топ 10 по объявлениям', grid=True);"
   ]
  },
  {
   "cell_type": "markdown",
   "metadata": {},
   "source": [
    "#### Средняя цена каждого километра в Санкт-Петербурге\n",
    "\n",
    "чем дальше квартира от центра, тем она дешевле\n",
    "\n",
    "центр заканчивается на 7-10 км"
   ]
  },
  {
   "cell_type": "code",
   "execution_count": 51,
   "metadata": {},
   "outputs": [
    {
     "data": {
      "image/png": "[encoded data removed]",
      "text/plain": [
       "<Figure size 432x288 with 1 Axes>"
      ]
     },
     "metadata": {
      "needs_background": "light"
     },
     "output_type": "display_data"
    }
   ],
   "source": [
    "cb_top = data[data['locality_name']=='Санкт-Петербург'].groupby('city_center_km')['last_price'].agg('mean')\n",
    "cb_top.plot(title='Зависимость цены от расстояния до центра', grid=True, legend=True, style='o-');"
   ]
  },
  {
   "cell_type": "markdown",
   "metadata": {},
   "source": [
    "### Общий вывод"
   ]
  },
  {
   "cell_type": "markdown",
   "metadata": {},
   "source": [
    "Избавили датафрейм от большего количества пропусков, которые скорее всего произошли либо из-за невнимательности, либо по вине неверной выгрузки, также избавились от аномалий и неявных дубликатов.\n",
    "\n",
    "Создали новые столбци со информацией о цене одного квадратного метра, дне недели, месяце и годе публикации, типе этажа квартиры и расстояние до центра города в км.\n",
    "\n",
    "- Провели анализ нескольких параметров и выяснили:\n",
    "    1. квартир с общей площадью примерно 50 больше всего на рынке\n",
    "    2. квартиры с жилой площадью 25-30 преобладают на рынке\n",
    "    3. кухни площадью 8-10 явно встречаются во многих квартирах\n",
    "    4. чаще всего продаются квартиры с ценником от 3.5 до 5 миллионов\n",
    "    5. однушки являются самыми часто встречаемыми\n",
    "    6. квартиры с потолками где-то 2,5 метров преобладают на рынке\n",
    "    7. первый этаж самый частый\n",
    "    8. преобладает тип этажей \"другие\"\n",
    "    9. квартиры в домиках с 5-6 этажами чаще всего появляются в объявлениях\n",
    "    10. чаще всего квартиры находят от центра в 12-13 км\n",
    "    11. до аэропорта придётся ехать чаще всего от 21 км\n",
    "    12. многие квартиры находятся рядом с парком в пределах 500 метров\n",
    "    13. чаще всего объявление выкладывают в четверг, а вот реже всего в воскресенье, рост объявлений приходится на январь, а самый большой спад в мае\n",
    "    \n",
    "\n",
    "- Изучили как быстро продавались квартиры:\n",
    "    1. то, что находится в диапазоне от медианы (95 дней) до среднего (181 день), можно считать достаточно быстрыми продажами\n",
    "    2. а всё что больше 400 уже долгие продажи\n",
    "    \n",
    "    \n",
    "- Изучили какие факторы больше всего влияют на полную стоимость объекта:\n",
    "    1. самый влиятельный фактор это общая площадь, а сымй невлиятельный дни\n",
    "    2. на цену также оказывают влияние количество комнат (а они оказывают влияние на саму общую площадь), тип этажа, площадь жилая и площадь кухни\n",
    "    3. в воскресенье публикуются меньше всего дорогих квартир, во вторник самые дорогие\n",
    "    4. дороже всего квартиры, продающиеся с апреля, дешевле всего - с июня\n",
    "    5. наблюдается спад стоимости квартир с 2014 вплоть до 2017 и далее идёт рост\n",
    "\n",
    "\n",
    "- Нашли 10 населенных пунктов с самым большим количеством объявлений и почситали в них цену одного кв.м:\n",
    "    1. самый дорогой квадратный метр в Санкт-Петербурге почти 115 тысяч, да и по обвъявлениям этот город лидирующий целых 15 тысяч\n",
    "    2. самый дешевый квадратный метр в Выборге 58 тысяч, что в два раза меньше Санкт-Петербурга, а объявлений всего 237, всего-то в 66 раз меньше\n",
    "    \n",
    "    \n",
    "- Изучили как отдаленность от центра (Санкт-Петербурга) влияет на цену одного кв.м:\n",
    "    1. чем дальше квартира находится от центра, тем дешевле стоимость её кв.м\n",
    "    \n",
    "    \n",
    "Подводя итоги, можно сказать, что очень многие факторы влияют на цену объекта, от метража до типа этажа. Самой бюджетной можно назвать квартиру находящиюся в 7 км от центра, можно и дальше, на первом этаже, от одной до трёх комнат и до 65 кв.м, но если хочется по-дороже то можно просто смотреть в пределах 7 км от ценрта"
   ]
  }
 ],
 "metadata": {
  "ExecuteTimeLog": [
   {
    "duration": 53,
    "start_time": "2022-11-02T10:56:02.545Z"
   },
   {
    "duration": 53,
    "start_time": "2022-11-02T10:56:19.334Z"
   },
   {
    "duration": 727,
    "start_time": "2022-11-02T10:56:24.637Z"
   },
   {
    "duration": 98,
    "start_time": "2022-11-02T10:56:47.855Z"
   },
   {
    "duration": 117,
    "start_time": "2022-11-02T10:57:54.729Z"
   },
   {
    "duration": 448,
    "start_time": "2022-11-02T10:58:01.618Z"
   },
   {
    "duration": 97,
    "start_time": "2022-11-02T10:58:35.041Z"
   },
   {
    "duration": 100,
    "start_time": "2022-11-02T11:00:16.840Z"
   },
   {
    "duration": 100,
    "start_time": "2022-11-02T11:02:57.967Z"
   },
   {
    "duration": 81,
    "start_time": "2022-11-02T11:03:15.187Z"
   },
   {
    "duration": 83,
    "start_time": "2022-11-02T11:03:22.057Z"
   },
   {
    "duration": 61,
    "start_time": "2022-11-02T11:03:51.856Z"
   },
   {
    "duration": 87,
    "start_time": "2022-11-02T11:03:55.668Z"
   },
   {
    "duration": 98,
    "start_time": "2022-11-02T11:04:04.612Z"
   },
   {
    "duration": 98,
    "start_time": "2022-11-02T11:04:54.846Z"
   },
   {
    "duration": 99,
    "start_time": "2022-11-02T11:05:11.120Z"
   },
   {
    "duration": 2134,
    "start_time": "2022-11-02T11:05:41.950Z"
   },
   {
    "duration": 10,
    "start_time": "2022-11-02T11:06:45.559Z"
   },
   {
    "duration": 138,
    "start_time": "2022-11-02T11:08:38.954Z"
   },
   {
    "duration": 95,
    "start_time": "2022-11-02T11:08:52.148Z"
   },
   {
    "duration": 2174,
    "start_time": "2022-11-02T11:08:59.712Z"
   },
   {
    "duration": 46,
    "start_time": "2022-11-16T15:53:37.383Z"
   },
   {
    "duration": 2963,
    "start_time": "2022-11-16T15:53:45.655Z"
   },
   {
    "duration": 10,
    "start_time": "2022-11-16T15:53:52.405Z"
   },
   {
    "duration": 5,
    "start_time": "2022-11-16T15:53:55.722Z"
   },
   {
    "duration": 19,
    "start_time": "2022-11-16T15:54:08.794Z"
   },
   {
    "duration": 10,
    "start_time": "2022-11-16T15:54:24.785Z"
   },
   {
    "duration": 4,
    "start_time": "2022-11-16T15:54:35.108Z"
   },
   {
    "duration": 6,
    "start_time": "2022-11-16T15:56:05.730Z"
   },
   {
    "duration": 1198,
    "start_time": "2022-11-16T15:58:49.855Z"
   },
   {
    "duration": 16,
    "start_time": "2022-11-16T15:59:21.110Z"
   },
   {
    "duration": 21,
    "start_time": "2022-11-16T16:00:08.594Z"
   },
   {
    "duration": 23,
    "start_time": "2022-11-16T16:00:34.442Z"
   },
   {
    "duration": 3025,
    "start_time": "2022-11-16T16:00:52.741Z"
   },
   {
    "duration": 11,
    "start_time": "2022-11-16T16:00:59.701Z"
   },
   {
    "duration": 17,
    "start_time": "2022-11-16T16:01:03.795Z"
   },
   {
    "duration": 17,
    "start_time": "2022-11-16T16:01:11.856Z"
   },
   {
    "duration": 23,
    "start_time": "2022-11-16T16:03:53.834Z"
   },
   {
    "duration": 11,
    "start_time": "2022-11-16T16:04:13.030Z"
   },
   {
    "duration": 10,
    "start_time": "2022-11-16T16:09:00.331Z"
   },
   {
    "duration": 15,
    "start_time": "2022-11-16T16:13:54.184Z"
   },
   {
    "duration": 6,
    "start_time": "2022-11-16T16:19:04.802Z"
   },
   {
    "duration": 6,
    "start_time": "2022-11-16T16:23:07.438Z"
   },
   {
    "duration": 4,
    "start_time": "2022-11-16T16:23:11.255Z"
   },
   {
    "duration": 6,
    "start_time": "2022-11-16T16:23:21.046Z"
   },
   {
    "duration": 5,
    "start_time": "2022-11-16T16:23:21.606Z"
   },
   {
    "duration": 5,
    "start_time": "2022-11-16T16:23:30.687Z"
   },
   {
    "duration": 5,
    "start_time": "2022-11-16T16:23:31.089Z"
   },
   {
    "duration": 5,
    "start_time": "2022-11-16T16:23:36.485Z"
   },
   {
    "duration": 5,
    "start_time": "2022-11-16T16:23:36.941Z"
   },
   {
    "duration": 2779,
    "start_time": "2022-11-16T16:23:49.395Z"
   },
   {
    "duration": 12,
    "start_time": "2022-11-16T16:23:52.176Z"
   },
   {
    "duration": 20,
    "start_time": "2022-11-16T16:23:52.189Z"
   },
   {
    "duration": 7,
    "start_time": "2022-11-16T16:23:52.217Z"
   },
   {
    "duration": 6,
    "start_time": "2022-11-16T16:23:52.904Z"
   },
   {
    "duration": 2757,
    "start_time": "2022-11-16T16:25:25.237Z"
   },
   {
    "duration": 9,
    "start_time": "2022-11-16T16:25:27.996Z"
   },
   {
    "duration": 19,
    "start_time": "2022-11-16T16:25:28.007Z"
   },
   {
    "duration": 7,
    "start_time": "2022-11-16T16:25:28.028Z"
   },
   {
    "duration": 5,
    "start_time": "2022-11-16T16:25:28.036Z"
   },
   {
    "duration": 98,
    "start_time": "2022-11-16T16:26:29.689Z"
   },
   {
    "duration": 5,
    "start_time": "2022-11-16T16:26:30.456Z"
   },
   {
    "duration": 5,
    "start_time": "2022-11-16T16:26:36.011Z"
   },
   {
    "duration": 5,
    "start_time": "2022-11-16T16:26:37.095Z"
   },
   {
    "duration": 2796,
    "start_time": "2022-11-16T16:26:48.034Z"
   },
   {
    "duration": 11,
    "start_time": "2022-11-16T16:26:50.832Z"
   },
   {
    "duration": 20,
    "start_time": "2022-11-16T16:26:50.844Z"
   },
   {
    "duration": 7,
    "start_time": "2022-11-16T16:26:51.229Z"
   },
   {
    "duration": 6,
    "start_time": "2022-11-16T16:26:52.206Z"
   },
   {
    "duration": 5,
    "start_time": "2022-11-16T16:27:32.417Z"
   },
   {
    "duration": 2721,
    "start_time": "2022-11-16T16:27:44.229Z"
   },
   {
    "duration": 12,
    "start_time": "2022-11-16T16:27:46.952Z"
   },
   {
    "duration": 36,
    "start_time": "2022-11-16T16:27:46.965Z"
   },
   {
    "duration": 14,
    "start_time": "2022-11-16T16:27:47.003Z"
   },
   {
    "duration": 8,
    "start_time": "2022-11-16T16:27:47.018Z"
   },
   {
    "duration": 5,
    "start_time": "2022-11-16T16:27:55.197Z"
   },
   {
    "duration": 2786,
    "start_time": "2022-11-16T16:28:14.164Z"
   },
   {
    "duration": 13,
    "start_time": "2022-11-16T16:28:16.952Z"
   },
   {
    "duration": 21,
    "start_time": "2022-11-16T16:28:16.967Z"
   },
   {
    "duration": 6,
    "start_time": "2022-11-16T16:28:17.425Z"
   },
   {
    "duration": 7,
    "start_time": "2022-11-16T16:28:17.995Z"
   },
   {
    "duration": 4,
    "start_time": "2022-11-16T16:28:18.639Z"
   },
   {
    "duration": 5,
    "start_time": "2022-11-16T16:28:33.022Z"
   },
   {
    "duration": 6,
    "start_time": "2022-11-16T16:28:34.087Z"
   },
   {
    "duration": 2924,
    "start_time": "2022-11-16T16:28:42.870Z"
   },
   {
    "duration": 12,
    "start_time": "2022-11-16T16:28:45.797Z"
   },
   {
    "duration": 21,
    "start_time": "2022-11-16T16:28:45.810Z"
   },
   {
    "duration": 6,
    "start_time": "2022-11-16T16:28:45.833Z"
   },
   {
    "duration": 7,
    "start_time": "2022-11-16T16:28:46.771Z"
   },
   {
    "duration": 5,
    "start_time": "2022-11-16T16:28:47.570Z"
   },
   {
    "duration": 27,
    "start_time": "2022-11-16T16:29:12.202Z"
   },
   {
    "duration": 5,
    "start_time": "2022-11-16T16:29:58.491Z"
   },
   {
    "duration": 5,
    "start_time": "2022-11-16T16:29:58.849Z"
   },
   {
    "duration": 7,
    "start_time": "2022-11-16T16:30:15.753Z"
   },
   {
    "duration": 5,
    "start_time": "2022-11-16T16:30:17.465Z"
   },
   {
    "duration": 12,
    "start_time": "2022-11-16T16:30:23.247Z"
   },
   {
    "duration": 27,
    "start_time": "2022-11-16T16:30:26.101Z"
   },
   {
    "duration": 2827,
    "start_time": "2022-11-16T16:30:34.591Z"
   },
   {
    "duration": 11,
    "start_time": "2022-11-16T16:30:37.420Z"
   },
   {
    "duration": 20,
    "start_time": "2022-11-16T16:30:37.438Z"
   },
   {
    "duration": 6,
    "start_time": "2022-11-16T16:30:37.460Z"
   },
   {
    "duration": 8,
    "start_time": "2022-11-16T16:30:40.601Z"
   },
   {
    "duration": 8,
    "start_time": "2022-11-16T16:30:50.684Z"
   },
   {
    "duration": 28,
    "start_time": "2022-11-16T16:30:54.621Z"
   },
   {
    "duration": 81,
    "start_time": "2022-11-16T16:32:05.772Z"
   },
   {
    "duration": 14,
    "start_time": "2022-11-16T16:32:58.358Z"
   },
   {
    "duration": 9,
    "start_time": "2022-11-16T16:33:11.873Z"
   },
   {
    "duration": 8,
    "start_time": "2022-11-16T16:33:29.849Z"
   },
   {
    "duration": 7,
    "start_time": "2022-11-16T16:33:41.442Z"
   },
   {
    "duration": 19,
    "start_time": "2022-11-16T16:35:41.379Z"
   },
   {
    "duration": 6,
    "start_time": "2022-11-16T16:40:14.069Z"
   },
   {
    "duration": 5,
    "start_time": "2022-11-16T16:40:49.676Z"
   },
   {
    "duration": 18,
    "start_time": "2022-11-16T16:42:16.089Z"
   },
   {
    "duration": 14,
    "start_time": "2022-11-16T16:42:28.741Z"
   },
   {
    "duration": 4,
    "start_time": "2022-11-16T16:43:06.800Z"
   },
   {
    "duration": 18,
    "start_time": "2022-11-16T16:43:12.926Z"
   },
   {
    "duration": 17,
    "start_time": "2022-11-16T16:43:19.188Z"
   },
   {
    "duration": 2737,
    "start_time": "2022-11-16T16:43:40.789Z"
   },
   {
    "duration": 9,
    "start_time": "2022-11-16T16:43:43.528Z"
   },
   {
    "duration": 4,
    "start_time": "2022-11-16T16:43:43.539Z"
   },
   {
    "duration": 20,
    "start_time": "2022-11-16T16:43:44.020Z"
   },
   {
    "duration": 9,
    "start_time": "2022-11-16T16:43:45.649Z"
   },
   {
    "duration": 79,
    "start_time": "2022-11-16T16:45:50.946Z"
   },
   {
    "duration": 4,
    "start_time": "2022-11-16T16:46:09.629Z"
   },
   {
    "duration": 16,
    "start_time": "2022-11-16T16:46:28.142Z"
   },
   {
    "duration": 4,
    "start_time": "2022-11-16T16:46:45.798Z"
   },
   {
    "duration": 5,
    "start_time": "2022-11-16T16:49:36.385Z"
   },
   {
    "duration": 4,
    "start_time": "2022-11-16T16:49:38.010Z"
   },
   {
    "duration": 28,
    "start_time": "2022-11-16T17:00:39.617Z"
   },
   {
    "duration": 5,
    "start_time": "2022-11-16T17:02:00.313Z"
   },
   {
    "duration": 8,
    "start_time": "2022-11-16T17:02:14.756Z"
   },
   {
    "duration": 5,
    "start_time": "2022-11-16T17:02:25.754Z"
   },
   {
    "duration": 4,
    "start_time": "2022-11-16T17:02:33.884Z"
   },
   {
    "duration": 8,
    "start_time": "2022-11-16T17:02:58.500Z"
   },
   {
    "duration": 8,
    "start_time": "2022-11-16T17:03:17.109Z"
   },
   {
    "duration": 10,
    "start_time": "2022-11-16T17:03:44.117Z"
   },
   {
    "duration": 2075,
    "start_time": "2022-11-16T17:06:46.831Z"
   },
   {
    "duration": 2874,
    "start_time": "2022-11-16T17:08:42.384Z"
   },
   {
    "duration": 11,
    "start_time": "2022-11-16T17:08:45.260Z"
   },
   {
    "duration": 19,
    "start_time": "2022-11-16T17:08:45.279Z"
   },
   {
    "duration": 9,
    "start_time": "2022-11-16T17:08:45.299Z"
   },
   {
    "duration": 29,
    "start_time": "2022-11-16T17:08:45.310Z"
   },
   {
    "duration": 1974,
    "start_time": "2022-11-16T17:08:45.341Z"
   },
   {
    "duration": 7,
    "start_time": "2022-11-16T17:08:47.317Z"
   },
   {
    "duration": 31,
    "start_time": "2022-11-16T17:09:44.817Z"
   },
   {
    "duration": 8,
    "start_time": "2022-11-16T17:20:23.570Z"
   },
   {
    "duration": 7,
    "start_time": "2022-11-16T17:20:45.434Z"
   },
   {
    "duration": 28,
    "start_time": "2022-11-16T17:21:59.350Z"
   },
   {
    "duration": 2839,
    "start_time": "2022-11-16T17:22:06.771Z"
   },
   {
    "duration": 10,
    "start_time": "2022-11-16T17:22:09.612Z"
   },
   {
    "duration": 18,
    "start_time": "2022-11-16T17:22:09.624Z"
   },
   {
    "duration": 7,
    "start_time": "2022-11-16T17:22:09.644Z"
   },
   {
    "duration": 37,
    "start_time": "2022-11-16T17:22:09.652Z"
   },
   {
    "duration": 28,
    "start_time": "2022-11-16T17:22:09.690Z"
   },
   {
    "duration": 7,
    "start_time": "2022-11-16T17:22:09.720Z"
   },
   {
    "duration": 22,
    "start_time": "2022-11-16T17:22:09.729Z"
   },
   {
    "duration": 9,
    "start_time": "2022-11-16T17:24:08.841Z"
   },
   {
    "duration": 8,
    "start_time": "2022-11-16T17:24:25.849Z"
   },
   {
    "duration": 7,
    "start_time": "2022-11-16T17:25:45.552Z"
   },
   {
    "duration": 6,
    "start_time": "2022-11-16T17:28:13.229Z"
   },
   {
    "duration": 9,
    "start_time": "2022-11-16T17:29:57.187Z"
   },
   {
    "duration": 75,
    "start_time": "2022-11-16T17:30:19.657Z"
   },
   {
    "duration": 15,
    "start_time": "2022-11-16T17:30:31.896Z"
   },
   {
    "duration": 16,
    "start_time": "2022-11-16T17:30:44.771Z"
   },
   {
    "duration": 13,
    "start_time": "2022-11-16T17:30:52.556Z"
   },
   {
    "duration": 6,
    "start_time": "2022-11-16T17:31:07.790Z"
   },
   {
    "duration": 6,
    "start_time": "2022-11-16T17:31:10.384Z"
   },
   {
    "duration": 2785,
    "start_time": "2022-11-16T17:31:18.317Z"
   },
   {
    "duration": 9,
    "start_time": "2022-11-16T17:31:21.104Z"
   },
   {
    "duration": 16,
    "start_time": "2022-11-16T17:31:21.115Z"
   },
   {
    "duration": 7,
    "start_time": "2022-11-16T17:31:21.134Z"
   },
   {
    "duration": 30,
    "start_time": "2022-11-16T17:31:21.142Z"
   },
   {
    "duration": 28,
    "start_time": "2022-11-16T17:31:21.173Z"
   },
   {
    "duration": 7,
    "start_time": "2022-11-16T17:31:21.202Z"
   },
   {
    "duration": 9,
    "start_time": "2022-11-16T17:31:21.211Z"
   },
   {
    "duration": 6,
    "start_time": "2022-11-16T17:32:06.198Z"
   },
   {
    "duration": 2781,
    "start_time": "2022-11-16T17:32:13.233Z"
   },
   {
    "duration": 12,
    "start_time": "2022-11-16T17:32:16.016Z"
   },
   {
    "duration": 17,
    "start_time": "2022-11-16T17:32:16.030Z"
   },
   {
    "duration": 9,
    "start_time": "2022-11-16T17:32:16.049Z"
   },
   {
    "duration": 34,
    "start_time": "2022-11-16T17:32:16.060Z"
   },
   {
    "duration": 28,
    "start_time": "2022-11-16T17:32:16.096Z"
   },
   {
    "duration": 7,
    "start_time": "2022-11-16T17:32:16.125Z"
   },
   {
    "duration": 8,
    "start_time": "2022-11-16T17:32:16.134Z"
   },
   {
    "duration": 82,
    "start_time": "2022-11-16T17:32:41.009Z"
   },
   {
    "duration": 10,
    "start_time": "2022-11-16T17:32:45.571Z"
   },
   {
    "duration": 2780,
    "start_time": "2022-11-16T17:32:49.382Z"
   },
   {
    "duration": 11,
    "start_time": "2022-11-16T17:32:52.164Z"
   },
   {
    "duration": 22,
    "start_time": "2022-11-16T17:32:52.177Z"
   },
   {
    "duration": 7,
    "start_time": "2022-11-16T17:32:52.201Z"
   },
   {
    "duration": 42,
    "start_time": "2022-11-16T17:32:52.210Z"
   },
   {
    "duration": 28,
    "start_time": "2022-11-16T17:32:52.254Z"
   },
   {
    "duration": 6,
    "start_time": "2022-11-16T17:32:52.283Z"
   },
   {
    "duration": 27,
    "start_time": "2022-11-16T17:32:52.290Z"
   },
   {
    "duration": 82,
    "start_time": "2022-11-16T17:34:16.605Z"
   },
   {
    "duration": 2768,
    "start_time": "2022-11-16T17:34:31.182Z"
   },
   {
    "duration": 12,
    "start_time": "2022-11-16T17:34:33.952Z"
   },
   {
    "duration": 50,
    "start_time": "2022-11-16T17:34:33.966Z"
   },
   {
    "duration": 8,
    "start_time": "2022-11-16T17:34:34.019Z"
   },
   {
    "duration": 38,
    "start_time": "2022-11-16T17:34:34.029Z"
   },
   {
    "duration": 35,
    "start_time": "2022-11-16T17:34:34.069Z"
   },
   {
    "duration": 7,
    "start_time": "2022-11-16T17:34:34.106Z"
   },
   {
    "duration": 21,
    "start_time": "2022-11-16T17:34:34.115Z"
   },
   {
    "duration": 8,
    "start_time": "2022-11-16T17:34:54.073Z"
   },
   {
    "duration": 1232,
    "start_time": "2022-11-16T17:38:20.040Z"
   },
   {
    "duration": 2841,
    "start_time": "2022-11-16T17:38:32.961Z"
   },
   {
    "duration": 10,
    "start_time": "2022-11-16T17:38:35.803Z"
   },
   {
    "duration": 20,
    "start_time": "2022-11-16T17:38:35.814Z"
   },
   {
    "duration": 7,
    "start_time": "2022-11-16T17:38:35.836Z"
   },
   {
    "duration": 33,
    "start_time": "2022-11-16T17:38:35.845Z"
   },
   {
    "duration": 29,
    "start_time": "2022-11-16T17:38:35.879Z"
   },
   {
    "duration": 5,
    "start_time": "2022-11-16T17:38:35.910Z"
   },
   {
    "duration": 1218,
    "start_time": "2022-11-16T17:38:36.499Z"
   },
   {
    "duration": 7,
    "start_time": "2022-11-16T17:38:47.575Z"
   },
   {
    "duration": 6,
    "start_time": "2022-11-16T17:38:50.007Z"
   },
   {
    "duration": 2716,
    "start_time": "2022-11-16T17:39:18.134Z"
   },
   {
    "duration": 10,
    "start_time": "2022-11-16T17:39:20.851Z"
   },
   {
    "duration": 17,
    "start_time": "2022-11-16T17:39:20.863Z"
   },
   {
    "duration": 6,
    "start_time": "2022-11-16T17:39:20.882Z"
   },
   {
    "duration": 31,
    "start_time": "2022-11-16T17:39:20.890Z"
   },
   {
    "duration": 27,
    "start_time": "2022-11-16T17:39:20.923Z"
   },
   {
    "duration": 6,
    "start_time": "2022-11-16T17:39:20.951Z"
   },
   {
    "duration": 22,
    "start_time": "2022-11-16T17:39:20.959Z"
   },
   {
    "duration": 10,
    "start_time": "2022-11-16T17:39:20.983Z"
   },
   {
    "duration": 2845,
    "start_time": "2022-11-16T17:39:40.097Z"
   },
   {
    "duration": 9,
    "start_time": "2022-11-16T17:39:42.944Z"
   },
   {
    "duration": 16,
    "start_time": "2022-11-16T17:39:42.955Z"
   },
   {
    "duration": 7,
    "start_time": "2022-11-16T17:39:42.974Z"
   },
   {
    "duration": 31,
    "start_time": "2022-11-16T17:39:42.983Z"
   },
   {
    "duration": 30,
    "start_time": "2022-11-16T17:39:43.015Z"
   },
   {
    "duration": 5,
    "start_time": "2022-11-16T17:39:43.047Z"
   },
   {
    "duration": 31,
    "start_time": "2022-11-16T17:39:43.054Z"
   },
   {
    "duration": 5,
    "start_time": "2022-11-16T17:41:21.302Z"
   },
   {
    "duration": 10,
    "start_time": "2022-11-16T17:41:31.578Z"
   },
   {
    "duration": 4,
    "start_time": "2022-11-16T17:41:49.373Z"
   },
   {
    "duration": 75,
    "start_time": "2022-11-16T17:42:26.583Z"
   },
   {
    "duration": 13,
    "start_time": "2022-11-16T17:43:44.248Z"
   },
   {
    "duration": 7,
    "start_time": "2022-11-16T17:44:09.927Z"
   },
   {
    "duration": 6,
    "start_time": "2022-11-16T17:44:17.167Z"
   },
   {
    "duration": 40,
    "start_time": "2022-11-16T17:45:01.211Z"
   },
   {
    "duration": 8,
    "start_time": "2022-11-16T17:46:05.085Z"
   },
   {
    "duration": 5,
    "start_time": "2022-11-16T17:51:17.892Z"
   },
   {
    "duration": 5,
    "start_time": "2022-11-16T17:52:33.315Z"
   },
   {
    "duration": 5,
    "start_time": "2022-11-16T17:52:42.865Z"
   },
   {
    "duration": 5,
    "start_time": "2022-11-16T17:52:52.464Z"
   },
   {
    "duration": 5,
    "start_time": "2022-11-16T17:53:51.705Z"
   },
   {
    "duration": 42,
    "start_time": "2022-11-16T17:55:49.471Z"
   },
   {
    "duration": 46,
    "start_time": "2022-11-16T17:55:55.984Z"
   },
   {
    "duration": 72,
    "start_time": "2022-11-16T18:02:27.674Z"
   },
   {
    "duration": 8,
    "start_time": "2022-11-16T18:02:39.818Z"
   },
   {
    "duration": 6,
    "start_time": "2022-11-16T18:02:49.768Z"
   },
   {
    "duration": 9,
    "start_time": "2022-11-16T18:03:00.977Z"
   },
   {
    "duration": 6,
    "start_time": "2022-11-16T18:03:32.356Z"
   },
   {
    "duration": 2987,
    "start_time": "2022-11-16T18:03:39.240Z"
   },
   {
    "duration": 10,
    "start_time": "2022-11-16T18:03:42.229Z"
   },
   {
    "duration": 36,
    "start_time": "2022-11-16T18:03:42.241Z"
   },
   {
    "duration": 8,
    "start_time": "2022-11-16T18:03:42.281Z"
   },
   {
    "duration": 40,
    "start_time": "2022-11-16T18:03:42.291Z"
   },
   {
    "duration": 28,
    "start_time": "2022-11-16T18:03:42.333Z"
   },
   {
    "duration": 19,
    "start_time": "2022-11-16T18:03:42.363Z"
   },
   {
    "duration": 13,
    "start_time": "2022-11-16T18:03:42.383Z"
   },
   {
    "duration": 5,
    "start_time": "2022-11-16T18:03:42.398Z"
   },
   {
    "duration": 5,
    "start_time": "2022-11-16T18:03:42.405Z"
   },
   {
    "duration": 116,
    "start_time": "2022-11-16T18:03:42.411Z"
   },
   {
    "duration": 14,
    "start_time": "2022-11-16T18:06:13.700Z"
   },
   {
    "duration": 8,
    "start_time": "2022-11-16T18:06:24.371Z"
   },
   {
    "duration": 9,
    "start_time": "2022-11-16T18:06:56.979Z"
   },
   {
    "duration": 2893,
    "start_time": "2022-11-16T18:07:18.924Z"
   },
   {
    "duration": 12,
    "start_time": "2022-11-16T18:07:21.820Z"
   },
   {
    "duration": 17,
    "start_time": "2022-11-16T18:07:21.835Z"
   },
   {
    "duration": 9,
    "start_time": "2022-11-16T18:07:21.877Z"
   },
   {
    "duration": 36,
    "start_time": "2022-11-16T18:07:21.889Z"
   },
   {
    "duration": 57,
    "start_time": "2022-11-16T18:07:21.926Z"
   },
   {
    "duration": 8,
    "start_time": "2022-11-16T18:07:21.985Z"
   },
   {
    "duration": 31,
    "start_time": "2022-11-16T18:07:21.994Z"
   },
   {
    "duration": 14,
    "start_time": "2022-11-16T18:07:22.027Z"
   },
   {
    "duration": 10,
    "start_time": "2022-11-16T18:07:22.044Z"
   },
   {
    "duration": 15,
    "start_time": "2022-11-16T18:07:22.056Z"
   },
   {
    "duration": 77,
    "start_time": "2022-11-16T18:07:33.524Z"
   },
   {
    "duration": 2892,
    "start_time": "2022-11-16T18:08:30.502Z"
   },
   {
    "duration": 10,
    "start_time": "2022-11-16T18:08:33.396Z"
   },
   {
    "duration": 27,
    "start_time": "2022-11-16T18:08:33.408Z"
   },
   {
    "duration": 9,
    "start_time": "2022-11-16T18:08:33.438Z"
   },
   {
    "duration": 68,
    "start_time": "2022-11-16T18:08:33.449Z"
   },
   {
    "duration": 30,
    "start_time": "2022-11-16T18:08:33.519Z"
   },
   {
    "duration": 7,
    "start_time": "2022-11-16T18:08:33.551Z"
   },
   {
    "duration": 27,
    "start_time": "2022-11-16T18:08:33.559Z"
   },
   {
    "duration": 6,
    "start_time": "2022-11-16T18:08:33.588Z"
   },
   {
    "duration": 4,
    "start_time": "2022-11-16T18:08:33.596Z"
   },
   {
    "duration": 10,
    "start_time": "2022-11-16T18:08:33.602Z"
   },
   {
    "duration": 106,
    "start_time": "2022-11-16T18:08:33.614Z"
   },
   {
    "duration": 9,
    "start_time": "2022-11-16T18:11:36.374Z"
   },
   {
    "duration": 2766,
    "start_time": "2022-11-16T18:12:26.378Z"
   },
   {
    "duration": 11,
    "start_time": "2022-11-16T18:12:29.146Z"
   },
   {
    "duration": 30,
    "start_time": "2022-11-16T18:12:29.158Z"
   },
   {
    "duration": 6,
    "start_time": "2022-11-16T18:12:29.190Z"
   },
   {
    "duration": 31,
    "start_time": "2022-11-16T18:12:29.199Z"
   },
   {
    "duration": 51,
    "start_time": "2022-11-16T18:12:29.232Z"
   },
   {
    "duration": 7,
    "start_time": "2022-11-16T18:12:29.285Z"
   },
   {
    "duration": 9,
    "start_time": "2022-11-16T18:12:29.294Z"
   },
   {
    "duration": 5,
    "start_time": "2022-11-16T18:12:29.305Z"
   },
   {
    "duration": 5,
    "start_time": "2022-11-16T18:12:29.313Z"
   },
   {
    "duration": 14,
    "start_time": "2022-11-16T18:12:29.319Z"
   },
   {
    "duration": 71,
    "start_time": "2022-11-16T18:13:27.615Z"
   },
   {
    "duration": 7,
    "start_time": "2022-11-16T18:16:07.902Z"
   },
   {
    "duration": 2913,
    "start_time": "2022-11-16T18:16:20.405Z"
   },
   {
    "duration": 11,
    "start_time": "2022-11-16T18:16:23.321Z"
   },
   {
    "duration": 16,
    "start_time": "2022-11-16T18:16:23.333Z"
   },
   {
    "duration": 28,
    "start_time": "2022-11-16T18:16:23.351Z"
   },
   {
    "duration": 28,
    "start_time": "2022-11-16T18:16:23.381Z"
   },
   {
    "duration": 26,
    "start_time": "2022-11-16T18:16:23.411Z"
   },
   {
    "duration": 6,
    "start_time": "2022-11-16T18:16:23.438Z"
   },
   {
    "duration": 37,
    "start_time": "2022-11-16T18:16:23.446Z"
   },
   {
    "duration": 5,
    "start_time": "2022-11-16T18:16:23.485Z"
   },
   {
    "duration": 7,
    "start_time": "2022-11-16T18:16:23.492Z"
   },
   {
    "duration": 41,
    "start_time": "2022-11-16T18:16:23.502Z"
   },
   {
    "duration": 5,
    "start_time": "2022-11-16T18:16:23.545Z"
   },
   {
    "duration": 52,
    "start_time": "2022-11-16T18:17:05.881Z"
   },
   {
    "duration": 4,
    "start_time": "2022-11-16T18:17:07.150Z"
   },
   {
    "duration": 2876,
    "start_time": "2022-11-16T18:17:12.149Z"
   },
   {
    "duration": 14,
    "start_time": "2022-11-16T18:17:15.026Z"
   },
   {
    "duration": 39,
    "start_time": "2022-11-16T18:17:15.042Z"
   },
   {
    "duration": 6,
    "start_time": "2022-11-16T18:17:15.083Z"
   },
   {
    "duration": 40,
    "start_time": "2022-11-16T18:17:15.091Z"
   },
   {
    "duration": 27,
    "start_time": "2022-11-16T18:17:15.133Z"
   },
   {
    "duration": 16,
    "start_time": "2022-11-16T18:17:15.161Z"
   },
   {
    "duration": 24,
    "start_time": "2022-11-16T18:17:15.179Z"
   },
   {
    "duration": 27,
    "start_time": "2022-11-16T18:17:15.205Z"
   },
   {
    "duration": 22,
    "start_time": "2022-11-16T18:17:15.234Z"
   },
   {
    "duration": 71,
    "start_time": "2022-11-16T18:17:15.257Z"
   },
   {
    "duration": 4,
    "start_time": "2022-11-16T18:17:15.330Z"
   },
   {
    "duration": 34,
    "start_time": "2022-11-16T18:18:11.537Z"
   },
   {
    "duration": 2918,
    "start_time": "2022-11-16T18:18:38.254Z"
   },
   {
    "duration": 10,
    "start_time": "2022-11-16T18:18:41.178Z"
   },
   {
    "duration": 28,
    "start_time": "2022-11-16T18:18:41.190Z"
   },
   {
    "duration": 15,
    "start_time": "2022-11-16T18:18:41.220Z"
   },
   {
    "duration": 58,
    "start_time": "2022-11-16T18:18:41.237Z"
   },
   {
    "duration": 27,
    "start_time": "2022-11-16T18:18:41.297Z"
   },
   {
    "duration": 22,
    "start_time": "2022-11-16T18:18:41.326Z"
   },
   {
    "duration": 36,
    "start_time": "2022-11-16T18:18:41.350Z"
   },
   {
    "duration": 14,
    "start_time": "2022-11-16T18:18:41.389Z"
   },
   {
    "duration": 30,
    "start_time": "2022-11-16T18:18:41.406Z"
   },
   {
    "duration": 65,
    "start_time": "2022-11-16T18:18:41.437Z"
   },
   {
    "duration": 5,
    "start_time": "2022-11-16T18:18:41.504Z"
   },
   {
    "duration": 17,
    "start_time": "2022-11-16T18:19:52.802Z"
   },
   {
    "duration": 27,
    "start_time": "2022-11-16T18:20:00.972Z"
   },
   {
    "duration": 55,
    "start_time": "2022-11-18T16:01:22.282Z"
   },
   {
    "duration": 56,
    "start_time": "2022-11-18T16:08:13.214Z"
   },
   {
    "duration": 3387,
    "start_time": "2022-11-18T16:08:18.027Z"
   },
   {
    "duration": 14,
    "start_time": "2022-11-18T16:08:21.416Z"
   },
   {
    "duration": 19,
    "start_time": "2022-11-18T16:08:21.432Z"
   },
   {
    "duration": 9,
    "start_time": "2022-11-18T16:08:21.453Z"
   },
   {
    "duration": 43,
    "start_time": "2022-11-18T16:08:21.464Z"
   },
   {
    "duration": 31,
    "start_time": "2022-11-18T16:08:21.509Z"
   },
   {
    "duration": 8,
    "start_time": "2022-11-18T16:08:21.542Z"
   },
   {
    "duration": 34,
    "start_time": "2022-11-18T16:08:21.552Z"
   },
   {
    "duration": 7,
    "start_time": "2022-11-18T16:08:21.588Z"
   },
   {
    "duration": 14,
    "start_time": "2022-11-18T16:08:21.597Z"
   },
   {
    "duration": 90,
    "start_time": "2022-11-18T16:08:21.613Z"
   },
   {
    "duration": 5,
    "start_time": "2022-11-18T16:08:21.705Z"
   },
   {
    "duration": 7,
    "start_time": "2022-11-18T16:08:51.272Z"
   },
   {
    "duration": 30,
    "start_time": "2022-11-18T16:08:56.765Z"
   },
   {
    "duration": 48,
    "start_time": "2022-11-18T16:09:13.119Z"
   },
   {
    "duration": 37,
    "start_time": "2022-11-18T16:09:14.124Z"
   },
   {
    "duration": 36,
    "start_time": "2022-11-18T16:09:42.528Z"
   },
   {
    "duration": 30,
    "start_time": "2022-11-18T16:09:42.999Z"
   },
   {
    "duration": 104,
    "start_time": "2022-11-18T16:14:05.733Z"
   },
   {
    "duration": 3330,
    "start_time": "2022-11-18T16:14:13.140Z"
   },
   {
    "duration": 10,
    "start_time": "2022-11-18T16:14:16.472Z"
   },
   {
    "duration": 28,
    "start_time": "2022-11-18T16:14:16.484Z"
   },
   {
    "duration": 8,
    "start_time": "2022-11-18T16:14:16.514Z"
   },
   {
    "duration": 57,
    "start_time": "2022-11-18T16:14:16.523Z"
   },
   {
    "duration": 30,
    "start_time": "2022-11-18T16:14:16.581Z"
   },
   {
    "duration": 7,
    "start_time": "2022-11-18T16:14:16.613Z"
   },
   {
    "duration": 15,
    "start_time": "2022-11-18T16:14:16.622Z"
   },
   {
    "duration": 5,
    "start_time": "2022-11-18T16:14:16.640Z"
   },
   {
    "duration": 33,
    "start_time": "2022-11-18T16:14:16.647Z"
   },
   {
    "duration": 133,
    "start_time": "2022-11-18T16:14:16.682Z"
   },
   {
    "duration": 0,
    "start_time": "2022-11-18T16:14:16.817Z"
   },
   {
    "duration": 9,
    "start_time": "2022-11-18T16:14:23.497Z"
   },
   {
    "duration": 3137,
    "start_time": "2022-11-18T16:14:31.925Z"
   },
   {
    "duration": 12,
    "start_time": "2022-11-18T16:14:35.065Z"
   },
   {
    "duration": 19,
    "start_time": "2022-11-18T16:14:35.079Z"
   },
   {
    "duration": 8,
    "start_time": "2022-11-18T16:14:35.100Z"
   },
   {
    "duration": 36,
    "start_time": "2022-11-18T16:14:35.110Z"
   },
   {
    "duration": 52,
    "start_time": "2022-11-18T16:14:35.148Z"
   },
   {
    "duration": 7,
    "start_time": "2022-11-18T16:14:35.202Z"
   },
   {
    "duration": 11,
    "start_time": "2022-11-18T16:14:35.210Z"
   },
   {
    "duration": 4,
    "start_time": "2022-11-18T16:14:35.223Z"
   },
   {
    "duration": 4,
    "start_time": "2022-11-18T16:14:35.229Z"
   },
   {
    "duration": 97,
    "start_time": "2022-11-18T16:14:35.235Z"
   },
   {
    "duration": 45,
    "start_time": "2022-11-18T16:14:35.334Z"
   },
   {
    "duration": 56,
    "start_time": "2022-11-18T16:15:04.718Z"
   },
   {
    "duration": 31,
    "start_time": "2022-11-18T16:15:05.572Z"
   },
   {
    "duration": 5,
    "start_time": "2022-11-18T16:15:20.124Z"
   },
   {
    "duration": 1265,
    "start_time": "2022-11-18T16:16:07.403Z"
   },
   {
    "duration": 3132,
    "start_time": "2022-11-18T16:16:28.938Z"
   },
   {
    "duration": 11,
    "start_time": "2022-11-18T16:16:32.072Z"
   },
   {
    "duration": 23,
    "start_time": "2022-11-18T16:16:32.085Z"
   },
   {
    "duration": 13,
    "start_time": "2022-11-18T16:16:32.110Z"
   },
   {
    "duration": 54,
    "start_time": "2022-11-18T16:16:32.126Z"
   },
   {
    "duration": 28,
    "start_time": "2022-11-18T16:16:32.182Z"
   },
   {
    "duration": 6,
    "start_time": "2022-11-18T16:16:32.212Z"
   },
   {
    "duration": 12,
    "start_time": "2022-11-18T16:16:32.220Z"
   },
   {
    "duration": 12,
    "start_time": "2022-11-18T16:16:32.234Z"
   },
   {
    "duration": 37,
    "start_time": "2022-11-18T16:16:32.248Z"
   },
   {
    "duration": 58,
    "start_time": "2022-11-18T16:16:32.287Z"
   },
   {
    "duration": 5,
    "start_time": "2022-11-18T16:16:32.347Z"
   },
   {
    "duration": 3025,
    "start_time": "2022-11-18T16:23:56.537Z"
   },
   {
    "duration": 10,
    "start_time": "2022-11-18T16:23:59.564Z"
   },
   {
    "duration": 17,
    "start_time": "2022-11-18T16:23:59.576Z"
   },
   {
    "duration": 8,
    "start_time": "2022-11-18T16:23:59.596Z"
   },
   {
    "duration": 41,
    "start_time": "2022-11-18T16:23:59.606Z"
   },
   {
    "duration": 37,
    "start_time": "2022-11-18T16:23:59.649Z"
   },
   {
    "duration": 6,
    "start_time": "2022-11-18T16:23:59.688Z"
   },
   {
    "duration": 21,
    "start_time": "2022-11-18T16:23:59.695Z"
   },
   {
    "duration": 67,
    "start_time": "2022-11-18T16:23:59.718Z"
   },
   {
    "duration": 5,
    "start_time": "2022-11-18T16:23:59.788Z"
   },
   {
    "duration": 11,
    "start_time": "2022-11-18T16:23:59.795Z"
   },
   {
    "duration": 61,
    "start_time": "2022-11-18T16:23:59.808Z"
   },
   {
    "duration": 12,
    "start_time": "2022-11-18T16:23:59.871Z"
   },
   {
    "duration": 2980,
    "start_time": "2022-11-18T16:24:27.014Z"
   },
   {
    "duration": 10,
    "start_time": "2022-11-18T16:24:29.996Z"
   },
   {
    "duration": 22,
    "start_time": "2022-11-18T16:24:30.008Z"
   },
   {
    "duration": 8,
    "start_time": "2022-11-18T16:24:30.033Z"
   },
   {
    "duration": 43,
    "start_time": "2022-11-18T16:24:30.043Z"
   },
   {
    "duration": 28,
    "start_time": "2022-11-18T16:24:30.087Z"
   },
   {
    "duration": 6,
    "start_time": "2022-11-18T16:24:30.117Z"
   },
   {
    "duration": 12,
    "start_time": "2022-11-18T16:24:30.124Z"
   },
   {
    "duration": 74,
    "start_time": "2022-11-18T16:24:30.137Z"
   },
   {
    "duration": 5,
    "start_time": "2022-11-18T16:24:30.214Z"
   },
   {
    "duration": 10,
    "start_time": "2022-11-18T16:24:30.220Z"
   },
   {
    "duration": 76,
    "start_time": "2022-11-18T16:24:30.232Z"
   },
   {
    "duration": 4,
    "start_time": "2022-11-18T16:24:30.310Z"
   },
   {
    "duration": 3167,
    "start_time": "2022-11-18T16:25:24.939Z"
   },
   {
    "duration": 12,
    "start_time": "2022-11-18T16:25:28.108Z"
   },
   {
    "duration": 17,
    "start_time": "2022-11-18T16:25:28.122Z"
   },
   {
    "duration": 8,
    "start_time": "2022-11-18T16:25:28.141Z"
   },
   {
    "duration": 30,
    "start_time": "2022-11-18T16:25:28.152Z"
   },
   {
    "duration": 28,
    "start_time": "2022-11-18T16:25:28.184Z"
   },
   {
    "duration": 6,
    "start_time": "2022-11-18T16:25:28.214Z"
   },
   {
    "duration": 7,
    "start_time": "2022-11-18T16:25:28.222Z"
   },
   {
    "duration": 84,
    "start_time": "2022-11-18T16:25:28.231Z"
   },
   {
    "duration": 5,
    "start_time": "2022-11-18T16:25:28.317Z"
   },
   {
    "duration": 12,
    "start_time": "2022-11-18T16:25:28.324Z"
   },
   {
    "duration": 73,
    "start_time": "2022-11-18T16:25:28.338Z"
   },
   {
    "duration": 5,
    "start_time": "2022-11-18T16:25:28.413Z"
   },
   {
    "duration": 56,
    "start_time": "2022-11-18T16:25:51.135Z"
   },
   {
    "duration": 40,
    "start_time": "2022-11-18T16:26:10.798Z"
   },
   {
    "duration": 42,
    "start_time": "2022-11-18T16:27:07.243Z"
   },
   {
    "duration": 3173,
    "start_time": "2022-11-18T16:27:31.645Z"
   },
   {
    "duration": 12,
    "start_time": "2022-11-18T16:27:34.821Z"
   },
   {
    "duration": 18,
    "start_time": "2022-11-18T16:27:37.162Z"
   },
   {
    "duration": 8,
    "start_time": "2022-11-18T16:27:38.777Z"
   },
   {
    "duration": 32,
    "start_time": "2022-11-18T16:27:40.346Z"
   },
   {
    "duration": 30,
    "start_time": "2022-11-18T16:27:40.966Z"
   },
   {
    "duration": 6,
    "start_time": "2022-11-18T16:27:42.167Z"
   },
   {
    "duration": 6,
    "start_time": "2022-11-18T16:27:42.941Z"
   },
   {
    "duration": 66,
    "start_time": "2022-11-18T16:27:43.606Z"
   },
   {
    "duration": 5,
    "start_time": "2022-11-18T16:27:44.858Z"
   },
   {
    "duration": 6,
    "start_time": "2022-11-18T16:27:46.763Z"
   },
   {
    "duration": 59,
    "start_time": "2022-11-18T16:27:48.265Z"
   },
   {
    "duration": 43,
    "start_time": "2022-11-18T16:27:49.398Z"
   },
   {
    "duration": 5,
    "start_time": "2022-11-18T16:28:01.110Z"
   },
   {
    "duration": 6,
    "start_time": "2022-11-18T16:28:01.421Z"
   },
   {
    "duration": 58,
    "start_time": "2022-11-18T16:28:01.690Z"
   },
   {
    "duration": 6,
    "start_time": "2022-11-18T16:28:01.966Z"
   },
   {
    "duration": 7,
    "start_time": "2022-11-18T16:28:02.502Z"
   },
   {
    "duration": 74,
    "start_time": "2022-11-18T16:28:03.067Z"
   },
   {
    "duration": 63,
    "start_time": "2022-11-18T16:28:03.670Z"
   },
   {
    "duration": 44,
    "start_time": "2022-11-18T16:28:59.443Z"
   },
   {
    "duration": 5,
    "start_time": "2022-11-18T16:29:00.211Z"
   },
   {
    "duration": 5,
    "start_time": "2022-11-18T16:29:01.377Z"
   },
   {
    "duration": 41,
    "start_time": "2022-11-18T16:29:07.352Z"
   },
   {
    "duration": 41,
    "start_time": "2022-11-18T16:29:08.292Z"
   },
   {
    "duration": 3114,
    "start_time": "2022-11-18T16:29:19.404Z"
   },
   {
    "duration": 12,
    "start_time": "2022-11-18T16:29:22.520Z"
   },
   {
    "duration": 46,
    "start_time": "2022-11-18T16:29:22.533Z"
   },
   {
    "duration": 11,
    "start_time": "2022-11-18T16:29:22.583Z"
   },
   {
    "duration": 51,
    "start_time": "2022-11-18T16:29:22.597Z"
   },
   {
    "duration": 71,
    "start_time": "2022-11-18T16:29:22.651Z"
   },
   {
    "duration": 9,
    "start_time": "2022-11-18T16:29:22.725Z"
   },
   {
    "duration": 7,
    "start_time": "2022-11-18T16:29:22.737Z"
   },
   {
    "duration": 90,
    "start_time": "2022-11-18T16:29:22.746Z"
   },
   {
    "duration": 7,
    "start_time": "2022-11-18T16:29:22.839Z"
   },
   {
    "duration": 16,
    "start_time": "2022-11-18T16:29:22.849Z"
   },
   {
    "duration": 89,
    "start_time": "2022-11-18T16:29:22.867Z"
   },
   {
    "duration": 61,
    "start_time": "2022-11-18T16:29:22.959Z"
   },
   {
    "duration": 3004,
    "start_time": "2022-11-18T16:32:26.794Z"
   },
   {
    "duration": 11,
    "start_time": "2022-11-18T16:32:29.800Z"
   },
   {
    "duration": 29,
    "start_time": "2022-11-18T16:32:29.814Z"
   },
   {
    "duration": 9,
    "start_time": "2022-11-18T16:32:29.846Z"
   },
   {
    "duration": 40,
    "start_time": "2022-11-18T16:32:29.857Z"
   },
   {
    "duration": 28,
    "start_time": "2022-11-18T16:32:29.899Z"
   },
   {
    "duration": 8,
    "start_time": "2022-11-18T16:32:29.929Z"
   },
   {
    "duration": 11,
    "start_time": "2022-11-18T16:32:29.939Z"
   },
   {
    "duration": 28,
    "start_time": "2022-11-18T16:32:29.952Z"
   },
   {
    "duration": 5,
    "start_time": "2022-11-18T16:32:29.983Z"
   },
   {
    "duration": 64,
    "start_time": "2022-11-18T16:32:29.990Z"
   },
   {
    "duration": 58,
    "start_time": "2022-11-18T16:32:30.056Z"
   },
   {
    "duration": 56,
    "start_time": "2022-11-18T16:32:48.881Z"
   },
   {
    "duration": 41,
    "start_time": "2022-11-18T16:32:49.497Z"
   },
   {
    "duration": 54,
    "start_time": "2022-11-18T16:34:26.758Z"
   },
   {
    "duration": 17,
    "start_time": "2022-11-18T16:35:52.870Z"
   },
   {
    "duration": 31,
    "start_time": "2022-11-18T16:35:59.546Z"
   },
   {
    "duration": 3137,
    "start_time": "2022-11-18T16:36:22.613Z"
   },
   {
    "duration": 11,
    "start_time": "2022-11-18T16:36:25.752Z"
   },
   {
    "duration": 16,
    "start_time": "2022-11-18T16:36:25.765Z"
   },
   {
    "duration": 8,
    "start_time": "2022-11-18T16:36:25.783Z"
   },
   {
    "duration": 32,
    "start_time": "2022-11-18T16:36:25.792Z"
   },
   {
    "duration": 30,
    "start_time": "2022-11-18T16:36:25.826Z"
   },
   {
    "duration": 21,
    "start_time": "2022-11-18T16:36:25.858Z"
   },
   {
    "duration": 11,
    "start_time": "2022-11-18T16:36:25.881Z"
   },
   {
    "duration": 13,
    "start_time": "2022-11-18T16:36:25.893Z"
   },
   {
    "duration": 6,
    "start_time": "2022-11-18T16:36:25.910Z"
   },
   {
    "duration": 80,
    "start_time": "2022-11-18T16:36:25.917Z"
   },
   {
    "duration": 25,
    "start_time": "2022-11-18T16:36:25.999Z"
   },
   {
    "duration": 27,
    "start_time": "2022-11-18T16:36:51.479Z"
   },
   {
    "duration": 25,
    "start_time": "2022-11-18T16:37:11.507Z"
   },
   {
    "duration": 3068,
    "start_time": "2022-11-18T16:39:41.082Z"
   },
   {
    "duration": 15,
    "start_time": "2022-11-18T16:39:44.152Z"
   },
   {
    "duration": 39,
    "start_time": "2022-11-18T16:39:44.169Z"
   },
   {
    "duration": 43,
    "start_time": "2022-11-18T16:39:44.211Z"
   },
   {
    "duration": 30,
    "start_time": "2022-11-18T16:39:44.256Z"
   },
   {
    "duration": 27,
    "start_time": "2022-11-18T16:39:44.288Z"
   },
   {
    "duration": 6,
    "start_time": "2022-11-18T16:39:44.317Z"
   },
   {
    "duration": 71,
    "start_time": "2022-11-18T16:39:44.325Z"
   },
   {
    "duration": 7,
    "start_time": "2022-11-18T16:39:44.398Z"
   },
   {
    "duration": 7,
    "start_time": "2022-11-18T16:39:44.407Z"
   },
   {
    "duration": 71,
    "start_time": "2022-11-18T16:39:44.416Z"
   },
   {
    "duration": 1642,
    "start_time": "2022-11-18T16:40:26.685Z"
   },
   {
    "duration": 3029,
    "start_time": "2022-11-18T16:40:43.045Z"
   },
   {
    "duration": 11,
    "start_time": "2022-11-18T16:40:46.076Z"
   },
   {
    "duration": 18,
    "start_time": "2022-11-18T16:40:46.089Z"
   },
   {
    "duration": 8,
    "start_time": "2022-11-18T16:40:46.109Z"
   },
   {
    "duration": 34,
    "start_time": "2022-11-18T16:40:46.119Z"
   },
   {
    "duration": 48,
    "start_time": "2022-11-18T16:40:46.154Z"
   },
   {
    "duration": 6,
    "start_time": "2022-11-18T16:40:46.204Z"
   },
   {
    "duration": 72,
    "start_time": "2022-11-18T16:40:46.212Z"
   },
   {
    "duration": 0,
    "start_time": "2022-11-18T16:40:46.286Z"
   },
   {
    "duration": 0,
    "start_time": "2022-11-18T16:40:46.287Z"
   },
   {
    "duration": 0,
    "start_time": "2022-11-18T16:40:46.289Z"
   },
   {
    "duration": 0,
    "start_time": "2022-11-18T16:40:46.290Z"
   },
   {
    "duration": 2964,
    "start_time": "2022-11-18T16:40:58.490Z"
   },
   {
    "duration": 10,
    "start_time": "2022-11-18T16:41:01.456Z"
   },
   {
    "duration": 23,
    "start_time": "2022-11-18T16:41:01.468Z"
   },
   {
    "duration": 7,
    "start_time": "2022-11-18T16:41:01.493Z"
   },
   {
    "duration": 32,
    "start_time": "2022-11-18T16:41:01.502Z"
   },
   {
    "duration": 55,
    "start_time": "2022-11-18T16:41:01.536Z"
   },
   {
    "duration": 7,
    "start_time": "2022-11-18T16:41:01.593Z"
   },
   {
    "duration": 15,
    "start_time": "2022-11-18T16:41:01.602Z"
   },
   {
    "duration": 15,
    "start_time": "2022-11-18T16:41:01.619Z"
   },
   {
    "duration": 6,
    "start_time": "2022-11-18T16:41:01.637Z"
   },
   {
    "duration": 81,
    "start_time": "2022-11-18T16:41:01.644Z"
   },
   {
    "duration": 1186,
    "start_time": "2022-11-18T16:41:01.727Z"
   },
   {
    "duration": 10,
    "start_time": "2022-11-18T16:41:15.595Z"
   },
   {
    "duration": 5,
    "start_time": "2022-11-18T16:41:16.310Z"
   },
   {
    "duration": 59,
    "start_time": "2022-11-18T16:41:17.134Z"
   },
   {
    "duration": 1837,
    "start_time": "2022-11-18T16:41:17.886Z"
   },
   {
    "duration": 2965,
    "start_time": "2022-11-18T16:41:30.781Z"
   },
   {
    "duration": 10,
    "start_time": "2022-11-18T16:41:33.748Z"
   },
   {
    "duration": 16,
    "start_time": "2022-11-18T16:41:33.760Z"
   },
   {
    "duration": 7,
    "start_time": "2022-11-18T16:41:33.778Z"
   },
   {
    "duration": 29,
    "start_time": "2022-11-18T16:41:33.787Z"
   },
   {
    "duration": 27,
    "start_time": "2022-11-18T16:41:33.818Z"
   },
   {
    "duration": 6,
    "start_time": "2022-11-18T16:41:33.847Z"
   },
   {
    "duration": 7,
    "start_time": "2022-11-18T16:41:33.877Z"
   },
   {
    "duration": 12,
    "start_time": "2022-11-18T16:41:33.885Z"
   },
   {
    "duration": 7,
    "start_time": "2022-11-18T16:41:33.936Z"
   },
   {
    "duration": 61,
    "start_time": "2022-11-18T16:41:34.948Z"
   },
   {
    "duration": 1218,
    "start_time": "2022-11-18T16:41:35.422Z"
   },
   {
    "duration": 23,
    "start_time": "2022-11-18T16:41:51.419Z"
   },
   {
    "duration": 3055,
    "start_time": "2022-11-18T16:45:00.503Z"
   },
   {
    "duration": 10,
    "start_time": "2022-11-18T16:45:03.560Z"
   },
   {
    "duration": 19,
    "start_time": "2022-11-18T16:45:03.572Z"
   },
   {
    "duration": 8,
    "start_time": "2022-11-18T16:45:03.593Z"
   },
   {
    "duration": 31,
    "start_time": "2022-11-18T16:45:03.602Z"
   },
   {
    "duration": 45,
    "start_time": "2022-11-18T16:45:03.635Z"
   },
   {
    "duration": 7,
    "start_time": "2022-11-18T16:45:03.682Z"
   },
   {
    "duration": 13,
    "start_time": "2022-11-18T16:45:03.691Z"
   },
   {
    "duration": 9,
    "start_time": "2022-11-18T16:45:03.707Z"
   },
   {
    "duration": 5,
    "start_time": "2022-11-18T16:45:03.718Z"
   },
   {
    "duration": 88,
    "start_time": "2022-11-18T16:45:03.725Z"
   },
   {
    "duration": 23,
    "start_time": "2022-11-18T16:45:59.674Z"
   },
   {
    "duration": 26,
    "start_time": "2022-11-18T16:46:25.677Z"
   },
   {
    "duration": 29,
    "start_time": "2022-11-18T16:46:45.705Z"
   },
   {
    "duration": 3028,
    "start_time": "2022-11-18T16:47:11.806Z"
   },
   {
    "duration": 10,
    "start_time": "2022-11-18T16:47:14.836Z"
   },
   {
    "duration": 22,
    "start_time": "2022-11-18T16:47:14.848Z"
   },
   {
    "duration": 7,
    "start_time": "2022-11-18T16:47:14.872Z"
   },
   {
    "duration": 31,
    "start_time": "2022-11-18T16:47:14.881Z"
   },
   {
    "duration": 27,
    "start_time": "2022-11-18T16:47:14.914Z"
   },
   {
    "duration": 6,
    "start_time": "2022-11-18T16:47:14.943Z"
   },
   {
    "duration": 37,
    "start_time": "2022-11-18T16:47:14.951Z"
   },
   {
    "duration": 8,
    "start_time": "2022-11-18T16:47:14.990Z"
   },
   {
    "duration": 13,
    "start_time": "2022-11-18T16:47:15.000Z"
   },
   {
    "duration": 91,
    "start_time": "2022-11-18T16:47:15.015Z"
   },
   {
    "duration": 2901,
    "start_time": "2022-11-18T16:50:50.081Z"
   },
   {
    "duration": 10,
    "start_time": "2022-11-18T16:50:52.984Z"
   },
   {
    "duration": 20,
    "start_time": "2022-11-18T16:50:52.995Z"
   },
   {
    "duration": 16,
    "start_time": "2022-11-18T16:50:53.018Z"
   },
   {
    "duration": 46,
    "start_time": "2022-11-18T16:50:53.036Z"
   },
   {
    "duration": 27,
    "start_time": "2022-11-18T16:50:53.084Z"
   },
   {
    "duration": 8,
    "start_time": "2022-11-18T16:50:53.113Z"
   },
   {
    "duration": 39,
    "start_time": "2022-11-18T16:50:53.123Z"
   },
   {
    "duration": 28,
    "start_time": "2022-11-18T16:50:53.164Z"
   },
   {
    "duration": 27,
    "start_time": "2022-11-18T16:50:53.195Z"
   },
   {
    "duration": 35,
    "start_time": "2022-11-18T16:50:53.224Z"
   },
   {
    "duration": 20,
    "start_time": "2022-11-18T16:55:41.025Z"
   },
   {
    "duration": 15,
    "start_time": "2022-11-18T16:55:59.489Z"
   },
   {
    "duration": 13,
    "start_time": "2022-11-18T16:56:04.922Z"
   },
   {
    "duration": 73,
    "start_time": "2022-11-18T16:56:09.029Z"
   },
   {
    "duration": 39,
    "start_time": "2022-11-18T16:56:38.456Z"
   },
   {
    "duration": 17,
    "start_time": "2022-11-18T17:00:09.792Z"
   },
   {
    "duration": 356,
    "start_time": "2022-11-18T17:00:24.960Z"
   },
   {
    "duration": 17,
    "start_time": "2022-11-18T17:00:31.796Z"
   },
   {
    "duration": 17,
    "start_time": "2022-11-18T17:00:38.117Z"
   },
   {
    "duration": 75,
    "start_time": "2022-11-18T17:02:28.188Z"
   },
   {
    "duration": 18,
    "start_time": "2022-11-18T17:03:01.583Z"
   },
   {
    "duration": 17,
    "start_time": "2022-11-18T17:03:06.235Z"
   },
   {
    "duration": 17,
    "start_time": "2022-11-18T17:03:17.897Z"
   },
   {
    "duration": 96,
    "start_time": "2022-11-18T17:08:43.927Z"
   },
   {
    "duration": 7,
    "start_time": "2022-11-18T17:08:51.469Z"
   },
   {
    "duration": 41,
    "start_time": "2022-11-18T17:09:42.393Z"
   },
   {
    "duration": 577,
    "start_time": "2022-11-18T17:10:25.778Z"
   },
   {
    "duration": 43,
    "start_time": "2022-11-18T17:10:33.095Z"
   },
   {
    "duration": 31,
    "start_time": "2022-11-18T17:10:45.868Z"
   },
   {
    "duration": 38,
    "start_time": "2022-11-18T17:11:43.143Z"
   },
   {
    "duration": 27,
    "start_time": "2022-11-18T17:11:59.368Z"
   },
   {
    "duration": 26,
    "start_time": "2022-11-18T17:12:29.965Z"
   },
   {
    "duration": 25,
    "start_time": "2022-11-18T17:12:41.954Z"
   },
   {
    "duration": 9,
    "start_time": "2022-11-18T17:17:22.729Z"
   },
   {
    "duration": 78,
    "start_time": "2022-11-18T17:18:34.109Z"
   },
   {
    "duration": 11,
    "start_time": "2022-11-18T17:18:38.801Z"
   },
   {
    "duration": 11,
    "start_time": "2022-11-18T17:20:27.284Z"
   },
   {
    "duration": 15,
    "start_time": "2022-11-18T17:20:37.953Z"
   },
   {
    "duration": 17,
    "start_time": "2022-11-18T17:21:25.316Z"
   },
   {
    "duration": 16,
    "start_time": "2022-11-18T17:22:13.410Z"
   },
   {
    "duration": 17,
    "start_time": "2022-11-18T17:22:32.009Z"
   },
   {
    "duration": 15,
    "start_time": "2022-11-18T17:24:49.998Z"
   },
   {
    "duration": 15,
    "start_time": "2022-11-18T17:25:13.689Z"
   },
   {
    "duration": 14,
    "start_time": "2022-11-18T17:26:21.616Z"
   },
   {
    "duration": 19,
    "start_time": "2022-11-18T17:26:25.143Z"
   },
   {
    "duration": 11,
    "start_time": "2022-11-18T17:26:43.796Z"
   },
   {
    "duration": 10,
    "start_time": "2022-11-18T17:26:48.698Z"
   },
   {
    "duration": 81,
    "start_time": "2022-11-18T17:27:19.495Z"
   },
   {
    "duration": 11,
    "start_time": "2022-11-18T17:27:24.100Z"
   },
   {
    "duration": 11,
    "start_time": "2022-11-18T17:28:03.106Z"
   },
   {
    "duration": 11,
    "start_time": "2022-11-18T17:28:07.079Z"
   },
   {
    "duration": 46,
    "start_time": "2022-11-19T10:32:30.940Z"
   },
   {
    "duration": 3102,
    "start_time": "2022-11-19T10:32:36.144Z"
   },
   {
    "duration": 9,
    "start_time": "2022-11-19T10:32:39.248Z"
   },
   {
    "duration": 17,
    "start_time": "2022-11-19T10:32:39.258Z"
   },
   {
    "duration": 6,
    "start_time": "2022-11-19T10:32:39.277Z"
   },
   {
    "duration": 35,
    "start_time": "2022-11-19T10:32:39.285Z"
   },
   {
    "duration": 28,
    "start_time": "2022-11-19T10:32:39.322Z"
   },
   {
    "duration": 7,
    "start_time": "2022-11-19T10:32:39.352Z"
   },
   {
    "duration": 37,
    "start_time": "2022-11-19T10:32:39.360Z"
   },
   {
    "duration": 10,
    "start_time": "2022-11-19T10:32:39.399Z"
   },
   {
    "duration": 4,
    "start_time": "2022-11-19T10:32:39.411Z"
   },
   {
    "duration": 8,
    "start_time": "2022-11-19T10:32:39.416Z"
   },
   {
    "duration": 9,
    "start_time": "2022-11-19T10:32:39.426Z"
   },
   {
    "duration": 24,
    "start_time": "2022-11-19T10:32:39.437Z"
   },
   {
    "duration": 24,
    "start_time": "2022-11-19T10:32:53.480Z"
   },
   {
    "duration": 24,
    "start_time": "2022-11-19T10:33:07.380Z"
   },
   {
    "duration": 23,
    "start_time": "2022-11-19T10:33:15.393Z"
   },
   {
    "duration": 23,
    "start_time": "2022-11-19T10:33:30.180Z"
   },
   {
    "duration": 22,
    "start_time": "2022-11-19T10:33:39.684Z"
   },
   {
    "duration": 29,
    "start_time": "2022-11-19T10:34:28.488Z"
   },
   {
    "duration": 58,
    "start_time": "2022-11-19T10:34:38.775Z"
   },
   {
    "duration": 26,
    "start_time": "2022-11-19T10:34:59.129Z"
   },
   {
    "duration": 11,
    "start_time": "2022-11-19T10:38:16.109Z"
   },
   {
    "duration": 27,
    "start_time": "2022-11-19T10:42:31.024Z"
   },
   {
    "duration": 27,
    "start_time": "2022-11-19T10:42:35.933Z"
   },
   {
    "duration": 25,
    "start_time": "2022-11-19T10:43:03.441Z"
   },
   {
    "duration": 14,
    "start_time": "2022-11-19T10:43:15.472Z"
   },
   {
    "duration": 18,
    "start_time": "2022-11-19T10:43:21.891Z"
   },
   {
    "duration": 14,
    "start_time": "2022-11-19T10:43:31.191Z"
   },
   {
    "duration": 37,
    "start_time": "2022-11-19T10:43:49.026Z"
   },
   {
    "duration": 33,
    "start_time": "2022-11-19T10:43:56.188Z"
   },
   {
    "duration": 36,
    "start_time": "2022-11-19T10:44:06.187Z"
   },
   {
    "duration": 24,
    "start_time": "2022-11-19T10:44:20.607Z"
   },
   {
    "duration": 32,
    "start_time": "2022-11-19T10:44:26.642Z"
   },
   {
    "duration": 25,
    "start_time": "2022-11-19T10:44:40.844Z"
   },
   {
    "duration": 33,
    "start_time": "2022-11-19T10:44:47.082Z"
   },
   {
    "duration": 7,
    "start_time": "2022-11-19T10:46:20.845Z"
   },
   {
    "duration": 6,
    "start_time": "2022-11-19T10:46:28.881Z"
   },
   {
    "duration": 41,
    "start_time": "2022-11-19T10:46:40.586Z"
   },
   {
    "duration": 877,
    "start_time": "2022-11-19T10:46:58.103Z"
   },
   {
    "duration": 707,
    "start_time": "2022-11-19T10:47:04.354Z"
   },
   {
    "duration": 43,
    "start_time": "2022-11-19T10:47:12.591Z"
   },
   {
    "duration": 42,
    "start_time": "2022-11-19T10:47:28.082Z"
   },
   {
    "duration": 44,
    "start_time": "2022-11-24T06:19:52.371Z"
   },
   {
    "duration": 2837,
    "start_time": "2022-11-24T06:19:58.422Z"
   },
   {
    "duration": 12,
    "start_time": "2022-11-24T06:20:01.262Z"
   },
   {
    "duration": 26,
    "start_time": "2022-11-24T06:20:01.276Z"
   },
   {
    "duration": 7,
    "start_time": "2022-11-24T06:20:01.304Z"
   },
   {
    "duration": 36,
    "start_time": "2022-11-24T06:20:01.313Z"
   },
   {
    "duration": 29,
    "start_time": "2022-11-24T06:20:01.351Z"
   },
   {
    "duration": 5,
    "start_time": "2022-11-24T06:20:01.382Z"
   },
   {
    "duration": 19,
    "start_time": "2022-11-24T06:20:01.389Z"
   },
   {
    "duration": 21,
    "start_time": "2022-11-24T06:20:01.410Z"
   },
   {
    "duration": 22,
    "start_time": "2022-11-24T06:20:01.433Z"
   },
   {
    "duration": 14,
    "start_time": "2022-11-24T06:20:01.457Z"
   },
   {
    "duration": 25,
    "start_time": "2022-11-24T06:20:01.473Z"
   },
   {
    "duration": 64,
    "start_time": "2022-11-24T06:20:01.500Z"
   },
   {
    "duration": 40,
    "start_time": "2022-11-24T06:21:00.632Z"
   },
   {
    "duration": 13,
    "start_time": "2022-11-24T06:21:07.532Z"
   },
   {
    "duration": 4,
    "start_time": "2022-11-24T06:21:19.964Z"
   },
   {
    "duration": 1238,
    "start_time": "2022-11-24T06:21:27.478Z"
   },
   {
    "duration": 1189,
    "start_time": "2022-11-24T06:21:42.573Z"
   },
   {
    "duration": 22,
    "start_time": "2022-11-24T06:22:02.383Z"
   },
   {
    "duration": 13,
    "start_time": "2022-11-24T06:22:12.384Z"
   },
   {
    "duration": 15,
    "start_time": "2022-11-24T06:22:16.881Z"
   },
   {
    "duration": 22,
    "start_time": "2022-11-24T06:22:27.271Z"
   },
   {
    "duration": 31,
    "start_time": "2022-11-24T06:23:50.112Z"
   },
   {
    "duration": 5,
    "start_time": "2022-11-24T06:28:55.453Z"
   },
   {
    "duration": 6,
    "start_time": "2022-11-24T06:29:18.643Z"
   },
   {
    "duration": 3,
    "start_time": "2022-11-24T06:29:19.631Z"
   },
   {
    "duration": 91,
    "start_time": "2022-11-24T06:33:14.492Z"
   },
   {
    "duration": 8,
    "start_time": "2022-11-24T06:33:27.662Z"
   },
   {
    "duration": 20,
    "start_time": "2022-11-24T06:37:17.204Z"
   },
   {
    "duration": 16,
    "start_time": "2022-11-24T06:37:22.774Z"
   },
   {
    "duration": 20,
    "start_time": "2022-11-24T06:37:35.024Z"
   },
   {
    "duration": 22,
    "start_time": "2022-11-24T06:37:47.132Z"
   },
   {
    "duration": 16,
    "start_time": "2022-11-24T06:37:55.922Z"
   },
   {
    "duration": 15,
    "start_time": "2022-11-24T06:38:02.943Z"
   },
   {
    "duration": 1980,
    "start_time": "2022-11-24T06:39:04.286Z"
   },
   {
    "duration": 14,
    "start_time": "2022-11-24T06:39:06.268Z"
   },
   {
    "duration": 19,
    "start_time": "2022-11-24T06:39:06.284Z"
   },
   {
    "duration": 9,
    "start_time": "2022-11-24T06:39:06.305Z"
   },
   {
    "duration": 31,
    "start_time": "2022-11-24T06:39:06.316Z"
   },
   {
    "duration": 47,
    "start_time": "2022-11-24T06:39:06.349Z"
   },
   {
    "duration": 7,
    "start_time": "2022-11-24T06:39:06.399Z"
   },
   {
    "duration": 2746,
    "start_time": "2022-11-24T06:39:42.091Z"
   },
   {
    "duration": 10,
    "start_time": "2022-11-24T06:39:44.839Z"
   },
   {
    "duration": 15,
    "start_time": "2022-11-24T06:39:44.851Z"
   },
   {
    "duration": 7,
    "start_time": "2022-11-24T06:39:44.869Z"
   },
   {
    "duration": 28,
    "start_time": "2022-11-24T06:39:44.877Z"
   },
   {
    "duration": 26,
    "start_time": "2022-11-24T06:39:44.907Z"
   },
   {
    "duration": 6,
    "start_time": "2022-11-24T06:39:44.934Z"
   },
   {
    "duration": 23,
    "start_time": "2022-11-24T06:39:44.941Z"
   },
   {
    "duration": 8,
    "start_time": "2022-11-24T06:39:44.977Z"
   },
   {
    "duration": 7,
    "start_time": "2022-11-24T06:39:44.988Z"
   },
   {
    "duration": 39,
    "start_time": "2022-11-24T06:39:44.997Z"
   },
   {
    "duration": 38,
    "start_time": "2022-11-24T06:39:45.038Z"
   },
   {
    "duration": 116,
    "start_time": "2022-11-24T06:39:45.078Z"
   },
   {
    "duration": 7,
    "start_time": "2022-11-24T06:39:45.196Z"
   },
   {
    "duration": 35,
    "start_time": "2022-11-24T06:40:45.533Z"
   },
   {
    "duration": 58,
    "start_time": "2022-11-24T06:40:54.734Z"
   },
   {
    "duration": 88,
    "start_time": "2022-11-24T06:41:47.952Z"
   },
   {
    "duration": 17,
    "start_time": "2022-11-24T06:41:49.053Z"
   },
   {
    "duration": 7,
    "start_time": "2022-11-24T06:42:03.933Z"
   },
   {
    "duration": 22,
    "start_time": "2022-11-24T06:43:56.971Z"
   },
   {
    "duration": 22,
    "start_time": "2022-11-24T06:44:03.281Z"
   },
   {
    "duration": 14,
    "start_time": "2022-11-24T06:44:14.565Z"
   },
   {
    "duration": 98,
    "start_time": "2022-11-24T06:44:44.653Z"
   },
   {
    "duration": 14,
    "start_time": "2022-11-24T06:44:45.183Z"
   },
   {
    "duration": 4,
    "start_time": "2022-11-24T06:48:14.571Z"
   },
   {
    "duration": 5,
    "start_time": "2022-11-24T06:49:58.892Z"
   },
   {
    "duration": 3,
    "start_time": "2022-11-24T06:55:04.624Z"
   },
   {
    "duration": 27,
    "start_time": "2022-11-24T06:55:15.001Z"
   },
   {
    "duration": 5,
    "start_time": "2022-11-24T06:57:45.453Z"
   },
   {
    "duration": 24,
    "start_time": "2022-11-24T06:57:46.312Z"
   },
   {
    "duration": 7,
    "start_time": "2022-11-24T06:59:43.480Z"
   },
   {
    "duration": 7,
    "start_time": "2022-11-24T06:59:54.501Z"
   },
   {
    "duration": 6,
    "start_time": "2022-11-24T07:00:01.111Z"
   },
   {
    "duration": 2546,
    "start_time": "2022-11-24T07:00:08.332Z"
   },
   {
    "duration": 10,
    "start_time": "2022-11-24T07:00:10.880Z"
   },
   {
    "duration": 20,
    "start_time": "2022-11-24T07:00:10.891Z"
   },
   {
    "duration": 6,
    "start_time": "2022-11-24T07:00:10.912Z"
   },
   {
    "duration": 35,
    "start_time": "2022-11-24T07:00:10.920Z"
   },
   {
    "duration": 52,
    "start_time": "2022-11-24T07:00:10.957Z"
   },
   {
    "duration": 8,
    "start_time": "2022-11-24T07:00:11.011Z"
   },
   {
    "duration": 19,
    "start_time": "2022-11-24T07:00:11.021Z"
   },
   {
    "duration": 29,
    "start_time": "2022-11-24T07:00:11.043Z"
   },
   {
    "duration": 15,
    "start_time": "2022-11-24T07:00:11.080Z"
   },
   {
    "duration": 18,
    "start_time": "2022-11-24T07:00:11.097Z"
   },
   {
    "duration": 8,
    "start_time": "2022-11-24T07:00:11.117Z"
   },
   {
    "duration": 151,
    "start_time": "2022-11-24T07:00:11.127Z"
   },
   {
    "duration": 6,
    "start_time": "2022-11-24T07:00:11.281Z"
   },
   {
    "duration": 1417,
    "start_time": "2022-11-24T07:00:11.289Z"
   },
   {
    "duration": 15,
    "start_time": "2022-11-24T07:00:28.973Z"
   },
   {
    "duration": 5,
    "start_time": "2022-11-24T07:04:48.352Z"
   },
   {
    "duration": 27,
    "start_time": "2022-11-24T07:04:57.711Z"
   },
   {
    "duration": 27,
    "start_time": "2022-11-24T07:06:39.215Z"
   },
   {
    "duration": 11,
    "start_time": "2022-11-24T07:09:13.741Z"
   },
   {
    "duration": 25,
    "start_time": "2022-11-24T07:10:37.262Z"
   },
   {
    "duration": 29,
    "start_time": "2022-11-24T07:11:12.185Z"
   },
   {
    "duration": 28,
    "start_time": "2022-11-24T07:12:30.191Z"
   },
   {
    "duration": 8,
    "start_time": "2022-11-24T07:12:47.702Z"
   },
   {
    "duration": 8,
    "start_time": "2022-11-24T07:20:48.164Z"
   },
   {
    "duration": 9,
    "start_time": "2022-11-24T07:21:18.525Z"
   },
   {
    "duration": 2611,
    "start_time": "2022-11-24T07:21:37.015Z"
   },
   {
    "duration": 10,
    "start_time": "2022-11-24T07:21:39.628Z"
   },
   {
    "duration": 16,
    "start_time": "2022-11-24T07:21:39.640Z"
   },
   {
    "duration": 8,
    "start_time": "2022-11-24T07:21:39.657Z"
   },
   {
    "duration": 35,
    "start_time": "2022-11-24T07:21:39.668Z"
   },
   {
    "duration": 26,
    "start_time": "2022-11-24T07:21:39.705Z"
   },
   {
    "duration": 7,
    "start_time": "2022-11-24T07:21:39.733Z"
   },
   {
    "duration": 12,
    "start_time": "2022-11-24T07:21:39.741Z"
   },
   {
    "duration": 8,
    "start_time": "2022-11-24T07:21:39.778Z"
   },
   {
    "duration": 3,
    "start_time": "2022-11-24T07:21:39.788Z"
   },
   {
    "duration": 12,
    "start_time": "2022-11-24T07:21:39.793Z"
   },
   {
    "duration": 5,
    "start_time": "2022-11-24T07:21:39.806Z"
   },
   {
    "duration": 122,
    "start_time": "2022-11-24T07:21:39.813Z"
   },
   {
    "duration": 4,
    "start_time": "2022-11-24T07:21:39.937Z"
   },
   {
    "duration": 77,
    "start_time": "2022-11-24T07:21:39.942Z"
   },
   {
    "duration": 0,
    "start_time": "2022-11-24T07:21:40.021Z"
   },
   {
    "duration": 0,
    "start_time": "2022-11-24T07:21:40.022Z"
   },
   {
    "duration": 9,
    "start_time": "2022-11-24T07:22:00.156Z"
   },
   {
    "duration": 14,
    "start_time": "2022-11-24T07:22:17.504Z"
   },
   {
    "duration": 28,
    "start_time": "2022-11-24T07:26:15.805Z"
   },
   {
    "duration": 29,
    "start_time": "2022-11-24T07:26:30.945Z"
   },
   {
    "duration": 2820,
    "start_time": "2022-11-24T07:27:19.770Z"
   },
   {
    "duration": 9,
    "start_time": "2022-11-24T07:27:22.592Z"
   },
   {
    "duration": 24,
    "start_time": "2022-11-24T07:27:22.603Z"
   },
   {
    "duration": 44,
    "start_time": "2022-11-24T07:27:22.628Z"
   },
   {
    "duration": 63,
    "start_time": "2022-11-24T07:27:22.674Z"
   },
   {
    "duration": 43,
    "start_time": "2022-11-24T07:27:22.739Z"
   },
   {
    "duration": 6,
    "start_time": "2022-11-24T07:27:22.784Z"
   },
   {
    "duration": 34,
    "start_time": "2022-11-24T07:27:22.792Z"
   },
   {
    "duration": 52,
    "start_time": "2022-11-24T07:27:22.828Z"
   },
   {
    "duration": 37,
    "start_time": "2022-11-24T07:27:22.882Z"
   },
   {
    "duration": 31,
    "start_time": "2022-11-24T07:27:22.921Z"
   },
   {
    "duration": 11,
    "start_time": "2022-11-24T07:27:22.954Z"
   },
   {
    "duration": 139,
    "start_time": "2022-11-24T07:27:22.968Z"
   },
   {
    "duration": 5,
    "start_time": "2022-11-24T07:27:23.109Z"
   },
   {
    "duration": 49,
    "start_time": "2022-11-24T07:27:23.115Z"
   },
   {
    "duration": 15,
    "start_time": "2022-11-24T07:27:23.166Z"
   },
   {
    "duration": 23,
    "start_time": "2022-11-24T07:27:23.183Z"
   },
   {
    "duration": 2945,
    "start_time": "2022-11-24T07:27:52.493Z"
   },
   {
    "duration": 9,
    "start_time": "2022-11-24T07:27:55.440Z"
   },
   {
    "duration": 15,
    "start_time": "2022-11-24T07:27:55.451Z"
   },
   {
    "duration": 7,
    "start_time": "2022-11-24T07:27:55.468Z"
   },
   {
    "duration": 28,
    "start_time": "2022-11-24T07:27:55.477Z"
   },
   {
    "duration": 26,
    "start_time": "2022-11-24T07:27:55.507Z"
   },
   {
    "duration": 5,
    "start_time": "2022-11-24T07:27:55.534Z"
   },
   {
    "duration": 13,
    "start_time": "2022-11-24T07:27:55.541Z"
   },
   {
    "duration": 31,
    "start_time": "2022-11-24T07:27:55.555Z"
   },
   {
    "duration": 5,
    "start_time": "2022-11-24T07:27:55.588Z"
   },
   {
    "duration": 17,
    "start_time": "2022-11-24T07:27:55.595Z"
   },
   {
    "duration": 9,
    "start_time": "2022-11-24T07:27:55.614Z"
   },
   {
    "duration": 179,
    "start_time": "2022-11-24T07:27:55.625Z"
   },
   {
    "duration": 5,
    "start_time": "2022-11-24T07:27:55.807Z"
   },
   {
    "duration": 15,
    "start_time": "2022-11-24T07:27:55.815Z"
   },
   {
    "duration": 8,
    "start_time": "2022-11-24T07:27:55.832Z"
   },
   {
    "duration": 18,
    "start_time": "2022-11-24T07:27:55.842Z"
   },
   {
    "duration": 3,
    "start_time": "2022-11-24T07:40:34.874Z"
   },
   {
    "duration": 15,
    "start_time": "2022-11-24T07:40:36.315Z"
   },
   {
    "duration": 24,
    "start_time": "2022-11-24T07:40:51.034Z"
   },
   {
    "duration": 13,
    "start_time": "2022-11-24T07:41:20.663Z"
   },
   {
    "duration": 25,
    "start_time": "2022-11-24T07:41:21.382Z"
   },
   {
    "duration": 3,
    "start_time": "2022-11-24T07:42:09.241Z"
   },
   {
    "duration": 2053,
    "start_time": "2022-11-24T07:42:11.325Z"
   },
   {
    "duration": 22,
    "start_time": "2022-11-24T07:42:13.380Z"
   },
   {
    "duration": 29,
    "start_time": "2022-11-24T07:42:33.758Z"
   },
   {
    "duration": 4,
    "start_time": "2022-11-24T07:47:38.507Z"
   },
   {
    "duration": 27,
    "start_time": "2022-11-24T07:47:58.309Z"
   },
   {
    "duration": 5,
    "start_time": "2022-11-24T07:48:15.030Z"
   },
   {
    "duration": 26,
    "start_time": "2022-11-24T07:48:15.649Z"
   },
   {
    "duration": 2584,
    "start_time": "2022-11-24T07:52:53.437Z"
   },
   {
    "duration": 9,
    "start_time": "2022-11-24T07:52:56.023Z"
   },
   {
    "duration": 15,
    "start_time": "2022-11-24T07:52:56.034Z"
   },
   {
    "duration": 76,
    "start_time": "2022-11-24T07:52:56.050Z"
   },
   {
    "duration": 1,
    "start_time": "2022-11-24T07:52:56.127Z"
   },
   {
    "duration": 0,
    "start_time": "2022-11-24T07:52:56.128Z"
   },
   {
    "duration": 0,
    "start_time": "2022-11-24T07:52:56.130Z"
   },
   {
    "duration": 0,
    "start_time": "2022-11-24T07:52:56.131Z"
   },
   {
    "duration": 0,
    "start_time": "2022-11-24T07:52:56.132Z"
   },
   {
    "duration": 0,
    "start_time": "2022-11-24T07:52:56.133Z"
   },
   {
    "duration": 0,
    "start_time": "2022-11-24T07:52:56.134Z"
   },
   {
    "duration": 0,
    "start_time": "2022-11-24T07:52:56.134Z"
   },
   {
    "duration": 0,
    "start_time": "2022-11-24T07:52:56.135Z"
   },
   {
    "duration": 0,
    "start_time": "2022-11-24T07:52:56.136Z"
   },
   {
    "duration": 0,
    "start_time": "2022-11-24T07:52:56.137Z"
   },
   {
    "duration": 0,
    "start_time": "2022-11-24T07:52:56.138Z"
   },
   {
    "duration": 0,
    "start_time": "2022-11-24T07:52:56.139Z"
   },
   {
    "duration": 0,
    "start_time": "2022-11-24T07:52:56.140Z"
   },
   {
    "duration": 1,
    "start_time": "2022-11-24T07:52:56.140Z"
   },
   {
    "duration": 0,
    "start_time": "2022-11-24T07:52:56.141Z"
   },
   {
    "duration": 4,
    "start_time": "2022-11-24T07:54:11.189Z"
   },
   {
    "duration": 2528,
    "start_time": "2022-11-24T07:54:18.717Z"
   },
   {
    "duration": 10,
    "start_time": "2022-11-24T07:54:21.247Z"
   },
   {
    "duration": 15,
    "start_time": "2022-11-24T07:54:21.258Z"
   },
   {
    "duration": 7,
    "start_time": "2022-11-24T07:54:21.275Z"
   },
   {
    "duration": 27,
    "start_time": "2022-11-24T07:54:21.284Z"
   },
   {
    "duration": 25,
    "start_time": "2022-11-24T07:54:21.312Z"
   },
   {
    "duration": 5,
    "start_time": "2022-11-24T07:54:21.338Z"
   },
   {
    "duration": 33,
    "start_time": "2022-11-24T07:54:21.345Z"
   },
   {
    "duration": 8,
    "start_time": "2022-11-24T07:54:21.379Z"
   },
   {
    "duration": 4,
    "start_time": "2022-11-24T07:54:21.389Z"
   },
   {
    "duration": 12,
    "start_time": "2022-11-24T07:54:21.394Z"
   },
   {
    "duration": 6,
    "start_time": "2022-11-24T07:54:21.407Z"
   },
   {
    "duration": 122,
    "start_time": "2022-11-24T07:54:21.414Z"
   },
   {
    "duration": 5,
    "start_time": "2022-11-24T07:54:21.538Z"
   },
   {
    "duration": 16,
    "start_time": "2022-11-24T07:54:21.544Z"
   },
   {
    "duration": 17,
    "start_time": "2022-11-24T07:54:21.561Z"
   },
   {
    "duration": 9,
    "start_time": "2022-11-24T07:54:21.579Z"
   },
   {
    "duration": 11,
    "start_time": "2022-11-24T07:54:21.589Z"
   },
   {
    "duration": 2020,
    "start_time": "2022-11-24T07:54:21.601Z"
   },
   {
    "duration": 4,
    "start_time": "2022-11-24T07:54:23.623Z"
   },
   {
    "duration": 68,
    "start_time": "2022-11-24T07:55:07.576Z"
   },
   {
    "duration": 23,
    "start_time": "2022-11-24T07:55:10.789Z"
   },
   {
    "duration": 2688,
    "start_time": "2022-11-24T07:56:06.157Z"
   },
   {
    "duration": 10,
    "start_time": "2022-11-24T07:56:08.847Z"
   },
   {
    "duration": 15,
    "start_time": "2022-11-24T07:56:08.858Z"
   },
   {
    "duration": 6,
    "start_time": "2022-11-24T07:56:08.874Z"
   },
   {
    "duration": 28,
    "start_time": "2022-11-24T07:56:08.883Z"
   },
   {
    "duration": 24,
    "start_time": "2022-11-24T07:56:08.913Z"
   },
   {
    "duration": 6,
    "start_time": "2022-11-24T07:56:08.938Z"
   },
   {
    "duration": 12,
    "start_time": "2022-11-24T07:56:08.945Z"
   },
   {
    "duration": 25,
    "start_time": "2022-11-24T07:56:08.958Z"
   },
   {
    "duration": 3,
    "start_time": "2022-11-24T07:56:08.985Z"
   },
   {
    "duration": 11,
    "start_time": "2022-11-24T07:56:08.989Z"
   },
   {
    "duration": 5,
    "start_time": "2022-11-24T07:56:09.001Z"
   },
   {
    "duration": 124,
    "start_time": "2022-11-24T07:56:09.008Z"
   },
   {
    "duration": 5,
    "start_time": "2022-11-24T07:56:09.134Z"
   },
   {
    "duration": 11,
    "start_time": "2022-11-24T07:56:09.140Z"
   },
   {
    "duration": 10,
    "start_time": "2022-11-24T07:56:09.153Z"
   },
   {
    "duration": 18,
    "start_time": "2022-11-24T07:56:09.164Z"
   },
   {
    "duration": 2033,
    "start_time": "2022-11-24T07:56:09.183Z"
   },
   {
    "duration": 4,
    "start_time": "2022-11-24T07:56:11.217Z"
   },
   {
    "duration": 2062,
    "start_time": "2022-11-24T08:05:42.447Z"
   },
   {
    "duration": 3,
    "start_time": "2022-11-24T08:07:06.146Z"
   },
   {
    "duration": 73,
    "start_time": "2022-11-24T08:07:17.336Z"
   },
   {
    "duration": 2863,
    "start_time": "2022-11-24T08:08:14.978Z"
   },
   {
    "duration": 10,
    "start_time": "2022-11-24T08:08:17.844Z"
   },
   {
    "duration": 18,
    "start_time": "2022-11-24T08:08:17.855Z"
   },
   {
    "duration": 6,
    "start_time": "2022-11-24T08:08:17.875Z"
   },
   {
    "duration": 29,
    "start_time": "2022-11-24T08:08:17.883Z"
   },
   {
    "duration": 27,
    "start_time": "2022-11-24T08:08:17.914Z"
   },
   {
    "duration": 6,
    "start_time": "2022-11-24T08:08:17.942Z"
   },
   {
    "duration": 39,
    "start_time": "2022-11-24T08:08:17.950Z"
   },
   {
    "duration": 9,
    "start_time": "2022-11-24T08:08:17.991Z"
   },
   {
    "duration": 7,
    "start_time": "2022-11-24T08:08:18.002Z"
   },
   {
    "duration": 16,
    "start_time": "2022-11-24T08:08:18.010Z"
   },
   {
    "duration": 6,
    "start_time": "2022-11-24T08:08:18.028Z"
   },
   {
    "duration": 143,
    "start_time": "2022-11-24T08:08:18.036Z"
   },
   {
    "duration": 3,
    "start_time": "2022-11-24T08:08:18.182Z"
   },
   {
    "duration": 14,
    "start_time": "2022-11-24T08:08:18.187Z"
   },
   {
    "duration": 10,
    "start_time": "2022-11-24T08:08:18.202Z"
   },
   {
    "duration": 11,
    "start_time": "2022-11-24T08:08:18.214Z"
   },
   {
    "duration": 2139,
    "start_time": "2022-11-24T08:08:18.226Z"
   },
   {
    "duration": 5,
    "start_time": "2022-11-24T08:08:20.366Z"
   },
   {
    "duration": 2172,
    "start_time": "2022-11-24T08:09:33.656Z"
   },
   {
    "duration": 4,
    "start_time": "2022-11-24T08:09:37.566Z"
   },
   {
    "duration": 2760,
    "start_time": "2022-11-24T08:21:40.750Z"
   },
   {
    "duration": 12,
    "start_time": "2022-11-24T08:21:43.512Z"
   },
   {
    "duration": 16,
    "start_time": "2022-11-24T08:21:43.526Z"
   },
   {
    "duration": 6,
    "start_time": "2022-11-24T08:21:43.545Z"
   },
   {
    "duration": 34,
    "start_time": "2022-11-24T08:21:43.553Z"
   },
   {
    "duration": 26,
    "start_time": "2022-11-24T08:21:43.589Z"
   },
   {
    "duration": 6,
    "start_time": "2022-11-24T08:21:43.616Z"
   },
   {
    "duration": 13,
    "start_time": "2022-11-24T08:21:43.623Z"
   },
   {
    "duration": 8,
    "start_time": "2022-11-24T08:21:43.638Z"
   },
   {
    "duration": 29,
    "start_time": "2022-11-24T08:21:43.648Z"
   },
   {
    "duration": 12,
    "start_time": "2022-11-24T08:21:43.679Z"
   },
   {
    "duration": 6,
    "start_time": "2022-11-24T08:21:43.693Z"
   },
   {
    "duration": 127,
    "start_time": "2022-11-24T08:21:43.700Z"
   },
   {
    "duration": 4,
    "start_time": "2022-11-24T08:21:43.829Z"
   },
   {
    "duration": 14,
    "start_time": "2022-11-24T08:21:43.834Z"
   },
   {
    "duration": 9,
    "start_time": "2022-11-24T08:21:43.849Z"
   },
   {
    "duration": 22,
    "start_time": "2022-11-24T08:21:43.860Z"
   },
   {
    "duration": 2338,
    "start_time": "2022-11-24T08:21:43.883Z"
   },
   {
    "duration": 4,
    "start_time": "2022-11-24T08:21:46.223Z"
   },
   {
    "duration": 48,
    "start_time": "2022-11-24T12:54:45.964Z"
   },
   {
    "duration": 3079,
    "start_time": "2022-11-24T12:54:51.156Z"
   },
   {
    "duration": 11,
    "start_time": "2022-11-24T12:54:54.238Z"
   },
   {
    "duration": 26,
    "start_time": "2022-11-24T12:54:54.251Z"
   },
   {
    "duration": 25,
    "start_time": "2022-11-24T12:54:54.279Z"
   },
   {
    "duration": 37,
    "start_time": "2022-11-24T12:54:54.305Z"
   },
   {
    "duration": 29,
    "start_time": "2022-11-24T12:54:54.344Z"
   },
   {
    "duration": 6,
    "start_time": "2022-11-24T12:54:54.374Z"
   },
   {
    "duration": 27,
    "start_time": "2022-11-24T12:54:54.381Z"
   },
   {
    "duration": 19,
    "start_time": "2022-11-24T12:54:54.410Z"
   },
   {
    "duration": 23,
    "start_time": "2022-11-24T12:54:54.431Z"
   },
   {
    "duration": 24,
    "start_time": "2022-11-24T12:54:54.455Z"
   },
   {
    "duration": 24,
    "start_time": "2022-11-24T12:54:54.480Z"
   },
   {
    "duration": 162,
    "start_time": "2022-11-24T12:54:54.505Z"
   },
   {
    "duration": 5,
    "start_time": "2022-11-24T12:54:54.668Z"
   },
   {
    "duration": 31,
    "start_time": "2022-11-24T12:54:54.674Z"
   },
   {
    "duration": 46,
    "start_time": "2022-11-24T12:54:54.707Z"
   },
   {
    "duration": 15,
    "start_time": "2022-11-24T12:54:54.754Z"
   },
   {
    "duration": 2298,
    "start_time": "2022-11-24T12:54:54.771Z"
   },
   {
    "duration": 4,
    "start_time": "2022-11-24T12:54:57.071Z"
   },
   {
    "duration": 222,
    "start_time": "2022-11-24T12:54:57.076Z"
   },
   {
    "duration": 139,
    "start_time": "2022-11-24T12:55:05.717Z"
   },
   {
    "duration": 2735,
    "start_time": "2022-11-24T13:05:05.777Z"
   },
   {
    "duration": 10,
    "start_time": "2022-11-24T13:05:08.514Z"
   },
   {
    "duration": 22,
    "start_time": "2022-11-24T13:05:08.525Z"
   },
   {
    "duration": 7,
    "start_time": "2022-11-24T13:05:08.549Z"
   },
   {
    "duration": 28,
    "start_time": "2022-11-24T13:05:08.558Z"
   },
   {
    "duration": 33,
    "start_time": "2022-11-24T13:05:08.588Z"
   },
   {
    "duration": 5,
    "start_time": "2022-11-24T13:05:08.623Z"
   },
   {
    "duration": 10,
    "start_time": "2022-11-24T13:05:08.629Z"
   },
   {
    "duration": 7,
    "start_time": "2022-11-24T13:05:08.640Z"
   },
   {
    "duration": 6,
    "start_time": "2022-11-24T13:05:08.649Z"
   },
   {
    "duration": 12,
    "start_time": "2022-11-24T13:05:08.656Z"
   },
   {
    "duration": 5,
    "start_time": "2022-11-24T13:05:08.670Z"
   },
   {
    "duration": 112,
    "start_time": "2022-11-24T13:05:08.716Z"
   },
   {
    "duration": 4,
    "start_time": "2022-11-24T13:05:08.831Z"
   },
   {
    "duration": 18,
    "start_time": "2022-11-24T13:05:08.837Z"
   },
   {
    "duration": 15,
    "start_time": "2022-11-24T13:05:08.857Z"
   },
   {
    "duration": 9,
    "start_time": "2022-11-24T13:05:08.873Z"
   },
   {
    "duration": 2057,
    "start_time": "2022-11-24T13:05:08.884Z"
   },
   {
    "duration": 4,
    "start_time": "2022-11-24T13:05:10.943Z"
   },
   {
    "duration": 146,
    "start_time": "2022-11-24T13:05:10.949Z"
   },
   {
    "duration": 166,
    "start_time": "2022-11-24T13:05:11.097Z"
   },
   {
    "duration": 140,
    "start_time": "2022-11-24T13:05:11.264Z"
   },
   {
    "duration": 144,
    "start_time": "2022-11-24T13:05:11.405Z"
   },
   {
    "duration": 146,
    "start_time": "2022-11-24T13:05:11.551Z"
   },
   {
    "duration": 132,
    "start_time": "2022-11-24T13:05:11.699Z"
   },
   {
    "duration": 240,
    "start_time": "2022-11-24T13:05:11.833Z"
   },
   {
    "duration": 155,
    "start_time": "2022-11-24T13:05:12.076Z"
   },
   {
    "duration": 132,
    "start_time": "2022-11-24T13:05:12.232Z"
   },
   {
    "duration": 153,
    "start_time": "2022-11-24T13:05:12.366Z"
   },
   {
    "duration": 127,
    "start_time": "2022-11-24T13:05:12.520Z"
   },
   {
    "duration": 146,
    "start_time": "2022-11-24T13:05:12.649Z"
   },
   {
    "duration": 998,
    "start_time": "2022-11-24T13:05:12.797Z"
   },
   {
    "duration": 150,
    "start_time": "2022-11-24T13:05:25.091Z"
   },
   {
    "duration": 13,
    "start_time": "2022-11-24T13:05:31.519Z"
   },
   {
    "duration": 11,
    "start_time": "2022-11-24T13:07:33.686Z"
   },
   {
    "duration": 12,
    "start_time": "2022-11-24T13:10:59.227Z"
   },
   {
    "duration": 1723,
    "start_time": "2022-11-24T13:11:06.607Z"
   },
   {
    "duration": 164,
    "start_time": "2022-11-24T13:11:38.816Z"
   },
   {
    "duration": 137,
    "start_time": "2022-11-24T13:11:46.726Z"
   },
   {
    "duration": 12,
    "start_time": "2022-11-24T13:13:45.388Z"
   },
   {
    "duration": 44,
    "start_time": "2022-11-24T13:15:09.057Z"
   },
   {
    "duration": 135,
    "start_time": "2022-11-24T13:15:25.371Z"
   },
   {
    "duration": 191,
    "start_time": "2022-11-24T13:15:30.769Z"
   },
   {
    "duration": 364,
    "start_time": "2022-11-24T13:15:37.939Z"
   },
   {
    "duration": 154,
    "start_time": "2022-11-24T13:15:48.617Z"
   },
   {
    "duration": 3004,
    "start_time": "2022-11-24T17:02:45.870Z"
   },
   {
    "duration": 15,
    "start_time": "2022-11-24T17:02:48.876Z"
   },
   {
    "duration": 30,
    "start_time": "2022-11-24T17:02:48.895Z"
   },
   {
    "duration": 11,
    "start_time": "2022-11-24T17:02:48.927Z"
   },
   {
    "duration": 37,
    "start_time": "2022-11-24T17:02:48.940Z"
   },
   {
    "duration": 30,
    "start_time": "2022-11-24T17:02:48.981Z"
   },
   {
    "duration": 7,
    "start_time": "2022-11-24T17:02:49.013Z"
   },
   {
    "duration": 37,
    "start_time": "2022-11-24T17:02:49.021Z"
   },
   {
    "duration": 13,
    "start_time": "2022-11-24T17:02:49.060Z"
   },
   {
    "duration": 25,
    "start_time": "2022-11-24T17:02:49.077Z"
   },
   {
    "duration": 16,
    "start_time": "2022-11-24T17:02:49.104Z"
   },
   {
    "duration": 22,
    "start_time": "2022-11-24T17:02:49.122Z"
   },
   {
    "duration": 128,
    "start_time": "2022-11-24T17:02:49.146Z"
   },
   {
    "duration": 6,
    "start_time": "2022-11-24T17:02:49.276Z"
   },
   {
    "duration": 29,
    "start_time": "2022-11-24T17:02:49.284Z"
   },
   {
    "duration": 10,
    "start_time": "2022-11-24T17:02:49.315Z"
   },
   {
    "duration": 16,
    "start_time": "2022-11-24T17:02:49.327Z"
   },
   {
    "duration": 2187,
    "start_time": "2022-11-24T17:02:49.345Z"
   },
   {
    "duration": 5,
    "start_time": "2022-11-24T17:02:51.534Z"
   },
   {
    "duration": 164,
    "start_time": "2022-11-24T17:02:51.540Z"
   },
   {
    "duration": 162,
    "start_time": "2022-11-24T17:02:51.706Z"
   },
   {
    "duration": 160,
    "start_time": "2022-11-24T17:02:51.870Z"
   },
   {
    "duration": 168,
    "start_time": "2022-11-24T17:02:52.032Z"
   },
   {
    "duration": 189,
    "start_time": "2022-11-24T17:02:52.202Z"
   },
   {
    "duration": 233,
    "start_time": "2022-11-24T17:02:52.394Z"
   },
   {
    "duration": 177,
    "start_time": "2022-11-24T17:02:52.629Z"
   },
   {
    "duration": 163,
    "start_time": "2022-11-24T17:02:52.808Z"
   },
   {
    "duration": 178,
    "start_time": "2022-11-24T17:02:52.974Z"
   },
   {
    "duration": 171,
    "start_time": "2022-11-24T17:02:53.153Z"
   },
   {
    "duration": 164,
    "start_time": "2022-11-24T17:02:53.326Z"
   },
   {
    "duration": 167,
    "start_time": "2022-11-24T17:02:53.491Z"
   },
   {
    "duration": 2,
    "start_time": "2022-11-24T17:02:53.659Z"
   },
   {
    "duration": 2283,
    "start_time": "2022-11-24T17:05:27.447Z"
   },
   {
    "duration": 2404,
    "start_time": "2022-11-24T17:06:04.018Z"
   },
   {
    "duration": 93,
    "start_time": "2022-11-24T17:06:37.033Z"
   },
   {
    "duration": 2280,
    "start_time": "2022-11-24T17:07:20.795Z"
   },
   {
    "duration": 2415,
    "start_time": "2022-11-24T17:12:08.004Z"
   },
   {
    "duration": 2438,
    "start_time": "2022-11-24T17:12:13.657Z"
   },
   {
    "duration": 2315,
    "start_time": "2022-11-24T17:12:27.684Z"
   },
   {
    "duration": 2382,
    "start_time": "2022-11-24T17:12:36.451Z"
   },
   {
    "duration": 1451,
    "start_time": "2022-11-24T17:13:31.834Z"
   },
   {
    "duration": 2763,
    "start_time": "2022-11-24T17:13:46.395Z"
   },
   {
    "duration": 12,
    "start_time": "2022-11-24T17:13:49.160Z"
   },
   {
    "duration": 42,
    "start_time": "2022-11-24T17:13:49.174Z"
   },
   {
    "duration": 18,
    "start_time": "2022-11-24T17:13:49.217Z"
   },
   {
    "duration": 50,
    "start_time": "2022-11-24T17:13:49.237Z"
   },
   {
    "duration": 32,
    "start_time": "2022-11-24T17:13:49.290Z"
   },
   {
    "duration": 7,
    "start_time": "2022-11-24T17:13:49.325Z"
   },
   {
    "duration": 33,
    "start_time": "2022-11-24T17:13:49.334Z"
   },
   {
    "duration": 29,
    "start_time": "2022-11-24T17:13:49.369Z"
   },
   {
    "duration": 19,
    "start_time": "2022-11-24T17:13:49.399Z"
   },
   {
    "duration": 35,
    "start_time": "2022-11-24T17:13:49.420Z"
   },
   {
    "duration": 23,
    "start_time": "2022-11-24T17:13:49.457Z"
   },
   {
    "duration": 157,
    "start_time": "2022-11-24T17:13:49.482Z"
   },
   {
    "duration": 4,
    "start_time": "2022-11-24T17:13:49.642Z"
   },
   {
    "duration": 36,
    "start_time": "2022-11-24T17:13:49.648Z"
   },
   {
    "duration": 45,
    "start_time": "2022-11-24T17:13:49.685Z"
   },
   {
    "duration": 33,
    "start_time": "2022-11-24T17:13:49.732Z"
   },
   {
    "duration": 1329,
    "start_time": "2022-11-24T17:13:49.766Z"
   },
   {
    "duration": 0,
    "start_time": "2022-11-24T17:13:51.097Z"
   },
   {
    "duration": 0,
    "start_time": "2022-11-24T17:13:51.098Z"
   },
   {
    "duration": 0,
    "start_time": "2022-11-24T17:13:51.099Z"
   },
   {
    "duration": 0,
    "start_time": "2022-11-24T17:13:51.101Z"
   },
   {
    "duration": 0,
    "start_time": "2022-11-24T17:13:51.102Z"
   },
   {
    "duration": 0,
    "start_time": "2022-11-24T17:13:51.103Z"
   },
   {
    "duration": 0,
    "start_time": "2022-11-24T17:13:51.105Z"
   },
   {
    "duration": 0,
    "start_time": "2022-11-24T17:13:51.106Z"
   },
   {
    "duration": 0,
    "start_time": "2022-11-24T17:13:51.108Z"
   },
   {
    "duration": 0,
    "start_time": "2022-11-24T17:13:51.109Z"
   },
   {
    "duration": 0,
    "start_time": "2022-11-24T17:13:51.111Z"
   },
   {
    "duration": 0,
    "start_time": "2022-11-24T17:13:51.113Z"
   },
   {
    "duration": 0,
    "start_time": "2022-11-24T17:13:51.114Z"
   },
   {
    "duration": 0,
    "start_time": "2022-11-24T17:13:51.115Z"
   },
   {
    "duration": 5,
    "start_time": "2022-11-24T17:15:10.856Z"
   },
   {
    "duration": 26,
    "start_time": "2022-11-24T17:15:25.421Z"
   },
   {
    "duration": 8,
    "start_time": "2022-11-24T17:16:56.722Z"
   },
   {
    "duration": 8,
    "start_time": "2022-11-24T17:17:00.234Z"
   },
   {
    "duration": 11,
    "start_time": "2022-11-24T17:17:18.410Z"
   },
   {
    "duration": 2142,
    "start_time": "2022-11-24T17:17:59.715Z"
   },
   {
    "duration": 2253,
    "start_time": "2022-11-24T17:18:10.674Z"
   },
   {
    "duration": 2498,
    "start_time": "2022-11-24T17:18:43.487Z"
   },
   {
    "duration": 3161,
    "start_time": "2022-11-24T17:19:21.714Z"
   },
   {
    "duration": 2159,
    "start_time": "2022-11-24T17:21:07.641Z"
   },
   {
    "duration": 2310,
    "start_time": "2022-11-24T17:21:17.127Z"
   },
   {
    "duration": 8,
    "start_time": "2022-11-24T17:22:41.020Z"
   },
   {
    "duration": 188,
    "start_time": "2022-11-24T17:23:08.006Z"
   },
   {
    "duration": 2625,
    "start_time": "2022-11-24T17:23:26.265Z"
   },
   {
    "duration": 11,
    "start_time": "2022-11-24T17:23:28.892Z"
   },
   {
    "duration": 15,
    "start_time": "2022-11-24T17:23:28.904Z"
   },
   {
    "duration": 6,
    "start_time": "2022-11-24T17:23:28.921Z"
   },
   {
    "duration": 26,
    "start_time": "2022-11-24T17:23:28.928Z"
   },
   {
    "duration": 46,
    "start_time": "2022-11-24T17:23:28.955Z"
   },
   {
    "duration": 6,
    "start_time": "2022-11-24T17:23:29.003Z"
   },
   {
    "duration": 16,
    "start_time": "2022-11-24T17:23:29.011Z"
   },
   {
    "duration": 8,
    "start_time": "2022-11-24T17:23:29.033Z"
   },
   {
    "duration": 8,
    "start_time": "2022-11-24T17:23:29.043Z"
   },
   {
    "duration": 26,
    "start_time": "2022-11-24T17:23:29.053Z"
   },
   {
    "duration": 11,
    "start_time": "2022-11-24T17:23:29.084Z"
   },
   {
    "duration": 112,
    "start_time": "2022-11-24T17:23:29.096Z"
   },
   {
    "duration": 4,
    "start_time": "2022-11-24T17:23:29.211Z"
   },
   {
    "duration": 12,
    "start_time": "2022-11-24T17:23:29.216Z"
   },
   {
    "duration": 10,
    "start_time": "2022-11-24T17:23:29.230Z"
   },
   {
    "duration": 8,
    "start_time": "2022-11-24T17:23:29.242Z"
   },
   {
    "duration": 2186,
    "start_time": "2022-11-24T17:23:29.251Z"
   },
   {
    "duration": 4,
    "start_time": "2022-11-24T17:23:31.438Z"
   },
   {
    "duration": 166,
    "start_time": "2022-11-24T17:23:31.443Z"
   },
   {
    "duration": 153,
    "start_time": "2022-11-24T17:23:31.611Z"
   },
   {
    "duration": 154,
    "start_time": "2022-11-24T17:23:31.767Z"
   },
   {
    "duration": 164,
    "start_time": "2022-11-24T17:23:31.923Z"
   },
   {
    "duration": 165,
    "start_time": "2022-11-24T17:23:32.089Z"
   },
   {
    "duration": 164,
    "start_time": "2022-11-24T17:23:32.255Z"
   },
   {
    "duration": 243,
    "start_time": "2022-11-24T17:23:32.421Z"
   },
   {
    "duration": 174,
    "start_time": "2022-11-24T17:23:32.666Z"
   },
   {
    "duration": 178,
    "start_time": "2022-11-24T17:23:32.842Z"
   },
   {
    "duration": 176,
    "start_time": "2022-11-24T17:23:33.022Z"
   },
   {
    "duration": 182,
    "start_time": "2022-11-24T17:23:33.200Z"
   },
   {
    "duration": 156,
    "start_time": "2022-11-24T17:23:33.389Z"
   },
   {
    "duration": 188,
    "start_time": "2022-11-24T17:23:33.546Z"
   },
   {
    "duration": 2163,
    "start_time": "2022-11-24T17:24:23.106Z"
   },
   {
    "duration": 2060,
    "start_time": "2022-11-24T17:24:58.335Z"
   },
   {
    "duration": 2134,
    "start_time": "2022-11-24T17:25:34.058Z"
   },
   {
    "duration": 2105,
    "start_time": "2022-11-24T17:25:57.975Z"
   },
   {
    "duration": 2039,
    "start_time": "2022-11-24T17:26:09.445Z"
   },
   {
    "duration": 2659,
    "start_time": "2022-11-24T17:28:33.339Z"
   },
   {
    "duration": 10,
    "start_time": "2022-11-24T17:28:36.000Z"
   },
   {
    "duration": 23,
    "start_time": "2022-11-24T17:28:36.012Z"
   },
   {
    "duration": 8,
    "start_time": "2022-11-24T17:28:36.037Z"
   },
   {
    "duration": 51,
    "start_time": "2022-11-24T17:28:36.047Z"
   },
   {
    "duration": 27,
    "start_time": "2022-11-24T17:28:36.100Z"
   },
   {
    "duration": 10,
    "start_time": "2022-11-24T17:28:36.129Z"
   },
   {
    "duration": 19,
    "start_time": "2022-11-24T17:28:36.140Z"
   },
   {
    "duration": 17,
    "start_time": "2022-11-24T17:28:36.160Z"
   },
   {
    "duration": 20,
    "start_time": "2022-11-24T17:28:36.180Z"
   },
   {
    "duration": 31,
    "start_time": "2022-11-24T17:28:36.202Z"
   },
   {
    "duration": 9,
    "start_time": "2022-11-24T17:28:36.235Z"
   },
   {
    "duration": 120,
    "start_time": "2022-11-24T17:28:36.246Z"
   },
   {
    "duration": 4,
    "start_time": "2022-11-24T17:28:36.368Z"
   },
   {
    "duration": 18,
    "start_time": "2022-11-24T17:28:36.378Z"
   },
   {
    "duration": 36,
    "start_time": "2022-11-24T17:28:36.397Z"
   },
   {
    "duration": 25,
    "start_time": "2022-11-24T17:28:36.434Z"
   },
   {
    "duration": 2020,
    "start_time": "2022-11-24T17:28:36.460Z"
   },
   {
    "duration": 4,
    "start_time": "2022-11-24T17:28:38.482Z"
   },
   {
    "duration": 180,
    "start_time": "2022-11-24T17:28:38.487Z"
   },
   {
    "duration": 154,
    "start_time": "2022-11-24T17:28:38.668Z"
   },
   {
    "duration": 147,
    "start_time": "2022-11-24T17:28:38.824Z"
   },
   {
    "duration": 170,
    "start_time": "2022-11-24T17:28:38.973Z"
   },
   {
    "duration": 162,
    "start_time": "2022-11-24T17:28:39.145Z"
   },
   {
    "duration": 175,
    "start_time": "2022-11-24T17:28:39.309Z"
   },
   {
    "duration": 236,
    "start_time": "2022-11-24T17:28:39.486Z"
   },
   {
    "duration": 141,
    "start_time": "2022-11-24T17:28:39.724Z"
   },
   {
    "duration": 162,
    "start_time": "2022-11-24T17:28:39.877Z"
   },
   {
    "duration": 165,
    "start_time": "2022-11-24T17:28:40.041Z"
   },
   {
    "duration": 161,
    "start_time": "2022-11-24T17:28:40.208Z"
   },
   {
    "duration": 158,
    "start_time": "2022-11-24T17:28:40.371Z"
   },
   {
    "duration": 200,
    "start_time": "2022-11-24T17:28:40.531Z"
   },
   {
    "duration": 2058,
    "start_time": "2022-11-24T17:29:35.994Z"
   },
   {
    "duration": 2006,
    "start_time": "2022-11-24T17:29:46.102Z"
   },
   {
    "duration": 7,
    "start_time": "2022-11-24T17:30:10.894Z"
   },
   {
    "duration": 2796,
    "start_time": "2022-11-24T17:30:16.754Z"
   },
   {
    "duration": 10,
    "start_time": "2022-11-24T17:30:19.552Z"
   },
   {
    "duration": 16,
    "start_time": "2022-11-24T17:30:19.563Z"
   },
   {
    "duration": 10,
    "start_time": "2022-11-24T17:30:19.581Z"
   },
   {
    "duration": 29,
    "start_time": "2022-11-24T17:30:19.592Z"
   },
   {
    "duration": 27,
    "start_time": "2022-11-24T17:30:19.623Z"
   },
   {
    "duration": 6,
    "start_time": "2022-11-24T17:30:19.652Z"
   },
   {
    "duration": 12,
    "start_time": "2022-11-24T17:30:19.678Z"
   },
   {
    "duration": 5,
    "start_time": "2022-11-24T17:30:19.691Z"
   },
   {
    "duration": 6,
    "start_time": "2022-11-24T17:30:19.698Z"
   },
   {
    "duration": 13,
    "start_time": "2022-11-24T17:30:19.705Z"
   },
   {
    "duration": 6,
    "start_time": "2022-11-24T17:30:19.720Z"
   },
   {
    "duration": 137,
    "start_time": "2022-11-24T17:30:19.727Z"
   },
   {
    "duration": 12,
    "start_time": "2022-11-24T17:30:19.866Z"
   },
   {
    "duration": 38,
    "start_time": "2022-11-24T17:30:19.880Z"
   },
   {
    "duration": 18,
    "start_time": "2022-11-24T17:30:19.920Z"
   },
   {
    "duration": 24,
    "start_time": "2022-11-24T17:30:19.940Z"
   },
   {
    "duration": 1628,
    "start_time": "2022-11-24T17:30:19.966Z"
   },
   {
    "duration": 3,
    "start_time": "2022-11-24T17:30:21.596Z"
   },
   {
    "duration": 177,
    "start_time": "2022-11-24T17:30:21.601Z"
   },
   {
    "duration": 152,
    "start_time": "2022-11-24T17:30:21.779Z"
   },
   {
    "duration": 155,
    "start_time": "2022-11-24T17:30:21.933Z"
   },
   {
    "duration": 158,
    "start_time": "2022-11-24T17:30:22.090Z"
   },
   {
    "duration": 170,
    "start_time": "2022-11-24T17:30:22.250Z"
   },
   {
    "duration": 163,
    "start_time": "2022-11-24T17:30:22.421Z"
   },
   {
    "duration": 239,
    "start_time": "2022-11-24T17:30:22.585Z"
   },
   {
    "duration": 164,
    "start_time": "2022-11-24T17:30:22.826Z"
   },
   {
    "duration": 185,
    "start_time": "2022-11-24T17:30:22.992Z"
   },
   {
    "duration": 160,
    "start_time": "2022-11-24T17:30:23.179Z"
   },
   {
    "duration": 152,
    "start_time": "2022-11-24T17:30:23.340Z"
   },
   {
    "duration": 165,
    "start_time": "2022-11-24T17:30:23.493Z"
   },
   {
    "duration": 194,
    "start_time": "2022-11-24T17:30:23.659Z"
   },
   {
    "duration": 1663,
    "start_time": "2022-11-24T17:30:32.688Z"
   },
   {
    "duration": 1672,
    "start_time": "2022-11-24T17:31:18.042Z"
   },
   {
    "duration": 1601,
    "start_time": "2022-11-24T17:31:35.600Z"
   },
   {
    "duration": 353,
    "start_time": "2022-11-24T17:32:35.375Z"
   },
   {
    "duration": 1668,
    "start_time": "2022-11-24T17:32:49.336Z"
   },
   {
    "duration": 1439,
    "start_time": "2022-11-24T17:40:10.456Z"
   },
   {
    "duration": 841,
    "start_time": "2022-11-24T17:40:48.229Z"
   },
   {
    "duration": 5,
    "start_time": "2022-11-24T17:42:49.727Z"
   },
   {
    "duration": 33,
    "start_time": "2022-11-24T17:43:00.221Z"
   },
   {
    "duration": 289,
    "start_time": "2022-11-24T17:45:38.074Z"
   },
   {
    "duration": 1662,
    "start_time": "2022-11-24T17:46:55.758Z"
   },
   {
    "duration": 1721,
    "start_time": "2022-11-24T17:47:05.468Z"
   },
   {
    "duration": 52,
    "start_time": "2022-11-24T17:47:28.137Z"
   },
   {
    "duration": 41,
    "start_time": "2022-11-24T17:47:58.050Z"
   },
   {
    "duration": 2618,
    "start_time": "2022-11-24T17:48:08.656Z"
   },
   {
    "duration": 9,
    "start_time": "2022-11-24T17:48:11.276Z"
   },
   {
    "duration": 17,
    "start_time": "2022-11-24T17:48:11.286Z"
   },
   {
    "duration": 9,
    "start_time": "2022-11-24T17:48:11.305Z"
   },
   {
    "duration": 26,
    "start_time": "2022-11-24T17:48:11.315Z"
   },
   {
    "duration": 42,
    "start_time": "2022-11-24T17:48:11.342Z"
   },
   {
    "duration": 6,
    "start_time": "2022-11-24T17:48:11.385Z"
   },
   {
    "duration": 24,
    "start_time": "2022-11-24T17:48:11.392Z"
   },
   {
    "duration": 4,
    "start_time": "2022-11-24T17:48:11.418Z"
   },
   {
    "duration": 6,
    "start_time": "2022-11-24T17:48:11.425Z"
   },
   {
    "duration": 14,
    "start_time": "2022-11-24T17:48:11.432Z"
   },
   {
    "duration": 6,
    "start_time": "2022-11-24T17:48:11.448Z"
   },
   {
    "duration": 118,
    "start_time": "2022-11-24T17:48:11.455Z"
   },
   {
    "duration": 4,
    "start_time": "2022-11-24T17:48:11.577Z"
   },
   {
    "duration": 12,
    "start_time": "2022-11-24T17:48:11.583Z"
   },
   {
    "duration": 8,
    "start_time": "2022-11-24T17:48:11.597Z"
   },
   {
    "duration": 11,
    "start_time": "2022-11-24T17:48:11.606Z"
   },
   {
    "duration": 86,
    "start_time": "2022-11-24T17:48:11.618Z"
   },
   {
    "duration": 0,
    "start_time": "2022-11-24T17:48:11.705Z"
   },
   {
    "duration": 0,
    "start_time": "2022-11-24T17:48:11.706Z"
   },
   {
    "duration": 0,
    "start_time": "2022-11-24T17:48:11.707Z"
   },
   {
    "duration": 0,
    "start_time": "2022-11-24T17:48:11.708Z"
   },
   {
    "duration": 0,
    "start_time": "2022-11-24T17:48:11.709Z"
   },
   {
    "duration": 1,
    "start_time": "2022-11-24T17:48:11.710Z"
   },
   {
    "duration": 0,
    "start_time": "2022-11-24T17:48:11.711Z"
   },
   {
    "duration": 0,
    "start_time": "2022-11-24T17:48:11.713Z"
   },
   {
    "duration": 0,
    "start_time": "2022-11-24T17:48:11.714Z"
   },
   {
    "duration": 1,
    "start_time": "2022-11-24T17:48:11.714Z"
   },
   {
    "duration": 0,
    "start_time": "2022-11-24T17:48:11.715Z"
   },
   {
    "duration": 0,
    "start_time": "2022-11-24T17:48:11.716Z"
   },
   {
    "duration": 0,
    "start_time": "2022-11-24T17:48:11.717Z"
   },
   {
    "duration": 0,
    "start_time": "2022-11-24T17:48:11.718Z"
   },
   {
    "duration": 987,
    "start_time": "2022-11-24T17:48:37.334Z"
   },
   {
    "duration": 14,
    "start_time": "2022-11-24T17:48:49.126Z"
   },
   {
    "duration": 2638,
    "start_time": "2022-11-24T17:49:04.308Z"
   },
   {
    "duration": 9,
    "start_time": "2022-11-24T17:49:06.948Z"
   },
   {
    "duration": 22,
    "start_time": "2022-11-24T17:49:06.959Z"
   },
   {
    "duration": 23,
    "start_time": "2022-11-24T17:49:06.983Z"
   },
   {
    "duration": 29,
    "start_time": "2022-11-24T17:49:07.008Z"
   },
   {
    "duration": 29,
    "start_time": "2022-11-24T17:49:07.039Z"
   },
   {
    "duration": 21,
    "start_time": "2022-11-24T17:49:07.070Z"
   },
   {
    "duration": 22,
    "start_time": "2022-11-24T17:49:07.093Z"
   },
   {
    "duration": 16,
    "start_time": "2022-11-24T17:49:07.116Z"
   },
   {
    "duration": 33,
    "start_time": "2022-11-24T17:49:07.134Z"
   },
   {
    "duration": 25,
    "start_time": "2022-11-24T17:49:07.169Z"
   },
   {
    "duration": 23,
    "start_time": "2022-11-24T17:49:07.195Z"
   },
   {
    "duration": 135,
    "start_time": "2022-11-24T17:49:07.219Z"
   },
   {
    "duration": 5,
    "start_time": "2022-11-24T17:49:07.355Z"
   },
   {
    "duration": 36,
    "start_time": "2022-11-24T17:49:07.361Z"
   },
   {
    "duration": 46,
    "start_time": "2022-11-24T17:49:07.398Z"
   },
   {
    "duration": 36,
    "start_time": "2022-11-24T17:49:07.446Z"
   },
   {
    "duration": 90,
    "start_time": "2022-11-24T17:49:07.484Z"
   },
   {
    "duration": 0,
    "start_time": "2022-11-24T17:49:07.576Z"
   },
   {
    "duration": 0,
    "start_time": "2022-11-24T17:49:07.577Z"
   },
   {
    "duration": 0,
    "start_time": "2022-11-24T17:49:07.578Z"
   },
   {
    "duration": 0,
    "start_time": "2022-11-24T17:49:07.579Z"
   },
   {
    "duration": 0,
    "start_time": "2022-11-24T17:49:07.580Z"
   },
   {
    "duration": 0,
    "start_time": "2022-11-24T17:49:07.581Z"
   },
   {
    "duration": 0,
    "start_time": "2022-11-24T17:49:07.582Z"
   },
   {
    "duration": 0,
    "start_time": "2022-11-24T17:49:07.583Z"
   },
   {
    "duration": 0,
    "start_time": "2022-11-24T17:49:07.584Z"
   },
   {
    "duration": 0,
    "start_time": "2022-11-24T17:49:07.586Z"
   },
   {
    "duration": 0,
    "start_time": "2022-11-24T17:49:07.587Z"
   },
   {
    "duration": 0,
    "start_time": "2022-11-24T17:49:07.589Z"
   },
   {
    "duration": 0,
    "start_time": "2022-11-24T17:49:07.590Z"
   },
   {
    "duration": 0,
    "start_time": "2022-11-24T17:49:07.591Z"
   },
   {
    "duration": 815,
    "start_time": "2022-11-24T17:49:32.873Z"
   },
   {
    "duration": 292,
    "start_time": "2022-11-24T17:50:14.402Z"
   },
   {
    "duration": 1572,
    "start_time": "2022-11-24T17:50:45.455Z"
   },
   {
    "duration": 1123,
    "start_time": "2022-11-24T17:53:41.239Z"
   },
   {
    "duration": 74,
    "start_time": "2022-11-24T17:54:37.368Z"
   },
   {
    "duration": 16,
    "start_time": "2022-11-24T17:55:06.973Z"
   },
   {
    "duration": 19,
    "start_time": "2022-11-24T17:55:30.469Z"
   },
   {
    "duration": 2575,
    "start_time": "2022-11-24T17:55:36.135Z"
   },
   {
    "duration": 11,
    "start_time": "2022-11-24T17:55:38.712Z"
   },
   {
    "duration": 15,
    "start_time": "2022-11-24T17:55:38.725Z"
   },
   {
    "duration": 10,
    "start_time": "2022-11-24T17:55:38.742Z"
   },
   {
    "duration": 34,
    "start_time": "2022-11-24T17:55:38.754Z"
   },
   {
    "duration": 26,
    "start_time": "2022-11-24T17:55:38.790Z"
   },
   {
    "duration": 6,
    "start_time": "2022-11-24T17:55:38.817Z"
   },
   {
    "duration": 15,
    "start_time": "2022-11-24T17:55:38.825Z"
   },
   {
    "duration": 4,
    "start_time": "2022-11-24T17:55:38.842Z"
   },
   {
    "duration": 7,
    "start_time": "2022-11-24T17:55:38.848Z"
   },
   {
    "duration": 42,
    "start_time": "2022-11-24T17:55:38.856Z"
   },
   {
    "duration": 11,
    "start_time": "2022-11-24T17:55:38.900Z"
   },
   {
    "duration": 115,
    "start_time": "2022-11-24T17:55:38.912Z"
   },
   {
    "duration": 4,
    "start_time": "2022-11-24T17:55:39.031Z"
   },
   {
    "duration": 23,
    "start_time": "2022-11-24T17:55:39.037Z"
   },
   {
    "duration": 33,
    "start_time": "2022-11-24T17:55:39.066Z"
   },
   {
    "duration": 16,
    "start_time": "2022-11-24T17:55:39.102Z"
   },
   {
    "duration": 30,
    "start_time": "2022-11-24T17:55:39.120Z"
   },
   {
    "duration": 4,
    "start_time": "2022-11-24T17:55:39.153Z"
   },
   {
    "duration": 152,
    "start_time": "2022-11-24T17:55:39.159Z"
   },
   {
    "duration": 153,
    "start_time": "2022-11-24T17:55:39.313Z"
   },
   {
    "duration": 150,
    "start_time": "2022-11-24T17:55:39.467Z"
   },
   {
    "duration": 161,
    "start_time": "2022-11-24T17:55:39.618Z"
   },
   {
    "duration": 165,
    "start_time": "2022-11-24T17:55:39.781Z"
   },
   {
    "duration": 166,
    "start_time": "2022-11-24T17:55:39.948Z"
   },
   {
    "duration": 241,
    "start_time": "2022-11-24T17:55:40.116Z"
   },
   {
    "duration": 124,
    "start_time": "2022-11-24T17:55:40.358Z"
   },
   {
    "duration": 172,
    "start_time": "2022-11-24T17:55:40.483Z"
   },
   {
    "duration": 162,
    "start_time": "2022-11-24T17:55:40.657Z"
   },
   {
    "duration": 160,
    "start_time": "2022-11-24T17:55:40.821Z"
   },
   {
    "duration": 166,
    "start_time": "2022-11-24T17:55:40.982Z"
   },
   {
    "duration": 209,
    "start_time": "2022-11-24T17:55:41.150Z"
   },
   {
    "duration": 43,
    "start_time": "2022-11-24T17:56:33.961Z"
   },
   {
    "duration": 33,
    "start_time": "2022-11-24T17:57:16.058Z"
   },
   {
    "duration": 2553,
    "start_time": "2022-11-24T17:59:48.489Z"
   },
   {
    "duration": 9,
    "start_time": "2022-11-24T17:59:51.044Z"
   },
   {
    "duration": 19,
    "start_time": "2022-11-24T17:59:51.055Z"
   },
   {
    "duration": 12,
    "start_time": "2022-11-24T17:59:51.076Z"
   },
   {
    "duration": 43,
    "start_time": "2022-11-24T17:59:51.090Z"
   },
   {
    "duration": 25,
    "start_time": "2022-11-24T17:59:51.134Z"
   },
   {
    "duration": 16,
    "start_time": "2022-11-24T17:59:51.160Z"
   },
   {
    "duration": 23,
    "start_time": "2022-11-24T17:59:51.177Z"
   },
   {
    "duration": 22,
    "start_time": "2022-11-24T17:59:51.201Z"
   },
   {
    "duration": 56,
    "start_time": "2022-11-24T17:59:51.224Z"
   },
   {
    "duration": 51,
    "start_time": "2022-11-24T17:59:51.281Z"
   },
   {
    "duration": 10,
    "start_time": "2022-11-24T17:59:51.334Z"
   },
   {
    "duration": 116,
    "start_time": "2022-11-24T17:59:51.345Z"
   },
   {
    "duration": 4,
    "start_time": "2022-11-24T17:59:51.465Z"
   },
   {
    "duration": 34,
    "start_time": "2022-11-24T17:59:51.471Z"
   },
   {
    "duration": 22,
    "start_time": "2022-11-24T17:59:51.506Z"
   },
   {
    "duration": 13,
    "start_time": "2022-11-24T17:59:51.530Z"
   },
   {
    "duration": 43,
    "start_time": "2022-11-24T17:59:51.547Z"
   },
   {
    "duration": 5,
    "start_time": "2022-11-24T17:59:51.592Z"
   },
   {
    "duration": 173,
    "start_time": "2022-11-24T17:59:51.599Z"
   },
   {
    "duration": 156,
    "start_time": "2022-11-24T17:59:51.774Z"
   },
   {
    "duration": 147,
    "start_time": "2022-11-24T17:59:51.932Z"
   },
   {
    "duration": 161,
    "start_time": "2022-11-24T17:59:52.081Z"
   },
   {
    "duration": 157,
    "start_time": "2022-11-24T17:59:52.243Z"
   },
   {
    "duration": 162,
    "start_time": "2022-11-24T17:59:52.401Z"
   },
   {
    "duration": 231,
    "start_time": "2022-11-24T17:59:52.564Z"
   },
   {
    "duration": 143,
    "start_time": "2022-11-24T17:59:52.797Z"
   },
   {
    "duration": 170,
    "start_time": "2022-11-24T17:59:52.941Z"
   },
   {
    "duration": 160,
    "start_time": "2022-11-24T17:59:53.113Z"
   },
   {
    "duration": 154,
    "start_time": "2022-11-24T17:59:53.275Z"
   },
   {
    "duration": 167,
    "start_time": "2022-11-24T17:59:53.430Z"
   },
   {
    "duration": 202,
    "start_time": "2022-11-24T17:59:53.599Z"
   },
   {
    "duration": 42,
    "start_time": "2022-11-24T18:02:45.665Z"
   },
   {
    "duration": 32,
    "start_time": "2022-11-24T18:03:56.594Z"
   },
   {
    "duration": 2592,
    "start_time": "2022-11-24T18:04:09.802Z"
   },
   {
    "duration": 10,
    "start_time": "2022-11-24T18:04:12.395Z"
   },
   {
    "duration": 19,
    "start_time": "2022-11-24T18:04:12.406Z"
   },
   {
    "duration": 11,
    "start_time": "2022-11-24T18:04:12.427Z"
   },
   {
    "duration": 27,
    "start_time": "2022-11-24T18:04:12.440Z"
   },
   {
    "duration": 29,
    "start_time": "2022-11-24T18:04:12.468Z"
   },
   {
    "duration": 5,
    "start_time": "2022-11-24T18:04:12.499Z"
   },
   {
    "duration": 11,
    "start_time": "2022-11-24T18:04:12.505Z"
   },
   {
    "duration": 5,
    "start_time": "2022-11-24T18:04:12.517Z"
   },
   {
    "duration": 5,
    "start_time": "2022-11-24T18:04:12.523Z"
   },
   {
    "duration": 12,
    "start_time": "2022-11-24T18:04:12.529Z"
   },
   {
    "duration": 5,
    "start_time": "2022-11-24T18:04:12.543Z"
   },
   {
    "duration": 113,
    "start_time": "2022-11-24T18:04:12.579Z"
   },
   {
    "duration": 4,
    "start_time": "2022-11-24T18:04:12.695Z"
   },
   {
    "duration": 12,
    "start_time": "2022-11-24T18:04:12.700Z"
   },
   {
    "duration": 9,
    "start_time": "2022-11-24T18:04:12.713Z"
   },
   {
    "duration": 8,
    "start_time": "2022-11-24T18:04:12.723Z"
   },
   {
    "duration": 53,
    "start_time": "2022-11-24T18:04:12.733Z"
   },
   {
    "duration": 4,
    "start_time": "2022-11-24T18:04:12.788Z"
   },
   {
    "duration": 172,
    "start_time": "2022-11-24T18:04:12.793Z"
   },
   {
    "duration": 168,
    "start_time": "2022-11-24T18:04:12.967Z"
   },
   {
    "duration": 150,
    "start_time": "2022-11-24T18:04:13.136Z"
   },
   {
    "duration": 153,
    "start_time": "2022-11-24T18:04:13.288Z"
   },
   {
    "duration": 163,
    "start_time": "2022-11-24T18:04:13.443Z"
   },
   {
    "duration": 164,
    "start_time": "2022-11-24T18:04:13.608Z"
   },
   {
    "duration": 245,
    "start_time": "2022-11-24T18:04:13.777Z"
   },
   {
    "duration": 159,
    "start_time": "2022-11-24T18:04:14.024Z"
   },
   {
    "duration": 168,
    "start_time": "2022-11-24T18:04:14.184Z"
   },
   {
    "duration": 151,
    "start_time": "2022-11-24T18:04:14.354Z"
   },
   {
    "duration": 158,
    "start_time": "2022-11-24T18:04:14.506Z"
   },
   {
    "duration": 155,
    "start_time": "2022-11-24T18:04:14.665Z"
   },
   {
    "duration": 192,
    "start_time": "2022-11-24T18:04:14.822Z"
   },
   {
    "duration": 74,
    "start_time": "2022-11-24T18:06:22.757Z"
   },
   {
    "duration": 78,
    "start_time": "2022-11-24T18:06:33.297Z"
   },
   {
    "duration": 69,
    "start_time": "2022-11-24T18:06:37.384Z"
   },
   {
    "duration": 11,
    "start_time": "2022-11-24T18:06:46.856Z"
   },
   {
    "duration": 90,
    "start_time": "2022-11-24T18:07:36.495Z"
   },
   {
    "duration": 14,
    "start_time": "2022-11-24T18:07:41.587Z"
   },
   {
    "duration": 11,
    "start_time": "2022-11-24T18:08:35.713Z"
   },
   {
    "duration": 13,
    "start_time": "2022-11-24T18:08:40.059Z"
   },
   {
    "duration": 13,
    "start_time": "2022-11-24T18:09:23.067Z"
   },
   {
    "duration": 17,
    "start_time": "2022-11-24T18:09:54.101Z"
   },
   {
    "duration": 13,
    "start_time": "2022-11-24T18:12:31.958Z"
   },
   {
    "duration": 12,
    "start_time": "2022-11-24T18:12:54.340Z"
   },
   {
    "duration": 12,
    "start_time": "2022-11-24T18:14:21.735Z"
   },
   {
    "duration": 2636,
    "start_time": "2022-11-24T18:15:09.150Z"
   },
   {
    "duration": 9,
    "start_time": "2022-11-24T18:15:11.788Z"
   },
   {
    "duration": 15,
    "start_time": "2022-11-24T18:15:11.802Z"
   },
   {
    "duration": 12,
    "start_time": "2022-11-24T18:15:11.819Z"
   },
   {
    "duration": 49,
    "start_time": "2022-11-24T18:15:11.833Z"
   },
   {
    "duration": 26,
    "start_time": "2022-11-24T18:15:11.884Z"
   },
   {
    "duration": 6,
    "start_time": "2022-11-24T18:15:11.912Z"
   },
   {
    "duration": 16,
    "start_time": "2022-11-24T18:15:11.920Z"
   },
   {
    "duration": 5,
    "start_time": "2022-11-24T18:15:11.940Z"
   },
   {
    "duration": 33,
    "start_time": "2022-11-24T18:15:11.946Z"
   },
   {
    "duration": 11,
    "start_time": "2022-11-24T18:15:11.980Z"
   },
   {
    "duration": 5,
    "start_time": "2022-11-24T18:15:11.993Z"
   },
   {
    "duration": 116,
    "start_time": "2022-11-24T18:15:11.999Z"
   },
   {
    "duration": 4,
    "start_time": "2022-11-24T18:15:12.116Z"
   },
   {
    "duration": 14,
    "start_time": "2022-11-24T18:15:12.121Z"
   },
   {
    "duration": 12,
    "start_time": "2022-11-24T18:15:12.137Z"
   },
   {
    "duration": 8,
    "start_time": "2022-11-24T18:15:12.150Z"
   },
   {
    "duration": 1533,
    "start_time": "2022-11-24T18:15:12.160Z"
   },
   {
    "duration": 4,
    "start_time": "2022-11-24T18:15:13.694Z"
   },
   {
    "duration": 153,
    "start_time": "2022-11-24T18:15:13.699Z"
   },
   {
    "duration": 180,
    "start_time": "2022-11-24T18:15:13.853Z"
   },
   {
    "duration": 181,
    "start_time": "2022-11-24T18:15:14.035Z"
   },
   {
    "duration": 148,
    "start_time": "2022-11-24T18:15:14.218Z"
   },
   {
    "duration": 167,
    "start_time": "2022-11-24T18:15:14.368Z"
   },
   {
    "duration": 162,
    "start_time": "2022-11-24T18:15:14.537Z"
   },
   {
    "duration": 227,
    "start_time": "2022-11-24T18:15:14.700Z"
   },
   {
    "duration": 153,
    "start_time": "2022-11-24T18:15:14.929Z"
   },
   {
    "duration": 164,
    "start_time": "2022-11-24T18:15:15.083Z"
   },
   {
    "duration": 152,
    "start_time": "2022-11-24T18:15:15.248Z"
   },
   {
    "duration": 152,
    "start_time": "2022-11-24T18:15:15.401Z"
   },
   {
    "duration": 163,
    "start_time": "2022-11-24T18:15:15.554Z"
   },
   {
    "duration": 188,
    "start_time": "2022-11-24T18:15:15.719Z"
   },
   {
    "duration": 213,
    "start_time": "2022-11-24T18:15:53.453Z"
   },
   {
    "duration": 141,
    "start_time": "2022-11-24T18:16:00.761Z"
   },
   {
    "duration": 343,
    "start_time": "2022-11-24T18:22:48.240Z"
   },
   {
    "duration": 146,
    "start_time": "2022-11-24T18:23:05.254Z"
   },
   {
    "duration": 233,
    "start_time": "2022-11-24T18:23:11.955Z"
   },
   {
    "duration": 165,
    "start_time": "2022-11-24T18:35:41.636Z"
   },
   {
    "duration": 75,
    "start_time": "2022-11-24T18:36:24.192Z"
   },
   {
    "duration": 67,
    "start_time": "2022-11-24T18:38:05.026Z"
   },
   {
    "duration": 5,
    "start_time": "2022-11-24T18:40:02.289Z"
   },
   {
    "duration": 5,
    "start_time": "2022-11-24T18:40:12.161Z"
   },
   {
    "duration": 8,
    "start_time": "2022-11-24T18:40:26.919Z"
   },
   {
    "duration": 6,
    "start_time": "2022-11-24T18:42:01.193Z"
   },
   {
    "duration": 6,
    "start_time": "2022-11-24T18:42:05.928Z"
   },
   {
    "duration": 6,
    "start_time": "2022-11-24T18:42:09.160Z"
   },
   {
    "duration": 8,
    "start_time": "2022-11-24T18:42:22.170Z"
   },
   {
    "duration": 5,
    "start_time": "2022-11-24T18:42:27.102Z"
   },
   {
    "duration": 4,
    "start_time": "2022-11-24T18:42:32.314Z"
   },
   {
    "duration": 73,
    "start_time": "2022-11-24T18:43:33.781Z"
   },
   {
    "duration": 5,
    "start_time": "2022-11-24T18:43:40.898Z"
   },
   {
    "duration": 42,
    "start_time": "2022-11-24T18:44:05.497Z"
   },
   {
    "duration": 2695,
    "start_time": "2022-11-24T18:44:26.663Z"
   },
   {
    "duration": 14,
    "start_time": "2022-11-24T18:44:29.360Z"
   },
   {
    "duration": 16,
    "start_time": "2022-11-24T18:44:29.375Z"
   },
   {
    "duration": 13,
    "start_time": "2022-11-24T18:44:29.394Z"
   },
   {
    "duration": 29,
    "start_time": "2022-11-24T18:44:29.408Z"
   },
   {
    "duration": 40,
    "start_time": "2022-11-24T18:44:29.439Z"
   },
   {
    "duration": 6,
    "start_time": "2022-11-24T18:44:29.481Z"
   },
   {
    "duration": 15,
    "start_time": "2022-11-24T18:44:29.489Z"
   },
   {
    "duration": 5,
    "start_time": "2022-11-24T18:44:29.506Z"
   },
   {
    "duration": 4,
    "start_time": "2022-11-24T18:44:29.514Z"
   },
   {
    "duration": 14,
    "start_time": "2022-11-24T18:44:29.520Z"
   },
   {
    "duration": 78,
    "start_time": "2022-11-24T18:44:29.536Z"
   },
   {
    "duration": 6,
    "start_time": "2022-11-24T18:44:29.616Z"
   },
   {
    "duration": 116,
    "start_time": "2022-11-24T18:44:29.624Z"
   },
   {
    "duration": 5,
    "start_time": "2022-11-24T18:44:29.742Z"
   },
   {
    "duration": 12,
    "start_time": "2022-11-24T18:44:29.749Z"
   },
   {
    "duration": 17,
    "start_time": "2022-11-24T18:44:29.762Z"
   },
   {
    "duration": 8,
    "start_time": "2022-11-24T18:44:29.781Z"
   },
   {
    "duration": 1633,
    "start_time": "2022-11-24T18:44:29.791Z"
   },
   {
    "duration": 5,
    "start_time": "2022-11-24T18:44:31.426Z"
   },
   {
    "duration": 165,
    "start_time": "2022-11-24T18:44:31.432Z"
   },
   {
    "duration": 169,
    "start_time": "2022-11-24T18:44:31.599Z"
   },
   {
    "duration": 160,
    "start_time": "2022-11-24T18:44:31.769Z"
   },
   {
    "duration": 252,
    "start_time": "2022-11-24T18:44:31.931Z"
   },
   {
    "duration": 175,
    "start_time": "2022-11-24T18:44:32.184Z"
   },
   {
    "duration": 257,
    "start_time": "2022-11-24T18:44:32.361Z"
   },
   {
    "duration": 185,
    "start_time": "2022-11-24T18:44:32.619Z"
   },
   {
    "duration": 174,
    "start_time": "2022-11-24T18:44:32.808Z"
   },
   {
    "duration": 179,
    "start_time": "2022-11-24T18:44:32.983Z"
   },
   {
    "duration": 166,
    "start_time": "2022-11-24T18:44:33.163Z"
   },
   {
    "duration": 164,
    "start_time": "2022-11-24T18:44:33.331Z"
   },
   {
    "duration": 176,
    "start_time": "2022-11-24T18:44:33.497Z"
   },
   {
    "duration": 247,
    "start_time": "2022-11-24T18:44:33.674Z"
   },
   {
    "duration": 4,
    "start_time": "2022-11-24T18:44:49.735Z"
   },
   {
    "duration": 43,
    "start_time": "2022-11-24T18:44:52.088Z"
   },
   {
    "duration": 15,
    "start_time": "2022-11-24T18:45:59.780Z"
   },
   {
    "duration": 2715,
    "start_time": "2022-11-24T18:46:23.650Z"
   },
   {
    "duration": 10,
    "start_time": "2022-11-24T18:46:26.368Z"
   },
   {
    "duration": 27,
    "start_time": "2022-11-24T18:46:26.380Z"
   },
   {
    "duration": 12,
    "start_time": "2022-11-24T18:46:26.409Z"
   },
   {
    "duration": 26,
    "start_time": "2022-11-24T18:46:26.422Z"
   },
   {
    "duration": 30,
    "start_time": "2022-11-24T18:46:26.450Z"
   },
   {
    "duration": 5,
    "start_time": "2022-11-24T18:46:26.482Z"
   },
   {
    "duration": 24,
    "start_time": "2022-11-24T18:46:26.489Z"
   },
   {
    "duration": 4,
    "start_time": "2022-11-24T18:46:26.514Z"
   },
   {
    "duration": 5,
    "start_time": "2022-11-24T18:46:26.521Z"
   },
   {
    "duration": 20,
    "start_time": "2022-11-24T18:46:26.527Z"
   },
   {
    "duration": 15,
    "start_time": "2022-11-24T18:46:26.549Z"
   },
   {
    "duration": 117,
    "start_time": "2022-11-24T18:46:26.566Z"
   },
   {
    "duration": 4,
    "start_time": "2022-11-24T18:46:26.684Z"
   },
   {
    "duration": 18,
    "start_time": "2022-11-24T18:46:26.690Z"
   },
   {
    "duration": 10,
    "start_time": "2022-11-24T18:46:26.709Z"
   },
   {
    "duration": 13,
    "start_time": "2022-11-24T18:46:26.721Z"
   },
   {
    "duration": 1654,
    "start_time": "2022-11-24T18:46:26.736Z"
   },
   {
    "duration": 4,
    "start_time": "2022-11-24T18:46:28.391Z"
   },
   {
    "duration": 151,
    "start_time": "2022-11-24T18:46:28.396Z"
   },
   {
    "duration": 151,
    "start_time": "2022-11-24T18:46:28.549Z"
   },
   {
    "duration": 157,
    "start_time": "2022-11-24T18:46:28.702Z"
   },
   {
    "duration": 256,
    "start_time": "2022-11-24T18:46:28.861Z"
   },
   {
    "duration": 168,
    "start_time": "2022-11-24T18:46:29.119Z"
   },
   {
    "duration": 241,
    "start_time": "2022-11-24T18:46:29.289Z"
   },
   {
    "duration": 160,
    "start_time": "2022-11-24T18:46:29.532Z"
   },
   {
    "duration": 181,
    "start_time": "2022-11-24T18:46:29.694Z"
   },
   {
    "duration": 174,
    "start_time": "2022-11-24T18:46:29.879Z"
   },
   {
    "duration": 171,
    "start_time": "2022-11-24T18:46:30.055Z"
   },
   {
    "duration": 161,
    "start_time": "2022-11-24T18:46:30.228Z"
   },
   {
    "duration": 170,
    "start_time": "2022-11-24T18:46:30.390Z"
   },
   {
    "duration": 213,
    "start_time": "2022-11-24T18:46:30.561Z"
   },
   {
    "duration": 5,
    "start_time": "2022-11-24T18:47:51.295Z"
   },
   {
    "duration": 19,
    "start_time": "2022-11-24T18:47:53.343Z"
   },
   {
    "duration": 6,
    "start_time": "2022-11-24T18:48:01.591Z"
   },
   {
    "duration": 4,
    "start_time": "2022-11-24T18:48:15.951Z"
   },
   {
    "duration": 4,
    "start_time": "2022-11-24T18:48:26.464Z"
   },
   {
    "duration": 5,
    "start_time": "2022-11-24T18:48:33.312Z"
   },
   {
    "duration": 2567,
    "start_time": "2022-11-24T18:48:57.411Z"
   },
   {
    "duration": 9,
    "start_time": "2022-11-24T18:48:59.980Z"
   },
   {
    "duration": 14,
    "start_time": "2022-11-24T18:48:59.991Z"
   },
   {
    "duration": 12,
    "start_time": "2022-11-24T18:49:00.007Z"
   },
   {
    "duration": 27,
    "start_time": "2022-11-24T18:49:00.022Z"
   },
   {
    "duration": 50,
    "start_time": "2022-11-24T18:49:00.051Z"
   },
   {
    "duration": 26,
    "start_time": "2022-11-24T18:49:00.103Z"
   },
   {
    "duration": 31,
    "start_time": "2022-11-24T18:49:00.130Z"
   },
   {
    "duration": 26,
    "start_time": "2022-11-24T18:49:00.162Z"
   },
   {
    "duration": 52,
    "start_time": "2022-11-24T18:49:00.189Z"
   },
   {
    "duration": 44,
    "start_time": "2022-11-24T18:49:00.242Z"
   },
   {
    "duration": 28,
    "start_time": "2022-11-24T18:49:00.287Z"
   },
   {
    "duration": 21,
    "start_time": "2022-11-24T18:49:00.317Z"
   },
   {
    "duration": 132,
    "start_time": "2022-11-24T18:49:00.341Z"
   },
   {
    "duration": 4,
    "start_time": "2022-11-24T18:49:00.475Z"
   },
   {
    "duration": 39,
    "start_time": "2022-11-24T18:49:00.480Z"
   },
   {
    "duration": 24,
    "start_time": "2022-11-24T18:49:00.521Z"
   },
   {
    "duration": 31,
    "start_time": "2022-11-24T18:49:00.547Z"
   },
   {
    "duration": 1605,
    "start_time": "2022-11-24T18:49:00.580Z"
   },
   {
    "duration": 5,
    "start_time": "2022-11-24T18:49:02.187Z"
   },
   {
    "duration": 171,
    "start_time": "2022-11-24T18:49:02.194Z"
   },
   {
    "duration": 157,
    "start_time": "2022-11-24T18:49:02.366Z"
   },
   {
    "duration": 149,
    "start_time": "2022-11-24T18:49:02.525Z"
   },
   {
    "duration": 256,
    "start_time": "2022-11-24T18:49:02.677Z"
   },
   {
    "duration": 164,
    "start_time": "2022-11-24T18:49:02.935Z"
   },
   {
    "duration": 246,
    "start_time": "2022-11-24T18:49:03.101Z"
   },
   {
    "duration": 155,
    "start_time": "2022-11-24T18:49:03.349Z"
   },
   {
    "duration": 140,
    "start_time": "2022-11-24T18:49:03.506Z"
   },
   {
    "duration": 165,
    "start_time": "2022-11-24T18:49:03.648Z"
   },
   {
    "duration": 169,
    "start_time": "2022-11-24T18:49:03.815Z"
   },
   {
    "duration": 202,
    "start_time": "2022-11-24T18:49:03.986Z"
   },
   {
    "duration": 157,
    "start_time": "2022-11-24T18:49:04.190Z"
   },
   {
    "duration": 212,
    "start_time": "2022-11-24T18:49:04.349Z"
   },
   {
    "duration": 4,
    "start_time": "2022-11-24T18:50:15.165Z"
   },
   {
    "duration": 8,
    "start_time": "2022-11-24T18:50:55.033Z"
   },
   {
    "duration": 5,
    "start_time": "2022-11-24T18:51:05.237Z"
   },
   {
    "duration": 4,
    "start_time": "2022-11-24T18:51:14.674Z"
   },
   {
    "duration": 12,
    "start_time": "2022-11-24T19:00:37.997Z"
   },
   {
    "duration": 7,
    "start_time": "2022-11-24T19:00:50.390Z"
   },
   {
    "duration": 6,
    "start_time": "2022-11-24T19:00:55.277Z"
   },
   {
    "duration": 6,
    "start_time": "2022-11-24T19:01:06.632Z"
   },
   {
    "duration": 6,
    "start_time": "2022-11-24T19:01:12.384Z"
   },
   {
    "duration": 8,
    "start_time": "2022-11-24T19:01:18.494Z"
   },
   {
    "duration": 72,
    "start_time": "2022-11-24T19:01:33.927Z"
   },
   {
    "duration": 6,
    "start_time": "2022-11-24T19:01:40.662Z"
   },
   {
    "duration": 6,
    "start_time": "2022-11-24T19:01:45.389Z"
   },
   {
    "duration": 25,
    "start_time": "2022-11-24T19:02:06.843Z"
   },
   {
    "duration": 5,
    "start_time": "2022-11-24T19:03:42.384Z"
   },
   {
    "duration": 16,
    "start_time": "2022-11-24T19:03:51.284Z"
   },
   {
    "duration": 19,
    "start_time": "2022-11-24T19:03:59.835Z"
   },
   {
    "duration": 72,
    "start_time": "2022-11-24T19:04:03.646Z"
   },
   {
    "duration": 2803,
    "start_time": "2022-11-24T19:04:16.663Z"
   },
   {
    "duration": 14,
    "start_time": "2022-11-24T19:04:19.468Z"
   },
   {
    "duration": 32,
    "start_time": "2022-11-24T19:04:19.483Z"
   },
   {
    "duration": 20,
    "start_time": "2022-11-24T19:04:19.517Z"
   },
   {
    "duration": 46,
    "start_time": "2022-11-24T19:04:19.538Z"
   },
   {
    "duration": 25,
    "start_time": "2022-11-24T19:04:19.586Z"
   },
   {
    "duration": 8,
    "start_time": "2022-11-24T19:04:19.612Z"
   },
   {
    "duration": 12,
    "start_time": "2022-11-24T19:04:19.622Z"
   },
   {
    "duration": 21,
    "start_time": "2022-11-24T19:04:19.635Z"
   },
   {
    "duration": 35,
    "start_time": "2022-11-24T19:04:19.660Z"
   },
   {
    "duration": 18,
    "start_time": "2022-11-24T19:04:19.697Z"
   },
   {
    "duration": 17,
    "start_time": "2022-11-24T19:04:19.716Z"
   },
   {
    "duration": 15,
    "start_time": "2022-11-24T19:04:19.735Z"
   },
   {
    "duration": 35,
    "start_time": "2022-11-24T19:04:19.751Z"
   },
   {
    "duration": 4,
    "start_time": "2022-11-24T19:04:19.788Z"
   },
   {
    "duration": 31,
    "start_time": "2022-11-24T19:04:19.793Z"
   },
   {
    "duration": 15,
    "start_time": "2022-11-24T19:04:19.826Z"
   },
   {
    "duration": 21,
    "start_time": "2022-11-24T19:04:19.842Z"
   },
   {
    "duration": 286,
    "start_time": "2022-11-24T19:04:19.865Z"
   },
   {
    "duration": 5,
    "start_time": "2022-11-24T19:04:20.152Z"
   },
   {
    "duration": 144,
    "start_time": "2022-11-24T19:04:20.159Z"
   },
   {
    "duration": 162,
    "start_time": "2022-11-24T19:04:20.305Z"
   },
   {
    "duration": 153,
    "start_time": "2022-11-24T19:04:20.469Z"
   },
   {
    "duration": 260,
    "start_time": "2022-11-24T19:04:20.624Z"
   },
   {
    "duration": 188,
    "start_time": "2022-11-24T19:04:20.886Z"
   },
   {
    "duration": 229,
    "start_time": "2022-11-24T19:04:21.077Z"
   },
   {
    "duration": 136,
    "start_time": "2022-11-24T19:04:21.308Z"
   },
   {
    "duration": 155,
    "start_time": "2022-11-24T19:04:21.448Z"
   },
   {
    "duration": 170,
    "start_time": "2022-11-24T19:04:21.604Z"
   },
   {
    "duration": 170,
    "start_time": "2022-11-24T19:04:21.776Z"
   },
   {
    "duration": 175,
    "start_time": "2022-11-24T19:04:21.948Z"
   },
   {
    "duration": 154,
    "start_time": "2022-11-24T19:04:22.125Z"
   },
   {
    "duration": 215,
    "start_time": "2022-11-24T19:04:22.281Z"
   },
   {
    "duration": 28,
    "start_time": "2022-11-24T19:05:50.085Z"
   },
   {
    "duration": 25,
    "start_time": "2022-11-24T19:06:44.949Z"
   },
   {
    "duration": 17,
    "start_time": "2022-11-24T19:07:03.653Z"
   },
   {
    "duration": 15,
    "start_time": "2022-11-24T19:07:37.783Z"
   },
   {
    "duration": 2759,
    "start_time": "2022-11-24T19:07:42.691Z"
   },
   {
    "duration": 11,
    "start_time": "2022-11-24T19:07:45.452Z"
   },
   {
    "duration": 19,
    "start_time": "2022-11-24T19:07:45.465Z"
   },
   {
    "duration": 13,
    "start_time": "2022-11-24T19:07:45.485Z"
   },
   {
    "duration": 36,
    "start_time": "2022-11-24T19:07:45.501Z"
   },
   {
    "duration": 39,
    "start_time": "2022-11-24T19:07:45.539Z"
   },
   {
    "duration": 7,
    "start_time": "2022-11-24T19:07:45.580Z"
   },
   {
    "duration": 31,
    "start_time": "2022-11-24T19:07:45.589Z"
   },
   {
    "duration": 7,
    "start_time": "2022-11-24T19:07:45.622Z"
   },
   {
    "duration": 19,
    "start_time": "2022-11-24T19:07:45.630Z"
   },
   {
    "duration": 11,
    "start_time": "2022-11-24T19:07:45.651Z"
   },
   {
    "duration": 52,
    "start_time": "2022-11-24T19:07:45.664Z"
   },
   {
    "duration": 10,
    "start_time": "2022-11-24T19:07:45.718Z"
   },
   {
    "duration": 113,
    "start_time": "2022-11-24T19:07:45.732Z"
   },
   {
    "duration": 4,
    "start_time": "2022-11-24T19:07:45.846Z"
   },
   {
    "duration": 14,
    "start_time": "2022-11-24T19:07:45.852Z"
   },
   {
    "duration": 15,
    "start_time": "2022-11-24T19:07:45.867Z"
   },
   {
    "duration": 13,
    "start_time": "2022-11-24T19:07:45.884Z"
   },
   {
    "duration": 1576,
    "start_time": "2022-11-24T19:07:45.898Z"
   },
   {
    "duration": 4,
    "start_time": "2022-11-24T19:07:47.475Z"
   },
   {
    "duration": 146,
    "start_time": "2022-11-24T19:07:47.480Z"
   },
   {
    "duration": 166,
    "start_time": "2022-11-24T19:07:47.627Z"
   },
   {
    "duration": 145,
    "start_time": "2022-11-24T19:07:47.794Z"
   },
   {
    "duration": 242,
    "start_time": "2022-11-24T19:07:47.941Z"
   },
   {
    "duration": 167,
    "start_time": "2022-11-24T19:07:48.185Z"
   },
   {
    "duration": 246,
    "start_time": "2022-11-24T19:07:48.354Z"
   },
   {
    "duration": 159,
    "start_time": "2022-11-24T19:07:48.601Z"
   },
   {
    "duration": 152,
    "start_time": "2022-11-24T19:07:48.761Z"
   },
   {
    "duration": 169,
    "start_time": "2022-11-24T19:07:48.914Z"
   },
   {
    "duration": 174,
    "start_time": "2022-11-24T19:07:49.084Z"
   },
   {
    "duration": 157,
    "start_time": "2022-11-24T19:07:49.260Z"
   },
   {
    "duration": 170,
    "start_time": "2022-11-24T19:07:49.419Z"
   },
   {
    "duration": 208,
    "start_time": "2022-11-24T19:07:49.590Z"
   },
   {
    "duration": 36,
    "start_time": "2022-11-24T19:08:14.302Z"
   },
   {
    "duration": 20,
    "start_time": "2022-11-24T19:08:21.527Z"
   },
   {
    "duration": 2753,
    "start_time": "2022-11-24T19:08:55.273Z"
   },
   {
    "duration": 10,
    "start_time": "2022-11-24T19:08:58.028Z"
   },
   {
    "duration": 37,
    "start_time": "2022-11-24T19:08:58.040Z"
   },
   {
    "duration": 14,
    "start_time": "2022-11-24T19:08:58.078Z"
   },
   {
    "duration": 50,
    "start_time": "2022-11-24T19:08:58.094Z"
   },
   {
    "duration": 33,
    "start_time": "2022-11-24T19:08:58.146Z"
   },
   {
    "duration": 8,
    "start_time": "2022-11-24T19:08:58.181Z"
   },
   {
    "duration": 30,
    "start_time": "2022-11-24T19:08:58.190Z"
   },
   {
    "duration": 21,
    "start_time": "2022-11-24T19:08:58.221Z"
   },
   {
    "duration": 23,
    "start_time": "2022-11-24T19:08:58.244Z"
   },
   {
    "duration": 29,
    "start_time": "2022-11-24T19:08:58.269Z"
   },
   {
    "duration": 41,
    "start_time": "2022-11-24T19:08:58.300Z"
   },
   {
    "duration": 23,
    "start_time": "2022-11-24T19:08:58.342Z"
   },
   {
    "duration": 120,
    "start_time": "2022-11-24T19:08:58.369Z"
   },
   {
    "duration": 5,
    "start_time": "2022-11-24T19:08:58.491Z"
   },
   {
    "duration": 38,
    "start_time": "2022-11-24T19:08:58.497Z"
   },
   {
    "duration": 35,
    "start_time": "2022-11-24T19:08:58.537Z"
   },
   {
    "duration": 31,
    "start_time": "2022-11-24T19:08:58.574Z"
   },
   {
    "duration": 1569,
    "start_time": "2022-11-24T19:08:58.606Z"
   },
   {
    "duration": 5,
    "start_time": "2022-11-24T19:09:00.176Z"
   },
   {
    "duration": 183,
    "start_time": "2022-11-24T19:09:00.183Z"
   },
   {
    "duration": 157,
    "start_time": "2022-11-24T19:09:00.368Z"
   },
   {
    "duration": 154,
    "start_time": "2022-11-24T19:09:00.527Z"
   },
   {
    "duration": 252,
    "start_time": "2022-11-24T19:09:00.682Z"
   },
   {
    "duration": 177,
    "start_time": "2022-11-24T19:09:00.936Z"
   },
   {
    "duration": 255,
    "start_time": "2022-11-24T19:09:01.115Z"
   },
   {
    "duration": 163,
    "start_time": "2022-11-24T19:09:01.372Z"
   },
   {
    "duration": 168,
    "start_time": "2022-11-24T19:09:01.537Z"
   },
   {
    "duration": 181,
    "start_time": "2022-11-24T19:09:01.707Z"
   },
   {
    "duration": 168,
    "start_time": "2022-11-24T19:09:01.889Z"
   },
   {
    "duration": 161,
    "start_time": "2022-11-24T19:09:02.058Z"
   },
   {
    "duration": 165,
    "start_time": "2022-11-24T19:09:02.220Z"
   },
   {
    "duration": 209,
    "start_time": "2022-11-24T19:09:02.386Z"
   },
   {
    "duration": 126,
    "start_time": "2022-11-25T16:28:54.716Z"
   },
   {
    "duration": 3212,
    "start_time": "2022-11-25T16:37:42.936Z"
   },
   {
    "duration": 10,
    "start_time": "2022-11-25T16:37:46.151Z"
   },
   {
    "duration": 15,
    "start_time": "2022-11-25T16:37:46.163Z"
   },
   {
    "duration": 13,
    "start_time": "2022-11-25T16:37:46.180Z"
   },
   {
    "duration": 32,
    "start_time": "2022-11-25T16:37:46.195Z"
   },
   {
    "duration": 28,
    "start_time": "2022-11-25T16:37:46.228Z"
   },
   {
    "duration": 26,
    "start_time": "2022-11-25T16:37:46.257Z"
   },
   {
    "duration": 12,
    "start_time": "2022-11-25T16:37:46.284Z"
   },
   {
    "duration": 6,
    "start_time": "2022-11-25T16:37:46.297Z"
   },
   {
    "duration": 5,
    "start_time": "2022-11-25T16:37:46.306Z"
   },
   {
    "duration": 8,
    "start_time": "2022-11-25T16:37:46.313Z"
   },
   {
    "duration": 10,
    "start_time": "2022-11-25T16:37:46.322Z"
   },
   {
    "duration": 7,
    "start_time": "2022-11-25T16:37:46.333Z"
   },
   {
    "duration": 145,
    "start_time": "2022-11-25T16:37:46.341Z"
   },
   {
    "duration": 4,
    "start_time": "2022-11-25T16:37:46.488Z"
   },
   {
    "duration": 24,
    "start_time": "2022-11-25T16:37:46.493Z"
   },
   {
    "duration": 10,
    "start_time": "2022-11-25T16:37:46.518Z"
   },
   {
    "duration": 9,
    "start_time": "2022-11-25T16:37:46.529Z"
   },
   {
    "duration": 68,
    "start_time": "2022-11-25T16:37:46.540Z"
   },
   {
    "duration": 0,
    "start_time": "2022-11-25T16:37:46.610Z"
   },
   {
    "duration": 0,
    "start_time": "2022-11-25T16:37:46.611Z"
   },
   {
    "duration": 0,
    "start_time": "2022-11-25T16:37:46.612Z"
   },
   {
    "duration": 0,
    "start_time": "2022-11-25T16:37:46.613Z"
   },
   {
    "duration": 0,
    "start_time": "2022-11-25T16:37:46.615Z"
   },
   {
    "duration": 0,
    "start_time": "2022-11-25T16:37:46.616Z"
   },
   {
    "duration": 0,
    "start_time": "2022-11-25T16:37:46.617Z"
   },
   {
    "duration": 0,
    "start_time": "2022-11-25T16:37:46.618Z"
   },
   {
    "duration": 0,
    "start_time": "2022-11-25T16:37:46.619Z"
   },
   {
    "duration": 0,
    "start_time": "2022-11-25T16:37:46.620Z"
   },
   {
    "duration": 0,
    "start_time": "2022-11-25T16:37:46.620Z"
   },
   {
    "duration": 0,
    "start_time": "2022-11-25T16:37:46.622Z"
   },
   {
    "duration": 0,
    "start_time": "2022-11-25T16:37:46.622Z"
   },
   {
    "duration": 0,
    "start_time": "2022-11-25T16:37:46.623Z"
   },
   {
    "duration": 65,
    "start_time": "2022-11-25T16:38:01.751Z"
   },
   {
    "duration": 4,
    "start_time": "2022-11-25T16:38:02.742Z"
   },
   {
    "duration": 384,
    "start_time": "2022-11-25T16:38:24.199Z"
   },
   {
    "duration": 40,
    "start_time": "2022-11-25T16:39:53.914Z"
   },
   {
    "duration": 327,
    "start_time": "2022-11-25T16:41:30.956Z"
   },
   {
    "duration": 300,
    "start_time": "2022-11-25T16:53:15.817Z"
   },
   {
    "duration": 228,
    "start_time": "2022-11-25T16:54:26.227Z"
   },
   {
    "duration": 2780,
    "start_time": "2022-11-25T16:54:36.880Z"
   },
   {
    "duration": 10,
    "start_time": "2022-11-25T16:54:39.662Z"
   },
   {
    "duration": 16,
    "start_time": "2022-11-25T16:54:39.674Z"
   },
   {
    "duration": 12,
    "start_time": "2022-11-25T16:54:39.691Z"
   },
   {
    "duration": 28,
    "start_time": "2022-11-25T16:54:39.705Z"
   },
   {
    "duration": 45,
    "start_time": "2022-11-25T16:54:39.735Z"
   },
   {
    "duration": 5,
    "start_time": "2022-11-25T16:54:39.782Z"
   },
   {
    "duration": 13,
    "start_time": "2022-11-25T16:54:39.789Z"
   },
   {
    "duration": 4,
    "start_time": "2022-11-25T16:54:39.804Z"
   },
   {
    "duration": 4,
    "start_time": "2022-11-25T16:54:39.811Z"
   },
   {
    "duration": 6,
    "start_time": "2022-11-25T16:54:39.816Z"
   },
   {
    "duration": 9,
    "start_time": "2022-11-25T16:54:39.823Z"
   },
   {
    "duration": 6,
    "start_time": "2022-11-25T16:54:39.834Z"
   },
   {
    "duration": 142,
    "start_time": "2022-11-25T16:54:39.842Z"
   },
   {
    "duration": 5,
    "start_time": "2022-11-25T16:54:39.985Z"
   },
   {
    "duration": 15,
    "start_time": "2022-11-25T16:54:39.992Z"
   },
   {
    "duration": 12,
    "start_time": "2022-11-25T16:54:40.009Z"
   },
   {
    "duration": 10,
    "start_time": "2022-11-25T16:54:40.022Z"
   },
   {
    "duration": 254,
    "start_time": "2022-11-25T16:54:40.034Z"
   },
   {
    "duration": 4,
    "start_time": "2022-11-25T16:54:40.290Z"
   },
   {
    "duration": 157,
    "start_time": "2022-11-25T16:54:40.295Z"
   },
   {
    "duration": 170,
    "start_time": "2022-11-25T16:54:40.454Z"
   },
   {
    "duration": 155,
    "start_time": "2022-11-25T16:54:40.625Z"
   },
   {
    "duration": 263,
    "start_time": "2022-11-25T16:54:40.781Z"
   },
   {
    "duration": 174,
    "start_time": "2022-11-25T16:54:41.045Z"
   },
   {
    "duration": 241,
    "start_time": "2022-11-25T16:54:41.221Z"
   },
   {
    "duration": 162,
    "start_time": "2022-11-25T16:54:41.463Z"
   },
   {
    "duration": 143,
    "start_time": "2022-11-25T16:54:41.627Z"
   },
   {
    "duration": 170,
    "start_time": "2022-11-25T16:54:41.777Z"
   },
   {
    "duration": 180,
    "start_time": "2022-11-25T16:54:41.948Z"
   },
   {
    "duration": 182,
    "start_time": "2022-11-25T16:54:42.130Z"
   },
   {
    "duration": 180,
    "start_time": "2022-11-25T16:54:42.314Z"
   },
   {
    "duration": 218,
    "start_time": "2022-11-25T16:54:42.496Z"
   },
   {
    "duration": 259,
    "start_time": "2022-11-25T16:55:46.714Z"
   },
   {
    "duration": 240,
    "start_time": "2022-11-25T16:57:05.534Z"
   },
   {
    "duration": 227,
    "start_time": "2022-11-25T16:59:05.654Z"
   },
   {
    "duration": 238,
    "start_time": "2022-11-25T17:04:46.486Z"
   },
   {
    "duration": 204,
    "start_time": "2022-11-25T17:05:04.296Z"
   },
   {
    "duration": 4,
    "start_time": "2022-11-25T17:05:04.903Z"
   },
   {
    "duration": 408,
    "start_time": "2022-11-25T17:10:36.772Z"
   },
   {
    "duration": 1173,
    "start_time": "2022-11-25T17:11:55.043Z"
   },
   {
    "duration": 1199,
    "start_time": "2022-11-25T17:12:31.229Z"
   },
   {
    "duration": 923,
    "start_time": "2022-11-25T17:13:02.917Z"
   },
   {
    "duration": 247,
    "start_time": "2022-11-25T17:13:10.620Z"
   },
   {
    "duration": 141,
    "start_time": "2022-11-25T17:13:15.105Z"
   },
   {
    "duration": 10,
    "start_time": "2022-11-25T17:14:40.228Z"
   },
   {
    "duration": 12,
    "start_time": "2022-11-25T17:14:57.253Z"
   },
   {
    "duration": 36,
    "start_time": "2022-11-25T17:15:26.199Z"
   },
   {
    "duration": 37,
    "start_time": "2022-11-25T17:15:37.010Z"
   },
   {
    "duration": 37,
    "start_time": "2022-11-25T17:15:56.053Z"
   },
   {
    "duration": 5,
    "start_time": "2022-11-25T17:16:16.281Z"
   },
   {
    "duration": 34,
    "start_time": "2022-11-25T17:17:02.199Z"
   },
   {
    "duration": 209,
    "start_time": "2022-11-25T17:17:30.349Z"
   },
   {
    "duration": 39,
    "start_time": "2022-11-25T17:17:31.388Z"
   },
   {
    "duration": 2837,
    "start_time": "2022-11-25T17:17:44.099Z"
   },
   {
    "duration": 10,
    "start_time": "2022-11-25T17:17:46.938Z"
   },
   {
    "duration": 19,
    "start_time": "2022-11-25T17:17:46.950Z"
   },
   {
    "duration": 12,
    "start_time": "2022-11-25T17:17:46.971Z"
   },
   {
    "duration": 28,
    "start_time": "2022-11-25T17:17:46.984Z"
   },
   {
    "duration": 26,
    "start_time": "2022-11-25T17:17:47.014Z"
   },
   {
    "duration": 5,
    "start_time": "2022-11-25T17:17:47.041Z"
   },
   {
    "duration": 36,
    "start_time": "2022-11-25T17:17:47.048Z"
   },
   {
    "duration": 6,
    "start_time": "2022-11-25T17:17:47.086Z"
   },
   {
    "duration": 5,
    "start_time": "2022-11-25T17:17:47.094Z"
   },
   {
    "duration": 6,
    "start_time": "2022-11-25T17:17:47.102Z"
   },
   {
    "duration": 10,
    "start_time": "2022-11-25T17:17:47.110Z"
   },
   {
    "duration": 13,
    "start_time": "2022-11-25T17:17:47.121Z"
   },
   {
    "duration": 126,
    "start_time": "2022-11-25T17:17:47.136Z"
   },
   {
    "duration": 4,
    "start_time": "2022-11-25T17:17:47.264Z"
   },
   {
    "duration": 14,
    "start_time": "2022-11-25T17:17:47.277Z"
   },
   {
    "duration": 11,
    "start_time": "2022-11-25T17:17:47.292Z"
   },
   {
    "duration": 9,
    "start_time": "2022-11-25T17:17:47.305Z"
   },
   {
    "duration": 222,
    "start_time": "2022-11-25T17:17:47.316Z"
   },
   {
    "duration": 41,
    "start_time": "2022-11-25T17:17:47.539Z"
   },
   {
    "duration": 171,
    "start_time": "2022-11-25T17:17:47.581Z"
   },
   {
    "duration": 154,
    "start_time": "2022-11-25T17:17:47.753Z"
   },
   {
    "duration": 150,
    "start_time": "2022-11-25T17:17:47.908Z"
   },
   {
    "duration": 168,
    "start_time": "2022-11-25T17:17:48.059Z"
   },
   {
    "duration": 168,
    "start_time": "2022-11-25T17:17:48.229Z"
   },
   {
    "duration": 157,
    "start_time": "2022-11-25T17:17:48.399Z"
   },
   {
    "duration": 242,
    "start_time": "2022-11-25T17:17:48.557Z"
   },
   {
    "duration": 141,
    "start_time": "2022-11-25T17:17:48.802Z"
   },
   {
    "duration": 174,
    "start_time": "2022-11-25T17:17:48.945Z"
   },
   {
    "duration": 185,
    "start_time": "2022-11-25T17:17:49.121Z"
   },
   {
    "duration": 150,
    "start_time": "2022-11-25T17:17:49.308Z"
   },
   {
    "duration": 160,
    "start_time": "2022-11-25T17:17:49.460Z"
   },
   {
    "duration": 214,
    "start_time": "2022-11-25T17:17:49.622Z"
   },
   {
    "duration": 209,
    "start_time": "2022-11-25T17:20:05.212Z"
   },
   {
    "duration": 51,
    "start_time": "2022-11-25T17:20:06.474Z"
   },
   {
    "duration": 39,
    "start_time": "2022-11-25T17:20:28.460Z"
   },
   {
    "duration": 224,
    "start_time": "2022-11-25T17:20:35.697Z"
   },
   {
    "duration": 39,
    "start_time": "2022-11-25T17:20:36.152Z"
   },
   {
    "duration": 2666,
    "start_time": "2022-11-25T17:20:46.283Z"
   },
   {
    "duration": 9,
    "start_time": "2022-11-25T17:20:48.951Z"
   },
   {
    "duration": 15,
    "start_time": "2022-11-25T17:20:48.962Z"
   },
   {
    "duration": 12,
    "start_time": "2022-11-25T17:20:48.980Z"
   },
   {
    "duration": 47,
    "start_time": "2022-11-25T17:20:48.994Z"
   },
   {
    "duration": 28,
    "start_time": "2022-11-25T17:20:49.042Z"
   },
   {
    "duration": 6,
    "start_time": "2022-11-25T17:20:49.072Z"
   },
   {
    "duration": 15,
    "start_time": "2022-11-25T17:20:49.080Z"
   },
   {
    "duration": 8,
    "start_time": "2022-11-25T17:20:49.098Z"
   },
   {
    "duration": 7,
    "start_time": "2022-11-25T17:20:49.109Z"
   },
   {
    "duration": 14,
    "start_time": "2022-11-25T17:20:49.118Z"
   },
   {
    "duration": 16,
    "start_time": "2022-11-25T17:20:49.134Z"
   },
   {
    "duration": 7,
    "start_time": "2022-11-25T17:20:49.152Z"
   },
   {
    "duration": 130,
    "start_time": "2022-11-25T17:20:49.161Z"
   },
   {
    "duration": 4,
    "start_time": "2022-11-25T17:20:49.293Z"
   },
   {
    "duration": 15,
    "start_time": "2022-11-25T17:20:49.299Z"
   },
   {
    "duration": 9,
    "start_time": "2022-11-25T17:20:49.316Z"
   },
   {
    "duration": 9,
    "start_time": "2022-11-25T17:20:49.328Z"
   },
   {
    "duration": 250,
    "start_time": "2022-11-25T17:20:49.339Z"
   },
   {
    "duration": 5,
    "start_time": "2022-11-25T17:20:49.591Z"
   },
   {
    "duration": 169,
    "start_time": "2022-11-25T17:20:49.597Z"
   },
   {
    "duration": 166,
    "start_time": "2022-11-25T17:20:49.767Z"
   },
   {
    "duration": 151,
    "start_time": "2022-11-25T17:20:49.935Z"
   },
   {
    "duration": 163,
    "start_time": "2022-11-25T17:20:50.088Z"
   },
   {
    "duration": 177,
    "start_time": "2022-11-25T17:20:50.253Z"
   },
   {
    "duration": 164,
    "start_time": "2022-11-25T17:20:50.432Z"
   },
   {
    "duration": 254,
    "start_time": "2022-11-25T17:20:50.598Z"
   },
   {
    "duration": 159,
    "start_time": "2022-11-25T17:20:50.856Z"
   },
   {
    "duration": 176,
    "start_time": "2022-11-25T17:20:51.017Z"
   },
   {
    "duration": 175,
    "start_time": "2022-11-25T17:20:51.195Z"
   },
   {
    "duration": 155,
    "start_time": "2022-11-25T17:20:51.378Z"
   },
   {
    "duration": 163,
    "start_time": "2022-11-25T17:20:51.535Z"
   },
   {
    "duration": 241,
    "start_time": "2022-11-25T17:20:51.699Z"
   },
   {
    "duration": 136,
    "start_time": "2022-11-25T17:25:16.902Z"
   },
   {
    "duration": 132,
    "start_time": "2022-11-25T17:26:05.407Z"
   },
   {
    "duration": 155,
    "start_time": "2022-11-25T17:26:17.571Z"
   },
   {
    "duration": 155,
    "start_time": "2022-11-25T17:26:35.286Z"
   },
   {
    "duration": 240,
    "start_time": "2022-11-25T17:26:49.101Z"
   },
   {
    "duration": 137,
    "start_time": "2022-11-25T17:27:29.216Z"
   },
   {
    "duration": 125,
    "start_time": "2022-11-25T17:27:33.658Z"
   },
   {
    "duration": 145,
    "start_time": "2022-11-25T17:27:38.048Z"
   },
   {
    "duration": 148,
    "start_time": "2022-11-25T17:30:54.923Z"
   },
   {
    "duration": 72,
    "start_time": "2022-11-25T17:33:26.296Z"
   },
   {
    "duration": 162,
    "start_time": "2022-11-25T17:33:35.385Z"
   },
   {
    "duration": 2869,
    "start_time": "2022-11-25T17:35:52.467Z"
   },
   {
    "duration": 11,
    "start_time": "2022-11-25T17:35:55.338Z"
   },
   {
    "duration": 34,
    "start_time": "2022-11-25T17:35:55.351Z"
   },
   {
    "duration": 24,
    "start_time": "2022-11-25T17:35:55.387Z"
   },
   {
    "duration": 50,
    "start_time": "2022-11-25T17:35:55.413Z"
   },
   {
    "duration": 29,
    "start_time": "2022-11-25T17:35:55.465Z"
   },
   {
    "duration": 6,
    "start_time": "2022-11-25T17:35:55.496Z"
   },
   {
    "duration": 32,
    "start_time": "2022-11-25T17:35:55.504Z"
   },
   {
    "duration": 21,
    "start_time": "2022-11-25T17:35:55.537Z"
   },
   {
    "duration": 18,
    "start_time": "2022-11-25T17:35:55.560Z"
   },
   {
    "duration": 21,
    "start_time": "2022-11-25T17:35:55.580Z"
   },
   {
    "duration": 20,
    "start_time": "2022-11-25T17:35:55.603Z"
   },
   {
    "duration": 25,
    "start_time": "2022-11-25T17:35:55.624Z"
   },
   {
    "duration": 140,
    "start_time": "2022-11-25T17:35:55.651Z"
   },
   {
    "duration": 4,
    "start_time": "2022-11-25T17:35:55.793Z"
   },
   {
    "duration": 35,
    "start_time": "2022-11-25T17:35:55.798Z"
   },
   {
    "duration": 11,
    "start_time": "2022-11-25T17:35:55.835Z"
   },
   {
    "duration": 20,
    "start_time": "2022-11-25T17:35:55.847Z"
   },
   {
    "duration": 242,
    "start_time": "2022-11-25T17:35:55.869Z"
   },
   {
    "duration": 4,
    "start_time": "2022-11-25T17:35:56.112Z"
   },
   {
    "duration": 170,
    "start_time": "2022-11-25T17:35:56.118Z"
   },
   {
    "duration": 162,
    "start_time": "2022-11-25T17:35:56.290Z"
   },
   {
    "duration": 169,
    "start_time": "2022-11-25T17:35:56.453Z"
   },
   {
    "duration": 169,
    "start_time": "2022-11-25T17:35:56.623Z"
   },
   {
    "duration": 197,
    "start_time": "2022-11-25T17:35:56.794Z"
   },
   {
    "duration": 181,
    "start_time": "2022-11-25T17:35:56.993Z"
   },
   {
    "duration": 264,
    "start_time": "2022-11-25T17:35:57.178Z"
   },
   {
    "duration": 171,
    "start_time": "2022-11-25T17:35:57.445Z"
   },
   {
    "duration": 186,
    "start_time": "2022-11-25T17:35:57.618Z"
   },
   {
    "duration": 179,
    "start_time": "2022-11-25T17:35:57.806Z"
   },
   {
    "duration": 189,
    "start_time": "2022-11-25T17:35:57.987Z"
   },
   {
    "duration": 175,
    "start_time": "2022-11-25T17:35:58.177Z"
   },
   {
    "duration": 250,
    "start_time": "2022-11-25T17:35:58.354Z"
   },
   {
    "duration": 2905,
    "start_time": "2022-11-25T17:37:58.503Z"
   },
   {
    "duration": 9,
    "start_time": "2022-11-25T17:38:01.410Z"
   },
   {
    "duration": 16,
    "start_time": "2022-11-25T17:38:01.421Z"
   },
   {
    "duration": 12,
    "start_time": "2022-11-25T17:38:01.438Z"
   },
   {
    "duration": 38,
    "start_time": "2022-11-25T17:38:01.452Z"
   },
   {
    "duration": 24,
    "start_time": "2022-11-25T17:38:01.492Z"
   },
   {
    "duration": 9,
    "start_time": "2022-11-25T17:38:01.517Z"
   },
   {
    "duration": 15,
    "start_time": "2022-11-25T17:38:01.527Z"
   },
   {
    "duration": 16,
    "start_time": "2022-11-25T17:38:01.544Z"
   },
   {
    "duration": 17,
    "start_time": "2022-11-25T17:38:01.561Z"
   },
   {
    "duration": 13,
    "start_time": "2022-11-25T17:38:01.580Z"
   },
   {
    "duration": 15,
    "start_time": "2022-11-25T17:38:01.594Z"
   },
   {
    "duration": 15,
    "start_time": "2022-11-25T17:38:01.611Z"
   },
   {
    "duration": 103,
    "start_time": "2022-11-25T17:38:01.629Z"
   },
   {
    "duration": 4,
    "start_time": "2022-11-25T17:38:01.734Z"
   },
   {
    "duration": 19,
    "start_time": "2022-11-25T17:38:01.739Z"
   },
   {
    "duration": 14,
    "start_time": "2022-11-25T17:38:01.760Z"
   },
   {
    "duration": 10,
    "start_time": "2022-11-25T17:38:01.775Z"
   },
   {
    "duration": 216,
    "start_time": "2022-11-25T17:38:01.787Z"
   },
   {
    "duration": 5,
    "start_time": "2022-11-25T17:38:02.004Z"
   },
   {
    "duration": 150,
    "start_time": "2022-11-25T17:38:02.011Z"
   },
   {
    "duration": 166,
    "start_time": "2022-11-25T17:38:02.162Z"
   },
   {
    "duration": 138,
    "start_time": "2022-11-25T17:38:02.330Z"
   },
   {
    "duration": 167,
    "start_time": "2022-11-25T17:38:02.469Z"
   },
   {
    "duration": 159,
    "start_time": "2022-11-25T17:38:02.638Z"
   },
   {
    "duration": 179,
    "start_time": "2022-11-25T17:38:02.799Z"
   },
   {
    "duration": 234,
    "start_time": "2022-11-25T17:38:02.980Z"
   },
   {
    "duration": 142,
    "start_time": "2022-11-25T17:38:03.216Z"
   },
   {
    "duration": 170,
    "start_time": "2022-11-25T17:38:03.359Z"
   },
   {
    "duration": 167,
    "start_time": "2022-11-25T17:38:03.530Z"
   },
   {
    "duration": 166,
    "start_time": "2022-11-25T17:38:03.698Z"
   },
   {
    "duration": 215,
    "start_time": "2022-11-25T17:38:03.865Z"
   },
   {
    "duration": 212,
    "start_time": "2022-11-25T17:38:04.082Z"
   },
   {
    "duration": 139,
    "start_time": "2022-11-25T17:38:04.295Z"
   },
   {
    "duration": 174,
    "start_time": "2022-11-25T17:39:58.693Z"
   },
   {
    "duration": 147,
    "start_time": "2022-11-25T17:41:39.321Z"
   },
   {
    "duration": 148,
    "start_time": "2022-11-25T17:41:53.142Z"
   },
   {
    "duration": 14,
    "start_time": "2022-11-25T17:58:47.787Z"
   },
   {
    "duration": 21,
    "start_time": "2022-11-25T17:59:06.418Z"
   },
   {
    "duration": 2632,
    "start_time": "2022-11-25T18:01:04.340Z"
   },
   {
    "duration": 9,
    "start_time": "2022-11-25T18:01:06.975Z"
   },
   {
    "duration": 14,
    "start_time": "2022-11-25T18:01:06.986Z"
   },
   {
    "duration": 11,
    "start_time": "2022-11-25T18:01:07.002Z"
   },
   {
    "duration": 28,
    "start_time": "2022-11-25T18:01:07.016Z"
   },
   {
    "duration": 45,
    "start_time": "2022-11-25T18:01:07.045Z"
   },
   {
    "duration": 5,
    "start_time": "2022-11-25T18:01:07.092Z"
   },
   {
    "duration": 19,
    "start_time": "2022-11-25T18:01:07.099Z"
   },
   {
    "duration": 9,
    "start_time": "2022-11-25T18:01:07.120Z"
   },
   {
    "duration": 9,
    "start_time": "2022-11-25T18:01:07.130Z"
   },
   {
    "duration": 9,
    "start_time": "2022-11-25T18:01:07.140Z"
   },
   {
    "duration": 10,
    "start_time": "2022-11-25T18:01:07.151Z"
   },
   {
    "duration": 18,
    "start_time": "2022-11-25T18:01:07.163Z"
   },
   {
    "duration": 109,
    "start_time": "2022-11-25T18:01:07.184Z"
   },
   {
    "duration": 4,
    "start_time": "2022-11-25T18:01:07.294Z"
   },
   {
    "duration": 31,
    "start_time": "2022-11-25T18:01:07.300Z"
   },
   {
    "duration": 23,
    "start_time": "2022-11-25T18:01:07.333Z"
   },
   {
    "duration": 11,
    "start_time": "2022-11-25T18:01:07.358Z"
   },
   {
    "duration": 208,
    "start_time": "2022-11-25T18:01:07.371Z"
   },
   {
    "duration": 4,
    "start_time": "2022-11-25T18:01:07.581Z"
   },
   {
    "duration": 164,
    "start_time": "2022-11-25T18:01:07.587Z"
   },
   {
    "duration": 176,
    "start_time": "2022-11-25T18:01:07.753Z"
   },
   {
    "duration": 164,
    "start_time": "2022-11-25T18:01:07.930Z"
   },
   {
    "duration": 166,
    "start_time": "2022-11-25T18:01:08.095Z"
   },
   {
    "duration": 184,
    "start_time": "2022-11-25T18:01:08.263Z"
   },
   {
    "duration": 168,
    "start_time": "2022-11-25T18:01:08.449Z"
   },
   {
    "duration": 240,
    "start_time": "2022-11-25T18:01:08.619Z"
   },
   {
    "duration": 153,
    "start_time": "2022-11-25T18:01:08.860Z"
   },
   {
    "duration": 158,
    "start_time": "2022-11-25T18:01:09.015Z"
   },
   {
    "duration": 150,
    "start_time": "2022-11-25T18:01:09.177Z"
   },
   {
    "duration": 158,
    "start_time": "2022-11-25T18:01:09.328Z"
   },
   {
    "duration": 160,
    "start_time": "2022-11-25T18:01:09.488Z"
   },
   {
    "duration": 213,
    "start_time": "2022-11-25T18:01:09.650Z"
   },
   {
    "duration": 161,
    "start_time": "2022-11-25T18:01:09.865Z"
   },
   {
    "duration": 51900,
    "start_time": "2022-11-25T18:01:10.028Z"
   },
   {
    "duration": 1201,
    "start_time": "2022-11-25T18:06:01.615Z"
   },
   {
    "duration": 1123,
    "start_time": "2022-11-25T18:06:16.055Z"
   },
   {
    "duration": 17,
    "start_time": "2022-11-25T18:06:44.761Z"
   },
   {
    "duration": 1272,
    "start_time": "2022-11-25T18:07:23.184Z"
   },
   {
    "duration": 20,
    "start_time": "2022-11-25T18:07:32.753Z"
   },
   {
    "duration": 52293,
    "start_time": "2022-11-25T18:07:42.797Z"
   },
   {
    "duration": 51251,
    "start_time": "2022-11-25T18:08:47.151Z"
   },
   {
    "duration": 52306,
    "start_time": "2022-11-25T18:10:22.357Z"
   },
   {
    "duration": 51666,
    "start_time": "2022-11-25T18:11:32.371Z"
   },
   {
    "duration": 51246,
    "start_time": "2022-11-25T18:13:10.757Z"
   },
   {
    "duration": 55262,
    "start_time": "2022-11-25T18:14:16.967Z"
   },
   {
    "duration": 15,
    "start_time": "2022-11-25T18:16:18.493Z"
   },
   {
    "duration": 136,
    "start_time": "2022-11-25T18:23:06.735Z"
   },
   {
    "duration": 16,
    "start_time": "2022-11-25T18:23:17.755Z"
   },
   {
    "duration": 27,
    "start_time": "2022-11-25T18:24:40.168Z"
   },
   {
    "duration": 22,
    "start_time": "2022-11-25T18:25:10.773Z"
   },
   {
    "duration": 26,
    "start_time": "2022-11-25T18:25:17.576Z"
   },
   {
    "duration": 24,
    "start_time": "2022-11-25T18:25:56.700Z"
   },
   {
    "duration": 51,
    "start_time": "2022-11-25T18:25:59.802Z"
   },
   {
    "duration": 11,
    "start_time": "2022-11-25T18:26:15.945Z"
   },
   {
    "duration": 243,
    "start_time": "2022-11-25T18:26:21.466Z"
   },
   {
    "duration": 23,
    "start_time": "2022-11-25T18:28:00.568Z"
   },
   {
    "duration": 20,
    "start_time": "2022-11-25T18:29:29.720Z"
   },
   {
    "duration": 28,
    "start_time": "2022-11-25T18:29:37.933Z"
   },
   {
    "duration": 23,
    "start_time": "2022-11-25T18:29:53.333Z"
   },
   {
    "duration": 1359,
    "start_time": "2022-11-25T18:33:12.167Z"
   },
   {
    "duration": 1235,
    "start_time": "2022-11-25T18:33:20.361Z"
   },
   {
    "duration": 20,
    "start_time": "2022-11-25T18:33:34.875Z"
   },
   {
    "duration": 8,
    "start_time": "2022-11-25T18:42:00.833Z"
   },
   {
    "duration": 15,
    "start_time": "2022-11-25T18:42:07.961Z"
   },
   {
    "duration": 11,
    "start_time": "2022-11-25T18:43:35.104Z"
   },
   {
    "duration": 69,
    "start_time": "2022-11-25T18:49:15.184Z"
   },
   {
    "duration": 9,
    "start_time": "2022-11-25T18:49:27.658Z"
   },
   {
    "duration": 8,
    "start_time": "2022-11-25T18:49:41.025Z"
   },
   {
    "duration": 21,
    "start_time": "2022-11-25T18:49:48.146Z"
   },
   {
    "duration": 13,
    "start_time": "2022-11-25T18:50:34.174Z"
   },
   {
    "duration": 19,
    "start_time": "2022-11-25T18:51:54.971Z"
   },
   {
    "duration": 2629,
    "start_time": "2022-11-25T18:52:27.944Z"
   },
   {
    "duration": 10,
    "start_time": "2022-11-25T18:52:30.574Z"
   },
   {
    "duration": 36,
    "start_time": "2022-11-25T18:52:30.588Z"
   },
   {
    "duration": 30,
    "start_time": "2022-11-25T18:52:30.626Z"
   },
   {
    "duration": 52,
    "start_time": "2022-11-25T18:52:30.657Z"
   },
   {
    "duration": 51,
    "start_time": "2022-11-25T18:52:30.711Z"
   },
   {
    "duration": 11,
    "start_time": "2022-11-25T18:52:30.764Z"
   },
   {
    "duration": 48,
    "start_time": "2022-11-25T18:52:30.776Z"
   },
   {
    "duration": 14,
    "start_time": "2022-11-25T18:52:30.827Z"
   },
   {
    "duration": 36,
    "start_time": "2022-11-25T18:52:30.843Z"
   },
   {
    "duration": 30,
    "start_time": "2022-11-25T18:52:30.880Z"
   },
   {
    "duration": 42,
    "start_time": "2022-11-25T18:52:30.912Z"
   },
   {
    "duration": 37,
    "start_time": "2022-11-25T18:52:30.956Z"
   },
   {
    "duration": 155,
    "start_time": "2022-11-25T18:52:30.995Z"
   },
   {
    "duration": 4,
    "start_time": "2022-11-25T18:52:31.152Z"
   },
   {
    "duration": 20,
    "start_time": "2022-11-25T18:52:31.158Z"
   },
   {
    "duration": 9,
    "start_time": "2022-11-25T18:52:31.180Z"
   },
   {
    "duration": 14,
    "start_time": "2022-11-25T18:52:31.191Z"
   },
   {
    "duration": 228,
    "start_time": "2022-11-25T18:52:31.206Z"
   },
   {
    "duration": 4,
    "start_time": "2022-11-25T18:52:31.436Z"
   },
   {
    "duration": 156,
    "start_time": "2022-11-25T18:52:31.442Z"
   },
   {
    "duration": 179,
    "start_time": "2022-11-25T18:52:31.599Z"
   },
   {
    "duration": 170,
    "start_time": "2022-11-25T18:52:31.780Z"
   },
   {
    "duration": 199,
    "start_time": "2022-11-25T18:52:31.951Z"
   },
   {
    "duration": 168,
    "start_time": "2022-11-25T18:52:32.152Z"
   },
   {
    "duration": 174,
    "start_time": "2022-11-25T18:52:32.322Z"
   },
   {
    "duration": 253,
    "start_time": "2022-11-25T18:52:32.499Z"
   },
   {
    "duration": 144,
    "start_time": "2022-11-25T18:52:32.753Z"
   },
   {
    "duration": 166,
    "start_time": "2022-11-25T18:52:32.899Z"
   },
   {
    "duration": 163,
    "start_time": "2022-11-25T18:52:33.067Z"
   },
   {
    "duration": 160,
    "start_time": "2022-11-25T18:52:33.232Z"
   },
   {
    "duration": 184,
    "start_time": "2022-11-25T18:52:33.394Z"
   },
   {
    "duration": 239,
    "start_time": "2022-11-25T18:52:33.580Z"
   },
   {
    "duration": 199,
    "start_time": "2022-11-25T18:52:33.821Z"
   },
   {
    "duration": 22,
    "start_time": "2022-11-25T18:52:34.023Z"
   },
   {
    "duration": 34,
    "start_time": "2022-11-25T18:52:34.047Z"
   },
   {
    "duration": 20,
    "start_time": "2022-11-25T18:53:45.444Z"
   },
   {
    "duration": 18,
    "start_time": "2022-11-25T18:58:00.410Z"
   },
   {
    "duration": 69,
    "start_time": "2022-11-25T18:58:21.408Z"
   },
   {
    "duration": 14,
    "start_time": "2022-11-25T18:58:24.093Z"
   },
   {
    "duration": 15,
    "start_time": "2022-11-25T18:59:22.970Z"
   },
   {
    "duration": 226,
    "start_time": "2022-11-25T18:59:34.247Z"
   },
   {
    "duration": 11,
    "start_time": "2022-11-25T18:59:43.141Z"
   },
   {
    "duration": 16,
    "start_time": "2022-11-25T18:59:46.374Z"
   },
   {
    "duration": 94,
    "start_time": "2022-11-25T19:00:30.257Z"
   },
   {
    "duration": 13,
    "start_time": "2022-11-25T19:00:37.580Z"
   },
   {
    "duration": 14,
    "start_time": "2022-11-25T19:01:25.197Z"
   },
   {
    "duration": 14,
    "start_time": "2022-11-25T19:01:33.099Z"
   },
   {
    "duration": 19,
    "start_time": "2022-11-25T19:04:59.197Z"
   },
   {
    "duration": 15,
    "start_time": "2022-11-25T19:05:37.155Z"
   },
   {
    "duration": 59,
    "start_time": "2022-11-27T19:19:02.252Z"
   },
   {
    "duration": 3245,
    "start_time": "2022-11-27T19:19:06.494Z"
   },
   {
    "duration": 10,
    "start_time": "2022-11-27T19:19:09.741Z"
   },
   {
    "duration": 18,
    "start_time": "2022-11-27T19:19:09.752Z"
   },
   {
    "duration": 13,
    "start_time": "2022-11-27T19:19:09.773Z"
   },
   {
    "duration": 45,
    "start_time": "2022-11-27T19:19:09.787Z"
   },
   {
    "duration": 28,
    "start_time": "2022-11-27T19:19:09.834Z"
   },
   {
    "duration": 7,
    "start_time": "2022-11-27T19:19:09.863Z"
   },
   {
    "duration": 11,
    "start_time": "2022-11-27T19:19:09.872Z"
   },
   {
    "duration": 30,
    "start_time": "2022-11-27T19:19:09.885Z"
   },
   {
    "duration": 6,
    "start_time": "2022-11-27T19:19:09.918Z"
   },
   {
    "duration": 6,
    "start_time": "2022-11-27T19:19:09.925Z"
   },
   {
    "duration": 11,
    "start_time": "2022-11-27T19:19:09.933Z"
   },
   {
    "duration": 9,
    "start_time": "2022-11-27T19:19:09.946Z"
   },
   {
    "duration": 143,
    "start_time": "2022-11-27T19:19:09.957Z"
   },
   {
    "duration": 10,
    "start_time": "2022-11-27T19:19:10.102Z"
   },
   {
    "duration": 10,
    "start_time": "2022-11-27T19:19:10.113Z"
   },
   {
    "duration": 11,
    "start_time": "2022-11-27T19:19:10.124Z"
   },
   {
    "duration": 11,
    "start_time": "2022-11-27T19:19:10.137Z"
   },
   {
    "duration": 266,
    "start_time": "2022-11-27T19:19:10.150Z"
   },
   {
    "duration": 5,
    "start_time": "2022-11-27T19:19:10.417Z"
   },
   {
    "duration": 167,
    "start_time": "2022-11-27T19:19:10.424Z"
   },
   {
    "duration": 174,
    "start_time": "2022-11-27T19:19:10.593Z"
   },
   {
    "duration": 167,
    "start_time": "2022-11-27T19:19:10.768Z"
   },
   {
    "duration": 180,
    "start_time": "2022-11-27T19:19:10.937Z"
   },
   {
    "duration": 188,
    "start_time": "2022-11-27T19:19:11.119Z"
   },
   {
    "duration": 285,
    "start_time": "2022-11-27T19:19:11.314Z"
   },
   {
    "duration": 192,
    "start_time": "2022-11-27T19:19:11.601Z"
   },
   {
    "duration": 170,
    "start_time": "2022-11-27T19:19:11.796Z"
   },
   {
    "duration": 201,
    "start_time": "2022-11-27T19:19:11.968Z"
   },
   {
    "duration": 201,
    "start_time": "2022-11-27T19:19:12.171Z"
   },
   {
    "duration": 175,
    "start_time": "2022-11-27T19:19:12.373Z"
   },
   {
    "duration": 268,
    "start_time": "2022-11-27T19:19:12.550Z"
   },
   {
    "duration": 250,
    "start_time": "2022-11-27T19:19:12.820Z"
   },
   {
    "duration": 218,
    "start_time": "2022-11-27T19:19:13.072Z"
   },
   {
    "duration": 23,
    "start_time": "2022-11-27T19:19:13.291Z"
   },
   {
    "duration": 16,
    "start_time": "2022-11-27T19:19:13.316Z"
   },
   {
    "duration": 193,
    "start_time": "2022-11-27T19:19:31.162Z"
   },
   {
    "duration": 180,
    "start_time": "2022-11-27T19:19:39.714Z"
   },
   {
    "duration": 309,
    "start_time": "2022-11-27T19:19:48.220Z"
   },
   {
    "duration": 168,
    "start_time": "2022-11-27T19:19:59.858Z"
   },
   {
    "duration": 209,
    "start_time": "2022-11-27T19:20:18.305Z"
   },
   {
    "duration": 208,
    "start_time": "2022-11-27T19:20:29.795Z"
   },
   {
    "duration": 211,
    "start_time": "2022-11-27T19:20:34.118Z"
   },
   {
    "duration": 207,
    "start_time": "2022-11-27T19:20:53.587Z"
   },
   {
    "duration": 175,
    "start_time": "2022-11-27T19:22:17.171Z"
   },
   {
    "duration": 176,
    "start_time": "2022-11-27T19:22:27.375Z"
   },
   {
    "duration": 212,
    "start_time": "2022-11-27T19:22:32.560Z"
   },
   {
    "duration": 195,
    "start_time": "2022-11-27T19:22:49.822Z"
   },
   {
    "duration": 221,
    "start_time": "2022-11-27T19:22:56.333Z"
   },
   {
    "duration": 211,
    "start_time": "2022-11-27T19:23:05.004Z"
   },
   {
    "duration": 320,
    "start_time": "2022-11-27T19:23:09.699Z"
   },
   {
    "duration": 202,
    "start_time": "2022-11-27T19:23:14.079Z"
   },
   {
    "duration": 61,
    "start_time": "2022-11-28T17:43:55.920Z"
   },
   {
    "duration": 3405,
    "start_time": "2022-11-28T17:44:00.909Z"
   },
   {
    "duration": 16,
    "start_time": "2022-11-28T17:44:04.317Z"
   },
   {
    "duration": 28,
    "start_time": "2022-11-28T17:44:04.335Z"
   },
   {
    "duration": 16,
    "start_time": "2022-11-28T17:44:04.365Z"
   },
   {
    "duration": 53,
    "start_time": "2022-11-28T17:44:04.384Z"
   },
   {
    "duration": 31,
    "start_time": "2022-11-28T17:44:04.440Z"
   },
   {
    "duration": 27,
    "start_time": "2022-11-28T17:44:04.473Z"
   },
   {
    "duration": 20,
    "start_time": "2022-11-28T17:44:04.502Z"
   },
   {
    "duration": 6,
    "start_time": "2022-11-28T17:44:04.525Z"
   },
   {
    "duration": 6,
    "start_time": "2022-11-28T17:44:04.536Z"
   },
   {
    "duration": 11,
    "start_time": "2022-11-28T17:44:04.544Z"
   },
   {
    "duration": 39,
    "start_time": "2022-11-28T17:44:04.557Z"
   },
   {
    "duration": 8,
    "start_time": "2022-11-28T17:44:04.598Z"
   },
   {
    "duration": 132,
    "start_time": "2022-11-28T17:44:04.608Z"
   },
   {
    "duration": 4,
    "start_time": "2022-11-28T17:44:04.742Z"
   },
   {
    "duration": 15,
    "start_time": "2022-11-28T17:44:04.748Z"
   },
   {
    "duration": 20,
    "start_time": "2022-11-28T17:44:04.765Z"
   },
   {
    "duration": 20,
    "start_time": "2022-11-28T17:44:04.797Z"
   },
   {
    "duration": 272,
    "start_time": "2022-11-28T17:44:04.819Z"
   },
   {
    "duration": 5,
    "start_time": "2022-11-28T17:44:05.093Z"
   },
   {
    "duration": 214,
    "start_time": "2022-11-28T17:44:05.100Z"
   },
   {
    "duration": 194,
    "start_time": "2022-11-28T17:44:05.316Z"
   },
   {
    "duration": 189,
    "start_time": "2022-11-28T17:44:05.512Z"
   },
   {
    "duration": 221,
    "start_time": "2022-11-28T17:44:05.702Z"
   },
   {
    "duration": 355,
    "start_time": "2022-11-28T17:44:05.924Z"
   },
   {
    "duration": 242,
    "start_time": "2022-11-28T17:44:06.282Z"
   },
   {
    "duration": 194,
    "start_time": "2022-11-28T17:44:06.526Z"
   },
   {
    "duration": 199,
    "start_time": "2022-11-28T17:44:06.725Z"
   },
   {
    "duration": 208,
    "start_time": "2022-11-28T17:44:06.926Z"
   },
   {
    "duration": 207,
    "start_time": "2022-11-28T17:44:07.136Z"
   },
   {
    "duration": 203,
    "start_time": "2022-11-28T17:44:07.344Z"
   },
   {
    "duration": 211,
    "start_time": "2022-11-28T17:44:07.549Z"
   },
   {
    "duration": 247,
    "start_time": "2022-11-28T17:44:07.763Z"
   },
   {
    "duration": 185,
    "start_time": "2022-11-28T17:44:08.012Z"
   },
   {
    "duration": 13,
    "start_time": "2022-11-28T17:44:08.198Z"
   },
   {
    "duration": 272,
    "start_time": "2022-11-28T17:44:08.213Z"
   },
   {
    "duration": 313,
    "start_time": "2022-11-28T17:44:44.995Z"
   },
   {
    "duration": 219,
    "start_time": "2022-11-28T17:48:23.091Z"
   },
   {
    "duration": 230,
    "start_time": "2022-11-28T17:48:56.273Z"
   },
   {
    "duration": 234,
    "start_time": "2022-11-28T17:52:45.790Z"
   },
   {
    "duration": 82,
    "start_time": "2022-11-28T17:54:42.127Z"
   },
   {
    "duration": 206,
    "start_time": "2022-11-28T17:54:58.806Z"
   },
   {
    "duration": 214,
    "start_time": "2022-11-28T17:56:05.420Z"
   },
   {
    "duration": 216,
    "start_time": "2022-11-28T17:56:32.365Z"
   },
   {
    "duration": 677,
    "start_time": "2022-11-28T17:57:27.242Z"
   },
   {
    "duration": 13,
    "start_time": "2022-11-28T17:57:39.398Z"
   },
   {
    "duration": 55,
    "start_time": "2022-11-28T17:57:53.702Z"
   },
   {
    "duration": 184,
    "start_time": "2022-11-28T17:57:57.603Z"
   },
   {
    "duration": 208,
    "start_time": "2022-11-28T17:58:06.321Z"
   },
   {
    "duration": 187,
    "start_time": "2022-11-28T17:58:11.385Z"
   },
   {
    "duration": 361,
    "start_time": "2022-11-28T17:58:27.427Z"
   },
   {
    "duration": 209,
    "start_time": "2022-11-28T17:58:45.670Z"
   },
   {
    "duration": 327,
    "start_time": "2022-11-28T17:59:02.466Z"
   },
   {
    "duration": 207,
    "start_time": "2022-11-28T17:59:19.939Z"
   },
   {
    "duration": 207,
    "start_time": "2022-11-28T17:59:31.277Z"
   },
   {
    "duration": 2799,
    "start_time": "2022-11-28T18:00:40.583Z"
   },
   {
    "duration": 10,
    "start_time": "2022-11-28T18:00:43.384Z"
   },
   {
    "duration": 20,
    "start_time": "2022-11-28T18:00:43.395Z"
   },
   {
    "duration": 11,
    "start_time": "2022-11-28T18:00:43.417Z"
   },
   {
    "duration": 28,
    "start_time": "2022-11-28T18:00:43.430Z"
   },
   {
    "duration": 43,
    "start_time": "2022-11-28T18:00:43.460Z"
   },
   {
    "duration": 6,
    "start_time": "2022-11-28T18:00:43.505Z"
   },
   {
    "duration": 27,
    "start_time": "2022-11-28T18:00:43.512Z"
   },
   {
    "duration": 6,
    "start_time": "2022-11-28T18:00:43.541Z"
   },
   {
    "duration": 6,
    "start_time": "2022-11-28T18:00:43.550Z"
   },
   {
    "duration": 7,
    "start_time": "2022-11-28T18:00:43.558Z"
   },
   {
    "duration": 15,
    "start_time": "2022-11-28T18:00:43.566Z"
   },
   {
    "duration": 14,
    "start_time": "2022-11-28T18:00:43.583Z"
   },
   {
    "duration": 121,
    "start_time": "2022-11-28T18:00:43.600Z"
   },
   {
    "duration": 5,
    "start_time": "2022-11-28T18:00:43.723Z"
   },
   {
    "duration": 18,
    "start_time": "2022-11-28T18:00:43.729Z"
   },
   {
    "duration": 9,
    "start_time": "2022-11-28T18:00:43.749Z"
   },
   {
    "duration": 9,
    "start_time": "2022-11-28T18:00:43.760Z"
   },
   {
    "duration": 260,
    "start_time": "2022-11-28T18:00:43.771Z"
   },
   {
    "duration": 4,
    "start_time": "2022-11-28T18:00:44.033Z"
   },
   {
    "duration": 189,
    "start_time": "2022-11-28T18:00:44.038Z"
   },
   {
    "duration": 200,
    "start_time": "2022-11-28T18:00:44.229Z"
   },
   {
    "duration": 183,
    "start_time": "2022-11-28T18:00:44.431Z"
   },
   {
    "duration": 2860,
    "start_time": "2022-11-28T18:01:06.990Z"
   },
   {
    "duration": 10,
    "start_time": "2022-11-28T18:01:09.852Z"
   },
   {
    "duration": 17,
    "start_time": "2022-11-28T18:01:09.864Z"
   },
   {
    "duration": 12,
    "start_time": "2022-11-28T18:01:09.883Z"
   },
   {
    "duration": 33,
    "start_time": "2022-11-28T18:01:09.897Z"
   },
   {
    "duration": 34,
    "start_time": "2022-11-28T18:01:09.935Z"
   },
   {
    "duration": 7,
    "start_time": "2022-11-28T18:01:09.971Z"
   },
   {
    "duration": 13,
    "start_time": "2022-11-28T18:01:09.996Z"
   },
   {
    "duration": 5,
    "start_time": "2022-11-28T18:01:10.012Z"
   },
   {
    "duration": 8,
    "start_time": "2022-11-28T18:01:10.019Z"
   },
   {
    "duration": 18,
    "start_time": "2022-11-28T18:01:10.029Z"
   },
   {
    "duration": 11,
    "start_time": "2022-11-28T18:01:10.049Z"
   },
   {
    "duration": 11,
    "start_time": "2022-11-28T18:01:10.062Z"
   },
   {
    "duration": 128,
    "start_time": "2022-11-28T18:01:10.075Z"
   },
   {
    "duration": 4,
    "start_time": "2022-11-28T18:01:10.205Z"
   },
   {
    "duration": 14,
    "start_time": "2022-11-28T18:01:10.211Z"
   },
   {
    "duration": 10,
    "start_time": "2022-11-28T18:01:10.226Z"
   },
   {
    "duration": 12,
    "start_time": "2022-11-28T18:01:10.238Z"
   },
   {
    "duration": 270,
    "start_time": "2022-11-28T18:01:10.252Z"
   },
   {
    "duration": 4,
    "start_time": "2022-11-28T18:01:10.524Z"
   },
   {
    "duration": 187,
    "start_time": "2022-11-28T18:01:10.530Z"
   },
   {
    "duration": 204,
    "start_time": "2022-11-28T18:01:10.720Z"
   },
   {
    "duration": 184,
    "start_time": "2022-11-28T18:01:10.926Z"
   },
   {
    "duration": 199,
    "start_time": "2022-11-28T18:01:11.112Z"
   },
   {
    "duration": 215,
    "start_time": "2022-11-28T18:01:11.313Z"
   },
   {
    "duration": 289,
    "start_time": "2022-11-28T18:01:11.529Z"
   },
   {
    "duration": 216,
    "start_time": "2022-11-28T18:01:11.819Z"
   },
   {
    "duration": 178,
    "start_time": "2022-11-28T18:01:12.039Z"
   },
   {
    "duration": 197,
    "start_time": "2022-11-28T18:01:12.219Z"
   },
   {
    "duration": 204,
    "start_time": "2022-11-28T18:01:12.418Z"
   },
   {
    "duration": 202,
    "start_time": "2022-11-28T18:01:12.624Z"
   },
   {
    "duration": 198,
    "start_time": "2022-11-28T18:01:12.828Z"
   },
   {
    "duration": 233,
    "start_time": "2022-11-28T18:01:13.028Z"
   },
   {
    "duration": 268,
    "start_time": "2022-11-28T18:01:13.263Z"
   },
   {
    "duration": 13,
    "start_time": "2022-11-28T18:01:13.533Z"
   },
   {
    "duration": 281,
    "start_time": "2022-11-28T18:01:13.548Z"
   },
   {
    "duration": 18,
    "start_time": "2022-11-28T18:02:06.663Z"
   },
   {
    "duration": 194,
    "start_time": "2022-11-28T18:02:35.376Z"
   },
   {
    "duration": 328,
    "start_time": "2022-11-28T18:03:14.058Z"
   },
   {
    "duration": 196,
    "start_time": "2022-11-28T18:03:19.187Z"
   },
   {
    "duration": 215,
    "start_time": "2022-11-28T18:03:27.460Z"
   },
   {
    "duration": 247,
    "start_time": "2022-11-28T18:04:38.728Z"
   },
   {
    "duration": 210,
    "start_time": "2022-11-28T18:04:49.775Z"
   },
   {
    "duration": 207,
    "start_time": "2022-11-28T18:05:25.719Z"
   },
   {
    "duration": 212,
    "start_time": "2022-11-28T18:05:33.067Z"
   },
   {
    "duration": 215,
    "start_time": "2022-11-28T18:07:53.063Z"
   },
   {
    "duration": 235,
    "start_time": "2022-11-28T18:08:01.649Z"
   },
   {
    "duration": 240,
    "start_time": "2022-11-28T18:08:23.759Z"
   },
   {
    "duration": 226,
    "start_time": "2022-11-28T18:08:36.895Z"
   },
   {
    "duration": 237,
    "start_time": "2022-11-28T18:08:55.404Z"
   },
   {
    "duration": 226,
    "start_time": "2022-11-28T18:09:06.636Z"
   },
   {
    "duration": 218,
    "start_time": "2022-11-28T18:09:40.729Z"
   },
   {
    "duration": 204,
    "start_time": "2022-11-28T18:09:47.188Z"
   },
   {
    "duration": 264,
    "start_time": "2022-11-28T18:10:25.829Z"
   },
   {
    "duration": 228,
    "start_time": "2022-11-28T18:10:30.578Z"
   },
   {
    "duration": 504,
    "start_time": "2022-11-28T18:10:51.983Z"
   },
   {
    "duration": 372,
    "start_time": "2022-11-28T18:11:02.219Z"
   },
   {
    "duration": 381,
    "start_time": "2022-11-28T18:12:14.676Z"
   },
   {
    "duration": 359,
    "start_time": "2022-11-28T18:12:39.612Z"
   },
   {
    "duration": 340,
    "start_time": "2022-11-28T18:13:14.524Z"
   },
   {
    "duration": 217,
    "start_time": "2022-11-28T18:15:58.292Z"
   },
   {
    "duration": 59,
    "start_time": "2022-11-28T18:16:08.716Z"
   },
   {
    "duration": 224,
    "start_time": "2022-11-28T18:16:12.102Z"
   },
   {
    "duration": 217,
    "start_time": "2022-11-28T18:16:52.863Z"
   },
   {
    "duration": 208,
    "start_time": "2022-11-28T18:17:27.218Z"
   },
   {
    "duration": 208,
    "start_time": "2022-11-28T18:17:38.377Z"
   },
   {
    "duration": 221,
    "start_time": "2022-11-28T18:17:59.915Z"
   },
   {
    "duration": 208,
    "start_time": "2022-11-28T18:18:28.230Z"
   },
   {
    "duration": 234,
    "start_time": "2022-11-28T18:18:33.886Z"
   },
   {
    "duration": 279,
    "start_time": "2022-11-28T18:18:41.843Z"
   },
   {
    "duration": 221,
    "start_time": "2022-11-28T18:18:53.083Z"
   },
   {
    "duration": 218,
    "start_time": "2022-11-28T18:18:59.340Z"
   },
   {
    "duration": 430,
    "start_time": "2022-11-28T18:19:28.394Z"
   },
   {
    "duration": 57773,
    "start_time": "2022-11-28T18:19:49.736Z"
   },
   {
    "duration": 201,
    "start_time": "2022-11-28T18:21:11.665Z"
   },
   {
    "duration": 11,
    "start_time": "2022-11-28T18:26:48.758Z"
   },
   {
    "duration": 12,
    "start_time": "2022-11-28T18:26:59.347Z"
   },
   {
    "duration": 12,
    "start_time": "2022-11-28T18:27:09.677Z"
   },
   {
    "duration": 134,
    "start_time": "2022-11-28T18:27:31.829Z"
   },
   {
    "duration": 199,
    "start_time": "2022-11-28T18:29:16.119Z"
   },
   {
    "duration": 162,
    "start_time": "2022-11-28T18:29:54.006Z"
   },
   {
    "duration": 321,
    "start_time": "2022-11-28T18:30:41.269Z"
   },
   {
    "duration": 178,
    "start_time": "2022-11-28T18:30:56.853Z"
   },
   {
    "duration": 16,
    "start_time": "2022-11-28T18:31:03.893Z"
   },
   {
    "duration": 296,
    "start_time": "2022-11-28T18:31:06.843Z"
   },
   {
    "duration": 153,
    "start_time": "2022-11-28T18:31:26.304Z"
   },
   {
    "duration": 47,
    "start_time": "2022-11-28T18:44:01.057Z"
   },
   {
    "duration": 212,
    "start_time": "2022-11-28T18:44:08.200Z"
   },
   {
    "duration": 18,
    "start_time": "2022-11-28T18:46:11.745Z"
   },
   {
    "duration": 224,
    "start_time": "2022-11-28T18:46:29.983Z"
   },
   {
    "duration": 218,
    "start_time": "2022-11-28T18:46:42.683Z"
   },
   {
    "duration": 14,
    "start_time": "2022-11-28T18:47:28.979Z"
   },
   {
    "duration": 15,
    "start_time": "2022-11-28T18:47:36.794Z"
   },
   {
    "duration": 215,
    "start_time": "2022-11-28T18:47:44.785Z"
   },
   {
    "duration": 16,
    "start_time": "2022-11-28T18:48:41.725Z"
   },
   {
    "duration": 207,
    "start_time": "2022-11-28T18:49:12.228Z"
   },
   {
    "duration": 210,
    "start_time": "2022-11-28T18:50:12.320Z"
   },
   {
    "duration": 2527,
    "start_time": "2022-11-29T05:22:28.939Z"
   },
   {
    "duration": 9,
    "start_time": "2022-11-29T05:22:31.468Z"
   },
   {
    "duration": 14,
    "start_time": "2022-11-29T05:22:31.478Z"
   },
   {
    "duration": 10,
    "start_time": "2022-11-29T05:22:31.494Z"
   },
   {
    "duration": 50,
    "start_time": "2022-11-29T05:22:31.505Z"
   },
   {
    "duration": 25,
    "start_time": "2022-11-29T05:22:31.557Z"
   },
   {
    "duration": 5,
    "start_time": "2022-11-29T05:22:31.584Z"
   },
   {
    "duration": 49,
    "start_time": "2022-11-29T05:22:31.591Z"
   },
   {
    "duration": 35,
    "start_time": "2022-11-29T05:22:31.642Z"
   },
   {
    "duration": 50,
    "start_time": "2022-11-29T05:22:31.680Z"
   },
   {
    "duration": 28,
    "start_time": "2022-11-29T05:22:31.732Z"
   },
   {
    "duration": 58,
    "start_time": "2022-11-29T05:22:31.762Z"
   },
   {
    "duration": 26,
    "start_time": "2022-11-29T05:22:31.822Z"
   },
   {
    "duration": 138,
    "start_time": "2022-11-29T05:22:31.850Z"
   },
   {
    "duration": 4,
    "start_time": "2022-11-29T05:22:31.990Z"
   },
   {
    "duration": 26,
    "start_time": "2022-11-29T05:22:31.995Z"
   },
   {
    "duration": 36,
    "start_time": "2022-11-29T05:22:32.022Z"
   },
   {
    "duration": 17,
    "start_time": "2022-11-29T05:22:32.060Z"
   },
   {
    "duration": 222,
    "start_time": "2022-11-29T05:22:32.078Z"
   },
   {
    "duration": 4,
    "start_time": "2022-11-29T05:22:32.301Z"
   },
   {
    "duration": 219,
    "start_time": "2022-11-29T05:22:32.306Z"
   },
   {
    "duration": 199,
    "start_time": "2022-11-29T05:22:32.527Z"
   },
   {
    "duration": 166,
    "start_time": "2022-11-29T05:22:32.728Z"
   },
   {
    "duration": 173,
    "start_time": "2022-11-29T05:22:32.896Z"
   },
   {
    "duration": 197,
    "start_time": "2022-11-29T05:22:33.070Z"
   },
   {
    "duration": 249,
    "start_time": "2022-11-29T05:22:33.269Z"
   },
   {
    "duration": 169,
    "start_time": "2022-11-29T05:22:33.519Z"
   },
   {
    "duration": 170,
    "start_time": "2022-11-29T05:22:33.690Z"
   },
   {
    "duration": 193,
    "start_time": "2022-11-29T05:22:33.861Z"
   },
   {
    "duration": 189,
    "start_time": "2022-11-29T05:22:34.055Z"
   },
   {
    "duration": 185,
    "start_time": "2022-11-29T05:22:34.246Z"
   },
   {
    "duration": 181,
    "start_time": "2022-11-29T05:22:34.433Z"
   },
   {
    "duration": 213,
    "start_time": "2022-11-29T05:22:34.615Z"
   },
   {
    "duration": 160,
    "start_time": "2022-11-29T05:22:34.830Z"
   },
   {
    "duration": 187,
    "start_time": "2022-11-29T05:22:34.991Z"
   },
   {
    "duration": 206,
    "start_time": "2022-11-29T05:22:35.180Z"
   },
   {
    "duration": 237,
    "start_time": "2022-11-29T05:22:35.388Z"
   },
   {
    "duration": 15,
    "start_time": "2022-11-29T05:23:23.565Z"
   },
   {
    "duration": 88,
    "start_time": "2022-11-29T05:23:28.392Z"
   },
   {
    "duration": 7,
    "start_time": "2022-11-29T05:24:17.469Z"
   },
   {
    "duration": 14,
    "start_time": "2022-11-29T05:24:34.441Z"
   },
   {
    "duration": 86,
    "start_time": "2022-11-29T05:24:37.568Z"
   },
   {
    "duration": 7,
    "start_time": "2022-11-29T05:24:52.277Z"
   },
   {
    "duration": 5,
    "start_time": "2022-11-29T05:24:56.507Z"
   },
   {
    "duration": 43,
    "start_time": "2022-11-29T18:52:33.103Z"
   },
   {
    "duration": 423,
    "start_time": "2022-11-29T18:52:38.361Z"
   },
   {
    "duration": 298,
    "start_time": "2022-11-29T18:52:38.786Z"
   },
   {
    "duration": 29,
    "start_time": "2022-11-29T18:52:39.086Z"
   },
   {
    "duration": 2060,
    "start_time": "2022-11-29T18:52:39.117Z"
   },
   {
    "duration": 9,
    "start_time": "2022-11-29T18:52:41.179Z"
   },
   {
    "duration": 17,
    "start_time": "2022-11-29T18:52:41.189Z"
   },
   {
    "duration": 11,
    "start_time": "2022-11-29T18:52:41.207Z"
   },
   {
    "duration": 25,
    "start_time": "2022-11-29T18:52:41.219Z"
   },
   {
    "duration": 43,
    "start_time": "2022-11-29T18:52:41.246Z"
   },
   {
    "duration": 6,
    "start_time": "2022-11-29T18:52:41.291Z"
   },
   {
    "duration": 12,
    "start_time": "2022-11-29T18:52:41.298Z"
   },
   {
    "duration": 20,
    "start_time": "2022-11-29T18:52:41.312Z"
   },
   {
    "duration": 9,
    "start_time": "2022-11-29T18:52:41.333Z"
   },
   {
    "duration": 8,
    "start_time": "2022-11-29T18:52:41.343Z"
   },
   {
    "duration": 10,
    "start_time": "2022-11-29T18:52:41.352Z"
   },
   {
    "duration": 7,
    "start_time": "2022-11-29T18:52:41.363Z"
   },
   {
    "duration": 107,
    "start_time": "2022-11-29T18:52:41.371Z"
   },
   {
    "duration": 4,
    "start_time": "2022-11-29T18:52:41.480Z"
   },
   {
    "duration": 21,
    "start_time": "2022-11-29T18:52:41.486Z"
   },
   {
    "duration": 52,
    "start_time": "2022-11-29T18:52:41.508Z"
   },
   {
    "duration": 26,
    "start_time": "2022-11-29T18:52:41.562Z"
   },
   {
    "duration": 213,
    "start_time": "2022-11-29T18:52:41.590Z"
   },
   {
    "duration": 4,
    "start_time": "2022-11-29T18:52:41.805Z"
   },
   {
    "duration": 153,
    "start_time": "2022-11-29T18:52:41.810Z"
   },
   {
    "duration": 170,
    "start_time": "2022-11-29T18:52:41.964Z"
   },
   {
    "duration": 151,
    "start_time": "2022-11-29T18:52:42.135Z"
   },
   {
    "duration": 164,
    "start_time": "2022-11-29T18:52:42.288Z"
   },
   {
    "duration": 255,
    "start_time": "2022-11-29T18:52:42.455Z"
   },
   {
    "duration": 174,
    "start_time": "2022-11-29T18:52:42.711Z"
   },
   {
    "duration": 163,
    "start_time": "2022-11-29T18:52:42.887Z"
   },
   {
    "duration": 156,
    "start_time": "2022-11-29T18:52:43.051Z"
   },
   {
    "duration": 171,
    "start_time": "2022-11-29T18:52:43.209Z"
   },
   {
    "duration": 161,
    "start_time": "2022-11-29T18:52:43.381Z"
   },
   {
    "duration": 164,
    "start_time": "2022-11-29T18:52:43.544Z"
   },
   {
    "duration": 168,
    "start_time": "2022-11-29T18:52:43.710Z"
   },
   {
    "duration": 193,
    "start_time": "2022-11-29T18:52:43.879Z"
   },
   {
    "duration": 148,
    "start_time": "2022-11-29T18:52:44.075Z"
   },
   {
    "duration": 167,
    "start_time": "2022-11-29T18:52:44.224Z"
   },
   {
    "duration": 249,
    "start_time": "2022-11-29T18:52:44.393Z"
   },
   {
    "duration": 159,
    "start_time": "2022-11-29T18:52:44.644Z"
   },
   {
    "duration": 2093,
    "start_time": "2022-11-29T18:59:17.264Z"
   },
   {
    "duration": 350,
    "start_time": "2022-11-29T18:59:38.626Z"
   },
   {
    "duration": 96,
    "start_time": "2022-11-29T18:59:38.978Z"
   },
   {
    "duration": 28,
    "start_time": "2022-11-29T18:59:39.076Z"
   },
   {
    "duration": 1908,
    "start_time": "2022-11-29T18:59:39.105Z"
   },
   {
    "duration": 9,
    "start_time": "2022-11-29T18:59:41.015Z"
   },
   {
    "duration": 17,
    "start_time": "2022-11-29T18:59:41.025Z"
   },
   {
    "duration": 10,
    "start_time": "2022-11-29T18:59:41.044Z"
   },
   {
    "duration": 26,
    "start_time": "2022-11-29T18:59:41.055Z"
   },
   {
    "duration": 24,
    "start_time": "2022-11-29T18:59:41.082Z"
   },
   {
    "duration": 6,
    "start_time": "2022-11-29T18:59:41.108Z"
   },
   {
    "duration": 11,
    "start_time": "2022-11-29T18:59:41.115Z"
   },
   {
    "duration": 5,
    "start_time": "2022-11-29T18:59:41.128Z"
   },
   {
    "duration": 5,
    "start_time": "2022-11-29T18:59:41.134Z"
   },
   {
    "duration": 3,
    "start_time": "2022-11-29T18:59:41.143Z"
   },
   {
    "duration": 8,
    "start_time": "2022-11-29T18:59:41.177Z"
   },
   {
    "duration": 8,
    "start_time": "2022-11-29T18:59:41.186Z"
   },
   {
    "duration": 118,
    "start_time": "2022-11-29T18:59:41.195Z"
   },
   {
    "duration": 4,
    "start_time": "2022-11-29T18:59:41.315Z"
   },
   {
    "duration": 20,
    "start_time": "2022-11-29T18:59:41.320Z"
   },
   {
    "duration": 13,
    "start_time": "2022-11-29T18:59:41.342Z"
   },
   {
    "duration": 10,
    "start_time": "2022-11-29T18:59:41.356Z"
   },
   {
    "duration": 218,
    "start_time": "2022-11-29T18:59:41.367Z"
   },
   {
    "duration": 4,
    "start_time": "2022-11-29T18:59:41.587Z"
   },
   {
    "duration": 165,
    "start_time": "2022-11-29T18:59:41.593Z"
   },
   {
    "duration": 165,
    "start_time": "2022-11-29T18:59:41.760Z"
   },
   {
    "duration": 151,
    "start_time": "2022-11-29T18:59:41.927Z"
   },
   {
    "duration": 169,
    "start_time": "2022-11-29T18:59:42.079Z"
   },
   {
    "duration": 176,
    "start_time": "2022-11-29T18:59:42.250Z"
   },
   {
    "duration": 251,
    "start_time": "2022-11-29T18:59:42.428Z"
   },
   {
    "duration": 158,
    "start_time": "2022-11-29T18:59:42.681Z"
   },
   {
    "duration": 161,
    "start_time": "2022-11-29T18:59:42.840Z"
   },
   {
    "duration": 176,
    "start_time": "2022-11-29T18:59:43.003Z"
   },
   {
    "duration": 175,
    "start_time": "2022-11-29T18:59:43.180Z"
   },
   {
    "duration": 171,
    "start_time": "2022-11-29T18:59:43.357Z"
   },
   {
    "duration": 185,
    "start_time": "2022-11-29T18:59:43.530Z"
   },
   {
    "duration": 189,
    "start_time": "2022-11-29T18:59:43.716Z"
   },
   {
    "duration": 147,
    "start_time": "2022-11-29T18:59:43.906Z"
   },
   {
    "duration": 180,
    "start_time": "2022-11-29T18:59:44.054Z"
   },
   {
    "duration": 195,
    "start_time": "2022-11-29T18:59:44.236Z"
   },
   {
    "duration": 219,
    "start_time": "2022-11-29T18:59:44.433Z"
   },
   {
    "duration": 2200,
    "start_time": "2022-11-29T19:00:58.891Z"
   },
   {
    "duration": 392,
    "start_time": "2022-11-29T19:01:13.193Z"
   },
   {
    "duration": 106,
    "start_time": "2022-11-29T19:01:13.764Z"
   },
   {
    "duration": 29,
    "start_time": "2022-11-29T19:01:14.409Z"
   },
   {
    "duration": 2347,
    "start_time": "2022-11-29T19:01:20.706Z"
   },
   {
    "duration": 1812,
    "start_time": "2022-11-29T19:01:28.618Z"
   },
   {
    "duration": 1962,
    "start_time": "2022-11-29T19:01:58.150Z"
   },
   {
    "duration": 386,
    "start_time": "2022-11-29T19:15:31.202Z"
   },
   {
    "duration": 113,
    "start_time": "2022-11-29T19:15:31.590Z"
   },
   {
    "duration": 30,
    "start_time": "2022-11-29T19:15:31.705Z"
   },
   {
    "duration": 2241,
    "start_time": "2022-11-29T19:15:31.736Z"
   },
   {
    "duration": 13,
    "start_time": "2022-11-29T19:15:33.980Z"
   },
   {
    "duration": 51,
    "start_time": "2022-11-29T19:15:33.996Z"
   },
   {
    "duration": 93,
    "start_time": "2022-11-29T19:15:34.049Z"
   },
   {
    "duration": 28,
    "start_time": "2022-11-29T19:15:34.144Z"
   },
   {
    "duration": 25,
    "start_time": "2022-11-29T19:15:34.174Z"
   },
   {
    "duration": 86,
    "start_time": "2022-11-29T19:15:34.202Z"
   },
   {
    "duration": 68,
    "start_time": "2022-11-29T19:15:34.290Z"
   },
   {
    "duration": 17,
    "start_time": "2022-11-29T19:15:34.360Z"
   },
   {
    "duration": 17,
    "start_time": "2022-11-29T19:15:34.379Z"
   },
   {
    "duration": 30,
    "start_time": "2022-11-29T19:15:34.397Z"
   },
   {
    "duration": 22,
    "start_time": "2022-11-29T19:15:34.429Z"
   },
   {
    "duration": 23,
    "start_time": "2022-11-29T19:15:34.453Z"
   },
   {
    "duration": 110,
    "start_time": "2022-11-29T19:15:34.477Z"
   },
   {
    "duration": 5,
    "start_time": "2022-11-29T19:15:34.588Z"
   },
   {
    "duration": 19,
    "start_time": "2022-11-29T19:15:34.594Z"
   },
   {
    "duration": 12,
    "start_time": "2022-11-29T19:15:34.615Z"
   },
   {
    "duration": 27,
    "start_time": "2022-11-29T19:15:34.629Z"
   },
   {
    "duration": 276,
    "start_time": "2022-11-29T19:15:34.658Z"
   },
   {
    "duration": 4,
    "start_time": "2022-11-29T19:15:34.937Z"
   },
   {
    "duration": 170,
    "start_time": "2022-11-29T19:15:34.943Z"
   },
   {
    "duration": 175,
    "start_time": "2022-11-29T19:15:35.115Z"
   },
   {
    "duration": 227,
    "start_time": "2022-11-29T19:15:35.292Z"
   },
   {
    "duration": 200,
    "start_time": "2022-11-29T19:15:35.521Z"
   },
   {
    "duration": 208,
    "start_time": "2022-11-29T19:15:35.724Z"
   },
   {
    "duration": 287,
    "start_time": "2022-11-29T19:15:35.933Z"
   },
   {
    "duration": 192,
    "start_time": "2022-11-29T19:15:36.222Z"
   },
   {
    "duration": 172,
    "start_time": "2022-11-29T19:15:36.416Z"
   },
   {
    "duration": 201,
    "start_time": "2022-11-29T19:15:36.590Z"
   },
   {
    "duration": 196,
    "start_time": "2022-11-29T19:15:36.792Z"
   },
   {
    "duration": 196,
    "start_time": "2022-11-29T19:15:36.990Z"
   },
   {
    "duration": 204,
    "start_time": "2022-11-29T19:15:37.187Z"
   },
   {
    "duration": 249,
    "start_time": "2022-11-29T19:15:37.393Z"
   },
   {
    "duration": 166,
    "start_time": "2022-11-29T19:15:37.644Z"
   },
   {
    "duration": 193,
    "start_time": "2022-11-29T19:15:37.812Z"
   },
   {
    "duration": 210,
    "start_time": "2022-11-29T19:15:38.007Z"
   },
   {
    "duration": 222,
    "start_time": "2022-11-29T19:15:38.219Z"
   },
   {
    "duration": 25,
    "start_time": "2022-11-29T19:16:38.378Z"
   },
   {
    "duration": 400,
    "start_time": "2022-11-29T19:16:54.802Z"
   },
   {
    "duration": 129,
    "start_time": "2022-11-29T19:16:55.256Z"
   },
   {
    "duration": 28,
    "start_time": "2022-11-29T19:16:55.634Z"
   },
   {
    "duration": 2171,
    "start_time": "2022-11-29T19:16:56.070Z"
   },
   {
    "duration": 12,
    "start_time": "2022-11-29T19:16:58.824Z"
   },
   {
    "duration": 20,
    "start_time": "2022-11-29T19:16:59.898Z"
   },
   {
    "duration": 25,
    "start_time": "2022-11-29T19:17:01.292Z"
   },
   {
    "duration": 20,
    "start_time": "2022-11-29T19:17:12.379Z"
   },
   {
    "duration": 12,
    "start_time": "2022-11-29T19:18:14.542Z"
   },
   {
    "duration": 23,
    "start_time": "2022-11-29T19:18:34.577Z"
   },
   {
    "duration": 6,
    "start_time": "2022-11-29T19:18:50.364Z"
   },
   {
    "duration": 65,
    "start_time": "2022-11-29T19:20:27.843Z"
   },
   {
    "duration": 425,
    "start_time": "2022-11-29T19:20:34.838Z"
   },
   {
    "duration": 120,
    "start_time": "2022-11-29T19:20:35.265Z"
   },
   {
    "duration": 30,
    "start_time": "2022-11-29T19:20:35.386Z"
   },
   {
    "duration": 2236,
    "start_time": "2022-11-29T19:20:35.417Z"
   },
   {
    "duration": 9,
    "start_time": "2022-11-29T19:20:37.655Z"
   },
   {
    "duration": 68,
    "start_time": "2022-11-29T19:20:37.665Z"
   },
   {
    "duration": 14,
    "start_time": "2022-11-29T19:20:37.734Z"
   },
   {
    "duration": 29,
    "start_time": "2022-11-29T19:20:37.750Z"
   },
   {
    "duration": 26,
    "start_time": "2022-11-29T19:20:37.781Z"
   },
   {
    "duration": 6,
    "start_time": "2022-11-29T19:20:37.811Z"
   },
   {
    "duration": 10,
    "start_time": "2022-11-29T19:20:37.819Z"
   },
   {
    "duration": 5,
    "start_time": "2022-11-29T19:20:37.830Z"
   },
   {
    "duration": 9,
    "start_time": "2022-11-29T19:20:37.836Z"
   },
   {
    "duration": 4,
    "start_time": "2022-11-29T19:20:37.877Z"
   },
   {
    "duration": 13,
    "start_time": "2022-11-29T19:20:37.883Z"
   },
   {
    "duration": 7,
    "start_time": "2022-11-29T19:20:37.897Z"
   },
   {
    "duration": 143,
    "start_time": "2022-11-29T19:20:37.906Z"
   },
   {
    "duration": 76,
    "start_time": "2022-11-29T19:20:38.051Z"
   },
   {
    "duration": 0,
    "start_time": "2022-11-29T19:20:38.129Z"
   },
   {
    "duration": 0,
    "start_time": "2022-11-29T19:20:38.130Z"
   },
   {
    "duration": 0,
    "start_time": "2022-11-29T19:20:38.131Z"
   },
   {
    "duration": 0,
    "start_time": "2022-11-29T19:20:38.132Z"
   },
   {
    "duration": 0,
    "start_time": "2022-11-29T19:20:38.133Z"
   },
   {
    "duration": 0,
    "start_time": "2022-11-29T19:20:38.133Z"
   },
   {
    "duration": 0,
    "start_time": "2022-11-29T19:20:38.134Z"
   },
   {
    "duration": 0,
    "start_time": "2022-11-29T19:20:38.136Z"
   },
   {
    "duration": 0,
    "start_time": "2022-11-29T19:20:38.137Z"
   },
   {
    "duration": 0,
    "start_time": "2022-11-29T19:20:38.138Z"
   },
   {
    "duration": 0,
    "start_time": "2022-11-29T19:20:38.139Z"
   },
   {
    "duration": 0,
    "start_time": "2022-11-29T19:20:38.140Z"
   },
   {
    "duration": 0,
    "start_time": "2022-11-29T19:20:38.141Z"
   },
   {
    "duration": 0,
    "start_time": "2022-11-29T19:20:38.142Z"
   },
   {
    "duration": 0,
    "start_time": "2022-11-29T19:20:38.143Z"
   },
   {
    "duration": 0,
    "start_time": "2022-11-29T19:20:38.144Z"
   },
   {
    "duration": 0,
    "start_time": "2022-11-29T19:20:38.145Z"
   },
   {
    "duration": 0,
    "start_time": "2022-11-29T19:20:38.147Z"
   },
   {
    "duration": 0,
    "start_time": "2022-11-29T19:20:38.176Z"
   },
   {
    "duration": 0,
    "start_time": "2022-11-29T19:20:38.178Z"
   },
   {
    "duration": 0,
    "start_time": "2022-11-29T19:20:38.180Z"
   },
   {
    "duration": 0,
    "start_time": "2022-11-29T19:20:38.181Z"
   },
   {
    "duration": 0,
    "start_time": "2022-11-29T19:20:38.183Z"
   },
   {
    "duration": 7,
    "start_time": "2022-11-29T19:21:08.983Z"
   },
   {
    "duration": 3,
    "start_time": "2022-11-29T19:21:13.056Z"
   },
   {
    "duration": 8,
    "start_time": "2022-11-29T19:22:16.993Z"
   },
   {
    "duration": 447,
    "start_time": "2022-11-30T07:52:37.689Z"
   },
   {
    "duration": 394,
    "start_time": "2022-11-30T07:52:38.138Z"
   },
   {
    "duration": 34,
    "start_time": "2022-11-30T07:52:38.534Z"
   },
   {
    "duration": 2402,
    "start_time": "2022-11-30T07:52:38.570Z"
   },
   {
    "duration": 12,
    "start_time": "2022-11-30T07:52:40.975Z"
   },
   {
    "duration": 27,
    "start_time": "2022-11-30T07:52:40.989Z"
   },
   {
    "duration": 17,
    "start_time": "2022-11-30T07:52:41.018Z"
   },
   {
    "duration": 30,
    "start_time": "2022-11-30T07:52:41.037Z"
   },
   {
    "duration": 50,
    "start_time": "2022-11-30T07:52:41.069Z"
   },
   {
    "duration": 7,
    "start_time": "2022-11-30T07:52:41.121Z"
   },
   {
    "duration": 10,
    "start_time": "2022-11-30T07:52:41.131Z"
   },
   {
    "duration": 6,
    "start_time": "2022-11-30T07:52:41.143Z"
   },
   {
    "duration": 9,
    "start_time": "2022-11-30T07:52:41.150Z"
   },
   {
    "duration": 4,
    "start_time": "2022-11-30T07:52:41.163Z"
   },
   {
    "duration": 48,
    "start_time": "2022-11-30T07:52:41.169Z"
   },
   {
    "duration": 9,
    "start_time": "2022-11-30T07:52:41.219Z"
   },
   {
    "duration": 122,
    "start_time": "2022-11-30T07:52:41.230Z"
   },
   {
    "duration": 4,
    "start_time": "2022-11-30T07:52:41.353Z"
   },
   {
    "duration": 11,
    "start_time": "2022-11-30T07:52:41.358Z"
   },
   {
    "duration": 11,
    "start_time": "2022-11-30T07:52:41.370Z"
   },
   {
    "duration": 10,
    "start_time": "2022-11-30T07:52:41.382Z"
   },
   {
    "duration": 29,
    "start_time": "2022-11-30T07:52:41.394Z"
   },
   {
    "duration": 244,
    "start_time": "2022-11-30T07:52:41.425Z"
   },
   {
    "duration": 5,
    "start_time": "2022-11-30T07:52:41.671Z"
   },
   {
    "duration": 189,
    "start_time": "2022-11-30T07:52:41.678Z"
   },
   {
    "duration": 209,
    "start_time": "2022-11-30T07:52:41.869Z"
   },
   {
    "duration": 195,
    "start_time": "2022-11-30T07:52:42.080Z"
   },
   {
    "duration": 198,
    "start_time": "2022-11-30T07:52:42.277Z"
   },
   {
    "duration": 301,
    "start_time": "2022-11-30T07:52:42.477Z"
   },
   {
    "duration": 204,
    "start_time": "2022-11-30T07:52:42.781Z"
   },
   {
    "duration": 188,
    "start_time": "2022-11-30T07:52:42.987Z"
   },
   {
    "duration": 188,
    "start_time": "2022-11-30T07:52:43.177Z"
   },
   {
    "duration": 202,
    "start_time": "2022-11-30T07:52:43.367Z"
   },
   {
    "duration": 195,
    "start_time": "2022-11-30T07:52:43.572Z"
   },
   {
    "duration": 212,
    "start_time": "2022-11-30T07:52:43.770Z"
   },
   {
    "duration": 205,
    "start_time": "2022-11-30T07:52:43.984Z"
   },
   {
    "duration": 252,
    "start_time": "2022-11-30T07:52:44.191Z"
   },
   {
    "duration": 171,
    "start_time": "2022-11-30T07:52:44.444Z"
   },
   {
    "duration": 214,
    "start_time": "2022-11-30T07:52:44.617Z"
   },
   {
    "duration": 326,
    "start_time": "2022-11-30T07:52:44.833Z"
   },
   {
    "duration": 178,
    "start_time": "2022-11-30T07:52:45.163Z"
   },
   {
    "duration": 15,
    "start_time": "2022-11-30T07:54:18.960Z"
   },
   {
    "duration": 22,
    "start_time": "2022-11-30T07:54:35.993Z"
   },
   {
    "duration": 24,
    "start_time": "2022-11-30T07:54:54.991Z"
   },
   {
    "duration": 32,
    "start_time": "2022-11-30T07:55:21.211Z"
   },
   {
    "duration": 74,
    "start_time": "2022-11-30T07:55:31.469Z"
   },
   {
    "duration": 11,
    "start_time": "2022-11-30T07:57:13.767Z"
   },
   {
    "duration": 13,
    "start_time": "2022-11-30T07:57:19.668Z"
   },
   {
    "duration": 6,
    "start_time": "2022-11-30T08:01:03.433Z"
   },
   {
    "duration": 7,
    "start_time": "2022-11-30T08:01:40.463Z"
   },
   {
    "duration": 4,
    "start_time": "2022-11-30T08:01:46.644Z"
   },
   {
    "duration": 6,
    "start_time": "2022-11-30T08:02:20.615Z"
   },
   {
    "duration": 9,
    "start_time": "2022-11-30T08:03:11.363Z"
   },
   {
    "duration": 7,
    "start_time": "2022-11-30T08:07:37.753Z"
   },
   {
    "duration": 14,
    "start_time": "2022-11-30T08:07:44.292Z"
   },
   {
    "duration": 37,
    "start_time": "2022-11-30T08:08:57.723Z"
   },
   {
    "duration": 82,
    "start_time": "2022-11-30T08:09:07.655Z"
   },
   {
    "duration": 416,
    "start_time": "2022-11-30T08:20:55.223Z"
   },
   {
    "duration": 176,
    "start_time": "2022-11-30T08:20:55.641Z"
   },
   {
    "duration": 32,
    "start_time": "2022-11-30T08:20:55.819Z"
   },
   {
    "duration": 2326,
    "start_time": "2022-11-30T08:20:55.854Z"
   },
   {
    "duration": 13,
    "start_time": "2022-11-30T08:20:58.181Z"
   },
   {
    "duration": 20,
    "start_time": "2022-11-30T08:20:58.196Z"
   },
   {
    "duration": 16,
    "start_time": "2022-11-30T08:20:58.218Z"
   },
   {
    "duration": 28,
    "start_time": "2022-11-30T08:20:58.236Z"
   },
   {
    "duration": 28,
    "start_time": "2022-11-30T08:20:58.265Z"
   },
   {
    "duration": 20,
    "start_time": "2022-11-30T08:20:58.296Z"
   },
   {
    "duration": 11,
    "start_time": "2022-11-30T08:20:58.318Z"
   },
   {
    "duration": 9,
    "start_time": "2022-11-30T08:20:58.331Z"
   },
   {
    "duration": 14,
    "start_time": "2022-11-30T08:20:58.342Z"
   },
   {
    "duration": 14,
    "start_time": "2022-11-30T08:20:58.357Z"
   },
   {
    "duration": 13,
    "start_time": "2022-11-30T08:20:58.373Z"
   },
   {
    "duration": 10,
    "start_time": "2022-11-30T08:20:58.387Z"
   },
   {
    "duration": 18,
    "start_time": "2022-11-30T08:20:58.399Z"
   },
   {
    "duration": 9,
    "start_time": "2022-11-30T08:20:58.419Z"
   },
   {
    "duration": 125,
    "start_time": "2022-11-30T08:20:58.430Z"
   },
   {
    "duration": 4,
    "start_time": "2022-11-30T08:20:58.557Z"
   },
   {
    "duration": 8,
    "start_time": "2022-11-30T08:20:58.562Z"
   },
   {
    "duration": 11,
    "start_time": "2022-11-30T08:20:58.572Z"
   },
   {
    "duration": 9,
    "start_time": "2022-11-30T08:20:58.584Z"
   },
   {
    "duration": 27,
    "start_time": "2022-11-30T08:20:58.595Z"
   },
   {
    "duration": 236,
    "start_time": "2022-11-30T08:20:58.623Z"
   },
   {
    "duration": 4,
    "start_time": "2022-11-30T08:20:58.861Z"
   },
   {
    "duration": 194,
    "start_time": "2022-11-30T08:20:58.867Z"
   },
   {
    "duration": 196,
    "start_time": "2022-11-30T08:20:59.064Z"
   },
   {
    "duration": 203,
    "start_time": "2022-11-30T08:20:59.262Z"
   },
   {
    "duration": 218,
    "start_time": "2022-11-30T08:20:59.467Z"
   },
   {
    "duration": 200,
    "start_time": "2022-11-30T08:20:59.687Z"
   },
   {
    "duration": 310,
    "start_time": "2022-11-30T08:20:59.889Z"
   },
   {
    "duration": 211,
    "start_time": "2022-11-30T08:21:00.202Z"
   },
   {
    "duration": 192,
    "start_time": "2022-11-30T08:21:00.414Z"
   },
   {
    "duration": 205,
    "start_time": "2022-11-30T08:21:00.613Z"
   },
   {
    "duration": 199,
    "start_time": "2022-11-30T08:21:00.820Z"
   },
   {
    "duration": 199,
    "start_time": "2022-11-30T08:21:01.021Z"
   },
   {
    "duration": 217,
    "start_time": "2022-11-30T08:21:01.221Z"
   },
   {
    "duration": 248,
    "start_time": "2022-11-30T08:21:01.440Z"
   },
   {
    "duration": 174,
    "start_time": "2022-11-30T08:21:01.689Z"
   },
   {
    "duration": 220,
    "start_time": "2022-11-30T08:21:01.865Z"
   },
   {
    "duration": 261,
    "start_time": "2022-11-30T08:21:02.087Z"
   },
   {
    "duration": 262,
    "start_time": "2022-11-30T08:21:02.350Z"
   },
   {
    "duration": 405,
    "start_time": "2022-11-30T08:22:52.131Z"
   },
   {
    "duration": 178,
    "start_time": "2022-11-30T08:22:52.539Z"
   },
   {
    "duration": 44,
    "start_time": "2022-11-30T08:22:52.719Z"
   },
   {
    "duration": 2338,
    "start_time": "2022-11-30T08:22:52.765Z"
   },
   {
    "duration": 10,
    "start_time": "2022-11-30T08:22:55.105Z"
   },
   {
    "duration": 24,
    "start_time": "2022-11-30T08:22:55.117Z"
   },
   {
    "duration": 23,
    "start_time": "2022-11-30T08:22:55.143Z"
   },
   {
    "duration": 31,
    "start_time": "2022-11-30T08:22:55.168Z"
   },
   {
    "duration": 28,
    "start_time": "2022-11-30T08:22:55.214Z"
   },
   {
    "duration": 8,
    "start_time": "2022-11-30T08:22:55.245Z"
   },
   {
    "duration": 19,
    "start_time": "2022-11-30T08:22:55.255Z"
   },
   {
    "duration": 26,
    "start_time": "2022-11-30T08:22:55.276Z"
   },
   {
    "duration": 17,
    "start_time": "2022-11-30T08:22:55.304Z"
   },
   {
    "duration": 25,
    "start_time": "2022-11-30T08:22:55.322Z"
   },
   {
    "duration": 31,
    "start_time": "2022-11-30T08:22:55.349Z"
   },
   {
    "duration": 30,
    "start_time": "2022-11-30T08:22:55.382Z"
   },
   {
    "duration": 30,
    "start_time": "2022-11-30T08:22:55.414Z"
   },
   {
    "duration": 17,
    "start_time": "2022-11-30T08:22:55.446Z"
   },
   {
    "duration": 129,
    "start_time": "2022-11-30T08:22:55.465Z"
   },
   {
    "duration": 4,
    "start_time": "2022-11-30T08:22:55.596Z"
   },
   {
    "duration": 23,
    "start_time": "2022-11-30T08:22:55.602Z"
   },
   {
    "duration": 23,
    "start_time": "2022-11-30T08:22:55.627Z"
   },
   {
    "duration": 23,
    "start_time": "2022-11-30T08:22:55.652Z"
   },
   {
    "duration": 251,
    "start_time": "2022-11-30T08:22:55.678Z"
   },
   {
    "duration": 4,
    "start_time": "2022-11-30T08:22:55.931Z"
   },
   {
    "duration": 200,
    "start_time": "2022-11-30T08:22:55.936Z"
   },
   {
    "duration": 223,
    "start_time": "2022-11-30T08:22:56.138Z"
   },
   {
    "duration": 237,
    "start_time": "2022-11-30T08:22:56.365Z"
   },
   {
    "duration": 234,
    "start_time": "2022-11-30T08:22:56.604Z"
   },
   {
    "duration": 205,
    "start_time": "2022-11-30T08:22:56.840Z"
   },
   {
    "duration": 309,
    "start_time": "2022-11-30T08:22:57.047Z"
   },
   {
    "duration": 189,
    "start_time": "2022-11-30T08:22:57.357Z"
   },
   {
    "duration": 179,
    "start_time": "2022-11-30T08:22:57.548Z"
   },
   {
    "duration": 197,
    "start_time": "2022-11-30T08:22:57.729Z"
   },
   {
    "duration": 188,
    "start_time": "2022-11-30T08:22:57.928Z"
   },
   {
    "duration": 202,
    "start_time": "2022-11-30T08:22:58.118Z"
   },
   {
    "duration": 202,
    "start_time": "2022-11-30T08:22:58.323Z"
   },
   {
    "duration": 242,
    "start_time": "2022-11-30T08:22:58.527Z"
   },
   {
    "duration": 177,
    "start_time": "2022-11-30T08:22:58.771Z"
   },
   {
    "duration": 237,
    "start_time": "2022-11-30T08:22:58.950Z"
   },
   {
    "duration": 247,
    "start_time": "2022-11-30T08:22:59.189Z"
   },
   {
    "duration": 254,
    "start_time": "2022-11-30T08:22:59.438Z"
   },
   {
    "duration": 275,
    "start_time": "2022-11-30T08:26:34.729Z"
   },
   {
    "duration": 178,
    "start_time": "2022-11-30T08:27:30.881Z"
   },
   {
    "duration": 199,
    "start_time": "2022-11-30T08:28:21.801Z"
   },
   {
    "duration": 195,
    "start_time": "2022-11-30T08:29:39.801Z"
   },
   {
    "duration": 205,
    "start_time": "2022-11-30T08:31:22.810Z"
   },
   {
    "duration": 417,
    "start_time": "2022-11-30T08:31:35.830Z"
   },
   {
    "duration": 202,
    "start_time": "2022-11-30T08:31:36.249Z"
   },
   {
    "duration": 44,
    "start_time": "2022-11-30T08:31:36.453Z"
   },
   {
    "duration": 2316,
    "start_time": "2022-11-30T08:31:36.500Z"
   },
   {
    "duration": 10,
    "start_time": "2022-11-30T08:31:38.818Z"
   },
   {
    "duration": 22,
    "start_time": "2022-11-30T08:31:38.831Z"
   },
   {
    "duration": 16,
    "start_time": "2022-11-30T08:31:38.855Z"
   },
   {
    "duration": 49,
    "start_time": "2022-11-30T08:31:38.872Z"
   },
   {
    "duration": 29,
    "start_time": "2022-11-30T08:31:38.922Z"
   },
   {
    "duration": 6,
    "start_time": "2022-11-30T08:31:38.953Z"
   },
   {
    "duration": 12,
    "start_time": "2022-11-30T08:31:38.961Z"
   },
   {
    "duration": 6,
    "start_time": "2022-11-30T08:31:38.975Z"
   },
   {
    "duration": 32,
    "start_time": "2022-11-30T08:31:38.982Z"
   },
   {
    "duration": 9,
    "start_time": "2022-11-30T08:31:39.016Z"
   },
   {
    "duration": 10,
    "start_time": "2022-11-30T08:31:39.027Z"
   },
   {
    "duration": 10,
    "start_time": "2022-11-30T08:31:39.039Z"
   },
   {
    "duration": 9,
    "start_time": "2022-11-30T08:31:39.050Z"
   },
   {
    "duration": 11,
    "start_time": "2022-11-30T08:31:39.060Z"
   },
   {
    "duration": 131,
    "start_time": "2022-11-30T08:31:39.113Z"
   },
   {
    "duration": 5,
    "start_time": "2022-11-30T08:31:39.246Z"
   },
   {
    "duration": 12,
    "start_time": "2022-11-30T08:31:39.253Z"
   },
   {
    "duration": 14,
    "start_time": "2022-11-30T08:31:39.268Z"
   },
   {
    "duration": 32,
    "start_time": "2022-11-30T08:31:39.283Z"
   },
   {
    "duration": 283,
    "start_time": "2022-11-30T08:31:39.317Z"
   },
   {
    "duration": 4,
    "start_time": "2022-11-30T08:31:39.602Z"
   },
   {
    "duration": 216,
    "start_time": "2022-11-30T08:31:39.612Z"
   },
   {
    "duration": 201,
    "start_time": "2022-11-30T08:31:39.830Z"
   },
   {
    "duration": 206,
    "start_time": "2022-11-30T08:31:40.035Z"
   },
   {
    "duration": 213,
    "start_time": "2022-11-30T08:31:40.243Z"
   },
   {
    "duration": 219,
    "start_time": "2022-11-30T08:31:40.458Z"
   },
   {
    "duration": 355,
    "start_time": "2022-11-30T08:31:40.679Z"
   },
   {
    "duration": 235,
    "start_time": "2022-11-30T08:31:41.037Z"
   },
   {
    "duration": 93,
    "start_time": "2022-11-30T08:31:41.275Z"
   },
   {
    "duration": 0,
    "start_time": "2022-11-30T08:31:41.371Z"
   },
   {
    "duration": 0,
    "start_time": "2022-11-30T08:31:41.373Z"
   },
   {
    "duration": 0,
    "start_time": "2022-11-30T08:31:41.374Z"
   },
   {
    "duration": 0,
    "start_time": "2022-11-30T08:31:41.376Z"
   },
   {
    "duration": 0,
    "start_time": "2022-11-30T08:31:41.377Z"
   },
   {
    "duration": 0,
    "start_time": "2022-11-30T08:31:41.379Z"
   },
   {
    "duration": 0,
    "start_time": "2022-11-30T08:31:41.381Z"
   },
   {
    "duration": 0,
    "start_time": "2022-11-30T08:31:41.382Z"
   },
   {
    "duration": 0,
    "start_time": "2022-11-30T08:31:41.383Z"
   },
   {
    "duration": 183,
    "start_time": "2022-11-30T08:33:43.875Z"
   },
   {
    "duration": 16,
    "start_time": "2022-11-30T08:35:00.717Z"
   },
   {
    "duration": 13,
    "start_time": "2022-11-30T08:35:36.416Z"
   },
   {
    "duration": 160,
    "start_time": "2022-11-30T08:35:57.278Z"
   },
   {
    "duration": 161,
    "start_time": "2022-11-30T08:36:44.317Z"
   },
   {
    "duration": 208,
    "start_time": "2022-11-30T08:36:56.508Z"
   },
   {
    "duration": 180,
    "start_time": "2022-11-30T08:37:09.868Z"
   },
   {
    "duration": 181,
    "start_time": "2022-11-30T08:37:21.656Z"
   },
   {
    "duration": 188,
    "start_time": "2022-11-30T08:37:34.876Z"
   },
   {
    "duration": 176,
    "start_time": "2022-11-30T08:37:45.236Z"
   },
   {
    "duration": 137,
    "start_time": "2022-11-30T08:38:35.226Z"
   },
   {
    "duration": 283,
    "start_time": "2022-11-30T08:39:44.747Z"
   },
   {
    "duration": 153,
    "start_time": "2022-11-30T08:40:02.967Z"
   },
   {
    "duration": 372,
    "start_time": "2022-11-30T08:42:10.366Z"
   },
   {
    "duration": 177,
    "start_time": "2022-11-30T08:42:10.741Z"
   },
   {
    "duration": 32,
    "start_time": "2022-11-30T08:42:10.919Z"
   },
   {
    "duration": 2699,
    "start_time": "2022-11-30T08:42:10.953Z"
   },
   {
    "duration": 11,
    "start_time": "2022-11-30T08:42:13.654Z"
   },
   {
    "duration": 30,
    "start_time": "2022-11-30T08:42:13.667Z"
   },
   {
    "duration": 19,
    "start_time": "2022-11-30T08:42:13.699Z"
   },
   {
    "duration": 31,
    "start_time": "2022-11-30T08:42:13.720Z"
   },
   {
    "duration": 29,
    "start_time": "2022-11-30T08:42:13.753Z"
   },
   {
    "duration": 28,
    "start_time": "2022-11-30T08:42:13.784Z"
   },
   {
    "duration": 11,
    "start_time": "2022-11-30T08:42:13.815Z"
   },
   {
    "duration": 42,
    "start_time": "2022-11-30T08:42:13.828Z"
   },
   {
    "duration": 22,
    "start_time": "2022-11-30T08:42:13.872Z"
   },
   {
    "duration": 12,
    "start_time": "2022-11-30T08:42:13.898Z"
   },
   {
    "duration": 13,
    "start_time": "2022-11-30T08:42:13.913Z"
   },
   {
    "duration": 10,
    "start_time": "2022-11-30T08:42:13.929Z"
   },
   {
    "duration": 7,
    "start_time": "2022-11-30T08:42:13.941Z"
   },
   {
    "duration": 9,
    "start_time": "2022-11-30T08:42:13.950Z"
   },
   {
    "duration": 158,
    "start_time": "2022-11-30T08:42:13.961Z"
   },
   {
    "duration": 6,
    "start_time": "2022-11-30T08:42:14.121Z"
   },
   {
    "duration": 12,
    "start_time": "2022-11-30T08:42:14.129Z"
   },
   {
    "duration": 16,
    "start_time": "2022-11-30T08:42:14.142Z"
   },
   {
    "duration": 18,
    "start_time": "2022-11-30T08:42:14.159Z"
   },
   {
    "duration": 283,
    "start_time": "2022-11-30T08:42:14.179Z"
   },
   {
    "duration": 5,
    "start_time": "2022-11-30T08:42:14.464Z"
   },
   {
    "duration": 213,
    "start_time": "2022-11-30T08:42:14.470Z"
   },
   {
    "duration": 224,
    "start_time": "2022-11-30T08:42:14.685Z"
   },
   {
    "duration": 203,
    "start_time": "2022-11-30T08:42:14.912Z"
   },
   {
    "duration": 212,
    "start_time": "2022-11-30T08:42:15.117Z"
   },
   {
    "duration": 222,
    "start_time": "2022-11-30T08:42:15.331Z"
   },
   {
    "duration": 346,
    "start_time": "2022-11-30T08:42:15.555Z"
   },
   {
    "duration": 207,
    "start_time": "2022-11-30T08:42:15.911Z"
   },
   {
    "duration": 213,
    "start_time": "2022-11-30T08:42:16.119Z"
   },
   {
    "duration": 258,
    "start_time": "2022-11-30T08:42:16.334Z"
   },
   {
    "duration": 257,
    "start_time": "2022-11-30T08:42:16.594Z"
   },
   {
    "duration": 218,
    "start_time": "2022-11-30T08:42:16.853Z"
   },
   {
    "duration": 210,
    "start_time": "2022-11-30T08:42:17.073Z"
   },
   {
    "duration": 254,
    "start_time": "2022-11-30T08:42:17.285Z"
   },
   {
    "duration": 182,
    "start_time": "2022-11-30T08:42:17.541Z"
   },
   {
    "duration": 233,
    "start_time": "2022-11-30T08:42:17.725Z"
   },
   {
    "duration": 237,
    "start_time": "2022-11-30T08:42:17.962Z"
   },
   {
    "duration": 271,
    "start_time": "2022-11-30T08:42:18.201Z"
   },
   {
    "duration": 249,
    "start_time": "2022-11-30T08:43:57.287Z"
   },
   {
    "duration": 177,
    "start_time": "2022-11-30T08:44:07.157Z"
   },
   {
    "duration": 178,
    "start_time": "2022-11-30T08:45:10.966Z"
   },
   {
    "duration": 22,
    "start_time": "2022-11-30T08:47:00.478Z"
   },
   {
    "duration": 20,
    "start_time": "2022-11-30T08:47:19.066Z"
   },
   {
    "duration": 21,
    "start_time": "2022-11-30T08:49:46.026Z"
   },
   {
    "duration": 3253,
    "start_time": "2022-11-30T08:50:02.077Z"
   },
   {
    "duration": 1172,
    "start_time": "2022-11-30T08:50:14.615Z"
   },
   {
    "duration": 18,
    "start_time": "2022-11-30T08:51:44.958Z"
   },
   {
    "duration": 1065,
    "start_time": "2022-11-30T08:51:54.988Z"
   },
   {
    "duration": 958,
    "start_time": "2022-11-30T08:53:19.484Z"
   },
   {
    "duration": 1007,
    "start_time": "2022-11-30T08:53:34.438Z"
   },
   {
    "duration": 12,
    "start_time": "2022-11-30T08:54:35.676Z"
   },
   {
    "duration": 16,
    "start_time": "2022-11-30T09:13:57.184Z"
   },
   {
    "duration": 720,
    "start_time": "2022-11-30T09:15:33.175Z"
   },
   {
    "duration": 590,
    "start_time": "2022-11-30T09:15:48.536Z"
   },
   {
    "duration": 568,
    "start_time": "2022-11-30T09:16:23.945Z"
   },
   {
    "duration": 645,
    "start_time": "2022-11-30T09:16:31.653Z"
   },
   {
    "duration": 18,
    "start_time": "2022-11-30T09:19:17.982Z"
   },
   {
    "duration": 3,
    "start_time": "2022-11-30T09:19:26.994Z"
   },
   {
    "duration": 841,
    "start_time": "2022-11-30T09:19:34.067Z"
   },
   {
    "duration": 731,
    "start_time": "2022-11-30T09:20:01.214Z"
   },
   {
    "duration": 741,
    "start_time": "2022-11-30T09:20:15.696Z"
   },
   {
    "duration": 727,
    "start_time": "2022-11-30T09:20:34.407Z"
   },
   {
    "duration": 829,
    "start_time": "2022-11-30T09:21:00.636Z"
   },
   {
    "duration": 801,
    "start_time": "2022-11-30T09:21:16.975Z"
   },
   {
    "duration": 658,
    "start_time": "2022-11-30T09:22:01.617Z"
   },
   {
    "duration": 1313,
    "start_time": "2022-11-30T09:22:50.429Z"
   },
   {
    "duration": 762,
    "start_time": "2022-11-30T09:23:31.479Z"
   },
   {
    "duration": 764,
    "start_time": "2022-11-30T09:23:44.259Z"
   },
   {
    "duration": 369,
    "start_time": "2022-11-30T09:25:08.079Z"
   },
   {
    "duration": 63,
    "start_time": "2022-11-30T09:25:16.530Z"
   },
   {
    "duration": 769,
    "start_time": "2022-11-30T09:25:18.719Z"
   },
   {
    "duration": 670,
    "start_time": "2022-11-30T09:28:06.475Z"
   },
   {
    "duration": 889,
    "start_time": "2022-11-30T09:28:22.101Z"
   },
   {
    "duration": 661,
    "start_time": "2022-11-30T09:28:29.788Z"
   },
   {
    "duration": 626,
    "start_time": "2022-11-30T09:28:41.018Z"
   },
   {
    "duration": 776,
    "start_time": "2022-11-30T09:29:23.860Z"
   },
   {
    "duration": 774,
    "start_time": "2022-11-30T09:29:35.957Z"
   },
   {
    "duration": 823,
    "start_time": "2022-12-05T16:57:14.712Z"
   },
   {
    "duration": 224,
    "start_time": "2022-12-05T16:57:15.538Z"
   },
   {
    "duration": 26,
    "start_time": "2022-12-05T16:57:15.764Z"
   },
   {
    "duration": 1949,
    "start_time": "2022-12-05T16:57:15.792Z"
   },
   {
    "duration": 9,
    "start_time": "2022-12-05T16:57:17.743Z"
   },
   {
    "duration": 16,
    "start_time": "2022-12-05T16:57:17.754Z"
   },
   {
    "duration": 13,
    "start_time": "2022-12-05T16:57:17.772Z"
   },
   {
    "duration": 28,
    "start_time": "2022-12-05T16:57:17.787Z"
   },
   {
    "duration": 26,
    "start_time": "2022-12-05T16:57:17.816Z"
   },
   {
    "duration": 6,
    "start_time": "2022-12-05T16:57:17.844Z"
   },
   {
    "duration": 10,
    "start_time": "2022-12-05T16:57:17.851Z"
   },
   {
    "duration": 4,
    "start_time": "2022-12-05T16:57:17.863Z"
   },
   {
    "duration": 8,
    "start_time": "2022-12-05T16:57:17.869Z"
   },
   {
    "duration": 8,
    "start_time": "2022-12-05T16:57:17.879Z"
   },
   {
    "duration": 30,
    "start_time": "2022-12-05T16:57:17.889Z"
   },
   {
    "duration": 10,
    "start_time": "2022-12-05T16:57:17.921Z"
   },
   {
    "duration": 6,
    "start_time": "2022-12-05T16:57:17.933Z"
   },
   {
    "duration": 15,
    "start_time": "2022-12-05T16:57:17.941Z"
   },
   {
    "duration": 114,
    "start_time": "2022-12-05T16:57:17.958Z"
   },
   {
    "duration": 4,
    "start_time": "2022-12-05T16:57:18.074Z"
   },
   {
    "duration": 22,
    "start_time": "2022-12-05T16:57:18.080Z"
   },
   {
    "duration": 17,
    "start_time": "2022-12-05T16:57:18.103Z"
   },
   {
    "duration": 15,
    "start_time": "2022-12-05T16:57:18.122Z"
   },
   {
    "duration": 224,
    "start_time": "2022-12-05T16:57:18.139Z"
   },
   {
    "duration": 4,
    "start_time": "2022-12-05T16:57:18.365Z"
   },
   {
    "duration": 185,
    "start_time": "2022-12-05T16:57:18.370Z"
   },
   {
    "duration": 192,
    "start_time": "2022-12-05T16:57:18.557Z"
   },
   {
    "duration": 177,
    "start_time": "2022-12-05T16:57:18.752Z"
   },
   {
    "duration": 215,
    "start_time": "2022-12-05T16:57:18.932Z"
   },
   {
    "duration": 219,
    "start_time": "2022-12-05T16:57:19.149Z"
   },
   {
    "duration": 293,
    "start_time": "2022-12-05T16:57:19.370Z"
   },
   {
    "duration": 175,
    "start_time": "2022-12-05T16:57:19.664Z"
   },
   {
    "duration": 174,
    "start_time": "2022-12-05T16:57:19.841Z"
   },
   {
    "duration": 197,
    "start_time": "2022-12-05T16:57:20.016Z"
   },
   {
    "duration": 253,
    "start_time": "2022-12-05T16:57:20.214Z"
   },
   {
    "duration": 202,
    "start_time": "2022-12-05T16:57:20.469Z"
   },
   {
    "duration": 183,
    "start_time": "2022-12-05T16:57:20.673Z"
   },
   {
    "duration": 210,
    "start_time": "2022-12-05T16:57:20.857Z"
   },
   {
    "duration": 168,
    "start_time": "2022-12-05T16:57:21.068Z"
   },
   {
    "duration": 1441,
    "start_time": "2022-12-05T16:57:21.237Z"
   },
   {
    "duration": 0,
    "start_time": "2022-12-05T16:57:22.680Z"
   },
   {
    "duration": 0,
    "start_time": "2022-12-05T16:57:22.681Z"
   },
   {
    "duration": 8,
    "start_time": "2022-12-05T17:01:51.968Z"
   },
   {
    "duration": 8,
    "start_time": "2022-12-05T17:02:03.676Z"
   },
   {
    "duration": 13,
    "start_time": "2022-12-05T17:02:18.765Z"
   },
   {
    "duration": 19,
    "start_time": "2022-12-05T17:02:29.798Z"
   },
   {
    "duration": 612,
    "start_time": "2022-12-05T17:03:36.233Z"
   },
   {
    "duration": 187,
    "start_time": "2022-12-05T17:03:36.846Z"
   },
   {
    "duration": 29,
    "start_time": "2022-12-05T17:03:37.035Z"
   },
   {
    "duration": 1858,
    "start_time": "2022-12-05T17:03:37.067Z"
   },
   {
    "duration": 12,
    "start_time": "2022-12-05T17:03:38.927Z"
   },
   {
    "duration": 18,
    "start_time": "2022-12-05T17:03:38.941Z"
   },
   {
    "duration": 13,
    "start_time": "2022-12-05T17:03:38.961Z"
   },
   {
    "duration": 39,
    "start_time": "2022-12-05T17:03:38.976Z"
   },
   {
    "duration": 26,
    "start_time": "2022-12-05T17:03:39.016Z"
   },
   {
    "duration": 5,
    "start_time": "2022-12-05T17:03:39.045Z"
   },
   {
    "duration": 9,
    "start_time": "2022-12-05T17:03:39.052Z"
   },
   {
    "duration": 4,
    "start_time": "2022-12-05T17:03:39.063Z"
   },
   {
    "duration": 4,
    "start_time": "2022-12-05T17:03:39.069Z"
   },
   {
    "duration": 9,
    "start_time": "2022-12-05T17:03:39.074Z"
   },
   {
    "duration": 8,
    "start_time": "2022-12-05T17:03:39.112Z"
   },
   {
    "duration": 8,
    "start_time": "2022-12-05T17:03:39.122Z"
   },
   {
    "duration": 6,
    "start_time": "2022-12-05T17:03:39.132Z"
   },
   {
    "duration": 7,
    "start_time": "2022-12-05T17:03:39.140Z"
   },
   {
    "duration": 127,
    "start_time": "2022-12-05T17:03:39.149Z"
   },
   {
    "duration": 5,
    "start_time": "2022-12-05T17:03:39.277Z"
   },
   {
    "duration": 12,
    "start_time": "2022-12-05T17:03:39.283Z"
   },
   {
    "duration": 20,
    "start_time": "2022-12-05T17:03:39.297Z"
   },
   {
    "duration": 13,
    "start_time": "2022-12-05T17:03:39.319Z"
   },
   {
    "duration": 333,
    "start_time": "2022-12-05T17:03:39.334Z"
   },
   {
    "duration": 4,
    "start_time": "2022-12-05T17:03:39.668Z"
   },
   {
    "duration": 184,
    "start_time": "2022-12-05T17:03:39.673Z"
   },
   {
    "duration": 184,
    "start_time": "2022-12-05T17:03:39.859Z"
   },
   {
    "duration": 185,
    "start_time": "2022-12-05T17:03:40.046Z"
   },
   {
    "duration": 236,
    "start_time": "2022-12-05T17:03:40.233Z"
   },
   {
    "duration": 199,
    "start_time": "2022-12-05T17:03:40.470Z"
   },
   {
    "duration": 313,
    "start_time": "2022-12-05T17:03:40.671Z"
   },
   {
    "duration": 192,
    "start_time": "2022-12-05T17:03:40.986Z"
   },
   {
    "duration": 161,
    "start_time": "2022-12-05T17:03:41.180Z"
   },
   {
    "duration": 196,
    "start_time": "2022-12-05T17:03:41.343Z"
   },
   {
    "duration": 187,
    "start_time": "2022-12-05T17:03:41.540Z"
   },
   {
    "duration": 186,
    "start_time": "2022-12-05T17:03:41.729Z"
   },
   {
    "duration": 198,
    "start_time": "2022-12-05T17:03:41.917Z"
   },
   {
    "duration": 225,
    "start_time": "2022-12-05T17:03:42.117Z"
   },
   {
    "duration": 168,
    "start_time": "2022-12-05T17:03:42.344Z"
   },
   {
    "duration": 16,
    "start_time": "2022-12-05T17:03:42.514Z"
   },
   {
    "duration": 208,
    "start_time": "2022-12-05T17:03:42.532Z"
   },
   {
    "duration": 152,
    "start_time": "2022-12-05T17:03:42.742Z"
   },
   {
    "duration": 11,
    "start_time": "2022-12-05T17:04:27.183Z"
   },
   {
    "duration": 624,
    "start_time": "2022-12-05T17:04:49.222Z"
   },
   {
    "duration": 182,
    "start_time": "2022-12-05T17:04:49.848Z"
   },
   {
    "duration": 36,
    "start_time": "2022-12-05T17:04:50.033Z"
   },
   {
    "duration": 2046,
    "start_time": "2022-12-05T17:04:50.071Z"
   },
   {
    "duration": 10,
    "start_time": "2022-12-05T17:04:52.119Z"
   },
   {
    "duration": 19,
    "start_time": "2022-12-05T17:04:52.131Z"
   },
   {
    "duration": 16,
    "start_time": "2022-12-05T17:04:52.151Z"
   },
   {
    "duration": 50,
    "start_time": "2022-12-05T17:04:52.168Z"
   },
   {
    "duration": 27,
    "start_time": "2022-12-05T17:04:52.220Z"
   },
   {
    "duration": 6,
    "start_time": "2022-12-05T17:04:52.249Z"
   },
   {
    "duration": 15,
    "start_time": "2022-12-05T17:04:52.257Z"
   },
   {
    "duration": 6,
    "start_time": "2022-12-05T17:04:52.274Z"
   },
   {
    "duration": 8,
    "start_time": "2022-12-05T17:04:52.282Z"
   },
   {
    "duration": 27,
    "start_time": "2022-12-05T17:04:52.292Z"
   },
   {
    "duration": 11,
    "start_time": "2022-12-05T17:04:52.321Z"
   },
   {
    "duration": 13,
    "start_time": "2022-12-05T17:04:52.333Z"
   },
   {
    "duration": 10,
    "start_time": "2022-12-05T17:04:52.347Z"
   },
   {
    "duration": 7,
    "start_time": "2022-12-05T17:04:52.359Z"
   },
   {
    "duration": 14,
    "start_time": "2022-12-05T17:04:52.368Z"
   },
   {
    "duration": 134,
    "start_time": "2022-12-05T17:04:52.384Z"
   },
   {
    "duration": 5,
    "start_time": "2022-12-05T17:04:52.520Z"
   },
   {
    "duration": 12,
    "start_time": "2022-12-05T17:04:52.526Z"
   },
   {
    "duration": 11,
    "start_time": "2022-12-05T17:04:52.539Z"
   },
   {
    "duration": 9,
    "start_time": "2022-12-05T17:04:52.552Z"
   },
   {
    "duration": 243,
    "start_time": "2022-12-05T17:04:52.563Z"
   },
   {
    "duration": 5,
    "start_time": "2022-12-05T17:04:52.812Z"
   },
   {
    "duration": 207,
    "start_time": "2022-12-05T17:04:52.818Z"
   },
   {
    "duration": 180,
    "start_time": "2022-12-05T17:04:53.029Z"
   },
   {
    "duration": 184,
    "start_time": "2022-12-05T17:04:53.212Z"
   },
   {
    "duration": 225,
    "start_time": "2022-12-05T17:04:53.398Z"
   },
   {
    "duration": 195,
    "start_time": "2022-12-05T17:04:53.625Z"
   },
   {
    "duration": 322,
    "start_time": "2022-12-05T17:04:53.822Z"
   },
   {
    "duration": 193,
    "start_time": "2022-12-05T17:04:54.146Z"
   },
   {
    "duration": 176,
    "start_time": "2022-12-05T17:04:54.341Z"
   },
   {
    "duration": 218,
    "start_time": "2022-12-05T17:04:54.518Z"
   },
   {
    "duration": 198,
    "start_time": "2022-12-05T17:04:54.738Z"
   },
   {
    "duration": 191,
    "start_time": "2022-12-05T17:04:54.938Z"
   },
   {
    "duration": 195,
    "start_time": "2022-12-05T17:04:55.131Z"
   },
   {
    "duration": 227,
    "start_time": "2022-12-05T17:04:55.327Z"
   },
   {
    "duration": 166,
    "start_time": "2022-12-05T17:04:55.555Z"
   },
   {
    "duration": 16,
    "start_time": "2022-12-05T17:04:55.723Z"
   },
   {
    "duration": 206,
    "start_time": "2022-12-05T17:04:55.740Z"
   },
   {
    "duration": 151,
    "start_time": "2022-12-05T17:04:55.948Z"
   },
   {
    "duration": 45,
    "start_time": "2022-12-05T17:05:28.961Z"
   },
   {
    "duration": 42,
    "start_time": "2022-12-05T17:05:45.338Z"
   },
   {
    "duration": 649,
    "start_time": "2022-12-05T17:06:15.481Z"
   },
   {
    "duration": 162,
    "start_time": "2022-12-05T17:06:16.132Z"
   },
   {
    "duration": 28,
    "start_time": "2022-12-05T17:06:16.295Z"
   },
   {
    "duration": 1871,
    "start_time": "2022-12-05T17:06:16.326Z"
   },
   {
    "duration": 8,
    "start_time": "2022-12-05T17:06:18.199Z"
   },
   {
    "duration": 16,
    "start_time": "2022-12-05T17:06:18.209Z"
   },
   {
    "duration": 13,
    "start_time": "2022-12-05T17:06:18.227Z"
   },
   {
    "duration": 27,
    "start_time": "2022-12-05T17:06:18.242Z"
   },
   {
    "duration": 43,
    "start_time": "2022-12-05T17:06:18.270Z"
   },
   {
    "duration": 6,
    "start_time": "2022-12-05T17:06:18.315Z"
   },
   {
    "duration": 15,
    "start_time": "2022-12-05T17:06:18.323Z"
   },
   {
    "duration": 6,
    "start_time": "2022-12-05T17:06:18.339Z"
   },
   {
    "duration": 5,
    "start_time": "2022-12-05T17:06:18.346Z"
   },
   {
    "duration": 7,
    "start_time": "2022-12-05T17:06:18.353Z"
   },
   {
    "duration": 5,
    "start_time": "2022-12-05T17:06:18.362Z"
   },
   {
    "duration": 65,
    "start_time": "2022-12-05T17:06:18.369Z"
   },
   {
    "duration": 8,
    "start_time": "2022-12-05T17:06:18.436Z"
   },
   {
    "duration": 6,
    "start_time": "2022-12-05T17:06:18.445Z"
   },
   {
    "duration": 15,
    "start_time": "2022-12-05T17:06:18.452Z"
   },
   {
    "duration": 120,
    "start_time": "2022-12-05T17:06:18.469Z"
   },
   {
    "duration": 4,
    "start_time": "2022-12-05T17:06:18.591Z"
   },
   {
    "duration": 16,
    "start_time": "2022-12-05T17:06:18.597Z"
   },
   {
    "duration": 9,
    "start_time": "2022-12-05T17:06:18.614Z"
   },
   {
    "duration": 9,
    "start_time": "2022-12-05T17:06:18.625Z"
   },
   {
    "duration": 233,
    "start_time": "2022-12-05T17:06:18.635Z"
   },
   {
    "duration": 4,
    "start_time": "2022-12-05T17:06:18.870Z"
   },
   {
    "duration": 209,
    "start_time": "2022-12-05T17:06:18.876Z"
   },
   {
    "duration": 192,
    "start_time": "2022-12-05T17:06:19.088Z"
   },
   {
    "duration": 176,
    "start_time": "2022-12-05T17:06:19.282Z"
   },
   {
    "duration": 187,
    "start_time": "2022-12-05T17:06:19.459Z"
   },
   {
    "duration": 196,
    "start_time": "2022-12-05T17:06:19.648Z"
   },
   {
    "duration": 293,
    "start_time": "2022-12-05T17:06:19.846Z"
   },
   {
    "duration": 234,
    "start_time": "2022-12-05T17:06:20.141Z"
   },
   {
    "duration": 190,
    "start_time": "2022-12-05T17:06:20.377Z"
   },
   {
    "duration": 199,
    "start_time": "2022-12-05T17:06:20.569Z"
   },
   {
    "duration": 193,
    "start_time": "2022-12-05T17:06:20.770Z"
   },
   {
    "duration": 178,
    "start_time": "2022-12-05T17:06:20.964Z"
   },
   {
    "duration": 179,
    "start_time": "2022-12-05T17:06:21.144Z"
   },
   {
    "duration": 220,
    "start_time": "2022-12-05T17:06:21.324Z"
   },
   {
    "duration": 169,
    "start_time": "2022-12-05T17:06:21.546Z"
   },
   {
    "duration": 15,
    "start_time": "2022-12-05T17:06:21.716Z"
   },
   {
    "duration": 222,
    "start_time": "2022-12-05T17:06:21.733Z"
   },
   {
    "duration": 150,
    "start_time": "2022-12-05T17:06:21.956Z"
   },
   {
    "duration": 8,
    "start_time": "2022-12-05T17:06:50.801Z"
   },
   {
    "duration": 44,
    "start_time": "2022-12-05T17:07:13.102Z"
   },
   {
    "duration": 10,
    "start_time": "2022-12-05T17:07:23.769Z"
   },
   {
    "duration": 12,
    "start_time": "2022-12-05T17:07:29.595Z"
   },
   {
    "duration": 13,
    "start_time": "2022-12-05T17:07:42.946Z"
   },
   {
    "duration": 14,
    "start_time": "2022-12-05T17:07:54.474Z"
   },
   {
    "duration": 9,
    "start_time": "2022-12-05T17:07:57.753Z"
   },
   {
    "duration": 9,
    "start_time": "2022-12-05T17:08:26.860Z"
   },
   {
    "duration": 9,
    "start_time": "2022-12-05T17:08:54.654Z"
   },
   {
    "duration": 10,
    "start_time": "2022-12-05T17:09:22.977Z"
   },
   {
    "duration": 609,
    "start_time": "2022-12-05T17:09:38.937Z"
   },
   {
    "duration": 171,
    "start_time": "2022-12-05T17:09:39.547Z"
   },
   {
    "duration": 27,
    "start_time": "2022-12-05T17:09:39.719Z"
   },
   {
    "duration": 1948,
    "start_time": "2022-12-05T17:09:39.749Z"
   },
   {
    "duration": 9,
    "start_time": "2022-12-05T17:09:41.699Z"
   },
   {
    "duration": 20,
    "start_time": "2022-12-05T17:09:41.709Z"
   },
   {
    "duration": 15,
    "start_time": "2022-12-05T17:09:41.730Z"
   },
   {
    "duration": 27,
    "start_time": "2022-12-05T17:09:41.747Z"
   },
   {
    "duration": 39,
    "start_time": "2022-12-05T17:09:41.776Z"
   },
   {
    "duration": 7,
    "start_time": "2022-12-05T17:09:41.818Z"
   },
   {
    "duration": 11,
    "start_time": "2022-12-05T17:09:41.826Z"
   },
   {
    "duration": 13,
    "start_time": "2022-12-05T17:09:41.839Z"
   },
   {
    "duration": 9,
    "start_time": "2022-12-05T17:09:41.854Z"
   },
   {
    "duration": 10,
    "start_time": "2022-12-05T17:09:41.864Z"
   },
   {
    "duration": 7,
    "start_time": "2022-12-05T17:09:41.876Z"
   },
   {
    "duration": 36,
    "start_time": "2022-12-05T17:09:41.885Z"
   },
   {
    "duration": 6,
    "start_time": "2022-12-05T17:09:41.923Z"
   },
   {
    "duration": 7,
    "start_time": "2022-12-05T17:09:41.930Z"
   },
   {
    "duration": 7,
    "start_time": "2022-12-05T17:09:41.939Z"
   },
   {
    "duration": 15,
    "start_time": "2022-12-05T17:09:41.948Z"
   },
   {
    "duration": 6,
    "start_time": "2022-12-05T17:09:41.965Z"
   },
   {
    "duration": 14,
    "start_time": "2022-12-05T17:09:41.972Z"
   },
   {
    "duration": 25,
    "start_time": "2022-12-05T17:09:41.988Z"
   },
   {
    "duration": 4,
    "start_time": "2022-12-05T17:09:42.015Z"
   },
   {
    "duration": 34,
    "start_time": "2022-12-05T17:09:42.021Z"
   },
   {
    "duration": 3,
    "start_time": "2022-12-05T17:09:42.057Z"
   },
   {
    "duration": 190,
    "start_time": "2022-12-05T17:09:42.062Z"
   },
   {
    "duration": 184,
    "start_time": "2022-12-05T17:09:42.255Z"
   },
   {
    "duration": 198,
    "start_time": "2022-12-05T17:09:42.441Z"
   },
   {
    "duration": 179,
    "start_time": "2022-12-05T17:09:42.641Z"
   },
   {
    "duration": 193,
    "start_time": "2022-12-05T17:09:42.822Z"
   },
   {
    "duration": 303,
    "start_time": "2022-12-05T17:09:43.017Z"
   },
   {
    "duration": 195,
    "start_time": "2022-12-05T17:09:43.322Z"
   },
   {
    "duration": 168,
    "start_time": "2022-12-05T17:09:43.519Z"
   },
   {
    "duration": 176,
    "start_time": "2022-12-05T17:09:43.688Z"
   },
   {
    "duration": 191,
    "start_time": "2022-12-05T17:09:43.866Z"
   },
   {
    "duration": 185,
    "start_time": "2022-12-05T17:09:44.059Z"
   },
   {
    "duration": 186,
    "start_time": "2022-12-05T17:09:44.246Z"
   },
   {
    "duration": 211,
    "start_time": "2022-12-05T17:09:44.434Z"
   },
   {
    "duration": 206,
    "start_time": "2022-12-05T17:09:44.647Z"
   },
   {
    "duration": 14,
    "start_time": "2022-12-05T17:09:44.855Z"
   },
   {
    "duration": 224,
    "start_time": "2022-12-05T17:09:44.870Z"
   },
   {
    "duration": 155,
    "start_time": "2022-12-05T17:09:45.096Z"
   },
   {
    "duration": 10,
    "start_time": "2022-12-05T17:10:16.654Z"
   },
   {
    "duration": 13,
    "start_time": "2022-12-05T17:11:07.803Z"
   },
   {
    "duration": 588,
    "start_time": "2022-12-05T17:11:23.659Z"
   },
   {
    "duration": 175,
    "start_time": "2022-12-05T17:11:24.249Z"
   },
   {
    "duration": 39,
    "start_time": "2022-12-05T17:11:24.426Z"
   },
   {
    "duration": 1970,
    "start_time": "2022-12-05T17:11:24.467Z"
   },
   {
    "duration": 9,
    "start_time": "2022-12-05T17:11:26.439Z"
   },
   {
    "duration": 17,
    "start_time": "2022-12-05T17:11:26.449Z"
   },
   {
    "duration": 14,
    "start_time": "2022-12-05T17:11:26.468Z"
   },
   {
    "duration": 26,
    "start_time": "2022-12-05T17:11:26.484Z"
   },
   {
    "duration": 25,
    "start_time": "2022-12-05T17:11:26.511Z"
   },
   {
    "duration": 6,
    "start_time": "2022-12-05T17:11:26.538Z"
   },
   {
    "duration": 11,
    "start_time": "2022-12-05T17:11:26.545Z"
   },
   {
    "duration": 5,
    "start_time": "2022-12-05T17:11:26.557Z"
   },
   {
    "duration": 5,
    "start_time": "2022-12-05T17:11:26.564Z"
   },
   {
    "duration": 11,
    "start_time": "2022-12-05T17:11:26.571Z"
   },
   {
    "duration": 33,
    "start_time": "2022-12-05T17:11:26.584Z"
   },
   {
    "duration": 16,
    "start_time": "2022-12-05T17:11:26.618Z"
   },
   {
    "duration": 7,
    "start_time": "2022-12-05T17:11:26.636Z"
   },
   {
    "duration": 6,
    "start_time": "2022-12-05T17:11:26.645Z"
   },
   {
    "duration": 8,
    "start_time": "2022-12-05T17:11:26.652Z"
   },
   {
    "duration": 119,
    "start_time": "2022-12-05T17:11:26.662Z"
   },
   {
    "duration": 5,
    "start_time": "2022-12-05T17:11:26.782Z"
   },
   {
    "duration": 11,
    "start_time": "2022-12-05T17:11:26.788Z"
   },
   {
    "duration": 19,
    "start_time": "2022-12-05T17:11:26.801Z"
   },
   {
    "duration": 10,
    "start_time": "2022-12-05T17:11:26.821Z"
   },
   {
    "duration": 238,
    "start_time": "2022-12-05T17:11:26.832Z"
   },
   {
    "duration": 4,
    "start_time": "2022-12-05T17:11:27.071Z"
   },
   {
    "duration": 181,
    "start_time": "2022-12-05T17:11:27.077Z"
   },
   {
    "duration": 189,
    "start_time": "2022-12-05T17:11:27.262Z"
   },
   {
    "duration": 182,
    "start_time": "2022-12-05T17:11:27.453Z"
   },
   {
    "duration": 187,
    "start_time": "2022-12-05T17:11:27.637Z"
   },
   {
    "duration": 198,
    "start_time": "2022-12-05T17:11:27.826Z"
   },
   {
    "duration": 306,
    "start_time": "2022-12-05T17:11:28.026Z"
   },
   {
    "duration": 192,
    "start_time": "2022-12-05T17:11:28.334Z"
   },
   {
    "duration": 179,
    "start_time": "2022-12-05T17:11:28.529Z"
   },
   {
    "duration": 193,
    "start_time": "2022-12-05T17:11:28.710Z"
   },
   {
    "duration": 192,
    "start_time": "2022-12-05T17:11:28.913Z"
   },
   {
    "duration": 191,
    "start_time": "2022-12-05T17:11:29.106Z"
   },
   {
    "duration": 212,
    "start_time": "2022-12-05T17:11:29.299Z"
   },
   {
    "duration": 232,
    "start_time": "2022-12-05T17:11:29.513Z"
   },
   {
    "duration": 167,
    "start_time": "2022-12-05T17:11:29.746Z"
   },
   {
    "duration": 17,
    "start_time": "2022-12-05T17:11:29.914Z"
   },
   {
    "duration": 222,
    "start_time": "2022-12-05T17:11:29.933Z"
   },
   {
    "duration": 188,
    "start_time": "2022-12-05T17:11:30.157Z"
   },
   {
    "duration": 164,
    "start_time": "2022-12-05T17:13:44.879Z"
   },
   {
    "duration": 814,
    "start_time": "2022-12-05T17:14:14.011Z"
   },
   {
    "duration": 224,
    "start_time": "2022-12-05T17:14:14.827Z"
   },
   {
    "duration": 27,
    "start_time": "2022-12-05T17:14:15.052Z"
   },
   {
    "duration": 1893,
    "start_time": "2022-12-05T17:14:15.080Z"
   },
   {
    "duration": 11,
    "start_time": "2022-12-05T17:14:16.975Z"
   },
   {
    "duration": 21,
    "start_time": "2022-12-05T17:14:16.988Z"
   },
   {
    "duration": 15,
    "start_time": "2022-12-05T17:14:17.011Z"
   },
   {
    "duration": 28,
    "start_time": "2022-12-05T17:14:17.028Z"
   },
   {
    "duration": 28,
    "start_time": "2022-12-05T17:14:17.058Z"
   },
   {
    "duration": 25,
    "start_time": "2022-12-05T17:14:17.089Z"
   },
   {
    "duration": 9,
    "start_time": "2022-12-05T17:14:17.116Z"
   },
   {
    "duration": 6,
    "start_time": "2022-12-05T17:14:17.127Z"
   },
   {
    "duration": 5,
    "start_time": "2022-12-05T17:14:17.134Z"
   },
   {
    "duration": 8,
    "start_time": "2022-12-05T17:14:17.141Z"
   },
   {
    "duration": 8,
    "start_time": "2022-12-05T17:14:17.151Z"
   },
   {
    "duration": 53,
    "start_time": "2022-12-05T17:14:17.160Z"
   },
   {
    "duration": 8,
    "start_time": "2022-12-05T17:14:17.215Z"
   },
   {
    "duration": 6,
    "start_time": "2022-12-05T17:14:17.225Z"
   },
   {
    "duration": 6,
    "start_time": "2022-12-05T17:14:17.232Z"
   },
   {
    "duration": 116,
    "start_time": "2022-12-05T17:14:17.240Z"
   },
   {
    "duration": 5,
    "start_time": "2022-12-05T17:14:17.357Z"
   },
   {
    "duration": 15,
    "start_time": "2022-12-05T17:14:17.364Z"
   },
   {
    "duration": 9,
    "start_time": "2022-12-05T17:14:17.381Z"
   },
   {
    "duration": 21,
    "start_time": "2022-12-05T17:14:17.392Z"
   },
   {
    "duration": 215,
    "start_time": "2022-12-05T17:14:17.415Z"
   },
   {
    "duration": 3,
    "start_time": "2022-12-05T17:14:17.632Z"
   },
   {
    "duration": 191,
    "start_time": "2022-12-05T17:14:17.637Z"
   },
   {
    "duration": 174,
    "start_time": "2022-12-05T17:14:17.831Z"
   },
   {
    "duration": 187,
    "start_time": "2022-12-05T17:14:18.007Z"
   },
   {
    "duration": 183,
    "start_time": "2022-12-05T17:14:18.196Z"
   },
   {
    "duration": 191,
    "start_time": "2022-12-05T17:14:18.381Z"
   },
   {
    "duration": 305,
    "start_time": "2022-12-05T17:14:18.574Z"
   },
   {
    "duration": 180,
    "start_time": "2022-12-05T17:14:18.881Z"
   },
   {
    "duration": 196,
    "start_time": "2022-12-05T17:14:19.063Z"
   },
   {
    "duration": 191,
    "start_time": "2022-12-05T17:14:19.261Z"
   },
   {
    "duration": 184,
    "start_time": "2022-12-05T17:14:19.454Z"
   },
   {
    "duration": 185,
    "start_time": "2022-12-05T17:14:19.640Z"
   },
   {
    "duration": 200,
    "start_time": "2022-12-05T17:14:19.827Z"
   },
   {
    "duration": 223,
    "start_time": "2022-12-05T17:14:20.028Z"
   },
   {
    "duration": 223,
    "start_time": "2022-12-05T17:14:20.253Z"
   },
   {
    "duration": 9,
    "start_time": "2022-12-05T17:14:20.478Z"
   },
   {
    "duration": 211,
    "start_time": "2022-12-05T17:14:20.489Z"
   },
   {
    "duration": 146,
    "start_time": "2022-12-05T17:14:20.702Z"
   },
   {
    "duration": 72,
    "start_time": "2022-12-05T17:17:47.145Z"
   },
   {
    "duration": 188,
    "start_time": "2022-12-05T17:18:35.956Z"
   },
   {
    "duration": 107,
    "start_time": "2022-12-05T17:19:01.506Z"
   },
   {
    "duration": 1200,
    "start_time": "2022-12-05T17:19:19.422Z"
   },
   {
    "duration": 11,
    "start_time": "2022-12-05T17:21:12.314Z"
   },
   {
    "duration": 1119,
    "start_time": "2022-12-05T17:23:05.055Z"
   },
   {
    "duration": 1249,
    "start_time": "2022-12-05T17:23:53.505Z"
   },
   {
    "duration": 1230,
    "start_time": "2022-12-05T17:24:04.486Z"
   },
   {
    "duration": 16,
    "start_time": "2022-12-05T17:24:53.770Z"
   },
   {
    "duration": 1151,
    "start_time": "2022-12-05T17:25:07.924Z"
   },
   {
    "duration": 14,
    "start_time": "2022-12-05T17:25:27.802Z"
   },
   {
    "duration": 1650,
    "start_time": "2022-12-05T17:25:41.751Z"
   },
   {
    "duration": 18,
    "start_time": "2022-12-05T17:31:07.716Z"
   },
   {
    "duration": 16,
    "start_time": "2022-12-05T17:31:16.314Z"
   },
   {
    "duration": 12,
    "start_time": "2022-12-05T17:31:48.660Z"
   },
   {
    "duration": 15,
    "start_time": "2022-12-05T17:31:56.036Z"
   },
   {
    "duration": 83,
    "start_time": "2022-12-05T17:32:03.534Z"
   },
   {
    "duration": 152,
    "start_time": "2022-12-05T17:32:18.147Z"
   },
   {
    "duration": 116,
    "start_time": "2022-12-05T17:33:29.206Z"
   },
   {
    "duration": 122,
    "start_time": "2022-12-05T17:34:10.815Z"
   },
   {
    "duration": 135,
    "start_time": "2022-12-05T17:34:16.641Z"
   },
   {
    "duration": 115,
    "start_time": "2022-12-05T17:35:34.440Z"
   },
   {
    "duration": 11,
    "start_time": "2022-12-05T17:36:47.152Z"
   },
   {
    "duration": 10,
    "start_time": "2022-12-05T17:36:58.595Z"
   },
   {
    "duration": 133,
    "start_time": "2022-12-05T17:38:07.265Z"
   },
   {
    "duration": 135,
    "start_time": "2022-12-05T17:38:13.383Z"
   },
   {
    "duration": 183,
    "start_time": "2022-12-05T17:39:10.254Z"
   },
   {
    "duration": 141,
    "start_time": "2022-12-05T17:39:16.608Z"
   },
   {
    "duration": 207,
    "start_time": "2022-12-05T17:39:19.897Z"
   },
   {
    "duration": 150,
    "start_time": "2022-12-05T17:39:24.000Z"
   },
   {
    "duration": 157,
    "start_time": "2022-12-05T17:40:44.876Z"
   },
   {
    "duration": 145,
    "start_time": "2022-12-05T17:40:58.421Z"
   },
   {
    "duration": 161,
    "start_time": "2022-12-05T17:42:03.510Z"
   },
   {
    "duration": 144,
    "start_time": "2022-12-05T17:42:11.450Z"
   },
   {
    "duration": 158,
    "start_time": "2022-12-05T17:45:50.615Z"
   },
   {
    "duration": 159,
    "start_time": "2022-12-05T17:46:12.438Z"
   },
   {
    "duration": 152,
    "start_time": "2022-12-05T17:46:17.740Z"
   },
   {
    "duration": 162,
    "start_time": "2022-12-05T17:50:35.263Z"
   },
   {
    "duration": 170,
    "start_time": "2022-12-05T17:51:25.323Z"
   },
   {
    "duration": 154,
    "start_time": "2022-12-05T17:52:18.334Z"
   },
   {
    "duration": 235,
    "start_time": "2022-12-05T17:53:31.649Z"
   },
   {
    "duration": 152,
    "start_time": "2022-12-05T17:53:39.431Z"
   },
   {
    "duration": 158,
    "start_time": "2022-12-05T17:53:43.898Z"
   },
   {
    "duration": 4,
    "start_time": "2022-12-05T17:56:32.582Z"
   },
   {
    "duration": 6,
    "start_time": "2022-12-05T17:56:55.294Z"
   },
   {
    "duration": 9,
    "start_time": "2022-12-05T17:57:15.023Z"
   },
   {
    "duration": 17,
    "start_time": "2022-12-05T17:57:20.732Z"
   },
   {
    "duration": 19,
    "start_time": "2022-12-05T17:57:33.299Z"
   },
   {
    "duration": 27,
    "start_time": "2022-12-05T17:58:26.381Z"
   },
   {
    "duration": 26,
    "start_time": "2022-12-05T17:58:38.834Z"
   },
   {
    "duration": 146,
    "start_time": "2022-12-05T17:59:27.651Z"
   },
   {
    "duration": 331,
    "start_time": "2022-12-05T18:02:35.082Z"
   },
   {
    "duration": 1139,
    "start_time": "2022-12-05T18:03:36.599Z"
   },
   {
    "duration": 27,
    "start_time": "2022-12-05T18:03:47.278Z"
   },
   {
    "duration": 83,
    "start_time": "2022-12-05T18:04:27.769Z"
   },
   {
    "duration": 79,
    "start_time": "2022-12-05T18:05:35.669Z"
   },
   {
    "duration": 309,
    "start_time": "2022-12-05T18:06:24.138Z"
   },
   {
    "duration": 390,
    "start_time": "2022-12-05T18:06:29.797Z"
   },
   {
    "duration": 457,
    "start_time": "2022-12-05T18:07:04.178Z"
   },
   {
    "duration": 368,
    "start_time": "2022-12-05T18:07:13.321Z"
   },
   {
    "duration": 465,
    "start_time": "2022-12-05T18:07:18.941Z"
   },
   {
    "duration": 454,
    "start_time": "2022-12-05T18:08:14.591Z"
   },
   {
    "duration": 568,
    "start_time": "2022-12-05T18:09:14.228Z"
   },
   {
    "duration": 497,
    "start_time": "2022-12-05T18:09:30.232Z"
   },
   {
    "duration": 423,
    "start_time": "2022-12-05T18:09:55.723Z"
   },
   {
    "duration": 400,
    "start_time": "2022-12-05T18:10:12.540Z"
   },
   {
    "duration": 429,
    "start_time": "2022-12-05T18:10:26.112Z"
   },
   {
    "duration": 507,
    "start_time": "2022-12-05T18:11:20.153Z"
   },
   {
    "duration": 70,
    "start_time": "2022-12-05T18:13:14.921Z"
   },
   {
    "duration": 8,
    "start_time": "2022-12-05T18:13:19.445Z"
   },
   {
    "duration": 9,
    "start_time": "2022-12-05T18:13:34.014Z"
   },
   {
    "duration": 17,
    "start_time": "2022-12-05T18:14:27.428Z"
   },
   {
    "duration": 10,
    "start_time": "2022-12-05T18:14:47.798Z"
   },
   {
    "duration": 16,
    "start_time": "2022-12-05T18:14:57.092Z"
   },
   {
    "duration": 13,
    "start_time": "2022-12-05T18:16:32.581Z"
   },
   {
    "duration": 18,
    "start_time": "2022-12-05T18:16:38.683Z"
   },
   {
    "duration": 486,
    "start_time": "2022-12-05T18:18:32.502Z"
   },
   {
    "duration": 427,
    "start_time": "2022-12-05T18:18:39.830Z"
   },
   {
    "duration": 18,
    "start_time": "2022-12-05T18:18:46.860Z"
   },
   {
    "duration": 160,
    "start_time": "2022-12-05T18:22:11.059Z"
   },
   {
    "duration": 163,
    "start_time": "2022-12-05T18:22:26.102Z"
   },
   {
    "duration": 191,
    "start_time": "2022-12-05T18:25:57.367Z"
   },
   {
    "duration": 208,
    "start_time": "2022-12-05T18:26:07.676Z"
   },
   {
    "duration": 26,
    "start_time": "2022-12-05T18:27:37.759Z"
   },
   {
    "duration": 20,
    "start_time": "2022-12-05T18:28:11.579Z"
   },
   {
    "duration": 123,
    "start_time": "2022-12-05T18:28:32.800Z"
   },
   {
    "duration": 144,
    "start_time": "2022-12-05T18:28:44.906Z"
   },
   {
    "duration": 118,
    "start_time": "2022-12-05T18:28:56.654Z"
   },
   {
    "duration": 22,
    "start_time": "2022-12-05T18:30:12.800Z"
   },
   {
    "duration": 264,
    "start_time": "2022-12-05T18:30:17.786Z"
   },
   {
    "duration": 165,
    "start_time": "2022-12-05T18:30:18.324Z"
   },
   {
    "duration": 170,
    "start_time": "2022-12-05T18:30:18.852Z"
   },
   {
    "duration": 156,
    "start_time": "2022-12-05T18:30:19.460Z"
   },
   {
    "duration": 148,
    "start_time": "2022-12-05T18:30:44.201Z"
   },
   {
    "duration": 139,
    "start_time": "2022-12-05T18:32:08.568Z"
   },
   {
    "duration": 135,
    "start_time": "2022-12-05T18:32:32.035Z"
   },
   {
    "duration": 268,
    "start_time": "2022-12-05T18:33:12.644Z"
   },
   {
    "duration": 269,
    "start_time": "2022-12-05T18:33:16.611Z"
   },
   {
    "duration": 8,
    "start_time": "2022-12-05T18:33:44.514Z"
   },
   {
    "duration": 457,
    "start_time": "2022-12-05T18:34:10.322Z"
   },
   {
    "duration": 140,
    "start_time": "2022-12-05T18:35:15.441Z"
   },
   {
    "duration": 162,
    "start_time": "2022-12-05T18:35:35.971Z"
   },
   {
    "duration": 170,
    "start_time": "2022-12-05T18:35:58.438Z"
   },
   {
    "duration": 180,
    "start_time": "2022-12-05T18:36:06.443Z"
   },
   {
    "duration": 125,
    "start_time": "2022-12-05T18:36:31.197Z"
   },
   {
    "duration": 141,
    "start_time": "2022-12-05T18:36:46.279Z"
   },
   {
    "duration": 116,
    "start_time": "2022-12-05T18:37:01.071Z"
   },
   {
    "duration": 262,
    "start_time": "2022-12-05T18:37:53.042Z"
   },
   {
    "duration": 256,
    "start_time": "2022-12-05T18:37:59.490Z"
   },
   {
    "duration": 140,
    "start_time": "2022-12-05T18:38:18.439Z"
   },
   {
    "duration": 152,
    "start_time": "2022-12-05T18:38:34.802Z"
   },
   {
    "duration": 52,
    "start_time": "2022-12-12T15:55:22.125Z"
   },
   {
    "duration": 886,
    "start_time": "2022-12-12T15:55:31.473Z"
   },
   {
    "duration": 376,
    "start_time": "2022-12-12T15:55:32.362Z"
   },
   {
    "duration": 33,
    "start_time": "2022-12-12T15:55:32.740Z"
   },
   {
    "duration": 2341,
    "start_time": "2022-12-12T15:55:32.775Z"
   },
   {
    "duration": 13,
    "start_time": "2022-12-12T15:55:35.118Z"
   },
   {
    "duration": 18,
    "start_time": "2022-12-12T15:55:35.133Z"
   },
   {
    "duration": 16,
    "start_time": "2022-12-12T15:55:35.152Z"
   },
   {
    "duration": 58,
    "start_time": "2022-12-12T15:55:35.170Z"
   },
   {
    "duration": 28,
    "start_time": "2022-12-12T15:55:35.230Z"
   },
   {
    "duration": 6,
    "start_time": "2022-12-12T15:55:35.261Z"
   },
   {
    "duration": 14,
    "start_time": "2022-12-12T15:55:35.269Z"
   },
   {
    "duration": 6,
    "start_time": "2022-12-12T15:55:35.285Z"
   },
   {
    "duration": 6,
    "start_time": "2022-12-12T15:55:35.313Z"
   },
   {
    "duration": 23,
    "start_time": "2022-12-12T15:55:35.321Z"
   },
   {
    "duration": 10,
    "start_time": "2022-12-12T15:55:35.346Z"
   },
   {
    "duration": 15,
    "start_time": "2022-12-12T15:55:35.357Z"
   },
   {
    "duration": 8,
    "start_time": "2022-12-12T15:55:35.374Z"
   },
   {
    "duration": 29,
    "start_time": "2022-12-12T15:55:35.384Z"
   },
   {
    "duration": 9,
    "start_time": "2022-12-12T15:55:35.415Z"
   },
   {
    "duration": 134,
    "start_time": "2022-12-12T15:55:35.426Z"
   },
   {
    "duration": 5,
    "start_time": "2022-12-12T15:55:35.562Z"
   },
   {
    "duration": 13,
    "start_time": "2022-12-12T15:55:35.568Z"
   },
   {
    "duration": 8,
    "start_time": "2022-12-12T15:55:35.584Z"
   },
   {
    "duration": 28,
    "start_time": "2022-12-12T15:55:35.594Z"
   },
   {
    "duration": 259,
    "start_time": "2022-12-12T15:55:35.624Z"
   },
   {
    "duration": 4,
    "start_time": "2022-12-12T15:55:35.884Z"
   },
   {
    "duration": 212,
    "start_time": "2022-12-12T15:55:35.890Z"
   },
   {
    "duration": 227,
    "start_time": "2022-12-12T15:55:36.106Z"
   },
   {
    "duration": 269,
    "start_time": "2022-12-12T15:55:36.338Z"
   },
   {
    "duration": 246,
    "start_time": "2022-12-12T15:55:36.613Z"
   },
   {
    "duration": 223,
    "start_time": "2022-12-12T15:55:36.860Z"
   },
   {
    "duration": 364,
    "start_time": "2022-12-12T15:55:37.084Z"
   },
   {
    "duration": 218,
    "start_time": "2022-12-12T15:55:37.450Z"
   },
   {
    "duration": 216,
    "start_time": "2022-12-12T15:55:37.670Z"
   },
   {
    "duration": 224,
    "start_time": "2022-12-12T15:55:37.888Z"
   },
   {
    "duration": 235,
    "start_time": "2022-12-12T15:55:38.114Z"
   },
   {
    "duration": 211,
    "start_time": "2022-12-12T15:55:38.352Z"
   },
   {
    "duration": 220,
    "start_time": "2022-12-12T15:55:38.565Z"
   },
   {
    "duration": 252,
    "start_time": "2022-12-12T15:55:38.787Z"
   },
   {
    "duration": 198,
    "start_time": "2022-12-12T15:55:39.041Z"
   },
   {
    "duration": 191,
    "start_time": "2022-12-12T15:55:39.241Z"
   },
   {
    "duration": 174,
    "start_time": "2022-12-12T15:55:39.433Z"
   },
   {
    "duration": 265,
    "start_time": "2022-12-12T15:55:39.608Z"
   },
   {
    "duration": 181,
    "start_time": "2022-12-12T15:55:39.875Z"
   },
   {
    "duration": 179,
    "start_time": "2022-12-12T15:55:40.058Z"
   },
   {
    "duration": 191,
    "start_time": "2022-12-12T15:55:40.240Z"
   },
   {
    "duration": 21,
    "start_time": "2022-12-12T15:55:40.433Z"
   },
   {
    "duration": 242,
    "start_time": "2022-12-12T15:55:40.455Z"
   },
   {
    "duration": 183,
    "start_time": "2022-12-12T15:55:40.698Z"
   },
   {
    "duration": 8,
    "start_time": "2022-12-12T15:56:56.365Z"
   },
   {
    "duration": 909,
    "start_time": "2022-12-12T15:57:16.453Z"
   },
   {
    "duration": 6,
    "start_time": "2022-12-12T15:57:23.729Z"
   },
   {
    "duration": 107,
    "start_time": "2022-12-12T15:58:03.630Z"
   },
   {
    "duration": 16,
    "start_time": "2022-12-12T15:58:12.184Z"
   },
   {
    "duration": 7,
    "start_time": "2022-12-12T15:58:38.483Z"
   },
   {
    "duration": 6,
    "start_time": "2022-12-12T15:58:57.938Z"
   },
   {
    "duration": 7,
    "start_time": "2022-12-12T15:59:18.082Z"
   },
   {
    "duration": 10,
    "start_time": "2022-12-12T16:00:45.510Z"
   },
   {
    "duration": 15,
    "start_time": "2022-12-12T16:02:15.160Z"
   },
   {
    "duration": 7,
    "start_time": "2022-12-12T16:02:40.498Z"
   },
   {
    "duration": 10,
    "start_time": "2022-12-12T16:02:50.355Z"
   },
   {
    "duration": 215,
    "start_time": "2022-12-12T16:07:00.649Z"
   },
   {
    "duration": 204,
    "start_time": "2022-12-12T16:07:13.600Z"
   },
   {
    "duration": 216,
    "start_time": "2022-12-12T16:08:07.760Z"
   },
   {
    "duration": 267,
    "start_time": "2022-12-12T16:08:16.487Z"
   },
   {
    "duration": 217,
    "start_time": "2022-12-12T16:08:22.195Z"
   },
   {
    "duration": 313,
    "start_time": "2022-12-12T16:08:28.030Z"
   },
   {
    "duration": 202,
    "start_time": "2022-12-12T16:09:12.273Z"
   },
   {
    "duration": 180,
    "start_time": "2022-12-12T16:13:52.883Z"
   },
   {
    "duration": 181,
    "start_time": "2022-12-12T16:14:30.210Z"
   },
   {
    "duration": 191,
    "start_time": "2022-12-12T16:14:34.197Z"
   },
   {
    "duration": 183,
    "start_time": "2022-12-12T16:14:38.069Z"
   },
   {
    "duration": 219,
    "start_time": "2022-12-12T16:15:00.386Z"
   },
   {
    "duration": 219,
    "start_time": "2022-12-12T16:15:04.067Z"
   },
   {
    "duration": 206,
    "start_time": "2022-12-12T16:17:05.904Z"
   },
   {
    "duration": 161,
    "start_time": "2022-12-12T16:17:13.830Z"
   },
   {
    "duration": 4,
    "start_time": "2022-12-12T16:29:57.708Z"
   },
   {
    "duration": 666,
    "start_time": "2022-12-13T16:31:41.475Z"
   },
   {
    "duration": 108,
    "start_time": "2022-12-13T16:31:42.144Z"
   },
   {
    "duration": 47,
    "start_time": "2022-12-13T16:31:42.253Z"
   },
   {
    "duration": 2034,
    "start_time": "2022-12-13T16:31:42.302Z"
   },
   {
    "duration": 13,
    "start_time": "2022-12-13T16:31:44.339Z"
   },
   {
    "duration": 25,
    "start_time": "2022-12-13T16:31:44.354Z"
   },
   {
    "duration": 17,
    "start_time": "2022-12-13T16:31:44.381Z"
   },
   {
    "duration": 27,
    "start_time": "2022-12-13T16:31:44.401Z"
   },
   {
    "duration": 28,
    "start_time": "2022-12-13T16:31:44.430Z"
   },
   {
    "duration": 21,
    "start_time": "2022-12-13T16:31:44.461Z"
   },
   {
    "duration": 11,
    "start_time": "2022-12-13T16:31:44.484Z"
   },
   {
    "duration": 6,
    "start_time": "2022-12-13T16:31:44.496Z"
   },
   {
    "duration": 6,
    "start_time": "2022-12-13T16:31:44.503Z"
   },
   {
    "duration": 12,
    "start_time": "2022-12-13T16:31:44.511Z"
   },
   {
    "duration": 9,
    "start_time": "2022-12-13T16:31:44.525Z"
   },
   {
    "duration": 49,
    "start_time": "2022-12-13T16:31:44.536Z"
   },
   {
    "duration": 8,
    "start_time": "2022-12-13T16:31:44.587Z"
   },
   {
    "duration": 12,
    "start_time": "2022-12-13T16:31:44.597Z"
   },
   {
    "duration": 21,
    "start_time": "2022-12-13T16:31:44.611Z"
   },
   {
    "duration": 111,
    "start_time": "2022-12-13T16:31:44.634Z"
   },
   {
    "duration": 4,
    "start_time": "2022-12-13T16:31:44.747Z"
   },
   {
    "duration": 26,
    "start_time": "2022-12-13T16:31:44.752Z"
   },
   {
    "duration": 15,
    "start_time": "2022-12-13T16:31:44.780Z"
   },
   {
    "duration": 18,
    "start_time": "2022-12-13T16:31:44.797Z"
   },
   {
    "duration": 236,
    "start_time": "2022-12-13T16:31:44.817Z"
   },
   {
    "duration": 5,
    "start_time": "2022-12-13T16:31:45.055Z"
   },
   {
    "duration": 204,
    "start_time": "2022-12-13T16:31:45.061Z"
   },
   {
    "duration": 191,
    "start_time": "2022-12-13T16:31:45.268Z"
   },
   {
    "duration": 180,
    "start_time": "2022-12-13T16:31:45.461Z"
   },
   {
    "duration": 214,
    "start_time": "2022-12-13T16:31:45.642Z"
   },
   {
    "duration": 192,
    "start_time": "2022-12-13T16:31:45.857Z"
   },
   {
    "duration": 313,
    "start_time": "2022-12-13T16:31:46.050Z"
   },
   {
    "duration": 182,
    "start_time": "2022-12-13T16:31:46.364Z"
   },
   {
    "duration": 184,
    "start_time": "2022-12-13T16:31:46.548Z"
   },
   {
    "duration": 210,
    "start_time": "2022-12-13T16:31:46.734Z"
   },
   {
    "duration": 199,
    "start_time": "2022-12-13T16:31:46.947Z"
   },
   {
    "duration": 202,
    "start_time": "2022-12-13T16:31:47.148Z"
   },
   {
    "duration": 200,
    "start_time": "2022-12-13T16:31:47.352Z"
   },
   {
    "duration": 226,
    "start_time": "2022-12-13T16:31:47.554Z"
   },
   {
    "duration": 173,
    "start_time": "2022-12-13T16:31:47.782Z"
   },
   {
    "duration": 167,
    "start_time": "2022-12-13T16:31:47.956Z"
   },
   {
    "duration": 164,
    "start_time": "2022-12-13T16:31:48.125Z"
   },
   {
    "duration": 248,
    "start_time": "2022-12-13T16:31:48.291Z"
   },
   {
    "duration": 7,
    "start_time": "2022-12-13T16:31:48.540Z"
   },
   {
    "duration": 176,
    "start_time": "2022-12-13T16:31:48.549Z"
   },
   {
    "duration": 155,
    "start_time": "2022-12-13T16:31:48.727Z"
   },
   {
    "duration": 172,
    "start_time": "2022-12-13T16:31:48.884Z"
   },
   {
    "duration": 249,
    "start_time": "2022-12-13T16:31:49.058Z"
   },
   {
    "duration": 195,
    "start_time": "2022-12-13T16:31:49.309Z"
   },
   {
    "duration": 228,
    "start_time": "2022-12-13T16:31:49.506Z"
   },
   {
    "duration": 185,
    "start_time": "2022-12-13T16:31:49.736Z"
   },
   {
    "duration": 18,
    "start_time": "2022-12-13T16:33:00.583Z"
   },
   {
    "duration": 89,
    "start_time": "2022-12-13T16:33:04.326Z"
   },
   {
    "duration": 10,
    "start_time": "2022-12-13T16:34:34.400Z"
   },
   {
    "duration": 1000,
    "start_time": "2022-12-13T16:57:04.146Z"
   },
   {
    "duration": 396,
    "start_time": "2022-12-13T16:57:05.149Z"
   },
   {
    "duration": 42,
    "start_time": "2022-12-13T16:57:05.547Z"
   },
   {
    "duration": 2407,
    "start_time": "2022-12-13T16:57:05.591Z"
   },
   {
    "duration": 10,
    "start_time": "2022-12-13T16:57:08.000Z"
   },
   {
    "duration": 18,
    "start_time": "2022-12-13T16:57:08.012Z"
   },
   {
    "duration": 16,
    "start_time": "2022-12-13T16:57:08.032Z"
   },
   {
    "duration": 43,
    "start_time": "2022-12-13T16:57:08.050Z"
   },
   {
    "duration": 31,
    "start_time": "2022-12-13T16:57:08.096Z"
   },
   {
    "duration": 6,
    "start_time": "2022-12-13T16:57:08.130Z"
   },
   {
    "duration": 31,
    "start_time": "2022-12-13T16:57:08.138Z"
   },
   {
    "duration": 20,
    "start_time": "2022-12-13T16:57:08.171Z"
   },
   {
    "duration": 5,
    "start_time": "2022-12-13T16:57:08.193Z"
   },
   {
    "duration": 9,
    "start_time": "2022-12-13T16:57:08.200Z"
   },
   {
    "duration": 11,
    "start_time": "2022-12-13T16:57:08.210Z"
   },
   {
    "duration": 12,
    "start_time": "2022-12-13T16:57:08.223Z"
   },
   {
    "duration": 15,
    "start_time": "2022-12-13T16:57:08.237Z"
   },
   {
    "duration": 23,
    "start_time": "2022-12-13T16:57:08.263Z"
   },
   {
    "duration": 11,
    "start_time": "2022-12-13T16:57:08.288Z"
   },
   {
    "duration": 121,
    "start_time": "2022-12-13T16:57:08.301Z"
   },
   {
    "duration": 4,
    "start_time": "2022-12-13T16:57:08.424Z"
   },
   {
    "duration": 12,
    "start_time": "2022-12-13T16:57:08.430Z"
   },
   {
    "duration": 39,
    "start_time": "2022-12-13T16:57:08.444Z"
   },
   {
    "duration": 12,
    "start_time": "2022-12-13T16:57:08.486Z"
   },
   {
    "duration": 271,
    "start_time": "2022-12-13T16:57:08.500Z"
   },
   {
    "duration": 5,
    "start_time": "2022-12-13T16:57:08.782Z"
   },
   {
    "duration": 234,
    "start_time": "2022-12-13T16:57:08.789Z"
   },
   {
    "duration": 268,
    "start_time": "2022-12-13T16:57:09.027Z"
   },
   {
    "duration": 223,
    "start_time": "2022-12-13T16:57:09.297Z"
   },
   {
    "duration": 230,
    "start_time": "2022-12-13T16:57:09.522Z"
   },
   {
    "duration": 261,
    "start_time": "2022-12-13T16:57:09.755Z"
   },
   {
    "duration": 349,
    "start_time": "2022-12-13T16:57:10.018Z"
   },
   {
    "duration": 237,
    "start_time": "2022-12-13T16:57:10.369Z"
   },
   {
    "duration": 232,
    "start_time": "2022-12-13T16:57:10.608Z"
   },
   {
    "duration": 257,
    "start_time": "2022-12-13T16:57:10.842Z"
   },
   {
    "duration": 239,
    "start_time": "2022-12-13T16:57:11.101Z"
   },
   {
    "duration": 246,
    "start_time": "2022-12-13T16:57:11.342Z"
   },
   {
    "duration": 234,
    "start_time": "2022-12-13T16:57:11.590Z"
   },
   {
    "duration": 288,
    "start_time": "2022-12-13T16:57:11.825Z"
   },
   {
    "duration": 211,
    "start_time": "2022-12-13T16:57:12.115Z"
   },
   {
    "duration": 207,
    "start_time": "2022-12-13T16:57:12.328Z"
   },
   {
    "duration": 220,
    "start_time": "2022-12-13T16:57:12.537Z"
   },
   {
    "duration": 288,
    "start_time": "2022-12-13T16:57:12.767Z"
   },
   {
    "duration": 14,
    "start_time": "2022-12-13T16:57:13.058Z"
   },
   {
    "duration": 296,
    "start_time": "2022-12-13T16:57:13.077Z"
   },
   {
    "duration": 0,
    "start_time": "2022-12-13T16:57:13.377Z"
   },
   {
    "duration": 0,
    "start_time": "2022-12-13T16:57:13.378Z"
   },
   {
    "duration": 0,
    "start_time": "2022-12-13T16:57:13.380Z"
   },
   {
    "duration": 0,
    "start_time": "2022-12-13T16:57:13.385Z"
   },
   {
    "duration": 0,
    "start_time": "2022-12-13T16:57:13.386Z"
   },
   {
    "duration": 0,
    "start_time": "2022-12-13T16:57:13.390Z"
   },
   {
    "duration": 212,
    "start_time": "2022-12-13T16:57:33.306Z"
   },
   {
    "duration": 191,
    "start_time": "2022-12-13T16:57:45.497Z"
   },
   {
    "duration": 25,
    "start_time": "2022-12-13T16:58:22.604Z"
   },
   {
    "duration": 25,
    "start_time": "2022-12-13T16:59:57.507Z"
   },
   {
    "duration": 147,
    "start_time": "2022-12-13T17:00:31.702Z"
   },
   {
    "duration": 24,
    "start_time": "2022-12-13T17:01:17.307Z"
   },
   {
    "duration": 35412,
    "start_time": "2022-12-13T17:02:56.682Z"
   },
   {
    "duration": 38,
    "start_time": "2022-12-13T17:03:44.730Z"
   },
   {
    "duration": 40920,
    "start_time": "2022-12-13T17:03:49.291Z"
   },
   {
    "duration": 44151,
    "start_time": "2022-12-13T17:08:11.363Z"
   },
   {
    "duration": 43432,
    "start_time": "2022-12-13T17:08:55.516Z"
   },
   {
    "duration": 47489,
    "start_time": "2022-12-13T17:09:38.956Z"
   },
   {
    "duration": 191,
    "start_time": "2022-12-13T17:11:20.898Z"
   },
   {
    "duration": 210,
    "start_time": "2022-12-13T17:11:24.658Z"
   },
   {
    "duration": 159,
    "start_time": "2022-12-13T17:11:26.527Z"
   },
   {
    "duration": 190,
    "start_time": "2022-12-13T17:12:18.258Z"
   },
   {
    "duration": 235,
    "start_time": "2022-12-13T17:12:22.154Z"
   },
   {
    "duration": 248,
    "start_time": "2022-12-13T17:12:54.643Z"
   },
   {
    "duration": 763,
    "start_time": "2022-12-13T17:13:48.128Z"
   },
   {
    "duration": 136,
    "start_time": "2022-12-13T17:13:48.893Z"
   },
   {
    "duration": 48,
    "start_time": "2022-12-13T17:13:49.034Z"
   },
   {
    "duration": 2414,
    "start_time": "2022-12-13T17:13:49.085Z"
   },
   {
    "duration": 11,
    "start_time": "2022-12-13T17:13:51.500Z"
   },
   {
    "duration": 23,
    "start_time": "2022-12-13T17:13:51.513Z"
   },
   {
    "duration": 18,
    "start_time": "2022-12-13T17:13:51.538Z"
   },
   {
    "duration": 38,
    "start_time": "2022-12-13T17:13:51.559Z"
   },
   {
    "duration": 28,
    "start_time": "2022-12-13T17:13:51.599Z"
   },
   {
    "duration": 30,
    "start_time": "2022-12-13T17:13:51.629Z"
   },
   {
    "duration": 22,
    "start_time": "2022-12-13T17:13:51.662Z"
   },
   {
    "duration": 15,
    "start_time": "2022-12-13T17:13:51.686Z"
   },
   {
    "duration": 8,
    "start_time": "2022-12-13T17:13:51.704Z"
   },
   {
    "duration": 10,
    "start_time": "2022-12-13T17:13:51.714Z"
   },
   {
    "duration": 8,
    "start_time": "2022-12-13T17:13:51.726Z"
   },
   {
    "duration": 33,
    "start_time": "2022-12-13T17:13:51.736Z"
   },
   {
    "duration": 8,
    "start_time": "2022-12-13T17:13:51.772Z"
   },
   {
    "duration": 7,
    "start_time": "2022-12-13T17:13:51.782Z"
   },
   {
    "duration": 7,
    "start_time": "2022-12-13T17:13:51.791Z"
   },
   {
    "duration": 156,
    "start_time": "2022-12-13T17:13:51.799Z"
   },
   {
    "duration": 9,
    "start_time": "2022-12-13T17:13:51.959Z"
   },
   {
    "duration": 19,
    "start_time": "2022-12-13T17:13:51.970Z"
   },
   {
    "duration": 12,
    "start_time": "2022-12-13T17:13:51.990Z"
   },
   {
    "duration": 9,
    "start_time": "2022-12-13T17:13:52.003Z"
   },
   {
    "duration": 279,
    "start_time": "2022-12-13T17:13:52.014Z"
   },
   {
    "duration": 5,
    "start_time": "2022-12-13T17:13:52.296Z"
   },
   {
    "duration": 227,
    "start_time": "2022-12-13T17:13:52.302Z"
   },
   {
    "duration": 230,
    "start_time": "2022-12-13T17:13:52.531Z"
   },
   {
    "duration": 220,
    "start_time": "2022-12-13T17:13:52.764Z"
   },
   {
    "duration": 205,
    "start_time": "2022-12-13T17:13:52.986Z"
   },
   {
    "duration": 233,
    "start_time": "2022-12-13T17:13:53.192Z"
   },
   {
    "duration": 369,
    "start_time": "2022-12-13T17:13:53.427Z"
   },
   {
    "duration": 205,
    "start_time": "2022-12-13T17:13:53.798Z"
   },
   {
    "duration": 194,
    "start_time": "2022-12-13T17:13:54.005Z"
   },
   {
    "duration": 216,
    "start_time": "2022-12-13T17:13:54.201Z"
   },
   {
    "duration": 226,
    "start_time": "2022-12-13T17:13:54.419Z"
   },
   {
    "duration": 251,
    "start_time": "2022-12-13T17:13:54.647Z"
   },
   {
    "duration": 273,
    "start_time": "2022-12-13T17:13:54.900Z"
   },
   {
    "duration": 268,
    "start_time": "2022-12-13T17:13:55.176Z"
   },
   {
    "duration": 202,
    "start_time": "2022-12-13T17:13:55.447Z"
   },
   {
    "duration": 176,
    "start_time": "2022-12-13T17:13:55.658Z"
   },
   {
    "duration": 172,
    "start_time": "2022-12-13T17:13:55.836Z"
   },
   {
    "duration": 267,
    "start_time": "2022-12-13T17:13:56.010Z"
   },
   {
    "duration": 8,
    "start_time": "2022-12-13T17:13:56.280Z"
   },
   {
    "duration": 193,
    "start_time": "2022-12-13T17:13:56.290Z"
   },
   {
    "duration": 161,
    "start_time": "2022-12-13T17:13:56.485Z"
   },
   {
    "duration": 172,
    "start_time": "2022-12-13T17:13:56.648Z"
   },
   {
    "duration": 179,
    "start_time": "2022-12-13T17:13:56.822Z"
   },
   {
    "duration": 220,
    "start_time": "2022-12-13T17:13:57.003Z"
   },
   {
    "duration": 255,
    "start_time": "2022-12-13T17:13:57.225Z"
   },
   {
    "duration": 167,
    "start_time": "2022-12-13T17:13:57.482Z"
   },
   {
    "duration": 53,
    "start_time": "2022-12-13T17:15:00.382Z"
   },
   {
    "duration": 291,
    "start_time": "2022-12-13T17:19:39.800Z"
   },
   {
    "duration": 197,
    "start_time": "2022-12-13T17:19:46.903Z"
   },
   {
    "duration": 198,
    "start_time": "2022-12-13T17:20:25.448Z"
   },
   {
    "duration": 280,
    "start_time": "2022-12-13T17:20:33.736Z"
   },
   {
    "duration": 3844,
    "start_time": "2022-12-13T17:20:48.996Z"
   },
   {
    "duration": 4527,
    "start_time": "2022-12-13T17:21:11.583Z"
   },
   {
    "duration": 4546,
    "start_time": "2022-12-13T17:21:46.792Z"
   },
   {
    "duration": 5287,
    "start_time": "2022-12-13T17:22:20.498Z"
   },
   {
    "duration": 4655,
    "start_time": "2022-12-13T17:23:15.225Z"
   },
   {
    "duration": 933,
    "start_time": "2022-12-13T17:23:37.601Z"
   },
   {
    "duration": 4444,
    "start_time": "2022-12-13T17:23:43.271Z"
   },
   {
    "duration": 166,
    "start_time": "2022-12-13T17:23:47.717Z"
   },
   {
    "duration": 36,
    "start_time": "2022-12-13T17:25:23.433Z"
   },
   {
    "duration": 257,
    "start_time": "2022-12-13T17:25:46.003Z"
   },
   {
    "duration": 26,
    "start_time": "2022-12-13T17:26:07.806Z"
   },
   {
    "duration": 237,
    "start_time": "2022-12-13T17:26:21.178Z"
   },
   {
    "duration": 4574,
    "start_time": "2022-12-13T17:27:32.025Z"
   },
   {
    "duration": 916,
    "start_time": "2022-12-13T17:29:19.571Z"
   },
   {
    "duration": 4441,
    "start_time": "2022-12-13T17:29:43.737Z"
   },
   {
    "duration": 164,
    "start_time": "2022-12-13T17:30:10.581Z"
   },
   {
    "duration": 168,
    "start_time": "2022-12-13T17:30:27.527Z"
   },
   {
    "duration": 180,
    "start_time": "2022-12-13T17:30:37.319Z"
   },
   {
    "duration": 160,
    "start_time": "2022-12-13T17:32:21.838Z"
   },
   {
    "duration": 200,
    "start_time": "2022-12-13T17:33:21.431Z"
   },
   {
    "duration": 182,
    "start_time": "2022-12-13T17:33:58.215Z"
   },
   {
    "duration": 183,
    "start_time": "2022-12-13T17:36:28.540Z"
   },
   {
    "duration": 188,
    "start_time": "2022-12-13T17:36:29.683Z"
   },
   {
    "duration": 214,
    "start_time": "2022-12-13T17:37:49.430Z"
   },
   {
    "duration": 929,
    "start_time": "2022-12-13T17:37:58.922Z"
   },
   {
    "duration": 963,
    "start_time": "2022-12-13T17:38:05.095Z"
   },
   {
    "duration": 271,
    "start_time": "2022-12-13T17:38:11.411Z"
   },
   {
    "duration": 234,
    "start_time": "2022-12-13T17:38:20.873Z"
   },
   {
    "duration": 652,
    "start_time": "2022-12-13T17:47:40.027Z"
   },
   {
    "duration": 126,
    "start_time": "2022-12-13T17:47:40.680Z"
   },
   {
    "duration": 69,
    "start_time": "2022-12-13T17:47:40.808Z"
   },
   {
    "duration": 2343,
    "start_time": "2022-12-13T17:47:40.879Z"
   },
   {
    "duration": 10,
    "start_time": "2022-12-13T17:47:43.225Z"
   },
   {
    "duration": 17,
    "start_time": "2022-12-13T17:47:43.237Z"
   },
   {
    "duration": 17,
    "start_time": "2022-12-13T17:47:43.267Z"
   },
   {
    "duration": 35,
    "start_time": "2022-12-13T17:47:43.286Z"
   },
   {
    "duration": 49,
    "start_time": "2022-12-13T17:47:43.322Z"
   },
   {
    "duration": 9,
    "start_time": "2022-12-13T17:47:43.375Z"
   },
   {
    "duration": 25,
    "start_time": "2022-12-13T17:47:43.386Z"
   },
   {
    "duration": 11,
    "start_time": "2022-12-13T17:47:43.413Z"
   },
   {
    "duration": 21,
    "start_time": "2022-12-13T17:47:43.425Z"
   },
   {
    "duration": 22,
    "start_time": "2022-12-13T17:47:43.448Z"
   },
   {
    "duration": 22,
    "start_time": "2022-12-13T17:47:43.472Z"
   },
   {
    "duration": 111,
    "start_time": "2022-12-13T17:47:43.496Z"
   },
   {
    "duration": 17,
    "start_time": "2022-12-13T17:47:43.609Z"
   },
   {
    "duration": 18,
    "start_time": "2022-12-13T17:47:43.629Z"
   },
   {
    "duration": 40,
    "start_time": "2022-12-13T17:47:43.649Z"
   },
   {
    "duration": 146,
    "start_time": "2022-12-13T17:47:43.692Z"
   },
   {
    "duration": 4,
    "start_time": "2022-12-13T17:47:43.840Z"
   },
   {
    "duration": 30,
    "start_time": "2022-12-13T17:47:43.846Z"
   },
   {
    "duration": 10,
    "start_time": "2022-12-13T17:47:43.878Z"
   },
   {
    "duration": 14,
    "start_time": "2022-12-13T17:47:43.890Z"
   },
   {
    "duration": 244,
    "start_time": "2022-12-13T17:47:43.906Z"
   },
   {
    "duration": 4,
    "start_time": "2022-12-13T17:47:44.152Z"
   },
   {
    "duration": 219,
    "start_time": "2022-12-13T17:47:44.158Z"
   },
   {
    "duration": 264,
    "start_time": "2022-12-13T17:47:44.381Z"
   },
   {
    "duration": 252,
    "start_time": "2022-12-13T17:47:44.647Z"
   },
   {
    "duration": 215,
    "start_time": "2022-12-13T17:47:44.900Z"
   },
   {
    "duration": 251,
    "start_time": "2022-12-13T17:47:45.117Z"
   },
   {
    "duration": 327,
    "start_time": "2022-12-13T17:47:45.371Z"
   },
   {
    "duration": 207,
    "start_time": "2022-12-13T17:47:45.701Z"
   },
   {
    "duration": 209,
    "start_time": "2022-12-13T17:47:45.910Z"
   },
   {
    "duration": 218,
    "start_time": "2022-12-13T17:47:46.121Z"
   },
   {
    "duration": 227,
    "start_time": "2022-12-13T17:47:46.341Z"
   },
   {
    "duration": 215,
    "start_time": "2022-12-13T17:47:46.571Z"
   },
   {
    "duration": 214,
    "start_time": "2022-12-13T17:47:46.788Z"
   },
   {
    "duration": 238,
    "start_time": "2022-12-13T17:47:47.003Z"
   },
   {
    "duration": 189,
    "start_time": "2022-12-13T17:47:47.243Z"
   },
   {
    "duration": 178,
    "start_time": "2022-12-13T17:47:47.434Z"
   },
   {
    "duration": 180,
    "start_time": "2022-12-13T17:47:47.615Z"
   },
   {
    "duration": 272,
    "start_time": "2022-12-13T17:47:47.797Z"
   },
   {
    "duration": 7,
    "start_time": "2022-12-13T17:47:48.071Z"
   },
   {
    "duration": 164,
    "start_time": "2022-12-13T17:47:48.080Z"
   },
   {
    "duration": 166,
    "start_time": "2022-12-13T17:47:48.246Z"
   },
   {
    "duration": 161,
    "start_time": "2022-12-13T17:47:48.414Z"
   },
   {
    "duration": 163,
    "start_time": "2022-12-13T17:47:48.577Z"
   },
   {
    "duration": 155,
    "start_time": "2022-12-13T17:47:48.743Z"
   },
   {
    "duration": 165,
    "start_time": "2022-12-13T17:47:48.900Z"
   },
   {
    "duration": 166,
    "start_time": "2022-12-13T17:47:49.069Z"
   },
   {
    "duration": 206,
    "start_time": "2022-12-13T17:47:49.237Z"
   },
   {
    "duration": 227,
    "start_time": "2022-12-13T17:47:49.445Z"
   },
   {
    "duration": 166,
    "start_time": "2022-12-13T17:47:49.674Z"
   },
   {
    "duration": 312,
    "start_time": "2022-12-13T18:08:27.425Z"
   },
   {
    "duration": 57094,
    "start_time": "2022-12-13T18:09:46.760Z"
   },
   {
    "duration": 42243,
    "start_time": "2022-12-13T18:11:19.978Z"
   },
   {
    "duration": 43144,
    "start_time": "2022-12-13T18:12:25.514Z"
   },
   {
    "duration": 716,
    "start_time": "2022-12-13T18:13:39.729Z"
   },
   {
    "duration": 111,
    "start_time": "2022-12-13T18:13:40.447Z"
   },
   {
    "duration": 32,
    "start_time": "2022-12-13T18:13:40.560Z"
   },
   {
    "duration": 2272,
    "start_time": "2022-12-13T18:13:40.595Z"
   },
   {
    "duration": 10,
    "start_time": "2022-12-13T18:13:42.869Z"
   },
   {
    "duration": 20,
    "start_time": "2022-12-13T18:13:42.881Z"
   },
   {
    "duration": 16,
    "start_time": "2022-12-13T18:13:42.903Z"
   },
   {
    "duration": 44,
    "start_time": "2022-12-13T18:13:42.921Z"
   },
   {
    "duration": 29,
    "start_time": "2022-12-13T18:13:42.967Z"
   },
   {
    "duration": 6,
    "start_time": "2022-12-13T18:13:43.000Z"
   },
   {
    "duration": 10,
    "start_time": "2022-12-13T18:13:43.008Z"
   },
   {
    "duration": 5,
    "start_time": "2022-12-13T18:13:43.020Z"
   },
   {
    "duration": 30,
    "start_time": "2022-12-13T18:13:43.026Z"
   },
   {
    "duration": 9,
    "start_time": "2022-12-13T18:13:43.058Z"
   },
   {
    "duration": 9,
    "start_time": "2022-12-13T18:13:43.069Z"
   },
   {
    "duration": 13,
    "start_time": "2022-12-13T18:13:43.079Z"
   },
   {
    "duration": 8,
    "start_time": "2022-12-13T18:13:43.093Z"
   },
   {
    "duration": 6,
    "start_time": "2022-12-13T18:13:43.103Z"
   },
   {
    "duration": 45,
    "start_time": "2022-12-13T18:13:43.111Z"
   },
   {
    "duration": 125,
    "start_time": "2022-12-13T18:13:43.158Z"
   },
   {
    "duration": 5,
    "start_time": "2022-12-13T18:13:43.285Z"
   },
   {
    "duration": 15,
    "start_time": "2022-12-13T18:13:43.291Z"
   },
   {
    "duration": 17,
    "start_time": "2022-12-13T18:13:43.307Z"
   },
   {
    "duration": 15,
    "start_time": "2022-12-13T18:13:43.325Z"
   },
   {
    "duration": 241,
    "start_time": "2022-12-13T18:13:43.342Z"
   },
   {
    "duration": 4,
    "start_time": "2022-12-13T18:13:43.585Z"
   },
   {
    "duration": 224,
    "start_time": "2022-12-13T18:13:43.591Z"
   },
   {
    "duration": 197,
    "start_time": "2022-12-13T18:13:43.819Z"
   },
   {
    "duration": 193,
    "start_time": "2022-12-13T18:13:44.018Z"
   },
   {
    "duration": 202,
    "start_time": "2022-12-13T18:13:44.213Z"
   },
   {
    "duration": 271,
    "start_time": "2022-12-13T18:13:44.417Z"
   },
   {
    "duration": 327,
    "start_time": "2022-12-13T18:13:44.691Z"
   },
   {
    "duration": 202,
    "start_time": "2022-12-13T18:13:45.020Z"
   },
   {
    "duration": 192,
    "start_time": "2022-12-13T18:13:45.224Z"
   },
   {
    "duration": 218,
    "start_time": "2022-12-13T18:13:45.418Z"
   },
   {
    "duration": 204,
    "start_time": "2022-12-13T18:13:45.638Z"
   },
   {
    "duration": 211,
    "start_time": "2022-12-13T18:13:45.844Z"
   },
   {
    "duration": 217,
    "start_time": "2022-12-13T18:13:46.056Z"
   },
   {
    "duration": 247,
    "start_time": "2022-12-13T18:13:46.275Z"
   },
   {
    "duration": 196,
    "start_time": "2022-12-13T18:13:46.525Z"
   },
   {
    "duration": 174,
    "start_time": "2022-12-13T18:13:46.723Z"
   },
   {
    "duration": 180,
    "start_time": "2022-12-13T18:13:46.898Z"
   },
   {
    "duration": 255,
    "start_time": "2022-12-13T18:13:47.079Z"
   },
   {
    "duration": 8,
    "start_time": "2022-12-13T18:13:47.335Z"
   },
   {
    "duration": 165,
    "start_time": "2022-12-13T18:13:47.355Z"
   },
   {
    "duration": 170,
    "start_time": "2022-12-13T18:13:47.522Z"
   },
   {
    "duration": 153,
    "start_time": "2022-12-13T18:13:47.693Z"
   },
   {
    "duration": 151,
    "start_time": "2022-12-13T18:13:47.848Z"
   },
   {
    "duration": 142,
    "start_time": "2022-12-13T18:13:48.000Z"
   },
   {
    "duration": 158,
    "start_time": "2022-12-13T18:13:48.144Z"
   },
   {
    "duration": 159,
    "start_time": "2022-12-13T18:13:48.304Z"
   },
   {
    "duration": 184,
    "start_time": "2022-12-13T18:13:48.465Z"
   },
   {
    "duration": 220,
    "start_time": "2022-12-13T18:13:48.655Z"
   },
   {
    "duration": 187,
    "start_time": "2022-12-13T18:13:48.877Z"
   },
   {
    "duration": 652,
    "start_time": "2022-12-14T05:02:52.826Z"
   },
   {
    "duration": 106,
    "start_time": "2022-12-14T05:02:53.480Z"
   },
   {
    "duration": 28,
    "start_time": "2022-12-14T05:02:53.587Z"
   },
   {
    "duration": 2020,
    "start_time": "2022-12-14T05:02:53.617Z"
   },
   {
    "duration": 11,
    "start_time": "2022-12-14T05:02:55.639Z"
   },
   {
    "duration": 28,
    "start_time": "2022-12-14T05:02:55.651Z"
   },
   {
    "duration": 18,
    "start_time": "2022-12-14T05:02:55.681Z"
   },
   {
    "duration": 50,
    "start_time": "2022-12-14T05:02:55.700Z"
   },
   {
    "duration": 28,
    "start_time": "2022-12-14T05:02:55.751Z"
   },
   {
    "duration": 6,
    "start_time": "2022-12-14T05:02:55.782Z"
   },
   {
    "duration": 13,
    "start_time": "2022-12-14T05:02:55.789Z"
   },
   {
    "duration": 9,
    "start_time": "2022-12-14T05:02:55.804Z"
   },
   {
    "duration": 23,
    "start_time": "2022-12-14T05:02:55.814Z"
   },
   {
    "duration": 8,
    "start_time": "2022-12-14T05:02:55.838Z"
   },
   {
    "duration": 12,
    "start_time": "2022-12-14T05:02:55.848Z"
   },
   {
    "duration": 21,
    "start_time": "2022-12-14T05:02:55.861Z"
   },
   {
    "duration": 9,
    "start_time": "2022-12-14T05:02:55.883Z"
   },
   {
    "duration": 8,
    "start_time": "2022-12-14T05:02:55.893Z"
   },
   {
    "duration": 14,
    "start_time": "2022-12-14T05:02:55.902Z"
   },
   {
    "duration": 140,
    "start_time": "2022-12-14T05:02:55.918Z"
   },
   {
    "duration": 5,
    "start_time": "2022-12-14T05:02:56.059Z"
   },
   {
    "duration": 23,
    "start_time": "2022-12-14T05:02:56.065Z"
   },
   {
    "duration": 34,
    "start_time": "2022-12-14T05:02:56.090Z"
   },
   {
    "duration": 24,
    "start_time": "2022-12-14T05:02:56.126Z"
   },
   {
    "duration": 219,
    "start_time": "2022-12-14T05:02:56.152Z"
   },
   {
    "duration": 4,
    "start_time": "2022-12-14T05:02:56.373Z"
   },
   {
    "duration": 190,
    "start_time": "2022-12-14T05:02:56.379Z"
   },
   {
    "duration": 219,
    "start_time": "2022-12-14T05:02:56.573Z"
   },
   {
    "duration": 191,
    "start_time": "2022-12-14T05:02:56.794Z"
   },
   {
    "duration": 196,
    "start_time": "2022-12-14T05:02:56.987Z"
   },
   {
    "duration": 199,
    "start_time": "2022-12-14T05:02:57.184Z"
   },
   {
    "duration": 282,
    "start_time": "2022-12-14T05:02:57.384Z"
   },
   {
    "duration": 187,
    "start_time": "2022-12-14T05:02:57.667Z"
   },
   {
    "duration": 189,
    "start_time": "2022-12-14T05:02:57.855Z"
   },
   {
    "duration": 205,
    "start_time": "2022-12-14T05:02:58.046Z"
   },
   {
    "duration": 200,
    "start_time": "2022-12-14T05:02:58.253Z"
   },
   {
    "duration": 196,
    "start_time": "2022-12-14T05:02:58.455Z"
   },
   {
    "duration": 198,
    "start_time": "2022-12-14T05:02:58.653Z"
   },
   {
    "duration": 227,
    "start_time": "2022-12-14T05:02:58.853Z"
   },
   {
    "duration": 177,
    "start_time": "2022-12-14T05:02:59.082Z"
   },
   {
    "duration": 167,
    "start_time": "2022-12-14T05:02:59.261Z"
   },
   {
    "duration": 167,
    "start_time": "2022-12-14T05:02:59.429Z"
   },
   {
    "duration": 237,
    "start_time": "2022-12-14T05:02:59.598Z"
   },
   {
    "duration": 8,
    "start_time": "2022-12-14T05:02:59.836Z"
   },
   {
    "duration": 165,
    "start_time": "2022-12-14T05:02:59.845Z"
   },
   {
    "duration": 152,
    "start_time": "2022-12-14T05:03:00.012Z"
   },
   {
    "duration": 148,
    "start_time": "2022-12-14T05:03:00.166Z"
   },
   {
    "duration": 152,
    "start_time": "2022-12-14T05:03:00.315Z"
   },
   {
    "duration": 141,
    "start_time": "2022-12-14T05:03:00.469Z"
   },
   {
    "duration": 153,
    "start_time": "2022-12-14T05:03:00.611Z"
   },
   {
    "duration": 155,
    "start_time": "2022-12-14T05:03:00.766Z"
   },
   {
    "duration": 180,
    "start_time": "2022-12-14T05:03:00.923Z"
   },
   {
    "duration": 215,
    "start_time": "2022-12-14T05:03:01.105Z"
   },
   {
    "duration": 160,
    "start_time": "2022-12-14T05:03:01.321Z"
   },
   {
    "duration": 72,
    "start_time": "2022-12-14T08:22:57.072Z"
   },
   {
    "duration": 927,
    "start_time": "2022-12-14T08:23:57.007Z"
   },
   {
    "duration": 173,
    "start_time": "2022-12-14T08:23:57.937Z"
   },
   {
    "duration": 28,
    "start_time": "2022-12-14T08:23:58.111Z"
   },
   {
    "duration": 2195,
    "start_time": "2022-12-14T08:23:58.141Z"
   },
   {
    "duration": 13,
    "start_time": "2022-12-14T08:24:00.339Z"
   },
   {
    "duration": 26,
    "start_time": "2022-12-14T08:24:00.353Z"
   },
   {
    "duration": 30,
    "start_time": "2022-12-14T08:24:00.381Z"
   },
   {
    "duration": 28,
    "start_time": "2022-12-14T08:24:00.413Z"
   },
   {
    "duration": 26,
    "start_time": "2022-12-14T08:24:00.443Z"
   },
   {
    "duration": 8,
    "start_time": "2022-12-14T08:24:00.471Z"
   },
   {
    "duration": 35,
    "start_time": "2022-12-14T08:24:00.482Z"
   },
   {
    "duration": 8,
    "start_time": "2022-12-14T08:24:00.519Z"
   },
   {
    "duration": 16,
    "start_time": "2022-12-14T08:24:00.529Z"
   },
   {
    "duration": 15,
    "start_time": "2022-12-14T08:24:00.549Z"
   },
   {
    "duration": 12,
    "start_time": "2022-12-14T08:24:00.566Z"
   },
   {
    "duration": 47,
    "start_time": "2022-12-14T08:24:00.579Z"
   },
   {
    "duration": 11,
    "start_time": "2022-12-14T08:24:00.629Z"
   },
   {
    "duration": 12,
    "start_time": "2022-12-14T08:24:00.641Z"
   },
   {
    "duration": 47,
    "start_time": "2022-12-14T08:24:00.655Z"
   },
   {
    "duration": 116,
    "start_time": "2022-12-14T08:24:00.703Z"
   },
   {
    "duration": 5,
    "start_time": "2022-12-14T08:24:00.821Z"
   },
   {
    "duration": 26,
    "start_time": "2022-12-14T08:24:00.828Z"
   },
   {
    "duration": 20,
    "start_time": "2022-12-14T08:24:00.856Z"
   },
   {
    "duration": 40,
    "start_time": "2022-12-14T08:24:00.879Z"
   },
   {
    "duration": 265,
    "start_time": "2022-12-14T08:24:00.920Z"
   },
   {
    "duration": 5,
    "start_time": "2022-12-14T08:24:01.192Z"
   },
   {
    "duration": 214,
    "start_time": "2022-12-14T08:24:01.199Z"
   },
   {
    "duration": 214,
    "start_time": "2022-12-14T08:24:01.415Z"
   },
   {
    "duration": 228,
    "start_time": "2022-12-14T08:24:01.631Z"
   },
   {
    "duration": 208,
    "start_time": "2022-12-14T08:24:01.861Z"
   },
   {
    "duration": 224,
    "start_time": "2022-12-14T08:24:02.070Z"
   },
   {
    "duration": 313,
    "start_time": "2022-12-14T08:24:02.297Z"
   },
   {
    "duration": 215,
    "start_time": "2022-12-14T08:24:02.612Z"
   },
   {
    "duration": 203,
    "start_time": "2022-12-14T08:24:02.829Z"
   },
   {
    "duration": 224,
    "start_time": "2022-12-14T08:24:03.044Z"
   },
   {
    "duration": 214,
    "start_time": "2022-12-14T08:24:03.269Z"
   },
   {
    "duration": 222,
    "start_time": "2022-12-14T08:24:03.485Z"
   },
   {
    "duration": 218,
    "start_time": "2022-12-14T08:24:03.709Z"
   },
   {
    "duration": 293,
    "start_time": "2022-12-14T08:24:03.930Z"
   },
   {
    "duration": 273,
    "start_time": "2022-12-14T08:24:04.226Z"
   },
   {
    "duration": 158,
    "start_time": "2022-12-14T08:24:04.503Z"
   },
   {
    "duration": 175,
    "start_time": "2022-12-14T08:24:04.663Z"
   },
   {
    "duration": 263,
    "start_time": "2022-12-14T08:24:04.840Z"
   },
   {
    "duration": 9,
    "start_time": "2022-12-14T08:24:05.105Z"
   },
   {
    "duration": 21,
    "start_time": "2022-12-14T08:24:05.116Z"
   },
   {
    "duration": 263,
    "start_time": "2022-12-14T08:24:05.139Z"
   },
   {
    "duration": 301,
    "start_time": "2022-12-14T08:24:05.405Z"
   },
   {
    "duration": 188,
    "start_time": "2022-12-14T08:24:05.715Z"
   },
   {
    "duration": 24,
    "start_time": "2022-12-14T08:26:27.198Z"
   },
   {
    "duration": 33,
    "start_time": "2022-12-14T08:26:39.631Z"
   },
   {
    "duration": 31,
    "start_time": "2022-12-14T08:26:47.715Z"
   },
   {
    "duration": 94,
    "start_time": "2022-12-14T08:28:24.210Z"
   },
   {
    "duration": 32609,
    "start_time": "2022-12-14T08:28:31.883Z"
   },
   {
    "duration": 38002,
    "start_time": "2022-12-14T08:29:23.962Z"
   },
   {
    "duration": 29,
    "start_time": "2022-12-14T08:32:24.966Z"
   },
   {
    "duration": 147,
    "start_time": "2022-12-14T08:32:34.396Z"
   },
   {
    "duration": 1395,
    "start_time": "2022-12-14T08:33:03.268Z"
   },
   {
    "duration": 1413,
    "start_time": "2022-12-14T08:33:23.722Z"
   },
   {
    "duration": 1263,
    "start_time": "2022-12-14T08:33:41.462Z"
   },
   {
    "duration": 24013,
    "start_time": "2022-12-14T08:33:55.016Z"
   },
   {
    "duration": 20484,
    "start_time": "2022-12-14T08:34:31.242Z"
   },
   {
    "duration": 20251,
    "start_time": "2022-12-14T08:35:05.062Z"
   },
   {
    "duration": 47,
    "start_time": "2022-12-14T08:36:02.752Z"
   },
   {
    "duration": 1260,
    "start_time": "2022-12-14T08:36:38.288Z"
   },
   {
    "duration": 27,
    "start_time": "2022-12-14T08:36:55.251Z"
   },
   {
    "duration": 714,
    "start_time": "2022-12-14T08:37:00.111Z"
   },
   {
    "duration": 20,
    "start_time": "2022-12-14T08:37:22.485Z"
   },
   {
    "duration": 183,
    "start_time": "2022-12-14T08:41:07.134Z"
   },
   {
    "duration": 201,
    "start_time": "2022-12-14T08:41:20.573Z"
   },
   {
    "duration": 24712,
    "start_time": "2022-12-14T08:41:40.705Z"
   },
   {
    "duration": 20362,
    "start_time": "2022-12-14T08:44:20.352Z"
   },
   {
    "duration": 20075,
    "start_time": "2022-12-14T08:45:12.290Z"
   },
   {
    "duration": 218,
    "start_time": "2022-12-14T08:45:33.588Z"
   },
   {
    "duration": 1247,
    "start_time": "2022-12-14T08:46:31.443Z"
   },
   {
    "duration": 1242,
    "start_time": "2022-12-14T08:46:44.004Z"
   },
   {
    "duration": 25580,
    "start_time": "2022-12-14T08:47:18.316Z"
   },
   {
    "duration": 157,
    "start_time": "2022-12-14T08:49:30.315Z"
   },
   {
    "duration": 20300,
    "start_time": "2022-12-14T08:49:56.712Z"
   },
   {
    "duration": 21462,
    "start_time": "2022-12-14T08:52:29.509Z"
   },
   {
    "duration": 158,
    "start_time": "2022-12-14T08:53:14.850Z"
   },
   {
    "duration": 162,
    "start_time": "2022-12-14T08:53:29.913Z"
   },
   {
    "duration": 128,
    "start_time": "2022-12-14T08:53:53.707Z"
   },
   {
    "duration": 135,
    "start_time": "2022-12-14T08:53:58.109Z"
   },
   {
    "duration": 152,
    "start_time": "2022-12-14T08:55:49.009Z"
   },
   {
    "duration": 206,
    "start_time": "2022-12-14T08:55:50.242Z"
   },
   {
    "duration": 176,
    "start_time": "2022-12-14T08:55:51.242Z"
   },
   {
    "duration": 95,
    "start_time": "2022-12-14T08:56:39.733Z"
   },
   {
    "duration": 162,
    "start_time": "2022-12-14T08:56:46.253Z"
   },
   {
    "duration": 186,
    "start_time": "2022-12-14T08:57:07.114Z"
   },
   {
    "duration": 185,
    "start_time": "2022-12-14T08:57:19.908Z"
   },
   {
    "duration": 178,
    "start_time": "2022-12-14T08:57:23.312Z"
   },
   {
    "duration": 155,
    "start_time": "2022-12-14T08:57:58.437Z"
   },
   {
    "duration": 157,
    "start_time": "2022-12-14T08:58:14.722Z"
   },
   {
    "duration": 195,
    "start_time": "2022-12-14T08:58:26.844Z"
   },
   {
    "duration": 183,
    "start_time": "2022-12-14T09:04:18.895Z"
   },
   {
    "duration": 280,
    "start_time": "2022-12-14T09:04:42.685Z"
   },
   {
    "duration": 180,
    "start_time": "2022-12-14T09:04:51.624Z"
   },
   {
    "duration": 157,
    "start_time": "2022-12-14T09:04:59.572Z"
   },
   {
    "duration": 186,
    "start_time": "2022-12-14T09:06:48.304Z"
   },
   {
    "duration": 146,
    "start_time": "2022-12-14T09:09:06.214Z"
   },
   {
    "duration": 73,
    "start_time": "2022-12-14T09:10:36.996Z"
   },
   {
    "duration": 185,
    "start_time": "2022-12-14T09:10:40.842Z"
   },
   {
    "duration": 171,
    "start_time": "2022-12-14T09:10:50.832Z"
   },
   {
    "duration": 14,
    "start_time": "2022-12-14T09:15:37.355Z"
   },
   {
    "duration": 488,
    "start_time": "2022-12-14T09:16:09.262Z"
   },
   {
    "duration": 50,
    "start_time": "2022-12-14T09:16:25.912Z"
   },
   {
    "duration": 19,
    "start_time": "2022-12-14T09:16:29.709Z"
   },
   {
    "duration": 21,
    "start_time": "2022-12-14T09:16:56.306Z"
   },
   {
    "duration": 119,
    "start_time": "2022-12-14T09:17:56.515Z"
   },
   {
    "duration": 132,
    "start_time": "2022-12-14T09:18:06.365Z"
   },
   {
    "duration": 125,
    "start_time": "2022-12-14T09:22:20.629Z"
   },
   {
    "duration": 147,
    "start_time": "2022-12-14T09:22:36.092Z"
   },
   {
    "duration": 151,
    "start_time": "2022-12-14T09:28:58.182Z"
   },
   {
    "duration": 1123,
    "start_time": "2022-12-15T06:29:08.375Z"
   },
   {
    "duration": 97,
    "start_time": "2022-12-15T06:29:09.500Z"
   },
   {
    "duration": 27,
    "start_time": "2022-12-15T06:29:09.599Z"
   },
   {
    "duration": 1796,
    "start_time": "2022-12-15T06:29:09.628Z"
   },
   {
    "duration": 9,
    "start_time": "2022-12-15T06:29:11.426Z"
   },
   {
    "duration": 16,
    "start_time": "2022-12-15T06:29:11.436Z"
   },
   {
    "duration": 13,
    "start_time": "2022-12-15T06:29:11.453Z"
   },
   {
    "duration": 55,
    "start_time": "2022-12-15T06:29:11.468Z"
   },
   {
    "duration": 25,
    "start_time": "2022-12-15T06:29:11.525Z"
   },
   {
    "duration": 17,
    "start_time": "2022-12-15T06:29:11.553Z"
   },
   {
    "duration": 15,
    "start_time": "2022-12-15T06:29:11.571Z"
   },
   {
    "duration": 4,
    "start_time": "2022-12-15T06:29:11.588Z"
   },
   {
    "duration": 14,
    "start_time": "2022-12-15T06:29:11.594Z"
   },
   {
    "duration": 15,
    "start_time": "2022-12-15T06:29:11.610Z"
   },
   {
    "duration": 7,
    "start_time": "2022-12-15T06:29:11.626Z"
   },
   {
    "duration": 11,
    "start_time": "2022-12-15T06:29:11.635Z"
   },
   {
    "duration": 7,
    "start_time": "2022-12-15T06:29:11.647Z"
   },
   {
    "duration": 6,
    "start_time": "2022-12-15T06:29:11.655Z"
   },
   {
    "duration": 9,
    "start_time": "2022-12-15T06:29:11.662Z"
   },
   {
    "duration": 128,
    "start_time": "2022-12-15T06:29:11.672Z"
   },
   {
    "duration": 4,
    "start_time": "2022-12-15T06:29:11.801Z"
   },
   {
    "duration": 16,
    "start_time": "2022-12-15T06:29:11.807Z"
   },
   {
    "duration": 20,
    "start_time": "2022-12-15T06:29:11.825Z"
   },
   {
    "duration": 10,
    "start_time": "2022-12-15T06:29:11.846Z"
   },
   {
    "duration": 200,
    "start_time": "2022-12-15T06:29:11.857Z"
   },
   {
    "duration": 5,
    "start_time": "2022-12-15T06:29:12.058Z"
   },
   {
    "duration": 167,
    "start_time": "2022-12-15T06:29:12.064Z"
   },
   {
    "duration": 172,
    "start_time": "2022-12-15T06:29:12.233Z"
   },
   {
    "duration": 171,
    "start_time": "2022-12-15T06:29:12.407Z"
   },
   {
    "duration": 189,
    "start_time": "2022-12-15T06:29:12.580Z"
   },
   {
    "duration": 200,
    "start_time": "2022-12-15T06:29:12.771Z"
   },
   {
    "duration": 175,
    "start_time": "2022-12-15T06:29:12.973Z"
   },
   {
    "duration": 167,
    "start_time": "2022-12-15T06:29:13.149Z"
   },
   {
    "duration": 165,
    "start_time": "2022-12-15T06:29:13.322Z"
   },
   {
    "duration": 206,
    "start_time": "2022-12-15T06:29:13.489Z"
   },
   {
    "duration": 300,
    "start_time": "2022-12-15T06:29:13.696Z"
   },
   {
    "duration": 177,
    "start_time": "2022-12-15T06:29:13.997Z"
   },
   {
    "duration": 182,
    "start_time": "2022-12-15T06:29:14.175Z"
   },
   {
    "duration": 215,
    "start_time": "2022-12-15T06:29:14.359Z"
   },
   {
    "duration": 169,
    "start_time": "2022-12-15T06:29:14.576Z"
   },
   {
    "duration": 151,
    "start_time": "2022-12-15T06:29:14.748Z"
   },
   {
    "duration": 153,
    "start_time": "2022-12-15T06:29:14.900Z"
   },
   {
    "duration": 163,
    "start_time": "2022-12-15T06:29:15.054Z"
   },
   {
    "duration": 14,
    "start_time": "2022-12-15T06:29:15.230Z"
   },
   {
    "duration": 152,
    "start_time": "2022-12-15T06:29:15.245Z"
   },
   {
    "duration": 169,
    "start_time": "2022-12-15T06:29:15.398Z"
   },
   {
    "duration": 228,
    "start_time": "2022-12-15T06:29:15.569Z"
   },
   {
    "duration": 159,
    "start_time": "2022-12-15T06:29:15.798Z"
   },
   {
    "duration": 189,
    "start_time": "2022-12-15T06:29:15.959Z"
   },
   {
    "duration": 200,
    "start_time": "2022-12-15T06:29:16.150Z"
   },
   {
    "duration": 153,
    "start_time": "2022-12-15T06:29:16.351Z"
   }
  ],
  "kernelspec": {
   "display_name": "Python 3 (ipykernel)",
   "language": "python",
   "name": "python3"
  },
  "language_info": {
   "codemirror_mode": {
    "name": "ipython",
    "version": 3
   },
   "file_extension": ".py",
   "mimetype": "text/x-python",
   "name": "python",
   "nbconvert_exporter": "python",
   "pygments_lexer": "ipython3",
   "version": "3.9.5"
  },
  "toc": {
   "base_numbering": 1,
   "nav_menu": {},
   "number_sections": true,
   "sideBar": true,
   "skip_h1_title": true,
   "title_cell": "Table of Contents",
   "title_sidebar": "Contents",
   "toc_cell": false,
   "toc_position": {},
   "toc_section_display": true,
   "toc_window_display": false
  }
 },
 "nbformat": 4,
 "nbformat_minor": 2
}
