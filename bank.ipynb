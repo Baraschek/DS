{
 "cells": [
  {
   "cell_type": "markdown",
   "metadata": {
    "toc": true
   },
   "source": [
    "<h1>Содержание<span class=\"tocSkip\"></span></h1>\n",
    "<div class=\"toc\"><ul class=\"toc-item\"><li><span><a href=\"#Подготовка-данных\" data-toc-modified-id=\"Подготовка-данных-1\"><span class=\"toc-item-num\">1&nbsp;&nbsp;</span>Подготовка данных</a></span><ul class=\"toc-item\"><li><span><a href=\"#Подготовка-данных\" data-toc-modified-id=\"Подготовка-данных-1.1\"><span class=\"toc-item-num\">1.1&nbsp;&nbsp;</span>Подготовка данных</a></span></li><li><span><a href=\"#Кодирование-и-разбивка\" data-toc-modified-id=\"Кодирование-и-разбивка-1.2\"><span class=\"toc-item-num\">1.2&nbsp;&nbsp;</span>Кодирование и разбивка</a></span></li><li><span><a href=\"#Вывод\" data-toc-modified-id=\"Вывод-1.3\"><span class=\"toc-item-num\">1.3&nbsp;&nbsp;</span>Вывод</a></span></li></ul></li><li><span><a href=\"#Исследование-задачи\" data-toc-modified-id=\"Исследование-задачи-2\"><span class=\"toc-item-num\">2&nbsp;&nbsp;</span>Исследование задачи</a></span><ul class=\"toc-item\"><li><span><a href=\"#Обучение-моделей-(логическая-регрессия-и-случайный-лес)\" data-toc-modified-id=\"Обучение-моделей-(логическая-регрессия-и-случайный-лес)-2.1\"><span class=\"toc-item-num\">2.1&nbsp;&nbsp;</span>Обучение моделей (логическая регрессия и случайный лес)</a></span></li><li><span><a href=\"#Исследование-баланса-классов-целевого-признака\" data-toc-modified-id=\"Исследование-баланса-классов-целевого-признака-2.2\"><span class=\"toc-item-num\">2.2&nbsp;&nbsp;</span>Исследование баланса классов целевого признака</a></span></li><li><span><a href=\"#Вывод\" data-toc-modified-id=\"Вывод-2.3\"><span class=\"toc-item-num\">2.3&nbsp;&nbsp;</span>Вывод</a></span></li></ul></li><li><span><a href=\"#Борьба-с-дисбалансом\" data-toc-modified-id=\"Борьба-с-дисбалансом-3\"><span class=\"toc-item-num\">3&nbsp;&nbsp;</span>Борьба с дисбалансом</a></span><ul class=\"toc-item\"><li><span><a href=\"#Изменение-порога\" data-toc-modified-id=\"Изменение-порога-3.1\"><span class=\"toc-item-num\">3.1&nbsp;&nbsp;</span>Изменение порога</a></span></li><li><span><a href=\"#class_weight\" data-toc-modified-id=\"class_weight-3.2\"><span class=\"toc-item-num\">3.2&nbsp;&nbsp;</span>class_weight</a></span></li><li><span><a href=\"#Изменение-выборки-(уменьшение)\" data-toc-modified-id=\"Изменение-выборки-(уменьшение)-3.3\"><span class=\"toc-item-num\">3.3&nbsp;&nbsp;</span>Изменение выборки (уменьшение)</a></span></li><li><span><a href=\"#Вывод\" data-toc-modified-id=\"Вывод-3.4\"><span class=\"toc-item-num\">3.4&nbsp;&nbsp;</span>Вывод</a></span></li></ul></li><li><span><a href=\"#Тестирование-модели\" data-toc-modified-id=\"Тестирование-модели-4\"><span class=\"toc-item-num\">4&nbsp;&nbsp;</span>Тестирование модели</a></span></li><li><span><a href=\"#Вывод\" data-toc-modified-id=\"Вывод-5\"><span class=\"toc-item-num\">5&nbsp;&nbsp;</span>Вывод</a></span></li><li><span><a href=\"#Чек-лист-готовности-проекта\" data-toc-modified-id=\"Чек-лист-готовности-проекта-6\"><span class=\"toc-item-num\">6&nbsp;&nbsp;</span>Чек-лист готовности проекта</a></span></li></ul></div>"
   ]
  },
  {
   "cell_type": "markdown",
   "metadata": {},
   "source": [
    "# Отток клиентов"
   ]
  },
  {
   "cell_type": "markdown",
   "metadata": {},
   "source": [
    "Из «Бета-Банка» стали уходить клиенты. Каждый месяц. Немного, но заметно. Банковские маркетологи посчитали: сохранять текущих клиентов дешевле, чем привлекать новых.\n",
    "\n",
    "Нужно спрогнозировать, уйдёт клиент из банка в ближайшее время или нет. Вам предоставлены исторические данные о поведении клиентов и расторжении договоров с банком. \n",
    "\n",
    "Постройте модель с предельно большим значением *F1*-меры. Чтобы сдать проект успешно, нужно довести метрику до 0.59. Проверьте *F1*-меру на тестовой выборке самостоятельно.\n",
    "\n",
    "Дополнительно измеряйте *AUC-ROC*, сравнивайте её значение с *F1*-мерой.\n",
    "\n",
    "Источник данных: [https://www.kaggle.com/barelydedicated/bank-customer-churn-modeling](https://www.kaggle.com/barelydedicated/bank-customer-churn-modeling)"
   ]
  },
  {
   "cell_type": "markdown",
   "metadata": {},
   "source": [
    "## Подготовка данных"
   ]
  },
  {
   "cell_type": "markdown",
   "metadata": {},
   "source": [
    "### Подготовка данных"
   ]
  },
  {
   "cell_type": "code",
   "execution_count": 1,
   "metadata": {},
   "outputs": [],
   "source": [
    "import pandas as pd\n",
    "import numpy as np\n",
    "from sklearn.model_selection import train_test_split\n",
    "from sklearn.utils import shuffle\n",
    "from sklearn.preprocessing import StandardScaler, OrdinalEncoder\n",
    "from sklearn.metrics import f1_score, mean_absolute_error, accuracy_score, roc_auc_score\n",
    "from sklearn.linear_model import LogisticRegression\n",
    "from sklearn.ensemble import RandomForestClassifier\n",
    "import warnings"
   ]
  },
  {
   "cell_type": "code",
   "execution_count": 2,
   "metadata": {},
   "outputs": [
    {
     "data": {
      "text/html": [
       "<div>\n",
       "<style scoped>\n",
       "    .dataframe tbody tr th:only-of-type {\n",
       "        vertical-align: middle;\n",
       "    }\n",
       "\n",
       "    .dataframe tbody tr th {\n",
       "        vertical-align: top;\n",
       "    }\n",
       "\n",
       "    .dataframe thead th {\n",
       "        text-align: right;\n",
       "    }\n",
       "</style>\n",
       "<table border=\"1\" class=\"dataframe\">\n",
       "  <thead>\n",
       "    <tr style=\"text-align: right;\">\n",
       "      <th></th>\n",
       "      <th>RowNumber</th>\n",
       "      <th>CustomerId</th>\n",
       "      <th>Surname</th>\n",
       "      <th>CreditScore</th>\n",
       "      <th>Geography</th>\n",
       "      <th>Gender</th>\n",
       "      <th>Age</th>\n",
       "      <th>Tenure</th>\n",
       "      <th>Balance</th>\n",
       "      <th>NumOfProducts</th>\n",
       "      <th>HasCrCard</th>\n",
       "      <th>IsActiveMember</th>\n",
       "      <th>EstimatedSalary</th>\n",
       "      <th>Exited</th>\n",
       "    </tr>\n",
       "  </thead>\n",
       "  <tbody>\n",
       "    <tr>\n",
       "      <th>0</th>\n",
       "      <td>1</td>\n",
       "      <td>15634602</td>\n",
       "      <td>Hargrave</td>\n",
       "      <td>619</td>\n",
       "      <td>France</td>\n",
       "      <td>Female</td>\n",
       "      <td>42</td>\n",
       "      <td>2.0</td>\n",
       "      <td>0.00</td>\n",
       "      <td>1</td>\n",
       "      <td>1</td>\n",
       "      <td>1</td>\n",
       "      <td>101348.88</td>\n",
       "      <td>1</td>\n",
       "    </tr>\n",
       "    <tr>\n",
       "      <th>1</th>\n",
       "      <td>2</td>\n",
       "      <td>15647311</td>\n",
       "      <td>Hill</td>\n",
       "      <td>608</td>\n",
       "      <td>Spain</td>\n",
       "      <td>Female</td>\n",
       "      <td>41</td>\n",
       "      <td>1.0</td>\n",
       "      <td>83807.86</td>\n",
       "      <td>1</td>\n",
       "      <td>0</td>\n",
       "      <td>1</td>\n",
       "      <td>112542.58</td>\n",
       "      <td>0</td>\n",
       "    </tr>\n",
       "    <tr>\n",
       "      <th>2</th>\n",
       "      <td>3</td>\n",
       "      <td>15619304</td>\n",
       "      <td>Onio</td>\n",
       "      <td>502</td>\n",
       "      <td>France</td>\n",
       "      <td>Female</td>\n",
       "      <td>42</td>\n",
       "      <td>8.0</td>\n",
       "      <td>159660.80</td>\n",
       "      <td>3</td>\n",
       "      <td>1</td>\n",
       "      <td>0</td>\n",
       "      <td>113931.57</td>\n",
       "      <td>1</td>\n",
       "    </tr>\n",
       "    <tr>\n",
       "      <th>3</th>\n",
       "      <td>4</td>\n",
       "      <td>15701354</td>\n",
       "      <td>Boni</td>\n",
       "      <td>699</td>\n",
       "      <td>France</td>\n",
       "      <td>Female</td>\n",
       "      <td>39</td>\n",
       "      <td>1.0</td>\n",
       "      <td>0.00</td>\n",
       "      <td>2</td>\n",
       "      <td>0</td>\n",
       "      <td>0</td>\n",
       "      <td>93826.63</td>\n",
       "      <td>0</td>\n",
       "    </tr>\n",
       "    <tr>\n",
       "      <th>4</th>\n",
       "      <td>5</td>\n",
       "      <td>15737888</td>\n",
       "      <td>Mitchell</td>\n",
       "      <td>850</td>\n",
       "      <td>Spain</td>\n",
       "      <td>Female</td>\n",
       "      <td>43</td>\n",
       "      <td>2.0</td>\n",
       "      <td>125510.82</td>\n",
       "      <td>1</td>\n",
       "      <td>1</td>\n",
       "      <td>1</td>\n",
       "      <td>79084.10</td>\n",
       "      <td>0</td>\n",
       "    </tr>\n",
       "  </tbody>\n",
       "</table>\n",
       "</div>"
      ],
      "text/plain": [
       "   RowNumber  CustomerId   Surname  CreditScore Geography  Gender  Age  \\\n",
       "0          1    15634602  Hargrave          619    France  Female   42   \n",
       "1          2    15647311      Hill          608     Spain  Female   41   \n",
       "2          3    15619304      Onio          502    France  Female   42   \n",
       "3          4    15701354      Boni          699    France  Female   39   \n",
       "4          5    15737888  Mitchell          850     Spain  Female   43   \n",
       "\n",
       "   Tenure    Balance  NumOfProducts  HasCrCard  IsActiveMember  \\\n",
       "0     2.0       0.00              1          1               1   \n",
       "1     1.0   83807.86              1          0               1   \n",
       "2     8.0  159660.80              3          1               0   \n",
       "3     1.0       0.00              2          0               0   \n",
       "4     2.0  125510.82              1          1               1   \n",
       "\n",
       "   EstimatedSalary  Exited  \n",
       "0        101348.88       1  \n",
       "1        112542.58       0  \n",
       "2        113931.57       1  \n",
       "3         93826.63       0  \n",
       "4         79084.10       0  "
      ]
     },
     "execution_count": 2,
     "metadata": {},
     "output_type": "execute_result"
    }
   ],
   "source": [
    "data = pd.read_csv('/datasets/Churn.csv')\n",
    "data.head()"
   ]
  },
  {
   "cell_type": "markdown",
   "metadata": {},
   "source": [
    "Признаки\n",
    "\n",
    "    - RowNumber — индекс строки в данных\n",
    "    - CustomerId — уникальный идентификатор клиента\n",
    "    - Surname — фамилия\n",
    "    - CreditScore — кредитный рейтинг\n",
    "    - Geography — страна проживания\n",
    "    - Gender — пол\n",
    "    - Age — возраст\n",
    "    - Tenure — сколько лет человек является клиентом банка\n",
    "    - Balance — баланс на счёте\n",
    "    - NumOfProducts — количество продуктов банка, используемых клиентом\n",
    "    - HasCrCard — наличие кредитной карты\n",
    "    - IsActiveMember — активность клиента\n",
    "    - EstimatedSalary — предполагаемая зарплата\n",
    "\n",
    "\n",
    "Целевой признак\n",
    "\n",
    "    - Exited — факт ухода клиента"
   ]
  },
  {
   "cell_type": "code",
   "execution_count": 3,
   "metadata": {},
   "outputs": [
    {
     "name": "stdout",
     "output_type": "stream",
     "text": [
      "<class 'pandas.core.frame.DataFrame'>\n",
      "RangeIndex: 10000 entries, 0 to 9999\n",
      "Data columns (total 14 columns):\n",
      " #   Column           Non-Null Count  Dtype  \n",
      "---  ------           --------------  -----  \n",
      " 0   RowNumber        10000 non-null  int64  \n",
      " 1   CustomerId       10000 non-null  int64  \n",
      " 2   Surname          10000 non-null  object \n",
      " 3   CreditScore      10000 non-null  int64  \n",
      " 4   Geography        10000 non-null  object \n",
      " 5   Gender           10000 non-null  object \n",
      " 6   Age              10000 non-null  int64  \n",
      " 7   Tenure           9091 non-null   float64\n",
      " 8   Balance          10000 non-null  float64\n",
      " 9   NumOfProducts    10000 non-null  int64  \n",
      " 10  HasCrCard        10000 non-null  int64  \n",
      " 11  IsActiveMember   10000 non-null  int64  \n",
      " 12  EstimatedSalary  10000 non-null  float64\n",
      " 13  Exited           10000 non-null  int64  \n",
      "dtypes: float64(3), int64(8), object(3)\n",
      "memory usage: 1.1+ MB\n"
     ]
    }
   ],
   "source": [
    "data.info()"
   ]
  },
  {
   "cell_type": "markdown",
   "metadata": {},
   "source": [
    "Столбцы RowNumber, CustomerId и Surname явно излишне.\n",
    "\n",
    "С типом данных всё вроде как в порядке, а вот название столбцов, желательно, привести к нижнему регистру и разделить где нужно нижним подчеркиванием, чтоб красиво стало.\n",
    "\n",
    "В стоблце Tenure 900 пропусков, скорее всего пропуски обозначают, что клиент ранее не был клиентов банка или является им менее года, заполним их медианой"
   ]
  },
  {
   "cell_type": "code",
   "execution_count": 4,
   "metadata": {},
   "outputs": [],
   "source": [
    "data.drop(['RowNumber', 'CustomerId', 'Surname'], axis=1, inplace=True)"
   ]
  },
  {
   "cell_type": "code",
   "execution_count": 5,
   "metadata": {},
   "outputs": [],
   "source": [
    "data.columns = map(str.lower, data.columns)"
   ]
  },
  {
   "cell_type": "code",
   "execution_count": 6,
   "metadata": {},
   "outputs": [],
   "source": [
    "data = data.rename(columns={'creditscore':'credit_score','numofproducts':'num_of_products', \n",
    "                            'hascrcard':'has_cr_card', 'isactivemember':'is_active_member',\n",
    "                            'estimatedsalary':'es_timated_salary'})"
   ]
  },
  {
   "cell_type": "code",
   "execution_count": 7,
   "metadata": {},
   "outputs": [],
   "source": [
    "data['tenure'] = data['tenure'].fillna(data['tenure'].median())"
   ]
  },
  {
   "cell_type": "markdown",
   "metadata": {},
   "source": [
    "### Кодирование и разбивка"
   ]
  },
  {
   "cell_type": "markdown",
   "metadata": {},
   "source": [
    "Чтоб преообразовать категориальные признаки в количественные используем прямое кодирование, после разобьём данные на три выборки (valid, train u test) и маштабируем признаки с помощью стандартизации."
   ]
  },
  {
   "cell_type": "code",
   "execution_count": 8,
   "metadata": {},
   "outputs": [],
   "source": [
    "data_ohe = pd.get_dummies(data, drop_first=True)"
   ]
  },
  {
   "cell_type": "code",
   "execution_count": 9,
   "metadata": {},
   "outputs": [],
   "source": [
    "target = data_ohe['exited']\n",
    "features = data_ohe.drop('exited', axis=1)\n",
    "\n",
    "features_train, features_rest, target_train, target_rest = train_test_split(features, target, \n",
    "                                                                            test_size=.5, random_state=12345)\n",
    "features_valid, features_test, target_valid, target_test = train_test_split(features_rest, target_rest, \n",
    "                                                                            test_size=.5, random_state=12345)"
   ]
  },
  {
   "cell_type": "code",
   "execution_count": 10,
   "metadata": {
    "scrolled": true
   },
   "outputs": [],
   "source": [
    "warnings.filterwarnings('ignore')\n",
    "numeric = ['credit_score', 'age', 'balance', 'es_timated_salary', 'tenure', 'num_of_products']\n",
    "\n",
    "scaler = StandardScaler()\n",
    "scaler.fit(features_train[numeric])\n",
    "features_train[numeric] = scaler.transform(features_train[numeric])\n",
    "features_valid[numeric] = scaler.transform(features_valid[numeric])\n",
    "features_test[numeric] = scaler.transform(features_test[numeric])"
   ]
  },
  {
   "cell_type": "code",
   "execution_count": 11,
   "metadata": {},
   "outputs": [
    {
     "name": "stdout",
     "output_type": "stream",
     "text": [
      "(5000, 11)\n",
      "(2500, 11)\n",
      "(2500, 11)\n"
     ]
    }
   ],
   "source": [
    "print(features_train.shape)\n",
    "print(features_valid.shape)\n",
    "print(features_test.shape)"
   ]
  },
  {
   "cell_type": "markdown",
   "metadata": {},
   "source": [
    "### Вывод\n",
    "\n",
    "    - избавились от излишних данных ('RowNumber', 'CustomerId', 'Surname')\n",
    "    - привели все столбцы к нижнему регистру\n",
    "    - заполнили просупка в столбце 'tenure' медианой\n",
    "    - преообразовать категориальные признаки в количественные используя прямое кодирование, после разобили данные на три выборки (valid, train u test) и маштабировали признаки с помощью стандартизации"
   ]
  },
  {
   "cell_type": "markdown",
   "metadata": {},
   "source": [
    "## Исследование задачи"
   ]
  },
  {
   "cell_type": "markdown",
   "metadata": {},
   "source": [
    "### Обучение моделей (логическая регрессия и случайный лес)"
   ]
  },
  {
   "cell_type": "code",
   "execution_count": 12,
   "metadata": {},
   "outputs": [
    {
     "name": "stdout",
     "output_type": "stream",
     "text": [
      "LogisticRegression\n",
      "f1-мера:  0.31001371742112477\n",
      "roc_auc: 0.7298593982228125\n"
     ]
    }
   ],
   "source": [
    "model = LogisticRegression(random_state=12345,solver = 'liblinear')\n",
    "model.fit(features_train, target_train)\n",
    "predicted_valid_logist = pd.Series(model.predict(features_valid))\n",
    "print('LogisticRegression')\n",
    "print(\"f1-мера: \", f1_score(target_valid, predicted_valid_logist))\n",
    "\n",
    "probabilities = model.predict_proba(features_valid)\n",
    "probabilities_one = probabilities[:, 1]\n",
    "print('roc_auc:', roc_auc_score(target_valid, probabilities_one))"
   ]
  },
  {
   "cell_type": "code",
   "execution_count": 13,
   "metadata": {},
   "outputs": [
    {
     "name": "stdout",
     "output_type": "stream",
     "text": [
      "max_depth: 5 и n_estimators: 40\n",
      "f1: 0.47058823529411775\n",
      "roс_auc: 0.8327023645764159\n",
      "\n",
      "max_depth: 6 и n_estimators: 40\n",
      "f1: 0.5129604365620737\n",
      "roс_auc: 0.8354639028555165\n",
      "\n",
      "max_depth: 7 и n_estimators: 40\n",
      "f1: 0.5372340425531915\n",
      "roс_auc: 0.8413447095468487\n",
      "\n",
      "max_depth: 8 и n_estimators: 40\n",
      "f1: 0.5521628498727735\n",
      "roс_auc: 0.8414227777250736\n",
      "\n",
      "max_depth: 9 и n_estimators: 40\n",
      "f1: 0.55198973042362\n",
      "roс_auc: 0.8375836021250356\n",
      "\n",
      "max_depth: 10 и n_estimators: 40\n",
      "f1: 0.5433673469387755\n",
      "roс_auc: 0.8363636633146759\n",
      "\n",
      "max_depth: 5 и n_estimators: 60\n",
      "f1: 0.45207439198855515\n",
      "roс_auc: 0.8333659440913259\n",
      "\n",
      "max_depth: 6 и n_estimators: 60\n",
      "f1: 0.5041095890410959\n",
      "roс_auc: 0.8368839531353762\n",
      "\n",
      "max_depth: 7 и n_estimators: 60\n",
      "f1: 0.5274431057563588\n",
      "roс_auc: 0.8412493477848403\n",
      "\n",
      "max_depth: 8 и n_estimators: 60\n",
      "f1: 0.5461538461538461\n",
      "roс_auc: 0.8410205783764981\n",
      "\n",
      "max_depth: 9 и n_estimators: 60\n",
      "f1: 0.5397653194263363\n",
      "roс_auc: 0.8383020270056605\n",
      "\n",
      "max_depth: 10 и n_estimators: 60\n",
      "f1: 0.5576679340937897\n",
      "roс_auc: 0.83619764491035\n",
      "\n",
      "max_depth: 5 и n_estimators: 80\n",
      "f1: 0.47124824684431976\n",
      "roс_auc: 0.8330294603611296\n",
      "\n",
      "max_depth: 6 и n_estimators: 80\n",
      "f1: 0.5034013605442176\n",
      "roс_auc: 0.8371478038136799\n",
      "\n",
      "max_depth: 7 и n_estimators: 80\n",
      "f1: 0.5312084993359895\n",
      "roс_auc: 0.8408891471397402\n",
      "\n",
      "max_depth: 8 и n_estimators: 80\n",
      "f1: 0.537966537966538\n",
      "roс_auc: 0.8431491714891061\n",
      "\n",
      "max_depth: 9 и n_estimators: 80\n",
      "f1: 0.5414507772020726\n",
      "roс_auc: 0.8379413322581666\n",
      "\n",
      "max_depth: 10 и n_estimators: 80\n",
      "f1: 0.561314791403287\n",
      "roс_auc: 0.8371092638269615\n",
      "\n",
      "max_depth: 5 и n_estimators: 100\n",
      "f1: 0.4748603351955307\n",
      "roс_auc: 0.8346125644309521\n",
      "\n",
      "max_depth: 6 и n_estimators: 100\n",
      "f1: 0.5034013605442176\n",
      "roс_auc: 0.8383721895455839\n",
      "\n",
      "max_depth: 7 и n_estimators: 100\n",
      "f1: 0.532981530343008\n",
      "roс_auc: 0.8411292809031402\n",
      "\n",
      "max_depth: 8 и n_estimators: 100\n",
      "f1: 0.55198973042362\n",
      "roс_auc: 0.8434189513961358\n",
      "\n",
      "max_depth: 9 и n_estimators: 100\n",
      "f1: 0.5470967741935483\n",
      "roс_auc: 0.8397744521392658\n",
      "\n",
      "max_depth: 10 и n_estimators: 100\n",
      "f1: 0.5586734693877552\n",
      "roс_auc: 0.8369066818454923\n",
      "\n",
      "max_depth: 5 и n_estimators: 120\n",
      "f1: 0.44571428571428573\n",
      "roс_auc: 0.8347469602820732\n",
      "\n",
      "max_depth: 6 и n_estimators: 120\n",
      "f1: 0.5121951219512195\n",
      "roс_auc: 0.8384887977105273\n",
      "\n",
      "max_depth: 7 и n_estimators: 120\n",
      "f1: 0.5401844532279315\n",
      "roс_auc: 0.8402151914745596\n",
      "\n",
      "max_depth: 8 и n_estimators: 120\n",
      "f1: 0.5503875968992248\n",
      "roс_auc: 0.8425374727255477\n",
      "\n",
      "max_depth: 9 и n_estimators: 120\n",
      "f1: 0.5485122897800776\n",
      "roс_auc: 0.8396953957562534\n",
      "\n",
      "max_depth: 10 и n_estimators: 120\n",
      "f1: 0.5549872122762148\n",
      "roс_auc: 0.838388989026974\n",
      "\n"
     ]
    }
   ],
   "source": [
    "for est in range(40, 140, 20):\n",
    "    for depth in range(5, 11, 1):\n",
    "        model = RandomForestClassifier(random_state=12345, n_estimators=est, max_depth=depth)\n",
    "        model.fit(features_train, target_train)\n",
    "        \n",
    "        probabilities = model.predict_proba(features_valid)\n",
    "        probabilities_one = probabilities[:, 1]\n",
    "        roс_auc = roc_auc_score(target_valid, probabilities_one)\n",
    "        \n",
    "        predicted_valid_forest = pd.Series(model.predict(features_valid))\n",
    "        f1 = f1_score(target_valid, predicted_valid_forest)\n",
    "        \n",
    "        print(\"max_depth:\", depth, \"и n_estimators:\", est)\n",
    "        print(\"f1:\", f1)\n",
    "        print(\"roс_auc:\", roс_auc)\n",
    "        print()"
   ]
  },
  {
   "cell_type": "code",
   "execution_count": 14,
   "metadata": {},
   "outputs": [
    {
     "name": "stdout",
     "output_type": "stream",
     "text": [
      "RandomForestClassifier\n",
      "f1-мера:  0.561314791403287\n",
      "roc_auc: 0.8371092638269615\n"
     ]
    }
   ],
   "source": [
    "model = RandomForestClassifier(n_estimators=80, max_depth=10, random_state=12345)\n",
    "model.fit(features_train, target_train)\n",
    "predicted_valid_forest = pd.Series(model.predict(features_valid))\n",
    "print('RandomForestClassifier')\n",
    "print(\"f1-мера: \", f1_score(target_valid, predicted_valid_forest))\n",
    "\n",
    "probabilities = model.predict_proba(features_valid)\n",
    "probabilities_one = probabilities[:, 1]\n",
    "print('roc_auc:', roc_auc_score(target_valid, probabilities_one))"
   ]
  },
  {
   "cell_type": "markdown",
   "metadata": {},
   "source": [
    "### Исследование баланса классов целевого признака\n",
    "\n",
    "Много ли 0.83 или мало? Для понимания этого, исследуем целевой признак (еxited)."
   ]
  },
  {
   "cell_type": "code",
   "execution_count": 15,
   "metadata": {},
   "outputs": [
    {
     "data": {
      "text/plain": [
       "0    0.7963\n",
       "1    0.2037\n",
       "Name: exited, dtype: float64"
      ]
     },
     "metadata": {},
     "output_type": "display_data"
    },
    {
     "data": {
      "image/png": "[encoded data removed]",
      "text/plain": [
       "<Figure size 432x288 with 1 Axes>"
      ]
     },
     "metadata": {
      "needs_background": "light"
     },
     "output_type": "display_data"
    }
   ],
   "source": [
    "frequency = data['exited'].value_counts(normalize=True)\n",
    "display(frequency)\n",
    "\n",
    "frequency.plot(kind='bar', colormap='jet', title = 'Баланс классов exited в датафрейме');"
   ]
  },
  {
   "cell_type": "markdown",
   "metadata": {},
   "source": [
    "Баланс явно нарушен, соотношение идет 4 к 1 (клиент уходит в 20% случаев), теперь посмотрим какие прогнозы выдвигают модели."
   ]
  },
  {
   "cell_type": "code",
   "execution_count": 16,
   "metadata": {},
   "outputs": [
    {
     "name": "stdout",
     "output_type": "stream",
     "text": [
      "0    0.9116\n",
      "1    0.0884\n",
      "dtype: float64\n"
     ]
    },
    {
     "data": {
      "image/png": "[encoded data removed]",
      "text/plain": [
       "<Figure size 432x288 with 1 Axes>"
      ]
     },
     "metadata": {
      "needs_background": "light"
     },
     "output_type": "display_data"
    }
   ],
   "source": [
    "frequency_logist = predicted_valid_logist.value_counts(normalize=True)\n",
    "print(frequency_logist)\n",
    "frequency_logist.plot(kind='bar', color='b', title='Баланс классов exited в лог. регрессии');"
   ]
  },
  {
   "cell_type": "code",
   "execution_count": 17,
   "metadata": {},
   "outputs": [
    {
     "name": "stdout",
     "output_type": "stream",
     "text": [
      "0    0.8868\n",
      "1    0.1132\n",
      "dtype: float64\n"
     ]
    },
    {
     "data": {
      "image/png": "[encoded data removed]",
      "text/plain": [
       "<Figure size 432x288 with 1 Axes>"
      ]
     },
     "metadata": {
      "needs_background": "light"
     },
     "output_type": "display_data"
    }
   ],
   "source": [
    "frequency_forest = predicted_valid_forest.value_counts(normalize=True)\n",
    "print(frequency_forest)\n",
    "frequency_forest.plot(kind='bar', color='g', title='Баланс классов exited в случ. лесе');"
   ]
  },
  {
   "cell_type": "markdown",
   "metadata": {},
   "source": [
    "Модели верят в лучшее) А теперь сравним их с константной моделью"
   ]
  },
  {
   "cell_type": "code",
   "execution_count": 18,
   "metadata": {},
   "outputs": [
    {
     "data": {
      "text/plain": [
       "0.7963"
      ]
     },
     "execution_count": 18,
     "metadata": {},
     "output_type": "execute_result"
    }
   ],
   "source": [
    "target_pred_constant = pd.Series(0, target.index)\n",
    "accuracy_score(target, target_pred_constant)"
   ]
  },
  {
   "cell_type": "markdown",
   "metadata": {},
   "source": [
    "Чтож модели оказались адекватные, они предсказывают лучше константной модели. Теперь оценим качество прогноза положительного класса у моделей с помощью F1-меры."
   ]
  },
  {
   "cell_type": "code",
   "execution_count": 19,
   "metadata": {},
   "outputs": [
    {
     "name": "stdout",
     "output_type": "stream",
     "text": [
      "LogisticRegression f1: 0.31001371742112477\n"
     ]
    }
   ],
   "source": [
    "print(\"LogisticRegression f1:\", f1_score(target_valid, predicted_valid_logist))"
   ]
  },
  {
   "cell_type": "code",
   "execution_count": 20,
   "metadata": {},
   "outputs": [
    {
     "name": "stdout",
     "output_type": "stream",
     "text": [
      "RandomForestClassifier f1: 0.561314791403287\n"
     ]
    }
   ],
   "source": [
    "print(\"RandomForestClassifier f1:\", f1_score(target_valid, predicted_valid_forest))"
   ]
  },
  {
   "cell_type": "markdown",
   "metadata": {},
   "source": [
    "Модель случайного леса почти близка к F1-мере 0.59, а вот логической регрессия до неё, как до китайской границы пешком, но это не значит, что достичь её не возможно."
   ]
  },
  {
   "cell_type": "markdown",
   "metadata": {},
   "source": [
    "### Вывод\n",
    "    - классы не сбалансированны\n",
    "    - модели адекватно предсказывают\n",
    "    - слачайный лес показал себя лучше, чем логическая регрессия"
   ]
  },
  {
   "cell_type": "markdown",
   "metadata": {},
   "source": [
    "## Борьба с дисбалансом"
   ]
  },
  {
   "cell_type": "markdown",
   "metadata": {},
   "source": [
    "### Изменение порога"
   ]
  },
  {
   "cell_type": "code",
   "execution_count": 21,
   "metadata": {},
   "outputs": [],
   "source": [
    "def threshold (probabilities_one_valid):\n",
    "    for threshold in np.arange(0, 0.6, 0.05):\n",
    "        predicted_valid = probabilities_one_valid > threshold\n",
    "        f1 = f1_score(target_valid, predicted_valid)\n",
    "        print(\"порог = {:.2f} | f1 = {:.3f}\".format(\n",
    "        threshold, f1))"
   ]
  },
  {
   "cell_type": "code",
   "execution_count": 22,
   "metadata": {},
   "outputs": [],
   "source": [
    "model = LogisticRegression(random_state=12345, solver='liblinear')\n",
    "model.fit(features_train, target_train)\n",
    "probabilities_valid_logist = model.predict_proba(features_valid)\n",
    "probabilities_one_valid_logist = probabilities_valid_logist[:, 1]"
   ]
  },
  {
   "cell_type": "code",
   "execution_count": 23,
   "metadata": {},
   "outputs": [
    {
     "name": "stdout",
     "output_type": "stream",
     "text": [
      "порог = 0.00 | f1 = 0.338\n",
      "порог = 0.05 | f1 = 0.365\n",
      "порог = 0.10 | f1 = 0.409\n",
      "порог = 0.15 | f1 = 0.439\n",
      "порог = 0.20 | f1 = 0.450\n",
      "порог = 0.25 | f1 = 0.456\n",
      "порог = 0.30 | f1 = 0.442\n",
      "порог = 0.35 | f1 = 0.419\n",
      "порог = 0.40 | f1 = 0.391\n",
      "порог = 0.45 | f1 = 0.356\n",
      "порог = 0.50 | f1 = 0.310\n",
      "порог = 0.55 | f1 = 0.267\n"
     ]
    }
   ],
   "source": [
    "threshold(probabilities_one_valid_logist)"
   ]
  },
  {
   "cell_type": "code",
   "execution_count": 24,
   "metadata": {},
   "outputs": [],
   "source": [
    "model = RandomForestClassifier(n_estimators=80, max_depth=10, random_state=12345)\n",
    "model.fit(features_train, target_train)\n",
    "probabilities_valid_forest = model.predict_proba(features_valid)\n",
    "probabilities_one_valid_forest = probabilities_valid_forest[:, 1]"
   ]
  },
  {
   "cell_type": "code",
   "execution_count": 25,
   "metadata": {},
   "outputs": [
    {
     "name": "stdout",
     "output_type": "stream",
     "text": [
      "порог = 0.00 | f1 = 0.338\n",
      "порог = 0.05 | f1 = 0.401\n",
      "порог = 0.10 | f1 = 0.461\n",
      "порог = 0.15 | f1 = 0.522\n",
      "порог = 0.20 | f1 = 0.555\n",
      "порог = 0.25 | f1 = 0.591\n",
      "порог = 0.30 | f1 = 0.598\n",
      "порог = 0.35 | f1 = 0.594\n",
      "порог = 0.40 | f1 = 0.582\n",
      "порог = 0.45 | f1 = 0.565\n",
      "порог = 0.50 | f1 = 0.561\n",
      "порог = 0.55 | f1 = 0.531\n"
     ]
    }
   ],
   "source": [
    "threshold(probabilities_one_valid_forest)"
   ]
  },
  {
   "cell_type": "markdown",
   "metadata": {},
   "source": [
    "Порог для логической регресси в 0.25 лучше всего себя показал, а для случайного леса лучше 0.30"
   ]
  },
  {
   "cell_type": "markdown",
   "metadata": {},
   "source": [
    "### class_weight"
   ]
  },
  {
   "cell_type": "code",
   "execution_count": 26,
   "metadata": {},
   "outputs": [
    {
     "name": "stdout",
     "output_type": "stream",
     "text": [
      "LogisticRegression\n",
      "f1: 0.457182320441989\n",
      "ros_auc: 0.7338319814691838\n"
     ]
    }
   ],
   "source": [
    "model = LogisticRegression(random_state=12345, solver = 'liblinear', class_weight='balanced')\n",
    "model.fit(features_train, target_train)\n",
    "predicted_valid_logist = pd.Series(model.predict(features_valid))\n",
    "f1 = f1_score(target_valid, predicted_valid_logist)\n",
    "\n",
    "probabilities = model.predict_proba(features_valid)\n",
    "probabilities_one = probabilities[:, 1]\n",
    "ros_auc = roc_auc_score(target_valid, probabilities_one)\n",
    "\n",
    "print('LogisticRegression')\n",
    "print('f1:', f1)\n",
    "print('ros_auc:', ros_auc)"
   ]
  },
  {
   "cell_type": "code",
   "execution_count": 27,
   "metadata": {},
   "outputs": [
    {
     "name": "stdout",
     "output_type": "stream",
     "text": [
      "max_depth: 5 и n_estimators: 40\n",
      "f1: 0.5645295587010825\n",
      "ros_auc: 0.8250358718337919\n",
      "\n",
      "max_depth: 6 и n_estimators: 40\n",
      "f1: 0.5586776859504132\n",
      "ros_auc: 0.8303104148878979\n",
      "\n",
      "max_depth: 7 и n_estimators: 40\n",
      "f1: 0.5729076790336496\n",
      "ros_auc: 0.8375653203364638\n",
      "\n",
      "max_depth: 8 и n_estimators: 40\n",
      "f1: 0.5742935278030994\n",
      "ros_auc: 0.8377179979761565\n",
      "\n",
      "max_depth: 9 и n_estimators: 40\n",
      "f1: 0.5855940130963518\n",
      "ros_auc: 0.8345162144641559\n",
      "\n",
      "max_depth: 10 и n_estimators: 40\n",
      "f1: 0.584\n",
      "ros_auc: 0.8404686660025932\n",
      "\n",
      "max_depth: 5 и n_estimators: 60\n",
      "f1: 0.5659163987138264\n",
      "ros_auc: 0.8257819664484711\n",
      "\n",
      "max_depth: 6 и n_estimators: 60\n",
      "f1: 0.5613168724279836\n",
      "ros_auc: 0.8316672200613477\n",
      "\n",
      "max_depth: 7 и n_estimators: 60\n",
      "f1: 0.5721694036300777\n",
      "ros_auc: 0.837502569332448\n",
      "\n",
      "max_depth: 8 и n_estimators: 60\n",
      "f1: 0.5778985507246376\n",
      "ros_auc: 0.8373978196249565\n",
      "\n",
      "max_depth: 9 и n_estimators: 60\n",
      "f1: 0.5907808090310442\n",
      "ros_auc: 0.8365598219650257\n",
      "\n",
      "max_depth: 10 и n_estimators: 60\n",
      "f1: 0.582\n",
      "ros_auc: 0.8406801418271511\n",
      "\n",
      "max_depth: 5 и n_estimators: 80\n",
      "f1: 0.5634477254588987\n",
      "ros_auc: 0.8274910666287194\n",
      "\n",
      "max_depth: 6 и n_estimators: 80\n",
      "f1: 0.5620377978635991\n",
      "ros_auc: 0.832538816684059\n",
      "\n",
      "max_depth: 7 и n_estimators: 80\n",
      "f1: 0.5731601731601732\n",
      "ros_auc: 0.8375312272712899\n",
      "\n",
      "max_depth: 8 и n_estimators: 80\n",
      "f1: 0.5729827742520398\n",
      "ros_auc: 0.8378444881889763\n",
      "\n",
      "max_depth: 9 и n_estimators: 80\n",
      "f1: 0.5867924528301887\n",
      "ros_auc: 0.8374086898776207\n",
      "\n",
      "max_depth: 10 и n_estimators: 80\n",
      "f1: 0.5834165834165833\n",
      "ros_auc: 0.8408160199854536\n",
      "\n",
      "max_depth: 5 и n_estimators: 100\n",
      "f1: 0.5655281969817314\n",
      "ros_auc: 0.8300020949941497\n",
      "\n",
      "max_depth: 6 и n_estimators: 100\n",
      "f1: 0.5685950413223141\n",
      "ros_auc: 0.8348966733074029\n",
      "\n",
      "max_depth: 7 и n_estimators: 100\n",
      "f1: 0.5744125326370757\n",
      "ros_auc: 0.8368622126300478\n",
      "\n",
      "max_depth: 8 и n_estimators: 100\n",
      "f1: 0.5797101449275364\n",
      "ros_auc: 0.8391192723650507\n",
      "\n",
      "max_depth: 9 и n_estimators: 100\n",
      "f1: 0.5903500473036897\n",
      "ros_auc: 0.8388989026974037\n",
      "\n",
      "max_depth: 10 и n_estimators: 100\n",
      "f1: 0.5835010060362172\n",
      "ros_auc: 0.8407784682035228\n",
      "\n",
      "max_depth: 5 и n_estimators: 120\n",
      "f1: 0.5689381933438986\n",
      "ros_auc: 0.8305861240236537\n",
      "\n",
      "max_depth: 6 и n_estimators: 120\n",
      "f1: 0.5659751037344398\n",
      "ros_auc: 0.8346604923631534\n",
      "\n",
      "max_depth: 7 и n_estimators: 120\n",
      "f1: 0.5788561525129983\n",
      "ros_auc: 0.8370578771780033\n",
      "\n",
      "max_depth: 8 и n_estimators: 120\n",
      "f1: 0.5766092475067995\n",
      "ros_auc: 0.8389157021787939\n",
      "\n",
      "max_depth: 9 и n_estimators: 120\n",
      "f1: 0.5946969696969697\n",
      "ros_auc: 0.8397131834424312\n",
      "\n",
      "max_depth: 10 и n_estimators: 120\n",
      "f1: 0.5785785785785786\n",
      "ros_auc: 0.840131194067609\n",
      "\n"
     ]
    }
   ],
   "source": [
    "for est in range(40, 140, 20):\n",
    "    for depth in range(5, 11, 1):\n",
    "        model = RandomForestClassifier(random_state=12345, n_estimators=est, max_depth=depth, class_weight='balanced')\n",
    "        model.fit(features_train, target_train)\n",
    "        \n",
    "        probabilities = model.predict_proba(features_valid)\n",
    "        probabilities_one = probabilities[:, 1]\n",
    "        ros_auc = roc_auc_score(target_valid, probabilities_one)\n",
    "        \n",
    "        predicted_valid_forest = pd.Series(model.predict(features_valid))\n",
    "        f1 = f1_score(target_valid, predicted_valid_forest)\n",
    "        \n",
    "        print(\"max_depth:\", depth, \"и n_estimators:\", est)\n",
    "        print(\"f1:\", f1)\n",
    "        print(\"ros_auc:\", ros_auc)\n",
    "        print()"
   ]
  },
  {
   "cell_type": "code",
   "execution_count": 28,
   "metadata": {},
   "outputs": [
    {
     "name": "stdout",
     "output_type": "stream",
     "text": [
      "RandomForestClassifier\n",
      "f1-мера:  0.5946969696969697\n",
      "roc_auc: 0.8397131834424312\n"
     ]
    }
   ],
   "source": [
    "model = RandomForestClassifier(n_estimators=120, max_depth=9, random_state=12345, class_weight='balanced')\n",
    "model.fit(features_train, target_train)\n",
    "predicted_valid_forest = pd.Series(model.predict(features_valid))\n",
    "print('RandomForestClassifier')\n",
    "print(\"f1-мера: \", f1_score(target_valid, predicted_valid_forest))\n",
    "\n",
    "probabilities = model.predict_proba(features_valid)\n",
    "probabilities_one = probabilities[:, 1]\n",
    "print('roc_auc:', roc_auc_score(target_valid, probabilities_one))"
   ]
  },
  {
   "cell_type": "markdown",
   "metadata": {},
   "source": [
    "Логическая регрессия почти подросла в 2 раза, а вот самые хорошие гиперпараметры для случайного леса - max_depth: 9 и n_estimators: 120"
   ]
  },
  {
   "cell_type": "markdown",
   "metadata": {},
   "source": [
    "Как сразу похорошела логическая регрессия, почти в половинку увеличалась"
   ]
  },
  {
   "cell_type": "markdown",
   "metadata": {},
   "source": [
    "### Изменение выборки (уменьшение)"
   ]
  },
  {
   "cell_type": "code",
   "execution_count": 29,
   "metadata": {},
   "outputs": [],
   "source": [
    "def downsample(features, target, fraction):\n",
    "    features_zeros = features[target == 0]\n",
    "    features_ones = features[target == 1]\n",
    "    target_zeros = target[target == 0]\n",
    "    target_ones = target[target == 1]\n",
    "\n",
    "    features_downsampled = pd.concat(\n",
    "        [features_zeros.sample(frac=fraction, random_state=12345)] + [features_ones])\n",
    "    target_downsampled = pd.concat(\n",
    "        [target_zeros.sample(frac=fraction, random_state=12345)] + [target_ones])\n",
    "    \n",
    "    features_downsampled, target_downsampled = shuffle(\n",
    "        features_downsampled, target_downsampled, random_state=12345)\n",
    "    \n",
    "    return features_downsampled, target_downsampled\n",
    "\n",
    "features_downsampled, target_downsampled = downsample(features_train, target_train, 0.25)"
   ]
  },
  {
   "cell_type": "code",
   "execution_count": 30,
   "metadata": {},
   "outputs": [
    {
     "name": "stdout",
     "output_type": "stream",
     "text": [
      "max_depth: 5 и n_estimators: 40\n",
      "f1: 0.5405819295558959\n",
      "roc_auc: 0.8181060857603644\n",
      "\n",
      "max_depth: 6 и n_estimators: 40\n",
      "f1: 0.5468392993145468\n",
      "roc_auc: 0.8263719247067008\n",
      "\n",
      "max_depth: 7 и n_estimators: 40\n",
      "f1: 0.5500381970970206\n",
      "roc_auc: 0.8274312802390665\n",
      "\n",
      "max_depth: 8 и n_estimators: 40\n",
      "f1: 0.5534495830174374\n",
      "roc_auc: 0.8299620727002499\n",
      "\n",
      "max_depth: 9 и n_estimators: 40\n",
      "f1: 0.5454545454545453\n",
      "roc_auc: 0.8262019534832242\n",
      "\n",
      "max_depth: 10 и n_estimators: 40\n",
      "f1: 0.540168324407039\n",
      "roc_auc: 0.8264025590551182\n",
      "\n",
      "max_depth: 5 и n_estimators: 60\n",
      "f1: 0.5357686453576864\n",
      "roc_auc: 0.8181806952218321\n",
      "\n",
      "max_depth: 6 и n_estimators: 60\n",
      "f1: 0.5408320493066255\n",
      "roc_auc: 0.8246000735224364\n",
      "\n",
      "max_depth: 7 и n_estimators: 60\n",
      "f1: 0.5478395061728395\n",
      "roc_auc: 0.8265517779780539\n",
      "\n",
      "max_depth: 8 и n_estimators: 60\n",
      "f1: 0.547673531655225\n",
      "roc_auc: 0.829606813079088\n",
      "\n",
      "max_depth: 9 и n_estimators: 60\n",
      "f1: 0.548113933795227\n",
      "roc_auc: 0.8296334946083548\n",
      "\n",
      "max_depth: 10 и n_estimators: 60\n",
      "f1: 0.547673531655225\n",
      "roc_auc: 0.8257202036492426\n",
      "\n",
      "max_depth: 5 и n_estimators: 80\n",
      "f1: 0.5359576078728236\n",
      "roc_auc: 0.8212036136672674\n",
      "\n",
      "max_depth: 6 и n_estimators: 80\n",
      "f1: 0.5465742879137798\n",
      "roc_auc: 0.8277771519147455\n",
      "\n",
      "max_depth: 7 и n_estimators: 80\n",
      "f1: 0.5535851966075559\n",
      "roc_auc: 0.8280716369414666\n",
      "\n",
      "max_depth: 8 и n_estimators: 80\n",
      "f1: 0.5447647951441578\n",
      "roc_auc: 0.8298429940233374\n",
      "\n",
      "max_depth: 9 и n_estimators: 80\n",
      "f1: 0.547271329746349\n",
      "roc_auc: 0.8296572115232583\n",
      "\n",
      "max_depth: 10 и n_estimators: 80\n",
      "f1: 0.551617873651772\n",
      "roc_auc: 0.8276313917085665\n",
      "\n",
      "max_depth: 5 и n_estimators: 100\n",
      "f1: 0.5451807228915663\n",
      "roc_auc: 0.8215030397179268\n",
      "\n",
      "max_depth: 6 и n_estimators: 100\n",
      "f1: 0.5454545454545453\n",
      "roc_auc: 0.828233702526642\n",
      "\n",
      "max_depth: 7 и n_estimators: 100\n",
      "f1: 0.5496535796766744\n",
      "roc_auc: 0.828502494228884\n",
      "\n",
      "max_depth: 8 и n_estimators: 100\n",
      "f1: 0.5489296636085627\n",
      "roc_auc: 0.829961578597856\n",
      "\n",
      "max_depth: 9 и n_estimators: 100\n",
      "f1: 0.5480916030534352\n",
      "roc_auc: 0.8299596021882808\n",
      "\n",
      "max_depth: 10 и n_estimators: 100\n",
      "f1: 0.5541059094397545\n",
      "roc_auc: 0.8276590614426209\n",
      "\n",
      "max_depth: 5 и n_estimators: 120\n",
      "f1: 0.5464071856287425\n",
      "roc_auc: 0.8236958661417323\n",
      "\n",
      "max_depth: 6 и n_estimators: 120\n",
      "f1: 0.550191570881226\n",
      "roc_auc: 0.8290163607184644\n",
      "\n",
      "max_depth: 7 и n_estimators: 120\n",
      "f1: 0.5499231950844854\n",
      "roc_auc: 0.8301419259716029\n",
      "\n",
      "max_depth: 8 и n_estimators: 120\n",
      "f1: 0.5525709900230238\n",
      "roc_auc: 0.8316444913512318\n",
      "\n",
      "max_depth: 9 и n_estimators: 120\n",
      "f1: 0.5480916030534352\n",
      "roc_auc: 0.830731390127439\n",
      "\n",
      "max_depth: 10 и n_estimators: 120\n",
      "f1: 0.5571757482732156\n",
      "roc_auc: 0.8282025740758309\n",
      "\n"
     ]
    }
   ],
   "source": [
    "for est in range(40, 140, 20):\n",
    "    for depth in range(5, 11, 1):\n",
    "        model = RandomForestClassifier(random_state=12345, n_estimators=est, max_depth=depth)\n",
    "        model.fit(features_downsampled, target_downsampled)\n",
    "        predicted_valid = model.predict(features_valid)\n",
    "        f1 = f1_score(target_valid, predicted_valid)\n",
    "\n",
    "        probabilities = model.predict_proba(features_valid)\n",
    "        probabilities_one = probabilities[:, 1]\n",
    "        roc_auc = roc_auc_score(target_valid, probabilities_one)\n",
    "        \n",
    "        print(\"max_depth:\", depth, \"и n_estimators:\", est)\n",
    "        print(\"f1:\", f1)\n",
    "        print(\"roc_auc:\", roc_auc)\n",
    "        print()"
   ]
  },
  {
   "cell_type": "code",
   "execution_count": 31,
   "metadata": {},
   "outputs": [
    {
     "name": "stdout",
     "output_type": "stream",
     "text": [
      "RandomForestClassifier\n",
      "roc_auc: 0.8282025740758309\n",
      "f1: 0.5571757482732156\n"
     ]
    }
   ],
   "source": [
    "model = RandomForestClassifier(random_state=12345, n_estimators=120, max_depth=10)\n",
    "model.fit(features_downsampled, target_downsampled)\n",
    "predicted_valid = model.predict(features_valid)\n",
    "\n",
    "probabilities = model.predict_proba(features_valid)\n",
    "probabilities_one = probabilities[:, 1]\n",
    "\n",
    "print('RandomForestClassifier')\n",
    "print('roc_auc:', roc_auc_score(target_valid, probabilities_one))\n",
    "print(\"f1:\", f1_score(target_valid, predicted_valid))"
   ]
  },
  {
   "cell_type": "code",
   "execution_count": 32,
   "metadata": {},
   "outputs": [
    {
     "name": "stdout",
     "output_type": "stream",
     "text": [
      "LogisticRegression\n",
      "roc_auc: 0.7270667314929008\n",
      "f1: 0.44340254521098466\n"
     ]
    }
   ],
   "source": [
    "model = LogisticRegression(random_state=12345, solver='liblinear')\n",
    "model.fit(features_downsampled, target_downsampled)\n",
    "predicted_valid = model.predict(features_valid)\n",
    "\n",
    "probabilities = model.predict_proba(features_valid)\n",
    "probabilities_one = probabilities[:, 1]\n",
    "\n",
    "print('LogisticRegression')\n",
    "print('roc_auc:', roc_auc_score(target_valid, probabilities_one))\n",
    "print(\"f1:\", f1_score(target_valid, predicted_valid))"
   ]
  },
  {
   "cell_type": "markdown",
   "metadata": {},
   "source": [
    "Изменение class_weight показало себя лучше нежели уменьшение выборки."
   ]
  },
  {
   "cell_type": "markdown",
   "metadata": {},
   "source": [
    "\n",
    "\n",
    "### Вывод\n",
    "    - будем использовать измение class_weight и тестировать будем модель случайного леса\n",
    "    - лучшие гиперпараметры для случайного леса - max_depth: 9 и n_estimators: 120"
   ]
  },
  {
   "cell_type": "markdown",
   "metadata": {},
   "source": [
    "## Тестирование модели"
   ]
  },
  {
   "cell_type": "code",
   "execution_count": 33,
   "metadata": {},
   "outputs": [
    {
     "data": {
      "text/plain": [
       "0.6431226765799257"
      ]
     },
     "execution_count": 33,
     "metadata": {},
     "output_type": "execute_result"
    }
   ],
   "source": [
    "model_top = RandomForestClassifier(random_state=12345, n_estimators=120, max_depth=9, class_weight='balanced')\n",
    "model_top.fit(features_train, target_train)\n",
    "predicted_test = model_top.predict(features_test)\n",
    "f1_score(target_test, predicted_test)"
   ]
  },
  {
   "cell_type": "code",
   "execution_count": 34,
   "metadata": {},
   "outputs": [
    {
     "data": {
      "text/plain": [
       "0.8664280788085519"
      ]
     },
     "execution_count": 34,
     "metadata": {},
     "output_type": "execute_result"
    }
   ],
   "source": [
    "probabilities_test_top = model_top.predict_proba(features_test)\n",
    "probabilities_one_test_top = probabilities_test_top[:, 1]\n",
    "roc_auc_score(target_test, probabilities_one_test_top)"
   ]
  },
  {
   "cell_type": "markdown",
   "metadata": {},
   "source": [
    "Цель достигнута F-1 мера равна 0.64, а по ROC_AUC модель оценивается выше случайной модели (0.5)\n",
    "\n",
    "## Вывод\n",
    "\n",
    "    - изучили данные, заполнили пропуски, с помощью прямого кодирования (One-Hot Encoding) закодировали категориальные признаки в количественные, разбили датафрейм на три выборки и масштабировали признаки с помощью метода стандартизации\n",
    "    - обучили модели, исследовали баланс классов целевого признака\n",
    "    - поборолись с дисбалансом термя методами, подобрали max_depth и n_estimators для случайного леса\n",
    "    - протестировали модель, достигнув значения F-1 меры 0.64"
   ]
  }
 ],
 "metadata": {
  "ExecuteTimeLog": [
   {
    "duration": 401,
    "start_time": "2023-02-23T23:28:15.382Z"
   },
   {
    "duration": 100,
    "start_time": "2023-02-23T23:28:15.901Z"
   },
   {
    "duration": 232,
    "start_time": "2023-02-23T23:28:28.055Z"
   },
   {
    "duration": 14,
    "start_time": "2023-02-23T23:28:29.703Z"
   },
   {
    "duration": 12,
    "start_time": "2023-02-23T23:36:50.724Z"
   },
   {
    "duration": 8,
    "start_time": "2023-02-23T23:36:57.311Z"
   },
   {
    "duration": 5,
    "start_time": "2023-02-23T23:39:08.376Z"
   },
   {
    "duration": 13,
    "start_time": "2023-02-23T23:39:17.599Z"
   },
   {
    "duration": 452,
    "start_time": "2023-02-23T23:43:32.380Z"
   },
   {
    "duration": 67,
    "start_time": "2023-02-23T23:43:32.835Z"
   },
   {
    "duration": 13,
    "start_time": "2023-02-23T23:43:32.904Z"
   },
   {
    "duration": 85,
    "start_time": "2023-02-23T23:43:32.919Z"
   },
   {
    "duration": 0,
    "start_time": "2023-02-23T23:43:33.006Z"
   },
   {
    "duration": 474,
    "start_time": "2023-02-23T23:44:03.941Z"
   },
   {
    "duration": 74,
    "start_time": "2023-02-23T23:44:04.418Z"
   },
   {
    "duration": 14,
    "start_time": "2023-02-23T23:44:04.494Z"
   },
   {
    "duration": 99,
    "start_time": "2023-02-23T23:44:04.511Z"
   },
   {
    "duration": 0,
    "start_time": "2023-02-23T23:44:04.612Z"
   },
   {
    "duration": 426,
    "start_time": "2023-02-23T23:44:47.008Z"
   },
   {
    "duration": 94,
    "start_time": "2023-02-23T23:44:47.437Z"
   },
   {
    "duration": 23,
    "start_time": "2023-02-23T23:44:47.532Z"
   },
   {
    "duration": 26,
    "start_time": "2023-02-23T23:44:47.560Z"
   },
   {
    "duration": 40,
    "start_time": "2023-02-23T23:44:47.588Z"
   },
   {
    "duration": 441,
    "start_time": "2023-02-23T23:45:00.867Z"
   },
   {
    "duration": 74,
    "start_time": "2023-02-23T23:45:01.310Z"
   },
   {
    "duration": 19,
    "start_time": "2023-02-23T23:45:01.389Z"
   },
   {
    "duration": 48,
    "start_time": "2023-02-23T23:45:01.411Z"
   },
   {
    "duration": 118,
    "start_time": "2023-02-23T23:45:01.464Z"
   },
   {
    "duration": 96,
    "start_time": "2023-02-23T23:45:08.638Z"
   },
   {
    "duration": 417,
    "start_time": "2023-02-23T23:45:32.223Z"
   },
   {
    "duration": 73,
    "start_time": "2023-02-23T23:45:32.651Z"
   },
   {
    "duration": 17,
    "start_time": "2023-02-23T23:45:32.726Z"
   },
   {
    "duration": 6,
    "start_time": "2023-02-23T23:45:32.749Z"
   },
   {
    "duration": 37,
    "start_time": "2023-02-23T23:45:32.761Z"
   },
   {
    "duration": 385,
    "start_time": "2023-02-23T23:46:12.506Z"
   },
   {
    "duration": 77,
    "start_time": "2023-02-23T23:46:12.900Z"
   },
   {
    "duration": 18,
    "start_time": "2023-02-23T23:46:12.979Z"
   },
   {
    "duration": 16,
    "start_time": "2023-02-23T23:46:13.000Z"
   },
   {
    "duration": 43,
    "start_time": "2023-02-23T23:46:13.017Z"
   },
   {
    "duration": 56,
    "start_time": "2023-02-23T23:46:13.062Z"
   },
   {
    "duration": 487,
    "start_time": "2023-02-23T23:46:30.171Z"
   },
   {
    "duration": 91,
    "start_time": "2023-02-23T23:46:30.661Z"
   },
   {
    "duration": 50,
    "start_time": "2023-02-23T23:46:30.754Z"
   },
   {
    "duration": 34,
    "start_time": "2023-02-23T23:46:30.808Z"
   },
   {
    "duration": 97,
    "start_time": "2023-02-23T23:46:30.845Z"
   },
   {
    "duration": 69,
    "start_time": "2023-02-23T23:46:30.947Z"
   },
   {
    "duration": 400,
    "start_time": "2023-02-24T00:04:06.377Z"
   },
   {
    "duration": 56,
    "start_time": "2023-02-24T00:04:06.779Z"
   },
   {
    "duration": 21,
    "start_time": "2023-02-24T00:04:06.836Z"
   },
   {
    "duration": 92,
    "start_time": "2023-02-24T00:04:06.866Z"
   },
   {
    "duration": 0,
    "start_time": "2023-02-24T00:04:06.961Z"
   },
   {
    "duration": 0,
    "start_time": "2023-02-24T00:04:06.971Z"
   },
   {
    "duration": 4,
    "start_time": "2023-02-24T00:06:37.079Z"
   },
   {
    "duration": 366,
    "start_time": "2023-02-24T00:06:42.509Z"
   },
   {
    "duration": 60,
    "start_time": "2023-02-24T00:06:42.877Z"
   },
   {
    "duration": 13,
    "start_time": "2023-02-24T00:06:42.938Z"
   },
   {
    "duration": 32,
    "start_time": "2023-02-24T00:06:42.953Z"
   },
   {
    "duration": 7,
    "start_time": "2023-02-24T00:06:42.986Z"
   },
   {
    "duration": 6,
    "start_time": "2023-02-24T00:06:42.995Z"
   },
   {
    "duration": 103,
    "start_time": "2023-02-24T00:06:54.615Z"
   },
   {
    "duration": 424,
    "start_time": "2023-02-24T00:07:05.674Z"
   },
   {
    "duration": 68,
    "start_time": "2023-02-24T00:07:06.101Z"
   },
   {
    "duration": 14,
    "start_time": "2023-02-24T00:07:06.177Z"
   },
   {
    "duration": 4,
    "start_time": "2023-02-24T00:07:06.193Z"
   },
   {
    "duration": 6,
    "start_time": "2023-02-24T00:07:06.199Z"
   },
   {
    "duration": 7,
    "start_time": "2023-02-24T00:07:06.207Z"
   },
   {
    "duration": 18,
    "start_time": "2023-02-24T00:07:10.676Z"
   },
   {
    "duration": 400,
    "start_time": "2023-02-24T00:07:43.221Z"
   },
   {
    "duration": 74,
    "start_time": "2023-02-24T00:07:43.623Z"
   },
   {
    "duration": 13,
    "start_time": "2023-02-24T00:07:43.699Z"
   },
   {
    "duration": 108,
    "start_time": "2023-02-24T00:07:43.714Z"
   },
   {
    "duration": 0,
    "start_time": "2023-02-24T00:07:43.824Z"
   },
   {
    "duration": 0,
    "start_time": "2023-02-24T00:07:43.825Z"
   },
   {
    "duration": 411,
    "start_time": "2023-02-24T00:07:54.773Z"
   },
   {
    "duration": 58,
    "start_time": "2023-02-24T00:07:55.186Z"
   },
   {
    "duration": 17,
    "start_time": "2023-02-24T00:07:55.252Z"
   },
   {
    "duration": 18,
    "start_time": "2023-02-24T00:07:55.272Z"
   },
   {
    "duration": 14,
    "start_time": "2023-02-24T00:07:55.292Z"
   },
   {
    "duration": 17,
    "start_time": "2023-02-24T00:07:55.308Z"
   },
   {
    "duration": 1227,
    "start_time": "2023-02-24T00:14:17.928Z"
   },
   {
    "duration": 71,
    "start_time": "2023-02-24T00:14:19.163Z"
   },
   {
    "duration": 23,
    "start_time": "2023-02-24T00:14:19.236Z"
   },
   {
    "duration": 18,
    "start_time": "2023-02-24T00:14:19.270Z"
   },
   {
    "duration": 11,
    "start_time": "2023-02-24T00:14:19.290Z"
   },
   {
    "duration": 8,
    "start_time": "2023-02-24T00:14:19.304Z"
   },
   {
    "duration": 1677,
    "start_time": "2023-02-24T00:14:19.314Z"
   },
   {
    "duration": 3,
    "start_time": "2023-02-24T00:14:28.005Z"
   },
   {
    "duration": 12,
    "start_time": "2023-02-24T00:14:43.731Z"
   },
   {
    "duration": 1116,
    "start_time": "2023-02-24T00:29:44.953Z"
   },
   {
    "duration": 60,
    "start_time": "2023-02-24T00:29:46.071Z"
   },
   {
    "duration": 17,
    "start_time": "2023-02-24T00:29:46.133Z"
   },
   {
    "duration": 5,
    "start_time": "2023-02-24T00:29:46.153Z"
   },
   {
    "duration": 6,
    "start_time": "2023-02-24T00:29:46.160Z"
   },
   {
    "duration": 8,
    "start_time": "2023-02-24T00:29:46.168Z"
   },
   {
    "duration": 5,
    "start_time": "2023-02-24T00:29:46.177Z"
   },
   {
    "duration": 109,
    "start_time": "2023-02-24T00:29:46.184Z"
   },
   {
    "duration": 0,
    "start_time": "2023-02-24T00:29:46.295Z"
   },
   {
    "duration": 0,
    "start_time": "2023-02-24T00:29:46.296Z"
   },
   {
    "duration": 0,
    "start_time": "2023-02-24T00:29:46.297Z"
   },
   {
    "duration": 0,
    "start_time": "2023-02-24T00:29:46.298Z"
   },
   {
    "duration": 1168,
    "start_time": "2023-02-24T00:30:03.076Z"
   },
   {
    "duration": 61,
    "start_time": "2023-02-24T00:30:04.246Z"
   },
   {
    "duration": 16,
    "start_time": "2023-02-24T00:30:04.309Z"
   },
   {
    "duration": 5,
    "start_time": "2023-02-24T00:30:04.328Z"
   },
   {
    "duration": 11,
    "start_time": "2023-02-24T00:30:04.335Z"
   },
   {
    "duration": 9,
    "start_time": "2023-02-24T00:30:04.348Z"
   },
   {
    "duration": 9,
    "start_time": "2023-02-24T00:30:04.359Z"
   },
   {
    "duration": 108,
    "start_time": "2023-02-24T00:30:04.369Z"
   },
   {
    "duration": 0,
    "start_time": "2023-02-24T00:30:04.479Z"
   },
   {
    "duration": 0,
    "start_time": "2023-02-24T00:30:04.480Z"
   },
   {
    "duration": 0,
    "start_time": "2023-02-24T00:30:04.481Z"
   },
   {
    "duration": 0,
    "start_time": "2023-02-24T00:30:04.483Z"
   },
   {
    "duration": 1100,
    "start_time": "2023-02-24T00:30:16.684Z"
   },
   {
    "duration": 60,
    "start_time": "2023-02-24T00:30:17.786Z"
   },
   {
    "duration": 18,
    "start_time": "2023-02-24T00:30:17.847Z"
   },
   {
    "duration": 12,
    "start_time": "2023-02-24T00:30:17.867Z"
   },
   {
    "duration": 8,
    "start_time": "2023-02-24T00:30:17.881Z"
   },
   {
    "duration": 18,
    "start_time": "2023-02-24T00:30:17.890Z"
   },
   {
    "duration": 22,
    "start_time": "2023-02-24T00:30:17.909Z"
   },
   {
    "duration": 15,
    "start_time": "2023-02-24T00:30:17.933Z"
   },
   {
    "duration": 111,
    "start_time": "2023-02-24T00:30:17.950Z"
   },
   {
    "duration": 0,
    "start_time": "2023-02-24T00:30:18.063Z"
   },
   {
    "duration": 0,
    "start_time": "2023-02-24T00:30:18.064Z"
   },
   {
    "duration": 0,
    "start_time": "2023-02-24T00:30:18.066Z"
   },
   {
    "duration": 1113,
    "start_time": "2023-02-24T00:30:31.694Z"
   },
   {
    "duration": 59,
    "start_time": "2023-02-24T00:30:32.809Z"
   },
   {
    "duration": 13,
    "start_time": "2023-02-24T00:30:32.870Z"
   },
   {
    "duration": 33,
    "start_time": "2023-02-24T00:30:32.885Z"
   },
   {
    "duration": 56,
    "start_time": "2023-02-24T00:30:32.920Z"
   },
   {
    "duration": 44,
    "start_time": "2023-02-24T00:30:32.978Z"
   },
   {
    "duration": 37,
    "start_time": "2023-02-24T00:30:33.024Z"
   },
   {
    "duration": 50,
    "start_time": "2023-02-24T00:30:33.063Z"
   },
   {
    "duration": 45,
    "start_time": "2023-02-24T00:30:33.116Z"
   },
   {
    "duration": 62,
    "start_time": "2023-02-24T00:30:33.163Z"
   },
   {
    "duration": 64,
    "start_time": "2023-02-24T00:30:33.227Z"
   },
   {
    "duration": 732,
    "start_time": "2023-02-24T00:30:33.347Z"
   },
   {
    "duration": 102,
    "start_time": "2023-02-24T00:37:50.861Z"
   },
   {
    "duration": 596,
    "start_time": "2023-02-24T00:38:05.079Z"
   },
   {
    "duration": 111,
    "start_time": "2023-02-24T00:38:19.663Z"
   },
   {
    "duration": 116,
    "start_time": "2023-02-24T00:38:25.460Z"
   },
   {
    "duration": 112,
    "start_time": "2023-02-24T00:38:52.496Z"
   },
   {
    "duration": 106,
    "start_time": "2023-02-24T00:38:56.805Z"
   },
   {
    "duration": 185,
    "start_time": "2023-02-24T00:40:02.131Z"
   },
   {
    "duration": 115,
    "start_time": "2023-02-24T00:40:27.406Z"
   },
   {
    "duration": 140,
    "start_time": "2023-02-24T00:40:32.849Z"
   },
   {
    "duration": 120,
    "start_time": "2023-02-24T00:40:36.496Z"
   },
   {
    "duration": 105,
    "start_time": "2023-02-24T00:40:41.721Z"
   },
   {
    "duration": 160,
    "start_time": "2023-02-24T00:41:30.357Z"
   },
   {
    "duration": 128,
    "start_time": "2023-02-24T00:41:35.107Z"
   },
   {
    "duration": 112,
    "start_time": "2023-02-24T00:41:39.986Z"
   },
   {
    "duration": 109,
    "start_time": "2023-02-24T00:42:54.437Z"
   },
   {
    "duration": 127,
    "start_time": "2023-02-24T00:42:57.801Z"
   },
   {
    "duration": 113,
    "start_time": "2023-02-24T00:43:23.824Z"
   },
   {
    "duration": 117,
    "start_time": "2023-02-24T00:43:38.079Z"
   },
   {
    "duration": 117,
    "start_time": "2023-02-24T00:44:11.017Z"
   },
   {
    "duration": 112,
    "start_time": "2023-02-24T00:44:28.695Z"
   },
   {
    "duration": 214,
    "start_time": "2023-02-24T00:44:39.000Z"
   },
   {
    "duration": 113,
    "start_time": "2023-02-24T00:44:42.659Z"
   },
   {
    "duration": 121,
    "start_time": "2023-02-24T00:45:14.135Z"
   },
   {
    "duration": 107,
    "start_time": "2023-02-24T00:45:52.369Z"
   },
   {
    "duration": 117,
    "start_time": "2023-02-24T00:45:59.685Z"
   },
   {
    "duration": 108,
    "start_time": "2023-02-24T00:46:02.813Z"
   },
   {
    "duration": 122,
    "start_time": "2023-02-24T00:47:21.009Z"
   },
   {
    "duration": 121,
    "start_time": "2023-02-24T00:47:59.399Z"
   },
   {
    "duration": 118,
    "start_time": "2023-02-24T00:48:37.129Z"
   },
   {
    "duration": 115,
    "start_time": "2023-02-24T00:48:42.619Z"
   },
   {
    "duration": 117,
    "start_time": "2023-02-24T00:48:52.703Z"
   },
   {
    "duration": 164,
    "start_time": "2023-02-24T00:49:04.363Z"
   },
   {
    "duration": 1059,
    "start_time": "2023-02-24T00:49:09.098Z"
   },
   {
    "duration": 58,
    "start_time": "2023-02-24T00:49:10.159Z"
   },
   {
    "duration": 13,
    "start_time": "2023-02-24T00:49:10.219Z"
   },
   {
    "duration": 4,
    "start_time": "2023-02-24T00:49:10.234Z"
   },
   {
    "duration": 5,
    "start_time": "2023-02-24T00:49:10.239Z"
   },
   {
    "duration": 10,
    "start_time": "2023-02-24T00:49:10.246Z"
   },
   {
    "duration": 9,
    "start_time": "2023-02-24T00:49:10.257Z"
   },
   {
    "duration": 12,
    "start_time": "2023-02-24T00:49:10.267Z"
   },
   {
    "duration": 20,
    "start_time": "2023-02-24T00:49:10.281Z"
   },
   {
    "duration": 31,
    "start_time": "2023-02-24T00:49:10.303Z"
   },
   {
    "duration": 111,
    "start_time": "2023-02-24T00:49:10.335Z"
   },
   {
    "duration": 726,
    "start_time": "2023-02-24T00:49:10.448Z"
   },
   {
    "duration": 110,
    "start_time": "2023-02-24T00:49:11.176Z"
   },
   {
    "duration": 1167,
    "start_time": "2023-02-24T00:49:26.971Z"
   },
   {
    "duration": 59,
    "start_time": "2023-02-24T00:49:28.140Z"
   },
   {
    "duration": 13,
    "start_time": "2023-02-24T00:49:28.200Z"
   },
   {
    "duration": 4,
    "start_time": "2023-02-24T00:49:28.215Z"
   },
   {
    "duration": 14,
    "start_time": "2023-02-24T00:49:28.221Z"
   },
   {
    "duration": 8,
    "start_time": "2023-02-24T00:49:28.237Z"
   },
   {
    "duration": 10,
    "start_time": "2023-02-24T00:49:28.247Z"
   },
   {
    "duration": 15,
    "start_time": "2023-02-24T00:49:28.258Z"
   },
   {
    "duration": 10,
    "start_time": "2023-02-24T00:49:28.275Z"
   },
   {
    "duration": 31,
    "start_time": "2023-02-24T00:49:28.288Z"
   },
   {
    "duration": 42,
    "start_time": "2023-02-24T00:49:28.321Z"
   },
   {
    "duration": 813,
    "start_time": "2023-02-24T00:49:28.365Z"
   },
   {
    "duration": 396,
    "start_time": "2023-02-24T00:49:29.180Z"
   },
   {
    "duration": 1177,
    "start_time": "2023-02-24T00:56:42.103Z"
   },
   {
    "duration": 56,
    "start_time": "2023-02-24T00:56:43.282Z"
   },
   {
    "duration": 14,
    "start_time": "2023-02-24T00:56:43.340Z"
   },
   {
    "duration": 5,
    "start_time": "2023-02-24T00:56:43.356Z"
   },
   {
    "duration": 25,
    "start_time": "2023-02-24T00:56:43.362Z"
   },
   {
    "duration": 6,
    "start_time": "2023-02-24T00:56:43.388Z"
   },
   {
    "duration": 6,
    "start_time": "2023-02-24T00:56:43.396Z"
   },
   {
    "duration": 16,
    "start_time": "2023-02-24T00:56:43.403Z"
   },
   {
    "duration": 9,
    "start_time": "2023-02-24T00:56:43.421Z"
   },
   {
    "duration": 31,
    "start_time": "2023-02-24T00:56:43.433Z"
   },
   {
    "duration": 84,
    "start_time": "2023-02-24T00:56:43.465Z"
   },
   {
    "duration": 723,
    "start_time": "2023-02-24T00:56:43.550Z"
   },
   {
    "duration": 383,
    "start_time": "2023-02-24T00:56:44.275Z"
   },
   {
    "duration": 132,
    "start_time": "2023-02-24T00:56:44.659Z"
   },
   {
    "duration": 112,
    "start_time": "2023-02-24T00:56:44.793Z"
   },
   {
    "duration": 1118,
    "start_time": "2023-02-24T00:57:13.270Z"
   },
   {
    "duration": 58,
    "start_time": "2023-02-24T00:57:14.390Z"
   },
   {
    "duration": 17,
    "start_time": "2023-02-24T00:57:14.453Z"
   },
   {
    "duration": 4,
    "start_time": "2023-02-24T00:57:14.472Z"
   },
   {
    "duration": 4,
    "start_time": "2023-02-24T00:57:14.478Z"
   },
   {
    "duration": 6,
    "start_time": "2023-02-24T00:57:14.484Z"
   },
   {
    "duration": 4,
    "start_time": "2023-02-24T00:57:14.491Z"
   },
   {
    "duration": 12,
    "start_time": "2023-02-24T00:57:14.496Z"
   },
   {
    "duration": 41,
    "start_time": "2023-02-24T00:57:14.510Z"
   },
   {
    "duration": 30,
    "start_time": "2023-02-24T00:57:14.553Z"
   },
   {
    "duration": 163,
    "start_time": "2023-02-24T00:57:14.585Z"
   },
   {
    "duration": 750,
    "start_time": "2023-02-24T00:57:14.751Z"
   },
   {
    "duration": 406,
    "start_time": "2023-02-24T00:57:15.503Z"
   },
   {
    "duration": 108,
    "start_time": "2023-02-24T00:57:15.910Z"
   },
   {
    "duration": 109,
    "start_time": "2023-02-24T00:57:16.020Z"
   },
   {
    "duration": 7,
    "start_time": "2023-02-24T01:00:23.948Z"
   },
   {
    "duration": 6,
    "start_time": "2023-02-24T01:02:44.363Z"
   },
   {
    "duration": 7,
    "start_time": "2023-02-24T01:02:44.961Z"
   },
   {
    "duration": 1160,
    "start_time": "2023-02-24T01:06:20.782Z"
   },
   {
    "duration": 57,
    "start_time": "2023-02-24T01:06:21.944Z"
   },
   {
    "duration": 14,
    "start_time": "2023-02-24T01:06:22.003Z"
   },
   {
    "duration": 4,
    "start_time": "2023-02-24T01:06:22.019Z"
   },
   {
    "duration": 9,
    "start_time": "2023-02-24T01:06:22.024Z"
   },
   {
    "duration": 9,
    "start_time": "2023-02-24T01:06:22.034Z"
   },
   {
    "duration": 4,
    "start_time": "2023-02-24T01:06:22.045Z"
   },
   {
    "duration": 12,
    "start_time": "2023-02-24T01:06:22.050Z"
   },
   {
    "duration": 10,
    "start_time": "2023-02-24T01:06:22.064Z"
   },
   {
    "duration": 28,
    "start_time": "2023-02-24T01:06:22.077Z"
   },
   {
    "duration": 48,
    "start_time": "2023-02-24T01:06:22.107Z"
   },
   {
    "duration": 812,
    "start_time": "2023-02-24T01:06:22.157Z"
   },
   {
    "duration": 408,
    "start_time": "2023-02-24T01:06:22.970Z"
   },
   {
    "duration": 115,
    "start_time": "2023-02-24T01:06:23.380Z"
   },
   {
    "duration": 103,
    "start_time": "2023-02-24T01:06:23.497Z"
   },
   {
    "duration": 5,
    "start_time": "2023-02-24T01:06:23.602Z"
   },
   {
    "duration": 6,
    "start_time": "2023-02-24T01:06:23.609Z"
   },
   {
    "duration": 8,
    "start_time": "2023-02-24T01:06:23.616Z"
   },
   {
    "duration": 1121,
    "start_time": "2023-02-24T01:14:37.929Z"
   },
   {
    "duration": 56,
    "start_time": "2023-02-24T01:14:39.052Z"
   },
   {
    "duration": 12,
    "start_time": "2023-02-24T01:14:39.110Z"
   },
   {
    "duration": 4,
    "start_time": "2023-02-24T01:14:39.124Z"
   },
   {
    "duration": 4,
    "start_time": "2023-02-24T01:14:39.130Z"
   },
   {
    "duration": 7,
    "start_time": "2023-02-24T01:14:39.135Z"
   },
   {
    "duration": 6,
    "start_time": "2023-02-24T01:14:39.144Z"
   },
   {
    "duration": 12,
    "start_time": "2023-02-24T01:14:39.152Z"
   },
   {
    "duration": 9,
    "start_time": "2023-02-24T01:14:39.166Z"
   },
   {
    "duration": 31,
    "start_time": "2023-02-24T01:14:39.177Z"
   },
   {
    "duration": 143,
    "start_time": "2023-02-24T01:14:39.211Z"
   },
   {
    "duration": 695,
    "start_time": "2023-02-24T01:14:39.446Z"
   },
   {
    "duration": 441,
    "start_time": "2023-02-24T01:14:40.142Z"
   },
   {
    "duration": 111,
    "start_time": "2023-02-24T01:14:40.585Z"
   },
   {
    "duration": 108,
    "start_time": "2023-02-24T01:14:40.697Z"
   },
   {
    "duration": 6,
    "start_time": "2023-02-24T01:14:40.807Z"
   },
   {
    "duration": 11,
    "start_time": "2023-02-24T01:14:40.814Z"
   },
   {
    "duration": 8,
    "start_time": "2023-02-24T01:14:40.845Z"
   },
   {
    "duration": 91,
    "start_time": "2023-02-24T01:14:40.855Z"
   },
   {
    "duration": 96,
    "start_time": "2023-02-24T01:14:40.949Z"
   },
   {
    "duration": 23,
    "start_time": "2023-02-24T01:14:41.047Z"
   },
   {
    "duration": 598,
    "start_time": "2023-02-24T01:16:21.820Z"
   },
   {
    "duration": 30,
    "start_time": "2023-02-24T01:16:22.420Z"
   },
   {
    "duration": 495,
    "start_time": "2023-02-24T01:19:32.772Z"
   },
   {
    "duration": 23,
    "start_time": "2023-02-24T01:19:33.269Z"
   },
   {
    "duration": 521,
    "start_time": "2023-02-24T01:19:50.453Z"
   },
   {
    "duration": 1214,
    "start_time": "2023-02-24T01:20:19.316Z"
   },
   {
    "duration": 76,
    "start_time": "2023-02-24T01:20:20.533Z"
   },
   {
    "duration": 15,
    "start_time": "2023-02-24T01:20:20.611Z"
   },
   {
    "duration": 26,
    "start_time": "2023-02-24T01:20:20.629Z"
   },
   {
    "duration": 10,
    "start_time": "2023-02-24T01:20:20.657Z"
   },
   {
    "duration": 8,
    "start_time": "2023-02-24T01:20:20.668Z"
   },
   {
    "duration": 7,
    "start_time": "2023-02-24T01:20:20.678Z"
   },
   {
    "duration": 12,
    "start_time": "2023-02-24T01:20:20.687Z"
   },
   {
    "duration": 10,
    "start_time": "2023-02-24T01:20:20.700Z"
   },
   {
    "duration": 39,
    "start_time": "2023-02-24T01:20:20.713Z"
   },
   {
    "duration": 93,
    "start_time": "2023-02-24T01:20:20.754Z"
   },
   {
    "duration": 607,
    "start_time": "2023-02-24T01:20:20.848Z"
   },
   {
    "duration": 408,
    "start_time": "2023-02-24T01:20:21.457Z"
   },
   {
    "duration": 106,
    "start_time": "2023-02-24T01:20:21.867Z"
   },
   {
    "duration": 114,
    "start_time": "2023-02-24T01:20:21.975Z"
   },
   {
    "duration": 5,
    "start_time": "2023-02-24T01:20:22.091Z"
   },
   {
    "duration": 19,
    "start_time": "2023-02-24T01:20:22.098Z"
   },
   {
    "duration": 20,
    "start_time": "2023-02-24T01:20:22.119Z"
   },
   {
    "duration": 40,
    "start_time": "2023-02-24T01:20:22.141Z"
   },
   {
    "duration": 4,
    "start_time": "2023-02-24T01:20:22.245Z"
   },
   {
    "duration": 113,
    "start_time": "2023-02-24T01:20:22.252Z"
   },
   {
    "duration": 484,
    "start_time": "2023-02-24T01:20:22.367Z"
   },
   {
    "duration": 20,
    "start_time": "2023-02-24T01:20:22.853Z"
   },
   {
    "duration": 71,
    "start_time": "2023-02-24T01:20:22.875Z"
   },
   {
    "duration": 611,
    "start_time": "2023-02-24T01:20:22.950Z"
   },
   {
    "duration": 1120,
    "start_time": "2023-02-24T01:24:38.292Z"
   },
   {
    "duration": 63,
    "start_time": "2023-02-24T01:24:39.413Z"
   },
   {
    "duration": 15,
    "start_time": "2023-02-24T01:24:39.478Z"
   },
   {
    "duration": 5,
    "start_time": "2023-02-24T01:24:39.495Z"
   },
   {
    "duration": 6,
    "start_time": "2023-02-24T01:24:39.501Z"
   },
   {
    "duration": 8,
    "start_time": "2023-02-24T01:24:39.509Z"
   },
   {
    "duration": 9,
    "start_time": "2023-02-24T01:24:39.519Z"
   },
   {
    "duration": 23,
    "start_time": "2023-02-24T01:24:39.530Z"
   },
   {
    "duration": 9,
    "start_time": "2023-02-24T01:24:39.555Z"
   },
   {
    "duration": 30,
    "start_time": "2023-02-24T01:24:39.566Z"
   },
   {
    "duration": 152,
    "start_time": "2023-02-24T01:24:39.597Z"
   },
   {
    "duration": 593,
    "start_time": "2023-02-24T01:24:39.752Z"
   },
   {
    "duration": 400,
    "start_time": "2023-02-24T01:24:40.347Z"
   },
   {
    "duration": 109,
    "start_time": "2023-02-24T01:24:40.749Z"
   },
   {
    "duration": 123,
    "start_time": "2023-02-24T01:24:40.859Z"
   },
   {
    "duration": 6,
    "start_time": "2023-02-24T01:24:40.983Z"
   },
   {
    "duration": 21,
    "start_time": "2023-02-24T01:24:40.991Z"
   },
   {
    "duration": 25,
    "start_time": "2023-02-24T01:24:41.014Z"
   },
   {
    "duration": 105,
    "start_time": "2023-02-24T01:24:41.040Z"
   },
   {
    "duration": 5,
    "start_time": "2023-02-24T01:24:41.148Z"
   },
   {
    "duration": 138,
    "start_time": "2023-02-24T01:24:41.155Z"
   },
   {
    "duration": 559,
    "start_time": "2023-02-24T01:24:41.294Z"
   },
   {
    "duration": 21,
    "start_time": "2023-02-24T01:24:41.855Z"
   },
   {
    "duration": 78,
    "start_time": "2023-02-24T01:24:41.878Z"
   },
   {
    "duration": 578,
    "start_time": "2023-02-24T01:24:41.959Z"
   },
   {
    "duration": 3191,
    "start_time": "2023-02-24T01:24:42.539Z"
   },
   {
    "duration": 399,
    "start_time": "2023-02-24T01:24:45.731Z"
   },
   {
    "duration": 1152,
    "start_time": "2023-02-24T01:25:21.741Z"
   },
   {
    "duration": 56,
    "start_time": "2023-02-24T01:25:22.895Z"
   },
   {
    "duration": 14,
    "start_time": "2023-02-24T01:25:22.953Z"
   },
   {
    "duration": 5,
    "start_time": "2023-02-24T01:25:22.969Z"
   },
   {
    "duration": 5,
    "start_time": "2023-02-24T01:25:22.976Z"
   },
   {
    "duration": 11,
    "start_time": "2023-02-24T01:25:22.982Z"
   },
   {
    "duration": 7,
    "start_time": "2023-02-24T01:25:22.995Z"
   },
   {
    "duration": 18,
    "start_time": "2023-02-24T01:25:23.004Z"
   },
   {
    "duration": 23,
    "start_time": "2023-02-24T01:25:23.024Z"
   },
   {
    "duration": 48,
    "start_time": "2023-02-24T01:25:23.050Z"
   },
   {
    "duration": 51,
    "start_time": "2023-02-24T01:25:23.100Z"
   },
   {
    "duration": 705,
    "start_time": "2023-02-24T01:25:23.155Z"
   },
   {
    "duration": 381,
    "start_time": "2023-02-24T01:25:23.862Z"
   },
   {
    "duration": 108,
    "start_time": "2023-02-24T01:25:24.244Z"
   },
   {
    "duration": 110,
    "start_time": "2023-02-24T01:25:24.354Z"
   },
   {
    "duration": 6,
    "start_time": "2023-02-24T01:25:24.465Z"
   },
   {
    "duration": 27,
    "start_time": "2023-02-24T01:25:24.472Z"
   },
   {
    "duration": 17,
    "start_time": "2023-02-24T01:25:24.501Z"
   },
   {
    "duration": 29,
    "start_time": "2023-02-24T01:25:24.519Z"
   },
   {
    "duration": 5,
    "start_time": "2023-02-24T01:25:24.551Z"
   },
   {
    "duration": 208,
    "start_time": "2023-02-24T01:25:24.558Z"
   },
   {
    "duration": 492,
    "start_time": "2023-02-24T01:25:24.768Z"
   },
   {
    "duration": 22,
    "start_time": "2023-02-24T01:25:25.262Z"
   },
   {
    "duration": 61,
    "start_time": "2023-02-24T01:25:25.286Z"
   },
   {
    "duration": 585,
    "start_time": "2023-02-24T01:25:25.350Z"
   },
   {
    "duration": 3224,
    "start_time": "2023-02-24T01:25:25.937Z"
   },
   {
    "duration": 2863,
    "start_time": "2023-02-24T01:25:29.162Z"
   },
   {
    "duration": 113,
    "start_time": "2023-02-24T01:40:36.112Z"
   },
   {
    "duration": 11,
    "start_time": "2023-02-24T01:40:42.042Z"
   },
   {
    "duration": 550,
    "start_time": "2023-02-24T01:45:33.635Z"
   },
   {
    "duration": 537,
    "start_time": "2023-02-24T01:45:48.393Z"
   },
   {
    "duration": 560,
    "start_time": "2023-02-24T01:48:02.202Z"
   },
   {
    "duration": 564,
    "start_time": "2023-02-24T01:48:49.709Z"
   },
   {
    "duration": 584,
    "start_time": "2023-02-24T01:49:50.725Z"
   },
   {
    "duration": 43,
    "start_time": "2023-02-24T01:51:56.995Z"
   },
   {
    "duration": 49,
    "start_time": "2023-02-24T01:52:06.757Z"
   },
   {
    "duration": 1189,
    "start_time": "2023-02-24T01:52:59.163Z"
   },
   {
    "duration": 59,
    "start_time": "2023-02-24T01:53:00.354Z"
   },
   {
    "duration": 16,
    "start_time": "2023-02-24T01:53:00.414Z"
   },
   {
    "duration": 10,
    "start_time": "2023-02-24T01:53:00.432Z"
   },
   {
    "duration": 8,
    "start_time": "2023-02-24T01:53:00.445Z"
   },
   {
    "duration": 9,
    "start_time": "2023-02-24T01:53:00.455Z"
   },
   {
    "duration": 15,
    "start_time": "2023-02-24T01:53:00.466Z"
   },
   {
    "duration": 20,
    "start_time": "2023-02-24T01:53:00.483Z"
   },
   {
    "duration": 20,
    "start_time": "2023-02-24T01:53:00.505Z"
   },
   {
    "duration": 58,
    "start_time": "2023-02-24T01:53:00.527Z"
   },
   {
    "duration": 72,
    "start_time": "2023-02-24T01:53:00.587Z"
   },
   {
    "duration": 629,
    "start_time": "2023-02-24T01:53:00.746Z"
   },
   {
    "duration": 408,
    "start_time": "2023-02-24T01:53:01.378Z"
   },
   {
    "duration": 108,
    "start_time": "2023-02-24T01:53:01.789Z"
   },
   {
    "duration": 118,
    "start_time": "2023-02-24T01:53:01.899Z"
   },
   {
    "duration": 7,
    "start_time": "2023-02-24T01:53:02.019Z"
   },
   {
    "duration": 37,
    "start_time": "2023-02-24T01:53:02.028Z"
   },
   {
    "duration": 32,
    "start_time": "2023-02-24T01:53:02.067Z"
   },
   {
    "duration": 8,
    "start_time": "2023-02-24T01:53:02.101Z"
   },
   {
    "duration": 51,
    "start_time": "2023-02-24T01:53:02.111Z"
   },
   {
    "duration": 193,
    "start_time": "2023-02-24T01:53:02.164Z"
   },
   {
    "duration": 507,
    "start_time": "2023-02-24T01:53:02.359Z"
   },
   {
    "duration": 29,
    "start_time": "2023-02-24T01:53:02.868Z"
   },
   {
    "duration": 149,
    "start_time": "2023-02-24T01:53:02.899Z"
   },
   {
    "duration": 574,
    "start_time": "2023-02-24T01:53:03.050Z"
   },
   {
    "duration": 3256,
    "start_time": "2023-02-24T01:53:03.626Z"
   },
   {
    "duration": 2792,
    "start_time": "2023-02-24T01:53:06.884Z"
   },
   {
    "duration": 553,
    "start_time": "2023-02-24T01:53:09.677Z"
   },
   {
    "duration": 160,
    "start_time": "2023-02-24T01:53:10.231Z"
   },
   {
    "duration": 1196,
    "start_time": "2023-02-24T02:00:54.813Z"
   },
   {
    "duration": 62,
    "start_time": "2023-02-24T02:00:56.011Z"
   },
   {
    "duration": 12,
    "start_time": "2023-02-24T02:00:56.075Z"
   },
   {
    "duration": 6,
    "start_time": "2023-02-24T02:00:56.089Z"
   },
   {
    "duration": 5,
    "start_time": "2023-02-24T02:00:56.096Z"
   },
   {
    "duration": 6,
    "start_time": "2023-02-24T02:00:56.103Z"
   },
   {
    "duration": 5,
    "start_time": "2023-02-24T02:00:56.111Z"
   },
   {
    "duration": 36,
    "start_time": "2023-02-24T02:00:56.118Z"
   },
   {
    "duration": 13,
    "start_time": "2023-02-24T02:00:56.156Z"
   },
   {
    "duration": 29,
    "start_time": "2023-02-24T02:00:56.171Z"
   },
   {
    "duration": 69,
    "start_time": "2023-02-24T02:00:56.202Z"
   },
   {
    "duration": 602,
    "start_time": "2023-02-24T02:00:56.273Z"
   },
   {
    "duration": 416,
    "start_time": "2023-02-24T02:00:56.877Z"
   },
   {
    "duration": 117,
    "start_time": "2023-02-24T02:00:57.294Z"
   },
   {
    "duration": 144,
    "start_time": "2023-02-24T02:00:57.412Z"
   },
   {
    "duration": 6,
    "start_time": "2023-02-24T02:00:57.560Z"
   },
   {
    "duration": 9,
    "start_time": "2023-02-24T02:00:57.567Z"
   },
   {
    "duration": 5,
    "start_time": "2023-02-24T02:00:57.578Z"
   },
   {
    "duration": 5,
    "start_time": "2023-02-24T02:00:57.585Z"
   },
   {
    "duration": 21,
    "start_time": "2023-02-24T02:00:57.591Z"
   },
   {
    "duration": 148,
    "start_time": "2023-02-24T02:00:57.613Z"
   },
   {
    "duration": 494,
    "start_time": "2023-02-24T02:00:57.763Z"
   },
   {
    "duration": 23,
    "start_time": "2023-02-24T02:00:58.264Z"
   },
   {
    "duration": 154,
    "start_time": "2023-02-24T02:00:58.290Z"
   },
   {
    "duration": 456,
    "start_time": "2023-02-24T02:00:58.447Z"
   },
   {
    "duration": 2863,
    "start_time": "2023-02-24T02:00:58.904Z"
   },
   {
    "duration": 2548,
    "start_time": "2023-02-24T02:01:01.769Z"
   },
   {
    "duration": 534,
    "start_time": "2023-02-24T02:01:04.320Z"
   },
   {
    "duration": 167,
    "start_time": "2023-02-24T02:01:04.860Z"
   },
   {
    "duration": 382,
    "start_time": "2023-02-24T02:05:15.286Z"
   },
   {
    "duration": 477,
    "start_time": "2023-02-24T02:05:21.638Z"
   },
   {
    "duration": 93,
    "start_time": "2023-02-24T02:05:28.576Z"
   },
   {
    "duration": 370,
    "start_time": "2023-02-24T02:05:32.913Z"
   },
   {
    "duration": 702,
    "start_time": "2023-02-24T02:05:57.892Z"
   },
   {
    "duration": 482,
    "start_time": "2023-02-24T02:06:04.635Z"
   },
   {
    "duration": 704,
    "start_time": "2023-02-24T02:06:10.597Z"
   },
   {
    "duration": 71,
    "start_time": "2023-02-24T02:06:11.303Z"
   },
   {
    "duration": 1157,
    "start_time": "2023-02-24T02:08:45.029Z"
   },
   {
    "duration": 63,
    "start_time": "2023-02-24T02:08:46.188Z"
   },
   {
    "duration": 17,
    "start_time": "2023-02-24T02:08:46.256Z"
   },
   {
    "duration": 4,
    "start_time": "2023-02-24T02:08:46.274Z"
   },
   {
    "duration": 12,
    "start_time": "2023-02-24T02:08:46.279Z"
   },
   {
    "duration": 7,
    "start_time": "2023-02-24T02:08:46.293Z"
   },
   {
    "duration": 4,
    "start_time": "2023-02-24T02:08:46.301Z"
   },
   {
    "duration": 12,
    "start_time": "2023-02-24T02:08:46.307Z"
   },
   {
    "duration": 28,
    "start_time": "2023-02-24T02:08:46.321Z"
   },
   {
    "duration": 24,
    "start_time": "2023-02-24T02:08:46.351Z"
   },
   {
    "duration": 73,
    "start_time": "2023-02-24T02:08:46.376Z"
   },
   {
    "duration": 535,
    "start_time": "2023-02-24T02:08:46.452Z"
   },
   {
    "duration": 405,
    "start_time": "2023-02-24T02:08:46.988Z"
   },
   {
    "duration": 116,
    "start_time": "2023-02-24T02:08:47.394Z"
   },
   {
    "duration": 116,
    "start_time": "2023-02-24T02:08:47.512Z"
   },
   {
    "duration": 14,
    "start_time": "2023-02-24T02:08:47.630Z"
   },
   {
    "duration": 14,
    "start_time": "2023-02-24T02:08:47.647Z"
   },
   {
    "duration": 8,
    "start_time": "2023-02-24T02:08:47.663Z"
   },
   {
    "duration": 4,
    "start_time": "2023-02-24T02:08:47.673Z"
   },
   {
    "duration": 21,
    "start_time": "2023-02-24T02:08:47.679Z"
   },
   {
    "duration": 117,
    "start_time": "2023-02-24T02:08:47.746Z"
   },
   {
    "duration": 413,
    "start_time": "2023-02-24T02:08:47.867Z"
   },
   {
    "duration": 24,
    "start_time": "2023-02-24T02:08:48.281Z"
   },
   {
    "duration": 54,
    "start_time": "2023-02-24T02:08:48.307Z"
   },
   {
    "duration": 458,
    "start_time": "2023-02-24T02:08:48.450Z"
   },
   {
    "duration": 2742,
    "start_time": "2023-02-24T02:08:48.909Z"
   },
   {
    "duration": 2338,
    "start_time": "2023-02-24T02:08:51.657Z"
   },
   {
    "duration": 700,
    "start_time": "2023-02-24T02:08:53.997Z"
   },
   {
    "duration": 181,
    "start_time": "2023-02-24T02:08:54.699Z"
   },
   {
    "duration": 36,
    "start_time": "2023-02-24T02:09:40.600Z"
   },
   {
    "duration": 10,
    "start_time": "2023-02-24T02:10:52.191Z"
   },
   {
    "duration": 1126,
    "start_time": "2023-02-24T02:10:55.991Z"
   },
   {
    "duration": 63,
    "start_time": "2023-02-24T02:10:57.118Z"
   },
   {
    "duration": 13,
    "start_time": "2023-02-24T02:10:57.182Z"
   },
   {
    "duration": 29,
    "start_time": "2023-02-24T02:10:57.197Z"
   },
   {
    "duration": 33,
    "start_time": "2023-02-24T02:10:57.228Z"
   },
   {
    "duration": 9,
    "start_time": "2023-02-24T02:10:57.263Z"
   },
   {
    "duration": 5,
    "start_time": "2023-02-24T02:10:57.274Z"
   },
   {
    "duration": 13,
    "start_time": "2023-02-24T02:10:57.281Z"
   },
   {
    "duration": 10,
    "start_time": "2023-02-24T02:10:57.296Z"
   },
   {
    "duration": 29,
    "start_time": "2023-02-24T02:10:57.310Z"
   },
   {
    "duration": 30,
    "start_time": "2023-02-24T02:10:57.351Z"
   },
   {
    "duration": 580,
    "start_time": "2023-02-24T02:10:57.382Z"
   },
   {
    "duration": 798,
    "start_time": "2023-02-24T02:10:57.964Z"
   },
   {
    "duration": 217,
    "start_time": "2023-02-24T02:10:58.765Z"
   },
   {
    "duration": 271,
    "start_time": "2023-02-24T02:10:58.983Z"
   },
   {
    "duration": 7,
    "start_time": "2023-02-24T02:10:59.263Z"
   },
   {
    "duration": 9,
    "start_time": "2023-02-24T02:10:59.272Z"
   },
   {
    "duration": 14,
    "start_time": "2023-02-24T02:10:59.282Z"
   },
   {
    "duration": 14,
    "start_time": "2023-02-24T02:10:59.298Z"
   },
   {
    "duration": 44,
    "start_time": "2023-02-24T02:10:59.346Z"
   },
   {
    "duration": 71,
    "start_time": "2023-02-24T02:10:59.392Z"
   },
   {
    "duration": 815,
    "start_time": "2023-02-24T02:10:59.465Z"
   },
   {
    "duration": 22,
    "start_time": "2023-02-24T02:11:00.282Z"
   },
   {
    "duration": 25,
    "start_time": "2023-02-24T02:11:00.306Z"
   },
   {
    "duration": 555,
    "start_time": "2023-02-24T02:11:00.346Z"
   },
   {
    "duration": 3346,
    "start_time": "2023-02-24T02:11:00.903Z"
   },
   {
    "duration": 2823,
    "start_time": "2023-02-24T02:11:04.251Z"
   },
   {
    "duration": 875,
    "start_time": "2023-02-24T02:11:07.077Z"
   },
   {
    "duration": 155,
    "start_time": "2023-02-24T02:11:07.956Z"
   },
   {
    "duration": 1163,
    "start_time": "2023-02-24T02:18:24.763Z"
   },
   {
    "duration": 63,
    "start_time": "2023-02-24T02:18:25.928Z"
   },
   {
    "duration": 14,
    "start_time": "2023-02-24T02:18:25.993Z"
   },
   {
    "duration": 4,
    "start_time": "2023-02-24T02:18:26.010Z"
   },
   {
    "duration": 7,
    "start_time": "2023-02-24T02:18:26.015Z"
   },
   {
    "duration": 6,
    "start_time": "2023-02-24T02:18:26.024Z"
   },
   {
    "duration": 14,
    "start_time": "2023-02-24T02:18:26.032Z"
   },
   {
    "duration": 15,
    "start_time": "2023-02-24T02:18:26.053Z"
   },
   {
    "duration": 14,
    "start_time": "2023-02-24T02:18:26.070Z"
   },
   {
    "duration": 27,
    "start_time": "2023-02-24T02:18:26.087Z"
   },
   {
    "duration": 138,
    "start_time": "2023-02-24T02:18:26.116Z"
   },
   {
    "duration": 383,
    "start_time": "2023-02-24T02:18:26.256Z"
   },
   {
    "duration": 418,
    "start_time": "2023-02-24T02:18:26.641Z"
   },
   {
    "duration": 119,
    "start_time": "2023-02-24T02:18:27.061Z"
   },
   {
    "duration": 186,
    "start_time": "2023-02-24T02:18:27.182Z"
   },
   {
    "duration": 5,
    "start_time": "2023-02-24T02:18:27.370Z"
   },
   {
    "duration": 9,
    "start_time": "2023-02-24T02:18:27.377Z"
   },
   {
    "duration": 69,
    "start_time": "2023-02-24T02:18:27.388Z"
   },
   {
    "duration": 6,
    "start_time": "2023-02-24T02:18:27.461Z"
   },
   {
    "duration": 101,
    "start_time": "2023-02-24T02:18:27.468Z"
   },
   {
    "duration": 122,
    "start_time": "2023-02-24T02:18:27.647Z"
   },
   {
    "duration": 592,
    "start_time": "2023-02-24T02:18:27.771Z"
   },
   {
    "duration": 24,
    "start_time": "2023-02-24T02:18:28.367Z"
   },
   {
    "duration": 160,
    "start_time": "2023-02-24T02:18:28.392Z"
   },
   {
    "duration": 625,
    "start_time": "2023-02-24T02:18:28.555Z"
   },
   {
    "duration": 1956,
    "start_time": "2023-02-24T02:18:29.183Z"
   },
   {
    "duration": 1518,
    "start_time": "2023-02-24T02:18:31.145Z"
   },
   {
    "duration": 441,
    "start_time": "2023-02-24T02:18:32.666Z"
   },
   {
    "duration": 195,
    "start_time": "2023-02-24T02:18:33.109Z"
   },
   {
    "duration": 1188,
    "start_time": "2023-02-24T02:19:13.486Z"
   },
   {
    "duration": 56,
    "start_time": "2023-02-24T02:19:14.676Z"
   },
   {
    "duration": 13,
    "start_time": "2023-02-24T02:19:14.734Z"
   },
   {
    "duration": 9,
    "start_time": "2023-02-24T02:19:14.749Z"
   },
   {
    "duration": 16,
    "start_time": "2023-02-24T02:19:14.760Z"
   },
   {
    "duration": 8,
    "start_time": "2023-02-24T02:19:14.778Z"
   },
   {
    "duration": 4,
    "start_time": "2023-02-24T02:19:14.788Z"
   },
   {
    "duration": 51,
    "start_time": "2023-02-24T02:19:14.794Z"
   },
   {
    "duration": 14,
    "start_time": "2023-02-24T02:19:14.848Z"
   },
   {
    "duration": 101,
    "start_time": "2023-02-24T02:19:14.865Z"
   },
   {
    "duration": 178,
    "start_time": "2023-02-24T02:19:14.967Z"
   },
   {
    "duration": 718,
    "start_time": "2023-02-24T02:19:15.149Z"
   },
   {
    "duration": 992,
    "start_time": "2023-02-24T02:19:15.870Z"
   },
   {
    "duration": 206,
    "start_time": "2023-02-24T02:19:16.866Z"
   },
   {
    "duration": 124,
    "start_time": "2023-02-24T02:19:17.073Z"
   },
   {
    "duration": 6,
    "start_time": "2023-02-24T02:19:17.199Z"
   },
   {
    "duration": 6,
    "start_time": "2023-02-24T02:19:17.206Z"
   },
   {
    "duration": 44,
    "start_time": "2023-02-24T02:19:17.214Z"
   },
   {
    "duration": 4,
    "start_time": "2023-02-24T02:19:17.260Z"
   },
   {
    "duration": 81,
    "start_time": "2023-02-24T02:19:17.266Z"
   },
   {
    "duration": 121,
    "start_time": "2023-02-24T02:19:17.349Z"
   },
   {
    "duration": 266,
    "start_time": "2023-02-24T02:19:17.472Z"
   },
   {
    "duration": 28,
    "start_time": "2023-02-24T02:19:17.740Z"
   },
   {
    "duration": 75,
    "start_time": "2023-02-24T02:19:17.770Z"
   },
   {
    "duration": 361,
    "start_time": "2023-02-24T02:19:17.848Z"
   },
   {
    "duration": 1701,
    "start_time": "2023-02-24T02:19:18.211Z"
   },
   {
    "duration": 1524,
    "start_time": "2023-02-24T02:19:19.914Z"
   },
   {
    "duration": 495,
    "start_time": "2023-02-24T02:19:21.440Z"
   },
   {
    "duration": 188,
    "start_time": "2023-02-24T02:19:21.936Z"
   },
   {
    "duration": 1075,
    "start_time": "2023-02-24T02:20:42.807Z"
   },
   {
    "duration": 58,
    "start_time": "2023-02-24T02:20:43.884Z"
   },
   {
    "duration": 19,
    "start_time": "2023-02-24T02:20:43.944Z"
   },
   {
    "duration": 6,
    "start_time": "2023-02-24T02:20:43.965Z"
   },
   {
    "duration": 6,
    "start_time": "2023-02-24T02:20:43.972Z"
   },
   {
    "duration": 7,
    "start_time": "2023-02-24T02:20:43.979Z"
   },
   {
    "duration": 4,
    "start_time": "2023-02-24T02:20:43.987Z"
   },
   {
    "duration": 12,
    "start_time": "2023-02-24T02:20:43.993Z"
   },
   {
    "duration": 10,
    "start_time": "2023-02-24T02:20:44.006Z"
   },
   {
    "duration": 65,
    "start_time": "2023-02-24T02:20:44.018Z"
   },
   {
    "duration": 165,
    "start_time": "2023-02-24T02:20:44.085Z"
   },
   {
    "duration": 810,
    "start_time": "2023-02-24T02:20:44.251Z"
   },
   {
    "duration": 901,
    "start_time": "2023-02-24T02:20:45.063Z"
   },
   {
    "duration": 221,
    "start_time": "2023-02-24T02:20:45.966Z"
   },
   {
    "duration": 272,
    "start_time": "2023-02-24T02:20:46.189Z"
   },
   {
    "duration": 6,
    "start_time": "2023-02-24T02:20:46.462Z"
   },
   {
    "duration": 6,
    "start_time": "2023-02-24T02:20:46.470Z"
   },
   {
    "duration": 6,
    "start_time": "2023-02-24T02:20:46.477Z"
   },
   {
    "duration": 5,
    "start_time": "2023-02-24T02:20:46.485Z"
   },
   {
    "duration": 33,
    "start_time": "2023-02-24T02:20:46.545Z"
   },
   {
    "duration": 100,
    "start_time": "2023-02-24T02:20:46.663Z"
   },
   {
    "duration": 719,
    "start_time": "2023-02-24T02:20:46.766Z"
   },
   {
    "duration": 23,
    "start_time": "2023-02-24T02:20:47.487Z"
   },
   {
    "duration": 50,
    "start_time": "2023-02-24T02:20:47.511Z"
   },
   {
    "duration": 745,
    "start_time": "2023-02-24T02:20:47.565Z"
   },
   {
    "duration": 4656,
    "start_time": "2023-02-24T02:20:48.312Z"
   },
   {
    "duration": 3176,
    "start_time": "2023-02-24T02:20:52.970Z"
   },
   {
    "duration": 1861,
    "start_time": "2023-02-24T02:20:56.150Z"
   },
   {
    "duration": 184,
    "start_time": "2023-02-24T02:20:58.013Z"
   },
   {
    "duration": 1792,
    "start_time": "2023-02-24T02:21:27.283Z"
   },
   {
    "duration": 103,
    "start_time": "2023-02-24T02:21:29.077Z"
   },
   {
    "duration": 80,
    "start_time": "2023-02-24T02:21:29.182Z"
   },
   {
    "duration": 6,
    "start_time": "2023-02-24T02:21:29.267Z"
   },
   {
    "duration": 7,
    "start_time": "2023-02-24T02:21:29.274Z"
   },
   {
    "duration": 8,
    "start_time": "2023-02-24T02:21:29.282Z"
   },
   {
    "duration": 4,
    "start_time": "2023-02-24T02:21:29.292Z"
   },
   {
    "duration": 63,
    "start_time": "2023-02-24T02:21:29.298Z"
   },
   {
    "duration": 17,
    "start_time": "2023-02-24T02:21:29.365Z"
   },
   {
    "duration": 90,
    "start_time": "2023-02-24T02:21:29.384Z"
   },
   {
    "duration": 4,
    "start_time": "2023-02-24T02:21:29.475Z"
   },
   {
    "duration": 171,
    "start_time": "2023-02-24T02:21:29.481Z"
   },
   {
    "duration": 1011,
    "start_time": "2023-02-24T02:21:29.654Z"
   },
   {
    "duration": 436,
    "start_time": "2023-02-24T02:21:30.670Z"
   },
   {
    "duration": 125,
    "start_time": "2023-02-24T02:21:31.109Z"
   },
   {
    "duration": 122,
    "start_time": "2023-02-24T02:21:31.245Z"
   },
   {
    "duration": 6,
    "start_time": "2023-02-24T02:21:31.369Z"
   },
   {
    "duration": 147,
    "start_time": "2023-02-24T02:21:31.377Z"
   },
   {
    "duration": 50,
    "start_time": "2023-02-24T02:21:31.526Z"
   },
   {
    "duration": 54,
    "start_time": "2023-02-24T02:21:31.578Z"
   },
   {
    "duration": 60,
    "start_time": "2023-02-24T02:21:31.634Z"
   },
   {
    "duration": 159,
    "start_time": "2023-02-24T02:21:31.697Z"
   },
   {
    "duration": 597,
    "start_time": "2023-02-24T02:21:31.858Z"
   },
   {
    "duration": 25,
    "start_time": "2023-02-24T02:21:32.456Z"
   },
   {
    "duration": 68,
    "start_time": "2023-02-24T02:21:32.482Z"
   },
   {
    "duration": 662,
    "start_time": "2023-02-24T02:21:32.553Z"
   },
   {
    "duration": 3549,
    "start_time": "2023-02-24T02:21:33.218Z"
   },
   {
    "duration": 3009,
    "start_time": "2023-02-24T02:21:36.769Z"
   },
   {
    "duration": 930,
    "start_time": "2023-02-24T02:21:39.779Z"
   },
   {
    "duration": 176,
    "start_time": "2023-02-24T02:21:40.711Z"
   },
   {
    "duration": 1200,
    "start_time": "2023-02-24T02:24:53.387Z"
   },
   {
    "duration": 67,
    "start_time": "2023-02-24T02:24:54.589Z"
   },
   {
    "duration": 13,
    "start_time": "2023-02-24T02:24:54.657Z"
   },
   {
    "duration": 18,
    "start_time": "2023-02-24T02:24:54.672Z"
   },
   {
    "duration": 9,
    "start_time": "2023-02-24T02:24:54.691Z"
   },
   {
    "duration": 6,
    "start_time": "2023-02-24T02:24:54.702Z"
   },
   {
    "duration": 47,
    "start_time": "2023-02-24T02:24:54.710Z"
   },
   {
    "duration": 16,
    "start_time": "2023-02-24T02:24:54.760Z"
   },
   {
    "duration": 12,
    "start_time": "2023-02-24T02:24:54.778Z"
   },
   {
    "duration": 35,
    "start_time": "2023-02-24T02:24:54.793Z"
   },
   {
    "duration": 4,
    "start_time": "2023-02-24T02:24:54.829Z"
   },
   {
    "duration": 113,
    "start_time": "2023-02-24T02:24:54.834Z"
   },
   {
    "duration": 1034,
    "start_time": "2023-02-24T02:24:54.949Z"
   },
   {
    "duration": 884,
    "start_time": "2023-02-24T02:24:55.985Z"
   },
   {
    "duration": 213,
    "start_time": "2023-02-24T02:24:56.871Z"
   },
   {
    "duration": 119,
    "start_time": "2023-02-24T02:24:57.086Z"
   },
   {
    "duration": 6,
    "start_time": "2023-02-24T02:24:57.207Z"
   },
   {
    "duration": 11,
    "start_time": "2023-02-24T02:24:57.215Z"
   },
   {
    "duration": 24,
    "start_time": "2023-02-24T02:24:57.228Z"
   },
   {
    "duration": 4,
    "start_time": "2023-02-24T02:24:57.258Z"
   },
   {
    "duration": 29,
    "start_time": "2023-02-24T02:24:57.266Z"
   },
   {
    "duration": 159,
    "start_time": "2023-02-24T02:24:57.298Z"
   },
   {
    "duration": 484,
    "start_time": "2023-02-24T02:24:57.459Z"
   },
   {
    "duration": 30,
    "start_time": "2023-02-24T02:24:57.944Z"
   },
   {
    "duration": 76,
    "start_time": "2023-02-24T02:24:57.975Z"
   },
   {
    "duration": 602,
    "start_time": "2023-02-24T02:24:58.054Z"
   },
   {
    "duration": 2913,
    "start_time": "2023-02-24T02:24:58.660Z"
   },
   {
    "duration": 3689,
    "start_time": "2023-02-24T02:25:01.576Z"
   },
   {
    "duration": 762,
    "start_time": "2023-02-24T02:25:05.267Z"
   },
   {
    "duration": 68,
    "start_time": "2023-02-24T02:25:06.030Z"
   },
   {
    "duration": 495,
    "start_time": "2023-02-24T02:26:32.411Z"
   },
   {
    "duration": 623,
    "start_time": "2023-02-24T02:26:47.573Z"
   },
   {
    "duration": 741,
    "start_time": "2023-02-24T02:26:52.660Z"
   },
   {
    "duration": 640,
    "start_time": "2023-02-24T02:26:59.097Z"
   },
   {
    "duration": 588,
    "start_time": "2023-02-24T02:27:09.402Z"
   },
   {
    "duration": 637,
    "start_time": "2023-02-24T02:27:14.706Z"
   },
   {
    "duration": 703,
    "start_time": "2023-02-24T02:27:19.160Z"
   },
   {
    "duration": 657,
    "start_time": "2023-02-24T02:27:23.523Z"
   },
   {
    "duration": 23,
    "start_time": "2023-02-24T02:27:39.908Z"
   },
   {
    "duration": 4,
    "start_time": "2023-02-24T02:27:44.613Z"
   },
   {
    "duration": 1210,
    "start_time": "2023-02-24T02:27:55.498Z"
   },
   {
    "duration": 63,
    "start_time": "2023-02-24T02:27:56.710Z"
   },
   {
    "duration": 12,
    "start_time": "2023-02-24T02:27:56.775Z"
   },
   {
    "duration": 4,
    "start_time": "2023-02-24T02:27:56.789Z"
   },
   {
    "duration": 4,
    "start_time": "2023-02-24T02:27:56.795Z"
   },
   {
    "duration": 6,
    "start_time": "2023-02-24T02:27:56.801Z"
   },
   {
    "duration": 4,
    "start_time": "2023-02-24T02:27:56.809Z"
   },
   {
    "duration": 12,
    "start_time": "2023-02-24T02:27:56.814Z"
   },
   {
    "duration": 10,
    "start_time": "2023-02-24T02:27:56.827Z"
   },
   {
    "duration": 41,
    "start_time": "2023-02-24T02:27:56.839Z"
   },
   {
    "duration": 3,
    "start_time": "2023-02-24T02:27:56.882Z"
   },
   {
    "duration": 74,
    "start_time": "2023-02-24T02:27:56.887Z"
   },
   {
    "duration": 579,
    "start_time": "2023-02-24T02:27:56.962Z"
   },
   {
    "duration": 467,
    "start_time": "2023-02-24T02:27:57.545Z"
   },
   {
    "duration": 116,
    "start_time": "2023-02-24T02:27:58.017Z"
   },
   {
    "duration": 118,
    "start_time": "2023-02-24T02:27:58.134Z"
   },
   {
    "duration": 9,
    "start_time": "2023-02-24T02:27:58.253Z"
   },
   {
    "duration": 9,
    "start_time": "2023-02-24T02:27:58.264Z"
   },
   {
    "duration": 6,
    "start_time": "2023-02-24T02:27:58.275Z"
   },
   {
    "duration": 5,
    "start_time": "2023-02-24T02:27:58.283Z"
   },
   {
    "duration": 154,
    "start_time": "2023-02-24T02:27:58.290Z"
   },
   {
    "duration": 30,
    "start_time": "2023-02-24T02:27:58.446Z"
   },
   {
    "duration": 458,
    "start_time": "2023-02-24T02:27:58.478Z"
   },
   {
    "duration": 27,
    "start_time": "2023-02-24T02:27:58.938Z"
   },
   {
    "duration": 101,
    "start_time": "2023-02-24T02:27:58.967Z"
   },
   {
    "duration": 462,
    "start_time": "2023-02-24T02:27:59.147Z"
   },
   {
    "duration": 2929,
    "start_time": "2023-02-24T02:27:59.611Z"
   },
   {
    "duration": 2539,
    "start_time": "2023-02-24T02:28:02.546Z"
   },
   {
    "duration": 649,
    "start_time": "2023-02-24T02:28:05.087Z"
   },
   {
    "duration": 51,
    "start_time": "2023-02-24T02:28:05.738Z"
   },
   {
    "duration": 1132,
    "start_time": "2023-02-24T02:30:03.389Z"
   },
   {
    "duration": 69,
    "start_time": "2023-02-24T02:30:04.523Z"
   },
   {
    "duration": 12,
    "start_time": "2023-02-24T02:30:04.594Z"
   },
   {
    "duration": 4,
    "start_time": "2023-02-24T02:30:04.608Z"
   },
   {
    "duration": 6,
    "start_time": "2023-02-24T02:30:04.613Z"
   },
   {
    "duration": 6,
    "start_time": "2023-02-24T02:30:04.621Z"
   },
   {
    "duration": 4,
    "start_time": "2023-02-24T02:30:04.629Z"
   },
   {
    "duration": 23,
    "start_time": "2023-02-24T02:30:04.635Z"
   },
   {
    "duration": 11,
    "start_time": "2023-02-24T02:30:04.660Z"
   },
   {
    "duration": 38,
    "start_time": "2023-02-24T02:30:04.674Z"
   },
   {
    "duration": 4,
    "start_time": "2023-02-24T02:30:04.713Z"
   },
   {
    "duration": 136,
    "start_time": "2023-02-24T02:30:04.719Z"
   },
   {
    "duration": 1134,
    "start_time": "2023-02-24T02:30:04.857Z"
   },
   {
    "duration": 858,
    "start_time": "2023-02-24T02:30:05.992Z"
   },
   {
    "duration": 203,
    "start_time": "2023-02-24T02:30:06.853Z"
   },
   {
    "duration": 113,
    "start_time": "2023-02-24T02:30:07.062Z"
   },
   {
    "duration": 7,
    "start_time": "2023-02-24T02:30:07.177Z"
   },
   {
    "duration": 22,
    "start_time": "2023-02-24T02:30:07.185Z"
   },
   {
    "duration": 14,
    "start_time": "2023-02-24T02:30:07.209Z"
   },
   {
    "duration": 16,
    "start_time": "2023-02-24T02:30:07.225Z"
   },
   {
    "duration": 45,
    "start_time": "2023-02-24T02:30:07.243Z"
   },
   {
    "duration": 185,
    "start_time": "2023-02-24T02:30:07.291Z"
   },
   {
    "duration": 469,
    "start_time": "2023-02-24T02:30:07.477Z"
   },
   {
    "duration": 34,
    "start_time": "2023-02-24T02:30:07.951Z"
   },
   {
    "duration": 62,
    "start_time": "2023-02-24T02:30:07.987Z"
   },
   {
    "duration": 537,
    "start_time": "2023-02-24T02:30:08.051Z"
   },
   {
    "duration": 2952,
    "start_time": "2023-02-24T02:30:08.591Z"
   },
   {
    "duration": 2532,
    "start_time": "2023-02-24T02:30:11.546Z"
   },
   {
    "duration": 645,
    "start_time": "2023-02-24T02:30:14.079Z"
   },
   {
    "duration": 194,
    "start_time": "2023-02-24T02:30:14.725Z"
   },
   {
    "duration": 1522,
    "start_time": "2023-02-24T02:30:19.931Z"
   },
   {
    "duration": 101,
    "start_time": "2023-02-24T02:30:21.461Z"
   },
   {
    "duration": 14,
    "start_time": "2023-02-24T02:30:21.564Z"
   },
   {
    "duration": 5,
    "start_time": "2023-02-24T02:30:21.581Z"
   },
   {
    "duration": 72,
    "start_time": "2023-02-24T02:30:21.587Z"
   },
   {
    "duration": 13,
    "start_time": "2023-02-24T02:30:21.662Z"
   },
   {
    "duration": 9,
    "start_time": "2023-02-24T02:30:21.677Z"
   },
   {
    "duration": 16,
    "start_time": "2023-02-24T02:30:21.687Z"
   },
   {
    "duration": 49,
    "start_time": "2023-02-24T02:30:21.705Z"
   },
   {
    "duration": 84,
    "start_time": "2023-02-24T02:30:21.762Z"
   },
   {
    "duration": 3,
    "start_time": "2023-02-24T02:30:21.849Z"
   },
   {
    "duration": 113,
    "start_time": "2023-02-24T02:30:21.854Z"
   },
   {
    "duration": 1058,
    "start_time": "2023-02-24T02:30:22.045Z"
   },
   {
    "duration": 414,
    "start_time": "2023-02-24T02:30:23.106Z"
   },
   {
    "duration": 112,
    "start_time": "2023-02-24T02:30:23.522Z"
   },
   {
    "duration": 110,
    "start_time": "2023-02-24T02:30:23.635Z"
   },
   {
    "duration": 8,
    "start_time": "2023-02-24T02:30:23.755Z"
   },
   {
    "duration": 14,
    "start_time": "2023-02-24T02:30:23.764Z"
   },
   {
    "duration": 19,
    "start_time": "2023-02-24T02:30:23.780Z"
   },
   {
    "duration": 14,
    "start_time": "2023-02-24T02:30:23.801Z"
   },
   {
    "duration": 57,
    "start_time": "2023-02-24T02:30:23.816Z"
   },
   {
    "duration": 128,
    "start_time": "2023-02-24T02:30:23.953Z"
   },
   {
    "duration": 540,
    "start_time": "2023-02-24T02:30:24.084Z"
   },
   {
    "duration": 34,
    "start_time": "2023-02-24T02:30:24.625Z"
   },
   {
    "duration": 89,
    "start_time": "2023-02-24T02:30:24.660Z"
   },
   {
    "duration": 625,
    "start_time": "2023-02-24T02:30:24.754Z"
   },
   {
    "duration": 3458,
    "start_time": "2023-02-24T02:30:25.381Z"
   },
   {
    "duration": 3038,
    "start_time": "2023-02-24T02:30:28.844Z"
   },
   {
    "duration": 806,
    "start_time": "2023-02-24T02:30:31.884Z"
   },
   {
    "duration": 38,
    "start_time": "2023-02-24T02:30:32.692Z"
   },
   {
    "duration": 1596,
    "start_time": "2023-02-24T02:30:37.572Z"
   },
   {
    "duration": 108,
    "start_time": "2023-02-24T02:30:39.170Z"
   },
   {
    "duration": 69,
    "start_time": "2023-02-24T02:30:39.280Z"
   },
   {
    "duration": 17,
    "start_time": "2023-02-24T02:30:39.352Z"
   },
   {
    "duration": 6,
    "start_time": "2023-02-24T02:30:39.371Z"
   },
   {
    "duration": 20,
    "start_time": "2023-02-24T02:30:39.380Z"
   },
   {
    "duration": 45,
    "start_time": "2023-02-24T02:30:39.402Z"
   },
   {
    "duration": 39,
    "start_time": "2023-02-24T02:30:39.451Z"
   },
   {
    "duration": 11,
    "start_time": "2023-02-24T02:30:39.492Z"
   },
   {
    "duration": 90,
    "start_time": "2023-02-24T02:30:39.506Z"
   },
   {
    "duration": 4,
    "start_time": "2023-02-24T02:30:39.598Z"
   },
   {
    "duration": 301,
    "start_time": "2023-02-24T02:30:39.646Z"
   },
   {
    "duration": 651,
    "start_time": "2023-02-24T02:30:39.955Z"
   },
   {
    "duration": 399,
    "start_time": "2023-02-24T02:30:40.608Z"
   },
   {
    "duration": 108,
    "start_time": "2023-02-24T02:30:41.009Z"
   },
   {
    "duration": 116,
    "start_time": "2023-02-24T02:30:41.119Z"
   },
   {
    "duration": 19,
    "start_time": "2023-02-24T02:30:41.237Z"
   },
   {
    "duration": 12,
    "start_time": "2023-02-24T02:30:41.261Z"
   },
   {
    "duration": 9,
    "start_time": "2023-02-24T02:30:41.275Z"
   },
   {
    "duration": 17,
    "start_time": "2023-02-24T02:30:41.285Z"
   },
   {
    "duration": 31,
    "start_time": "2023-02-24T02:30:41.303Z"
   },
   {
    "duration": 154,
    "start_time": "2023-02-24T02:30:41.336Z"
   },
   {
    "duration": 386,
    "start_time": "2023-02-24T02:30:41.492Z"
   },
   {
    "duration": 25,
    "start_time": "2023-02-24T02:30:41.880Z"
   },
   {
    "duration": 41,
    "start_time": "2023-02-24T02:30:41.907Z"
   },
   {
    "duration": 452,
    "start_time": "2023-02-24T02:30:41.949Z"
   },
   {
    "duration": 2237,
    "start_time": "2023-02-24T02:30:42.402Z"
   },
   {
    "duration": 1976,
    "start_time": "2023-02-24T02:30:44.642Z"
   },
   {
    "duration": 542,
    "start_time": "2023-02-24T02:30:46.619Z"
   },
   {
    "duration": 64,
    "start_time": "2023-02-24T02:30:47.163Z"
   },
   {
    "duration": 1973,
    "start_time": "2023-02-24T02:30:53.010Z"
   },
   {
    "duration": 64,
    "start_time": "2023-02-24T02:30:55.128Z"
   },
   {
    "duration": 53,
    "start_time": "2023-02-24T02:30:55.195Z"
   },
   {
    "duration": 6,
    "start_time": "2023-02-24T02:30:55.249Z"
   },
   {
    "duration": 13,
    "start_time": "2023-02-24T02:30:55.256Z"
   },
   {
    "duration": 9,
    "start_time": "2023-02-24T02:30:55.272Z"
   },
   {
    "duration": 4,
    "start_time": "2023-02-24T02:30:55.283Z"
   },
   {
    "duration": 66,
    "start_time": "2023-02-24T02:30:55.288Z"
   },
   {
    "duration": 12,
    "start_time": "2023-02-24T02:30:55.361Z"
   },
   {
    "duration": 83,
    "start_time": "2023-02-24T02:30:55.375Z"
   },
   {
    "duration": 6,
    "start_time": "2023-02-24T02:30:55.460Z"
   },
   {
    "duration": 85,
    "start_time": "2023-02-24T02:30:55.468Z"
   },
   {
    "duration": 836,
    "start_time": "2023-02-24T02:30:55.554Z"
   },
   {
    "duration": 807,
    "start_time": "2023-02-24T02:30:56.444Z"
   },
   {
    "duration": 196,
    "start_time": "2023-02-24T02:30:57.254Z"
   },
   {
    "duration": 127,
    "start_time": "2023-02-24T02:30:57.452Z"
   },
   {
    "duration": 6,
    "start_time": "2023-02-24T02:30:57.580Z"
   },
   {
    "duration": 10,
    "start_time": "2023-02-24T02:30:57.587Z"
   },
   {
    "duration": 6,
    "start_time": "2023-02-24T02:30:57.599Z"
   },
   {
    "duration": 3,
    "start_time": "2023-02-24T02:30:57.607Z"
   },
   {
    "duration": 39,
    "start_time": "2023-02-24T02:30:57.612Z"
   },
   {
    "duration": 121,
    "start_time": "2023-02-24T02:30:57.653Z"
   },
   {
    "duration": 469,
    "start_time": "2023-02-24T02:30:57.776Z"
   },
   {
    "duration": 31,
    "start_time": "2023-02-24T02:30:58.247Z"
   },
   {
    "duration": 168,
    "start_time": "2023-02-24T02:30:58.280Z"
   },
   {
    "duration": 308,
    "start_time": "2023-02-24T02:30:58.450Z"
   },
   {
    "duration": 2013,
    "start_time": "2023-02-24T02:30:58.760Z"
   },
   {
    "duration": 1679,
    "start_time": "2023-02-24T02:31:00.775Z"
   },
   {
    "duration": 459,
    "start_time": "2023-02-24T02:31:02.456Z"
   },
   {
    "duration": 87,
    "start_time": "2023-02-24T02:31:02.917Z"
   },
   {
    "duration": 1683,
    "start_time": "2023-02-24T02:31:10.763Z"
   },
   {
    "duration": 112,
    "start_time": "2023-02-24T02:31:12.448Z"
   },
   {
    "duration": 21,
    "start_time": "2023-02-24T02:31:12.564Z"
   },
   {
    "duration": 4,
    "start_time": "2023-02-24T02:31:12.588Z"
   },
   {
    "duration": 5,
    "start_time": "2023-02-24T02:31:12.593Z"
   },
   {
    "duration": 7,
    "start_time": "2023-02-24T02:31:12.652Z"
   },
   {
    "duration": 7,
    "start_time": "2023-02-24T02:31:12.664Z"
   },
   {
    "duration": 17,
    "start_time": "2023-02-24T02:31:12.672Z"
   },
   {
    "duration": 60,
    "start_time": "2023-02-24T02:31:12.691Z"
   },
   {
    "duration": 102,
    "start_time": "2023-02-24T02:31:12.755Z"
   },
   {
    "duration": 5,
    "start_time": "2023-02-24T02:31:12.861Z"
   },
   {
    "duration": 88,
    "start_time": "2023-02-24T02:31:12.868Z"
   },
   {
    "duration": 731,
    "start_time": "2023-02-24T02:31:12.958Z"
   },
   {
    "duration": 412,
    "start_time": "2023-02-24T02:31:13.691Z"
   },
   {
    "duration": 108,
    "start_time": "2023-02-24T02:31:14.104Z"
   },
   {
    "duration": 116,
    "start_time": "2023-02-24T02:31:14.214Z"
   },
   {
    "duration": 24,
    "start_time": "2023-02-24T02:31:14.332Z"
   },
   {
    "duration": 6,
    "start_time": "2023-02-24T02:31:14.357Z"
   },
   {
    "duration": 9,
    "start_time": "2023-02-24T02:31:14.365Z"
   },
   {
    "duration": 4,
    "start_time": "2023-02-24T02:31:14.376Z"
   },
   {
    "duration": 25,
    "start_time": "2023-02-24T02:31:14.382Z"
   },
   {
    "duration": 109,
    "start_time": "2023-02-24T02:31:14.457Z"
   },
   {
    "duration": 327,
    "start_time": "2023-02-24T02:31:14.568Z"
   },
   {
    "duration": 25,
    "start_time": "2023-02-24T02:31:14.896Z"
   },
   {
    "duration": 41,
    "start_time": "2023-02-24T02:31:14.922Z"
   },
   {
    "duration": 820,
    "start_time": "2023-02-24T02:31:14.966Z"
   },
   {
    "duration": 3574,
    "start_time": "2023-02-24T02:31:15.787Z"
   },
   {
    "duration": 3412,
    "start_time": "2023-02-24T02:31:19.366Z"
   },
   {
    "duration": 513,
    "start_time": "2023-02-24T02:31:22.780Z"
   },
   {
    "duration": 75,
    "start_time": "2023-02-24T02:31:23.295Z"
   },
   {
    "duration": 1365,
    "start_time": "2023-02-24T02:31:59.096Z"
   },
   {
    "duration": 182,
    "start_time": "2023-02-24T02:32:00.464Z"
   },
   {
    "duration": 16,
    "start_time": "2023-02-24T02:32:00.651Z"
   },
   {
    "duration": 24,
    "start_time": "2023-02-24T02:32:00.669Z"
   },
   {
    "duration": 51,
    "start_time": "2023-02-24T02:32:00.695Z"
   },
   {
    "duration": 96,
    "start_time": "2023-02-24T02:32:00.750Z"
   },
   {
    "duration": 68,
    "start_time": "2023-02-24T02:32:00.852Z"
   },
   {
    "duration": 36,
    "start_time": "2023-02-24T02:32:00.922Z"
   },
   {
    "duration": 33,
    "start_time": "2023-02-24T02:32:00.960Z"
   },
   {
    "duration": 81,
    "start_time": "2023-02-24T02:32:00.996Z"
   },
   {
    "duration": 70,
    "start_time": "2023-02-24T02:32:01.078Z"
   },
   {
    "duration": 202,
    "start_time": "2023-02-24T02:32:01.150Z"
   },
   {
    "duration": 824,
    "start_time": "2023-02-24T02:32:01.354Z"
   },
   {
    "duration": 401,
    "start_time": "2023-02-24T02:32:02.180Z"
   },
   {
    "duration": 121,
    "start_time": "2023-02-24T02:32:02.583Z"
   },
   {
    "duration": 112,
    "start_time": "2023-02-24T02:32:02.706Z"
   },
   {
    "duration": 5,
    "start_time": "2023-02-24T02:32:02.820Z"
   },
   {
    "duration": 25,
    "start_time": "2023-02-24T02:32:02.826Z"
   },
   {
    "duration": 7,
    "start_time": "2023-02-24T02:32:02.852Z"
   },
   {
    "duration": 6,
    "start_time": "2023-02-24T02:32:02.861Z"
   },
   {
    "duration": 85,
    "start_time": "2023-02-24T02:32:02.868Z"
   },
   {
    "duration": 116,
    "start_time": "2023-02-24T02:32:02.954Z"
   },
   {
    "duration": 436,
    "start_time": "2023-02-24T02:32:03.072Z"
   },
   {
    "duration": 26,
    "start_time": "2023-02-24T02:32:03.509Z"
   },
   {
    "duration": 107,
    "start_time": "2023-02-24T02:32:03.547Z"
   },
   {
    "duration": 491,
    "start_time": "2023-02-24T02:32:03.659Z"
   },
   {
    "duration": 2550,
    "start_time": "2023-02-24T02:32:04.160Z"
   },
   {
    "duration": 2215,
    "start_time": "2023-02-24T02:32:06.713Z"
   },
   {
    "duration": 579,
    "start_time": "2023-02-24T02:32:08.930Z"
   },
   {
    "duration": 65,
    "start_time": "2023-02-24T02:32:09.510Z"
   },
   {
    "duration": 1820,
    "start_time": "2023-02-24T02:33:55.426Z"
   },
   {
    "duration": 110,
    "start_time": "2023-02-24T02:33:57.248Z"
   },
   {
    "duration": 14,
    "start_time": "2023-02-24T02:33:57.360Z"
   },
   {
    "duration": 5,
    "start_time": "2023-02-24T02:33:57.376Z"
   },
   {
    "duration": 5,
    "start_time": "2023-02-24T02:33:57.383Z"
   },
   {
    "duration": 65,
    "start_time": "2023-02-24T02:33:57.390Z"
   },
   {
    "duration": 3,
    "start_time": "2023-02-24T02:33:57.457Z"
   },
   {
    "duration": 18,
    "start_time": "2023-02-24T02:33:57.462Z"
   },
   {
    "duration": 12,
    "start_time": "2023-02-24T02:33:57.482Z"
   },
   {
    "duration": 82,
    "start_time": "2023-02-24T02:33:57.497Z"
   },
   {
    "duration": 3,
    "start_time": "2023-02-24T02:33:57.581Z"
   },
   {
    "duration": 85,
    "start_time": "2023-02-24T02:33:57.585Z"
   },
   {
    "duration": 728,
    "start_time": "2023-02-24T02:33:57.767Z"
   },
   {
    "duration": 391,
    "start_time": "2023-02-24T02:33:58.496Z"
   },
   {
    "duration": 111,
    "start_time": "2023-02-24T02:33:58.889Z"
   },
   {
    "duration": 113,
    "start_time": "2023-02-24T02:33:59.002Z"
   },
   {
    "duration": 5,
    "start_time": "2023-02-24T02:33:59.116Z"
   },
   {
    "duration": 26,
    "start_time": "2023-02-24T02:33:59.123Z"
   },
   {
    "duration": 7,
    "start_time": "2023-02-24T02:33:59.155Z"
   },
   {
    "duration": 4,
    "start_time": "2023-02-24T02:33:59.164Z"
   },
   {
    "duration": 21,
    "start_time": "2023-02-24T02:33:59.170Z"
   },
   {
    "duration": 172,
    "start_time": "2023-02-24T02:33:59.193Z"
   },
   {
    "duration": 350,
    "start_time": "2023-02-24T02:33:59.367Z"
   },
   {
    "duration": 39,
    "start_time": "2023-02-24T02:33:59.719Z"
   },
   {
    "duration": 93,
    "start_time": "2023-02-24T02:33:59.761Z"
   },
   {
    "duration": 431,
    "start_time": "2023-02-24T02:33:59.856Z"
   },
   {
    "duration": 2323,
    "start_time": "2023-02-24T02:34:00.288Z"
   },
   {
    "duration": 2053,
    "start_time": "2023-02-24T02:34:02.614Z"
   },
   {
    "duration": 526,
    "start_time": "2023-02-24T02:34:04.670Z"
   },
   {
    "duration": 73,
    "start_time": "2023-02-24T02:34:05.197Z"
   },
   {
    "duration": 1681,
    "start_time": "2023-02-24T02:34:06.712Z"
   },
   {
    "duration": 111,
    "start_time": "2023-02-24T02:34:08.447Z"
   },
   {
    "duration": 14,
    "start_time": "2023-02-24T02:34:08.560Z"
   },
   {
    "duration": 4,
    "start_time": "2023-02-24T02:34:08.576Z"
   },
   {
    "duration": 6,
    "start_time": "2023-02-24T02:34:08.582Z"
   },
   {
    "duration": 59,
    "start_time": "2023-02-24T02:34:08.589Z"
   },
   {
    "duration": 7,
    "start_time": "2023-02-24T02:34:08.651Z"
   },
   {
    "duration": 16,
    "start_time": "2023-02-24T02:34:08.660Z"
   },
   {
    "duration": 11,
    "start_time": "2023-02-24T02:34:08.677Z"
   },
   {
    "duration": 83,
    "start_time": "2023-02-24T02:34:08.691Z"
   },
   {
    "duration": 3,
    "start_time": "2023-02-24T02:34:08.776Z"
   },
   {
    "duration": 272,
    "start_time": "2023-02-24T02:34:08.781Z"
   },
   {
    "duration": 679,
    "start_time": "2023-02-24T02:34:09.055Z"
   },
   {
    "duration": 427,
    "start_time": "2023-02-24T02:34:09.736Z"
   },
   {
    "duration": 116,
    "start_time": "2023-02-24T02:34:10.165Z"
   },
   {
    "duration": 128,
    "start_time": "2023-02-24T02:34:10.283Z"
   },
   {
    "duration": 8,
    "start_time": "2023-02-24T02:34:10.413Z"
   },
   {
    "duration": 43,
    "start_time": "2023-02-24T02:34:10.424Z"
   },
   {
    "duration": 12,
    "start_time": "2023-02-24T02:34:10.469Z"
   },
   {
    "duration": 16,
    "start_time": "2023-02-24T02:34:10.483Z"
   },
   {
    "duration": 144,
    "start_time": "2023-02-24T02:34:10.501Z"
   },
   {
    "duration": 118,
    "start_time": "2023-02-24T02:34:10.647Z"
   },
   {
    "duration": 404,
    "start_time": "2023-02-24T02:34:10.767Z"
   },
   {
    "duration": 27,
    "start_time": "2023-02-24T02:34:11.173Z"
   },
   {
    "duration": 49,
    "start_time": "2023-02-24T02:34:11.201Z"
   },
   {
    "duration": 496,
    "start_time": "2023-02-24T02:34:11.254Z"
   },
   {
    "duration": 2546,
    "start_time": "2023-02-24T02:34:11.753Z"
   },
   {
    "duration": 2223,
    "start_time": "2023-02-24T02:34:14.302Z"
   },
   {
    "duration": 605,
    "start_time": "2023-02-24T02:34:16.526Z"
   },
   {
    "duration": 70,
    "start_time": "2023-02-24T02:34:17.132Z"
   },
   {
    "duration": 1243,
    "start_time": "2023-02-24T10:51:03.643Z"
   },
   {
    "duration": 208,
    "start_time": "2023-02-24T10:51:04.889Z"
   },
   {
    "duration": 15,
    "start_time": "2023-02-24T10:51:05.100Z"
   },
   {
    "duration": 6,
    "start_time": "2023-02-24T10:51:05.118Z"
   },
   {
    "duration": 22,
    "start_time": "2023-02-24T10:51:05.126Z"
   },
   {
    "duration": 11,
    "start_time": "2023-02-24T10:51:05.150Z"
   },
   {
    "duration": 4,
    "start_time": "2023-02-24T10:51:05.162Z"
   },
   {
    "duration": 12,
    "start_time": "2023-02-24T10:51:05.168Z"
   },
   {
    "duration": 10,
    "start_time": "2023-02-24T10:51:05.182Z"
   },
   {
    "duration": 37,
    "start_time": "2023-02-24T10:51:05.194Z"
   },
   {
    "duration": 3,
    "start_time": "2023-02-24T10:51:05.233Z"
   },
   {
    "duration": 89,
    "start_time": "2023-02-24T10:51:05.238Z"
   },
   {
    "duration": 499,
    "start_time": "2023-02-24T10:51:05.330Z"
   },
   {
    "duration": 574,
    "start_time": "2023-02-24T10:51:05.831Z"
   },
   {
    "duration": 118,
    "start_time": "2023-02-24T10:51:06.408Z"
   },
   {
    "duration": 118,
    "start_time": "2023-02-24T10:51:06.528Z"
   },
   {
    "duration": 7,
    "start_time": "2023-02-24T10:51:06.647Z"
   },
   {
    "duration": 8,
    "start_time": "2023-02-24T10:51:06.655Z"
   },
   {
    "duration": 7,
    "start_time": "2023-02-24T10:51:06.664Z"
   },
   {
    "duration": 4,
    "start_time": "2023-02-24T10:51:06.672Z"
   },
   {
    "duration": 45,
    "start_time": "2023-02-24T10:51:06.678Z"
   },
   {
    "duration": 200,
    "start_time": "2023-02-24T10:51:06.726Z"
   },
   {
    "duration": 404,
    "start_time": "2023-02-24T10:51:06.929Z"
   },
   {
    "duration": 34,
    "start_time": "2023-02-24T10:51:07.335Z"
   },
   {
    "duration": 59,
    "start_time": "2023-02-24T10:51:07.371Z"
   },
   {
    "duration": 492,
    "start_time": "2023-02-24T10:51:07.432Z"
   },
   {
    "duration": 2564,
    "start_time": "2023-02-24T10:51:07.925Z"
   },
   {
    "duration": 2181,
    "start_time": "2023-02-24T10:51:10.492Z"
   },
   {
    "duration": 573,
    "start_time": "2023-02-24T10:51:12.676Z"
   },
   {
    "duration": 71,
    "start_time": "2023-02-24T10:51:13.251Z"
   },
   {
    "duration": 53,
    "start_time": "2023-02-24T11:00:39.419Z"
   },
   {
    "duration": 1046,
    "start_time": "2023-02-24T11:02:42.480Z"
   },
   {
    "duration": 56,
    "start_time": "2023-02-24T11:02:43.528Z"
   },
   {
    "duration": 12,
    "start_time": "2023-02-24T11:02:43.586Z"
   },
   {
    "duration": 6,
    "start_time": "2023-02-24T11:02:43.600Z"
   },
   {
    "duration": 9,
    "start_time": "2023-02-24T11:02:43.608Z"
   },
   {
    "duration": 6,
    "start_time": "2023-02-24T11:02:43.618Z"
   },
   {
    "duration": 9,
    "start_time": "2023-02-24T11:02:43.625Z"
   },
   {
    "duration": 11,
    "start_time": "2023-02-24T11:02:43.635Z"
   },
   {
    "duration": 10,
    "start_time": "2023-02-24T11:02:43.647Z"
   },
   {
    "duration": 26,
    "start_time": "2023-02-24T11:02:43.660Z"
   },
   {
    "duration": 4,
    "start_time": "2023-02-24T11:02:43.687Z"
   },
   {
    "duration": 229,
    "start_time": "2023-02-24T11:02:43.692Z"
   },
   {
    "duration": 525,
    "start_time": "2023-02-24T11:02:43.923Z"
   },
   {
    "duration": 0,
    "start_time": "2023-02-24T11:02:44.450Z"
   },
   {
    "duration": 0,
    "start_time": "2023-02-24T11:02:44.451Z"
   },
   {
    "duration": 0,
    "start_time": "2023-02-24T11:02:44.452Z"
   },
   {
    "duration": 0,
    "start_time": "2023-02-24T11:02:44.453Z"
   },
   {
    "duration": 0,
    "start_time": "2023-02-24T11:02:44.454Z"
   },
   {
    "duration": 0,
    "start_time": "2023-02-24T11:02:44.455Z"
   },
   {
    "duration": 0,
    "start_time": "2023-02-24T11:02:44.456Z"
   },
   {
    "duration": 0,
    "start_time": "2023-02-24T11:02:44.457Z"
   },
   {
    "duration": 0,
    "start_time": "2023-02-24T11:02:44.458Z"
   },
   {
    "duration": 0,
    "start_time": "2023-02-24T11:02:44.459Z"
   },
   {
    "duration": 0,
    "start_time": "2023-02-24T11:02:44.460Z"
   },
   {
    "duration": 0,
    "start_time": "2023-02-24T11:02:44.461Z"
   },
   {
    "duration": 0,
    "start_time": "2023-02-24T11:02:44.462Z"
   },
   {
    "duration": 0,
    "start_time": "2023-02-24T11:02:44.463Z"
   },
   {
    "duration": 0,
    "start_time": "2023-02-24T11:02:44.464Z"
   },
   {
    "duration": 0,
    "start_time": "2023-02-24T11:02:44.465Z"
   },
   {
    "duration": 0,
    "start_time": "2023-02-24T11:02:44.465Z"
   },
   {
    "duration": 13,
    "start_time": "2023-02-24T11:02:59.283Z"
   },
   {
    "duration": 151,
    "start_time": "2023-02-24T11:04:18.278Z"
   },
   {
    "duration": 74,
    "start_time": "2023-02-24T11:04:36.848Z"
   },
   {
    "duration": 442,
    "start_time": "2023-02-24T11:04:57.327Z"
   },
   {
    "duration": 407,
    "start_time": "2023-02-24T11:08:30.893Z"
   },
   {
    "duration": 87,
    "start_time": "2023-02-24T11:08:36.935Z"
   },
   {
    "duration": 3,
    "start_time": "2023-02-24T11:09:41.282Z"
   },
   {
    "duration": 1108,
    "start_time": "2023-02-24T11:14:59.170Z"
   },
   {
    "duration": 71,
    "start_time": "2023-02-24T11:15:00.280Z"
   },
   {
    "duration": 14,
    "start_time": "2023-02-24T11:15:00.353Z"
   },
   {
    "duration": 25,
    "start_time": "2023-02-24T11:15:00.370Z"
   },
   {
    "duration": 19,
    "start_time": "2023-02-24T11:15:00.398Z"
   },
   {
    "duration": 31,
    "start_time": "2023-02-24T11:15:00.420Z"
   },
   {
    "duration": 37,
    "start_time": "2023-02-24T11:15:00.453Z"
   },
   {
    "duration": 44,
    "start_time": "2023-02-24T11:15:00.493Z"
   },
   {
    "duration": 29,
    "start_time": "2023-02-24T11:15:00.539Z"
   },
   {
    "duration": 53,
    "start_time": "2023-02-24T11:15:00.570Z"
   },
   {
    "duration": 7,
    "start_time": "2023-02-24T11:15:00.629Z"
   },
   {
    "duration": 91,
    "start_time": "2023-02-24T11:15:00.638Z"
   },
   {
    "duration": 2805,
    "start_time": "2023-02-24T11:15:00.731Z"
   },
   {
    "duration": 411,
    "start_time": "2023-02-24T11:15:03.538Z"
   },
   {
    "duration": 413,
    "start_time": "2023-02-24T11:15:03.951Z"
   },
   {
    "duration": 111,
    "start_time": "2023-02-24T11:15:04.366Z"
   },
   {
    "duration": 138,
    "start_time": "2023-02-24T11:15:04.478Z"
   },
   {
    "duration": 12,
    "start_time": "2023-02-24T11:15:04.619Z"
   },
   {
    "duration": 23,
    "start_time": "2023-02-24T11:15:04.633Z"
   },
   {
    "duration": 8,
    "start_time": "2023-02-24T11:15:04.658Z"
   },
   {
    "duration": 4,
    "start_time": "2023-02-24T11:15:04.668Z"
   },
   {
    "duration": 64,
    "start_time": "2023-02-24T11:15:04.674Z"
   },
   {
    "duration": 185,
    "start_time": "2023-02-24T11:15:04.740Z"
   },
   {
    "duration": 383,
    "start_time": "2023-02-24T11:15:04.926Z"
   },
   {
    "duration": 35,
    "start_time": "2023-02-24T11:15:05.311Z"
   },
   {
    "duration": 79,
    "start_time": "2023-02-24T11:15:05.347Z"
   },
   {
    "duration": 464,
    "start_time": "2023-02-24T11:15:05.431Z"
   },
   {
    "duration": 2400,
    "start_time": "2023-02-24T11:15:05.896Z"
   },
   {
    "duration": 2171,
    "start_time": "2023-02-24T11:15:08.298Z"
   },
   {
    "duration": 566,
    "start_time": "2023-02-24T11:15:10.471Z"
   },
   {
    "duration": 55,
    "start_time": "2023-02-24T11:15:11.039Z"
   },
   {
    "duration": 12157,
    "start_time": "2023-02-24T11:15:32.727Z"
   },
   {
    "duration": 12014,
    "start_time": "2023-02-24T11:15:49.969Z"
   },
   {
    "duration": 12549,
    "start_time": "2023-02-24T11:16:43.482Z"
   },
   {
    "duration": 452,
    "start_time": "2023-02-24T11:19:16.375Z"
   },
   {
    "duration": 61,
    "start_time": "2023-02-24T11:19:24.266Z"
   },
   {
    "duration": 1162,
    "start_time": "2023-02-24T11:24:22.011Z"
   },
   {
    "duration": 62,
    "start_time": "2023-02-24T11:24:23.175Z"
   },
   {
    "duration": 12,
    "start_time": "2023-02-24T11:24:23.239Z"
   },
   {
    "duration": 4,
    "start_time": "2023-02-24T11:24:23.253Z"
   },
   {
    "duration": 5,
    "start_time": "2023-02-24T11:24:23.259Z"
   },
   {
    "duration": 8,
    "start_time": "2023-02-24T11:24:23.266Z"
   },
   {
    "duration": 5,
    "start_time": "2023-02-24T11:24:23.275Z"
   },
   {
    "duration": 25,
    "start_time": "2023-02-24T11:24:23.281Z"
   },
   {
    "duration": 24,
    "start_time": "2023-02-24T11:24:23.308Z"
   },
   {
    "duration": 27,
    "start_time": "2023-02-24T11:24:23.335Z"
   },
   {
    "duration": 4,
    "start_time": "2023-02-24T11:24:23.364Z"
   },
   {
    "duration": 67,
    "start_time": "2023-02-24T11:24:23.370Z"
   },
   {
    "duration": 11434,
    "start_time": "2023-02-24T11:24:23.438Z"
   },
   {
    "duration": 463,
    "start_time": "2023-02-24T11:24:34.873Z"
   },
   {
    "duration": 372,
    "start_time": "2023-02-24T11:24:35.338Z"
   },
   {
    "duration": 107,
    "start_time": "2023-02-24T11:24:35.711Z"
   },
   {
    "duration": 104,
    "start_time": "2023-02-24T11:24:35.820Z"
   },
   {
    "duration": 12,
    "start_time": "2023-02-24T11:24:35.925Z"
   },
   {
    "duration": 8,
    "start_time": "2023-02-24T11:24:35.938Z"
   },
   {
    "duration": 6,
    "start_time": "2023-02-24T11:24:35.949Z"
   },
   {
    "duration": 4,
    "start_time": "2023-02-24T11:24:35.957Z"
   },
   {
    "duration": 65,
    "start_time": "2023-02-24T11:24:35.963Z"
   },
   {
    "duration": 113,
    "start_time": "2023-02-24T11:24:36.031Z"
   },
   {
    "duration": 408,
    "start_time": "2023-02-24T11:24:36.145Z"
   },
   {
    "duration": 24,
    "start_time": "2023-02-24T11:24:36.555Z"
   },
   {
    "duration": 43,
    "start_time": "2023-02-24T11:24:36.580Z"
   },
   {
    "duration": 509,
    "start_time": "2023-02-24T11:24:36.625Z"
   },
   {
    "duration": 420,
    "start_time": "2023-02-24T11:24:37.137Z"
   },
   {
    "duration": 46,
    "start_time": "2023-02-24T11:24:37.559Z"
   },
   {
    "duration": 675,
    "start_time": "2023-02-24T11:27:56.677Z"
   },
   {
    "duration": 79,
    "start_time": "2023-02-24T11:28:03.555Z"
   },
   {
    "duration": 418,
    "start_time": "2023-02-24T11:28:08.228Z"
   },
   {
    "duration": 292,
    "start_time": "2023-02-24T11:28:13.536Z"
   },
   {
    "duration": 362,
    "start_time": "2023-02-24T11:28:17.365Z"
   },
   {
    "duration": 387,
    "start_time": "2023-02-24T11:28:20.500Z"
   },
   {
    "duration": 382,
    "start_time": "2023-02-24T11:28:32.572Z"
   },
   {
    "duration": 1078,
    "start_time": "2023-02-24T11:36:08.445Z"
   },
   {
    "duration": 57,
    "start_time": "2023-02-24T11:36:09.525Z"
   },
   {
    "duration": 13,
    "start_time": "2023-02-24T11:36:09.583Z"
   },
   {
    "duration": 10,
    "start_time": "2023-02-24T11:36:09.598Z"
   },
   {
    "duration": 11,
    "start_time": "2023-02-24T11:36:09.609Z"
   },
   {
    "duration": 13,
    "start_time": "2023-02-24T11:36:09.622Z"
   },
   {
    "duration": 13,
    "start_time": "2023-02-24T11:36:09.636Z"
   },
   {
    "duration": 11,
    "start_time": "2023-02-24T11:36:09.651Z"
   },
   {
    "duration": 11,
    "start_time": "2023-02-24T11:36:09.664Z"
   },
   {
    "duration": 27,
    "start_time": "2023-02-24T11:36:09.678Z"
   },
   {
    "duration": 15,
    "start_time": "2023-02-24T11:36:09.706Z"
   },
   {
    "duration": 101,
    "start_time": "2023-02-24T11:36:09.722Z"
   },
   {
    "duration": 11546,
    "start_time": "2023-02-24T11:36:09.826Z"
   },
   {
    "duration": 455,
    "start_time": "2023-02-24T11:36:21.374Z"
   },
   {
    "duration": 398,
    "start_time": "2023-02-24T11:36:21.830Z"
   },
   {
    "duration": 111,
    "start_time": "2023-02-24T11:36:22.229Z"
   },
   {
    "duration": 115,
    "start_time": "2023-02-24T11:36:22.342Z"
   },
   {
    "duration": 7,
    "start_time": "2023-02-24T11:36:22.459Z"
   },
   {
    "duration": 6,
    "start_time": "2023-02-24T11:36:22.468Z"
   },
   {
    "duration": 5,
    "start_time": "2023-02-24T11:36:22.477Z"
   },
   {
    "duration": 3,
    "start_time": "2023-02-24T11:36:22.484Z"
   },
   {
    "duration": 46,
    "start_time": "2023-02-24T11:36:22.489Z"
   },
   {
    "duration": 194,
    "start_time": "2023-02-24T11:36:22.538Z"
   },
   {
    "duration": 397,
    "start_time": "2023-02-24T11:36:22.734Z"
   },
   {
    "duration": 23,
    "start_time": "2023-02-24T11:36:23.132Z"
   },
   {
    "duration": 64,
    "start_time": "2023-02-24T11:36:23.157Z"
   },
   {
    "duration": 500,
    "start_time": "2023-02-24T11:36:23.224Z"
   },
   {
    "duration": 11,
    "start_time": "2023-02-24T11:36:23.726Z"
   },
   {
    "duration": 86,
    "start_time": "2023-02-24T11:36:23.739Z"
   },
   {
    "duration": 335,
    "start_time": "2023-02-24T11:36:23.827Z"
   },
   {
    "duration": 425,
    "start_time": "2023-02-24T11:36:24.164Z"
   },
   {
    "duration": 53,
    "start_time": "2023-02-24T11:36:24.591Z"
   },
   {
    "duration": 1298,
    "start_time": "2023-02-24T11:41:22.309Z"
   },
   {
    "duration": 80,
    "start_time": "2023-02-24T11:41:23.610Z"
   },
   {
    "duration": 14,
    "start_time": "2023-02-24T11:41:23.691Z"
   },
   {
    "duration": 4,
    "start_time": "2023-02-24T11:41:23.707Z"
   },
   {
    "duration": 6,
    "start_time": "2023-02-24T11:41:23.712Z"
   },
   {
    "duration": 18,
    "start_time": "2023-02-24T11:41:23.722Z"
   },
   {
    "duration": 7,
    "start_time": "2023-02-24T11:41:23.742Z"
   },
   {
    "duration": 11,
    "start_time": "2023-02-24T11:41:23.750Z"
   },
   {
    "duration": 11,
    "start_time": "2023-02-24T11:41:23.764Z"
   },
   {
    "duration": 31,
    "start_time": "2023-02-24T11:41:23.778Z"
   },
   {
    "duration": 7,
    "start_time": "2023-02-24T11:41:23.821Z"
   },
   {
    "duration": 191,
    "start_time": "2023-02-24T11:41:23.831Z"
   },
   {
    "duration": 12634,
    "start_time": "2023-02-24T11:41:24.027Z"
   },
   {
    "duration": 502,
    "start_time": "2023-02-24T11:41:36.663Z"
   },
   {
    "duration": 435,
    "start_time": "2023-02-24T11:41:37.167Z"
   },
   {
    "duration": 129,
    "start_time": "2023-02-24T11:41:37.605Z"
   },
   {
    "duration": 108,
    "start_time": "2023-02-24T11:41:37.735Z"
   },
   {
    "duration": 6,
    "start_time": "2023-02-24T11:41:37.845Z"
   },
   {
    "duration": 11,
    "start_time": "2023-02-24T11:41:37.853Z"
   },
   {
    "duration": 8,
    "start_time": "2023-02-24T11:41:37.866Z"
   },
   {
    "duration": 6,
    "start_time": "2023-02-24T11:41:37.877Z"
   },
   {
    "duration": 55,
    "start_time": "2023-02-24T11:41:37.884Z"
   },
   {
    "duration": 194,
    "start_time": "2023-02-24T11:41:37.941Z"
   },
   {
    "duration": 467,
    "start_time": "2023-02-24T11:41:38.137Z"
   },
   {
    "duration": 39,
    "start_time": "2023-02-24T11:41:38.605Z"
   },
   {
    "duration": 83,
    "start_time": "2023-02-24T11:41:38.648Z"
   },
   {
    "duration": 12539,
    "start_time": "2023-02-24T11:41:38.735Z"
   },
   {
    "duration": 12,
    "start_time": "2023-02-24T11:41:51.277Z"
   },
   {
    "duration": 270,
    "start_time": "2023-02-24T11:41:51.291Z"
   },
   {
    "duration": 71,
    "start_time": "2023-02-24T11:41:51.563Z"
   },
   {
    "duration": 544,
    "start_time": "2023-02-24T11:41:51.638Z"
   },
   {
    "duration": 58,
    "start_time": "2023-02-24T11:41:52.184Z"
   },
   {
    "duration": 213,
    "start_time": "2023-02-24T11:46:27.514Z"
   },
   {
    "duration": 1167,
    "start_time": "2023-02-24T11:48:33.751Z"
   },
   {
    "duration": 60,
    "start_time": "2023-02-24T11:48:34.920Z"
   },
   {
    "duration": 15,
    "start_time": "2023-02-24T11:48:34.981Z"
   },
   {
    "duration": 8,
    "start_time": "2023-02-24T11:48:34.998Z"
   },
   {
    "duration": 11,
    "start_time": "2023-02-24T11:48:35.009Z"
   },
   {
    "duration": 26,
    "start_time": "2023-02-24T11:48:35.021Z"
   },
   {
    "duration": 30,
    "start_time": "2023-02-24T11:48:35.049Z"
   },
   {
    "duration": 19,
    "start_time": "2023-02-24T11:48:35.082Z"
   },
   {
    "duration": 11,
    "start_time": "2023-02-24T11:48:35.104Z"
   },
   {
    "duration": 48,
    "start_time": "2023-02-24T11:48:35.118Z"
   },
   {
    "duration": 3,
    "start_time": "2023-02-24T11:48:35.168Z"
   },
   {
    "duration": 60,
    "start_time": "2023-02-24T11:48:35.173Z"
   },
   {
    "duration": 11402,
    "start_time": "2023-02-24T11:48:35.238Z"
   },
   {
    "duration": 429,
    "start_time": "2023-02-24T11:48:46.642Z"
   },
   {
    "duration": 368,
    "start_time": "2023-02-24T11:48:47.073Z"
   },
   {
    "duration": 97,
    "start_time": "2023-02-24T11:48:47.442Z"
   },
   {
    "duration": 105,
    "start_time": "2023-02-24T11:48:47.541Z"
   },
   {
    "duration": 4,
    "start_time": "2023-02-24T11:48:47.648Z"
   },
   {
    "duration": 9,
    "start_time": "2023-02-24T11:48:47.654Z"
   },
   {
    "duration": 19,
    "start_time": "2023-02-24T11:48:47.664Z"
   },
   {
    "duration": 9,
    "start_time": "2023-02-24T11:48:47.685Z"
   },
   {
    "duration": 38,
    "start_time": "2023-02-24T11:48:47.696Z"
   },
   {
    "duration": 218,
    "start_time": "2023-02-24T11:48:47.738Z"
   },
   {
    "duration": 393,
    "start_time": "2023-02-24T11:48:47.957Z"
   },
   {
    "duration": 25,
    "start_time": "2023-02-24T11:48:48.352Z"
   },
   {
    "duration": 56,
    "start_time": "2023-02-24T11:48:48.378Z"
   },
   {
    "duration": 11327,
    "start_time": "2023-02-24T11:48:48.436Z"
   },
   {
    "duration": 10,
    "start_time": "2023-02-24T11:48:59.767Z"
   },
   {
    "duration": 253,
    "start_time": "2023-02-24T11:48:59.778Z"
   },
   {
    "duration": 92,
    "start_time": "2023-02-24T11:49:00.033Z"
   },
   {
    "duration": 517,
    "start_time": "2023-02-24T11:49:00.127Z"
   },
   {
    "duration": 44,
    "start_time": "2023-02-24T11:49:00.646Z"
   },
   {
    "duration": 599,
    "start_time": "2023-02-24T11:50:07.919Z"
   },
   {
    "duration": 65,
    "start_time": "2023-02-24T11:50:16.127Z"
   },
   {
    "duration": 421,
    "start_time": "2023-02-24T11:50:26.243Z"
   },
   {
    "duration": 601,
    "start_time": "2023-02-24T11:50:32.551Z"
   },
   {
    "duration": 1173,
    "start_time": "2023-02-24T11:55:34.780Z"
   },
   {
    "duration": 57,
    "start_time": "2023-02-24T11:55:35.956Z"
   },
   {
    "duration": 21,
    "start_time": "2023-02-24T11:55:36.014Z"
   },
   {
    "duration": 4,
    "start_time": "2023-02-24T11:55:36.038Z"
   },
   {
    "duration": 6,
    "start_time": "2023-02-24T11:55:36.043Z"
   },
   {
    "duration": 6,
    "start_time": "2023-02-24T11:55:36.050Z"
   },
   {
    "duration": 6,
    "start_time": "2023-02-24T11:55:36.057Z"
   },
   {
    "duration": 13,
    "start_time": "2023-02-24T11:55:36.064Z"
   },
   {
    "duration": 9,
    "start_time": "2023-02-24T11:55:36.078Z"
   },
   {
    "duration": 52,
    "start_time": "2023-02-24T11:55:36.089Z"
   },
   {
    "duration": 3,
    "start_time": "2023-02-24T11:55:36.143Z"
   },
   {
    "duration": 84,
    "start_time": "2023-02-24T11:55:36.148Z"
   },
   {
    "duration": 11321,
    "start_time": "2023-02-24T11:55:36.234Z"
   },
   {
    "duration": 438,
    "start_time": "2023-02-24T11:55:47.556Z"
   },
   {
    "duration": 386,
    "start_time": "2023-02-24T11:55:47.995Z"
   },
   {
    "duration": 111,
    "start_time": "2023-02-24T11:55:48.383Z"
   },
   {
    "duration": 106,
    "start_time": "2023-02-24T11:55:48.496Z"
   },
   {
    "duration": 23,
    "start_time": "2023-02-24T11:55:48.604Z"
   },
   {
    "duration": 10,
    "start_time": "2023-02-24T11:55:48.628Z"
   },
   {
    "duration": 12,
    "start_time": "2023-02-24T11:55:48.639Z"
   },
   {
    "duration": 3,
    "start_time": "2023-02-24T11:55:48.653Z"
   },
   {
    "duration": 81,
    "start_time": "2023-02-24T11:55:48.658Z"
   },
   {
    "duration": 105,
    "start_time": "2023-02-24T11:55:48.740Z"
   },
   {
    "duration": 429,
    "start_time": "2023-02-24T11:55:48.847Z"
   },
   {
    "duration": 23,
    "start_time": "2023-02-24T11:55:49.278Z"
   },
   {
    "duration": 127,
    "start_time": "2023-02-24T11:55:49.303Z"
   },
   {
    "duration": 11567,
    "start_time": "2023-02-24T11:55:49.434Z"
   },
   {
    "duration": 23,
    "start_time": "2023-02-24T11:56:01.004Z"
   },
   {
    "duration": 6765,
    "start_time": "2023-02-24T11:56:01.028Z"
   },
   {
    "duration": 54,
    "start_time": "2023-02-24T11:56:07.795Z"
   },
   {
    "duration": 683,
    "start_time": "2023-02-24T11:56:07.927Z"
   },
   {
    "duration": 72,
    "start_time": "2023-02-24T11:56:08.612Z"
   },
   {
    "duration": 24,
    "start_time": "2023-02-24T11:59:04.665Z"
   },
   {
    "duration": 59,
    "start_time": "2023-02-24T11:59:09.272Z"
   },
   {
    "duration": 753,
    "start_time": "2023-02-24T12:03:08.557Z"
   },
   {
    "duration": 6,
    "start_time": "2023-02-24T12:04:37.005Z"
   },
   {
    "duration": 6,
    "start_time": "2023-02-24T12:04:37.653Z"
   },
   {
    "duration": 1142,
    "start_time": "2023-02-24T12:04:48.395Z"
   },
   {
    "duration": 57,
    "start_time": "2023-02-24T12:04:49.539Z"
   },
   {
    "duration": 13,
    "start_time": "2023-02-24T12:04:49.598Z"
   },
   {
    "duration": 4,
    "start_time": "2023-02-24T12:04:49.612Z"
   },
   {
    "duration": 19,
    "start_time": "2023-02-24T12:04:49.618Z"
   },
   {
    "duration": 10,
    "start_time": "2023-02-24T12:04:49.638Z"
   },
   {
    "duration": 8,
    "start_time": "2023-02-24T12:04:49.649Z"
   },
   {
    "duration": 15,
    "start_time": "2023-02-24T12:04:49.658Z"
   },
   {
    "duration": 12,
    "start_time": "2023-02-24T12:04:49.674Z"
   },
   {
    "duration": 27,
    "start_time": "2023-02-24T12:04:49.689Z"
   },
   {
    "duration": 12,
    "start_time": "2023-02-24T12:04:49.718Z"
   },
   {
    "duration": 93,
    "start_time": "2023-02-24T12:04:49.732Z"
   },
   {
    "duration": 11909,
    "start_time": "2023-02-24T12:04:49.827Z"
   },
   {
    "duration": 460,
    "start_time": "2023-02-24T12:05:01.737Z"
   },
   {
    "duration": 497,
    "start_time": "2023-02-24T12:05:02.199Z"
   },
   {
    "duration": 103,
    "start_time": "2023-02-24T12:05:02.698Z"
   },
   {
    "duration": 111,
    "start_time": "2023-02-24T12:05:02.803Z"
   },
   {
    "duration": 19,
    "start_time": "2023-02-24T12:05:02.916Z"
   },
   {
    "duration": 7,
    "start_time": "2023-02-24T12:05:02.937Z"
   },
   {
    "duration": 7,
    "start_time": "2023-02-24T12:05:02.946Z"
   },
   {
    "duration": 7,
    "start_time": "2023-02-24T12:05:02.955Z"
   },
   {
    "duration": 20,
    "start_time": "2023-02-24T12:05:02.964Z"
   },
   {
    "duration": 119,
    "start_time": "2023-02-24T12:05:03.023Z"
   },
   {
    "duration": 412,
    "start_time": "2023-02-24T12:05:03.144Z"
   },
   {
    "duration": 25,
    "start_time": "2023-02-24T12:05:03.557Z"
   },
   {
    "duration": 48,
    "start_time": "2023-02-24T12:05:03.584Z"
   },
   {
    "duration": 12001,
    "start_time": "2023-02-24T12:05:03.634Z"
   },
   {
    "duration": 638,
    "start_time": "2023-02-24T12:05:15.639Z"
   },
   {
    "duration": 12,
    "start_time": "2023-02-24T12:05:16.279Z"
   },
   {
    "duration": 6942,
    "start_time": "2023-02-24T12:05:16.293Z"
   },
   {
    "duration": 369,
    "start_time": "2023-02-24T12:05:23.236Z"
   },
   {
    "duration": 39,
    "start_time": "2023-02-24T12:05:23.607Z"
   },
   {
    "duration": 684,
    "start_time": "2023-02-24T12:05:23.727Z"
   },
   {
    "duration": 68,
    "start_time": "2023-02-24T12:05:24.414Z"
   },
   {
    "duration": 1119,
    "start_time": "2023-02-24T12:07:15.357Z"
   },
   {
    "duration": 66,
    "start_time": "2023-02-24T12:07:16.478Z"
   },
   {
    "duration": 15,
    "start_time": "2023-02-24T12:07:16.545Z"
   },
   {
    "duration": 4,
    "start_time": "2023-02-24T12:07:16.563Z"
   },
   {
    "duration": 6,
    "start_time": "2023-02-24T12:07:16.569Z"
   },
   {
    "duration": 17,
    "start_time": "2023-02-24T12:07:16.576Z"
   },
   {
    "duration": 29,
    "start_time": "2023-02-24T12:07:16.595Z"
   },
   {
    "duration": 12,
    "start_time": "2023-02-24T12:07:16.632Z"
   },
   {
    "duration": 11,
    "start_time": "2023-02-24T12:07:16.646Z"
   },
   {
    "duration": 29,
    "start_time": "2023-02-24T12:07:16.659Z"
   },
   {
    "duration": 4,
    "start_time": "2023-02-24T12:07:16.691Z"
   },
   {
    "duration": 142,
    "start_time": "2023-02-24T12:07:16.697Z"
   },
   {
    "duration": 12489,
    "start_time": "2023-02-24T12:07:16.844Z"
   },
   {
    "duration": 463,
    "start_time": "2023-02-24T12:07:29.335Z"
   },
   {
    "duration": 408,
    "start_time": "2023-02-24T12:07:29.801Z"
   },
   {
    "duration": 126,
    "start_time": "2023-02-24T12:07:30.211Z"
   },
   {
    "duration": 118,
    "start_time": "2023-02-24T12:07:30.340Z"
   },
   {
    "duration": 7,
    "start_time": "2023-02-24T12:07:30.460Z"
   },
   {
    "duration": 18,
    "start_time": "2023-02-24T12:07:30.469Z"
   },
   {
    "duration": 28,
    "start_time": "2023-02-24T12:07:30.489Z"
   },
   {
    "duration": 33,
    "start_time": "2023-02-24T12:07:30.519Z"
   },
   {
    "duration": 81,
    "start_time": "2023-02-24T12:07:30.554Z"
   },
   {
    "duration": 125,
    "start_time": "2023-02-24T12:07:30.637Z"
   },
   {
    "duration": 447,
    "start_time": "2023-02-24T12:07:30.765Z"
   },
   {
    "duration": 26,
    "start_time": "2023-02-24T12:07:31.214Z"
   },
   {
    "duration": 88,
    "start_time": "2023-02-24T12:07:31.242Z"
   },
   {
    "duration": 12340,
    "start_time": "2023-02-24T12:07:31.332Z"
   },
   {
    "duration": 681,
    "start_time": "2023-02-24T12:07:43.676Z"
   },
   {
    "duration": 15,
    "start_time": "2023-02-24T12:07:44.359Z"
   },
   {
    "duration": 7232,
    "start_time": "2023-02-24T12:07:44.376Z"
   },
   {
    "duration": 221,
    "start_time": "2023-02-24T12:07:51.610Z"
   },
   {
    "duration": 96,
    "start_time": "2023-02-24T12:07:51.834Z"
   },
   {
    "duration": 719,
    "start_time": "2023-02-24T12:07:51.932Z"
   },
   {
    "duration": 74,
    "start_time": "2023-02-24T12:07:52.652Z"
   },
   {
    "duration": 1202,
    "start_time": "2023-02-24T12:10:09.558Z"
   },
   {
    "duration": 57,
    "start_time": "2023-02-24T12:10:10.762Z"
   },
   {
    "duration": 26,
    "start_time": "2023-02-24T12:10:10.821Z"
   },
   {
    "duration": 5,
    "start_time": "2023-02-24T12:10:10.849Z"
   },
   {
    "duration": 5,
    "start_time": "2023-02-24T12:10:10.856Z"
   },
   {
    "duration": 6,
    "start_time": "2023-02-24T12:10:10.863Z"
   },
   {
    "duration": 8,
    "start_time": "2023-02-24T12:10:10.871Z"
   },
   {
    "duration": 11,
    "start_time": "2023-02-24T12:10:10.881Z"
   },
   {
    "duration": 40,
    "start_time": "2023-02-24T12:10:10.894Z"
   },
   {
    "duration": 38,
    "start_time": "2023-02-24T12:10:10.937Z"
   },
   {
    "duration": 3,
    "start_time": "2023-02-24T12:10:10.978Z"
   },
   {
    "duration": 55,
    "start_time": "2023-02-24T12:10:10.983Z"
   },
   {
    "duration": 12851,
    "start_time": "2023-02-24T12:10:11.129Z"
   },
   {
    "duration": 510,
    "start_time": "2023-02-24T12:10:23.983Z"
   },
   {
    "duration": 484,
    "start_time": "2023-02-24T12:10:24.495Z"
   },
   {
    "duration": 142,
    "start_time": "2023-02-24T12:10:24.980Z"
   },
   {
    "duration": 135,
    "start_time": "2023-02-24T12:10:25.124Z"
   },
   {
    "duration": 7,
    "start_time": "2023-02-24T12:10:25.261Z"
   },
   {
    "duration": 6,
    "start_time": "2023-02-24T12:10:25.270Z"
   },
   {
    "duration": 7,
    "start_time": "2023-02-24T12:10:25.278Z"
   },
   {
    "duration": 4,
    "start_time": "2023-02-24T12:10:25.288Z"
   },
   {
    "duration": 50,
    "start_time": "2023-02-24T12:10:25.294Z"
   },
   {
    "duration": 189,
    "start_time": "2023-02-24T12:10:25.346Z"
   },
   {
    "duration": 460,
    "start_time": "2023-02-24T12:10:25.537Z"
   },
   {
    "duration": 38,
    "start_time": "2023-02-24T12:10:25.999Z"
   },
   {
    "duration": 93,
    "start_time": "2023-02-24T12:10:26.039Z"
   },
   {
    "duration": 12903,
    "start_time": "2023-02-24T12:10:26.135Z"
   },
   {
    "duration": 692,
    "start_time": "2023-02-24T12:10:39.040Z"
   },
   {
    "duration": 13,
    "start_time": "2023-02-24T12:10:39.734Z"
   },
   {
    "duration": 7369,
    "start_time": "2023-02-24T12:10:39.749Z"
   },
   {
    "duration": 212,
    "start_time": "2023-02-24T12:10:47.121Z"
   },
   {
    "duration": 85,
    "start_time": "2023-02-24T12:10:47.335Z"
   },
   {
    "duration": 737,
    "start_time": "2023-02-24T12:10:47.426Z"
   },
   {
    "duration": 76,
    "start_time": "2023-02-24T12:10:48.165Z"
   },
   {
    "duration": 26,
    "start_time": "2023-02-24T12:12:52.264Z"
   },
   {
    "duration": 23,
    "start_time": "2023-02-24T12:13:12.292Z"
   },
   {
    "duration": 1225,
    "start_time": "2023-02-25T08:37:49.081Z"
   },
   {
    "duration": 100,
    "start_time": "2023-02-25T08:37:50.308Z"
   },
   {
    "duration": 15,
    "start_time": "2023-02-25T08:37:50.410Z"
   },
   {
    "duration": 16,
    "start_time": "2023-02-25T08:37:50.429Z"
   },
   {
    "duration": 14,
    "start_time": "2023-02-25T08:37:50.447Z"
   },
   {
    "duration": 13,
    "start_time": "2023-02-25T08:37:50.463Z"
   },
   {
    "duration": 15,
    "start_time": "2023-02-25T08:37:50.479Z"
   },
   {
    "duration": 26,
    "start_time": "2023-02-25T08:37:50.496Z"
   },
   {
    "duration": 14,
    "start_time": "2023-02-25T08:37:50.525Z"
   },
   {
    "duration": 33,
    "start_time": "2023-02-25T08:37:50.544Z"
   },
   {
    "duration": 4,
    "start_time": "2023-02-25T08:37:50.580Z"
   },
   {
    "duration": 169,
    "start_time": "2023-02-25T08:37:50.587Z"
   },
   {
    "duration": 13447,
    "start_time": "2023-02-25T08:37:50.759Z"
   },
   {
    "duration": 500,
    "start_time": "2023-02-25T08:38:04.208Z"
   },
   {
    "duration": 577,
    "start_time": "2023-02-25T08:38:04.710Z"
   },
   {
    "duration": 116,
    "start_time": "2023-02-25T08:38:05.289Z"
   },
   {
    "duration": 123,
    "start_time": "2023-02-25T08:38:05.407Z"
   },
   {
    "duration": 6,
    "start_time": "2023-02-25T08:38:05.532Z"
   },
   {
    "duration": 6,
    "start_time": "2023-02-25T08:38:05.554Z"
   },
   {
    "duration": 8,
    "start_time": "2023-02-25T08:38:05.562Z"
   },
   {
    "duration": 5,
    "start_time": "2023-02-25T08:38:05.571Z"
   },
   {
    "duration": 80,
    "start_time": "2023-02-25T08:38:05.577Z"
   },
   {
    "duration": 118,
    "start_time": "2023-02-25T08:38:05.660Z"
   },
   {
    "duration": 456,
    "start_time": "2023-02-25T08:38:05.853Z"
   },
   {
    "duration": 25,
    "start_time": "2023-02-25T08:38:06.311Z"
   },
   {
    "duration": 216,
    "start_time": "2023-02-25T08:38:06.338Z"
   },
   {
    "duration": 12329,
    "start_time": "2023-02-25T08:38:06.556Z"
   },
   {
    "duration": 659,
    "start_time": "2023-02-25T08:38:18.889Z"
   },
   {
    "duration": 13,
    "start_time": "2023-02-25T08:38:19.551Z"
   },
   {
    "duration": 8953,
    "start_time": "2023-02-25T08:38:19.566Z"
   },
   {
    "duration": 240,
    "start_time": "2023-02-25T08:38:28.521Z"
   },
   {
    "duration": 91,
    "start_time": "2023-02-25T08:38:28.763Z"
   },
   {
    "duration": 700,
    "start_time": "2023-02-25T08:38:28.856Z"
   },
   {
    "duration": 66,
    "start_time": "2023-02-25T08:38:29.558Z"
   },
   {
    "duration": 123,
    "start_time": "2023-02-25T08:40:21.939Z"
   },
   {
    "duration": 12,
    "start_time": "2023-02-25T08:40:33.058Z"
   },
   {
    "duration": 15,
    "start_time": "2023-02-25T08:40:39.320Z"
   },
   {
    "duration": 22,
    "start_time": "2023-02-25T08:41:44.294Z"
   },
   {
    "duration": 15,
    "start_time": "2023-02-25T08:41:50.073Z"
   },
   {
    "duration": 19,
    "start_time": "2023-02-25T08:41:55.366Z"
   },
   {
    "duration": 13,
    "start_time": "2023-02-25T08:42:00.952Z"
   },
   {
    "duration": 14,
    "start_time": "2023-02-25T08:42:21.694Z"
   },
   {
    "duration": 1130,
    "start_time": "2023-02-25T08:42:51.531Z"
   },
   {
    "duration": 54,
    "start_time": "2023-02-25T08:42:52.663Z"
   },
   {
    "duration": 12,
    "start_time": "2023-02-25T08:42:52.718Z"
   },
   {
    "duration": 8,
    "start_time": "2023-02-25T08:42:52.731Z"
   },
   {
    "duration": 8,
    "start_time": "2023-02-25T08:42:52.740Z"
   },
   {
    "duration": 16,
    "start_time": "2023-02-25T08:42:52.750Z"
   },
   {
    "duration": 8,
    "start_time": "2023-02-25T08:42:52.767Z"
   },
   {
    "duration": 11,
    "start_time": "2023-02-25T08:42:52.776Z"
   },
   {
    "duration": 13,
    "start_time": "2023-02-25T08:42:52.788Z"
   },
   {
    "duration": 33,
    "start_time": "2023-02-25T08:42:52.804Z"
   },
   {
    "duration": 3,
    "start_time": "2023-02-25T08:42:52.839Z"
   },
   {
    "duration": 33,
    "start_time": "2023-02-25T08:42:52.853Z"
   },
   {
    "duration": 11920,
    "start_time": "2023-02-25T08:42:52.954Z"
   },
   {
    "duration": 451,
    "start_time": "2023-02-25T08:43:04.876Z"
   },
   {
    "duration": 416,
    "start_time": "2023-02-25T08:43:05.329Z"
   },
   {
    "duration": 114,
    "start_time": "2023-02-25T08:43:05.747Z"
   },
   {
    "duration": 115,
    "start_time": "2023-02-25T08:43:05.862Z"
   },
   {
    "duration": 7,
    "start_time": "2023-02-25T08:43:05.978Z"
   },
   {
    "duration": 10,
    "start_time": "2023-02-25T08:43:05.986Z"
   },
   {
    "duration": 15,
    "start_time": "2023-02-25T08:43:05.997Z"
   },
   {
    "duration": 5,
    "start_time": "2023-02-25T08:43:06.014Z"
   },
   {
    "duration": 132,
    "start_time": "2023-02-25T08:43:06.021Z"
   },
   {
    "duration": 127,
    "start_time": "2023-02-25T08:43:06.156Z"
   },
   {
    "duration": 462,
    "start_time": "2023-02-25T08:43:06.286Z"
   },
   {
    "duration": 26,
    "start_time": "2023-02-25T08:43:06.750Z"
   },
   {
    "duration": 82,
    "start_time": "2023-02-25T08:43:06.778Z"
   },
   {
    "duration": 12506,
    "start_time": "2023-02-25T08:43:06.862Z"
   },
   {
    "duration": 685,
    "start_time": "2023-02-25T08:43:19.370Z"
   },
   {
    "duration": 11,
    "start_time": "2023-02-25T08:43:20.057Z"
   },
   {
    "duration": 8672,
    "start_time": "2023-02-25T08:43:20.070Z"
   },
   {
    "duration": 482,
    "start_time": "2023-02-25T08:43:28.744Z"
   },
   {
    "duration": 35,
    "start_time": "2023-02-25T08:43:29.228Z"
   },
   {
    "duration": 721,
    "start_time": "2023-02-25T08:43:29.356Z"
   },
   {
    "duration": 62,
    "start_time": "2023-02-25T08:43:30.079Z"
   },
   {
    "duration": 1169,
    "start_time": "2023-02-25T09:23:35.812Z"
   },
   {
    "duration": 58,
    "start_time": "2023-02-25T09:23:36.983Z"
   },
   {
    "duration": 20,
    "start_time": "2023-02-25T09:23:37.042Z"
   },
   {
    "duration": 13,
    "start_time": "2023-02-25T09:23:37.064Z"
   },
   {
    "duration": 6,
    "start_time": "2023-02-25T09:23:37.080Z"
   },
   {
    "duration": 8,
    "start_time": "2023-02-25T09:23:37.087Z"
   },
   {
    "duration": 5,
    "start_time": "2023-02-25T09:23:37.097Z"
   },
   {
    "duration": 13,
    "start_time": "2023-02-25T09:23:37.104Z"
   },
   {
    "duration": 13,
    "start_time": "2023-02-25T09:23:37.118Z"
   },
   {
    "duration": 39,
    "start_time": "2023-02-25T09:23:37.153Z"
   },
   {
    "duration": 5,
    "start_time": "2023-02-25T09:23:37.193Z"
   },
   {
    "duration": 64,
    "start_time": "2023-02-25T09:23:37.200Z"
   },
   {
    "duration": 12500,
    "start_time": "2023-02-25T09:23:37.267Z"
   },
   {
    "duration": 459,
    "start_time": "2023-02-25T09:23:49.771Z"
   },
   {
    "duration": 374,
    "start_time": "2023-02-25T09:23:50.232Z"
   },
   {
    "duration": 110,
    "start_time": "2023-02-25T09:23:50.608Z"
   },
   {
    "duration": 108,
    "start_time": "2023-02-25T09:23:50.720Z"
   },
   {
    "duration": 6,
    "start_time": "2023-02-25T09:23:50.830Z"
   },
   {
    "duration": 38,
    "start_time": "2023-02-25T09:23:50.837Z"
   },
   {
    "duration": 7,
    "start_time": "2023-02-25T09:23:50.876Z"
   },
   {
    "duration": 5,
    "start_time": "2023-02-25T09:23:50.885Z"
   },
   {
    "duration": 73,
    "start_time": "2023-02-25T09:23:50.891Z"
   },
   {
    "duration": 109,
    "start_time": "2023-02-25T09:23:50.966Z"
   },
   {
    "duration": 448,
    "start_time": "2023-02-25T09:23:51.077Z"
   },
   {
    "duration": 37,
    "start_time": "2023-02-25T09:23:51.527Z"
   },
   {
    "duration": 93,
    "start_time": "2023-02-25T09:23:51.565Z"
   },
   {
    "duration": 12315,
    "start_time": "2023-02-25T09:23:51.660Z"
   },
   {
    "duration": 637,
    "start_time": "2023-02-25T09:24:03.977Z"
   },
   {
    "duration": 10,
    "start_time": "2023-02-25T09:24:04.615Z"
   },
   {
    "duration": 8077,
    "start_time": "2023-02-25T09:24:04.626Z"
   },
   {
    "duration": 411,
    "start_time": "2023-02-25T09:24:12.704Z"
   },
   {
    "duration": 53,
    "start_time": "2023-02-25T09:24:13.117Z"
   },
   {
    "duration": 771,
    "start_time": "2023-02-25T09:24:13.172Z"
   },
   {
    "duration": 60,
    "start_time": "2023-02-25T09:24:13.945Z"
   },
   {
    "duration": 1032,
    "start_time": "2023-02-25T09:25:27.987Z"
   },
   {
    "duration": 51,
    "start_time": "2023-02-25T09:25:29.022Z"
   },
   {
    "duration": 11,
    "start_time": "2023-02-25T09:25:29.075Z"
   },
   {
    "duration": 4,
    "start_time": "2023-02-25T09:25:29.087Z"
   },
   {
    "duration": 6,
    "start_time": "2023-02-25T09:25:29.093Z"
   },
   {
    "duration": 7,
    "start_time": "2023-02-25T09:25:29.101Z"
   },
   {
    "duration": 9,
    "start_time": "2023-02-25T09:25:29.109Z"
   },
   {
    "duration": 11,
    "start_time": "2023-02-25T09:25:29.119Z"
   },
   {
    "duration": 29,
    "start_time": "2023-02-25T09:25:29.132Z"
   },
   {
    "duration": 27,
    "start_time": "2023-02-25T09:25:29.162Z"
   },
   {
    "duration": 3,
    "start_time": "2023-02-25T09:25:29.191Z"
   },
   {
    "duration": 66,
    "start_time": "2023-02-25T09:25:29.196Z"
   },
   {
    "duration": 11865,
    "start_time": "2023-02-25T09:25:29.355Z"
   },
   {
    "duration": 477,
    "start_time": "2023-02-25T09:25:41.223Z"
   },
   {
    "duration": 380,
    "start_time": "2023-02-25T09:25:41.702Z"
   },
   {
    "duration": 99,
    "start_time": "2023-02-25T09:25:42.084Z"
   },
   {
    "duration": 107,
    "start_time": "2023-02-25T09:25:42.184Z"
   },
   {
    "duration": 6,
    "start_time": "2023-02-25T09:25:42.292Z"
   },
   {
    "duration": 9,
    "start_time": "2023-02-25T09:25:42.299Z"
   },
   {
    "duration": 17,
    "start_time": "2023-02-25T09:25:42.309Z"
   },
   {
    "duration": 6,
    "start_time": "2023-02-25T09:25:42.327Z"
   },
   {
    "duration": 33,
    "start_time": "2023-02-25T09:25:42.334Z"
   },
   {
    "duration": 198,
    "start_time": "2023-02-25T09:25:42.369Z"
   },
   {
    "duration": 428,
    "start_time": "2023-02-25T09:25:42.569Z"
   },
   {
    "duration": 25,
    "start_time": "2023-02-25T09:25:42.999Z"
   },
   {
    "duration": 129,
    "start_time": "2023-02-25T09:25:43.026Z"
   },
   {
    "duration": 11854,
    "start_time": "2023-02-25T09:25:43.157Z"
   },
   {
    "duration": 667,
    "start_time": "2023-02-25T09:25:55.013Z"
   },
   {
    "duration": 12,
    "start_time": "2023-02-25T09:25:55.681Z"
   },
   {
    "duration": 7772,
    "start_time": "2023-02-25T09:25:55.694Z"
   },
   {
    "duration": 446,
    "start_time": "2023-02-25T09:26:03.468Z"
   },
   {
    "duration": 138,
    "start_time": "2023-02-25T09:26:03.916Z"
   },
   {
    "duration": 660,
    "start_time": "2023-02-25T09:26:04.057Z"
   },
   {
    "duration": 69,
    "start_time": "2023-02-25T09:26:04.719Z"
   }
  ],
  "kernelspec": {
   "display_name": "Python 3 (ipykernel)",
   "language": "python",
   "name": "python3"
  },
  "language_info": {
   "codemirror_mode": {
    "name": "ipython",
    "version": 3
   },
   "file_extension": ".py",
   "mimetype": "text/x-python",
   "name": "python",
   "nbconvert_exporter": "python",
   "pygments_lexer": "ipython3",
   "version": "3.9.5"
  },
  "toc": {
   "base_numbering": 1,
   "nav_menu": {},
   "number_sections": true,
   "sideBar": true,
   "skip_h1_title": true,
   "title_cell": "Содержание",
   "title_sidebar": "Contents",
   "toc_cell": true,
   "toc_position": {
    "height": "calc(100% - 180px)",
    "left": "10px",
    "top": "150px",
    "width": "289.438px"
   },
   "toc_section_display": true,
   "toc_window_display": false
  }
 },
 "nbformat": 4,
 "nbformat_minor": 2
}
