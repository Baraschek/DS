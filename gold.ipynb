{
 "cells": [
  {
   "cell_type": "markdown",
   "metadata": {
    "toc": true
   },
   "source": [
    "<h1>Содержание<span class=\"tocSkip\"></span></h1>\n",
    "<div class=\"toc\"><ul class=\"toc-item\"><li><span><a href=\"#Подготовка-данных\" data-toc-modified-id=\"Подготовка-данных-1\"><span class=\"toc-item-num\">1&nbsp;&nbsp;</span>Подготовка данных</a></span><ul class=\"toc-item\"><li><span><a href=\"#Проверка-формулы-расчёта-эффективности-обогащения\" data-toc-modified-id=\"Проверка-формулы-расчёта-эффективности-обогащения-1.1\"><span class=\"toc-item-num\">1.1&nbsp;&nbsp;</span>Проверка формулы расчёта эффективности обогащения</a></span></li><li><span><a href=\"#Признаки-в-тестовой-и-обучающей-выборках\" data-toc-modified-id=\"Признаки-в-тестовой-и-обучающей-выборках-1.2\"><span class=\"toc-item-num\">1.2&nbsp;&nbsp;</span>Признаки в тестовой и обучающей выборках</a></span></li></ul></li><li><span><a href=\"#Анализ-данных\" data-toc-modified-id=\"Анализ-данных-2\"><span class=\"toc-item-num\">2&nbsp;&nbsp;</span>Анализ данных</a></span></li><li><span><a href=\"#Модель\" data-toc-modified-id=\"Модель-3\"><span class=\"toc-item-num\">3&nbsp;&nbsp;</span>Модель</a></span><ul class=\"toc-item\"><li><span><a href=\"#Подготовка\" data-toc-modified-id=\"Подготовка-3.1\"><span class=\"toc-item-num\">3.1&nbsp;&nbsp;</span>Подготовка</a></span></li><li><span><a href=\"#StandarScaler\" data-toc-modified-id=\"StandarScaler-3.2\"><span class=\"toc-item-num\">3.2&nbsp;&nbsp;</span>StandarScaler</a></span></li><li><span><a href=\"#Обучение-моделей\" data-toc-modified-id=\"Обучение-моделей-3.3\"><span class=\"toc-item-num\">3.3&nbsp;&nbsp;</span>Обучение моделей</a></span></li><li><span><a href=\"#Линейная-регрессия\" data-toc-modified-id=\"Линейная-регрессия-3.4\"><span class=\"toc-item-num\">3.4&nbsp;&nbsp;</span>Линейная регрессия</a></span></li><li><span><a href=\"#Дерево-решений\" data-toc-modified-id=\"Дерево-решений-3.5\"><span class=\"toc-item-num\">3.5&nbsp;&nbsp;</span>Дерево решений</a></span></li><li><span><a href=\"#Случайный-лес\" data-toc-modified-id=\"Случайный-лес-3.6\"><span class=\"toc-item-num\">3.6&nbsp;&nbsp;</span>Случайный лес</a></span></li><li><span><a href=\"#Проверка-лучшей-модели\" data-toc-modified-id=\"Проверка-лучшей-модели-3.7\"><span class=\"toc-item-num\">3.7&nbsp;&nbsp;</span>Проверка лучшей модели</a></span></li><li><span><a href=\"#Проверка-на-адекватность\" data-toc-modified-id=\"Проверка-на-адекватность-3.8\"><span class=\"toc-item-num\">3.8&nbsp;&nbsp;</span>Проверка на адекватность</a></span></li></ul></li><li><span><a href=\"#Вывод\" data-toc-modified-id=\"Вывод-4\"><span class=\"toc-item-num\">4&nbsp;&nbsp;</span>Вывод</a></span></li><li><span><a href=\"#Чек-лист-готовности-проекта\" data-toc-modified-id=\"Чек-лист-готовности-проекта-5\"><span class=\"toc-item-num\">5&nbsp;&nbsp;</span>Чек-лист готовности проекта</a></span></li></ul></div>"
   ]
  },
  {
   "cell_type": "markdown",
   "metadata": {},
   "source": [
    "# Восстановление золота из руды"
   ]
  },
  {
   "cell_type": "markdown",
   "metadata": {},
   "source": [
    "Подготовьте прототип модели машинного обучения для «Цифры». Компания разрабатывает решения для эффективной работы промышленных предприятий.\n",
    "\n",
    "Модель должна предсказать коэффициент восстановления золота из золотосодержащей руды. Используйте данные с параметрами добычи и очистки. \n",
    "\n",
    "Модель поможет оптимизировать производство, чтобы не запускать предприятие с убыточными характеристиками.\n",
    "\n",
    "Вам нужно:\n",
    "\n",
    "1. Подготовить данные;\n",
    "2. Провести исследовательский анализ данных;\n",
    "3. Построить и обучить модель.\n",
    "\n",
    "Чтобы выполнить проект, обращайтесь к библиотекам *pandas*, *matplotlib* и *sklearn.* Вам поможет их документация."
   ]
  },
  {
   "cell_type": "markdown",
   "metadata": {},
   "source": [
    "# Описание данных\n",
    "\n",
    "**Технологический процесс**\n",
    "* `Rougher feed` — исходное сырье\n",
    "\n",
    "* `Rougher additions` (или reagent additions) — флотационные реагенты:\n",
    "    * `Xanthate` — ксантогенат (промотер, или активатор флотации);\n",
    "    * `Sulphate` — сульфат (на данном производстве сульфид натрия);\n",
    "    * `Depressant` — депрессант (силикат натрия).\n",
    "* `Rougher process` (англ. «грубый процесс») — флотация\n",
    "* `Rougher tails` — отвальные хвосты\n",
    "* `Float banks` — флотационная установка\n",
    "* `Cleaner process` — очистка\n",
    "* `Rougher Au` — черновой концентрат золота\n",
    "* `Final Au` — финальный концентрат золота\n",
    "\n",
    "**Параметры этапов**\n",
    "* `air amount` — объём воздуха\n",
    "\n",
    "* `fluid levels` — уровень жидкости\n",
    "* `feed size` — размер гранул сырья\n",
    "* `feed rate` — скорость подачи\n",
    "\n",
    "**Наименование признаков**\n",
    "\n",
    "`[этап].[тип_параметра].[название_параметра]`\n",
    "\n",
    "Пример: `rougher.input.feed_ag`\n",
    "\n",
    "Возможные значения для блока `[этап]`:\n",
    "* `rougher` — флотация\n",
    "\n",
    "* `primary_cleaner` — первичная очистка\n",
    "* `secondary_cleaner` — вторичная очистка\n",
    "* `final` — финальные характеристики\n",
    "\n",
    "Возможные значения для блока `[тип_параметра]`:\n",
    "* `input` — параметры сырья\n",
    "\n",
    "* `output` — параметры продукта\n",
    "* `state` — параметры, характеризующие текущее состояние этапа\n",
    "* `calculation` — расчётные характеристики\n",
    "\n",
    "## Подготовка данных"
   ]
  },
  {
   "cell_type": "code",
   "execution_count": 1,
   "metadata": {},
   "outputs": [],
   "source": [
    "import pandas as pd\n",
    "import numpy as np\n",
    "import datetime\n",
    "\n",
    "import seaborn as sns\n",
    "import matplotlib.pyplot as plt\n",
    "\n",
    "from sklearn.metrics import make_scorer, mean_absolute_error\n",
    "\n",
    "from sklearn.ensemble import RandomForestRegressor, GradientBoostingRegressor\n",
    "from sklearn.linear_model import LinearRegression\n",
    "from sklearn.tree import DecisionTreeRegressor\n",
    "from sklearn.dummy import DummyRegressor\n",
    "\n",
    "from sklearn.model_selection import cross_val_score, KFold, LeavePGroupsOut, RandomizedSearchCV\n",
    "from sklearn.pipeline import Pipeline\n",
    "from sklearn.preprocessing import StandardScaler\n",
    "from sklearn.model_selection import GridSearchCV"
   ]
  },
  {
   "cell_type": "code",
   "execution_count": 2,
   "metadata": {},
   "outputs": [],
   "source": [
    "train_data = pd.read_csv('/datasets/gold_recovery_train_new.csv')\n",
    "test_data = pd.read_csv('/datasets/gold_recovery_test_new.csv')\n",
    "full_data = pd.read_csv('/datasets/gold_recovery_full_new.csv')"
   ]
  },
  {
   "cell_type": "code",
   "execution_count": 3,
   "metadata": {
    "scrolled": true
   },
   "outputs": [
    {
     "name": "stdout",
     "output_type": "stream",
     "text": [
      "<class 'pandas.core.frame.DataFrame'>\n",
      "RangeIndex: 19439 entries, 0 to 19438\n",
      "Data columns (total 87 columns):\n",
      " #   Column                                              Non-Null Count  Dtype  \n",
      "---  ------                                              --------------  -----  \n",
      " 0   date                                                19439 non-null  object \n",
      " 1   final.output.concentrate_ag                         19438 non-null  float64\n",
      " 2   final.output.concentrate_pb                         19438 non-null  float64\n",
      " 3   final.output.concentrate_sol                        19228 non-null  float64\n",
      " 4   final.output.concentrate_au                         19439 non-null  float64\n",
      " 5   final.output.recovery                               19439 non-null  float64\n",
      " 6   final.output.tail_ag                                19438 non-null  float64\n",
      " 7   final.output.tail_pb                                19338 non-null  float64\n",
      " 8   final.output.tail_sol                               19433 non-null  float64\n",
      " 9   final.output.tail_au                                19439 non-null  float64\n",
      " 10  primary_cleaner.input.sulfate                       19415 non-null  float64\n",
      " 11  primary_cleaner.input.depressant                    19402 non-null  float64\n",
      " 12  primary_cleaner.input.feed_size                     19439 non-null  float64\n",
      " 13  primary_cleaner.input.xanthate                      19335 non-null  float64\n",
      " 14  primary_cleaner.output.concentrate_ag               19439 non-null  float64\n",
      " 15  primary_cleaner.output.concentrate_pb               19323 non-null  float64\n",
      " 16  primary_cleaner.output.concentrate_sol              19069 non-null  float64\n",
      " 17  primary_cleaner.output.concentrate_au               19439 non-null  float64\n",
      " 18  primary_cleaner.output.tail_ag                      19435 non-null  float64\n",
      " 19  primary_cleaner.output.tail_pb                      19418 non-null  float64\n",
      " 20  primary_cleaner.output.tail_sol                     19377 non-null  float64\n",
      " 21  primary_cleaner.output.tail_au                      19439 non-null  float64\n",
      " 22  primary_cleaner.state.floatbank8_a_air              19435 non-null  float64\n",
      " 23  primary_cleaner.state.floatbank8_a_level            19438 non-null  float64\n",
      " 24  primary_cleaner.state.floatbank8_b_air              19435 non-null  float64\n",
      " 25  primary_cleaner.state.floatbank8_b_level            19438 non-null  float64\n",
      " 26  primary_cleaner.state.floatbank8_c_air              19437 non-null  float64\n",
      " 27  primary_cleaner.state.floatbank8_c_level            19438 non-null  float64\n",
      " 28  primary_cleaner.state.floatbank8_d_air              19436 non-null  float64\n",
      " 29  primary_cleaner.state.floatbank8_d_level            19438 non-null  float64\n",
      " 30  rougher.calculation.sulfate_to_au_concentrate       19437 non-null  float64\n",
      " 31  rougher.calculation.floatbank10_sulfate_to_au_feed  19437 non-null  float64\n",
      " 32  rougher.calculation.floatbank11_sulfate_to_au_feed  19437 non-null  float64\n",
      " 33  rougher.calculation.au_pb_ratio                     19439 non-null  float64\n",
      " 34  rougher.input.feed_ag                               19439 non-null  float64\n",
      " 35  rougher.input.feed_pb                               19339 non-null  float64\n",
      " 36  rougher.input.feed_rate                             19428 non-null  float64\n",
      " 37  rougher.input.feed_size                             19294 non-null  float64\n",
      " 38  rougher.input.feed_sol                              19340 non-null  float64\n",
      " 39  rougher.input.feed_au                               19439 non-null  float64\n",
      " 40  rougher.input.floatbank10_sulfate                   19405 non-null  float64\n",
      " 41  rougher.input.floatbank10_xanthate                  19431 non-null  float64\n",
      " 42  rougher.input.floatbank11_sulfate                   19395 non-null  float64\n",
      " 43  rougher.input.floatbank11_xanthate                  18986 non-null  float64\n",
      " 44  rougher.output.concentrate_ag                       19439 non-null  float64\n",
      " 45  rougher.output.concentrate_pb                       19439 non-null  float64\n",
      " 46  rougher.output.concentrate_sol                      19416 non-null  float64\n",
      " 47  rougher.output.concentrate_au                       19439 non-null  float64\n",
      " 48  rougher.output.recovery                             19439 non-null  float64\n",
      " 49  rougher.output.tail_ag                              19438 non-null  float64\n",
      " 50  rougher.output.tail_pb                              19439 non-null  float64\n",
      " 51  rougher.output.tail_sol                             19439 non-null  float64\n",
      " 52  rougher.output.tail_au                              19439 non-null  float64\n",
      " 53  rougher.state.floatbank10_a_air                     19438 non-null  float64\n",
      " 54  rougher.state.floatbank10_a_level                   19438 non-null  float64\n",
      " 55  rougher.state.floatbank10_b_air                     19438 non-null  float64\n",
      " 56  rougher.state.floatbank10_b_level                   19438 non-null  float64\n",
      " 57  rougher.state.floatbank10_c_air                     19438 non-null  float64\n",
      " 58  rougher.state.floatbank10_c_level                   19438 non-null  float64\n",
      " 59  rougher.state.floatbank10_d_air                     19439 non-null  float64\n",
      " 60  rougher.state.floatbank10_d_level                   19439 non-null  float64\n",
      " 61  rougher.state.floatbank10_e_air                     19003 non-null  float64\n",
      " 62  rougher.state.floatbank10_e_level                   19439 non-null  float64\n",
      " 63  rougher.state.floatbank10_f_air                     19439 non-null  float64\n",
      " 64  rougher.state.floatbank10_f_level                   19439 non-null  float64\n",
      " 65  secondary_cleaner.output.tail_ag                    19437 non-null  float64\n",
      " 66  secondary_cleaner.output.tail_pb                    19427 non-null  float64\n",
      " 67  secondary_cleaner.output.tail_sol                   17691 non-null  float64\n",
      " 68  secondary_cleaner.output.tail_au                    19439 non-null  float64\n",
      " 69  secondary_cleaner.state.floatbank2_a_air            19219 non-null  float64\n",
      " 70  secondary_cleaner.state.floatbank2_a_level          19438 non-null  float64\n",
      " 71  secondary_cleaner.state.floatbank2_b_air            19416 non-null  float64\n",
      " 72  secondary_cleaner.state.floatbank2_b_level          19438 non-null  float64\n",
      " 73  secondary_cleaner.state.floatbank3_a_air            19426 non-null  float64\n",
      " 74  secondary_cleaner.state.floatbank3_a_level          19438 non-null  float64\n",
      " 75  secondary_cleaner.state.floatbank3_b_air            19438 non-null  float64\n",
      " 76  secondary_cleaner.state.floatbank3_b_level          19438 non-null  float64\n",
      " 77  secondary_cleaner.state.floatbank4_a_air            19433 non-null  float64\n",
      " 78  secondary_cleaner.state.floatbank4_a_level          19438 non-null  float64\n",
      " 79  secondary_cleaner.state.floatbank4_b_air            19438 non-null  float64\n",
      " 80  secondary_cleaner.state.floatbank4_b_level          19438 non-null  float64\n",
      " 81  secondary_cleaner.state.floatbank5_a_air            19438 non-null  float64\n",
      " 82  secondary_cleaner.state.floatbank5_a_level          19438 non-null  float64\n",
      " 83  secondary_cleaner.state.floatbank5_b_air            19438 non-null  float64\n",
      " 84  secondary_cleaner.state.floatbank5_b_level          19438 non-null  float64\n",
      " 85  secondary_cleaner.state.floatbank6_a_air            19437 non-null  float64\n",
      " 86  secondary_cleaner.state.floatbank6_a_level          19438 non-null  float64\n",
      "dtypes: float64(86), object(1)\n",
      "memory usage: 12.9+ MB\n"
     ]
    }
   ],
   "source": [
    "full_data.info()"
   ]
  },
  {
   "cell_type": "markdown",
   "metadata": {},
   "source": [
    "На первый взгляд неправильный тип данных в столбце 'date', надо исправить его на нужный формат"
   ]
  },
  {
   "cell_type": "code",
   "execution_count": 4,
   "metadata": {},
   "outputs": [],
   "source": [
    "train_data['date'] = pd.to_datetime(train_data['date'], format='%Y-%m-%d %H:%M:%S')\n",
    "test_data['date'] = pd.to_datetime(test_data['date'], format='%Y-%m-%d %H:%M:%S')\n",
    "full_data['date'] = pd.to_datetime(full_data['date'], format='%Y-%m-%d %H:%M:%S')"
   ]
  },
  {
   "cell_type": "code",
   "execution_count": 5,
   "metadata": {},
   "outputs": [
    {
     "name": "stdout",
     "output_type": "stream",
     "text": [
      "0\n",
      "date                                            0\n",
      "final.output.concentrate_ag                     1\n",
      "final.output.concentrate_pb                     1\n",
      "final.output.concentrate_sol                  211\n",
      "final.output.concentrate_au                     0\n",
      "                                             ... \n",
      "secondary_cleaner.state.floatbank5_a_level      1\n",
      "secondary_cleaner.state.floatbank5_b_air        1\n",
      "secondary_cleaner.state.floatbank5_b_level      1\n",
      "secondary_cleaner.state.floatbank6_a_air        2\n",
      "secondary_cleaner.state.floatbank6_a_level      1\n",
      "Length: 87, dtype: int64\n"
     ]
    }
   ],
   "source": [
    "print(full_data.duplicated().sum())\n",
    "print(full_data.isnull().sum())"
   ]
  },
  {
   "cell_type": "markdown",
   "metadata": {},
   "source": [
    "Заполним все Nan"
   ]
  },
  {
   "cell_type": "code",
   "execution_count": 6,
   "metadata": {},
   "outputs": [],
   "source": [
    "full_data = full_data.interpolate()\n",
    "train_data = train_data.interpolate()\n",
    "test_data = test_data.interpolate()"
   ]
  },
  {
   "cell_type": "markdown",
   "metadata": {},
   "source": [
    "### Проверка формулы расчёта эффективности обогащения\n",
    "\n",
    "$$\n",
    "\\mathbf{Recovery} = \\frac{Concentrate * (Feed - Tail)}{Feed * (Concentrate - Tail)} * 100\\%\n",
    "$$\n",
    "\n",
    "где:\n",
    "\n",
    "- Concentrate — доля золота в концентрате после флотации/очистки;\n",
    "- Feed — доля золота в концентрате до флотации/очистки;\n",
    "- Tail — доля золота в отвальных хвостах после флотации/очистки."
   ]
  },
  {
   "cell_type": "code",
   "execution_count": 7,
   "metadata": {},
   "outputs": [],
   "source": [
    "def recovery(row): #формула расчёта эффективности обогащения\n",
    "    conc = row['rougher.output.concentrate_au']\n",
    "    feed = row['rougher.input.feed_au']\n",
    "    tail = row['rougher.output.tail_au']\n",
    "\n",
    "    recovery = (conc * (feed - tail)) / (feed * (conc - tail)) * 100\n",
    "\n",
    "    return recovery"
   ]
  },
  {
   "cell_type": "code",
   "execution_count": 8,
   "metadata": {},
   "outputs": [
    {
     "name": "stdout",
     "output_type": "stream",
     "text": [
      "Средняя абсолютная ошибка (MAE): 9.73512347450521e-15\n"
     ]
    }
   ],
   "source": [
    "calculated = train_data.apply(recovery, axis=1).dropna()\n",
    "existing = train_data['rougher.output.recovery'].dropna()\n",
    "\n",
    "mae = mean_absolute_error(calculated, existing)\n",
    "\n",
    "print('Средняя абсолютная ошибка (MAE):', mae)"
   ]
  },
  {
   "cell_type": "markdown",
   "metadata": {},
   "source": [
    "MAE очень мало, значит различий между данными нет, т.е рассчеты корректны.\n",
    "\n",
    "### Признаки в тестовой и обучающей выборках\n",
    "\n",
    "В тестовой и обучающей выборках разное количество столбцов. Найдем столбцы, которых нет в тестовой выборке"
   ]
  },
  {
   "cell_type": "code",
   "execution_count": 9,
   "metadata": {},
   "outputs": [
    {
     "name": "stdout",
     "output_type": "stream",
     "text": [
      "Отсутствующие признаки: 34\n"
     ]
    },
    {
     "data": {
      "text/plain": [
       "{'final.output.concentrate_ag',\n",
       " 'final.output.concentrate_au',\n",
       " 'final.output.concentrate_pb',\n",
       " 'final.output.concentrate_sol',\n",
       " 'final.output.recovery',\n",
       " 'final.output.tail_ag',\n",
       " 'final.output.tail_au',\n",
       " 'final.output.tail_pb',\n",
       " 'final.output.tail_sol',\n",
       " 'primary_cleaner.output.concentrate_ag',\n",
       " 'primary_cleaner.output.concentrate_au',\n",
       " 'primary_cleaner.output.concentrate_pb',\n",
       " 'primary_cleaner.output.concentrate_sol',\n",
       " 'primary_cleaner.output.tail_ag',\n",
       " 'primary_cleaner.output.tail_au',\n",
       " 'primary_cleaner.output.tail_pb',\n",
       " 'primary_cleaner.output.tail_sol',\n",
       " 'rougher.calculation.au_pb_ratio',\n",
       " 'rougher.calculation.floatbank10_sulfate_to_au_feed',\n",
       " 'rougher.calculation.floatbank11_sulfate_to_au_feed',\n",
       " 'rougher.calculation.sulfate_to_au_concentrate',\n",
       " 'rougher.output.concentrate_ag',\n",
       " 'rougher.output.concentrate_au',\n",
       " 'rougher.output.concentrate_pb',\n",
       " 'rougher.output.concentrate_sol',\n",
       " 'rougher.output.recovery',\n",
       " 'rougher.output.tail_ag',\n",
       " 'rougher.output.tail_au',\n",
       " 'rougher.output.tail_pb',\n",
       " 'rougher.output.tail_sol',\n",
       " 'secondary_cleaner.output.tail_ag',\n",
       " 'secondary_cleaner.output.tail_au',\n",
       " 'secondary_cleaner.output.tail_pb',\n",
       " 'secondary_cleaner.output.tail_sol'}"
      ]
     },
     "metadata": {},
     "output_type": "display_data"
    }
   ],
   "source": [
    "missing_columns = set(train_data.columns) - set(test_data.columns)\n",
    "\n",
    "print(f'Отсутствующие признаки: {len(missing_columns)}')\n",
    "display(missing_columns)"
   ]
  },
  {
   "cell_type": "markdown",
   "metadata": {},
   "source": [
    "В тестовой выборке отсутствуют столбцы с маркировкой 'output' на разных этапах обработки и 'calculation' - расчетные признаки, которые сообщают измéренные и расчётные параметры продукта, получившегося в результате одной из четырех технологических стадий очистки. В тестовой выборке отсутствуют целевые признаки - rougher.output.recovery и final.output.recovery\n",
    "\n",
    "Также, скорее всего, что те признаки, которых в тестовой выборке нет, могут стать утечкой целевого признака при обучении модели, так как являются или расчетными или итоговыми. В поготовке мы добавил и удалим все нужные и ненужные столбцы"
   ]
  },
  {
   "cell_type": "markdown",
   "metadata": {},
   "source": [
    "## Анализ данных"
   ]
  },
  {
   "cell_type": "code",
   "execution_count": 10,
   "metadata": {},
   "outputs": [],
   "source": [
    "metall = ['au', 'ag', 'pb']\n",
    "stages_concentrate = ['rougher.input.feed_', 'rougher.output.concentrate_','primary_cleaner.output.concentrate_', \n",
    "                      'final.output.concentrate_',]\n",
    "stages_tail = ['rougher.input.feed_', 'rougher.output.tail_','primary_cleaner.output.tail_', 'final.output.tail_',]"
   ]
  },
  {
   "cell_type": "code",
   "execution_count": 11,
   "metadata": {},
   "outputs": [
    {
     "data": {
      "image/png": "[encoded data removed]",
      "text/plain": [
       "<Figure size 1440x432 with 3 Axes>"
      ]
     },
     "metadata": {
      "needs_background": "light"
     },
     "output_type": "display_data"
    },
    {
     "data": {
      "image/png": "[encoded data removed]",
      "text/plain": [
       "<Figure size 1440x432 with 3 Axes>"
      ]
     },
     "metadata": {
      "needs_background": "light"
     },
     "output_type": "display_data"
    }
   ],
   "source": [
    "fig, axs = plt.subplots(1, 3, figsize=(20, 6), constrained_layout=True)\n",
    "fig.suptitle('Концентрации металов по стадиям', fontsize=20)\n",
    "\n",
    "for metal, ax in zip(metall, axs): \n",
    "    current_stage_name = [stage+metal for stage in stages_concentrate]\n",
    "    sns.histplot(train_data[current_stage_name].dropna(), label=current_stage_name, \n",
    "                 ax=ax, kde=True, linewidth=1, palette='hls') \n",
    "\n",
    "\n",
    "    \n",
    "\n",
    "fig, axs = plt.subplots(1, 3, figsize=(20, 6), constrained_layout=True)\n",
    "fig.suptitle('Конентрации металов по стадиям в отвальных хвостах', fontsize=20)\n",
    "\n",
    "for metal, ax in zip(metall, axs): \n",
    "    current_stage_name = [stage+metal for stage in stages_tail]\n",
    "    sns.histplot(train_data[current_stage_name].dropna(), label=current_stage_name, \n",
    "                 ax=ax, kde=True, linewidth=1, palette='hls') \n",
    "\n",
    "\n",
    "plt.show()"
   ]
  },
  {
   "cell_type": "markdown",
   "metadata": {},
   "source": [
    "Концентрация серебра во время очистки падает, а вот концентрация золота и свинца возрастает\n",
    "\n",
    "Концентрация в отвальных хвостах расстёт, но медленнее\n",
    "\n",
    "Также в обеих стадиях наблюдаются аномальные значения равные нулю, от них в последующем нужно будет избавиться, возможно, данные отсутствуют из-за того что их не замеряли, либо они утраченны"
   ]
  },
  {
   "cell_type": "code",
   "execution_count": 12,
   "metadata": {},
   "outputs": [
    {
     "data": {
      "image/png": "[encoded data removed]",
      "text/plain": [
       "<Figure size 1080x360 with 2 Axes>"
      ]
     },
     "metadata": {
      "needs_background": "light"
     },
     "output_type": "display_data"
    }
   ],
   "source": [
    "size_column = ['primary_cleaner.input.feed_size', 'rougher.input.feed_size']\n",
    "fig, axs = plt.subplots(1, 2, figsize=(15, 5), constrained_layout=True)\n",
    "fig.suptitle('Сравнение распределения размеров гранул сырья на обучающей и тестовой выборках')\n",
    "\n",
    "for name,  ax in zip(size_column, axs):\n",
    "    sns.histplot(train_data[name],  color='r', ax=ax, kde=True, stat=\"density\", linewidth=0)\n",
    "    sns.histplot(test_data[name],  color='b', ax=ax, kde=True, stat=\"density\", linewidth=0)\n",
    "\n",
    "plt.show()"
   ]
  },
  {
   "cell_type": "markdown",
   "metadata": {},
   "source": [
    "Визулально данные практически совпадают, это значит что размер гранул на обучающей и тестовой выборке не меняется"
   ]
  },
  {
   "cell_type": "code",
   "execution_count": 13,
   "metadata": {},
   "outputs": [
    {
     "data": {
      "image/png": "[encoded data removed]",
      "text/plain": [
       "<Figure size 1440x432 with 4 Axes>"
      ]
     },
     "metadata": {
      "needs_background": "light"
     },
     "output_type": "display_data"
    }
   ],
   "source": [
    "fig, axs = plt.subplots(1, 4, figsize=(20, 6), constrained_layout=True)\n",
    "fig.suptitle('Суммарные коцентрации', fontsize=20)\n",
    "\n",
    "for stage, ax in zip(stages_concentrate, axs):\n",
    "    ax.set_title(stage+'full')\n",
    "    sum_train = train_data[stage+ 'ag'] + train_data[stage+ 'au'] + train_data[stage+ 'pb']\n",
    "\n",
    "    sns.histplot(sum_train.dropna(), ax=ax, kde=True, linewidth=1, color='g')\n",
    "\n",
    "plt.show()"
   ]
  },
  {
   "cell_type": "markdown",
   "metadata": {},
   "source": [
    "Концентрации металлов возрастают, заначит очистка эффективна\n",
    "\n",
    "В этих графиках также наблюдаются значения равные нулю, поэтому сейчас приступим к их зачистке"
   ]
  },
  {
   "cell_type": "code",
   "execution_count": 14,
   "metadata": {},
   "outputs": [
    {
     "name": "stdout",
     "output_type": "stream",
     "text": [
      "(591, 87)\n",
      "(424, 87)\n"
     ]
    }
   ],
   "source": [
    "error_data = [False]*full_data.shape[0]\n",
    "error_train = [False]*train_data.shape[0]\n",
    "for stage in stages_concentrate:\n",
    "    ax.set_title(stage)\n",
    "    names = [stage+metal for metal in metall]\n",
    "    \n",
    "    error_data = error_data | (full_data[names].sum(axis=1) == 0)\n",
    "    error_train = error_train | (train_data[names].sum(axis=1) == 0)\n",
    "\n",
    "print(full_data[error_data].shape)  \n",
    "print(train_data[error_train].shape) "
   ]
  },
  {
   "cell_type": "code",
   "execution_count": 15,
   "metadata": {},
   "outputs": [],
   "source": [
    "test_error = test_data.index.isin(full_data[error_data].index)\n",
    "\n",
    "test_data = test_data.drop(test_data[test_data.index.isin(full_data[error_data].index)].index)\n",
    "\n",
    "train_data = train_data.drop(train_data[error_train].index)\n",
    "\n",
    "full_data = full_data.drop(full_data[error_data].index)"
   ]
  },
  {
   "cell_type": "markdown",
   "metadata": {},
   "source": [
    "## Модель\n",
    "### Подготовка\n",
    "\n",
    "Создадим функцию для посчета sMAPE и итогового sMAPE и разделим данные на нужные выборки\n",
    "\n",
    "$$\n",
    "\\mathbf{sMAPE} = \n",
    "\\frac{1}{N}\n",
    "\\sum_{i=1}^N\n",
    "\\frac{|y_i - \\hat y_i|}{(|y_i| + |\\hat y_i|)\\ /\\ 2} * 100\\%\n",
    "$$\n",
    "\n",
    "\n",
    "$$\n",
    "\\mathbf{Итоговое\\ sMAPE} = 25\\%\\ \\mathbf{sMAPE}_{rougher} + 75\\%\\ \\mathbf{sMAPE}_{final}\n",
    "$$"
   ]
  },
  {
   "cell_type": "code",
   "execution_count": 16,
   "metadata": {},
   "outputs": [],
   "source": [
    "def smape (target, predict):\n",
    "    smape = (np.sum((abs(target - predict)) / ((abs(target) + abs(predict)) / 2))) * 100 / len(target)\n",
    "    return smape\n",
    "\n",
    "def final_smape (smape_rougher, smape_final):\n",
    "    return 0.25 * smape_rougher + 0.75 * smape_final\n",
    "\n",
    "smape_score = make_scorer(smape, greater_is_better=False)"
   ]
  },
  {
   "cell_type": "markdown",
   "metadata": {},
   "source": [
    "Поделим данные"
   ]
  },
  {
   "cell_type": "code",
   "execution_count": 17,
   "metadata": {},
   "outputs": [],
   "source": [
    "test_data = test_data.merge(full_data[['date', 'final.output.recovery', 'rougher.output.recovery']], on='date', how='left')\n",
    "missing_col = [col for col in train_data.columns if col not in test_data.columns]\n",
    "train_data = train_data.drop(missing_col, axis=1)\n",
    "\n",
    "rougher_columns = [i for i in train_data if 'rougher' in i and 'recovery' not in i]\n",
    "final_columns = [i for i in train_data if 'rougher' not in i]\n",
    "\n",
    "def ft_data(data):\n",
    "    features_rougher = data[rougher_columns]\n",
    "    \n",
    "    features_final = data[final_columns].drop(['date', 'final.output.recovery'], axis=1)\n",
    "    \n",
    "    target_rougher = data['rougher.output.recovery']\n",
    "    target_final = data['final.output.recovery']\n",
    "    \n",
    "    print('Размер датасета с признаками для предсказания \"rougher.output.recovery\"', features_rougher.shape)\n",
    "    print('Размер датасета с признаками для предсказания \"final.output.recovery\"', features_final.shape)\n",
    "    print('Размер датасета с целевым признаком \"rougher\"',  target_rougher.shape)\n",
    "    print('Размер датасета с целевым признаком \"final\"', target_final.shape)\n",
    "    print()\n",
    "    return features_rougher, features_final, target_rougher, target_final"
   ]
  },
  {
   "cell_type": "code",
   "execution_count": 18,
   "metadata": {},
   "outputs": [
    {
     "name": "stdout",
     "output_type": "stream",
     "text": [
      "Размер датасета с признаками для предсказания \"rougher.output.recovery\" (13725, 22)\n",
      "Размер датасета с признаками для предсказания \"final.output.recovery\" (13725, 30)\n",
      "Размер датасета с целевым признаком \"rougher\" (13725,)\n",
      "Размер датасета с целевым признаком \"final\" (13725,)\n",
      "\n",
      "Размер датасета с признаками для предсказания \"rougher.output.recovery\" (5157, 22)\n",
      "Размер датасета с признаками для предсказания \"final.output.recovery\" (5157, 30)\n",
      "Размер датасета с целевым признаком \"rougher\" (5157,)\n",
      "Размер датасета с целевым признаком \"final\" (5157,)\n",
      "\n"
     ]
    }
   ],
   "source": [
    "feautures_rougher_train, feautures_final_train, target_rougher_train, target_final_train = ft_data(train_data)\n",
    "feautures_rougher_test, feautures_final_test, target_rougher_test, target_final_test = ft_data(test_data)"
   ]
  },
  {
   "cell_type": "markdown",
   "metadata": {},
   "source": [
    "### StandarScaler\n",
    "\n",
    "Стандартизируем данные"
   ]
  },
  {
   "cell_type": "code",
   "execution_count": 19,
   "metadata": {},
   "outputs": [],
   "source": [
    "pd.options.mode.chained_assignment = None\n",
    "final_columns = feautures_final_train.columns\n",
    "\n",
    "# стандартизация для флотации\n",
    "scaler_rougher = StandardScaler()\n",
    "scaler_rougher.fit(feautures_rougher_train[rougher_columns])\n",
    "\n",
    "feautures_rougher_train[rougher_columns] = scaler_rougher.transform(feautures_rougher_train[rougher_columns])\n",
    "feautures_rougher_test[rougher_columns] = scaler_rougher.transform(feautures_rougher_test[rougher_columns])\n",
    "\n",
    "# стандартизация для финала\n",
    "scaler_final = StandardScaler()\n",
    "scaler_final.fit(feautures_final_train[final_columns])\n",
    "\n",
    "feautures_final_train[final_columns] = scaler_final.transform(feautures_final_train[final_columns])\n",
    "feautures_final_test[final_columns] = scaler_final.transform(feautures_final_test[final_columns])"
   ]
  },
  {
   "cell_type": "markdown",
   "metadata": {},
   "source": [
    "### Обучение моделей\n",
    "\n",
    "Будем обучать модели:\n",
    "    \n",
    "    - LinearRegression()\n",
    "    - DecisionTreeRegressor()\n",
    "    - RandomForestRegressor()"
   ]
  },
  {
   "cell_type": "code",
   "execution_count": null,
   "metadata": {},
   "outputs": [],
   "source": [
    "def cross_val(model, feautures, target):\n",
    "    \n",
    "    scores = cross_val_score(model, feautures, target, scoring=smape_score, cv=5, n_jobs=-1)\n",
    "    \n",
    "    return scores.mean()"
   ]
  },
  {
   "cell_type": "code",
   "execution_count": null,
   "metadata": {},
   "outputs": [],
   "source": [
    "models = [LinearRegression(), \n",
    "          DecisionTreeRegressor(random_state=12345), \n",
    "          RandomForestRegressor(random_state=12345)]\n",
    "\n",
    "scores_rougher, scores_final, final_score = [], [], []\n",
    "\n",
    "for i in models:\n",
    "    # smape флотации\n",
    "    scores_r = cross_val_score(i, feautures_rougher_train, target_rougher_train, \n",
    "                             scoring=smape_score, cv=5, n_jobs=-1)\n",
    "    \n",
    "    scores_rougher.append(scores_r.mean())\n",
    "    \n",
    "    # smape финала \n",
    "    scores_f = cross_val_score(i, feautures_final_train, target_final_train, \n",
    "                             scoring=smape_score, cv=5, n_jobs=-1)\n",
    "    \n",
    "    scores_final.append(scores_f.mean())"
   ]
  },
  {
   "cell_type": "code",
   "execution_count": null,
   "metadata": {},
   "outputs": [],
   "source": [
    "for i in range(len(scores_final)):\n",
    "    DummyRegressor\n",
    "    final_score.append(final_smape(scores_rougher[i], scores_final[i]))\n",
    "\n",
    "scores_sMape = pd.DataFrame({'scores_rougher': scores_rougher,\n",
    "                           'scores_final': scores_final,\n",
    "                            'final_smape': final_score},\n",
    "                           index=['LinearRegression', 'DecisionTreeRegressor', \n",
    "                                   'RandomForestRegressor'])\n",
    "scores_sMape"
   ]
  },
  {
   "cell_type": "markdown",
   "metadata": {},
   "source": [
    "Модель линейной регресси показала лучший sMAPE 8.9, а вот худшая модель дерево решений\n",
    "\n",
    "Попробуем улучшить модели, подобрав им гиперпараметры методом GridSearchCV"
   ]
  },
  {
   "cell_type": "code",
   "execution_count": null,
   "metadata": {},
   "outputs": [],
   "source": [
    "def best_hyper_model(model, parameters_m, feautures, target):\n",
    "    \n",
    "    # подбор лучших гиперпараметров модели с учетом метрики sMape\n",
    "    \n",
    "    grid_m = GridSearchCV(model, parameters_m, cv=5, n_jobs=-1, scoring=smape_score)\n",
    "    grid_m.fit(feautures, target)\n",
    "\n",
    "    best_params = grid_m.best_params_\n",
    "\n",
    "    print('Гиперпараметры лучшей модели', best_params)\n",
    "    \n",
    "    # обучение модели с лучшими гиперпараметрами и вывод на экран метрики sMape\n",
    "    # функция возвращает модель, гиперпараметры\n",
    "    \n",
    "    best_model = model\n",
    "    best_model.set_params(**best_params) # добавление лучших гиперпараметров\n",
    "\n",
    "    return best_model, best_params "
   ]
  },
  {
   "cell_type": "markdown",
   "metadata": {},
   "source": [
    "### Линейная регрессия"
   ]
  },
  {
   "cell_type": "code",
   "execution_count": 24,
   "metadata": {},
   "outputs": [],
   "source": [
    "parameters_logist ={'fit_intercept':[True, False], \n",
    "             'copy_X':[True, False], \n",
    "             'normalize': [True, False]}"
   ]
  },
  {
   "cell_type": "code",
   "execution_count": 25,
   "metadata": {},
   "outputs": [
    {
     "name": "stdout",
     "output_type": "stream",
     "text": [
      "Гиперпараметры лучшей модели {'copy_X': True, 'fit_intercept': True, 'normalize': True}\n",
      "Результат кросс-валидации метрики sMape для флотации модели линейной регрессии -6.482584101899313\n"
     ]
    }
   ],
   "source": [
    "model_logist, params_logist = best_hyper_model(LinearRegression(), parameters_logist, \n",
    "                                           feautures_rougher_train, target_rougher_train)\n",
    "\n",
    "smape_logist = cross_val(model_logist, feautures_rougher_train, target_rougher_train)\n",
    "print('Результат кросс-валидации метрики sMape для флотации модели линейной регрессии', smape_logist)"
   ]
  },
  {
   "cell_type": "code",
   "execution_count": 26,
   "metadata": {},
   "outputs": [
    {
     "name": "stdout",
     "output_type": "stream",
     "text": [
      "Гиперпараметры лучшей модели {'copy_X': True, 'fit_intercept': True, 'normalize': True}\n",
      "Результат кросс-валидации метрики sMape для финала модели линейной регрессии -9.733547790993573\n"
     ]
    }
   ],
   "source": [
    "model_logist_f, params_logist_f = best_hyper_model(\n",
    "    LinearRegression(), parameters_logist, feautures_final_train, target_final_train)\n",
    "\n",
    "smape_logist_f = cross_val(model_logist_f, feautures_final_train, target_final_train)\n",
    "print('Результат кросс-валидации метрики sMape для финала модели линейной регрессии', smape_logist_f)"
   ]
  },
  {
   "cell_type": "code",
   "execution_count": 27,
   "metadata": {},
   "outputs": [
    {
     "name": "stdout",
     "output_type": "stream",
     "text": [
      "Финальное sMape для линейной регрессии -8.920806868720007\n"
     ]
    }
   ],
   "source": [
    "smape_logist_fin = final_smape(smape_logist, smape_logist_f)\n",
    "print('Финальное sMape для линейной регрессии', smape_logist_fin)"
   ]
  },
  {
   "cell_type": "markdown",
   "metadata": {},
   "source": [
    "sMape не изменилось, значит лучше гиперпараметры для линейной регрессии должны быть по умолчанию"
   ]
  },
  {
   "cell_type": "markdown",
   "metadata": {},
   "source": [
    "### Дерево решений"
   ]
  },
  {
   "cell_type": "code",
   "execution_count": 28,
   "metadata": {},
   "outputs": [],
   "source": [
    "parameters_tree  = {'max_depth': range(1, 10), 'min_samples_split': range(2, 7)}"
   ]
  },
  {
   "cell_type": "code",
   "execution_count": 29,
   "metadata": {},
   "outputs": [
    {
     "name": "stdout",
     "output_type": "stream",
     "text": [
      "Гиперпараметры лучшей модели {'max_depth': 3, 'min_samples_split': 2}\n",
      "Результат кросс-валидации метрики sMape для флотации модели дерева решений -7.191747399716408\n"
     ]
    }
   ],
   "source": [
    "model_treeR, params_treeR = best_hyper_model(model=DecisionTreeRegressor(random_state=5), \n",
    "                                                          parameters_m=parameters_tree, \n",
    "                                                          feautures=feautures_rougher_train, \n",
    "                                                          target=target_rougher_train)\n",
    "smape_treeR = cross_val(model_treeR, feautures_rougher_train, target_rougher_train)\n",
    "print('Результат кросс-валидации метрики sMape для флотации модели дерева решений', smape_treeR)"
   ]
  },
  {
   "cell_type": "code",
   "execution_count": 30,
   "metadata": {},
   "outputs": [
    {
     "name": "stdout",
     "output_type": "stream",
     "text": [
      "Гиперпараметры лучшей модели {'max_depth': 1, 'min_samples_split': 2}\n",
      "Результат кросс-валидации метрики sMape для флотации модели дерева решений -10.107853361648278\n"
     ]
    }
   ],
   "source": [
    "model_treeF, params_treeF = best_hyper_model(model=DecisionTreeRegressor(random_state=5), \n",
    "                                                          parameters_m=parameters_tree, \n",
    "                                                          feautures=feautures_final_train, \n",
    "                                                          target=target_final_train)\n",
    "smape_treeF = cross_val(model_treeF, feautures_final_train, target_final_train)\n",
    "print('Результат кросс-валидации метрики sMape для флотации модели дерева решений', smape_treeF)"
   ]
  },
  {
   "cell_type": "code",
   "execution_count": 31,
   "metadata": {},
   "outputs": [
    {
     "name": "stdout",
     "output_type": "stream",
     "text": [
      "Финальное sMape для линейной регрессии -9.37882687116531\n"
     ]
    }
   ],
   "source": [
    "smape_tree_fin = final_smape(smape_treeR, smape_treeF)\n",
    "print('Финальное sMape для линейной регрессии', smape_tree_fin)"
   ]
  },
  {
   "cell_type": "markdown",
   "metadata": {},
   "source": [
    "Подбор гиперпараметров для дерева решений значительно улучшил метрику sMape:  \n",
    "- для этапа флотации c 8.9 до 7.1     \n",
    "- финального этапа с 19.9 до 10.1   \n",
    "- финальное smape 17.1 до 9.3"
   ]
  },
  {
   "cell_type": "markdown",
   "metadata": {},
   "source": [
    "### Случайный лес"
   ]
  },
  {
   "cell_type": "code",
   "execution_count": 32,
   "metadata": {},
   "outputs": [],
   "source": [
    "parameters_forest  = {'max_depth': range(1, 10)}"
   ]
  },
  {
   "cell_type": "code",
   "execution_count": 33,
   "metadata": {},
   "outputs": [
    {
     "name": "stdout",
     "output_type": "stream",
     "text": [
      "Гиперпараметры лучшей модели {'max_depth': 4}\n",
      "Результат кросс-валидации метрики sMape для флотации модели случайного леса -6.67442474696122\n"
     ]
    }
   ],
   "source": [
    "model_forestR, params_forestR = best_hyper_model(model=RandomForestRegressor(random_state=5, n_jobs=-1), \n",
    "                                                          parameters_m=parameters_forest, \n",
    "                                                          feautures=feautures_rougher_train, \n",
    "                                                          target=target_rougher_train)\n",
    "\n",
    "smape_forestR = cross_val(model_forestR, feautures_rougher_train, target_rougher_train)\n",
    "print('Результат кросс-валидации метрики sMape для флотации модели случайного леса', smape_forestR) "
   ]
  },
  {
   "cell_type": "code",
   "execution_count": 34,
   "metadata": {},
   "outputs": [
    {
     "name": "stdout",
     "output_type": "stream",
     "text": [
      "Гиперпараметры лучшей модели {'max_depth': 1}\n",
      "Результат кросс-валидации метрики sMape для финального этапа модели случайного леса -9.964412308627555\n"
     ]
    }
   ],
   "source": [
    "model_forestF, params_forestF = best_hyper_model(model=RandomForestRegressor(random_state=5, n_jobs=-1), \n",
    "                                                          parameters_m=parameters_forest, \n",
    "                                                          feautures=feautures_final_train, \n",
    "                                                          target=target_final_train)\n",
    "\n",
    "smape_forestF = cross_val(model_forestF, feautures_final_train, target_final_train)\n",
    "print('Результат кросс-валидации метрики sMape для финального этапа модели случайного леса', smape_forestF)"
   ]
  },
  {
   "cell_type": "code",
   "execution_count": 35,
   "metadata": {},
   "outputs": [
    {
     "name": "stdout",
     "output_type": "stream",
     "text": [
      "Финальное sMape модели случайного леса -9.14191541821097\n"
     ]
    }
   ],
   "source": [
    "smape_forest_fin = final_smape(smape_forestR, smape_forestF)\n",
    "print('Финальное sMape модели случайного леса', smape_forest_fin)"
   ]
  },
  {
   "cell_type": "markdown",
   "metadata": {},
   "source": [
    "Подбор гиперпараметров для дерева решений значительно улучшил метрику sMape:  \n",
    "- для этапа флотации c 6.8 до 6.6     \n",
    "- финального этапа с 12.5 до 9.9     \n",
    "- финальное smape 11.1 до 9.1 \n",
    "\n",
    "Лучше всех оказалась модель линейно регрессии с гиперпараметрыми по умолчанию"
   ]
  },
  {
   "cell_type": "markdown",
   "metadata": {},
   "source": [
    "### Проверка лучшей модели"
   ]
  },
  {
   "cell_type": "code",
   "execution_count": 40,
   "metadata": {},
   "outputs": [
    {
     "name": "stdout",
     "output_type": "stream",
     "text": [
      "Финальное sMape при тестировании модели линейной регрессии 7.054372779670948\n"
     ]
    }
   ],
   "source": [
    "model_r = LinearRegression()\n",
    "model_r.fit(feautures_rougher_train, target_rougher_train)\n",
    "\n",
    "rougher_predict = model_r.predict(feautures_rougher_test)\n",
    "rougher_spame = smape(target_rougher_test, rougher_predict)\n",
    "\n",
    "model_f = LinearRegression()\n",
    "model_f.fit(feautures_final_train, target_final_train)\n",
    "\n",
    "final_predict = model_f.predict(feautures_final_test)\n",
    "spame_final = smape(target_final_test, final_predict)\n",
    "\n",
    "smape_test_reg = final_smape(rougher_spame, spame_final)\n",
    "print('Финальное sMape при тестировании модели линейной регрессии', smape_test_reg)"
   ]
  },
  {
   "cell_type": "markdown",
   "metadata": {},
   "source": [
    "Финальный результат sMape лучшей модели равен 7"
   ]
  },
  {
   "cell_type": "markdown",
   "metadata": {},
   "source": [
    "### Проверка на адекватность"
   ]
  },
  {
   "cell_type": "code",
   "execution_count": 41,
   "metadata": {},
   "outputs": [
    {
     "name": "stdout",
     "output_type": "stream",
     "text": [
      "Финальное sMape Дамми на тестовой выборке 7.540167912741557\n"
     ]
    }
   ],
   "source": [
    "dummy_regr = DummyRegressor(strategy=\"mean\")\n",
    "dummy_regr.fit(feautures_rougher_train, target_rougher_train)\n",
    "\n",
    "r_predict = dummy_regr.predict(feautures_rougher_test)\n",
    "r_spame = smape(target_rougher_test, r_predict)\n",
    "\n",
    "dummy_regf = DummyRegressor(strategy=\"mean\")\n",
    "dummy_regf.fit(feautures_final_train, target_final_train)\n",
    "\n",
    "f_predict = dummy_regf.predict(feautures_final_test)\n",
    "spame_f = smape(target_final_test, f_predict)\n",
    "\n",
    "smape_dummy_test = final_smape(r_spame, spame_f)\n",
    "print('Финальное sMape Дамми на тестовой выборке', smape_dummy_test)"
   ]
  },
  {
   "cell_type": "markdown",
   "metadata": {},
   "source": [
    "Финальная модель оказалась лучше дамми-модели на 0.5"
   ]
  },
  {
   "cell_type": "markdown",
   "metadata": {},
   "source": [
    "## Вывод\n",
    "\n",
    "- Подготовили данные, изменив в столбац данные и заполнив пропуски   \n",
    "- Проверили формулу расчёта эффективности обогащения, MAE очень мало, значит различий между данными нет, т.е рассчеты корректны. \n",
    "- В тестовой выборке отсутствуют столбцы с маркировкой 'output' на разных этапах обработки и 'calculation' - расчетные признаки, которые сообщают измéренные и расчётные параметры продукта, получившегося в результате одной из четырех технологических стадий очистки. В тестовой выборке отсутствуют целевые признаки - rougher.output.recovery и final.output.recovery\n",
    "- Также, скорее всего, что те признаки, которых в тестовой выборке нет, могут стать утечкой целевого признака при обучении модели, так как являются или расчетными или итоговыми. В поготовке мы добавил и удалим все нужные и ненужные столбцы\n",
    "- Проанализировали данные, убрали аномальные значения\n",
    "- Узнали, что концентрация серебра во время очистки падает, а вот концентрация золота и свинца возрастает\n",
    "- Концентрация в отвальных хвостах расстёт, но медленнее\n",
    "- Распределения размеров гранул сырья на обучающей и тестовой выборках совпадает\n",
    "- Концентрации металлов возрастают, заначит очистка эффективна\n",
    "- Подготовли функцию для посчета sMAPE и итогового sMAPE, разделили данные на нужные выборки и стандартизировали\n",
    "- Обучили модели и подобрали гиперпараметры, лучшей моделью по sMAPE оказалась линейная регрессия\n",
    "- Финальный результат sMape на линейной регрессии = 7, модель оказалась адекватной"
   ]
  }
 ],
 "metadata": {
  "ExecuteTimeLog": [
   {
    "duration": 1785,
    "start_time": "2023-02-27T18:09:45.175Z"
   },
   {
    "duration": 2478,
    "start_time": "2023-02-27T18:10:33.014Z"
   },
   {
    "duration": 15,
    "start_time": "2023-02-27T18:17:08.339Z"
   },
   {
    "duration": 51,
    "start_time": "2023-02-27T18:17:46.165Z"
   },
   {
    "duration": 3008,
    "start_time": "2023-02-27T18:17:59.898Z"
   },
   {
    "duration": 1395,
    "start_time": "2023-02-27T18:48:36.560Z"
   },
   {
    "duration": 670,
    "start_time": "2023-02-27T18:48:37.956Z"
   },
   {
    "duration": 19,
    "start_time": "2023-02-27T18:48:38.628Z"
   },
   {
    "duration": 110,
    "start_time": "2023-02-27T18:48:38.649Z"
   },
   {
    "duration": 4,
    "start_time": "2023-02-27T18:48:38.761Z"
   },
   {
    "duration": 247,
    "start_time": "2023-02-27T18:48:38.767Z"
   },
   {
    "duration": 270,
    "start_time": "2023-02-27T18:49:50.806Z"
   },
   {
    "duration": 84,
    "start_time": "2023-02-27T18:49:52.966Z"
   },
   {
    "duration": 265,
    "start_time": "2023-02-27T18:49:53.282Z"
   },
   {
    "duration": 3,
    "start_time": "2023-02-27T18:50:02.427Z"
   },
   {
    "duration": 259,
    "start_time": "2023-02-27T18:50:03.130Z"
   },
   {
    "duration": 241,
    "start_time": "2023-02-27T18:50:20.835Z"
   },
   {
    "duration": 244,
    "start_time": "2023-02-27T18:50:25.605Z"
   },
   {
    "duration": 336,
    "start_time": "2023-02-27T18:50:37.622Z"
   },
   {
    "duration": 236,
    "start_time": "2023-02-27T18:50:40.509Z"
   },
   {
    "duration": 239,
    "start_time": "2023-02-27T18:50:58.366Z"
   },
   {
    "duration": 226,
    "start_time": "2023-02-27T18:51:10.767Z"
   },
   {
    "duration": 431,
    "start_time": "2023-02-27T18:51:56.475Z"
   },
   {
    "duration": 177,
    "start_time": "2023-02-27T18:52:09.782Z"
   },
   {
    "duration": 248,
    "start_time": "2023-02-27T18:54:26.478Z"
   },
   {
    "duration": 242,
    "start_time": "2023-02-27T18:55:19.175Z"
   },
   {
    "duration": 243,
    "start_time": "2023-02-27T18:56:23.788Z"
   },
   {
    "duration": 5,
    "start_time": "2023-02-27T19:06:40.435Z"
   },
   {
    "duration": 1611,
    "start_time": "2023-02-27T19:31:22.275Z"
   },
   {
    "duration": 804,
    "start_time": "2023-02-27T19:31:23.888Z"
   },
   {
    "duration": 26,
    "start_time": "2023-02-27T19:31:24.694Z"
   },
   {
    "duration": 148,
    "start_time": "2023-02-27T19:31:24.722Z"
   },
   {
    "duration": 4,
    "start_time": "2023-02-27T19:31:24.872Z"
   },
   {
    "duration": 300,
    "start_time": "2023-02-27T19:31:24.878Z"
   },
   {
    "duration": 13,
    "start_time": "2023-02-27T19:31:25.180Z"
   },
   {
    "duration": 133,
    "start_time": "2023-02-27T19:31:25.206Z"
   },
   {
    "duration": 0,
    "start_time": "2023-02-27T19:31:25.341Z"
   },
   {
    "duration": 18,
    "start_time": "2023-02-27T19:32:03.881Z"
   },
   {
    "duration": 8,
    "start_time": "2023-02-27T19:32:05.177Z"
   },
   {
    "duration": 6,
    "start_time": "2023-02-27T19:32:47.279Z"
   },
   {
    "duration": 7,
    "start_time": "2023-02-27T19:36:34.112Z"
   },
   {
    "duration": 9,
    "start_time": "2023-02-27T19:36:35.586Z"
   },
   {
    "duration": 61,
    "start_time": "2023-02-27T19:36:54.227Z"
   },
   {
    "duration": 4,
    "start_time": "2023-02-27T19:41:55.793Z"
   },
   {
    "duration": 921,
    "start_time": "2023-02-27T19:41:57.685Z"
   },
   {
    "duration": 926,
    "start_time": "2023-02-27T19:42:16.082Z"
   },
   {
    "duration": 722,
    "start_time": "2023-02-27T19:42:34.951Z"
   },
   {
    "duration": 695,
    "start_time": "2023-02-27T19:43:08.884Z"
   },
   {
    "duration": 1889,
    "start_time": "2023-02-27T19:43:47.591Z"
   },
   {
    "duration": 1143,
    "start_time": "2023-02-27T19:43:49.482Z"
   },
   {
    "duration": 25,
    "start_time": "2023-02-27T19:43:50.628Z"
   },
   {
    "duration": 131,
    "start_time": "2023-02-27T19:43:50.655Z"
   },
   {
    "duration": 5,
    "start_time": "2023-02-27T19:43:50.791Z"
   },
   {
    "duration": 383,
    "start_time": "2023-02-27T19:43:50.798Z"
   },
   {
    "duration": 12,
    "start_time": "2023-02-27T19:43:51.183Z"
   },
   {
    "duration": 62,
    "start_time": "2023-02-27T19:43:51.197Z"
   },
   {
    "duration": 31,
    "start_time": "2023-02-27T19:43:51.262Z"
   },
   {
    "duration": 51,
    "start_time": "2023-02-27T19:43:51.295Z"
   },
   {
    "duration": 1102,
    "start_time": "2023-02-27T19:43:51.349Z"
   },
   {
    "duration": 778,
    "start_time": "2023-02-27T19:46:06.781Z"
   },
   {
    "duration": 811,
    "start_time": "2023-02-27T19:49:44.810Z"
   },
   {
    "duration": 2199,
    "start_time": "2023-02-27T19:50:33.786Z"
   },
   {
    "duration": 1033,
    "start_time": "2023-02-27T19:50:35.988Z"
   },
   {
    "duration": 35,
    "start_time": "2023-02-27T19:50:37.024Z"
   },
   {
    "duration": 165,
    "start_time": "2023-02-27T19:50:37.061Z"
   },
   {
    "duration": 4,
    "start_time": "2023-02-27T19:50:37.228Z"
   },
   {
    "duration": 359,
    "start_time": "2023-02-27T19:50:37.235Z"
   },
   {
    "duration": 7,
    "start_time": "2023-02-27T19:50:37.596Z"
   },
   {
    "duration": 24,
    "start_time": "2023-02-27T19:50:37.605Z"
   },
   {
    "duration": 7,
    "start_time": "2023-02-27T19:50:37.632Z"
   },
   {
    "duration": 26,
    "start_time": "2023-02-27T19:50:37.641Z"
   },
   {
    "duration": 1022,
    "start_time": "2023-02-27T19:50:37.677Z"
   },
   {
    "duration": 628,
    "start_time": "2023-02-27T19:52:05.323Z"
   },
   {
    "duration": 3391,
    "start_time": "2023-02-27T19:52:14.983Z"
   },
   {
    "duration": 2938,
    "start_time": "2023-02-27T19:53:14.656Z"
   },
   {
    "duration": 2772,
    "start_time": "2023-02-27T19:53:28.120Z"
   },
   {
    "duration": 2925,
    "start_time": "2023-02-27T19:53:37.220Z"
   },
   {
    "duration": 637,
    "start_time": "2023-02-27T19:53:52.281Z"
   },
   {
    "duration": 698,
    "start_time": "2023-02-27T19:54:13.682Z"
   },
   {
    "duration": 673,
    "start_time": "2023-02-27T19:54:20.783Z"
   },
   {
    "duration": 923,
    "start_time": "2023-02-27T19:54:38.398Z"
   },
   {
    "duration": 982,
    "start_time": "2023-02-27T19:57:26.062Z"
   },
   {
    "duration": 877,
    "start_time": "2023-02-27T19:57:32.676Z"
   },
   {
    "duration": 3254,
    "start_time": "2023-02-27T19:57:45.681Z"
   },
   {
    "duration": 1562,
    "start_time": "2023-02-27T19:59:19.026Z"
   },
   {
    "duration": 847,
    "start_time": "2023-02-27T19:59:20.590Z"
   },
   {
    "duration": 23,
    "start_time": "2023-02-27T19:59:21.439Z"
   },
   {
    "duration": 129,
    "start_time": "2023-02-27T19:59:21.465Z"
   },
   {
    "duration": 5,
    "start_time": "2023-02-27T19:59:21.595Z"
   },
   {
    "duration": 274,
    "start_time": "2023-02-27T19:59:21.604Z"
   },
   {
    "duration": 11,
    "start_time": "2023-02-27T19:59:21.880Z"
   },
   {
    "duration": 32,
    "start_time": "2023-02-27T19:59:21.894Z"
   },
   {
    "duration": 23,
    "start_time": "2023-02-27T19:59:21.928Z"
   },
   {
    "duration": 768,
    "start_time": "2023-02-27T19:59:21.953Z"
   },
   {
    "duration": 0,
    "start_time": "2023-02-27T19:59:22.724Z"
   },
   {
    "duration": 0,
    "start_time": "2023-02-27T19:59:22.725Z"
   },
   {
    "duration": 2556,
    "start_time": "2023-02-27T19:59:37.222Z"
   },
   {
    "duration": 2865,
    "start_time": "2023-02-27T19:59:39.780Z"
   },
   {
    "duration": 2248,
    "start_time": "2023-02-27T20:00:57.497Z"
   },
   {
    "duration": 707,
    "start_time": "2023-02-27T20:01:08.999Z"
   },
   {
    "duration": 0,
    "start_time": "2023-02-27T20:01:09.708Z"
   },
   {
    "duration": 0,
    "start_time": "2023-02-27T20:01:09.712Z"
   },
   {
    "duration": 2819,
    "start_time": "2023-02-27T20:01:17.386Z"
   },
   {
    "duration": 2590,
    "start_time": "2023-02-27T20:01:20.207Z"
   },
   {
    "duration": 55,
    "start_time": "2023-02-28T06:07:35.105Z"
   },
   {
    "duration": 1562,
    "start_time": "2023-02-28T06:07:41.026Z"
   },
   {
    "duration": 3039,
    "start_time": "2023-02-28T06:07:42.590Z"
   },
   {
    "duration": 19,
    "start_time": "2023-02-28T06:07:45.631Z"
   },
   {
    "duration": 90,
    "start_time": "2023-02-28T06:07:45.651Z"
   },
   {
    "duration": 3,
    "start_time": "2023-02-28T06:07:45.744Z"
   },
   {
    "duration": 244,
    "start_time": "2023-02-28T06:07:45.748Z"
   },
   {
    "duration": 5,
    "start_time": "2023-02-28T06:07:45.993Z"
   },
   {
    "duration": 13,
    "start_time": "2023-02-28T06:07:46.004Z"
   },
   {
    "duration": 6,
    "start_time": "2023-02-28T06:07:46.018Z"
   },
   {
    "duration": 12,
    "start_time": "2023-02-28T06:07:46.025Z"
   },
   {
    "duration": 786,
    "start_time": "2023-02-28T06:07:46.038Z"
   },
   {
    "duration": 0,
    "start_time": "2023-02-28T06:07:46.826Z"
   },
   {
    "duration": 0,
    "start_time": "2023-02-28T06:07:46.827Z"
   },
   {
    "duration": 2364,
    "start_time": "2023-02-28T06:07:59.177Z"
   },
   {
    "duration": 1526,
    "start_time": "2023-02-28T06:08:23.585Z"
   },
   {
    "duration": 703,
    "start_time": "2023-02-28T06:08:25.114Z"
   },
   {
    "duration": 20,
    "start_time": "2023-02-28T06:08:25.819Z"
   },
   {
    "duration": 113,
    "start_time": "2023-02-28T06:08:25.842Z"
   },
   {
    "duration": 3,
    "start_time": "2023-02-28T06:08:25.957Z"
   },
   {
    "duration": 299,
    "start_time": "2023-02-28T06:08:25.962Z"
   },
   {
    "duration": 6,
    "start_time": "2023-02-28T06:08:26.263Z"
   },
   {
    "duration": 36,
    "start_time": "2023-02-28T06:08:26.271Z"
   },
   {
    "duration": 7,
    "start_time": "2023-02-28T06:08:26.309Z"
   },
   {
    "duration": 7,
    "start_time": "2023-02-28T06:08:26.320Z"
   },
   {
    "duration": 826,
    "start_time": "2023-02-28T06:08:26.329Z"
   },
   {
    "duration": 0,
    "start_time": "2023-02-28T06:08:27.157Z"
   },
   {
    "duration": 0,
    "start_time": "2023-02-28T06:08:27.158Z"
   },
   {
    "duration": 1994,
    "start_time": "2023-02-28T06:13:15.462Z"
   },
   {
    "duration": 2471,
    "start_time": "2023-02-28T06:13:23.270Z"
   },
   {
    "duration": 2476,
    "start_time": "2023-02-28T06:16:35.951Z"
   },
   {
    "duration": 2333,
    "start_time": "2023-02-28T06:16:47.622Z"
   },
   {
    "duration": 2431,
    "start_time": "2023-02-28T06:17:50.051Z"
   },
   {
    "duration": 1451,
    "start_time": "2023-02-28T06:25:24.624Z"
   },
   {
    "duration": 749,
    "start_time": "2023-02-28T06:25:26.077Z"
   },
   {
    "duration": 27,
    "start_time": "2023-02-28T06:25:26.828Z"
   },
   {
    "duration": 145,
    "start_time": "2023-02-28T06:25:26.857Z"
   },
   {
    "duration": 4,
    "start_time": "2023-02-28T06:25:27.005Z"
   },
   {
    "duration": 277,
    "start_time": "2023-02-28T06:25:27.011Z"
   },
   {
    "duration": 6,
    "start_time": "2023-02-28T06:25:27.289Z"
   },
   {
    "duration": 13,
    "start_time": "2023-02-28T06:25:27.304Z"
   },
   {
    "duration": 8,
    "start_time": "2023-02-28T06:25:27.319Z"
   },
   {
    "duration": 8,
    "start_time": "2023-02-28T06:25:27.329Z"
   },
   {
    "duration": 760,
    "start_time": "2023-02-28T06:25:27.338Z"
   },
   {
    "duration": 0,
    "start_time": "2023-02-28T06:25:28.104Z"
   },
   {
    "duration": 2451,
    "start_time": "2023-02-28T06:25:35.995Z"
   },
   {
    "duration": 1367,
    "start_time": "2023-02-28T06:27:54.604Z"
   },
   {
    "duration": 683,
    "start_time": "2023-02-28T06:27:55.973Z"
   },
   {
    "duration": 24,
    "start_time": "2023-02-28T06:27:56.658Z"
   },
   {
    "duration": 131,
    "start_time": "2023-02-28T06:27:56.683Z"
   },
   {
    "duration": 4,
    "start_time": "2023-02-28T06:27:56.816Z"
   },
   {
    "duration": 246,
    "start_time": "2023-02-28T06:27:56.821Z"
   },
   {
    "duration": 5,
    "start_time": "2023-02-28T06:27:57.069Z"
   },
   {
    "duration": 10,
    "start_time": "2023-02-28T06:27:57.075Z"
   },
   {
    "duration": 8,
    "start_time": "2023-02-28T06:27:57.086Z"
   },
   {
    "duration": 3,
    "start_time": "2023-02-28T06:27:57.104Z"
   },
   {
    "duration": 12348,
    "start_time": "2023-02-28T06:27:57.109Z"
   },
   {
    "duration": 2489,
    "start_time": "2023-02-28T06:28:09.459Z"
   },
   {
    "duration": 130,
    "start_time": "2023-02-28T06:34:35.755Z"
   },
   {
    "duration": 1457,
    "start_time": "2023-02-28T06:34:54.192Z"
   },
   {
    "duration": 1369,
    "start_time": "2023-02-28T06:38:58.124Z"
   },
   {
    "duration": 644,
    "start_time": "2023-02-28T06:38:59.495Z"
   },
   {
    "duration": 21,
    "start_time": "2023-02-28T06:39:00.140Z"
   },
   {
    "duration": 117,
    "start_time": "2023-02-28T06:39:00.163Z"
   },
   {
    "duration": 3,
    "start_time": "2023-02-28T06:39:00.283Z"
   },
   {
    "duration": 272,
    "start_time": "2023-02-28T06:39:00.288Z"
   },
   {
    "duration": 5,
    "start_time": "2023-02-28T06:39:00.562Z"
   },
   {
    "duration": 1488,
    "start_time": "2023-02-28T06:39:00.568Z"
   },
   {
    "duration": 3,
    "start_time": "2023-02-28T06:39:02.058Z"
   },
   {
    "duration": 12073,
    "start_time": "2023-02-28T06:39:02.063Z"
   },
   {
    "duration": 2657,
    "start_time": "2023-02-28T06:39:14.138Z"
   },
   {
    "duration": 12441,
    "start_time": "2023-02-28T06:49:18.927Z"
   },
   {
    "duration": 12397,
    "start_time": "2023-02-28T06:51:15.388Z"
   },
   {
    "duration": 12370,
    "start_time": "2023-02-28T06:51:38.987Z"
   },
   {
    "duration": 12451,
    "start_time": "2023-02-28T06:54:06.658Z"
   },
   {
    "duration": 720,
    "start_time": "2023-02-28T06:55:23.057Z"
   },
   {
    "duration": 576,
    "start_time": "2023-02-28T06:55:59.496Z"
   },
   {
    "duration": 617,
    "start_time": "2023-02-28T06:56:16.105Z"
   },
   {
    "duration": 12565,
    "start_time": "2023-02-28T06:56:22.499Z"
   },
   {
    "duration": 12666,
    "start_time": "2023-02-28T06:57:32.776Z"
   },
   {
    "duration": 1384,
    "start_time": "2023-02-28T06:58:32.034Z"
   },
   {
    "duration": 662,
    "start_time": "2023-02-28T06:58:33.421Z"
   },
   {
    "duration": 24,
    "start_time": "2023-02-28T06:58:34.085Z"
   },
   {
    "duration": 104,
    "start_time": "2023-02-28T06:58:34.111Z"
   },
   {
    "duration": 4,
    "start_time": "2023-02-28T06:58:34.216Z"
   },
   {
    "duration": 257,
    "start_time": "2023-02-28T06:58:34.221Z"
   },
   {
    "duration": 6,
    "start_time": "2023-02-28T06:58:34.480Z"
   },
   {
    "duration": 1538,
    "start_time": "2023-02-28T06:58:34.487Z"
   },
   {
    "duration": 3,
    "start_time": "2023-02-28T06:58:36.027Z"
   },
   {
    "duration": 12146,
    "start_time": "2023-02-28T06:58:36.031Z"
   },
   {
    "duration": 2442,
    "start_time": "2023-02-28T06:58:48.179Z"
   },
   {
    "duration": 1471,
    "start_time": "2023-02-28T07:00:18.955Z"
   },
   {
    "duration": 10054,
    "start_time": "2023-02-28T07:04:30.767Z"
   },
   {
    "duration": 12722,
    "start_time": "2023-02-28T07:08:06.407Z"
   },
   {
    "duration": 3577,
    "start_time": "2023-02-28T07:15:41.688Z"
   },
   {
    "duration": 3490,
    "start_time": "2023-02-28T07:16:03.777Z"
   },
   {
    "duration": 3798,
    "start_time": "2023-02-28T07:16:44.007Z"
   },
   {
    "duration": 3260,
    "start_time": "2023-02-28T07:17:05.070Z"
   },
   {
    "duration": 3353,
    "start_time": "2023-02-28T07:18:22.995Z"
   },
   {
    "duration": 112,
    "start_time": "2023-02-28T07:25:24.526Z"
   },
   {
    "duration": 1368,
    "start_time": "2023-02-28T07:27:03.919Z"
   },
   {
    "duration": 681,
    "start_time": "2023-02-28T07:27:05.289Z"
   },
   {
    "duration": 19,
    "start_time": "2023-02-28T07:27:05.972Z"
   },
   {
    "duration": 98,
    "start_time": "2023-02-28T07:27:05.993Z"
   },
   {
    "duration": 11,
    "start_time": "2023-02-28T07:27:06.093Z"
   },
   {
    "duration": 244,
    "start_time": "2023-02-28T07:27:06.106Z"
   },
   {
    "duration": 5,
    "start_time": "2023-02-28T07:27:06.353Z"
   },
   {
    "duration": 1500,
    "start_time": "2023-02-28T07:27:06.360Z"
   },
   {
    "duration": 3,
    "start_time": "2023-02-28T07:27:07.862Z"
   },
   {
    "duration": 12186,
    "start_time": "2023-02-28T07:27:07.867Z"
   },
   {
    "duration": 2468,
    "start_time": "2023-02-28T07:27:20.055Z"
   },
   {
    "duration": 3054,
    "start_time": "2023-02-28T07:27:22.525Z"
   },
   {
    "duration": 126,
    "start_time": "2023-02-28T07:27:25.581Z"
   },
   {
    "duration": 1474,
    "start_time": "2023-02-28T07:32:00.946Z"
   },
   {
    "duration": 669,
    "start_time": "2023-02-28T07:32:02.422Z"
   },
   {
    "duration": 27,
    "start_time": "2023-02-28T07:32:03.093Z"
   },
   {
    "duration": 9,
    "start_time": "2023-02-28T07:32:03.122Z"
   },
   {
    "duration": 111,
    "start_time": "2023-02-28T07:32:03.133Z"
   },
   {
    "duration": 4,
    "start_time": "2023-02-28T07:32:03.245Z"
   },
   {
    "duration": 265,
    "start_time": "2023-02-28T07:32:03.250Z"
   },
   {
    "duration": 5,
    "start_time": "2023-02-28T07:32:03.516Z"
   },
   {
    "duration": 1485,
    "start_time": "2023-02-28T07:32:03.523Z"
   },
   {
    "duration": 3,
    "start_time": "2023-02-28T07:32:05.009Z"
   },
   {
    "duration": 12498,
    "start_time": "2023-02-28T07:32:05.014Z"
   },
   {
    "duration": 2504,
    "start_time": "2023-02-28T07:32:17.514Z"
   },
   {
    "duration": 3142,
    "start_time": "2023-02-28T07:32:20.019Z"
   },
   {
    "duration": 11,
    "start_time": "2023-02-28T07:35:17.499Z"
   },
   {
    "duration": 122,
    "start_time": "2023-02-28T07:39:49.078Z"
   },
   {
    "duration": 10,
    "start_time": "2023-02-28T07:39:49.401Z"
   },
   {
    "duration": 16,
    "start_time": "2023-02-28T07:41:01.862Z"
   },
   {
    "duration": 25,
    "start_time": "2023-02-28T07:43:40.919Z"
   },
   {
    "duration": 1488,
    "start_time": "2023-02-28T07:47:40.680Z"
   },
   {
    "duration": 660,
    "start_time": "2023-02-28T07:47:42.170Z"
   },
   {
    "duration": 19,
    "start_time": "2023-02-28T07:47:42.831Z"
   },
   {
    "duration": 8,
    "start_time": "2023-02-28T07:47:42.851Z"
   },
   {
    "duration": 109,
    "start_time": "2023-02-28T07:47:42.861Z"
   },
   {
    "duration": 3,
    "start_time": "2023-02-28T07:47:42.971Z"
   },
   {
    "duration": 268,
    "start_time": "2023-02-28T07:47:42.976Z"
   },
   {
    "duration": 4,
    "start_time": "2023-02-28T07:47:43.246Z"
   },
   {
    "duration": 1471,
    "start_time": "2023-02-28T07:47:43.252Z"
   },
   {
    "duration": 3,
    "start_time": "2023-02-28T07:47:44.725Z"
   },
   {
    "duration": 12301,
    "start_time": "2023-02-28T07:47:44.729Z"
   },
   {
    "duration": 2500,
    "start_time": "2023-02-28T07:47:57.032Z"
   },
   {
    "duration": 3147,
    "start_time": "2023-02-28T07:47:59.533Z"
   },
   {
    "duration": 2,
    "start_time": "2023-02-28T07:48:02.682Z"
   },
   {
    "duration": 43,
    "start_time": "2023-02-28T07:48:02.685Z"
   },
   {
    "duration": 29,
    "start_time": "2023-02-28T07:48:02.730Z"
   },
   {
    "duration": 4,
    "start_time": "2023-02-28T07:48:46.369Z"
   },
   {
    "duration": 3298,
    "start_time": "2023-02-28T07:49:05.348Z"
   },
   {
    "duration": 12371,
    "start_time": "2023-02-28T07:49:32.321Z"
   },
   {
    "duration": 3,
    "start_time": "2023-02-28T07:56:05.259Z"
   },
   {
    "duration": 113,
    "start_time": "2023-02-28T07:59:36.477Z"
   },
   {
    "duration": 10,
    "start_time": "2023-02-28T07:59:58.128Z"
   },
   {
    "duration": 9,
    "start_time": "2023-02-28T08:02:13.352Z"
   },
   {
    "duration": 12,
    "start_time": "2023-02-28T08:02:36.620Z"
   },
   {
    "duration": 12,
    "start_time": "2023-02-28T08:03:16.538Z"
   },
   {
    "duration": 11,
    "start_time": "2023-02-28T08:03:21.067Z"
   },
   {
    "duration": 1470,
    "start_time": "2023-02-28T08:03:51.407Z"
   },
   {
    "duration": 691,
    "start_time": "2023-02-28T08:03:52.879Z"
   },
   {
    "duration": 22,
    "start_time": "2023-02-28T08:03:53.572Z"
   },
   {
    "duration": 11,
    "start_time": "2023-02-28T08:03:53.603Z"
   },
   {
    "duration": 111,
    "start_time": "2023-02-28T08:03:53.618Z"
   },
   {
    "duration": 4,
    "start_time": "2023-02-28T08:03:53.731Z"
   },
   {
    "duration": 278,
    "start_time": "2023-02-28T08:03:53.736Z"
   },
   {
    "duration": 4,
    "start_time": "2023-02-28T08:03:54.016Z"
   },
   {
    "duration": 1525,
    "start_time": "2023-02-28T08:03:54.022Z"
   },
   {
    "duration": 4,
    "start_time": "2023-02-28T08:03:55.549Z"
   },
   {
    "duration": 12449,
    "start_time": "2023-02-28T08:03:55.554Z"
   },
   {
    "duration": 2487,
    "start_time": "2023-02-28T08:04:08.005Z"
   },
   {
    "duration": 3023,
    "start_time": "2023-02-28T08:04:10.494Z"
   },
   {
    "duration": 26,
    "start_time": "2023-02-28T08:04:13.520Z"
   },
   {
    "duration": 21,
    "start_time": "2023-02-28T08:04:13.547Z"
   },
   {
    "duration": 10,
    "start_time": "2023-02-28T08:04:13.570Z"
   },
   {
    "duration": 129,
    "start_time": "2023-02-28T08:23:40.758Z"
   },
   {
    "duration": 1471,
    "start_time": "2023-02-28T08:23:52.954Z"
   },
   {
    "duration": 783,
    "start_time": "2023-02-28T08:23:54.427Z"
   },
   {
    "duration": 23,
    "start_time": "2023-02-28T08:23:55.212Z"
   },
   {
    "duration": 17,
    "start_time": "2023-02-28T08:23:55.236Z"
   },
   {
    "duration": 126,
    "start_time": "2023-02-28T08:23:55.256Z"
   },
   {
    "duration": 4,
    "start_time": "2023-02-28T08:23:55.384Z"
   },
   {
    "duration": 370,
    "start_time": "2023-02-28T08:23:55.390Z"
   },
   {
    "duration": 6,
    "start_time": "2023-02-28T08:23:55.762Z"
   },
   {
    "duration": 1747,
    "start_time": "2023-02-28T08:23:55.769Z"
   },
   {
    "duration": 4,
    "start_time": "2023-02-28T08:23:57.518Z"
   },
   {
    "duration": 12520,
    "start_time": "2023-02-28T08:23:57.524Z"
   },
   {
    "duration": 2508,
    "start_time": "2023-02-28T08:24:10.046Z"
   },
   {
    "duration": 3147,
    "start_time": "2023-02-28T08:24:12.556Z"
   },
   {
    "duration": 26,
    "start_time": "2023-02-28T08:24:15.706Z"
   },
   {
    "duration": 23,
    "start_time": "2023-02-28T08:24:15.734Z"
   },
   {
    "duration": 150,
    "start_time": "2023-02-28T08:24:15.759Z"
   },
   {
    "duration": 0,
    "start_time": "2023-02-28T08:24:15.911Z"
   },
   {
    "duration": 1438,
    "start_time": "2023-02-28T08:25:50.357Z"
   },
   {
    "duration": 754,
    "start_time": "2023-02-28T08:25:51.796Z"
   },
   {
    "duration": 26,
    "start_time": "2023-02-28T08:25:52.552Z"
   },
   {
    "duration": 8,
    "start_time": "2023-02-28T08:25:52.581Z"
   },
   {
    "duration": 117,
    "start_time": "2023-02-28T08:25:52.591Z"
   },
   {
    "duration": 3,
    "start_time": "2023-02-28T08:25:52.710Z"
   },
   {
    "duration": 287,
    "start_time": "2023-02-28T08:25:52.714Z"
   },
   {
    "duration": 6,
    "start_time": "2023-02-28T08:25:53.003Z"
   },
   {
    "duration": 1570,
    "start_time": "2023-02-28T08:25:53.010Z"
   },
   {
    "duration": 4,
    "start_time": "2023-02-28T08:25:54.582Z"
   },
   {
    "duration": 12965,
    "start_time": "2023-02-28T08:25:54.587Z"
   },
   {
    "duration": 2477,
    "start_time": "2023-02-28T08:26:07.554Z"
   },
   {
    "duration": 3123,
    "start_time": "2023-02-28T08:26:10.033Z"
   },
   {
    "duration": 25,
    "start_time": "2023-02-28T08:26:13.157Z"
   },
   {
    "duration": 33,
    "start_time": "2023-02-28T08:26:13.184Z"
   },
   {
    "duration": 128,
    "start_time": "2023-02-28T08:26:13.218Z"
   },
   {
    "duration": 0,
    "start_time": "2023-02-28T08:26:13.347Z"
   },
   {
    "duration": 36,
    "start_time": "2023-02-28T08:26:32.687Z"
   },
   {
    "duration": 23,
    "start_time": "2023-02-28T08:26:37.719Z"
   },
   {
    "duration": 24,
    "start_time": "2023-02-28T08:26:54.243Z"
   },
   {
    "duration": 1421,
    "start_time": "2023-02-28T08:29:09.496Z"
   },
   {
    "duration": 722,
    "start_time": "2023-02-28T08:29:10.919Z"
   },
   {
    "duration": 20,
    "start_time": "2023-02-28T08:29:11.643Z"
   },
   {
    "duration": 10,
    "start_time": "2023-02-28T08:29:11.665Z"
   },
   {
    "duration": 114,
    "start_time": "2023-02-28T08:29:11.677Z"
   },
   {
    "duration": 4,
    "start_time": "2023-02-28T08:29:11.792Z"
   },
   {
    "duration": 275,
    "start_time": "2023-02-28T08:29:11.797Z"
   },
   {
    "duration": 5,
    "start_time": "2023-02-28T08:29:12.074Z"
   },
   {
    "duration": 1596,
    "start_time": "2023-02-28T08:29:12.080Z"
   },
   {
    "duration": 3,
    "start_time": "2023-02-28T08:29:13.678Z"
   },
   {
    "duration": 12333,
    "start_time": "2023-02-28T08:29:13.683Z"
   },
   {
    "duration": 2798,
    "start_time": "2023-02-28T08:29:26.017Z"
   },
   {
    "duration": 3347,
    "start_time": "2023-02-28T08:29:28.817Z"
   },
   {
    "duration": 26,
    "start_time": "2023-02-28T08:29:32.167Z"
   },
   {
    "duration": 30,
    "start_time": "2023-02-28T08:29:32.194Z"
   },
   {
    "duration": 133,
    "start_time": "2023-02-28T08:29:32.225Z"
   },
   {
    "duration": 0,
    "start_time": "2023-02-28T08:29:32.360Z"
   },
   {
    "duration": 0,
    "start_time": "2023-02-28T08:29:32.361Z"
   },
   {
    "duration": 0,
    "start_time": "2023-02-28T08:29:32.362Z"
   },
   {
    "duration": 0,
    "start_time": "2023-02-28T08:29:32.363Z"
   },
   {
    "duration": 12,
    "start_time": "2023-02-28T08:29:40.532Z"
   },
   {
    "duration": 3,
    "start_time": "2023-02-28T08:29:41.595Z"
   },
   {
    "duration": 7,
    "start_time": "2023-02-28T08:29:41.995Z"
   },
   {
    "duration": 5,
    "start_time": "2023-02-28T08:29:42.442Z"
   },
   {
    "duration": 4,
    "start_time": "2023-02-28T08:29:42.874Z"
   },
   {
    "duration": 5,
    "start_time": "2023-02-28T08:32:45.532Z"
   },
   {
    "duration": 5,
    "start_time": "2023-02-28T08:34:55.044Z"
   },
   {
    "duration": 1468,
    "start_time": "2023-02-28T08:40:54.102Z"
   },
   {
    "duration": 725,
    "start_time": "2023-02-28T08:40:55.572Z"
   },
   {
    "duration": 21,
    "start_time": "2023-02-28T08:40:56.299Z"
   },
   {
    "duration": 11,
    "start_time": "2023-02-28T08:40:56.321Z"
   },
   {
    "duration": 112,
    "start_time": "2023-02-28T08:40:56.334Z"
   },
   {
    "duration": 3,
    "start_time": "2023-02-28T08:40:56.448Z"
   },
   {
    "duration": 316,
    "start_time": "2023-02-28T08:40:56.453Z"
   },
   {
    "duration": 6,
    "start_time": "2023-02-28T08:40:56.771Z"
   },
   {
    "duration": 1518,
    "start_time": "2023-02-28T08:40:56.778Z"
   },
   {
    "duration": 3,
    "start_time": "2023-02-28T08:40:58.297Z"
   },
   {
    "duration": 12637,
    "start_time": "2023-02-28T08:40:58.301Z"
   },
   {
    "duration": 2496,
    "start_time": "2023-02-28T08:41:10.940Z"
   },
   {
    "duration": 3141,
    "start_time": "2023-02-28T08:41:13.438Z"
   },
   {
    "duration": 32,
    "start_time": "2023-02-28T08:41:16.582Z"
   },
   {
    "duration": 23,
    "start_time": "2023-02-28T08:41:16.616Z"
   },
   {
    "duration": 16,
    "start_time": "2023-02-28T08:41:16.640Z"
   },
   {
    "duration": 28,
    "start_time": "2023-02-28T08:41:16.657Z"
   },
   {
    "duration": 54,
    "start_time": "2023-02-28T08:41:16.687Z"
   },
   {
    "duration": 15,
    "start_time": "2023-02-28T08:41:16.743Z"
   },
   {
    "duration": 26,
    "start_time": "2023-02-28T08:41:16.760Z"
   },
   {
    "duration": 1425,
    "start_time": "2023-02-28T08:44:48.114Z"
   },
   {
    "duration": 747,
    "start_time": "2023-02-28T08:44:49.541Z"
   },
   {
    "duration": 22,
    "start_time": "2023-02-28T08:44:50.289Z"
   },
   {
    "duration": 9,
    "start_time": "2023-02-28T08:44:50.313Z"
   },
   {
    "duration": 119,
    "start_time": "2023-02-28T08:44:50.324Z"
   },
   {
    "duration": 3,
    "start_time": "2023-02-28T08:44:50.445Z"
   },
   {
    "duration": 296,
    "start_time": "2023-02-28T08:44:50.450Z"
   },
   {
    "duration": 6,
    "start_time": "2023-02-28T08:44:50.747Z"
   },
   {
    "duration": 1565,
    "start_time": "2023-02-28T08:44:50.755Z"
   },
   {
    "duration": 3,
    "start_time": "2023-02-28T08:44:52.322Z"
   },
   {
    "duration": 12257,
    "start_time": "2023-02-28T08:44:52.327Z"
   },
   {
    "duration": 2487,
    "start_time": "2023-02-28T08:45:04.585Z"
   },
   {
    "duration": 3308,
    "start_time": "2023-02-28T08:45:07.073Z"
   },
   {
    "duration": 29,
    "start_time": "2023-02-28T08:45:10.384Z"
   },
   {
    "duration": 26,
    "start_time": "2023-02-28T08:45:10.414Z"
   },
   {
    "duration": 17,
    "start_time": "2023-02-28T08:45:10.442Z"
   },
   {
    "duration": 16,
    "start_time": "2023-02-28T08:45:10.461Z"
   },
   {
    "duration": 31,
    "start_time": "2023-02-28T08:45:10.479Z"
   },
   {
    "duration": 28,
    "start_time": "2023-02-28T08:45:10.511Z"
   },
   {
    "duration": 34,
    "start_time": "2023-02-28T08:45:10.541Z"
   },
   {
    "duration": 147,
    "start_time": "2023-02-28T08:45:10.576Z"
   },
   {
    "duration": 1474,
    "start_time": "2023-02-28T08:46:00.584Z"
   },
   {
    "duration": 712,
    "start_time": "2023-02-28T08:46:02.061Z"
   },
   {
    "duration": 28,
    "start_time": "2023-02-28T08:46:02.775Z"
   },
   {
    "duration": 9,
    "start_time": "2023-02-28T08:46:02.805Z"
   },
   {
    "duration": 111,
    "start_time": "2023-02-28T08:46:02.816Z"
   },
   {
    "duration": 3,
    "start_time": "2023-02-28T08:46:02.930Z"
   },
   {
    "duration": 313,
    "start_time": "2023-02-28T08:46:02.934Z"
   },
   {
    "duration": 5,
    "start_time": "2023-02-28T08:46:03.248Z"
   },
   {
    "duration": 1465,
    "start_time": "2023-02-28T08:46:03.255Z"
   },
   {
    "duration": 3,
    "start_time": "2023-02-28T08:46:04.722Z"
   },
   {
    "duration": 12485,
    "start_time": "2023-02-28T08:46:04.726Z"
   },
   {
    "duration": 2457,
    "start_time": "2023-02-28T08:46:17.213Z"
   },
   {
    "duration": 3105,
    "start_time": "2023-02-28T08:46:19.672Z"
   },
   {
    "duration": 34,
    "start_time": "2023-02-28T08:46:22.780Z"
   },
   {
    "duration": 21,
    "start_time": "2023-02-28T08:46:22.816Z"
   },
   {
    "duration": 12,
    "start_time": "2023-02-28T08:46:22.839Z"
   },
   {
    "duration": 4,
    "start_time": "2023-02-28T08:46:22.852Z"
   },
   {
    "duration": 13,
    "start_time": "2023-02-28T08:46:22.857Z"
   },
   {
    "duration": 11,
    "start_time": "2023-02-28T08:46:22.871Z"
   },
   {
    "duration": 20,
    "start_time": "2023-02-28T08:46:22.883Z"
   },
   {
    "duration": 8,
    "start_time": "2023-02-28T08:46:22.905Z"
   },
   {
    "duration": 120,
    "start_time": "2023-02-28T08:46:44.385Z"
   },
   {
    "duration": 13,
    "start_time": "2023-02-28T08:47:03.594Z"
   },
   {
    "duration": 1476,
    "start_time": "2023-02-28T08:48:33.073Z"
   },
   {
    "duration": 728,
    "start_time": "2023-02-28T08:48:34.551Z"
   },
   {
    "duration": 25,
    "start_time": "2023-02-28T08:48:35.281Z"
   },
   {
    "duration": 10,
    "start_time": "2023-02-28T08:48:35.308Z"
   },
   {
    "duration": 114,
    "start_time": "2023-02-28T08:48:35.320Z"
   },
   {
    "duration": 4,
    "start_time": "2023-02-28T08:48:35.435Z"
   },
   {
    "duration": 298,
    "start_time": "2023-02-28T08:48:35.440Z"
   },
   {
    "duration": 5,
    "start_time": "2023-02-28T08:48:35.740Z"
   },
   {
    "duration": 1566,
    "start_time": "2023-02-28T08:48:35.746Z"
   },
   {
    "duration": 4,
    "start_time": "2023-02-28T08:48:37.313Z"
   },
   {
    "duration": 12615,
    "start_time": "2023-02-28T08:48:37.319Z"
   },
   {
    "duration": 2501,
    "start_time": "2023-02-28T08:48:49.935Z"
   },
   {
    "duration": 3164,
    "start_time": "2023-02-28T08:48:52.438Z"
   },
   {
    "duration": 27,
    "start_time": "2023-02-28T08:48:55.606Z"
   },
   {
    "duration": 22,
    "start_time": "2023-02-28T08:48:55.634Z"
   },
   {
    "duration": 10,
    "start_time": "2023-02-28T08:48:55.658Z"
   },
   {
    "duration": 3,
    "start_time": "2023-02-28T08:48:55.670Z"
   },
   {
    "duration": 32,
    "start_time": "2023-02-28T08:48:55.675Z"
   },
   {
    "duration": 7,
    "start_time": "2023-02-28T08:48:55.709Z"
   },
   {
    "duration": 11,
    "start_time": "2023-02-28T08:48:55.718Z"
   },
   {
    "duration": 132,
    "start_time": "2023-02-28T08:48:55.731Z"
   },
   {
    "duration": 1417,
    "start_time": "2023-02-28T08:51:58.182Z"
   },
   {
    "duration": 721,
    "start_time": "2023-02-28T08:51:59.601Z"
   },
   {
    "duration": 19,
    "start_time": "2023-02-28T08:52:00.324Z"
   },
   {
    "duration": 18,
    "start_time": "2023-02-28T08:52:00.344Z"
   },
   {
    "duration": 126,
    "start_time": "2023-02-28T08:52:00.364Z"
   },
   {
    "duration": 4,
    "start_time": "2023-02-28T08:52:00.492Z"
   },
   {
    "duration": 317,
    "start_time": "2023-02-28T08:52:00.513Z"
   },
   {
    "duration": 6,
    "start_time": "2023-02-28T08:52:00.832Z"
   },
   {
    "duration": 1529,
    "start_time": "2023-02-28T08:52:00.839Z"
   },
   {
    "duration": 2,
    "start_time": "2023-02-28T08:52:02.370Z"
   },
   {
    "duration": 12681,
    "start_time": "2023-02-28T08:52:02.374Z"
   },
   {
    "duration": 2681,
    "start_time": "2023-02-28T08:52:15.057Z"
   },
   {
    "duration": 3225,
    "start_time": "2023-02-28T08:52:17.741Z"
   },
   {
    "duration": 25,
    "start_time": "2023-02-28T08:52:20.969Z"
   },
   {
    "duration": 21,
    "start_time": "2023-02-28T08:52:21.003Z"
   },
   {
    "duration": 12,
    "start_time": "2023-02-28T08:52:21.026Z"
   },
   {
    "duration": 19,
    "start_time": "2023-02-28T08:52:21.039Z"
   },
   {
    "duration": 12,
    "start_time": "2023-02-28T08:52:21.060Z"
   },
   {
    "duration": 32,
    "start_time": "2023-02-28T08:52:21.073Z"
   },
   {
    "duration": 9,
    "start_time": "2023-02-28T08:52:21.107Z"
   },
   {
    "duration": 165,
    "start_time": "2023-02-28T08:52:21.118Z"
   },
   {
    "duration": 0,
    "start_time": "2023-02-28T08:52:21.285Z"
   },
   {
    "duration": 17,
    "start_time": "2023-02-28T08:54:05.014Z"
   },
   {
    "duration": 14,
    "start_time": "2023-02-28T08:54:16.622Z"
   },
   {
    "duration": 13,
    "start_time": "2023-02-28T08:54:44.472Z"
   },
   {
    "duration": 12,
    "start_time": "2023-02-28T08:54:48.181Z"
   },
   {
    "duration": 1451,
    "start_time": "2023-02-28T09:03:29.568Z"
   },
   {
    "duration": 733,
    "start_time": "2023-02-28T09:03:31.021Z"
   },
   {
    "duration": 19,
    "start_time": "2023-02-28T09:03:31.755Z"
   },
   {
    "duration": 8,
    "start_time": "2023-02-28T09:03:31.776Z"
   },
   {
    "duration": 105,
    "start_time": "2023-02-28T09:03:31.786Z"
   },
   {
    "duration": 3,
    "start_time": "2023-02-28T09:03:31.894Z"
   },
   {
    "duration": 274,
    "start_time": "2023-02-28T09:03:31.903Z"
   },
   {
    "duration": 5,
    "start_time": "2023-02-28T09:03:32.179Z"
   },
   {
    "duration": 1531,
    "start_time": "2023-02-28T09:03:32.185Z"
   },
   {
    "duration": 4,
    "start_time": "2023-02-28T09:03:33.717Z"
   },
   {
    "duration": 12568,
    "start_time": "2023-02-28T09:03:33.722Z"
   },
   {
    "duration": 2572,
    "start_time": "2023-02-28T09:03:46.291Z"
   },
   {
    "duration": 3154,
    "start_time": "2023-02-28T09:03:48.865Z"
   },
   {
    "duration": 26,
    "start_time": "2023-02-28T09:03:52.022Z"
   },
   {
    "duration": 20,
    "start_time": "2023-02-28T09:03:52.050Z"
   },
   {
    "duration": 4,
    "start_time": "2023-02-28T09:03:52.072Z"
   },
   {
    "duration": 27,
    "start_time": "2023-02-28T09:03:52.078Z"
   },
   {
    "duration": 5,
    "start_time": "2023-02-28T09:03:52.107Z"
   },
   {
    "duration": 6,
    "start_time": "2023-02-28T09:03:52.114Z"
   },
   {
    "duration": 141,
    "start_time": "2023-02-28T09:03:52.122Z"
   },
   {
    "duration": 1454,
    "start_time": "2023-02-28T09:05:38.676Z"
   },
   {
    "duration": 736,
    "start_time": "2023-02-28T09:05:40.132Z"
   },
   {
    "duration": 22,
    "start_time": "2023-02-28T09:05:40.869Z"
   },
   {
    "duration": 9,
    "start_time": "2023-02-28T09:05:40.903Z"
   },
   {
    "duration": 100,
    "start_time": "2023-02-28T09:05:40.913Z"
   },
   {
    "duration": 3,
    "start_time": "2023-02-28T09:05:41.015Z"
   },
   {
    "duration": 303,
    "start_time": "2023-02-28T09:05:41.019Z"
   },
   {
    "duration": 5,
    "start_time": "2023-02-28T09:05:41.324Z"
   },
   {
    "duration": 1542,
    "start_time": "2023-02-28T09:05:41.330Z"
   },
   {
    "duration": 14,
    "start_time": "2023-02-28T09:05:42.874Z"
   },
   {
    "duration": 3,
    "start_time": "2023-02-28T09:05:42.890Z"
   },
   {
    "duration": 12238,
    "start_time": "2023-02-28T09:05:42.894Z"
   },
   {
    "duration": 2650,
    "start_time": "2023-02-28T09:05:55.134Z"
   },
   {
    "duration": 3077,
    "start_time": "2023-02-28T09:05:57.786Z"
   },
   {
    "duration": 26,
    "start_time": "2023-02-28T09:06:00.865Z"
   },
   {
    "duration": 65,
    "start_time": "2023-02-28T09:06:00.903Z"
   },
   {
    "duration": 48,
    "start_time": "2023-02-28T09:06:00.969Z"
   },
   {
    "duration": 25,
    "start_time": "2023-02-28T09:06:01.019Z"
   },
   {
    "duration": 34,
    "start_time": "2023-02-28T09:06:01.045Z"
   },
   {
    "duration": 25,
    "start_time": "2023-02-28T09:06:01.081Z"
   },
   {
    "duration": 187,
    "start_time": "2023-02-28T09:06:01.108Z"
   },
   {
    "duration": 15,
    "start_time": "2023-02-28T09:08:21.731Z"
   },
   {
    "duration": 1572,
    "start_time": "2023-02-28T09:09:00.127Z"
   },
   {
    "duration": 693,
    "start_time": "2023-02-28T09:09:01.701Z"
   },
   {
    "duration": 19,
    "start_time": "2023-02-28T09:09:02.396Z"
   },
   {
    "duration": 10,
    "start_time": "2023-02-28T09:09:02.417Z"
   },
   {
    "duration": 104,
    "start_time": "2023-02-28T09:09:02.430Z"
   },
   {
    "duration": 3,
    "start_time": "2023-02-28T09:09:02.536Z"
   },
   {
    "duration": 293,
    "start_time": "2023-02-28T09:09:02.540Z"
   },
   {
    "duration": 5,
    "start_time": "2023-02-28T09:09:02.834Z"
   },
   {
    "duration": 1496,
    "start_time": "2023-02-28T09:09:02.840Z"
   },
   {
    "duration": 13,
    "start_time": "2023-02-28T09:09:04.337Z"
   },
   {
    "duration": 3,
    "start_time": "2023-02-28T09:09:04.352Z"
   },
   {
    "duration": 12556,
    "start_time": "2023-02-28T09:09:04.356Z"
   },
   {
    "duration": 2444,
    "start_time": "2023-02-28T09:09:16.913Z"
   },
   {
    "duration": 3102,
    "start_time": "2023-02-28T09:09:19.360Z"
   },
   {
    "duration": 25,
    "start_time": "2023-02-28T09:09:22.464Z"
   },
   {
    "duration": 31,
    "start_time": "2023-02-28T09:09:22.490Z"
   },
   {
    "duration": 4,
    "start_time": "2023-02-28T09:09:22.523Z"
   },
   {
    "duration": 10,
    "start_time": "2023-02-28T09:09:22.529Z"
   },
   {
    "duration": 9,
    "start_time": "2023-02-28T09:09:22.540Z"
   },
   {
    "duration": 13,
    "start_time": "2023-02-28T09:09:22.550Z"
   },
   {
    "duration": 116,
    "start_time": "2023-02-28T09:09:22.564Z"
   },
   {
    "duration": 19,
    "start_time": "2023-02-28T09:12:50.881Z"
   },
   {
    "duration": 72,
    "start_time": "2023-02-28T09:16:34.812Z"
   },
   {
    "duration": 6,
    "start_time": "2023-02-28T09:17:13.025Z"
   },
   {
    "duration": 18,
    "start_time": "2023-02-28T09:17:21.122Z"
   },
   {
    "duration": 14,
    "start_time": "2023-02-28T09:17:51.413Z"
   },
   {
    "duration": 14,
    "start_time": "2023-02-28T09:18:00.014Z"
   },
   {
    "duration": 20,
    "start_time": "2023-02-28T09:18:21.125Z"
   },
   {
    "duration": 14,
    "start_time": "2023-02-28T09:18:47.963Z"
   },
   {
    "duration": 114,
    "start_time": "2023-02-28T09:41:38.637Z"
   },
   {
    "duration": 114,
    "start_time": "2023-02-28T09:43:15.315Z"
   },
   {
    "duration": 90,
    "start_time": "2023-02-28T09:43:40.945Z"
   },
   {
    "duration": 965,
    "start_time": "2023-02-28T09:45:21.273Z"
   },
   {
    "duration": 599,
    "start_time": "2023-02-28T09:46:28.235Z"
   },
   {
    "duration": 1386,
    "start_time": "2023-02-28T09:54:49.609Z"
   },
   {
    "duration": 736,
    "start_time": "2023-02-28T09:54:50.998Z"
   },
   {
    "duration": 18,
    "start_time": "2023-02-28T09:54:51.736Z"
   },
   {
    "duration": 8,
    "start_time": "2023-02-28T09:54:51.756Z"
   },
   {
    "duration": 102,
    "start_time": "2023-02-28T09:54:51.766Z"
   },
   {
    "duration": 3,
    "start_time": "2023-02-28T09:54:51.870Z"
   },
   {
    "duration": 287,
    "start_time": "2023-02-28T09:54:51.874Z"
   },
   {
    "duration": 5,
    "start_time": "2023-02-28T09:54:52.163Z"
   },
   {
    "duration": 1483,
    "start_time": "2023-02-28T09:54:52.169Z"
   },
   {
    "duration": 13,
    "start_time": "2023-02-28T09:54:53.654Z"
   },
   {
    "duration": 7,
    "start_time": "2023-02-28T09:54:53.669Z"
   },
   {
    "duration": 12516,
    "start_time": "2023-02-28T09:54:53.678Z"
   },
   {
    "duration": 2447,
    "start_time": "2023-02-28T09:55:06.196Z"
   },
   {
    "duration": 3330,
    "start_time": "2023-02-28T09:55:08.646Z"
   },
   {
    "duration": 30,
    "start_time": "2023-02-28T09:55:11.978Z"
   },
   {
    "duration": 27,
    "start_time": "2023-02-28T09:55:12.009Z"
   },
   {
    "duration": 7,
    "start_time": "2023-02-28T09:55:12.038Z"
   },
   {
    "duration": 129,
    "start_time": "2023-02-28T09:55:12.046Z"
   },
   {
    "duration": 0,
    "start_time": "2023-02-28T09:55:12.177Z"
   },
   {
    "duration": 0,
    "start_time": "2023-02-28T09:55:12.179Z"
   },
   {
    "duration": 0,
    "start_time": "2023-02-28T09:55:12.181Z"
   },
   {
    "duration": 0,
    "start_time": "2023-02-28T09:55:12.182Z"
   },
   {
    "duration": 15,
    "start_time": "2023-02-28T09:55:44.151Z"
   },
   {
    "duration": 21,
    "start_time": "2023-02-28T09:56:17.722Z"
   },
   {
    "duration": 1475,
    "start_time": "2023-02-28T09:56:46.585Z"
   },
   {
    "duration": 733,
    "start_time": "2023-02-28T09:56:48.063Z"
   },
   {
    "duration": 20,
    "start_time": "2023-02-28T09:56:48.798Z"
   },
   {
    "duration": 10,
    "start_time": "2023-02-28T09:56:48.820Z"
   },
   {
    "duration": 112,
    "start_time": "2023-02-28T09:56:48.832Z"
   },
   {
    "duration": 3,
    "start_time": "2023-02-28T09:56:48.946Z"
   },
   {
    "duration": 306,
    "start_time": "2023-02-28T09:56:48.950Z"
   },
   {
    "duration": 5,
    "start_time": "2023-02-28T09:56:49.258Z"
   },
   {
    "duration": 1508,
    "start_time": "2023-02-28T09:56:49.264Z"
   },
   {
    "duration": 15,
    "start_time": "2023-02-28T09:56:50.773Z"
   },
   {
    "duration": 2,
    "start_time": "2023-02-28T09:56:50.790Z"
   },
   {
    "duration": 12246,
    "start_time": "2023-02-28T09:56:50.793Z"
   },
   {
    "duration": 2501,
    "start_time": "2023-02-28T09:57:03.042Z"
   },
   {
    "duration": 3212,
    "start_time": "2023-02-28T09:57:05.547Z"
   },
   {
    "duration": 25,
    "start_time": "2023-02-28T09:57:08.760Z"
   },
   {
    "duration": 29,
    "start_time": "2023-02-28T09:57:08.787Z"
   },
   {
    "duration": 4,
    "start_time": "2023-02-28T09:57:08.817Z"
   },
   {
    "duration": 138,
    "start_time": "2023-02-28T09:57:08.823Z"
   },
   {
    "duration": 0,
    "start_time": "2023-02-28T09:57:08.962Z"
   },
   {
    "duration": 0,
    "start_time": "2023-02-28T09:57:08.963Z"
   },
   {
    "duration": 0,
    "start_time": "2023-02-28T09:57:08.964Z"
   },
   {
    "duration": 0,
    "start_time": "2023-02-28T09:57:08.966Z"
   },
   {
    "duration": 1404,
    "start_time": "2023-02-28T09:57:50.996Z"
   },
   {
    "duration": 710,
    "start_time": "2023-02-28T09:57:52.402Z"
   },
   {
    "duration": 22,
    "start_time": "2023-02-28T09:57:53.114Z"
   },
   {
    "duration": 11,
    "start_time": "2023-02-28T09:57:53.139Z"
   },
   {
    "duration": 126,
    "start_time": "2023-02-28T09:57:53.151Z"
   },
   {
    "duration": 3,
    "start_time": "2023-02-28T09:57:53.279Z"
   },
   {
    "duration": 285,
    "start_time": "2023-02-28T09:57:53.283Z"
   },
   {
    "duration": 5,
    "start_time": "2023-02-28T09:57:53.569Z"
   },
   {
    "duration": 1484,
    "start_time": "2023-02-28T09:57:53.576Z"
   },
   {
    "duration": 3,
    "start_time": "2023-02-28T09:57:55.065Z"
   },
   {
    "duration": 12587,
    "start_time": "2023-02-28T09:57:55.070Z"
   },
   {
    "duration": 2476,
    "start_time": "2023-02-28T09:58:07.659Z"
   },
   {
    "duration": 3252,
    "start_time": "2023-02-28T09:58:10.136Z"
   },
   {
    "duration": 31,
    "start_time": "2023-02-28T09:58:13.390Z"
   },
   {
    "duration": 20,
    "start_time": "2023-02-28T09:58:13.423Z"
   },
   {
    "duration": 4,
    "start_time": "2023-02-28T09:58:13.444Z"
   },
   {
    "duration": 134,
    "start_time": "2023-02-28T09:58:13.450Z"
   },
   {
    "duration": 0,
    "start_time": "2023-02-28T09:58:13.586Z"
   },
   {
    "duration": 0,
    "start_time": "2023-02-28T09:58:13.587Z"
   },
   {
    "duration": 0,
    "start_time": "2023-02-28T09:58:13.587Z"
   },
   {
    "duration": 0,
    "start_time": "2023-02-28T09:58:13.588Z"
   },
   {
    "duration": 31,
    "start_time": "2023-02-28T10:03:57.980Z"
   },
   {
    "duration": 1430,
    "start_time": "2023-02-28T10:06:01.314Z"
   },
   {
    "duration": 732,
    "start_time": "2023-02-28T10:06:02.747Z"
   },
   {
    "duration": 24,
    "start_time": "2023-02-28T10:06:03.480Z"
   },
   {
    "duration": 20,
    "start_time": "2023-02-28T10:06:03.506Z"
   },
   {
    "duration": 114,
    "start_time": "2023-02-28T10:06:03.528Z"
   },
   {
    "duration": 3,
    "start_time": "2023-02-28T10:06:03.644Z"
   },
   {
    "duration": 294,
    "start_time": "2023-02-28T10:06:03.648Z"
   },
   {
    "duration": 4,
    "start_time": "2023-02-28T10:06:03.944Z"
   },
   {
    "duration": 1570,
    "start_time": "2023-02-28T10:06:03.950Z"
   },
   {
    "duration": 3,
    "start_time": "2023-02-28T10:06:05.521Z"
   },
   {
    "duration": 12434,
    "start_time": "2023-02-28T10:06:05.526Z"
   },
   {
    "duration": 2496,
    "start_time": "2023-02-28T10:06:17.961Z"
   },
   {
    "duration": 3135,
    "start_time": "2023-02-28T10:06:20.459Z"
   },
   {
    "duration": 28,
    "start_time": "2023-02-28T10:06:23.597Z"
   },
   {
    "duration": 20,
    "start_time": "2023-02-28T10:06:23.627Z"
   },
   {
    "duration": 4,
    "start_time": "2023-02-28T10:06:23.648Z"
   },
   {
    "duration": 136,
    "start_time": "2023-02-28T10:06:23.653Z"
   },
   {
    "duration": 0,
    "start_time": "2023-02-28T10:06:23.791Z"
   },
   {
    "duration": 0,
    "start_time": "2023-02-28T10:06:23.792Z"
   },
   {
    "duration": 0,
    "start_time": "2023-02-28T10:06:23.793Z"
   },
   {
    "duration": 0,
    "start_time": "2023-02-28T10:06:23.795Z"
   },
   {
    "duration": 10,
    "start_time": "2023-02-28T10:07:00.914Z"
   },
   {
    "duration": 15,
    "start_time": "2023-02-28T10:07:01.537Z"
   },
   {
    "duration": 18,
    "start_time": "2023-02-28T10:10:53.117Z"
   },
   {
    "duration": 16,
    "start_time": "2023-02-28T10:14:41.945Z"
   },
   {
    "duration": 28,
    "start_time": "2023-02-28T10:14:49.465Z"
   },
   {
    "duration": 10,
    "start_time": "2023-02-28T10:20:56.546Z"
   },
   {
    "duration": 1439,
    "start_time": "2023-02-28T10:21:08.997Z"
   },
   {
    "duration": 708,
    "start_time": "2023-02-28T10:21:10.437Z"
   },
   {
    "duration": 24,
    "start_time": "2023-02-28T10:21:11.147Z"
   },
   {
    "duration": 15,
    "start_time": "2023-02-28T10:21:11.173Z"
   },
   {
    "duration": 115,
    "start_time": "2023-02-28T10:21:11.203Z"
   },
   {
    "duration": 4,
    "start_time": "2023-02-28T10:21:11.321Z"
   },
   {
    "duration": 289,
    "start_time": "2023-02-28T10:21:11.326Z"
   },
   {
    "duration": 5,
    "start_time": "2023-02-28T10:21:11.617Z"
   },
   {
    "duration": 1509,
    "start_time": "2023-02-28T10:21:11.623Z"
   },
   {
    "duration": 3,
    "start_time": "2023-02-28T10:21:13.134Z"
   },
   {
    "duration": 12270,
    "start_time": "2023-02-28T10:21:13.139Z"
   },
   {
    "duration": 2545,
    "start_time": "2023-02-28T10:21:25.411Z"
   },
   {
    "duration": 3255,
    "start_time": "2023-02-28T10:21:27.959Z"
   },
   {
    "duration": 25,
    "start_time": "2023-02-28T10:21:31.216Z"
   },
   {
    "duration": 24,
    "start_time": "2023-02-28T10:21:31.243Z"
   },
   {
    "duration": 10,
    "start_time": "2023-02-28T10:21:31.269Z"
   },
   {
    "duration": 26,
    "start_time": "2023-02-28T10:21:31.281Z"
   },
   {
    "duration": 36,
    "start_time": "2023-02-28T10:21:31.309Z"
   },
   {
    "duration": 15,
    "start_time": "2023-02-28T10:21:31.346Z"
   },
   {
    "duration": 16,
    "start_time": "2023-02-28T10:21:31.362Z"
   },
   {
    "duration": 20,
    "start_time": "2023-02-28T10:21:31.380Z"
   },
   {
    "duration": 31,
    "start_time": "2023-02-28T10:21:31.402Z"
   },
   {
    "duration": 3,
    "start_time": "2023-02-28T10:23:43.475Z"
   },
   {
    "duration": 127,
    "start_time": "2023-02-28T10:24:18.442Z"
   },
   {
    "duration": 1367,
    "start_time": "2023-02-28T10:26:08.055Z"
   },
   {
    "duration": 692,
    "start_time": "2023-02-28T10:26:09.424Z"
   },
   {
    "duration": 19,
    "start_time": "2023-02-28T10:26:10.118Z"
   },
   {
    "duration": 9,
    "start_time": "2023-02-28T10:26:10.139Z"
   },
   {
    "duration": 127,
    "start_time": "2023-02-28T10:26:10.151Z"
   },
   {
    "duration": 4,
    "start_time": "2023-02-28T10:26:10.280Z"
   },
   {
    "duration": 270,
    "start_time": "2023-02-28T10:26:10.286Z"
   },
   {
    "duration": 6,
    "start_time": "2023-02-28T10:26:10.559Z"
   },
   {
    "duration": 1489,
    "start_time": "2023-02-28T10:26:10.567Z"
   },
   {
    "duration": 3,
    "start_time": "2023-02-28T10:26:12.057Z"
   },
   {
    "duration": 12179,
    "start_time": "2023-02-28T10:26:12.062Z"
   },
   {
    "duration": 2602,
    "start_time": "2023-02-28T10:26:24.243Z"
   },
   {
    "duration": 3223,
    "start_time": "2023-02-28T10:26:26.848Z"
   },
   {
    "duration": 37,
    "start_time": "2023-02-28T10:26:30.075Z"
   },
   {
    "duration": 23,
    "start_time": "2023-02-28T10:26:30.114Z"
   },
   {
    "duration": 5,
    "start_time": "2023-02-28T10:26:30.139Z"
   },
   {
    "duration": 36,
    "start_time": "2023-02-28T10:26:30.146Z"
   },
   {
    "duration": 32,
    "start_time": "2023-02-28T10:26:30.185Z"
   },
   {
    "duration": 68,
    "start_time": "2023-02-28T10:26:30.219Z"
   },
   {
    "duration": 38,
    "start_time": "2023-02-28T10:26:30.289Z"
   },
   {
    "duration": 20,
    "start_time": "2023-02-28T10:26:30.329Z"
   },
   {
    "duration": 182,
    "start_time": "2023-02-28T10:26:30.351Z"
   },
   {
    "duration": 64,
    "start_time": "2023-02-28T10:29:02.272Z"
   },
   {
    "duration": 1415,
    "start_time": "2023-02-28T10:35:47.238Z"
   },
   {
    "duration": 763,
    "start_time": "2023-02-28T10:35:48.655Z"
   },
   {
    "duration": 21,
    "start_time": "2023-02-28T10:35:49.419Z"
   },
   {
    "duration": 8,
    "start_time": "2023-02-28T10:35:49.443Z"
   },
   {
    "duration": 120,
    "start_time": "2023-02-28T10:35:49.453Z"
   },
   {
    "duration": 3,
    "start_time": "2023-02-28T10:35:49.575Z"
   },
   {
    "duration": 279,
    "start_time": "2023-02-28T10:35:49.579Z"
   },
   {
    "duration": 5,
    "start_time": "2023-02-28T10:35:49.859Z"
   },
   {
    "duration": 1498,
    "start_time": "2023-02-28T10:35:49.866Z"
   },
   {
    "duration": 2,
    "start_time": "2023-02-28T10:35:51.367Z"
   },
   {
    "duration": 12194,
    "start_time": "2023-02-28T10:35:51.371Z"
   },
   {
    "duration": 2487,
    "start_time": "2023-02-28T10:36:03.567Z"
   },
   {
    "duration": 3138,
    "start_time": "2023-02-28T10:36:06.056Z"
   },
   {
    "duration": 32,
    "start_time": "2023-02-28T10:36:09.196Z"
   },
   {
    "duration": 20,
    "start_time": "2023-02-28T10:36:09.229Z"
   },
   {
    "duration": 5,
    "start_time": "2023-02-28T10:36:09.251Z"
   },
   {
    "duration": 19,
    "start_time": "2023-02-28T10:36:09.257Z"
   },
   {
    "duration": 26,
    "start_time": "2023-02-28T10:36:09.278Z"
   },
   {
    "duration": 8,
    "start_time": "2023-02-28T10:36:09.306Z"
   },
   {
    "duration": 114,
    "start_time": "2023-02-28T10:36:09.316Z"
   },
   {
    "duration": 0,
    "start_time": "2023-02-28T10:36:09.432Z"
   },
   {
    "duration": 0,
    "start_time": "2023-02-28T10:36:09.433Z"
   },
   {
    "duration": 0,
    "start_time": "2023-02-28T10:36:09.435Z"
   },
   {
    "duration": 13,
    "start_time": "2023-02-28T10:37:24.476Z"
   },
   {
    "duration": 1417,
    "start_time": "2023-02-28T10:37:59.598Z"
   },
   {
    "duration": 747,
    "start_time": "2023-02-28T10:38:01.017Z"
   },
   {
    "duration": 19,
    "start_time": "2023-02-28T10:38:01.766Z"
   },
   {
    "duration": 14,
    "start_time": "2023-02-28T10:38:01.787Z"
   },
   {
    "duration": 119,
    "start_time": "2023-02-28T10:38:01.804Z"
   },
   {
    "duration": 3,
    "start_time": "2023-02-28T10:38:01.925Z"
   },
   {
    "duration": 251,
    "start_time": "2023-02-28T10:38:01.929Z"
   },
   {
    "duration": 5,
    "start_time": "2023-02-28T10:38:02.182Z"
   },
   {
    "duration": 1524,
    "start_time": "2023-02-28T10:38:02.188Z"
   },
   {
    "duration": 4,
    "start_time": "2023-02-28T10:38:03.714Z"
   },
   {
    "duration": 12214,
    "start_time": "2023-02-28T10:38:03.720Z"
   },
   {
    "duration": 2577,
    "start_time": "2023-02-28T10:38:15.936Z"
   },
   {
    "duration": 3139,
    "start_time": "2023-02-28T10:38:18.515Z"
   },
   {
    "duration": 25,
    "start_time": "2023-02-28T10:38:21.657Z"
   },
   {
    "duration": 34,
    "start_time": "2023-02-28T10:38:21.684Z"
   },
   {
    "duration": 4,
    "start_time": "2023-02-28T10:38:21.720Z"
   },
   {
    "duration": 16,
    "start_time": "2023-02-28T10:38:21.726Z"
   },
   {
    "duration": 11,
    "start_time": "2023-02-28T10:38:21.743Z"
   },
   {
    "duration": 5,
    "start_time": "2023-02-28T10:38:21.755Z"
   },
   {
    "duration": 129,
    "start_time": "2023-02-28T10:38:21.761Z"
   },
   {
    "duration": 0,
    "start_time": "2023-02-28T10:38:21.892Z"
   },
   {
    "duration": 0,
    "start_time": "2023-02-28T10:38:21.893Z"
   },
   {
    "duration": 0,
    "start_time": "2023-02-28T10:38:21.894Z"
   },
   {
    "duration": 3,
    "start_time": "2023-02-28T10:39:07.166Z"
   },
   {
    "duration": 14,
    "start_time": "2023-02-28T10:39:07.707Z"
   },
   {
    "duration": 14,
    "start_time": "2023-02-28T10:41:10.566Z"
   },
   {
    "duration": 13,
    "start_time": "2023-02-28T10:41:20.926Z"
   },
   {
    "duration": 16,
    "start_time": "2023-02-28T10:41:31.290Z"
   },
   {
    "duration": 3,
    "start_time": "2023-02-28T10:41:35.878Z"
   },
   {
    "duration": 13,
    "start_time": "2023-02-28T10:41:36.120Z"
   },
   {
    "duration": 21,
    "start_time": "2023-02-28T10:45:51.085Z"
   },
   {
    "duration": 15,
    "start_time": "2023-02-28T10:47:06.129Z"
   },
   {
    "duration": 1381,
    "start_time": "2023-02-28T10:48:51.529Z"
   },
   {
    "duration": 758,
    "start_time": "2023-02-28T10:48:52.913Z"
   },
   {
    "duration": 24,
    "start_time": "2023-02-28T10:48:53.673Z"
   },
   {
    "duration": 11,
    "start_time": "2023-02-28T10:48:53.704Z"
   },
   {
    "duration": 112,
    "start_time": "2023-02-28T10:48:53.717Z"
   },
   {
    "duration": 3,
    "start_time": "2023-02-28T10:48:53.831Z"
   },
   {
    "duration": 329,
    "start_time": "2023-02-28T10:48:53.836Z"
   },
   {
    "duration": 6,
    "start_time": "2023-02-28T10:48:54.167Z"
   },
   {
    "duration": 1526,
    "start_time": "2023-02-28T10:48:54.174Z"
   },
   {
    "duration": 3,
    "start_time": "2023-02-28T10:48:55.704Z"
   },
   {
    "duration": 12553,
    "start_time": "2023-02-28T10:48:55.708Z"
   },
   {
    "duration": 2566,
    "start_time": "2023-02-28T10:49:08.262Z"
   },
   {
    "duration": 3212,
    "start_time": "2023-02-28T10:49:10.829Z"
   },
   {
    "duration": 26,
    "start_time": "2023-02-28T10:49:14.042Z"
   },
   {
    "duration": 35,
    "start_time": "2023-02-28T10:49:14.069Z"
   },
   {
    "duration": 5,
    "start_time": "2023-02-28T10:49:14.105Z"
   },
   {
    "duration": 16,
    "start_time": "2023-02-28T10:49:14.111Z"
   },
   {
    "duration": 9,
    "start_time": "2023-02-28T10:49:14.128Z"
   },
   {
    "duration": 12,
    "start_time": "2023-02-28T10:49:14.138Z"
   },
   {
    "duration": 122,
    "start_time": "2023-02-28T10:49:14.151Z"
   },
   {
    "duration": 0,
    "start_time": "2023-02-28T10:49:14.275Z"
   },
   {
    "duration": 0,
    "start_time": "2023-02-28T10:49:14.277Z"
   },
   {
    "duration": 3,
    "start_time": "2023-02-28T10:49:38.165Z"
   },
   {
    "duration": 7,
    "start_time": "2023-02-28T10:49:38.538Z"
   },
   {
    "duration": 12,
    "start_time": "2023-02-28T10:54:56.403Z"
   },
   {
    "duration": 5,
    "start_time": "2023-02-28T10:55:06.448Z"
   },
   {
    "duration": 19,
    "start_time": "2023-02-28T10:56:15.457Z"
   },
   {
    "duration": 14,
    "start_time": "2023-02-28T10:57:02.030Z"
   },
   {
    "duration": 17,
    "start_time": "2023-02-28T10:57:24.377Z"
   },
   {
    "duration": 29,
    "start_time": "2023-02-28T10:58:11.086Z"
   },
   {
    "duration": 17,
    "start_time": "2023-02-28T11:00:21.666Z"
   },
   {
    "duration": 1395,
    "start_time": "2023-02-28T11:02:42.678Z"
   },
   {
    "duration": 720,
    "start_time": "2023-02-28T11:02:44.075Z"
   },
   {
    "duration": 21,
    "start_time": "2023-02-28T11:02:44.796Z"
   },
   {
    "duration": 8,
    "start_time": "2023-02-28T11:02:44.819Z"
   },
   {
    "duration": 115,
    "start_time": "2023-02-28T11:02:44.829Z"
   },
   {
    "duration": 3,
    "start_time": "2023-02-28T11:02:44.946Z"
   },
   {
    "duration": 287,
    "start_time": "2023-02-28T11:02:44.951Z"
   },
   {
    "duration": 5,
    "start_time": "2023-02-28T11:02:45.240Z"
   },
   {
    "duration": 1509,
    "start_time": "2023-02-28T11:02:45.247Z"
   },
   {
    "duration": 4,
    "start_time": "2023-02-28T11:02:46.758Z"
   },
   {
    "duration": 12522,
    "start_time": "2023-02-28T11:02:46.763Z"
   },
   {
    "duration": 2541,
    "start_time": "2023-02-28T11:02:59.287Z"
   },
   {
    "duration": 3154,
    "start_time": "2023-02-28T11:03:01.830Z"
   },
   {
    "duration": 30,
    "start_time": "2023-02-28T11:03:04.987Z"
   },
   {
    "duration": 20,
    "start_time": "2023-02-28T11:03:05.018Z"
   },
   {
    "duration": 4,
    "start_time": "2023-02-28T11:03:05.040Z"
   },
   {
    "duration": 21,
    "start_time": "2023-02-28T11:03:05.046Z"
   },
   {
    "duration": 19,
    "start_time": "2023-02-28T11:03:05.069Z"
   },
   {
    "duration": 127,
    "start_time": "2023-02-28T11:03:05.089Z"
   },
   {
    "duration": 0,
    "start_time": "2023-02-28T11:03:05.218Z"
   },
   {
    "duration": 0,
    "start_time": "2023-02-28T11:03:05.219Z"
   },
   {
    "duration": 0,
    "start_time": "2023-02-28T11:03:05.220Z"
   },
   {
    "duration": 0,
    "start_time": "2023-02-28T11:03:05.221Z"
   },
   {
    "duration": 0,
    "start_time": "2023-02-28T11:03:05.222Z"
   },
   {
    "duration": 0,
    "start_time": "2023-02-28T11:03:05.223Z"
   },
   {
    "duration": 16,
    "start_time": "2023-02-28T11:03:32.353Z"
   },
   {
    "duration": 18,
    "start_time": "2023-02-28T11:04:16.058Z"
   },
   {
    "duration": 1687,
    "start_time": "2023-02-28T11:05:06.851Z"
   },
   {
    "duration": 770,
    "start_time": "2023-02-28T11:05:08.540Z"
   },
   {
    "duration": 21,
    "start_time": "2023-02-28T11:05:09.312Z"
   },
   {
    "duration": 14,
    "start_time": "2023-02-28T11:05:09.335Z"
   },
   {
    "duration": 121,
    "start_time": "2023-02-28T11:05:09.351Z"
   },
   {
    "duration": 4,
    "start_time": "2023-02-28T11:05:09.474Z"
   },
   {
    "duration": 289,
    "start_time": "2023-02-28T11:05:09.480Z"
   },
   {
    "duration": 6,
    "start_time": "2023-02-28T11:05:09.770Z"
   },
   {
    "duration": 1482,
    "start_time": "2023-02-28T11:05:09.778Z"
   },
   {
    "duration": 3,
    "start_time": "2023-02-28T11:05:11.261Z"
   },
   {
    "duration": 12267,
    "start_time": "2023-02-28T11:05:11.265Z"
   },
   {
    "duration": 2676,
    "start_time": "2023-02-28T11:05:23.534Z"
   },
   {
    "duration": 3247,
    "start_time": "2023-02-28T11:05:26.212Z"
   },
   {
    "duration": 25,
    "start_time": "2023-02-28T11:05:29.462Z"
   },
   {
    "duration": 33,
    "start_time": "2023-02-28T11:05:29.488Z"
   },
   {
    "duration": 5,
    "start_time": "2023-02-28T11:05:29.522Z"
   },
   {
    "duration": 15,
    "start_time": "2023-02-28T11:05:29.529Z"
   },
   {
    "duration": 11,
    "start_time": "2023-02-28T11:05:29.546Z"
   },
   {
    "duration": 138,
    "start_time": "2023-02-28T11:05:29.558Z"
   },
   {
    "duration": 0,
    "start_time": "2023-02-28T11:05:29.697Z"
   },
   {
    "duration": 0,
    "start_time": "2023-02-28T11:05:29.698Z"
   },
   {
    "duration": 0,
    "start_time": "2023-02-28T11:05:29.704Z"
   },
   {
    "duration": 0,
    "start_time": "2023-02-28T11:05:29.705Z"
   },
   {
    "duration": 0,
    "start_time": "2023-02-28T11:05:29.706Z"
   },
   {
    "duration": 0,
    "start_time": "2023-02-28T11:05:29.707Z"
   },
   {
    "duration": 16,
    "start_time": "2023-02-28T11:06:15.580Z"
   },
   {
    "duration": 22,
    "start_time": "2023-02-28T11:06:55.448Z"
   },
   {
    "duration": 17,
    "start_time": "2023-02-28T11:07:19.579Z"
   },
   {
    "duration": 1658,
    "start_time": "2023-02-28T13:59:04.062Z"
   },
   {
    "duration": 3151,
    "start_time": "2023-02-28T13:59:05.722Z"
   },
   {
    "duration": 30,
    "start_time": "2023-02-28T13:59:08.876Z"
   },
   {
    "duration": 21,
    "start_time": "2023-02-28T13:59:08.908Z"
   },
   {
    "duration": 107,
    "start_time": "2023-02-28T13:59:08.931Z"
   },
   {
    "duration": 3,
    "start_time": "2023-02-28T13:59:09.040Z"
   },
   {
    "duration": 264,
    "start_time": "2023-02-28T13:59:09.044Z"
   },
   {
    "duration": 5,
    "start_time": "2023-02-28T13:59:09.310Z"
   },
   {
    "duration": 1510,
    "start_time": "2023-02-28T13:59:09.317Z"
   },
   {
    "duration": 3,
    "start_time": "2023-02-28T13:59:10.829Z"
   },
   {
    "duration": 12820,
    "start_time": "2023-02-28T13:59:10.834Z"
   },
   {
    "duration": 2624,
    "start_time": "2023-02-28T13:59:23.656Z"
   },
   {
    "duration": 3376,
    "start_time": "2023-02-28T13:59:26.282Z"
   },
   {
    "duration": 24,
    "start_time": "2023-02-28T13:59:29.660Z"
   },
   {
    "duration": 20,
    "start_time": "2023-02-28T13:59:29.686Z"
   },
   {
    "duration": 4,
    "start_time": "2023-02-28T13:59:29.708Z"
   },
   {
    "duration": 33,
    "start_time": "2023-02-28T13:59:29.715Z"
   },
   {
    "duration": 15,
    "start_time": "2023-02-28T13:59:29.750Z"
   },
   {
    "duration": 785,
    "start_time": "2023-02-28T13:59:29.766Z"
   },
   {
    "duration": 1,
    "start_time": "2023-02-28T13:59:30.553Z"
   },
   {
    "duration": 0,
    "start_time": "2023-02-28T13:59:30.555Z"
   },
   {
    "duration": 0,
    "start_time": "2023-02-28T13:59:30.556Z"
   },
   {
    "duration": 0,
    "start_time": "2023-02-28T13:59:30.557Z"
   },
   {
    "duration": 0,
    "start_time": "2023-02-28T13:59:30.558Z"
   },
   {
    "duration": 0,
    "start_time": "2023-02-28T13:59:30.559Z"
   },
   {
    "duration": 1145,
    "start_time": "2023-02-28T14:00:06.365Z"
   },
   {
    "duration": 27,
    "start_time": "2023-02-28T14:00:36.519Z"
   },
   {
    "duration": 9,
    "start_time": "2023-02-28T14:01:13.827Z"
   },
   {
    "duration": 24,
    "start_time": "2023-02-28T14:01:53.669Z"
   },
   {
    "duration": 14,
    "start_time": "2023-02-28T14:02:41.063Z"
   },
   {
    "duration": 16,
    "start_time": "2023-02-28T14:02:51.885Z"
   },
   {
    "duration": 12,
    "start_time": "2023-02-28T14:02:54.696Z"
   },
   {
    "duration": 1236,
    "start_time": "2023-02-28T14:03:09.062Z"
   },
   {
    "duration": 11,
    "start_time": "2023-02-28T14:03:12.006Z"
   },
   {
    "duration": 14,
    "start_time": "2023-02-28T14:03:15.520Z"
   },
   {
    "duration": 17,
    "start_time": "2023-02-28T14:03:42.304Z"
   },
   {
    "duration": 1757,
    "start_time": "2023-02-28T14:03:59.828Z"
   },
   {
    "duration": 21,
    "start_time": "2023-02-28T14:04:10.197Z"
   },
   {
    "duration": 20,
    "start_time": "2023-02-28T14:04:32.609Z"
   },
   {
    "duration": 32,
    "start_time": "2023-02-28T14:04:47.700Z"
   },
   {
    "duration": 20,
    "start_time": "2023-02-28T14:05:15.479Z"
   },
   {
    "duration": 17,
    "start_time": "2023-02-28T14:05:53.786Z"
   },
   {
    "duration": 23,
    "start_time": "2023-02-28T14:06:05.490Z"
   },
   {
    "duration": 17,
    "start_time": "2023-02-28T14:06:13.001Z"
   },
   {
    "duration": 8,
    "start_time": "2023-02-28T14:06:21.087Z"
   },
   {
    "duration": 9,
    "start_time": "2023-02-28T14:06:29.730Z"
   },
   {
    "duration": 15,
    "start_time": "2023-02-28T14:06:39.868Z"
   },
   {
    "duration": 3,
    "start_time": "2023-02-28T14:06:40.769Z"
   },
   {
    "duration": 9,
    "start_time": "2023-02-28T14:06:41.219Z"
   },
   {
    "duration": 10,
    "start_time": "2023-02-28T14:06:44.546Z"
   },
   {
    "duration": 4227,
    "start_time": "2023-02-28T14:06:45.171Z"
   },
   {
    "duration": 1516,
    "start_time": "2023-02-28T14:07:01.200Z"
   },
   {
    "duration": 826,
    "start_time": "2023-02-28T14:07:02.718Z"
   },
   {
    "duration": 23,
    "start_time": "2023-02-28T14:07:03.546Z"
   },
   {
    "duration": 25,
    "start_time": "2023-02-28T14:07:03.570Z"
   },
   {
    "duration": 166,
    "start_time": "2023-02-28T14:07:03.598Z"
   },
   {
    "duration": 9,
    "start_time": "2023-02-28T14:07:03.767Z"
   },
   {
    "duration": 323,
    "start_time": "2023-02-28T14:07:03.778Z"
   },
   {
    "duration": 8,
    "start_time": "2023-02-28T14:07:04.103Z"
   },
   {
    "duration": 1763,
    "start_time": "2023-02-28T14:07:04.113Z"
   },
   {
    "duration": 5,
    "start_time": "2023-02-28T14:07:05.880Z"
   },
   {
    "duration": 13435,
    "start_time": "2023-02-28T14:07:05.891Z"
   },
   {
    "duration": 2838,
    "start_time": "2023-02-28T14:07:19.329Z"
   },
   {
    "duration": 3570,
    "start_time": "2023-02-28T14:07:22.170Z"
   },
   {
    "duration": 39,
    "start_time": "2023-02-28T14:07:25.751Z"
   },
   {
    "duration": 56,
    "start_time": "2023-02-28T14:07:25.793Z"
   },
   {
    "duration": 10,
    "start_time": "2023-02-28T14:07:25.860Z"
   },
   {
    "duration": 23,
    "start_time": "2023-02-28T14:07:25.872Z"
   },
   {
    "duration": 49,
    "start_time": "2023-02-28T14:07:25.896Z"
   },
   {
    "duration": 13,
    "start_time": "2023-02-28T14:07:25.949Z"
   },
   {
    "duration": 37,
    "start_time": "2023-02-28T14:07:25.965Z"
   },
   {
    "duration": 10,
    "start_time": "2023-02-28T14:07:26.005Z"
   },
   {
    "duration": 15,
    "start_time": "2023-02-28T14:07:26.018Z"
   },
   {
    "duration": 6,
    "start_time": "2023-02-28T14:07:26.036Z"
   },
   {
    "duration": 4450,
    "start_time": "2023-02-28T14:07:26.044Z"
   },
   {
    "duration": 14,
    "start_time": "2023-02-28T14:07:37.761Z"
   },
   {
    "duration": 20,
    "start_time": "2023-02-28T14:07:39.920Z"
   },
   {
    "duration": 8,
    "start_time": "2023-02-28T14:07:46.173Z"
   },
   {
    "duration": 15,
    "start_time": "2023-02-28T14:42:30.873Z"
   },
   {
    "duration": 21,
    "start_time": "2023-02-28T14:43:47.830Z"
   },
   {
    "duration": 5,
    "start_time": "2023-02-28T14:44:51.532Z"
   },
   {
    "duration": 28,
    "start_time": "2023-02-28T14:45:17.428Z"
   },
   {
    "duration": 11,
    "start_time": "2023-02-28T14:46:21.143Z"
   },
   {
    "duration": 28,
    "start_time": "2023-02-28T14:46:22.097Z"
   },
   {
    "duration": 1480,
    "start_time": "2023-02-28T14:56:21.737Z"
   },
   {
    "duration": 715,
    "start_time": "2023-02-28T14:56:23.219Z"
   },
   {
    "duration": 26,
    "start_time": "2023-02-28T14:56:23.936Z"
   },
   {
    "duration": 12,
    "start_time": "2023-02-28T14:56:23.965Z"
   },
   {
    "duration": 108,
    "start_time": "2023-02-28T14:56:23.979Z"
   },
   {
    "duration": 3,
    "start_time": "2023-02-28T14:56:24.089Z"
   },
   {
    "duration": 284,
    "start_time": "2023-02-28T14:56:24.093Z"
   },
   {
    "duration": 5,
    "start_time": "2023-02-28T14:56:24.378Z"
   },
   {
    "duration": 123,
    "start_time": "2023-02-28T14:56:24.385Z"
   },
   {
    "duration": 0,
    "start_time": "2023-02-28T14:56:24.510Z"
   },
   {
    "duration": 0,
    "start_time": "2023-02-28T14:56:24.511Z"
   },
   {
    "duration": 0,
    "start_time": "2023-02-28T14:56:24.512Z"
   },
   {
    "duration": 0,
    "start_time": "2023-02-28T14:56:24.513Z"
   },
   {
    "duration": 0,
    "start_time": "2023-02-28T14:56:24.514Z"
   },
   {
    "duration": 0,
    "start_time": "2023-02-28T14:56:24.515Z"
   },
   {
    "duration": 0,
    "start_time": "2023-02-28T14:56:24.516Z"
   },
   {
    "duration": 0,
    "start_time": "2023-02-28T14:56:24.517Z"
   },
   {
    "duration": 0,
    "start_time": "2023-02-28T14:56:24.518Z"
   },
   {
    "duration": 0,
    "start_time": "2023-02-28T14:56:24.519Z"
   },
   {
    "duration": 0,
    "start_time": "2023-02-28T14:56:24.519Z"
   },
   {
    "duration": 10,
    "start_time": "2023-02-28T14:56:59.105Z"
   },
   {
    "duration": 12,
    "start_time": "2023-02-28T14:57:02.349Z"
   },
   {
    "duration": 16,
    "start_time": "2023-02-28T14:57:12.247Z"
   },
   {
    "duration": 9,
    "start_time": "2023-02-28T14:57:52.225Z"
   },
   {
    "duration": 15,
    "start_time": "2023-02-28T14:58:01.931Z"
   },
   {
    "duration": 11,
    "start_time": "2023-02-28T14:58:48.603Z"
   },
   {
    "duration": 8,
    "start_time": "2023-02-28T14:59:07.625Z"
   },
   {
    "duration": 1408,
    "start_time": "2023-02-28T14:59:27.009Z"
   },
   {
    "duration": 685,
    "start_time": "2023-02-28T14:59:28.419Z"
   },
   {
    "duration": 21,
    "start_time": "2023-02-28T14:59:29.106Z"
   },
   {
    "duration": 25,
    "start_time": "2023-02-28T14:59:29.129Z"
   },
   {
    "duration": 112,
    "start_time": "2023-02-28T14:59:29.157Z"
   },
   {
    "duration": 3,
    "start_time": "2023-02-28T14:59:29.271Z"
   },
   {
    "duration": 302,
    "start_time": "2023-02-28T14:59:29.276Z"
   },
   {
    "duration": 5,
    "start_time": "2023-02-28T14:59:29.580Z"
   },
   {
    "duration": 11,
    "start_time": "2023-02-28T14:59:29.587Z"
   },
   {
    "duration": 7,
    "start_time": "2023-02-28T14:59:29.599Z"
   },
   {
    "duration": 8,
    "start_time": "2023-02-28T14:59:29.608Z"
   },
   {
    "duration": 746,
    "start_time": "2023-02-28T14:59:29.618Z"
   },
   {
    "duration": 0,
    "start_time": "2023-02-28T14:59:30.367Z"
   },
   {
    "duration": 0,
    "start_time": "2023-02-28T14:59:30.369Z"
   },
   {
    "duration": 0,
    "start_time": "2023-02-28T14:59:30.370Z"
   },
   {
    "duration": 0,
    "start_time": "2023-02-28T14:59:30.371Z"
   },
   {
    "duration": 0,
    "start_time": "2023-02-28T14:59:30.372Z"
   },
   {
    "duration": 0,
    "start_time": "2023-02-28T14:59:30.373Z"
   },
   {
    "duration": 0,
    "start_time": "2023-02-28T14:59:30.374Z"
   },
   {
    "duration": 0,
    "start_time": "2023-02-28T14:59:30.375Z"
   },
   {
    "duration": 1414,
    "start_time": "2023-02-28T15:01:51.499Z"
   },
   {
    "duration": 686,
    "start_time": "2023-02-28T15:01:52.915Z"
   },
   {
    "duration": 22,
    "start_time": "2023-02-28T15:01:53.603Z"
   },
   {
    "duration": 29,
    "start_time": "2023-02-28T15:01:53.626Z"
   },
   {
    "duration": 115,
    "start_time": "2023-02-28T15:01:53.657Z"
   },
   {
    "duration": 4,
    "start_time": "2023-02-28T15:01:53.773Z"
   },
   {
    "duration": 318,
    "start_time": "2023-02-28T15:01:53.779Z"
   },
   {
    "duration": 6,
    "start_time": "2023-02-28T15:01:54.100Z"
   },
   {
    "duration": 12,
    "start_time": "2023-02-28T15:01:54.108Z"
   },
   {
    "duration": 12869,
    "start_time": "2023-02-28T15:01:54.122Z"
   },
   {
    "duration": 2462,
    "start_time": "2023-02-28T15:02:06.993Z"
   },
   {
    "duration": 3116,
    "start_time": "2023-02-28T15:02:09.457Z"
   },
   {
    "duration": 25,
    "start_time": "2023-02-28T15:02:12.574Z"
   },
   {
    "duration": 19,
    "start_time": "2023-02-28T15:02:12.601Z"
   },
   {
    "duration": 131,
    "start_time": "2023-02-28T15:02:12.622Z"
   },
   {
    "duration": 0,
    "start_time": "2023-02-28T15:02:12.754Z"
   },
   {
    "duration": 0,
    "start_time": "2023-02-28T15:02:12.756Z"
   },
   {
    "duration": 0,
    "start_time": "2023-02-28T15:02:12.757Z"
   },
   {
    "duration": 10,
    "start_time": "2023-02-28T15:02:36.234Z"
   },
   {
    "duration": 3,
    "start_time": "2023-02-28T15:02:44.249Z"
   },
   {
    "duration": 21,
    "start_time": "2023-02-28T15:02:45.364Z"
   },
   {
    "duration": 13,
    "start_time": "2023-02-28T15:02:48.984Z"
   },
   {
    "duration": 40,
    "start_time": "2023-02-28T15:04:43.615Z"
   },
   {
    "duration": 4,
    "start_time": "2023-02-28T15:06:43.575Z"
   },
   {
    "duration": 1416,
    "start_time": "2023-02-28T15:08:41.565Z"
   },
   {
    "duration": 669,
    "start_time": "2023-02-28T15:08:42.983Z"
   },
   {
    "duration": 20,
    "start_time": "2023-02-28T15:08:43.653Z"
   },
   {
    "duration": 13,
    "start_time": "2023-02-28T15:08:43.675Z"
   },
   {
    "duration": 118,
    "start_time": "2023-02-28T15:08:43.690Z"
   },
   {
    "duration": 4,
    "start_time": "2023-02-28T15:08:43.809Z"
   },
   {
    "duration": 444,
    "start_time": "2023-02-28T15:08:43.814Z"
   },
   {
    "duration": 6,
    "start_time": "2023-02-28T15:08:44.259Z"
   },
   {
    "duration": 8,
    "start_time": "2023-02-28T15:08:44.266Z"
   },
   {
    "duration": 13093,
    "start_time": "2023-02-28T15:08:44.276Z"
   },
   {
    "duration": 2516,
    "start_time": "2023-02-28T15:08:57.371Z"
   },
   {
    "duration": 3163,
    "start_time": "2023-02-28T15:08:59.891Z"
   },
   {
    "duration": 27,
    "start_time": "2023-02-28T15:09:03.056Z"
   },
   {
    "duration": 41,
    "start_time": "2023-02-28T15:09:03.086Z"
   },
   {
    "duration": 4,
    "start_time": "2023-02-28T15:09:03.129Z"
   },
   {
    "duration": 51,
    "start_time": "2023-02-28T15:09:03.136Z"
   },
   {
    "duration": 47,
    "start_time": "2023-02-28T15:09:03.190Z"
   },
   {
    "duration": 71,
    "start_time": "2023-02-28T15:09:03.239Z"
   },
   {
    "duration": 16,
    "start_time": "2023-02-28T15:09:03.312Z"
   },
   {
    "duration": 214,
    "start_time": "2023-02-28T15:09:03.330Z"
   },
   {
    "duration": 118,
    "start_time": "2023-02-28T15:09:03.546Z"
   },
   {
    "duration": 12,
    "start_time": "2023-02-28T15:10:18.162Z"
   },
   {
    "duration": 126,
    "start_time": "2023-02-28T15:10:28.527Z"
   },
   {
    "duration": 4,
    "start_time": "2023-02-28T15:11:45.465Z"
   },
   {
    "duration": 133,
    "start_time": "2023-02-28T15:11:45.748Z"
   },
   {
    "duration": 1414,
    "start_time": "2023-02-28T15:14:27.076Z"
   },
   {
    "duration": 732,
    "start_time": "2023-02-28T15:14:28.493Z"
   },
   {
    "duration": 27,
    "start_time": "2023-02-28T15:14:29.226Z"
   },
   {
    "duration": 13,
    "start_time": "2023-02-28T15:14:29.262Z"
   },
   {
    "duration": 106,
    "start_time": "2023-02-28T15:14:29.277Z"
   },
   {
    "duration": 4,
    "start_time": "2023-02-28T15:14:29.384Z"
   },
   {
    "duration": 288,
    "start_time": "2023-02-28T15:14:29.390Z"
   },
   {
    "duration": 6,
    "start_time": "2023-02-28T15:14:29.680Z"
   },
   {
    "duration": 7,
    "start_time": "2023-02-28T15:14:29.688Z"
   },
   {
    "duration": 12897,
    "start_time": "2023-02-28T15:14:29.696Z"
   },
   {
    "duration": 2524,
    "start_time": "2023-02-28T15:14:42.595Z"
   },
   {
    "duration": 3348,
    "start_time": "2023-02-28T15:14:45.120Z"
   },
   {
    "duration": 26,
    "start_time": "2023-02-28T15:14:48.470Z"
   },
   {
    "duration": 24,
    "start_time": "2023-02-28T15:14:48.498Z"
   },
   {
    "duration": 4,
    "start_time": "2023-02-28T15:14:48.523Z"
   },
   {
    "duration": 20,
    "start_time": "2023-02-28T15:14:48.549Z"
   },
   {
    "duration": 21,
    "start_time": "2023-02-28T15:14:48.571Z"
   },
   {
    "duration": 61,
    "start_time": "2023-02-28T15:14:48.594Z"
   },
   {
    "duration": 5,
    "start_time": "2023-02-28T15:14:48.658Z"
   },
   {
    "duration": 143,
    "start_time": "2023-02-28T15:14:48.665Z"
   },
   {
    "duration": 131,
    "start_time": "2023-02-28T15:14:48.809Z"
   },
   {
    "duration": 104,
    "start_time": "2023-02-28T15:16:08.165Z"
   },
   {
    "duration": 160,
    "start_time": "2023-02-28T15:16:21.227Z"
   },
   {
    "duration": 8,
    "start_time": "2023-02-28T15:16:25.256Z"
   },
   {
    "duration": 158,
    "start_time": "2023-02-28T15:16:25.729Z"
   },
   {
    "duration": 22,
    "start_time": "2023-02-28T15:16:27.119Z"
   },
   {
    "duration": 4,
    "start_time": "2023-02-28T15:17:11.190Z"
   },
   {
    "duration": 1395,
    "start_time": "2023-02-28T15:17:19.172Z"
   },
   {
    "duration": 729,
    "start_time": "2023-02-28T15:17:20.571Z"
   },
   {
    "duration": 19,
    "start_time": "2023-02-28T15:17:21.302Z"
   },
   {
    "duration": 13,
    "start_time": "2023-02-28T15:17:21.323Z"
   },
   {
    "duration": 138,
    "start_time": "2023-02-28T15:17:21.338Z"
   },
   {
    "duration": 3,
    "start_time": "2023-02-28T15:17:21.477Z"
   },
   {
    "duration": 287,
    "start_time": "2023-02-28T15:17:21.481Z"
   },
   {
    "duration": 5,
    "start_time": "2023-02-28T15:17:21.770Z"
   },
   {
    "duration": 27,
    "start_time": "2023-02-28T15:17:21.777Z"
   },
   {
    "duration": 12740,
    "start_time": "2023-02-28T15:17:21.806Z"
   },
   {
    "duration": 2655,
    "start_time": "2023-02-28T15:17:34.547Z"
   },
   {
    "duration": 3101,
    "start_time": "2023-02-28T15:17:37.204Z"
   },
   {
    "duration": 24,
    "start_time": "2023-02-28T15:17:40.307Z"
   },
   {
    "duration": 35,
    "start_time": "2023-02-28T15:17:40.333Z"
   },
   {
    "duration": 9,
    "start_time": "2023-02-28T15:17:40.370Z"
   },
   {
    "duration": 17,
    "start_time": "2023-02-28T15:17:40.381Z"
   },
   {
    "duration": 10,
    "start_time": "2023-02-28T15:17:40.399Z"
   },
   {
    "duration": 53,
    "start_time": "2023-02-28T15:17:40.411Z"
   },
   {
    "duration": 3,
    "start_time": "2023-02-28T15:17:40.466Z"
   },
   {
    "duration": 125,
    "start_time": "2023-02-28T15:17:40.470Z"
   },
   {
    "duration": 127,
    "start_time": "2023-02-28T15:17:40.596Z"
   },
   {
    "duration": 4,
    "start_time": "2023-02-28T15:18:16.981Z"
   },
   {
    "duration": 76,
    "start_time": "2023-02-28T15:23:57.276Z"
   },
   {
    "duration": 1536,
    "start_time": "2023-02-28T15:24:01.625Z"
   },
   {
    "duration": 807,
    "start_time": "2023-02-28T15:24:03.165Z"
   },
   {
    "duration": 21,
    "start_time": "2023-02-28T15:24:03.978Z"
   },
   {
    "duration": 14,
    "start_time": "2023-02-28T15:24:04.001Z"
   },
   {
    "duration": 124,
    "start_time": "2023-02-28T15:24:04.017Z"
   },
   {
    "duration": 105,
    "start_time": "2023-02-28T15:24:04.151Z"
   },
   {
    "duration": 4,
    "start_time": "2023-02-28T15:24:04.258Z"
   },
   {
    "duration": 306,
    "start_time": "2023-02-28T15:24:04.263Z"
   },
   {
    "duration": 5,
    "start_time": "2023-02-28T15:24:04.576Z"
   },
   {
    "duration": 5,
    "start_time": "2023-02-28T15:24:04.582Z"
   },
   {
    "duration": 12851,
    "start_time": "2023-02-28T15:24:04.588Z"
   },
   {
    "duration": 2655,
    "start_time": "2023-02-28T15:24:17.441Z"
   },
   {
    "duration": 3275,
    "start_time": "2023-02-28T15:24:20.098Z"
   },
   {
    "duration": 22,
    "start_time": "2023-02-28T15:24:23.377Z"
   },
   {
    "duration": 23,
    "start_time": "2023-02-28T15:24:23.400Z"
   },
   {
    "duration": 23,
    "start_time": "2023-02-28T15:24:23.425Z"
   },
   {
    "duration": 25,
    "start_time": "2023-02-28T15:24:23.453Z"
   },
   {
    "duration": 23,
    "start_time": "2023-02-28T15:24:23.480Z"
   },
   {
    "duration": 38,
    "start_time": "2023-02-28T15:24:23.505Z"
   },
   {
    "duration": 10,
    "start_time": "2023-02-28T15:24:23.548Z"
   },
   {
    "duration": 1462,
    "start_time": "2023-02-28T15:25:51.239Z"
   },
   {
    "duration": 798,
    "start_time": "2023-02-28T15:25:52.703Z"
   },
   {
    "duration": 21,
    "start_time": "2023-02-28T15:25:53.503Z"
   },
   {
    "duration": 25,
    "start_time": "2023-02-28T15:25:53.527Z"
   },
   {
    "duration": 120,
    "start_time": "2023-02-28T15:25:53.553Z"
   },
   {
    "duration": 105,
    "start_time": "2023-02-28T15:25:53.674Z"
   },
   {
    "duration": 3,
    "start_time": "2023-02-28T15:25:53.781Z"
   },
   {
    "duration": 312,
    "start_time": "2023-02-28T15:25:53.786Z"
   },
   {
    "duration": 6,
    "start_time": "2023-02-28T15:25:54.100Z"
   },
   {
    "duration": 8,
    "start_time": "2023-02-28T15:25:54.109Z"
   },
   {
    "duration": 12618,
    "start_time": "2023-02-28T15:25:54.118Z"
   },
   {
    "duration": 2494,
    "start_time": "2023-02-28T15:26:06.738Z"
   },
   {
    "duration": 3406,
    "start_time": "2023-02-28T15:26:09.234Z"
   },
   {
    "duration": 34,
    "start_time": "2023-02-28T15:26:12.642Z"
   },
   {
    "duration": 22,
    "start_time": "2023-02-28T15:26:12.677Z"
   },
   {
    "duration": 3,
    "start_time": "2023-02-28T15:26:12.701Z"
   },
   {
    "duration": 16,
    "start_time": "2023-02-28T15:26:12.706Z"
   },
   {
    "duration": 39,
    "start_time": "2023-02-28T15:26:12.725Z"
   },
   {
    "duration": 36,
    "start_time": "2023-02-28T15:26:12.766Z"
   },
   {
    "duration": 3,
    "start_time": "2023-02-28T15:26:12.804Z"
   },
   {
    "duration": 253448,
    "start_time": "2023-02-28T15:26:12.809Z"
   },
   {
    "duration": 127,
    "start_time": "2023-02-28T15:30:26.259Z"
   },
   {
    "duration": 0,
    "start_time": "2023-02-28T15:30:26.388Z"
   },
   {
    "duration": 1384,
    "start_time": "2023-02-28T15:33:07.990Z"
   },
   {
    "duration": 724,
    "start_time": "2023-02-28T15:33:09.377Z"
   },
   {
    "duration": 21,
    "start_time": "2023-02-28T15:33:10.105Z"
   },
   {
    "duration": 28,
    "start_time": "2023-02-28T15:33:10.128Z"
   },
   {
    "duration": 112,
    "start_time": "2023-02-28T15:33:10.158Z"
   },
   {
    "duration": 102,
    "start_time": "2023-02-28T15:33:10.271Z"
   },
   {
    "duration": 4,
    "start_time": "2023-02-28T15:33:10.375Z"
   },
   {
    "duration": 303,
    "start_time": "2023-02-28T15:33:10.382Z"
   },
   {
    "duration": 5,
    "start_time": "2023-02-28T15:33:10.687Z"
   },
   {
    "duration": 6,
    "start_time": "2023-02-28T15:33:10.694Z"
   },
   {
    "duration": 12399,
    "start_time": "2023-02-28T15:33:10.702Z"
   },
   {
    "duration": 2591,
    "start_time": "2023-02-28T15:33:23.103Z"
   },
   {
    "duration": 3177,
    "start_time": "2023-02-28T15:33:25.696Z"
   },
   {
    "duration": 23,
    "start_time": "2023-02-28T15:33:28.875Z"
   },
   {
    "duration": 22,
    "start_time": "2023-02-28T15:33:28.899Z"
   },
   {
    "duration": 4,
    "start_time": "2023-02-28T15:33:28.923Z"
   },
   {
    "duration": 34,
    "start_time": "2023-02-28T15:33:28.928Z"
   },
   {
    "duration": 14,
    "start_time": "2023-02-28T15:33:28.964Z"
   },
   {
    "duration": 37,
    "start_time": "2023-02-28T15:33:28.979Z"
   },
   {
    "duration": 3,
    "start_time": "2023-02-28T15:33:29.018Z"
   },
   {
    "duration": 1404,
    "start_time": "2023-02-28T15:34:34.957Z"
   },
   {
    "duration": 708,
    "start_time": "2023-02-28T15:34:36.363Z"
   },
   {
    "duration": 29,
    "start_time": "2023-02-28T15:34:37.073Z"
   },
   {
    "duration": 14,
    "start_time": "2023-02-28T15:34:37.103Z"
   },
   {
    "duration": 120,
    "start_time": "2023-02-28T15:34:37.119Z"
   },
   {
    "duration": 99,
    "start_time": "2023-02-28T15:34:37.241Z"
   },
   {
    "duration": 4,
    "start_time": "2023-02-28T15:34:37.341Z"
   },
   {
    "duration": 368,
    "start_time": "2023-02-28T15:34:37.348Z"
   },
   {
    "duration": 4,
    "start_time": "2023-02-28T15:34:37.718Z"
   },
   {
    "duration": 7,
    "start_time": "2023-02-28T15:34:37.724Z"
   },
   {
    "duration": 12337,
    "start_time": "2023-02-28T15:34:37.733Z"
   },
   {
    "duration": 2525,
    "start_time": "2023-02-28T15:34:50.072Z"
   },
   {
    "duration": 3237,
    "start_time": "2023-02-28T15:34:52.599Z"
   },
   {
    "duration": 24,
    "start_time": "2023-02-28T15:34:55.847Z"
   },
   {
    "duration": 22,
    "start_time": "2023-02-28T15:34:55.873Z"
   },
   {
    "duration": 3,
    "start_time": "2023-02-28T15:34:55.897Z"
   },
   {
    "duration": 23,
    "start_time": "2023-02-28T15:34:55.902Z"
   },
   {
    "duration": 29,
    "start_time": "2023-02-28T15:34:55.926Z"
   },
   {
    "duration": 37,
    "start_time": "2023-02-28T15:34:55.956Z"
   },
   {
    "duration": 3,
    "start_time": "2023-02-28T15:34:55.995Z"
   },
   {
    "duration": 321261,
    "start_time": "2023-02-28T15:34:56.000Z"
   },
   {
    "duration": 6,
    "start_time": "2023-02-28T15:40:17.263Z"
   },
   {
    "duration": 9,
    "start_time": "2023-02-28T15:40:17.271Z"
   },
   {
    "duration": 88,
    "start_time": "2023-02-28T15:40:59.491Z"
   },
   {
    "duration": 112,
    "start_time": "2023-02-28T15:44:53.407Z"
   },
   {
    "duration": 1384,
    "start_time": "2023-02-28T15:46:36.834Z"
   },
   {
    "duration": 669,
    "start_time": "2023-02-28T15:46:38.219Z"
   },
   {
    "duration": 17,
    "start_time": "2023-02-28T15:46:38.890Z"
   },
   {
    "duration": 12,
    "start_time": "2023-02-28T15:46:38.909Z"
   },
   {
    "duration": 115,
    "start_time": "2023-02-28T15:46:38.922Z"
   },
   {
    "duration": 93,
    "start_time": "2023-02-28T15:46:39.038Z"
   },
   {
    "duration": 4,
    "start_time": "2023-02-28T15:46:39.132Z"
   },
   {
    "duration": 252,
    "start_time": "2023-02-28T15:46:39.137Z"
   },
   {
    "duration": 6,
    "start_time": "2023-02-28T15:46:39.391Z"
   },
   {
    "duration": 7,
    "start_time": "2023-02-28T15:46:39.398Z"
   },
   {
    "duration": 11792,
    "start_time": "2023-02-28T15:46:39.406Z"
   },
   {
    "duration": 2458,
    "start_time": "2023-02-28T15:46:51.200Z"
   },
   {
    "duration": 3217,
    "start_time": "2023-02-28T15:46:53.660Z"
   },
   {
    "duration": 27,
    "start_time": "2023-02-28T15:46:56.880Z"
   },
   {
    "duration": 22,
    "start_time": "2023-02-28T15:46:56.908Z"
   },
   {
    "duration": 16,
    "start_time": "2023-02-28T15:46:56.932Z"
   },
   {
    "duration": 16,
    "start_time": "2023-02-28T15:46:56.950Z"
   },
   {
    "duration": 11,
    "start_time": "2023-02-28T15:46:56.968Z"
   },
   {
    "duration": 33,
    "start_time": "2023-02-28T15:46:56.980Z"
   },
   {
    "duration": 3,
    "start_time": "2023-02-28T15:46:57.015Z"
   },
   {
    "duration": 140,
    "start_time": "2023-02-28T15:46:57.019Z"
   },
   {
    "duration": 0,
    "start_time": "2023-02-28T15:46:57.161Z"
   },
   {
    "duration": 0,
    "start_time": "2023-02-28T15:46:57.162Z"
   },
   {
    "duration": 228887,
    "start_time": "2023-02-28T15:48:00.524Z"
   },
   {
    "duration": 6,
    "start_time": "2023-02-28T15:51:49.412Z"
   },
   {
    "duration": 5,
    "start_time": "2023-02-28T15:51:49.419Z"
   },
   {
    "duration": 20,
    "start_time": "2023-02-28T15:52:21.207Z"
   },
   {
    "duration": 1422,
    "start_time": "2023-02-28T15:53:14.628Z"
   },
   {
    "duration": 673,
    "start_time": "2023-02-28T15:53:16.052Z"
   },
   {
    "duration": 22,
    "start_time": "2023-02-28T15:53:16.727Z"
   },
   {
    "duration": 13,
    "start_time": "2023-02-28T15:53:16.751Z"
   },
   {
    "duration": 106,
    "start_time": "2023-02-28T15:53:16.765Z"
   },
   {
    "duration": 91,
    "start_time": "2023-02-28T15:53:16.872Z"
   },
   {
    "duration": 3,
    "start_time": "2023-02-28T15:53:16.965Z"
   },
   {
    "duration": 243,
    "start_time": "2023-02-28T15:53:16.969Z"
   },
   {
    "duration": 6,
    "start_time": "2023-02-28T15:53:17.215Z"
   },
   {
    "duration": 4,
    "start_time": "2023-02-28T15:53:17.222Z"
   },
   {
    "duration": 12117,
    "start_time": "2023-02-28T15:53:17.227Z"
   },
   {
    "duration": 2391,
    "start_time": "2023-02-28T15:53:29.348Z"
   },
   {
    "duration": 3139,
    "start_time": "2023-02-28T15:53:31.740Z"
   },
   {
    "duration": 21,
    "start_time": "2023-02-28T15:53:34.882Z"
   },
   {
    "duration": 23,
    "start_time": "2023-02-28T15:53:34.905Z"
   },
   {
    "duration": 3,
    "start_time": "2023-02-28T15:53:34.930Z"
   },
   {
    "duration": 24,
    "start_time": "2023-02-28T15:53:34.948Z"
   },
   {
    "duration": 35,
    "start_time": "2023-02-28T15:53:34.973Z"
   },
   {
    "duration": 43,
    "start_time": "2023-02-28T15:53:35.009Z"
   },
   {
    "duration": 22,
    "start_time": "2023-02-28T15:53:35.054Z"
   },
   {
    "duration": 227442,
    "start_time": "2023-02-28T15:53:35.078Z"
   },
   {
    "duration": 11,
    "start_time": "2023-02-28T15:57:22.522Z"
   },
   {
    "duration": 29,
    "start_time": "2023-02-28T15:57:22.535Z"
   },
   {
    "duration": 2,
    "start_time": "2023-02-28T16:03:18.924Z"
   },
   {
    "duration": 110,
    "start_time": "2023-02-28T16:03:19.783Z"
   },
   {
    "duration": 5,
    "start_time": "2023-02-28T16:04:44.792Z"
   },
   {
    "duration": 7,
    "start_time": "2023-02-28T16:04:46.068Z"
   },
   {
    "duration": 7164,
    "start_time": "2023-02-28T16:04:46.693Z"
   },
   {
    "duration": 1088,
    "start_time": "2023-02-28T16:04:53.860Z"
   },
   {
    "duration": 9875,
    "start_time": "2023-02-28T16:09:33.284Z"
   },
   {
    "duration": 93,
    "start_time": "2023-02-28T16:09:43.161Z"
   },
   {
    "duration": 0,
    "start_time": "2023-02-28T16:09:43.256Z"
   },
   {
    "duration": 8205,
    "start_time": "2023-02-28T16:10:16.049Z"
   },
   {
    "duration": 1096,
    "start_time": "2023-02-28T16:10:24.258Z"
   },
   {
    "duration": 0,
    "start_time": "2023-02-28T16:10:25.356Z"
   },
   {
    "duration": 1191,
    "start_time": "2023-02-28T16:10:40.259Z"
   },
   {
    "duration": 941,
    "start_time": "2023-02-28T16:10:45.108Z"
   },
   {
    "duration": 96,
    "start_time": "2023-02-28T16:10:46.051Z"
   },
   {
    "duration": 4988,
    "start_time": "2023-02-28T16:12:26.260Z"
   },
   {
    "duration": 9098,
    "start_time": "2023-02-28T16:12:31.257Z"
   },
   {
    "duration": 4,
    "start_time": "2023-02-28T16:12:40.447Z"
   },
   {
    "duration": 3,
    "start_time": "2023-02-28T16:16:52.085Z"
   },
   {
    "duration": 26740,
    "start_time": "2023-02-28T16:16:52.854Z"
   },
   {
    "duration": 34901,
    "start_time": "2023-02-28T16:17:19.596Z"
   },
   {
    "duration": 0,
    "start_time": "2023-02-28T16:17:54.498Z"
   },
   {
    "duration": 35421,
    "start_time": "2023-02-28T16:18:13.078Z"
   },
   {
    "duration": 4,
    "start_time": "2023-02-28T16:18:48.501Z"
   },
   {
    "duration": 3,
    "start_time": "2023-02-28T16:21:34.499Z"
   },
   {
    "duration": 329011,
    "start_time": "2023-02-28T16:21:34.780Z"
   },
   {
    "duration": 422397,
    "start_time": "2023-02-28T16:27:03.793Z"
   },
   {
    "duration": 3,
    "start_time": "2023-02-28T16:34:06.192Z"
   },
   {
    "duration": 37,
    "start_time": "2023-02-28T16:34:06.247Z"
   },
   {
    "duration": 194,
    "start_time": "2023-02-28T16:34:06.285Z"
   },
   {
    "duration": 1362,
    "start_time": "2023-02-28T16:41:21.467Z"
   },
   {
    "duration": 714,
    "start_time": "2023-02-28T16:41:22.831Z"
   },
   {
    "duration": 20,
    "start_time": "2023-02-28T16:41:23.547Z"
   },
   {
    "duration": 13,
    "start_time": "2023-02-28T16:41:23.569Z"
   },
   {
    "duration": 122,
    "start_time": "2023-02-28T16:41:23.583Z"
   },
   {
    "duration": 104,
    "start_time": "2023-02-28T16:41:23.706Z"
   },
   {
    "duration": 4,
    "start_time": "2023-02-28T16:41:23.812Z"
   },
   {
    "duration": 278,
    "start_time": "2023-02-28T16:41:23.818Z"
   },
   {
    "duration": 7,
    "start_time": "2023-02-28T16:41:24.097Z"
   },
   {
    "duration": 5,
    "start_time": "2023-02-28T16:41:24.107Z"
   },
   {
    "duration": 12343,
    "start_time": "2023-02-28T16:41:24.114Z"
   },
   {
    "duration": 2673,
    "start_time": "2023-02-28T16:41:36.458Z"
   },
   {
    "duration": 3021,
    "start_time": "2023-02-28T16:41:39.133Z"
   },
   {
    "duration": 24,
    "start_time": "2023-02-28T16:41:42.155Z"
   },
   {
    "duration": 22,
    "start_time": "2023-02-28T16:41:42.181Z"
   },
   {
    "duration": 4,
    "start_time": "2023-02-28T16:41:42.205Z"
   },
   {
    "duration": 42,
    "start_time": "2023-02-28T16:41:42.211Z"
   },
   {
    "duration": 16,
    "start_time": "2023-02-28T16:41:42.255Z"
   },
   {
    "duration": 38,
    "start_time": "2023-02-28T16:41:42.274Z"
   },
   {
    "duration": 3,
    "start_time": "2023-02-28T16:41:42.314Z"
   },
   {
    "duration": 243861,
    "start_time": "2023-02-28T16:41:42.319Z"
   },
   {
    "duration": 13,
    "start_time": "2023-02-28T16:45:46.182Z"
   },
   {
    "duration": 10,
    "start_time": "2023-02-28T16:45:46.197Z"
   },
   {
    "duration": 6,
    "start_time": "2023-02-28T16:45:46.209Z"
   },
   {
    "duration": 9238,
    "start_time": "2023-02-28T16:45:46.216Z"
   },
   {
    "duration": 10492,
    "start_time": "2023-02-28T16:45:55.457Z"
   },
   {
    "duration": 4,
    "start_time": "2023-02-28T16:46:05.952Z"
   },
   {
    "duration": 87,
    "start_time": "2023-02-28T16:46:05.961Z"
   },
   {
    "duration": 26616,
    "start_time": "2023-02-28T16:46:06.050Z"
   },
   {
    "duration": 36097,
    "start_time": "2023-02-28T16:46:32.668Z"
   },
   {
    "duration": 3,
    "start_time": "2023-02-28T16:47:08.767Z"
   },
   {
    "duration": 10,
    "start_time": "2023-02-28T16:47:08.772Z"
   },
   {
    "duration": 340095,
    "start_time": "2023-02-28T16:47:08.784Z"
   },
   {
    "duration": 422576,
    "start_time": "2023-02-28T16:52:48.880Z"
   },
   {
    "duration": 3,
    "start_time": "2023-02-28T16:59:51.458Z"
   },
   {
    "duration": 41,
    "start_time": "2023-02-28T16:59:51.462Z"
   },
   {
    "duration": 92,
    "start_time": "2023-02-28T16:59:51.504Z"
   },
   {
    "duration": 92,
    "start_time": "2023-02-28T17:07:34.997Z"
   },
   {
    "duration": 143,
    "start_time": "2023-02-28T17:08:53.391Z"
   },
   {
    "duration": 38,
    "start_time": "2023-02-28T17:08:57.898Z"
   },
   {
    "duration": 1836,
    "start_time": "2023-02-28T17:09:09.619Z"
   },
   {
    "duration": 87,
    "start_time": "2023-02-28T17:09:17.569Z"
   },
   {
    "duration": 1345,
    "start_time": "2023-02-28T17:12:00.986Z"
   },
   {
    "duration": 687,
    "start_time": "2023-02-28T17:12:02.333Z"
   },
   {
    "duration": 27,
    "start_time": "2023-02-28T17:12:03.024Z"
   },
   {
    "duration": 14,
    "start_time": "2023-02-28T17:12:03.052Z"
   },
   {
    "duration": 112,
    "start_time": "2023-02-28T17:12:03.068Z"
   },
   {
    "duration": 90,
    "start_time": "2023-02-28T17:12:03.181Z"
   },
   {
    "duration": 4,
    "start_time": "2023-02-28T17:12:03.272Z"
   },
   {
    "duration": 251,
    "start_time": "2023-02-28T17:12:03.277Z"
   },
   {
    "duration": 7,
    "start_time": "2023-02-28T17:12:03.531Z"
   },
   {
    "duration": 10,
    "start_time": "2023-02-28T17:12:03.539Z"
   },
   {
    "duration": 12123,
    "start_time": "2023-02-28T17:12:03.551Z"
   },
   {
    "duration": 2376,
    "start_time": "2023-02-28T17:12:15.676Z"
   },
   {
    "duration": 3105,
    "start_time": "2023-02-28T17:12:18.054Z"
   },
   {
    "duration": 22,
    "start_time": "2023-02-28T17:12:21.161Z"
   },
   {
    "duration": 22,
    "start_time": "2023-02-28T17:12:21.185Z"
   },
   {
    "duration": 4,
    "start_time": "2023-02-28T17:12:21.209Z"
   },
   {
    "duration": 38,
    "start_time": "2023-02-28T17:12:21.214Z"
   },
   {
    "duration": 12,
    "start_time": "2023-02-28T17:12:21.254Z"
   },
   {
    "duration": 34,
    "start_time": "2023-02-28T17:12:21.267Z"
   },
   {
    "duration": 3,
    "start_time": "2023-02-28T17:12:21.302Z"
   },
   {
    "duration": 226626,
    "start_time": "2023-02-28T17:12:21.306Z"
   },
   {
    "duration": 14,
    "start_time": "2023-02-28T17:16:07.934Z"
   },
   {
    "duration": 4,
    "start_time": "2023-02-28T17:16:07.950Z"
   },
   {
    "duration": 9,
    "start_time": "2023-02-28T17:16:07.956Z"
   },
   {
    "duration": 6580,
    "start_time": "2023-02-28T17:16:07.967Z"
   },
   {
    "duration": 9500,
    "start_time": "2023-02-28T17:16:14.549Z"
   },
   {
    "duration": 3,
    "start_time": "2023-02-28T17:16:24.053Z"
   },
   {
    "duration": 12,
    "start_time": "2023-02-28T17:16:24.058Z"
   },
   {
    "duration": 24341,
    "start_time": "2023-02-28T17:16:24.072Z"
   },
   {
    "duration": 32839,
    "start_time": "2023-02-28T17:16:48.415Z"
   },
   {
    "duration": 3,
    "start_time": "2023-02-28T17:17:21.256Z"
   },
   {
    "duration": 9,
    "start_time": "2023-02-28T17:17:21.261Z"
   },
   {
    "duration": 320093,
    "start_time": "2023-02-28T17:17:21.271Z"
   },
   {
    "duration": 395910,
    "start_time": "2023-02-28T17:22:41.365Z"
   },
   {
    "duration": 3,
    "start_time": "2023-02-28T17:29:17.276Z"
   },
   {
    "duration": 1771,
    "start_time": "2023-02-28T17:29:17.281Z"
   },
   {
    "duration": 209,
    "start_time": "2023-02-28T17:29:19.054Z"
   },
   {
    "duration": 1574,
    "start_time": "2023-03-01T21:54:14.172Z"
   },
   {
    "duration": 2126,
    "start_time": "2023-03-01T21:54:15.748Z"
   },
   {
    "duration": 21,
    "start_time": "2023-03-01T21:54:17.878Z"
   },
   {
    "duration": 14,
    "start_time": "2023-03-01T21:54:17.901Z"
   },
   {
    "duration": 120,
    "start_time": "2023-03-01T21:54:17.917Z"
   },
   {
    "duration": 83,
    "start_time": "2023-03-01T21:54:18.039Z"
   },
   {
    "duration": 3,
    "start_time": "2023-03-01T21:54:18.125Z"
   },
   {
    "duration": 278,
    "start_time": "2023-03-01T21:54:18.130Z"
   },
   {
    "duration": 6,
    "start_time": "2023-03-01T21:54:18.410Z"
   },
   {
    "duration": 16,
    "start_time": "2023-03-01T21:54:18.417Z"
   },
   {
    "duration": 11638,
    "start_time": "2023-03-01T21:54:18.434Z"
   },
   {
    "duration": 2331,
    "start_time": "2023-03-01T21:54:30.074Z"
   },
   {
    "duration": 3004,
    "start_time": "2023-03-01T21:54:32.407Z"
   },
   {
    "duration": 21,
    "start_time": "2023-03-01T21:54:35.412Z"
   },
   {
    "duration": 18,
    "start_time": "2023-03-01T21:54:35.435Z"
   },
   {
    "duration": 4,
    "start_time": "2023-03-01T21:54:35.454Z"
   },
   {
    "duration": 35,
    "start_time": "2023-03-01T21:54:35.459Z"
   },
   {
    "duration": 12,
    "start_time": "2023-03-01T21:54:35.495Z"
   },
   {
    "duration": 26,
    "start_time": "2023-03-01T21:54:35.508Z"
   },
   {
    "duration": 3,
    "start_time": "2023-03-01T21:54:35.536Z"
   },
   {
    "duration": 10,
    "start_time": "2023-03-01T21:59:06.197Z"
   },
   {
    "duration": 4,
    "start_time": "2023-03-01T21:59:06.209Z"
   },
   {
    "duration": 4,
    "start_time": "2023-03-01T21:59:06.214Z"
   },
   {
    "duration": 6368,
    "start_time": "2023-03-01T21:59:06.219Z"
   },
   {
    "duration": 9198,
    "start_time": "2023-03-01T21:59:12.588Z"
   },
   {
    "duration": 4,
    "start_time": "2023-03-01T21:59:21.791Z"
   },
   {
    "duration": 4,
    "start_time": "2023-03-01T21:59:21.887Z"
   },
   {
    "duration": 30541,
    "start_time": "2023-03-01T21:59:21.893Z"
   },
   {
    "duration": 39895,
    "start_time": "2023-03-01T21:59:52.435Z"
   },
   {
    "duration": 3,
    "start_time": "2023-03-01T22:00:32.331Z"
   },
   {
    "duration": 5,
    "start_time": "2023-03-01T22:00:32.335Z"
   },
   {
    "duration": 1380,
    "start_time": "2023-03-01T22:03:26.185Z"
   },
   {
    "duration": 661,
    "start_time": "2023-03-01T22:03:27.567Z"
   },
   {
    "duration": 19,
    "start_time": "2023-03-01T22:03:28.229Z"
   },
   {
    "duration": 14,
    "start_time": "2023-03-01T22:03:28.250Z"
   },
   {
    "duration": 125,
    "start_time": "2023-03-01T22:03:28.265Z"
   },
   {
    "duration": 79,
    "start_time": "2023-03-01T22:03:28.392Z"
   },
   {
    "duration": 14,
    "start_time": "2023-03-01T22:03:28.472Z"
   },
   {
    "duration": 272,
    "start_time": "2023-03-01T22:03:28.487Z"
   },
   {
    "duration": 6,
    "start_time": "2023-03-01T22:03:28.760Z"
   },
   {
    "duration": 18,
    "start_time": "2023-03-01T22:03:28.768Z"
   },
   {
    "duration": 11489,
    "start_time": "2023-03-01T22:03:28.787Z"
   },
   {
    "duration": 2351,
    "start_time": "2023-03-01T22:03:40.278Z"
   },
   {
    "duration": 3002,
    "start_time": "2023-03-01T22:03:42.630Z"
   },
   {
    "duration": 21,
    "start_time": "2023-03-01T22:03:45.634Z"
   },
   {
    "duration": 30,
    "start_time": "2023-03-01T22:03:45.656Z"
   },
   {
    "duration": 4,
    "start_time": "2023-03-01T22:03:45.687Z"
   },
   {
    "duration": 18,
    "start_time": "2023-03-01T22:03:45.692Z"
   },
   {
    "duration": 13,
    "start_time": "2023-03-01T22:03:45.712Z"
   },
   {
    "duration": 28,
    "start_time": "2023-03-01T22:03:45.726Z"
   },
   {
    "duration": 2,
    "start_time": "2023-03-01T22:03:45.756Z"
   },
   {
    "duration": 1317,
    "start_time": "2023-03-01T22:06:19.921Z"
   },
   {
    "duration": 680,
    "start_time": "2023-03-01T22:06:21.240Z"
   },
   {
    "duration": 19,
    "start_time": "2023-03-01T22:06:21.922Z"
   },
   {
    "duration": 16,
    "start_time": "2023-03-01T22:06:21.944Z"
   },
   {
    "duration": 127,
    "start_time": "2023-03-01T22:06:21.961Z"
   },
   {
    "duration": 81,
    "start_time": "2023-03-01T22:06:22.089Z"
   },
   {
    "duration": 3,
    "start_time": "2023-03-01T22:06:22.172Z"
   },
   {
    "duration": 278,
    "start_time": "2023-03-01T22:06:22.185Z"
   },
   {
    "duration": 6,
    "start_time": "2023-03-01T22:06:22.465Z"
   },
   {
    "duration": 3,
    "start_time": "2023-03-01T22:06:22.485Z"
   },
   {
    "duration": 12103,
    "start_time": "2023-03-01T22:06:22.490Z"
   },
   {
    "duration": 2418,
    "start_time": "2023-03-01T22:06:34.594Z"
   },
   {
    "duration": 3690,
    "start_time": "2023-03-01T22:06:37.014Z"
   },
   {
    "duration": 21,
    "start_time": "2023-03-01T22:06:40.706Z"
   },
   {
    "duration": 18,
    "start_time": "2023-03-01T22:06:40.729Z"
   },
   {
    "duration": 4,
    "start_time": "2023-03-01T22:06:40.748Z"
   },
   {
    "duration": 37,
    "start_time": "2023-03-01T22:06:40.753Z"
   },
   {
    "duration": 12,
    "start_time": "2023-03-01T22:06:40.791Z"
   },
   {
    "duration": 31,
    "start_time": "2023-03-01T22:06:40.805Z"
   },
   {
    "duration": 2,
    "start_time": "2023-03-01T22:06:40.838Z"
   },
   {
    "duration": 8293,
    "start_time": "2023-03-01T22:11:20.594Z"
   },
   {
    "duration": 3,
    "start_time": "2023-03-01T22:11:28.889Z"
   },
   {
    "duration": 95,
    "start_time": "2023-03-01T22:11:28.896Z"
   },
   {
    "duration": 29515,
    "start_time": "2023-03-01T22:11:28.992Z"
   },
   {
    "duration": 39529,
    "start_time": "2023-03-01T22:11:58.509Z"
   },
   {
    "duration": 3,
    "start_time": "2023-03-01T22:12:38.040Z"
   },
   {
    "duration": 4,
    "start_time": "2023-03-01T22:12:38.045Z"
   },
   {
    "duration": 1373,
    "start_time": "2023-03-01T22:14:45.027Z"
   },
   {
    "duration": 726,
    "start_time": "2023-03-01T22:14:46.402Z"
   },
   {
    "duration": 19,
    "start_time": "2023-03-01T22:14:47.129Z"
   },
   {
    "duration": 14,
    "start_time": "2023-03-01T22:14:47.149Z"
   },
   {
    "duration": 122,
    "start_time": "2023-03-01T22:14:47.164Z"
   },
   {
    "duration": 81,
    "start_time": "2023-03-01T22:14:47.288Z"
   },
   {
    "duration": 15,
    "start_time": "2023-03-01T22:14:47.371Z"
   },
   {
    "duration": 283,
    "start_time": "2023-03-01T22:14:47.388Z"
   },
   {
    "duration": 12,
    "start_time": "2023-03-01T22:14:47.673Z"
   },
   {
    "duration": 3,
    "start_time": "2023-03-01T22:14:47.687Z"
   },
   {
    "duration": 11680,
    "start_time": "2023-03-01T22:14:47.692Z"
   },
   {
    "duration": 2326,
    "start_time": "2023-03-01T22:14:59.374Z"
   },
   {
    "duration": 3018,
    "start_time": "2023-03-01T22:15:01.702Z"
   },
   {
    "duration": 21,
    "start_time": "2023-03-01T22:15:04.723Z"
   },
   {
    "duration": 18,
    "start_time": "2023-03-01T22:15:04.746Z"
   },
   {
    "duration": 3,
    "start_time": "2023-03-01T22:15:04.766Z"
   },
   {
    "duration": 14,
    "start_time": "2023-03-01T22:15:04.785Z"
   },
   {
    "duration": 11,
    "start_time": "2023-03-01T22:15:04.801Z"
   },
   {
    "duration": 32,
    "start_time": "2023-03-01T22:15:04.813Z"
   },
   {
    "duration": 2,
    "start_time": "2023-03-01T22:15:04.847Z"
   },
   {
    "duration": 4,
    "start_time": "2023-03-01T22:19:35.355Z"
   },
   {
    "duration": 5236,
    "start_time": "2023-03-01T22:19:35.360Z"
   },
   {
    "duration": 10802,
    "start_time": "2023-03-01T22:19:40.687Z"
   },
   {
    "duration": 3,
    "start_time": "2023-03-01T22:19:51.491Z"
   },
   {
    "duration": 6,
    "start_time": "2023-03-01T22:19:51.498Z"
   },
   {
    "duration": 29952,
    "start_time": "2023-03-01T22:19:51.505Z"
   },
   {
    "duration": 39715,
    "start_time": "2023-03-01T22:20:21.459Z"
   },
   {
    "duration": 11,
    "start_time": "2023-03-01T22:21:01.176Z"
   },
   {
    "duration": 18,
    "start_time": "2023-03-01T22:21:01.188Z"
   },
   {
    "duration": 382866,
    "start_time": "2023-03-01T22:21:01.208Z"
   },
   {
    "duration": 482193,
    "start_time": "2023-03-01T22:27:24.076Z"
   },
   {
    "duration": 4,
    "start_time": "2023-03-01T22:35:26.270Z"
   },
   {
    "duration": 0,
    "start_time": "2023-03-01T22:35:26.413Z"
   },
   {
    "duration": 0,
    "start_time": "2023-03-01T22:35:26.413Z"
   },
   {
    "duration": 0,
    "start_time": "2023-03-01T22:35:26.416Z"
   },
   {
    "duration": 0,
    "start_time": "2023-03-01T22:35:26.417Z"
   },
   {
    "duration": 0,
    "start_time": "2023-03-01T22:35:26.418Z"
   },
   {
    "duration": 0,
    "start_time": "2023-03-01T22:35:26.419Z"
   },
   {
    "duration": 10,
    "start_time": "2023-03-01T22:36:07.421Z"
   },
   {
    "duration": 18,
    "start_time": "2023-03-01T22:36:50.583Z"
   },
   {
    "duration": 193,
    "start_time": "2023-03-01T22:37:24.198Z"
   },
   {
    "duration": 363,
    "start_time": "2023-03-01T22:37:39.927Z"
   },
   {
    "duration": 7,
    "start_time": "2023-03-01T22:38:06.177Z"
   }
  ],
  "kernelspec": {
   "display_name": "Python 3 (ipykernel)",
   "language": "python",
   "name": "python3"
  },
  "language_info": {
   "codemirror_mode": {
    "name": "ipython",
    "version": 3
   },
   "file_extension": ".py",
   "mimetype": "text/x-python",
   "name": "python",
   "nbconvert_exporter": "python",
   "pygments_lexer": "ipython3",
   "version": "3.9.5"
  },
  "toc": {
   "base_numbering": 1,
   "nav_menu": {},
   "number_sections": true,
   "sideBar": true,
   "skip_h1_title": true,
   "title_cell": "Содержание",
   "title_sidebar": "Contents",
   "toc_cell": true,
   "toc_position": {
    "height": "calc(100% - 180px)",
    "left": "10px",
    "top": "150px",
    "width": "176.438px"
   },
   "toc_section_display": true,
   "toc_window_display": true
  }
 },
 "nbformat": 4,
 "nbformat_minor": 2
}
