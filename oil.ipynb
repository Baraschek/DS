{
 "cells": [
  {
   "cell_type": "markdown",
   "metadata": {},
   "source": [
    "# Выбор локации для скважины"
   ]
  },
  {
   "cell_type": "markdown",
   "metadata": {},
   "source": [
    "Допустим, вы работаете в добывающей компании «ГлавРосГосНефть». Нужно решить, где бурить новую скважину.\n",
    "\n",
    "Вам предоставлены пробы нефти в трёх регионах: в каждом 10 000 месторождений, где измерили качество нефти и объём её запасов. Постройте модель машинного обучения, которая поможет определить регион, где добыча принесёт наибольшую прибыль. Проанализируйте возможную прибыль и риски техникой *Bootstrap.*\n",
    "\n",
    "Шаги для выбора локации:\n",
    "\n",
    "- В избранном регионе ищут месторождения, для каждого определяют значения признаков;\n",
    "- Строят модель и оценивают объём запасов;\n",
    "- Выбирают месторождения с самым высокими оценками значений. Количество месторождений зависит от бюджета компании и стоимости разработки одной скважины;\n",
    "- Прибыль равна суммарной прибыли отобранных месторождений."
   ]
  },
  {
   "cell_type": "markdown",
   "metadata": {},
   "source": [
    "## Загрузка и подготовка данных"
   ]
  },
  {
   "cell_type": "code",
   "execution_count": 1,
   "metadata": {},
   "outputs": [],
   "source": [
    "import pandas as pd\n",
    "import numpy as np\n",
    "import seaborn as sns\n",
    "from scipy import stats as st\n",
    "from sklearn.metrics import mean_squared_error, accuracy_score\n",
    "from sklearn.model_selection import train_test_split\n",
    "from sklearn.linear_model import LinearRegression"
   ]
  },
  {
   "cell_type": "code",
   "execution_count": 2,
   "metadata": {},
   "outputs": [],
   "source": [
    "geo_0 = pd.read_csv('/datasets/geo_data_0.csv')\n",
    "geo_1 = pd.read_csv('/datasets/geo_data_1.csv')\n",
    "geo_2 = pd.read_csv('/datasets/geo_data_2.csv')"
   ]
  },
  {
   "cell_type": "markdown",
   "metadata": {},
   "source": [
    "Обозначения столбцов:\n",
    "\n",
    "    - id — уникальный идентификатор скважины;\n",
    "    - f0, f1, f2 — три признака точек (неважно, что они означают, но сами признаки значимы);\n",
    "    - product — объём запасов в скважине (тыс. баррелей)."
   ]
  },
  {
   "cell_type": "code",
   "execution_count": 3,
   "metadata": {},
   "outputs": [],
   "source": [
    "def vusial(geo):\n",
    "    a = geo.info()\n",
    "    s = geo.head()\n",
    "    d = sns.heatmap(geo.corr(), annot=True, square=True, cmap=sns.cubehelix_palette(as_cmap=True));\n",
    "    return a, s, d"
   ]
  },
  {
   "cell_type": "code",
   "execution_count": 4,
   "metadata": {},
   "outputs": [
    {
     "name": "stdout",
     "output_type": "stream",
     "text": [
      "<class 'pandas.core.frame.DataFrame'>\n",
      "RangeIndex: 100000 entries, 0 to 99999\n",
      "Data columns (total 5 columns):\n",
      " #   Column   Non-Null Count   Dtype  \n",
      "---  ------   --------------   -----  \n",
      " 0   id       100000 non-null  object \n",
      " 1   f0       100000 non-null  float64\n",
      " 2   f1       100000 non-null  float64\n",
      " 3   f2       100000 non-null  float64\n",
      " 4   product  100000 non-null  float64\n",
      "dtypes: float64(4), object(1)\n",
      "memory usage: 3.8+ MB\n"
     ]
    },
    {
     "data": {
      "text/plain": [
       "(None,\n",
       "       id        f0        f1        f2     product\n",
       " 0  txEyH  0.705745 -0.497823  1.221170  105.280062\n",
       " 1  2acmU  1.334711 -0.340164  4.365080   73.037750\n",
       " 2  409Wp  1.022732  0.151990  1.419926   85.265647\n",
       " 3  iJLyR -0.032172  0.139033  2.978566  168.620776\n",
       " 4  Xdl7t  1.988431  0.155413  4.751769  154.036647,\n",
       " <AxesSubplot:>)"
      ]
     },
     "execution_count": 4,
     "metadata": {},
     "output_type": "execute_result"
    },
    {
     "data": {
      "image/png": "[encoded data removed]",
      "text/plain": [
       "<Figure size 432x288 with 2 Axes>"
      ]
     },
     "metadata": {
      "needs_background": "light"
     },
     "output_type": "display_data"
    }
   ],
   "source": [
    "vusial(geo_0)"
   ]
  },
  {
   "cell_type": "code",
   "execution_count": 5,
   "metadata": {},
   "outputs": [
    {
     "name": "stdout",
     "output_type": "stream",
     "text": [
      "<class 'pandas.core.frame.DataFrame'>\n",
      "RangeIndex: 100000 entries, 0 to 99999\n",
      "Data columns (total 5 columns):\n",
      " #   Column   Non-Null Count   Dtype  \n",
      "---  ------   --------------   -----  \n",
      " 0   id       100000 non-null  object \n",
      " 1   f0       100000 non-null  float64\n",
      " 2   f1       100000 non-null  float64\n",
      " 3   f2       100000 non-null  float64\n",
      " 4   product  100000 non-null  float64\n",
      "dtypes: float64(4), object(1)\n",
      "memory usage: 3.8+ MB\n"
     ]
    },
    {
     "data": {
      "text/plain": [
       "(None,\n",
       "       id         f0         f1        f2     product\n",
       " 0  kBEdx -15.001348  -8.276000 -0.005876    3.179103\n",
       " 1  62mP7  14.272088  -3.475083  0.999183   26.953261\n",
       " 2  vyE1P   6.263187  -5.948386  5.001160  134.766305\n",
       " 3  KcrkZ -13.081196 -11.506057  4.999415  137.945408\n",
       " 4  AHL4O  12.702195  -8.147433  5.004363  134.766305,\n",
       " <AxesSubplot:>)"
      ]
     },
     "execution_count": 5,
     "metadata": {},
     "output_type": "execute_result"
    },
    {
     "data": {
      "image/png": "[encoded data removed]",
      "text/plain": [
       "<Figure size 432x288 with 2 Axes>"
      ]
     },
     "metadata": {
      "needs_background": "light"
     },
     "output_type": "display_data"
    }
   ],
   "source": [
    "vusial(geo_1)"
   ]
  },
  {
   "cell_type": "code",
   "execution_count": 6,
   "metadata": {},
   "outputs": [
    {
     "name": "stdout",
     "output_type": "stream",
     "text": [
      "<class 'pandas.core.frame.DataFrame'>\n",
      "RangeIndex: 100000 entries, 0 to 99999\n",
      "Data columns (total 5 columns):\n",
      " #   Column   Non-Null Count   Dtype  \n",
      "---  ------   --------------   -----  \n",
      " 0   id       100000 non-null  object \n",
      " 1   f0       100000 non-null  float64\n",
      " 2   f1       100000 non-null  float64\n",
      " 3   f2       100000 non-null  float64\n",
      " 4   product  100000 non-null  float64\n",
      "dtypes: float64(4), object(1)\n",
      "memory usage: 3.8+ MB\n"
     ]
    },
    {
     "data": {
      "text/plain": [
       "(None,\n",
       "       id        f0        f1        f2     product\n",
       " 0  fwXo0 -1.146987  0.963328 -0.828965   27.758673\n",
       " 1  WJtFt  0.262778  0.269839 -2.530187   56.069697\n",
       " 2  ovLUW  0.194587  0.289035 -5.586433   62.871910\n",
       " 3  q6cA6  2.236060 -0.553760  0.930038  114.572842\n",
       " 4  WPMUX -0.515993  1.716266  5.899011  149.600746,\n",
       " <AxesSubplot:>)"
      ]
     },
     "execution_count": 6,
     "metadata": {},
     "output_type": "execute_result"
    },
    {
     "data": {
      "image/png": "[encoded data removed]",
      "text/plain": [
       "<Figure size 432x288 with 2 Axes>"
      ]
     },
     "metadata": {
      "needs_background": "light"
     },
     "output_type": "display_data"
    }
   ],
   "source": [
    "vusial(geo_2)"
   ]
  },
  {
   "cell_type": "markdown",
   "metadata": {},
   "source": [
    "Тип данных в каждом датафрейме правильный, как и названия столбцов.\n",
    "\n",
    "Наблюдаются ли зависимости? Если судить по корреляции, то самый независимый geo_2, после него идёт geo_0, у них двоих схожая зависимость признака точки f2 от product (0.45-0.48), а вот у geo_1 есть такая же зависимсоть, но она равна единице. В общем, во всех трех датафреймах наблюдается корреляция целевого признака с признаком f2.\n",
    "/\n",
    "### Вывод\n",
    "    - ознакомились с данными\n",
    "    - рассмотрели коэфф.корреляции, обнаружили что он достаточно высок между целевым признаком product и признаком f2"
   ]
  },
  {
   "cell_type": "markdown",
   "metadata": {},
   "source": [
    "## Обучение и проверка модели"
   ]
  },
  {
   "cell_type": "code",
   "execution_count": 7,
   "metadata": {},
   "outputs": [],
   "source": [
    "def get_result_model (geo, name):\n",
    "    features = geo.drop(['id', 'product'], axis = 1)\n",
    "    target = geo['product']\n",
    "    features_train, features_valid, target_train, target_valid = train_test_split(features, target, \n",
    "                                                                                  test_size=.25, random_state=12345)\n",
    "    model = LinearRegression()\n",
    "    model.fit(features_train, target_train)\n",
    "    predict = model.predict(features_valid)\n",
    "    rmse = (mean_squared_error(target_valid, predict))**0.5\n",
    "    \n",
    "    print(name)\n",
    "    print('Средний запас сырья, тыс. баррелей:', predict.mean())   \n",
    "    print('RMSE:', rmse)\n",
    "    \n",
    "    return target_valid.mean(), predict, target_valid"
   ]
  },
  {
   "cell_type": "code",
   "execution_count": 8,
   "metadata": {},
   "outputs": [
    {
     "name": "stdout",
     "output_type": "stream",
     "text": [
      "№1\n",
      "Средний запас сырья, тыс. баррелей: 92.59256778438035\n",
      "RMSE: 37.5794217150813\n"
     ]
    }
   ],
   "source": [
    "g0, pg0, tg0 = get_result_model(geo_0, '№1')"
   ]
  },
  {
   "cell_type": "code",
   "execution_count": 9,
   "metadata": {},
   "outputs": [
    {
     "name": "stdout",
     "output_type": "stream",
     "text": [
      "№2\n",
      "Средний запас сырья, тыс. баррелей: 68.728546895446\n",
      "RMSE: 0.893099286775617\n"
     ]
    }
   ],
   "source": [
    "g1, pg1, tg1 = get_result_model(geo_1, '№2')"
   ]
  },
  {
   "cell_type": "code",
   "execution_count": 10,
   "metadata": {},
   "outputs": [
    {
     "name": "stdout",
     "output_type": "stream",
     "text": [
      "№3\n",
      "Средний запас сырья, тыс. баррелей: 94.96504596800489\n",
      "RMSE: 40.02970873393434\n"
     ]
    }
   ],
   "source": [
    "g2, pg2, tg2 = get_result_model(geo_2, '№3')"
   ]
  },
  {
   "cell_type": "markdown",
   "metadata": {},
   "source": [
    "### Вывод\n",
    "    - самые большие запасы сырья в 3 регионе\n",
    "    - модель 2 региона имеет самую низкую оценку RMSE, можно предположить, что она самая точная/качественная, также она имеет самый низний средний запас сырья\n",
    "    - качество моделей 1 и 3 региона существенно ниже"
   ]
  },
  {
   "cell_type": "markdown",
   "metadata": {},
   "source": [
    "## Подготовка к расчёту прибыли"
   ]
  },
  {
   "cell_type": "code",
   "execution_count": 11,
   "metadata": {},
   "outputs": [],
   "source": [
    "INVESTIGATED = 500\n",
    "OIL_NUMBER = 200\n",
    "\n",
    "BUDGET_REGION = 10_000_000_000\n",
    "BUDGET_ONE = BUDGET_REGION / OIL_NUMBER\n",
    "\n",
    "BARREL_PRICE = 450_000\n",
    "\n",
    "MAX_RISK = 0.025\n",
    "\n",
    "PAYBACK_MIN = round(BUDGET_ONE / BARREL_PRICE, 2)"
   ]
  },
  {
   "cell_type": "code",
   "execution_count": 12,
   "metadata": {},
   "outputs": [
    {
     "name": "stdout",
     "output_type": "stream",
     "text": [
      "Минимальный необходимый средний запас в месторождениях региона: 111.11 тыс. баррелей.\n"
     ]
    }
   ],
   "source": [
    "print(f'Минимальный необходимый средний запас в месторождениях региона: {PAYBACK_MIN} тыс. баррелей.')"
   ]
  },
  {
   "cell_type": "code",
   "execution_count": 13,
   "metadata": {},
   "outputs": [
    {
     "name": "stdout",
     "output_type": "stream",
     "text": [
      "Разность между мин. необходимым средним запасом сырья и средним истинным запасом сырья:\n",
      "Регион №1 19.03140325917073\n",
      "Регион №2 42.386863975640026\n",
      "Регион №3 16.22576719114562\n"
     ]
    }
   ],
   "source": [
    "print('Разность между мин. необходимым средним запасом сырья и средним истинным запасом сырья:')\n",
    "print(f'Регион №1 {PAYBACK_MIN-g0}')\n",
    "print(f'Регион №2 {PAYBACK_MIN-g1}')\n",
    "print(f'Регион №3 {PAYBACK_MIN-g2}')"
   ]
  },
  {
   "cell_type": "markdown",
   "metadata": {},
   "source": [
    "### Вывод\n",
    "    - минимальный необходимый средний запас в месторождениях региона: 111.11 тыс. баррелей.\n",
    "    - если смотреть на разность, то проект будет убыточным в любом регионе\n",
    "    - потребуется найти скважины, где истинный запас превысит среднюю оценку по региону не менее чем на 16-43 тыс. баррелей, и составит не менее 111.11 тыс. баррелей."
   ]
  },
  {
   "cell_type": "markdown",
   "metadata": {},
   "source": [
    "## Расчёт прибыли и рисков "
   ]
  },
  {
   "cell_type": "code",
   "execution_count": 14,
   "metadata": {},
   "outputs": [],
   "source": [
    "state = np.random.RandomState(12345)"
   ]
  },
  {
   "cell_type": "code",
   "execution_count": 15,
   "metadata": {},
   "outputs": [],
   "source": [
    "def revenue(target, probabilities):\n",
    "    target = pd.Series(target).reset_index(drop=True)\n",
    "    probabilities = pd.Series(probabilities).reset_index(drop=True)\n",
    "    probs_sorted = probabilities.sort_values(ascending=False)\n",
    "    selected = target[probs_sorted.index][:OIL_NUMBER]\n",
    "    return ((BARREL_PRICE * selected.sum()) - BUDGET_REGION) / 1_000_000_000\n",
    "\n",
    "def bootstrap (target, predictions):\n",
    "    values = []\n",
    "    for i in range(1000):\n",
    "        target_subsample = target.reset_index(drop=True).sample(n=INVESTIGATED, replace=True, random_state=state)\n",
    "        probs_subsample = predictions[target_subsample.index]\n",
    "        rev = revenue(target_subsample, probs_subsample)\n",
    "        values.append(rev)\n",
    "\n",
    "    values = pd.Series(values)\n",
    "    confidence_interval = st.t.interval(0.975, len(values)-1, values.mean(), values.sem())\n",
    "    confidence_interval2 = ((values.quantile(0.025)), values.quantile(0.975))\n",
    "    mean = values.mean()\n",
    "\n",
    "    print(\"Средняя выручка:\", mean)\n",
    "    print(\"Доверительный интервал для истинного среднего генеральной совокупности:\", confidence_interval)\n",
    "    print(\"Доверительный интервал для распределения прибыли:\", confidence_interval2)\n",
    "    print(\"Риски убытка:\", ((values < 0).mean())*100, \"%\")"
   ]
  },
  {
   "cell_type": "code",
   "execution_count": 16,
   "metadata": {},
   "outputs": [
    {
     "name": "stdout",
     "output_type": "stream",
     "text": [
      "Средняя выручка: 0.3961649848023711\n",
      "Доверительный интервал для истинного среднего генеральной совокупности: (0.37723899669885724, 0.41509097290588504)\n",
      "Доверительный интервал для распределения прибыли: (-0.11121554589049526, 0.9097669415534225)\n",
      "Риски убытка: 6.9 %\n"
     ]
    }
   ],
   "source": [
    "bootstrap(tg0, pg0)"
   ]
  },
  {
   "cell_type": "code",
   "execution_count": 17,
   "metadata": {},
   "outputs": [
    {
     "name": "stdout",
     "output_type": "stream",
     "text": [
      "Средняя выручка: 0.46115581727723964\n",
      "Доверительный интервал для истинного среднего генеральной совокупности: (0.4470546956371293, 0.47525693891735)\n",
      "Доверительный интервал для распределения прибыли: (0.07805081075174171, 0.8629520602637234)\n",
      "Риски убытка: 0.7000000000000001 %\n"
     ]
    }
   ],
   "source": [
    "bootstrap(tg1, pg1)"
   ]
  },
  {
   "cell_type": "code",
   "execution_count": 18,
   "metadata": {},
   "outputs": [
    {
     "name": "stdout",
     "output_type": "stream",
     "text": [
      "Средняя выручка: 0.39295047517060455\n",
      "Доверительный интервал для истинного среднего генеральной совокупности: (0.373748135599566, 0.41215281474164317)\n",
      "Доверительный интервал для распределения прибыли: (-0.11222762537857565, 0.9345629145511635)\n",
      "Риски убытка: 6.5 %\n"
     ]
    }
   ],
   "source": [
    "bootstrap(tg2, pg2)"
   ]
  },
  {
   "cell_type": "markdown",
   "metadata": {},
   "source": [
    "### Вывод\n",
    "    - только второй регион подходит для бурения скважин, у него самые низкие риски убытка и самая большая средняя выручка"
   ]
  }
 ],
 "metadata": {
  "ExecuteTimeLog": [
   {
    "duration": 1908,
    "start_time": "2023-02-25T22:51:34.204Z"
   },
   {
    "duration": 156,
    "start_time": "2023-02-25T22:51:36.114Z"
   },
   {
    "duration": 0,
    "start_time": "2023-02-25T22:51:36.272Z"
   },
   {
    "duration": 1537,
    "start_time": "2023-02-25T22:52:02.162Z"
   },
   {
    "duration": 1011,
    "start_time": "2023-02-25T22:52:03.701Z"
   },
   {
    "duration": 24,
    "start_time": "2023-02-25T22:52:04.713Z"
   },
   {
    "duration": 360,
    "start_time": "2023-02-25T22:53:27.307Z"
   },
   {
    "duration": 373,
    "start_time": "2023-02-25T22:53:33.464Z"
   },
   {
    "duration": 381,
    "start_time": "2023-02-25T22:55:02.150Z"
   },
   {
    "duration": 406,
    "start_time": "2023-02-25T22:55:54.309Z"
   },
   {
    "duration": 334,
    "start_time": "2023-02-25T22:56:05.076Z"
   },
   {
    "duration": 4,
    "start_time": "2023-02-25T22:58:23.638Z"
   },
   {
    "duration": 470,
    "start_time": "2023-02-25T22:58:35.274Z"
   },
   {
    "duration": 5,
    "start_time": "2023-02-25T23:01:15.750Z"
   },
   {
    "duration": 411,
    "start_time": "2023-02-25T23:01:16.296Z"
   },
   {
    "duration": 4,
    "start_time": "2023-02-25T23:01:47.003Z"
   },
   {
    "duration": 365,
    "start_time": "2023-02-25T23:01:48.143Z"
   },
   {
    "duration": 359,
    "start_time": "2023-02-25T23:02:51.002Z"
   },
   {
    "duration": 336,
    "start_time": "2023-02-25T23:02:54.373Z"
   },
   {
    "duration": 5,
    "start_time": "2023-02-25T23:27:30.486Z"
   },
   {
    "duration": 32,
    "start_time": "2023-02-25T23:28:08.084Z"
   },
   {
    "duration": 5,
    "start_time": "2023-02-25T23:28:39.549Z"
   },
   {
    "duration": 30,
    "start_time": "2023-02-25T23:28:39.972Z"
   },
   {
    "duration": 4,
    "start_time": "2023-02-25T23:29:38.753Z"
   },
   {
    "duration": 34,
    "start_time": "2023-02-25T23:29:39.124Z"
   },
   {
    "duration": 36,
    "start_time": "2023-02-25T23:30:11.618Z"
   },
   {
    "duration": 28,
    "start_time": "2023-02-25T23:30:12.312Z"
   },
   {
    "duration": 51,
    "start_time": "2023-02-25T23:41:55.841Z"
   },
   {
    "duration": 3,
    "start_time": "2023-02-25T23:42:07.138Z"
   },
   {
    "duration": 4,
    "start_time": "2023-02-25T23:42:19.972Z"
   },
   {
    "duration": 11,
    "start_time": "2023-02-25T23:43:08.369Z"
   },
   {
    "duration": 4,
    "start_time": "2023-02-25T23:43:11.205Z"
   },
   {
    "duration": 3,
    "start_time": "2023-02-25T23:43:11.473Z"
   },
   {
    "duration": 9,
    "start_time": "2023-02-25T23:46:49.868Z"
   },
   {
    "duration": 34,
    "start_time": "2023-02-25T23:47:35.242Z"
   },
   {
    "duration": 11,
    "start_time": "2023-02-25T23:47:42.501Z"
   },
   {
    "duration": 29,
    "start_time": "2023-02-25T23:48:41.803Z"
   },
   {
    "duration": 96,
    "start_time": "2023-02-25T23:49:15.557Z"
   },
   {
    "duration": 4,
    "start_time": "2023-02-25T23:49:21.222Z"
   },
   {
    "duration": 11,
    "start_time": "2023-02-25T23:49:21.995Z"
   },
   {
    "duration": 89,
    "start_time": "2023-02-25T23:49:33.322Z"
   },
   {
    "duration": 6,
    "start_time": "2023-02-25T23:49:40.769Z"
   },
   {
    "duration": 7,
    "start_time": "2023-02-25T23:49:43.222Z"
   },
   {
    "duration": 42,
    "start_time": "2023-02-25T23:49:43.746Z"
   },
   {
    "duration": 12,
    "start_time": "2023-02-25T23:49:48.997Z"
   },
   {
    "duration": 1462,
    "start_time": "2023-02-25T23:49:54.252Z"
   },
   {
    "duration": 362,
    "start_time": "2023-02-25T23:49:55.717Z"
   },
   {
    "duration": 5,
    "start_time": "2023-02-25T23:49:56.083Z"
   },
   {
    "duration": 426,
    "start_time": "2023-02-25T23:49:56.090Z"
   },
   {
    "duration": 304,
    "start_time": "2023-02-25T23:49:56.517Z"
   },
   {
    "duration": 320,
    "start_time": "2023-02-25T23:49:56.823Z"
   },
   {
    "duration": 6,
    "start_time": "2023-02-25T23:49:57.145Z"
   },
   {
    "duration": 118,
    "start_time": "2023-02-25T23:49:57.153Z"
   },
   {
    "duration": 0,
    "start_time": "2023-02-25T23:49:57.274Z"
   },
   {
    "duration": 0,
    "start_time": "2023-02-25T23:49:57.275Z"
   },
   {
    "duration": 0,
    "start_time": "2023-02-25T23:49:57.276Z"
   },
   {
    "duration": 0,
    "start_time": "2023-02-25T23:49:57.285Z"
   },
   {
    "duration": 0,
    "start_time": "2023-02-25T23:49:57.286Z"
   },
   {
    "duration": 4,
    "start_time": "2023-02-25T23:50:19.334Z"
   },
   {
    "duration": 9,
    "start_time": "2023-02-25T23:50:19.725Z"
   },
   {
    "duration": 1333,
    "start_time": "2023-02-25T23:50:30.343Z"
   },
   {
    "duration": 401,
    "start_time": "2023-02-25T23:50:31.678Z"
   },
   {
    "duration": 8,
    "start_time": "2023-02-25T23:50:32.081Z"
   },
   {
    "duration": 378,
    "start_time": "2023-02-25T23:50:32.096Z"
   },
   {
    "duration": 339,
    "start_time": "2023-02-25T23:50:32.476Z"
   },
   {
    "duration": 409,
    "start_time": "2023-02-25T23:50:32.817Z"
   },
   {
    "duration": 4,
    "start_time": "2023-02-25T23:50:33.228Z"
   },
   {
    "duration": 120,
    "start_time": "2023-02-25T23:50:33.233Z"
   },
   {
    "duration": 0,
    "start_time": "2023-02-25T23:50:33.355Z"
   },
   {
    "duration": 0,
    "start_time": "2023-02-25T23:50:33.356Z"
   },
   {
    "duration": 0,
    "start_time": "2023-02-25T23:50:33.357Z"
   },
   {
    "duration": 0,
    "start_time": "2023-02-25T23:50:33.358Z"
   },
   {
    "duration": 0,
    "start_time": "2023-02-25T23:50:33.359Z"
   },
   {
    "duration": 4,
    "start_time": "2023-02-25T23:51:12.004Z"
   },
   {
    "duration": 39,
    "start_time": "2023-02-25T23:51:12.381Z"
   },
   {
    "duration": 4,
    "start_time": "2023-02-25T23:51:51.746Z"
   },
   {
    "duration": 9,
    "start_time": "2023-02-25T23:51:52.134Z"
   },
   {
    "duration": 12,
    "start_time": "2023-02-25T23:52:00.005Z"
   },
   {
    "duration": 5,
    "start_time": "2023-02-25T23:52:01.932Z"
   },
   {
    "duration": 9,
    "start_time": "2023-02-25T23:52:02.265Z"
   },
   {
    "duration": 4,
    "start_time": "2023-02-25T23:52:08.450Z"
   },
   {
    "duration": 10,
    "start_time": "2023-02-25T23:52:09.022Z"
   },
   {
    "duration": 5,
    "start_time": "2023-02-25T23:52:25.327Z"
   },
   {
    "duration": 47,
    "start_time": "2023-02-25T23:52:26.252Z"
   },
   {
    "duration": 34,
    "start_time": "2023-02-25T23:52:26.885Z"
   },
   {
    "duration": 23,
    "start_time": "2023-02-25T23:52:27.223Z"
   },
   {
    "duration": 1458,
    "start_time": "2023-02-25T23:56:22.174Z"
   },
   {
    "duration": 381,
    "start_time": "2023-02-25T23:56:23.636Z"
   },
   {
    "duration": 4,
    "start_time": "2023-02-25T23:56:24.018Z"
   },
   {
    "duration": 382,
    "start_time": "2023-02-25T23:56:24.024Z"
   },
   {
    "duration": 335,
    "start_time": "2023-02-25T23:56:24.409Z"
   },
   {
    "duration": 371,
    "start_time": "2023-02-25T23:56:24.745Z"
   },
   {
    "duration": 4,
    "start_time": "2023-02-25T23:56:25.118Z"
   },
   {
    "duration": 388,
    "start_time": "2023-02-25T23:56:25.125Z"
   },
   {
    "duration": 0,
    "start_time": "2023-02-25T23:56:25.515Z"
   },
   {
    "duration": 0,
    "start_time": "2023-02-25T23:56:25.516Z"
   },
   {
    "duration": 0,
    "start_time": "2023-02-25T23:56:25.517Z"
   },
   {
    "duration": 0,
    "start_time": "2023-02-25T23:56:25.518Z"
   },
   {
    "duration": 4,
    "start_time": "2023-02-25T23:56:37.124Z"
   },
   {
    "duration": 98,
    "start_time": "2023-02-25T23:56:37.507Z"
   },
   {
    "duration": 91,
    "start_time": "2023-02-25T23:56:38.208Z"
   },
   {
    "duration": 213,
    "start_time": "2023-02-25T23:56:38.672Z"
   },
   {
    "duration": 1390,
    "start_time": "2023-02-25T23:57:35.229Z"
   },
   {
    "duration": 370,
    "start_time": "2023-02-25T23:57:36.621Z"
   },
   {
    "duration": 3,
    "start_time": "2023-02-25T23:57:36.993Z"
   },
   {
    "duration": 366,
    "start_time": "2023-02-25T23:57:36.998Z"
   },
   {
    "duration": 342,
    "start_time": "2023-02-25T23:57:37.366Z"
   },
   {
    "duration": 401,
    "start_time": "2023-02-25T23:57:37.711Z"
   },
   {
    "duration": 5,
    "start_time": "2023-02-25T23:57:38.114Z"
   },
   {
    "duration": 72,
    "start_time": "2023-02-25T23:57:38.121Z"
   },
   {
    "duration": 191,
    "start_time": "2023-02-25T23:57:38.195Z"
   },
   {
    "duration": 107,
    "start_time": "2023-02-25T23:57:38.388Z"
   },
   {
    "duration": 190,
    "start_time": "2023-02-25T23:57:38.497Z"
   },
   {
    "duration": 8,
    "start_time": "2023-02-25T23:57:38.689Z"
   },
   {
    "duration": 6,
    "start_time": "2023-02-25T23:58:35.709Z"
   },
   {
    "duration": 35,
    "start_time": "2023-02-25T23:58:35.974Z"
   },
   {
    "duration": 48,
    "start_time": "2023-02-25T23:58:42.972Z"
   },
   {
    "duration": 39,
    "start_time": "2023-02-25T23:58:49.480Z"
   },
   {
    "duration": 4,
    "start_time": "2023-02-25T23:59:00.047Z"
   },
   {
    "duration": 1412,
    "start_time": "2023-02-26T00:00:12.273Z"
   },
   {
    "duration": 389,
    "start_time": "2023-02-26T00:00:13.687Z"
   },
   {
    "duration": 4,
    "start_time": "2023-02-26T00:00:14.078Z"
   },
   {
    "duration": 343,
    "start_time": "2023-02-26T00:00:14.085Z"
   },
   {
    "duration": 347,
    "start_time": "2023-02-26T00:00:14.430Z"
   },
   {
    "duration": 331,
    "start_time": "2023-02-26T00:00:14.779Z"
   },
   {
    "duration": 4,
    "start_time": "2023-02-26T00:00:15.111Z"
   },
   {
    "duration": 89,
    "start_time": "2023-02-26T00:00:15.117Z"
   },
   {
    "duration": 87,
    "start_time": "2023-02-26T00:00:15.227Z"
   },
   {
    "duration": 180,
    "start_time": "2023-02-26T00:00:15.318Z"
   },
   {
    "duration": 189,
    "start_time": "2023-02-26T00:00:15.501Z"
   },
   {
    "duration": 27,
    "start_time": "2023-02-26T00:00:15.695Z"
   },
   {
    "duration": 18,
    "start_time": "2023-02-26T00:00:15.724Z"
   },
   {
    "duration": 3,
    "start_time": "2023-02-26T00:01:35.267Z"
   },
   {
    "duration": 4,
    "start_time": "2023-02-26T00:01:56.544Z"
   },
   {
    "duration": 3,
    "start_time": "2023-02-26T00:02:02.162Z"
   },
   {
    "duration": 1396,
    "start_time": "2023-02-26T00:02:34.981Z"
   },
   {
    "duration": 382,
    "start_time": "2023-02-26T00:02:36.379Z"
   },
   {
    "duration": 4,
    "start_time": "2023-02-26T00:02:36.763Z"
   },
   {
    "duration": 390,
    "start_time": "2023-02-26T00:02:36.769Z"
   },
   {
    "duration": 380,
    "start_time": "2023-02-26T00:02:37.162Z"
   },
   {
    "duration": 364,
    "start_time": "2023-02-26T00:02:37.545Z"
   },
   {
    "duration": 5,
    "start_time": "2023-02-26T00:02:37.910Z"
   },
   {
    "duration": 87,
    "start_time": "2023-02-26T00:02:37.919Z"
   },
   {
    "duration": 178,
    "start_time": "2023-02-26T00:02:38.007Z"
   },
   {
    "duration": 120,
    "start_time": "2023-02-26T00:02:38.191Z"
   },
   {
    "duration": 6,
    "start_time": "2023-02-26T00:02:38.313Z"
   },
   {
    "duration": 186,
    "start_time": "2023-02-26T00:02:38.321Z"
   },
   {
    "duration": 7,
    "start_time": "2023-02-26T00:02:38.509Z"
   },
   {
    "duration": 1289,
    "start_time": "2023-02-26T00:02:53.238Z"
   },
   {
    "duration": 382,
    "start_time": "2023-02-26T00:02:54.529Z"
   },
   {
    "duration": 6,
    "start_time": "2023-02-26T00:02:54.912Z"
   },
   {
    "duration": 396,
    "start_time": "2023-02-26T00:02:54.920Z"
   },
   {
    "duration": 443,
    "start_time": "2023-02-26T00:02:55.320Z"
   },
   {
    "duration": 400,
    "start_time": "2023-02-26T00:02:55.765Z"
   },
   {
    "duration": 6,
    "start_time": "2023-02-26T00:02:56.168Z"
   },
   {
    "duration": 112,
    "start_time": "2023-02-26T00:02:56.185Z"
   },
   {
    "duration": 116,
    "start_time": "2023-02-26T00:02:56.299Z"
   },
   {
    "duration": 169,
    "start_time": "2023-02-26T00:02:56.417Z"
   },
   {
    "duration": 96,
    "start_time": "2023-02-26T00:02:56.591Z"
   },
   {
    "duration": 17,
    "start_time": "2023-02-26T00:02:56.690Z"
   },
   {
    "duration": 8,
    "start_time": "2023-02-26T00:02:56.708Z"
   },
   {
    "duration": 5,
    "start_time": "2023-02-26T00:04:28.653Z"
   },
   {
    "duration": 4,
    "start_time": "2023-02-26T00:04:34.134Z"
   },
   {
    "duration": 7,
    "start_time": "2023-02-26T00:12:26.701Z"
   },
   {
    "duration": 198,
    "start_time": "2023-02-26T00:12:27.091Z"
   },
   {
    "duration": 1532,
    "start_time": "2023-02-26T00:13:29.579Z"
   },
   {
    "duration": 456,
    "start_time": "2023-02-26T00:13:31.114Z"
   },
   {
    "duration": 4,
    "start_time": "2023-02-26T00:13:31.573Z"
   },
   {
    "duration": 392,
    "start_time": "2023-02-26T00:13:31.578Z"
   },
   {
    "duration": 372,
    "start_time": "2023-02-26T00:13:31.982Z"
   },
   {
    "duration": 413,
    "start_time": "2023-02-26T00:13:32.356Z"
   },
   {
    "duration": 7,
    "start_time": "2023-02-26T00:13:32.771Z"
   },
   {
    "duration": 73,
    "start_time": "2023-02-26T00:13:32.782Z"
   },
   {
    "duration": 131,
    "start_time": "2023-02-26T00:13:32.890Z"
   },
   {
    "duration": 192,
    "start_time": "2023-02-26T00:13:33.027Z"
   },
   {
    "duration": 70,
    "start_time": "2023-02-26T00:13:33.221Z"
   },
   {
    "duration": 117,
    "start_time": "2023-02-26T00:13:33.296Z"
   },
   {
    "duration": 37,
    "start_time": "2023-02-26T00:13:33.415Z"
   },
   {
    "duration": 10,
    "start_time": "2023-02-26T00:13:33.455Z"
   },
   {
    "duration": 10,
    "start_time": "2023-02-26T00:13:33.467Z"
   },
   {
    "duration": 187,
    "start_time": "2023-02-26T00:14:23.840Z"
   },
   {
    "duration": 6,
    "start_time": "2023-02-26T00:15:01.278Z"
   },
   {
    "duration": 37,
    "start_time": "2023-02-26T00:15:01.600Z"
   },
   {
    "duration": 28,
    "start_time": "2023-02-26T00:15:22.766Z"
   },
   {
    "duration": 1551,
    "start_time": "2023-02-26T00:15:33.275Z"
   },
   {
    "duration": 493,
    "start_time": "2023-02-26T00:15:34.829Z"
   },
   {
    "duration": 5,
    "start_time": "2023-02-26T00:15:35.323Z"
   },
   {
    "duration": 419,
    "start_time": "2023-02-26T00:15:35.329Z"
   },
   {
    "duration": 381,
    "start_time": "2023-02-26T00:15:35.753Z"
   },
   {
    "duration": 394,
    "start_time": "2023-02-26T00:15:36.136Z"
   },
   {
    "duration": 5,
    "start_time": "2023-02-26T00:15:36.532Z"
   },
   {
    "duration": 69,
    "start_time": "2023-02-26T00:15:36.538Z"
   },
   {
    "duration": 179,
    "start_time": "2023-02-26T00:15:36.611Z"
   },
   {
    "duration": 129,
    "start_time": "2023-02-26T00:15:36.803Z"
   },
   {
    "duration": 88,
    "start_time": "2023-02-26T00:15:36.937Z"
   },
   {
    "duration": 34,
    "start_time": "2023-02-26T00:15:37.086Z"
   },
   {
    "duration": 15,
    "start_time": "2023-02-26T00:15:37.122Z"
   },
   {
    "duration": 30,
    "start_time": "2023-02-26T00:15:37.141Z"
   },
   {
    "duration": 15,
    "start_time": "2023-02-26T00:15:37.173Z"
   },
   {
    "duration": 153,
    "start_time": "2023-02-26T00:15:37.192Z"
   },
   {
    "duration": 7,
    "start_time": "2023-02-26T00:18:22.135Z"
   },
   {
    "duration": 18,
    "start_time": "2023-02-26T00:18:22.475Z"
   },
   {
    "duration": 6,
    "start_time": "2023-02-26T00:18:34.593Z"
   },
   {
    "duration": 1501,
    "start_time": "2023-02-26T00:18:55.462Z"
   },
   {
    "duration": 373,
    "start_time": "2023-02-26T00:18:56.967Z"
   },
   {
    "duration": 4,
    "start_time": "2023-02-26T00:18:57.342Z"
   },
   {
    "duration": 394,
    "start_time": "2023-02-26T00:18:57.347Z"
   },
   {
    "duration": 366,
    "start_time": "2023-02-26T00:18:57.743Z"
   },
   {
    "duration": 343,
    "start_time": "2023-02-26T00:18:58.111Z"
   },
   {
    "duration": 5,
    "start_time": "2023-02-26T00:18:58.457Z"
   },
   {
    "duration": 125,
    "start_time": "2023-02-26T00:18:58.464Z"
   },
   {
    "duration": 197,
    "start_time": "2023-02-26T00:18:58.591Z"
   },
   {
    "duration": 197,
    "start_time": "2023-02-26T00:18:58.790Z"
   },
   {
    "duration": 6,
    "start_time": "2023-02-26T00:18:58.990Z"
   },
   {
    "duration": 95,
    "start_time": "2023-02-26T00:18:58.998Z"
   },
   {
    "duration": 8,
    "start_time": "2023-02-26T00:18:59.095Z"
   },
   {
    "duration": 5,
    "start_time": "2023-02-26T00:18:59.105Z"
   },
   {
    "duration": 8,
    "start_time": "2023-02-26T00:18:59.113Z"
   },
   {
    "duration": 150,
    "start_time": "2023-02-26T00:18:59.123Z"
   },
   {
    "duration": 1364,
    "start_time": "2023-02-26T00:19:24.803Z"
   },
   {
    "duration": 342,
    "start_time": "2023-02-26T00:19:26.169Z"
   },
   {
    "duration": 3,
    "start_time": "2023-02-26T00:19:26.512Z"
   },
   {
    "duration": 359,
    "start_time": "2023-02-26T00:19:26.517Z"
   },
   {
    "duration": 336,
    "start_time": "2023-02-26T00:19:26.877Z"
   },
   {
    "duration": 342,
    "start_time": "2023-02-26T00:19:27.216Z"
   },
   {
    "duration": 5,
    "start_time": "2023-02-26T00:19:27.559Z"
   },
   {
    "duration": 38,
    "start_time": "2023-02-26T00:19:27.566Z"
   },
   {
    "duration": 200,
    "start_time": "2023-02-26T00:19:27.606Z"
   },
   {
    "duration": 177,
    "start_time": "2023-02-26T00:19:27.809Z"
   },
   {
    "duration": 98,
    "start_time": "2023-02-26T00:19:27.988Z"
   },
   {
    "duration": 13,
    "start_time": "2023-02-26T00:19:28.088Z"
   },
   {
    "duration": 10,
    "start_time": "2023-02-26T00:19:28.103Z"
   },
   {
    "duration": 8,
    "start_time": "2023-02-26T00:19:28.114Z"
   },
   {
    "duration": 18,
    "start_time": "2023-02-26T00:19:28.124Z"
   },
   {
    "duration": 131,
    "start_time": "2023-02-26T00:19:28.144Z"
   },
   {
    "duration": 1567,
    "start_time": "2023-02-26T00:19:55.014Z"
   },
   {
    "duration": 370,
    "start_time": "2023-02-26T00:19:56.583Z"
   },
   {
    "duration": 4,
    "start_time": "2023-02-26T00:19:56.955Z"
   },
   {
    "duration": 369,
    "start_time": "2023-02-26T00:19:56.961Z"
   },
   {
    "duration": 359,
    "start_time": "2023-02-26T00:19:57.332Z"
   },
   {
    "duration": 339,
    "start_time": "2023-02-26T00:19:57.693Z"
   },
   {
    "duration": 4,
    "start_time": "2023-02-26T00:19:58.034Z"
   },
   {
    "duration": 48,
    "start_time": "2023-02-26T00:19:58.040Z"
   },
   {
    "duration": 107,
    "start_time": "2023-02-26T00:19:58.092Z"
   },
   {
    "duration": 196,
    "start_time": "2023-02-26T00:19:58.200Z"
   },
   {
    "duration": 191,
    "start_time": "2023-02-26T00:19:58.398Z"
   },
   {
    "duration": 7,
    "start_time": "2023-02-26T00:19:58.591Z"
   },
   {
    "duration": 7,
    "start_time": "2023-02-26T00:19:58.600Z"
   },
   {
    "duration": 8,
    "start_time": "2023-02-26T00:19:58.610Z"
   },
   {
    "duration": 7,
    "start_time": "2023-02-26T00:19:58.620Z"
   },
   {
    "duration": 1195,
    "start_time": "2023-02-26T00:19:58.628Z"
   },
   {
    "duration": 1097,
    "start_time": "2023-02-26T00:20:37.046Z"
   },
   {
    "duration": 1124,
    "start_time": "2023-02-26T00:20:38.307Z"
   },
   {
    "duration": 6,
    "start_time": "2023-02-26T00:22:28.902Z"
   },
   {
    "duration": 1125,
    "start_time": "2023-02-26T00:22:29.293Z"
   },
   {
    "duration": 1268,
    "start_time": "2023-02-26T00:22:53.105Z"
   },
   {
    "duration": 1266,
    "start_time": "2023-02-26T00:22:54.374Z"
   },
   {
    "duration": 8,
    "start_time": "2023-02-26T00:23:05.614Z"
   },
   {
    "duration": 1146,
    "start_time": "2023-02-26T00:23:05.894Z"
   },
   {
    "duration": 1148,
    "start_time": "2023-02-26T00:23:07.043Z"
   },
   {
    "duration": 1156,
    "start_time": "2023-02-26T00:23:08.193Z"
   },
   {
    "duration": 6,
    "start_time": "2023-02-26T00:23:19.005Z"
   },
   {
    "duration": 1103,
    "start_time": "2023-02-26T00:23:19.648Z"
   },
   {
    "duration": 1146,
    "start_time": "2023-02-26T00:23:21.463Z"
   },
   {
    "duration": 1209,
    "start_time": "2023-02-26T00:23:23.222Z"
   },
   {
    "duration": 1328,
    "start_time": "2023-02-26T00:29:02.248Z"
   },
   {
    "duration": 358,
    "start_time": "2023-02-26T00:29:03.578Z"
   },
   {
    "duration": 3,
    "start_time": "2023-02-26T00:29:03.938Z"
   },
   {
    "duration": 394,
    "start_time": "2023-02-26T00:29:03.942Z"
   },
   {
    "duration": 339,
    "start_time": "2023-02-26T00:29:04.338Z"
   },
   {
    "duration": 334,
    "start_time": "2023-02-26T00:29:04.685Z"
   },
   {
    "duration": 6,
    "start_time": "2023-02-26T00:29:05.021Z"
   },
   {
    "duration": 60,
    "start_time": "2023-02-26T00:29:05.030Z"
   },
   {
    "duration": 109,
    "start_time": "2023-02-26T00:29:05.092Z"
   },
   {
    "duration": 129,
    "start_time": "2023-02-26T00:29:05.288Z"
   },
   {
    "duration": 4,
    "start_time": "2023-02-26T00:29:05.419Z"
   },
   {
    "duration": 4,
    "start_time": "2023-02-26T00:29:05.487Z"
   },
   {
    "duration": 113,
    "start_time": "2023-02-26T00:29:05.493Z"
   },
   {
    "duration": 33,
    "start_time": "2023-02-26T00:29:05.609Z"
   },
   {
    "duration": 25,
    "start_time": "2023-02-26T00:29:05.644Z"
   },
   {
    "duration": 25,
    "start_time": "2023-02-26T00:29:05.671Z"
   },
   {
    "duration": 22,
    "start_time": "2023-02-26T00:29:05.698Z"
   },
   {
    "duration": 23,
    "start_time": "2023-02-26T00:29:05.722Z"
   },
   {
    "duration": 19,
    "start_time": "2023-02-26T00:29:05.747Z"
   },
   {
    "duration": 1199,
    "start_time": "2023-02-26T00:29:05.768Z"
   },
   {
    "duration": 1212,
    "start_time": "2023-02-26T00:29:06.969Z"
   },
   {
    "duration": 1231,
    "start_time": "2023-02-26T00:29:08.183Z"
   },
   {
    "duration": 1338,
    "start_time": "2023-02-26T00:31:58.743Z"
   },
   {
    "duration": 381,
    "start_time": "2023-02-26T00:32:00.084Z"
   },
   {
    "duration": 3,
    "start_time": "2023-02-26T00:32:00.468Z"
   },
   {
    "duration": 386,
    "start_time": "2023-02-26T00:32:00.472Z"
   },
   {
    "duration": 371,
    "start_time": "2023-02-26T00:32:00.861Z"
   },
   {
    "duration": 363,
    "start_time": "2023-02-26T00:32:01.234Z"
   },
   {
    "duration": 5,
    "start_time": "2023-02-26T00:32:01.599Z"
   },
   {
    "duration": 52,
    "start_time": "2023-02-26T00:32:01.605Z"
   },
   {
    "duration": 105,
    "start_time": "2023-02-26T00:32:01.690Z"
   },
   {
    "duration": 200,
    "start_time": "2023-02-26T00:32:01.796Z"
   },
   {
    "duration": 202,
    "start_time": "2023-02-26T00:32:01.999Z"
   },
   {
    "duration": 30,
    "start_time": "2023-02-26T00:32:02.203Z"
   },
   {
    "duration": 25,
    "start_time": "2023-02-26T00:32:02.235Z"
   },
   {
    "duration": 19,
    "start_time": "2023-02-26T00:32:02.263Z"
   },
   {
    "duration": 15,
    "start_time": "2023-02-26T00:32:02.284Z"
   },
   {
    "duration": 1250,
    "start_time": "2023-02-26T00:32:02.301Z"
   },
   {
    "duration": 1157,
    "start_time": "2023-02-26T00:32:03.552Z"
   },
   {
    "duration": 1199,
    "start_time": "2023-02-26T00:32:04.711Z"
   },
   {
    "duration": 1936,
    "start_time": "2023-02-26T21:02:24.783Z"
   },
   {
    "duration": 397,
    "start_time": "2023-02-26T21:02:26.721Z"
   },
   {
    "duration": 3,
    "start_time": "2023-02-26T21:02:27.119Z"
   },
   {
    "duration": 383,
    "start_time": "2023-02-26T21:02:27.124Z"
   },
   {
    "duration": 386,
    "start_time": "2023-02-26T21:02:27.509Z"
   },
   {
    "duration": 376,
    "start_time": "2023-02-26T21:02:27.897Z"
   },
   {
    "duration": 5,
    "start_time": "2023-02-26T21:02:28.275Z"
   },
   {
    "duration": 69,
    "start_time": "2023-02-26T21:02:28.282Z"
   },
   {
    "duration": 112,
    "start_time": "2023-02-26T21:02:28.353Z"
   },
   {
    "duration": 193,
    "start_time": "2023-02-26T21:02:28.468Z"
   },
   {
    "duration": 83,
    "start_time": "2023-02-26T21:02:28.663Z"
   },
   {
    "duration": 100,
    "start_time": "2023-02-26T21:02:28.748Z"
   },
   {
    "duration": 6,
    "start_time": "2023-02-26T21:02:28.854Z"
   },
   {
    "duration": 16,
    "start_time": "2023-02-26T21:02:28.863Z"
   },
   {
    "duration": 8,
    "start_time": "2023-02-26T21:02:28.881Z"
   },
   {
    "duration": 1202,
    "start_time": "2023-02-26T21:02:28.891Z"
   },
   {
    "duration": 1207,
    "start_time": "2023-02-26T21:02:30.094Z"
   },
   {
    "duration": 1156,
    "start_time": "2023-02-26T21:02:31.303Z"
   },
   {
    "duration": 1753,
    "start_time": "2023-02-26T21:25:47.543Z"
   },
   {
    "duration": 1559,
    "start_time": "2023-02-26T21:25:49.302Z"
   },
   {
    "duration": 3,
    "start_time": "2023-02-26T21:25:50.864Z"
   },
   {
    "duration": 451,
    "start_time": "2023-02-26T21:25:50.869Z"
   },
   {
    "duration": 379,
    "start_time": "2023-02-26T21:25:51.322Z"
   },
   {
    "duration": 338,
    "start_time": "2023-02-26T21:25:51.707Z"
   },
   {
    "duration": 6,
    "start_time": "2023-02-26T21:25:52.047Z"
   },
   {
    "duration": 235,
    "start_time": "2023-02-26T21:25:52.056Z"
   },
   {
    "duration": 53,
    "start_time": "2023-02-26T21:25:52.293Z"
   },
   {
    "duration": 180,
    "start_time": "2023-02-26T21:25:52.349Z"
   },
   {
    "duration": 10,
    "start_time": "2023-02-26T21:25:52.590Z"
   },
   {
    "duration": 119,
    "start_time": "2023-02-26T21:25:52.611Z"
   },
   {
    "duration": 13,
    "start_time": "2023-02-26T21:25:52.732Z"
   },
   {
    "duration": 68,
    "start_time": "2023-02-26T21:25:52.747Z"
   },
   {
    "duration": 17,
    "start_time": "2023-02-26T21:25:52.818Z"
   },
   {
    "duration": 1263,
    "start_time": "2023-02-26T21:25:52.836Z"
   },
   {
    "duration": 1206,
    "start_time": "2023-02-26T21:25:54.101Z"
   },
   {
    "duration": 1300,
    "start_time": "2023-02-26T21:25:55.309Z"
   },
   {
    "duration": 1566,
    "start_time": "2023-02-26T21:26:08.928Z"
   },
   {
    "duration": 482,
    "start_time": "2023-02-26T21:26:10.499Z"
   },
   {
    "duration": 4,
    "start_time": "2023-02-26T21:26:10.983Z"
   },
   {
    "duration": 441,
    "start_time": "2023-02-26T21:26:10.989Z"
   },
   {
    "duration": 363,
    "start_time": "2023-02-26T21:26:11.432Z"
   },
   {
    "duration": 330,
    "start_time": "2023-02-26T21:26:11.797Z"
   },
   {
    "duration": 4,
    "start_time": "2023-02-26T21:26:12.129Z"
   },
   {
    "duration": 53,
    "start_time": "2023-02-26T21:26:12.135Z"
   },
   {
    "duration": 141,
    "start_time": "2023-02-26T21:26:12.190Z"
   },
   {
    "duration": 200,
    "start_time": "2023-02-26T21:26:12.334Z"
   },
   {
    "duration": 155,
    "start_time": "2023-02-26T21:26:12.537Z"
   },
   {
    "duration": 36,
    "start_time": "2023-02-26T21:26:12.693Z"
   },
   {
    "duration": 9,
    "start_time": "2023-02-26T21:26:12.731Z"
   },
   {
    "duration": 11,
    "start_time": "2023-02-26T21:26:12.742Z"
   },
   {
    "duration": 8,
    "start_time": "2023-02-26T21:26:12.755Z"
   },
   {
    "duration": 1357,
    "start_time": "2023-02-26T21:26:12.765Z"
   },
   {
    "duration": 1307,
    "start_time": "2023-02-26T21:26:14.128Z"
   },
   {
    "duration": 1368,
    "start_time": "2023-02-26T21:26:15.437Z"
   },
   {
    "duration": 1655,
    "start_time": "2023-02-26T21:30:35.320Z"
   },
   {
    "duration": 470,
    "start_time": "2023-02-26T21:30:36.978Z"
   },
   {
    "duration": 4,
    "start_time": "2023-02-26T21:30:37.450Z"
   },
   {
    "duration": 388,
    "start_time": "2023-02-26T21:30:37.456Z"
   },
   {
    "duration": 374,
    "start_time": "2023-02-26T21:30:37.847Z"
   },
   {
    "duration": 438,
    "start_time": "2023-02-26T21:30:38.224Z"
   },
   {
    "duration": 5,
    "start_time": "2023-02-26T21:30:38.664Z"
   },
   {
    "duration": 141,
    "start_time": "2023-02-26T21:30:38.671Z"
   },
   {
    "duration": 172,
    "start_time": "2023-02-26T21:30:38.824Z"
   },
   {
    "duration": 209,
    "start_time": "2023-02-26T21:30:38.999Z"
   },
   {
    "duration": 14,
    "start_time": "2023-02-26T21:30:39.213Z"
   },
   {
    "duration": 52,
    "start_time": "2023-02-26T21:30:39.287Z"
   },
   {
    "duration": 11,
    "start_time": "2023-02-26T21:30:39.341Z"
   },
   {
    "duration": 24,
    "start_time": "2023-02-26T21:30:39.356Z"
   },
   {
    "duration": 8,
    "start_time": "2023-02-26T21:30:39.382Z"
   },
   {
    "duration": 1354,
    "start_time": "2023-02-26T21:30:39.392Z"
   },
   {
    "duration": 1304,
    "start_time": "2023-02-26T21:30:40.749Z"
   },
   {
    "duration": 1432,
    "start_time": "2023-02-26T21:30:42.055Z"
   },
   {
    "duration": 1571,
    "start_time": "2023-02-26T21:46:12.983Z"
   },
   {
    "duration": 423,
    "start_time": "2023-02-26T21:46:14.556Z"
   },
   {
    "duration": 4,
    "start_time": "2023-02-26T21:46:14.981Z"
   },
   {
    "duration": 498,
    "start_time": "2023-02-26T21:46:14.987Z"
   },
   {
    "duration": 369,
    "start_time": "2023-02-26T21:46:15.490Z"
   },
   {
    "duration": 435,
    "start_time": "2023-02-26T21:46:15.861Z"
   },
   {
    "duration": 18,
    "start_time": "2023-02-26T21:46:16.299Z"
   },
   {
    "duration": 194,
    "start_time": "2023-02-26T21:46:16.320Z"
   },
   {
    "duration": 129,
    "start_time": "2023-02-26T21:46:16.522Z"
   },
   {
    "duration": 158,
    "start_time": "2023-02-26T21:46:16.686Z"
   },
   {
    "duration": 5,
    "start_time": "2023-02-26T21:46:16.846Z"
   },
   {
    "duration": 146,
    "start_time": "2023-02-26T21:46:16.853Z"
   },
   {
    "duration": 44,
    "start_time": "2023-02-26T21:46:17.003Z"
   },
   {
    "duration": 6,
    "start_time": "2023-02-26T21:46:17.050Z"
   },
   {
    "duration": 8,
    "start_time": "2023-02-26T21:46:17.058Z"
   },
   {
    "duration": 1333,
    "start_time": "2023-02-26T21:46:17.068Z"
   },
   {
    "duration": 1336,
    "start_time": "2023-02-26T21:46:18.426Z"
   },
   {
    "duration": 1612,
    "start_time": "2023-02-26T21:46:19.765Z"
   },
   {
    "duration": 1841,
    "start_time": "2023-02-26T21:50:41.009Z"
   },
   {
    "duration": 611,
    "start_time": "2023-02-26T21:50:42.852Z"
   },
   {
    "duration": 4,
    "start_time": "2023-02-26T21:50:43.465Z"
   },
   {
    "duration": 360,
    "start_time": "2023-02-26T21:50:43.470Z"
   },
   {
    "duration": 354,
    "start_time": "2023-02-26T21:50:43.833Z"
   },
   {
    "duration": 336,
    "start_time": "2023-02-26T21:50:44.195Z"
   },
   {
    "duration": 5,
    "start_time": "2023-02-26T21:50:44.532Z"
   },
   {
    "duration": 68,
    "start_time": "2023-02-26T21:50:44.539Z"
   },
   {
    "duration": 117,
    "start_time": "2023-02-26T21:50:44.616Z"
   },
   {
    "duration": 109,
    "start_time": "2023-02-26T21:50:44.792Z"
   },
   {
    "duration": 134,
    "start_time": "2023-02-26T21:50:44.904Z"
   },
   {
    "duration": 27,
    "start_time": "2023-02-26T21:50:45.040Z"
   },
   {
    "duration": 54,
    "start_time": "2023-02-26T21:50:45.069Z"
   },
   {
    "duration": 27,
    "start_time": "2023-02-26T21:50:45.127Z"
   },
   {
    "duration": 33,
    "start_time": "2023-02-26T21:50:45.156Z"
   },
   {
    "duration": 1481,
    "start_time": "2023-02-26T21:50:45.194Z"
   },
   {
    "duration": 1264,
    "start_time": "2023-02-26T21:50:46.678Z"
   },
   {
    "duration": 1289,
    "start_time": "2023-02-26T21:50:47.944Z"
   },
   {
    "duration": 8,
    "start_time": "2023-02-26T21:51:13.918Z"
   },
   {
    "duration": 1554,
    "start_time": "2023-02-26T21:51:14.850Z"
   },
   {
    "duration": 9,
    "start_time": "2023-02-26T21:51:34.320Z"
   },
   {
    "duration": 1343,
    "start_time": "2023-02-26T21:51:35.204Z"
   },
   {
    "duration": 1540,
    "start_time": "2023-02-26T21:52:55.437Z"
   },
   {
    "duration": 1398,
    "start_time": "2023-02-26T21:52:56.980Z"
   },
   {
    "duration": 1696,
    "start_time": "2023-02-26T21:53:59.175Z"
   },
   {
    "duration": 506,
    "start_time": "2023-02-26T21:54:00.873Z"
   },
   {
    "duration": 4,
    "start_time": "2023-02-26T21:54:01.381Z"
   },
   {
    "duration": 459,
    "start_time": "2023-02-26T21:54:01.387Z"
   },
   {
    "duration": 379,
    "start_time": "2023-02-26T21:54:01.851Z"
   },
   {
    "duration": 410,
    "start_time": "2023-02-26T21:54:02.232Z"
   },
   {
    "duration": 6,
    "start_time": "2023-02-26T21:54:02.644Z"
   },
   {
    "duration": 95,
    "start_time": "2023-02-26T21:54:02.652Z"
   },
   {
    "duration": 147,
    "start_time": "2023-02-26T21:54:02.749Z"
   },
   {
    "duration": 194,
    "start_time": "2023-02-26T21:54:02.905Z"
   },
   {
    "duration": 10,
    "start_time": "2023-02-26T21:54:03.108Z"
   },
   {
    "duration": 67,
    "start_time": "2023-02-26T21:54:03.185Z"
   },
   {
    "duration": 18,
    "start_time": "2023-02-26T21:54:03.254Z"
   },
   {
    "duration": 21,
    "start_time": "2023-02-26T21:54:03.276Z"
   },
   {
    "duration": 28,
    "start_time": "2023-02-26T21:54:03.301Z"
   },
   {
    "duration": 1285,
    "start_time": "2023-02-26T21:54:03.331Z"
   },
   {
    "duration": 1360,
    "start_time": "2023-02-26T21:54:04.618Z"
   },
   {
    "duration": 1294,
    "start_time": "2023-02-26T21:54:05.980Z"
   },
   {
    "duration": 1889,
    "start_time": "2023-02-26T21:54:59.208Z"
   },
   {
    "duration": 612,
    "start_time": "2023-02-26T21:55:01.099Z"
   },
   {
    "duration": 8,
    "start_time": "2023-02-26T21:55:01.713Z"
   },
   {
    "duration": 523,
    "start_time": "2023-02-26T21:55:01.725Z"
   },
   {
    "duration": 482,
    "start_time": "2023-02-26T21:55:02.252Z"
   },
   {
    "duration": 478,
    "start_time": "2023-02-26T21:55:02.737Z"
   },
   {
    "duration": 15,
    "start_time": "2023-02-26T21:55:03.222Z"
   },
   {
    "duration": 151,
    "start_time": "2023-02-26T21:55:03.247Z"
   },
   {
    "duration": 122,
    "start_time": "2023-02-26T21:55:03.409Z"
   },
   {
    "duration": 129,
    "start_time": "2023-02-26T21:55:03.586Z"
   },
   {
    "duration": 58,
    "start_time": "2023-02-26T21:55:03.742Z"
   },
   {
    "duration": 22,
    "start_time": "2023-02-26T21:55:03.808Z"
   },
   {
    "duration": 10,
    "start_time": "2023-02-26T21:55:03.832Z"
   },
   {
    "duration": 8,
    "start_time": "2023-02-26T21:55:03.846Z"
   },
   {
    "duration": 25,
    "start_time": "2023-02-26T21:55:03.857Z"
   },
   {
    "duration": 1947,
    "start_time": "2023-02-26T21:55:03.890Z"
   },
   {
    "duration": 1419,
    "start_time": "2023-02-26T21:55:05.842Z"
   },
   {
    "duration": 1750,
    "start_time": "2023-02-26T21:55:07.263Z"
   },
   {
    "duration": 1515,
    "start_time": "2023-02-26T21:57:00.784Z"
   },
   {
    "duration": 427,
    "start_time": "2023-02-26T21:57:02.301Z"
   },
   {
    "duration": 4,
    "start_time": "2023-02-26T21:57:02.729Z"
   },
   {
    "duration": 426,
    "start_time": "2023-02-26T21:57:02.734Z"
   },
   {
    "duration": 341,
    "start_time": "2023-02-26T21:57:03.162Z"
   },
   {
    "duration": 349,
    "start_time": "2023-02-26T21:57:03.506Z"
   },
   {
    "duration": 6,
    "start_time": "2023-02-26T21:57:03.856Z"
   },
   {
    "duration": 97,
    "start_time": "2023-02-26T21:57:03.863Z"
   },
   {
    "duration": 144,
    "start_time": "2023-02-26T21:57:03.963Z"
   },
   {
    "duration": 118,
    "start_time": "2023-02-26T21:57:04.110Z"
   },
   {
    "duration": 7,
    "start_time": "2023-02-26T21:57:04.294Z"
   },
   {
    "duration": 121,
    "start_time": "2023-02-26T21:57:04.307Z"
   },
   {
    "duration": 9,
    "start_time": "2023-02-26T21:57:04.430Z"
   },
   {
    "duration": 7,
    "start_time": "2023-02-26T21:57:04.440Z"
   },
   {
    "duration": 8,
    "start_time": "2023-02-26T21:57:04.448Z"
   },
   {
    "duration": 1273,
    "start_time": "2023-02-26T21:57:04.458Z"
   },
   {
    "duration": 1225,
    "start_time": "2023-02-26T21:57:05.733Z"
   },
   {
    "duration": 1233,
    "start_time": "2023-02-26T21:57:06.960Z"
   },
   {
    "duration": 1521,
    "start_time": "2023-02-26T21:57:50.840Z"
   },
   {
    "duration": 418,
    "start_time": "2023-02-26T21:57:52.364Z"
   },
   {
    "duration": 10,
    "start_time": "2023-02-26T21:57:52.784Z"
   },
   {
    "duration": 456,
    "start_time": "2023-02-26T21:57:52.797Z"
   },
   {
    "duration": 349,
    "start_time": "2023-02-26T21:57:53.256Z"
   },
   {
    "duration": 326,
    "start_time": "2023-02-26T21:57:53.607Z"
   },
   {
    "duration": 5,
    "start_time": "2023-02-26T21:57:53.935Z"
   },
   {
    "duration": 145,
    "start_time": "2023-02-26T21:57:53.941Z"
   },
   {
    "duration": 33,
    "start_time": "2023-02-26T21:57:54.102Z"
   },
   {
    "duration": 114,
    "start_time": "2023-02-26T21:57:54.209Z"
   },
   {
    "duration": 61,
    "start_time": "2023-02-26T21:57:54.325Z"
   },
   {
    "duration": 8,
    "start_time": "2023-02-26T21:57:54.395Z"
   },
   {
    "duration": 120,
    "start_time": "2023-02-26T21:57:54.405Z"
   },
   {
    "duration": 12,
    "start_time": "2023-02-26T21:57:54.528Z"
   },
   {
    "duration": 23,
    "start_time": "2023-02-26T21:57:54.542Z"
   },
   {
    "duration": 1431,
    "start_time": "2023-02-26T21:57:54.567Z"
   },
   {
    "duration": 1234,
    "start_time": "2023-02-26T21:57:56.008Z"
   },
   {
    "duration": 1252,
    "start_time": "2023-02-26T21:57:57.244Z"
   },
   {
    "duration": 1548,
    "start_time": "2023-02-26T22:07:39.029Z"
   },
   {
    "duration": 404,
    "start_time": "2023-02-26T22:07:40.579Z"
   },
   {
    "duration": 5,
    "start_time": "2023-02-26T22:07:40.989Z"
   },
   {
    "duration": 405,
    "start_time": "2023-02-26T22:07:41.002Z"
   },
   {
    "duration": 362,
    "start_time": "2023-02-26T22:07:41.416Z"
   },
   {
    "duration": 339,
    "start_time": "2023-02-26T22:07:41.779Z"
   },
   {
    "duration": 5,
    "start_time": "2023-02-26T22:07:42.120Z"
   },
   {
    "duration": 65,
    "start_time": "2023-02-26T22:07:42.126Z"
   },
   {
    "duration": 118,
    "start_time": "2023-02-26T22:07:42.207Z"
   },
   {
    "duration": 220,
    "start_time": "2023-02-26T22:07:42.328Z"
   },
   {
    "duration": 46,
    "start_time": "2023-02-26T22:07:42.551Z"
   },
   {
    "duration": 123,
    "start_time": "2023-02-26T22:07:42.602Z"
   },
   {
    "duration": 22,
    "start_time": "2023-02-26T22:07:42.727Z"
   },
   {
    "duration": 12,
    "start_time": "2023-02-26T22:07:42.751Z"
   },
   {
    "duration": 60,
    "start_time": "2023-02-26T22:07:42.765Z"
   },
   {
    "duration": 1289,
    "start_time": "2023-02-26T22:07:42.827Z"
   },
   {
    "duration": 1209,
    "start_time": "2023-02-26T22:07:44.121Z"
   },
   {
    "duration": 1239,
    "start_time": "2023-02-26T22:07:45.332Z"
   },
   {
    "duration": 1568,
    "start_time": "2023-02-26T22:10:01.714Z"
   },
   {
    "duration": 427,
    "start_time": "2023-02-26T22:10:03.284Z"
   },
   {
    "duration": 4,
    "start_time": "2023-02-26T22:10:03.713Z"
   },
   {
    "duration": 432,
    "start_time": "2023-02-26T22:10:03.722Z"
   },
   {
    "duration": 356,
    "start_time": "2023-02-26T22:10:04.157Z"
   },
   {
    "duration": 322,
    "start_time": "2023-02-26T22:10:04.517Z"
   },
   {
    "duration": 5,
    "start_time": "2023-02-26T22:10:04.840Z"
   },
   {
    "duration": 72,
    "start_time": "2023-02-26T22:10:04.847Z"
   },
   {
    "duration": 222,
    "start_time": "2023-02-26T22:10:04.922Z"
   },
   {
    "duration": 173,
    "start_time": "2023-02-26T22:10:05.149Z"
   },
   {
    "duration": 204,
    "start_time": "2023-02-26T22:10:05.324Z"
   },
   {
    "duration": 17,
    "start_time": "2023-02-26T22:10:05.530Z"
   },
   {
    "duration": 84,
    "start_time": "2023-02-26T22:10:05.550Z"
   },
   {
    "duration": 26,
    "start_time": "2023-02-26T22:10:05.637Z"
   },
   {
    "duration": 62,
    "start_time": "2023-02-26T22:10:05.665Z"
   },
   {
    "duration": 1252,
    "start_time": "2023-02-26T22:10:05.730Z"
   },
   {
    "duration": 1235,
    "start_time": "2023-02-26T22:10:06.989Z"
   },
   {
    "duration": 1179,
    "start_time": "2023-02-26T22:10:08.227Z"
   },
   {
    "duration": 1469,
    "start_time": "2023-02-26T22:12:18.130Z"
   },
   {
    "duration": 435,
    "start_time": "2023-02-26T22:12:19.607Z"
   },
   {
    "duration": 3,
    "start_time": "2023-02-26T22:12:20.044Z"
   },
   {
    "duration": 385,
    "start_time": "2023-02-26T22:12:20.048Z"
   },
   {
    "duration": 361,
    "start_time": "2023-02-26T22:12:20.436Z"
   },
   {
    "duration": 315,
    "start_time": "2023-02-26T22:12:20.798Z"
   },
   {
    "duration": 6,
    "start_time": "2023-02-26T22:12:21.115Z"
   },
   {
    "duration": 110,
    "start_time": "2023-02-26T22:12:21.122Z"
   },
   {
    "duration": 183,
    "start_time": "2023-02-26T22:12:21.236Z"
   },
   {
    "duration": 205,
    "start_time": "2023-02-26T22:12:21.421Z"
   },
   {
    "duration": 185,
    "start_time": "2023-02-26T22:12:21.628Z"
   },
   {
    "duration": 193,
    "start_time": "2023-02-26T22:12:21.817Z"
   },
   {
    "duration": 35,
    "start_time": "2023-02-26T22:12:22.012Z"
   },
   {
    "duration": 70,
    "start_time": "2023-02-26T22:12:22.049Z"
   },
   {
    "duration": 28,
    "start_time": "2023-02-26T22:12:22.121Z"
   },
   {
    "duration": 1376,
    "start_time": "2023-02-26T22:12:22.150Z"
   },
   {
    "duration": 1201,
    "start_time": "2023-02-26T22:12:23.528Z"
   },
   {
    "duration": 1307,
    "start_time": "2023-02-26T22:12:24.731Z"
   },
   {
    "duration": 1492,
    "start_time": "2023-02-26T22:13:43.954Z"
   },
   {
    "duration": 456,
    "start_time": "2023-02-26T22:13:45.448Z"
   },
   {
    "duration": 4,
    "start_time": "2023-02-26T22:13:45.907Z"
   },
   {
    "duration": 408,
    "start_time": "2023-02-26T22:13:45.913Z"
   },
   {
    "duration": 378,
    "start_time": "2023-02-26T22:13:46.324Z"
   },
   {
    "duration": 332,
    "start_time": "2023-02-26T22:13:46.708Z"
   },
   {
    "duration": 5,
    "start_time": "2023-02-26T22:13:47.042Z"
   },
   {
    "duration": 45,
    "start_time": "2023-02-26T22:13:47.048Z"
   },
   {
    "duration": 125,
    "start_time": "2023-02-26T22:13:47.097Z"
   },
   {
    "duration": 194,
    "start_time": "2023-02-26T22:13:47.225Z"
   },
   {
    "duration": 72,
    "start_time": "2023-02-26T22:13:47.421Z"
   },
   {
    "duration": 127,
    "start_time": "2023-02-26T22:13:47.495Z"
   },
   {
    "duration": 11,
    "start_time": "2023-02-26T22:13:47.624Z"
   },
   {
    "duration": 19,
    "start_time": "2023-02-26T22:13:47.638Z"
   },
   {
    "duration": 68,
    "start_time": "2023-02-26T22:13:47.658Z"
   },
   {
    "duration": 1224,
    "start_time": "2023-02-26T22:13:47.728Z"
   },
   {
    "duration": 1173,
    "start_time": "2023-02-26T22:13:48.954Z"
   },
   {
    "duration": 1177,
    "start_time": "2023-02-26T22:13:50.129Z"
   },
   {
    "duration": 1527,
    "start_time": "2023-02-26T22:14:31.072Z"
   },
   {
    "duration": 446,
    "start_time": "2023-02-26T22:14:32.610Z"
   },
   {
    "duration": 4,
    "start_time": "2023-02-26T22:14:33.058Z"
   },
   {
    "duration": 462,
    "start_time": "2023-02-26T22:14:33.065Z"
   },
   {
    "duration": 364,
    "start_time": "2023-02-26T22:14:33.530Z"
   },
   {
    "duration": 324,
    "start_time": "2023-02-26T22:14:33.898Z"
   },
   {
    "duration": 5,
    "start_time": "2023-02-26T22:14:34.223Z"
   },
   {
    "duration": 80,
    "start_time": "2023-02-26T22:14:34.230Z"
   },
   {
    "duration": 186,
    "start_time": "2023-02-26T22:14:34.313Z"
   },
   {
    "duration": 148,
    "start_time": "2023-02-26T22:14:34.504Z"
   },
   {
    "duration": 8,
    "start_time": "2023-02-26T22:14:34.685Z"
   },
   {
    "duration": 95,
    "start_time": "2023-02-26T22:14:34.695Z"
   },
   {
    "duration": 44,
    "start_time": "2023-02-26T22:14:34.796Z"
   },
   {
    "duration": 16,
    "start_time": "2023-02-26T22:14:34.843Z"
   },
   {
    "duration": 18,
    "start_time": "2023-02-26T22:14:34.861Z"
   },
   {
    "duration": 1411,
    "start_time": "2023-02-26T22:14:34.881Z"
   },
   {
    "duration": 1151,
    "start_time": "2023-02-26T22:14:36.296Z"
   },
   {
    "duration": 1167,
    "start_time": "2023-02-26T22:14:37.449Z"
   },
   {
    "duration": 54,
    "start_time": "2023-02-26T22:15:25.222Z"
   },
   {
    "duration": 11,
    "start_time": "2023-02-26T22:15:29.207Z"
   },
   {
    "duration": 1236,
    "start_time": "2023-02-26T22:15:30.144Z"
   },
   {
    "duration": 1263,
    "start_time": "2023-02-26T22:15:31.382Z"
   },
   {
    "duration": 1257,
    "start_time": "2023-02-26T22:15:32.647Z"
   },
   {
    "duration": 7,
    "start_time": "2023-02-26T22:15:39.813Z"
   },
   {
    "duration": 1227,
    "start_time": "2023-02-26T22:15:40.580Z"
   },
   {
    "duration": 1228,
    "start_time": "2023-02-26T22:15:41.809Z"
   },
   {
    "duration": 1448,
    "start_time": "2023-02-26T22:15:50.475Z"
   },
   {
    "duration": 394,
    "start_time": "2023-02-26T22:15:51.925Z"
   },
   {
    "duration": 3,
    "start_time": "2023-02-26T22:15:52.322Z"
   },
   {
    "duration": 430,
    "start_time": "2023-02-26T22:15:52.327Z"
   },
   {
    "duration": 367,
    "start_time": "2023-02-26T22:15:52.760Z"
   },
   {
    "duration": 383,
    "start_time": "2023-02-26T22:15:53.129Z"
   },
   {
    "duration": 4,
    "start_time": "2023-02-26T22:15:53.514Z"
   },
   {
    "duration": 71,
    "start_time": "2023-02-26T22:15:53.520Z"
   },
   {
    "duration": 116,
    "start_time": "2023-02-26T22:15:53.593Z"
   },
   {
    "duration": 194,
    "start_time": "2023-02-26T22:15:53.711Z"
   },
   {
    "duration": 202,
    "start_time": "2023-02-26T22:15:53.907Z"
   },
   {
    "duration": 16,
    "start_time": "2023-02-26T22:15:54.110Z"
   },
   {
    "duration": 82,
    "start_time": "2023-02-26T22:15:54.128Z"
   },
   {
    "duration": 19,
    "start_time": "2023-02-26T22:15:54.213Z"
   },
   {
    "duration": 10,
    "start_time": "2023-02-26T22:15:54.233Z"
   },
   {
    "duration": 1300,
    "start_time": "2023-02-26T22:15:54.244Z"
   },
   {
    "duration": 1266,
    "start_time": "2023-02-26T22:15:55.547Z"
   },
   {
    "duration": 1236,
    "start_time": "2023-02-26T22:15:56.815Z"
   },
   {
    "duration": 1204,
    "start_time": "2023-02-26T22:16:06.577Z"
   },
   {
    "duration": 1439,
    "start_time": "2023-02-26T22:17:15.867Z"
   },
   {
    "duration": 396,
    "start_time": "2023-02-26T22:17:17.308Z"
   },
   {
    "duration": 8,
    "start_time": "2023-02-26T22:17:17.705Z"
   },
   {
    "duration": 410,
    "start_time": "2023-02-26T22:17:17.716Z"
   },
   {
    "duration": 379,
    "start_time": "2023-02-26T22:17:18.128Z"
   },
   {
    "duration": 338,
    "start_time": "2023-02-26T22:17:18.509Z"
   },
   {
    "duration": 5,
    "start_time": "2023-02-26T22:17:18.848Z"
   },
   {
    "duration": 137,
    "start_time": "2023-02-26T22:17:18.854Z"
   },
   {
    "duration": 195,
    "start_time": "2023-02-26T22:17:18.994Z"
   },
   {
    "duration": 157,
    "start_time": "2023-02-26T22:17:19.196Z"
   },
   {
    "duration": 150,
    "start_time": "2023-02-26T22:17:19.355Z"
   },
   {
    "duration": 9,
    "start_time": "2023-02-26T22:17:19.506Z"
   },
   {
    "duration": 9,
    "start_time": "2023-02-26T22:17:19.516Z"
   },
   {
    "duration": 8,
    "start_time": "2023-02-26T22:17:19.527Z"
   },
   {
    "duration": 7,
    "start_time": "2023-02-26T22:17:19.537Z"
   },
   {
    "duration": 1436,
    "start_time": "2023-02-26T22:17:19.545Z"
   },
   {
    "duration": 1285,
    "start_time": "2023-02-26T22:17:20.982Z"
   },
   {
    "duration": 1336,
    "start_time": "2023-02-26T22:17:22.269Z"
   }
  ],
  "kernelspec": {
   "display_name": "Python 3 (ipykernel)",
   "language": "python",
   "name": "python3"
  },
  "language_info": {
   "codemirror_mode": {
    "name": "ipython",
    "version": 3
   },
   "file_extension": ".py",
   "mimetype": "text/x-python",
   "name": "python",
   "nbconvert_exporter": "python",
   "pygments_lexer": "ipython3",
   "version": "3.9.5"
  },
  "toc": {
   "base_numbering": 1,
   "nav_menu": {},
   "number_sections": true,
   "sideBar": true,
   "skip_h1_title": true,
   "title_cell": "Table of Contents",
   "title_sidebar": "Contents",
   "toc_cell": false,
   "toc_position": {},
   "toc_section_display": true,
   "toc_window_display": false
  }
 },
 "nbformat": 4,
 "nbformat_minor": 2
}
